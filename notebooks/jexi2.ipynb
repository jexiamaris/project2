{
 "metadata": {
  "language_info": {
   "codemirror_mode": {
    "name": "ipython",
    "version": 3
   },
   "file_extension": ".py",
   "mimetype": "text/x-python",
   "name": "python",
   "nbconvert_exporter": "python",
   "pygments_lexer": "ipython3",
   "version": "3.7.7-final"
  },
  "orig_nbformat": 2,
  "kernelspec": {
   "name": "python3",
   "display_name": "Python 3",
   "language": "python"
  }
 },
 "nbformat": 4,
 "nbformat_minor": 2,
 "cells": [
  {
   "cell_type": "code",
   "execution_count": 1,
   "metadata": {},
   "outputs": [],
   "source": [
    "# Initial imports\n",
    "import pandas as pd\n",
    "import numpy as np\n",
    "import matplotlib.pyplot as plt\n",
    "import tensorflow as tf\n",
    "from pathlib import Path\n",
    "\n",
    "%matplotlib inline"
   ]
  },
  {
   "cell_type": "code",
   "execution_count": 2,
   "metadata": {},
   "outputs": [
    {
     "output_type": "execute_result",
     "data": {
      "text/plain": [
       "            Identifier  Bedroom     Price  Average_Market_Days  \\\n",
       "Date                                                             \n",
       "2010-01-31           2        1   67653.0                133.0   \n",
       "2010-01-31           2        2   89995.0                133.0   \n",
       "2010-01-31           2        3  116641.0                133.0   \n",
       "2010-01-31           2        4  167849.0                133.0   \n",
       "2010-01-31           2        5  303323.0                133.0   \n",
       "...                ...      ...       ...                  ...   \n",
       "2020-02-29        1431        4  240716.0                 57.0   \n",
       "2020-02-29        2307        4  230132.0                110.0   \n",
       "2020-02-29        1241        5  281139.0                 72.0   \n",
       "2020-02-29        1800        5  141688.0                123.0   \n",
       "2020-02-29        2601        5  264290.0                 91.5   \n",
       "\n",
       "            RegionName_Austin  RegionName_Beaumont  RegionName_Brownwood  \\\n",
       "Date                                                                       \n",
       "2010-01-31                  0                    0                     0   \n",
       "2010-01-31                  0                    0                     0   \n",
       "2010-01-31                  0                    0                     0   \n",
       "2010-01-31                  0                    0                     0   \n",
       "2010-01-31                  0                    0                     0   \n",
       "...                       ...                  ...                   ...   \n",
       "2020-02-29                  0                    0                     0   \n",
       "2020-02-29                  0                    0                     1   \n",
       "2020-02-29                  0                    0                     0   \n",
       "2020-02-29                  0                    0                     0   \n",
       "2020-02-29                  0                    0                     0   \n",
       "\n",
       "            RegionName_Converse  RegionName_Coppell  RegionName_Crosby  ...  \\\n",
       "Date                                                                    ...   \n",
       "2010-01-31                    0                   0                  0  ...   \n",
       "2010-01-31                    0                   0                  0  ...   \n",
       "2010-01-31                    0                   0                  0  ...   \n",
       "2010-01-31                    0                   0                  0  ...   \n",
       "2010-01-31                    0                   0                  0  ...   \n",
       "...                         ...                 ...                ...  ...   \n",
       "2020-02-29                    0                   0                  0  ...   \n",
       "2020-02-29                    0                   0                  0  ...   \n",
       "2020-02-29                    0                   0                  0  ...   \n",
       "2020-02-29                    0                   0                  0  ...   \n",
       "2020-02-29                    0                   0                  0  ...   \n",
       "\n",
       "            CountyName_Jefferson County  CountyName_McLennan County  \\\n",
       "Date                                                                  \n",
       "2010-01-31                            0                           0   \n",
       "2010-01-31                            0                           0   \n",
       "2010-01-31                            0                           0   \n",
       "2010-01-31                            0                           0   \n",
       "2010-01-31                            0                           0   \n",
       "...                                 ...                         ...   \n",
       "2020-02-29                            0                           0   \n",
       "2020-02-29                            0                           0   \n",
       "2020-02-29                            0                           0   \n",
       "2020-02-29                            0                           0   \n",
       "2020-02-29                            0                           0   \n",
       "\n",
       "            CountyName_Montgomery County  CountyName_Rockwall County  \\\n",
       "Date                                                                   \n",
       "2010-01-31                             0                           0   \n",
       "2010-01-31                             0                           0   \n",
       "2010-01-31                             0                           0   \n",
       "2010-01-31                             0                           0   \n",
       "2010-01-31                             0                           0   \n",
       "...                                  ...                         ...   \n",
       "2020-02-29                             0                           0   \n",
       "2020-02-29                             0                           0   \n",
       "2020-02-29                             0                           0   \n",
       "2020-02-29                             0                           0   \n",
       "2020-02-29                             0                           1   \n",
       "\n",
       "            CountyName_Smith County  CountyName_Tarrant County  \\\n",
       "Date                                                             \n",
       "2010-01-31                        0                          0   \n",
       "2010-01-31                        0                          0   \n",
       "2010-01-31                        0                          0   \n",
       "2010-01-31                        0                          0   \n",
       "2010-01-31                        0                          0   \n",
       "...                             ...                        ...   \n",
       "2020-02-29                        0                          0   \n",
       "2020-02-29                        0                          0   \n",
       "2020-02-29                        0                          1   \n",
       "2020-02-29                        0                          0   \n",
       "2020-02-29                        0                          0   \n",
       "\n",
       "            CountyName_Tom Green County  CountyName_Travis County  \\\n",
       "Date                                                                \n",
       "2010-01-31                            0                         0   \n",
       "2010-01-31                            0                         0   \n",
       "2010-01-31                            0                         0   \n",
       "2010-01-31                            0                         0   \n",
       "2010-01-31                            0                         0   \n",
       "...                                 ...                       ...   \n",
       "2020-02-29                            0                         0   \n",
       "2020-02-29                            0                         0   \n",
       "2020-02-29                            0                         0   \n",
       "2020-02-29                            0                         0   \n",
       "2020-02-29                            0                         0   \n",
       "\n",
       "            CountyName_Val Verde County  CountyName_Williamson County  \n",
       "Date                                                                   \n",
       "2010-01-31                            0                             0  \n",
       "2010-01-31                            0                             0  \n",
       "2010-01-31                            0                             0  \n",
       "2010-01-31                            0                             0  \n",
       "2010-01-31                            0                             0  \n",
       "...                                 ...                           ...  \n",
       "2020-02-29                            0                             0  \n",
       "2020-02-29                            0                             0  \n",
       "2020-02-29                            0                             0  \n",
       "2020-02-29                            0                             0  \n",
       "2020-02-29                            0                             0  \n",
       "\n",
       "[7808 rows x 68 columns]"
      ],
      "text/html": "<div>\n<style scoped>\n    .dataframe tbody tr th:only-of-type {\n        vertical-align: middle;\n    }\n\n    .dataframe tbody tr th {\n        vertical-align: top;\n    }\n\n    .dataframe thead th {\n        text-align: right;\n    }\n</style>\n<table border=\"1\" class=\"dataframe\">\n  <thead>\n    <tr style=\"text-align: right;\">\n      <th></th>\n      <th>Identifier</th>\n      <th>Bedroom</th>\n      <th>Price</th>\n      <th>Average_Market_Days</th>\n      <th>RegionName_Austin</th>\n      <th>RegionName_Beaumont</th>\n      <th>RegionName_Brownwood</th>\n      <th>RegionName_Converse</th>\n      <th>RegionName_Coppell</th>\n      <th>RegionName_Crosby</th>\n      <th>...</th>\n      <th>CountyName_Jefferson County</th>\n      <th>CountyName_McLennan County</th>\n      <th>CountyName_Montgomery County</th>\n      <th>CountyName_Rockwall County</th>\n      <th>CountyName_Smith County</th>\n      <th>CountyName_Tarrant County</th>\n      <th>CountyName_Tom Green County</th>\n      <th>CountyName_Travis County</th>\n      <th>CountyName_Val Verde County</th>\n      <th>CountyName_Williamson County</th>\n    </tr>\n    <tr>\n      <th>Date</th>\n      <th></th>\n      <th></th>\n      <th></th>\n      <th></th>\n      <th></th>\n      <th></th>\n      <th></th>\n      <th></th>\n      <th></th>\n      <th></th>\n      <th></th>\n      <th></th>\n      <th></th>\n      <th></th>\n      <th></th>\n      <th></th>\n      <th></th>\n      <th></th>\n      <th></th>\n      <th></th>\n      <th></th>\n    </tr>\n  </thead>\n  <tbody>\n    <tr>\n      <th>2010-01-31</th>\n      <td>2</td>\n      <td>1</td>\n      <td>67653.0</td>\n      <td>133.0</td>\n      <td>0</td>\n      <td>0</td>\n      <td>0</td>\n      <td>0</td>\n      <td>0</td>\n      <td>0</td>\n      <td>...</td>\n      <td>0</td>\n      <td>0</td>\n      <td>0</td>\n      <td>0</td>\n      <td>0</td>\n      <td>0</td>\n      <td>0</td>\n      <td>0</td>\n      <td>0</td>\n      <td>0</td>\n    </tr>\n    <tr>\n      <th>2010-01-31</th>\n      <td>2</td>\n      <td>2</td>\n      <td>89995.0</td>\n      <td>133.0</td>\n      <td>0</td>\n      <td>0</td>\n      <td>0</td>\n      <td>0</td>\n      <td>0</td>\n      <td>0</td>\n      <td>...</td>\n      <td>0</td>\n      <td>0</td>\n      <td>0</td>\n      <td>0</td>\n      <td>0</td>\n      <td>0</td>\n      <td>0</td>\n      <td>0</td>\n      <td>0</td>\n      <td>0</td>\n    </tr>\n    <tr>\n      <th>2010-01-31</th>\n      <td>2</td>\n      <td>3</td>\n      <td>116641.0</td>\n      <td>133.0</td>\n      <td>0</td>\n      <td>0</td>\n      <td>0</td>\n      <td>0</td>\n      <td>0</td>\n      <td>0</td>\n      <td>...</td>\n      <td>0</td>\n      <td>0</td>\n      <td>0</td>\n      <td>0</td>\n      <td>0</td>\n      <td>0</td>\n      <td>0</td>\n      <td>0</td>\n      <td>0</td>\n      <td>0</td>\n    </tr>\n    <tr>\n      <th>2010-01-31</th>\n      <td>2</td>\n      <td>4</td>\n      <td>167849.0</td>\n      <td>133.0</td>\n      <td>0</td>\n      <td>0</td>\n      <td>0</td>\n      <td>0</td>\n      <td>0</td>\n      <td>0</td>\n      <td>...</td>\n      <td>0</td>\n      <td>0</td>\n      <td>0</td>\n      <td>0</td>\n      <td>0</td>\n      <td>0</td>\n      <td>0</td>\n      <td>0</td>\n      <td>0</td>\n      <td>0</td>\n    </tr>\n    <tr>\n      <th>2010-01-31</th>\n      <td>2</td>\n      <td>5</td>\n      <td>303323.0</td>\n      <td>133.0</td>\n      <td>0</td>\n      <td>0</td>\n      <td>0</td>\n      <td>0</td>\n      <td>0</td>\n      <td>0</td>\n      <td>...</td>\n      <td>0</td>\n      <td>0</td>\n      <td>0</td>\n      <td>0</td>\n      <td>0</td>\n      <td>0</td>\n      <td>0</td>\n      <td>0</td>\n      <td>0</td>\n      <td>0</td>\n    </tr>\n    <tr>\n      <th>...</th>\n      <td>...</td>\n      <td>...</td>\n      <td>...</td>\n      <td>...</td>\n      <td>...</td>\n      <td>...</td>\n      <td>...</td>\n      <td>...</td>\n      <td>...</td>\n      <td>...</td>\n      <td>...</td>\n      <td>...</td>\n      <td>...</td>\n      <td>...</td>\n      <td>...</td>\n      <td>...</td>\n      <td>...</td>\n      <td>...</td>\n      <td>...</td>\n      <td>...</td>\n      <td>...</td>\n    </tr>\n    <tr>\n      <th>2020-02-29</th>\n      <td>1431</td>\n      <td>4</td>\n      <td>240716.0</td>\n      <td>57.0</td>\n      <td>0</td>\n      <td>0</td>\n      <td>0</td>\n      <td>0</td>\n      <td>0</td>\n      <td>0</td>\n      <td>...</td>\n      <td>0</td>\n      <td>0</td>\n      <td>0</td>\n      <td>0</td>\n      <td>0</td>\n      <td>0</td>\n      <td>0</td>\n      <td>0</td>\n      <td>0</td>\n      <td>0</td>\n    </tr>\n    <tr>\n      <th>2020-02-29</th>\n      <td>2307</td>\n      <td>4</td>\n      <td>230132.0</td>\n      <td>110.0</td>\n      <td>0</td>\n      <td>0</td>\n      <td>1</td>\n      <td>0</td>\n      <td>0</td>\n      <td>0</td>\n      <td>...</td>\n      <td>0</td>\n      <td>0</td>\n      <td>0</td>\n      <td>0</td>\n      <td>0</td>\n      <td>0</td>\n      <td>0</td>\n      <td>0</td>\n      <td>0</td>\n      <td>0</td>\n    </tr>\n    <tr>\n      <th>2020-02-29</th>\n      <td>1241</td>\n      <td>5</td>\n      <td>281139.0</td>\n      <td>72.0</td>\n      <td>0</td>\n      <td>0</td>\n      <td>0</td>\n      <td>0</td>\n      <td>0</td>\n      <td>0</td>\n      <td>...</td>\n      <td>0</td>\n      <td>0</td>\n      <td>0</td>\n      <td>0</td>\n      <td>0</td>\n      <td>1</td>\n      <td>0</td>\n      <td>0</td>\n      <td>0</td>\n      <td>0</td>\n    </tr>\n    <tr>\n      <th>2020-02-29</th>\n      <td>1800</td>\n      <td>5</td>\n      <td>141688.0</td>\n      <td>123.0</td>\n      <td>0</td>\n      <td>0</td>\n      <td>0</td>\n      <td>0</td>\n      <td>0</td>\n      <td>0</td>\n      <td>...</td>\n      <td>0</td>\n      <td>0</td>\n      <td>0</td>\n      <td>0</td>\n      <td>0</td>\n      <td>0</td>\n      <td>0</td>\n      <td>0</td>\n      <td>0</td>\n      <td>0</td>\n    </tr>\n    <tr>\n      <th>2020-02-29</th>\n      <td>2601</td>\n      <td>5</td>\n      <td>264290.0</td>\n      <td>91.5</td>\n      <td>0</td>\n      <td>0</td>\n      <td>0</td>\n      <td>0</td>\n      <td>0</td>\n      <td>0</td>\n      <td>...</td>\n      <td>0</td>\n      <td>0</td>\n      <td>0</td>\n      <td>1</td>\n      <td>0</td>\n      <td>0</td>\n      <td>0</td>\n      <td>0</td>\n      <td>0</td>\n      <td>0</td>\n    </tr>\n  </tbody>\n</table>\n<p>7808 rows × 68 columns</p>\n</div>"
     },
     "metadata": {},
     "execution_count": 2
    }
   ],
   "source": [
    "# Load Data \n",
    "housing_df = pd.read_csv(Path(\"../data/housing_data_TX_encoded.csv\"), index_col=\"Date\", parse_dates=True, infer_datetime_format=True)\n",
    "housing_df"
   ]
  },
  {
   "cell_type": "code",
   "execution_count": 4,
   "metadata": {},
   "outputs": [
    {
     "output_type": "stream",
     "name": "stdout",
     "text": [
      "<class 'pandas.core.frame.DataFrame'>\nDatetimeIndex: 7808 entries, 2010-01-31 to 2020-02-29\nData columns (total 68 columns):\n #   Column                                  Non-Null Count  Dtype  \n---  ------                                  --------------  -----  \n 0   Identifier                              7808 non-null   int64  \n 1   Bedroom                                 7808 non-null   int64  \n 2   Price                                   7719 non-null   float64\n 3   Average_Market_Days                     6188 non-null   float64\n 4   RegionName_Austin                       7808 non-null   int64  \n 5   RegionName_Beaumont                     7808 non-null   int64  \n 6   RegionName_Brownwood                    7808 non-null   int64  \n 7   RegionName_Converse                     7808 non-null   int64  \n 8   RegionName_Coppell                      7808 non-null   int64  \n 9   RegionName_Crosby                       7808 non-null   int64  \n 10  RegionName_Dallas                       7808 non-null   int64  \n 11  RegionName_Del Rio                      7808 non-null   int64  \n 12  RegionName_Duncanville                  7808 non-null   int64  \n 13  RegionName_Garland                      7808 non-null   int64  \n 14  RegionName_Georgetown                   7808 non-null   int64  \n 15  RegionName_Haltom City                  7808 non-null   int64  \n 16  RegionName_Houston                      7808 non-null   int64  \n 17  RegionName_New Braunfels                7808 non-null   int64  \n 18  RegionName_Odessa                       7808 non-null   int64  \n 19  RegionName_Pasadena                     7808 non-null   int64  \n 20  RegionName_Porter                       7808 non-null   int64  \n 21  RegionName_Rowlett                      7808 non-null   int64  \n 22  RegionName_Royse City                   7808 non-null   int64  \n 23  RegionName_San Angelo                   7808 non-null   int64  \n 24  RegionName_San Antonio                  7808 non-null   int64  \n 25  RegionName_San Juan                     7808 non-null   int64  \n 26  RegionName_Seguin                       7808 non-null   int64  \n 27  RegionName_Sherman                      7808 non-null   int64  \n 28  RegionName_Socorro                      7808 non-null   int64  \n 29  RegionName_The Colony                   7808 non-null   int64  \n 30  RegionName_Tyler                        7808 non-null   int64  \n 31  RegionName_Waco                         7808 non-null   int64  \n 32  State_TX                                7808 non-null   int64  \n 33  Metro_Austin-Round Rock                 7808 non-null   int64  \n 34  Metro_Beaumont-Port Arthur              7808 non-null   int64  \n 35  Metro_Brownwood                         7808 non-null   int64  \n 36  Metro_Dallas-Fort Worth-Arlington       7808 non-null   int64  \n 37  Metro_Del Rio                           7808 non-null   int64  \n 38  Metro_El Paso                           7808 non-null   int64  \n 39  Metro_Houston-The Woodlands-Sugar Land  7808 non-null   int64  \n 40  Metro_McAllen-Edinburg-Mission          7808 non-null   int64  \n 41  Metro_Odessa                            7808 non-null   int64  \n 42  Metro_San Angelo                        7808 non-null   int64  \n 43  Metro_San Antonio-New Braunfels         7808 non-null   int64  \n 44  Metro_Sherman-Denison                   7808 non-null   int64  \n 45  Metro_Tyler                             7808 non-null   int64  \n 46  Metro_Waco                              7808 non-null   int64  \n 47  CountyName_Bexar County                 7808 non-null   int64  \n 48  CountyName_Brown County                 7808 non-null   int64  \n 49  CountyName_Comal County                 7808 non-null   int64  \n 50  CountyName_Dallas County                7808 non-null   int64  \n 51  CountyName_Denton County                7808 non-null   int64  \n 52  CountyName_Ector County                 7808 non-null   int64  \n 53  CountyName_El Paso County               7808 non-null   int64  \n 54  CountyName_Grayson County               7808 non-null   int64  \n 55  CountyName_Guadalupe County             7808 non-null   int64  \n 56  CountyName_Harris County                7808 non-null   int64  \n 57  CountyName_Hidalgo County               7808 non-null   int64  \n 58  CountyName_Jefferson County             7808 non-null   int64  \n 59  CountyName_McLennan County              7808 non-null   int64  \n 60  CountyName_Montgomery County            7808 non-null   int64  \n 61  CountyName_Rockwall County              7808 non-null   int64  \n 62  CountyName_Smith County                 7808 non-null   int64  \n 63  CountyName_Tarrant County               7808 non-null   int64  \n 64  CountyName_Tom Green County             7808 non-null   int64  \n 65  CountyName_Travis County                7808 non-null   int64  \n 66  CountyName_Val Verde County             7808 non-null   int64  \n 67  CountyName_Williamson County            7808 non-null   int64  \ndtypes: float64(2), int64(66)\nmemory usage: 4.1 MB\n"
     ]
    }
   ],
   "source": [
    "housing_df.info()"
   ]
  },
  {
   "cell_type": "code",
   "execution_count": 5,
   "metadata": {},
   "outputs": [],
   "source": [
    "housing_df= housing_df.dropna()\n",
    "\n"
   ]
  },
  {
   "cell_type": "code",
   "execution_count": 6,
   "metadata": {},
   "outputs": [
    {
     "output_type": "execute_result",
     "data": {
      "text/plain": [
       "                              Identifier   Bedroom     Price  \\\n",
       "Identifier                      1.000000  0.105303 -0.180415   \n",
       "Bedroom                         0.105303  1.000000  0.663834   \n",
       "Price                          -0.180415  0.663834  1.000000   \n",
       "Average_Market_Days             0.290361  0.032462 -0.272578   \n",
       "RegionName_Austin              -0.224389  0.025832  0.421569   \n",
       "...                                  ...       ...       ...   \n",
       "CountyName_Tarrant County       0.129513  0.190054  0.047273   \n",
       "CountyName_Tom Green County    -0.016928 -0.047812 -0.114565   \n",
       "CountyName_Travis County       -0.224389  0.025832  0.421569   \n",
       "CountyName_Val Verde County     0.106869  0.100617  0.034726   \n",
       "CountyName_Williamson County   -0.009665 -0.167695  0.023122   \n",
       "\n",
       "                              Average_Market_Days  RegionName_Austin  \\\n",
       "Identifier                               0.290361          -0.224389   \n",
       "Bedroom                                  0.032462           0.025832   \n",
       "Price                                   -0.272578           0.421569   \n",
       "Average_Market_Days                      1.000000          -0.537790   \n",
       "RegionName_Austin                       -0.537790           1.000000   \n",
       "...                                           ...                ...   \n",
       "CountyName_Tarrant County                0.061262          -0.036677   \n",
       "CountyName_Tom Green County              0.131452          -0.052285   \n",
       "CountyName_Travis County                -0.537790           1.000000   \n",
       "CountyName_Val Verde County             -0.066400          -0.036677   \n",
       "CountyName_Williamson County            -0.095414          -0.036677   \n",
       "\n",
       "                              RegionName_Beaumont  RegionName_Brownwood  \\\n",
       "Identifier                              -0.082539              0.325762   \n",
       "Bedroom                                  0.207186              0.100617   \n",
       "Price                                    0.093830              0.001772   \n",
       "Average_Market_Days                      0.103878              0.117356   \n",
       "RegionName_Austin                       -0.052285             -0.036677   \n",
       "...                                           ...                   ...   \n",
       "CountyName_Tarrant County               -0.022628             -0.015873   \n",
       "CountyName_Tom Green County             -0.032258             -0.022628   \n",
       "CountyName_Travis County                -0.052285             -0.036677   \n",
       "CountyName_Val Verde County             -0.022628             -0.015873   \n",
       "CountyName_Williamson County            -0.022628             -0.015873   \n",
       "\n",
       "                              RegionName_Converse  RegionName_Coppell  \\\n",
       "Identifier                               0.244993            0.135220   \n",
       "Bedroom                                 -0.175311           -0.167695   \n",
       "Price                                   -0.113244           -0.076753   \n",
       "Average_Market_Days                      0.076303           -0.163113   \n",
       "RegionName_Austin                       -0.052285           -0.036677   \n",
       "...                                           ...                 ...   \n",
       "CountyName_Tarrant County               -0.022628           -0.015873   \n",
       "CountyName_Tom Green County             -0.032258           -0.022628   \n",
       "CountyName_Travis County                -0.052285           -0.036677   \n",
       "CountyName_Val Verde County             -0.022628           -0.015873   \n",
       "CountyName_Williamson County            -0.022628           -0.015873   \n",
       "\n",
       "                              RegionName_Crosby  ...  \\\n",
       "Identifier                             0.293913  ...   \n",
       "Bedroom                               -0.078257  ...   \n",
       "Price                                 -0.092379  ...   \n",
       "Average_Market_Days                    0.455852  ...   \n",
       "RegionName_Austin                     -0.036677  ...   \n",
       "...                                         ...  ...   \n",
       "CountyName_Tarrant County             -0.015873  ...   \n",
       "CountyName_Tom Green County           -0.022628  ...   \n",
       "CountyName_Travis County              -0.036677  ...   \n",
       "CountyName_Val Verde County           -0.015873  ...   \n",
       "CountyName_Williamson County          -0.015873  ...   \n",
       "\n",
       "                              CountyName_Jefferson County  \\\n",
       "Identifier                                      -0.082539   \n",
       "Bedroom                                          0.207186   \n",
       "Price                                            0.093830   \n",
       "Average_Market_Days                              0.103878   \n",
       "RegionName_Austin                               -0.052285   \n",
       "...                                                   ...   \n",
       "CountyName_Tarrant County                       -0.022628   \n",
       "CountyName_Tom Green County                     -0.032258   \n",
       "CountyName_Travis County                        -0.052285   \n",
       "CountyName_Val Verde County                     -0.022628   \n",
       "CountyName_Williamson County                    -0.022628   \n",
       "\n",
       "                              CountyName_McLennan County  \\\n",
       "Identifier                                     -0.087008   \n",
       "Bedroom                                        -0.137750   \n",
       "Price                                          -0.211210   \n",
       "Average_Market_Days                            -0.198591   \n",
       "RegionName_Austin                              -0.064559   \n",
       "...                                                  ...   \n",
       "CountyName_Tarrant County                      -0.027940   \n",
       "CountyName_Tom Green County                    -0.039830   \n",
       "CountyName_Travis County                       -0.064559   \n",
       "CountyName_Val Verde County                    -0.027940   \n",
       "CountyName_Williamson County                   -0.027940   \n",
       "\n",
       "                              CountyName_Montgomery County  \\\n",
       "Identifier                                        0.234449   \n",
       "Bedroom                                          -0.078257   \n",
       "Price                                            -0.062991   \n",
       "Average_Market_Days                               0.084473   \n",
       "RegionName_Austin                                -0.036677   \n",
       "...                                                    ...   \n",
       "CountyName_Tarrant County                        -0.015873   \n",
       "CountyName_Tom Green County                      -0.022628   \n",
       "CountyName_Travis County                         -0.036677   \n",
       "CountyName_Val Verde County                      -0.015873   \n",
       "CountyName_Williamson County                     -0.015873   \n",
       "\n",
       "                              CountyName_Rockwall County  \\\n",
       "Identifier                                      0.379887   \n",
       "Bedroom                                         0.190054   \n",
       "Price                                           0.032527   \n",
       "Average_Market_Days                             0.007102   \n",
       "RegionName_Austin                              -0.036677   \n",
       "...                                                  ...   \n",
       "CountyName_Tarrant County                      -0.015873   \n",
       "CountyName_Tom Green County                    -0.022628   \n",
       "CountyName_Travis County                       -0.036677   \n",
       "CountyName_Val Verde County                    -0.015873   \n",
       "CountyName_Williamson County                   -0.015873   \n",
       "\n",
       "                              CountyName_Smith County  \\\n",
       "Identifier                                  -0.107424   \n",
       "Bedroom                                     -0.137750   \n",
       "Price                                       -0.132155   \n",
       "Average_Market_Days                          0.032930   \n",
       "RegionName_Austin                           -0.064559   \n",
       "...                                               ...   \n",
       "CountyName_Tarrant County                   -0.027940   \n",
       "CountyName_Tom Green County                 -0.039830   \n",
       "CountyName_Travis County                    -0.064559   \n",
       "CountyName_Val Verde County                 -0.027940   \n",
       "CountyName_Williamson County                -0.027940   \n",
       "\n",
       "                              CountyName_Tarrant County  \\\n",
       "Identifier                                     0.129513   \n",
       "Bedroom                                        0.190054   \n",
       "Price                                          0.047273   \n",
       "Average_Market_Days                            0.061262   \n",
       "RegionName_Austin                             -0.036677   \n",
       "...                                                 ...   \n",
       "CountyName_Tarrant County                      1.000000   \n",
       "CountyName_Tom Green County                   -0.022628   \n",
       "CountyName_Travis County                      -0.036677   \n",
       "CountyName_Val Verde County                   -0.015873   \n",
       "CountyName_Williamson County                  -0.015873   \n",
       "\n",
       "                              CountyName_Tom Green County  \\\n",
       "Identifier                                      -0.016928   \n",
       "Bedroom                                         -0.047812   \n",
       "Price                                           -0.114565   \n",
       "Average_Market_Days                              0.131452   \n",
       "RegionName_Austin                               -0.052285   \n",
       "...                                                   ...   \n",
       "CountyName_Tarrant County                       -0.022628   \n",
       "CountyName_Tom Green County                      1.000000   \n",
       "CountyName_Travis County                        -0.052285   \n",
       "CountyName_Val Verde County                     -0.022628   \n",
       "CountyName_Williamson County                    -0.022628   \n",
       "\n",
       "                              CountyName_Travis County  \\\n",
       "Identifier                                   -0.224389   \n",
       "Bedroom                                       0.025832   \n",
       "Price                                         0.421569   \n",
       "Average_Market_Days                          -0.537790   \n",
       "RegionName_Austin                             1.000000   \n",
       "...                                                ...   \n",
       "CountyName_Tarrant County                    -0.036677   \n",
       "CountyName_Tom Green County                  -0.052285   \n",
       "CountyName_Travis County                      1.000000   \n",
       "CountyName_Val Verde County                  -0.036677   \n",
       "CountyName_Williamson County                 -0.036677   \n",
       "\n",
       "                              CountyName_Val Verde County  \\\n",
       "Identifier                                       0.106869   \n",
       "Bedroom                                          0.100617   \n",
       "Price                                            0.034726   \n",
       "Average_Market_Days                             -0.066400   \n",
       "RegionName_Austin                               -0.036677   \n",
       "...                                                   ...   \n",
       "CountyName_Tarrant County                       -0.015873   \n",
       "CountyName_Tom Green County                     -0.022628   \n",
       "CountyName_Travis County                        -0.036677   \n",
       "CountyName_Val Verde County                      1.000000   \n",
       "CountyName_Williamson County                    -0.015873   \n",
       "\n",
       "                              CountyName_Williamson County  \n",
       "Identifier                                       -0.009665  \n",
       "Bedroom                                          -0.167695  \n",
       "Price                                             0.023122  \n",
       "Average_Market_Days                              -0.095414  \n",
       "RegionName_Austin                                -0.036677  \n",
       "...                                                    ...  \n",
       "CountyName_Tarrant County                        -0.015873  \n",
       "CountyName_Tom Green County                      -0.022628  \n",
       "CountyName_Travis County                         -0.036677  \n",
       "CountyName_Val Verde County                      -0.015873  \n",
       "CountyName_Williamson County                      1.000000  \n",
       "\n",
       "[68 rows x 68 columns]"
      ],
      "text/html": "<div>\n<style scoped>\n    .dataframe tbody tr th:only-of-type {\n        vertical-align: middle;\n    }\n\n    .dataframe tbody tr th {\n        vertical-align: top;\n    }\n\n    .dataframe thead th {\n        text-align: right;\n    }\n</style>\n<table border=\"1\" class=\"dataframe\">\n  <thead>\n    <tr style=\"text-align: right;\">\n      <th></th>\n      <th>Identifier</th>\n      <th>Bedroom</th>\n      <th>Price</th>\n      <th>Average_Market_Days</th>\n      <th>RegionName_Austin</th>\n      <th>RegionName_Beaumont</th>\n      <th>RegionName_Brownwood</th>\n      <th>RegionName_Converse</th>\n      <th>RegionName_Coppell</th>\n      <th>RegionName_Crosby</th>\n      <th>...</th>\n      <th>CountyName_Jefferson County</th>\n      <th>CountyName_McLennan County</th>\n      <th>CountyName_Montgomery County</th>\n      <th>CountyName_Rockwall County</th>\n      <th>CountyName_Smith County</th>\n      <th>CountyName_Tarrant County</th>\n      <th>CountyName_Tom Green County</th>\n      <th>CountyName_Travis County</th>\n      <th>CountyName_Val Verde County</th>\n      <th>CountyName_Williamson County</th>\n    </tr>\n  </thead>\n  <tbody>\n    <tr>\n      <th>Identifier</th>\n      <td>1.000000</td>\n      <td>0.105303</td>\n      <td>-0.180415</td>\n      <td>0.290361</td>\n      <td>-0.224389</td>\n      <td>-0.082539</td>\n      <td>0.325762</td>\n      <td>0.244993</td>\n      <td>0.135220</td>\n      <td>0.293913</td>\n      <td>...</td>\n      <td>-0.082539</td>\n      <td>-0.087008</td>\n      <td>0.234449</td>\n      <td>0.379887</td>\n      <td>-0.107424</td>\n      <td>0.129513</td>\n      <td>-0.016928</td>\n      <td>-0.224389</td>\n      <td>0.106869</td>\n      <td>-0.009665</td>\n    </tr>\n    <tr>\n      <th>Bedroom</th>\n      <td>0.105303</td>\n      <td>1.000000</td>\n      <td>0.663834</td>\n      <td>0.032462</td>\n      <td>0.025832</td>\n      <td>0.207186</td>\n      <td>0.100617</td>\n      <td>-0.175311</td>\n      <td>-0.167695</td>\n      <td>-0.078257</td>\n      <td>...</td>\n      <td>0.207186</td>\n      <td>-0.137750</td>\n      <td>-0.078257</td>\n      <td>0.190054</td>\n      <td>-0.137750</td>\n      <td>0.190054</td>\n      <td>-0.047812</td>\n      <td>0.025832</td>\n      <td>0.100617</td>\n      <td>-0.167695</td>\n    </tr>\n    <tr>\n      <th>Price</th>\n      <td>-0.180415</td>\n      <td>0.663834</td>\n      <td>1.000000</td>\n      <td>-0.272578</td>\n      <td>0.421569</td>\n      <td>0.093830</td>\n      <td>0.001772</td>\n      <td>-0.113244</td>\n      <td>-0.076753</td>\n      <td>-0.092379</td>\n      <td>...</td>\n      <td>0.093830</td>\n      <td>-0.211210</td>\n      <td>-0.062991</td>\n      <td>0.032527</td>\n      <td>-0.132155</td>\n      <td>0.047273</td>\n      <td>-0.114565</td>\n      <td>0.421569</td>\n      <td>0.034726</td>\n      <td>0.023122</td>\n    </tr>\n    <tr>\n      <th>Average_Market_Days</th>\n      <td>0.290361</td>\n      <td>0.032462</td>\n      <td>-0.272578</td>\n      <td>1.000000</td>\n      <td>-0.537790</td>\n      <td>0.103878</td>\n      <td>0.117356</td>\n      <td>0.076303</td>\n      <td>-0.163113</td>\n      <td>0.455852</td>\n      <td>...</td>\n      <td>0.103878</td>\n      <td>-0.198591</td>\n      <td>0.084473</td>\n      <td>0.007102</td>\n      <td>0.032930</td>\n      <td>0.061262</td>\n      <td>0.131452</td>\n      <td>-0.537790</td>\n      <td>-0.066400</td>\n      <td>-0.095414</td>\n    </tr>\n    <tr>\n      <th>RegionName_Austin</th>\n      <td>-0.224389</td>\n      <td>0.025832</td>\n      <td>0.421569</td>\n      <td>-0.537790</td>\n      <td>1.000000</td>\n      <td>-0.052285</td>\n      <td>-0.036677</td>\n      <td>-0.052285</td>\n      <td>-0.036677</td>\n      <td>-0.036677</td>\n      <td>...</td>\n      <td>-0.052285</td>\n      <td>-0.064559</td>\n      <td>-0.036677</td>\n      <td>-0.036677</td>\n      <td>-0.064559</td>\n      <td>-0.036677</td>\n      <td>-0.052285</td>\n      <td>1.000000</td>\n      <td>-0.036677</td>\n      <td>-0.036677</td>\n    </tr>\n    <tr>\n      <th>...</th>\n      <td>...</td>\n      <td>...</td>\n      <td>...</td>\n      <td>...</td>\n      <td>...</td>\n      <td>...</td>\n      <td>...</td>\n      <td>...</td>\n      <td>...</td>\n      <td>...</td>\n      <td>...</td>\n      <td>...</td>\n      <td>...</td>\n      <td>...</td>\n      <td>...</td>\n      <td>...</td>\n      <td>...</td>\n      <td>...</td>\n      <td>...</td>\n      <td>...</td>\n      <td>...</td>\n    </tr>\n    <tr>\n      <th>CountyName_Tarrant County</th>\n      <td>0.129513</td>\n      <td>0.190054</td>\n      <td>0.047273</td>\n      <td>0.061262</td>\n      <td>-0.036677</td>\n      <td>-0.022628</td>\n      <td>-0.015873</td>\n      <td>-0.022628</td>\n      <td>-0.015873</td>\n      <td>-0.015873</td>\n      <td>...</td>\n      <td>-0.022628</td>\n      <td>-0.027940</td>\n      <td>-0.015873</td>\n      <td>-0.015873</td>\n      <td>-0.027940</td>\n      <td>1.000000</td>\n      <td>-0.022628</td>\n      <td>-0.036677</td>\n      <td>-0.015873</td>\n      <td>-0.015873</td>\n    </tr>\n    <tr>\n      <th>CountyName_Tom Green County</th>\n      <td>-0.016928</td>\n      <td>-0.047812</td>\n      <td>-0.114565</td>\n      <td>0.131452</td>\n      <td>-0.052285</td>\n      <td>-0.032258</td>\n      <td>-0.022628</td>\n      <td>-0.032258</td>\n      <td>-0.022628</td>\n      <td>-0.022628</td>\n      <td>...</td>\n      <td>-0.032258</td>\n      <td>-0.039830</td>\n      <td>-0.022628</td>\n      <td>-0.022628</td>\n      <td>-0.039830</td>\n      <td>-0.022628</td>\n      <td>1.000000</td>\n      <td>-0.052285</td>\n      <td>-0.022628</td>\n      <td>-0.022628</td>\n    </tr>\n    <tr>\n      <th>CountyName_Travis County</th>\n      <td>-0.224389</td>\n      <td>0.025832</td>\n      <td>0.421569</td>\n      <td>-0.537790</td>\n      <td>1.000000</td>\n      <td>-0.052285</td>\n      <td>-0.036677</td>\n      <td>-0.052285</td>\n      <td>-0.036677</td>\n      <td>-0.036677</td>\n      <td>...</td>\n      <td>-0.052285</td>\n      <td>-0.064559</td>\n      <td>-0.036677</td>\n      <td>-0.036677</td>\n      <td>-0.064559</td>\n      <td>-0.036677</td>\n      <td>-0.052285</td>\n      <td>1.000000</td>\n      <td>-0.036677</td>\n      <td>-0.036677</td>\n    </tr>\n    <tr>\n      <th>CountyName_Val Verde County</th>\n      <td>0.106869</td>\n      <td>0.100617</td>\n      <td>0.034726</td>\n      <td>-0.066400</td>\n      <td>-0.036677</td>\n      <td>-0.022628</td>\n      <td>-0.015873</td>\n      <td>-0.022628</td>\n      <td>-0.015873</td>\n      <td>-0.015873</td>\n      <td>...</td>\n      <td>-0.022628</td>\n      <td>-0.027940</td>\n      <td>-0.015873</td>\n      <td>-0.015873</td>\n      <td>-0.027940</td>\n      <td>-0.015873</td>\n      <td>-0.022628</td>\n      <td>-0.036677</td>\n      <td>1.000000</td>\n      <td>-0.015873</td>\n    </tr>\n    <tr>\n      <th>CountyName_Williamson County</th>\n      <td>-0.009665</td>\n      <td>-0.167695</td>\n      <td>0.023122</td>\n      <td>-0.095414</td>\n      <td>-0.036677</td>\n      <td>-0.022628</td>\n      <td>-0.015873</td>\n      <td>-0.022628</td>\n      <td>-0.015873</td>\n      <td>-0.015873</td>\n      <td>...</td>\n      <td>-0.022628</td>\n      <td>-0.027940</td>\n      <td>-0.015873</td>\n      <td>-0.015873</td>\n      <td>-0.027940</td>\n      <td>-0.015873</td>\n      <td>-0.022628</td>\n      <td>-0.036677</td>\n      <td>-0.015873</td>\n      <td>1.000000</td>\n    </tr>\n  </tbody>\n</table>\n<p>68 rows × 68 columns</p>\n</div>"
     },
     "metadata": {},
     "execution_count": 6
    }
   ],
   "source": [
    "housing_price_2020= housing_df.loc['2020']\n",
    "#len(housing_price_2020)\n",
    "housing_price_2020.corr()"
   ]
  },
  {
   "cell_type": "code",
   "execution_count": 7,
   "metadata": {},
   "outputs": [],
   "source": [
    "# Creating the X and y sets\n",
    "X = housing_df.drop(columns=[\"Price\", \"Identifier\", \"State_TX\", \"Metro_Houston-The Woodlands-Sugar Land\"]).values\n",
    "y = housing_df[\"Price\"].values"
   ]
  },
  {
   "cell_type": "code",
   "execution_count": 8,
   "metadata": {},
   "outputs": [],
   "source": [
    "# Creating training, validation, and testing sets\n",
    "from sklearn.model_selection import train_test_split\n",
    "\n",
    "X_train, X_test, y_train, y_test = train_test_split(X, y, test_size= 0.2, train_size= 0.8, random_state=0)\n"
   ]
  },
  {
   "cell_type": "code",
   "execution_count": 9,
   "metadata": {},
   "outputs": [
    {
     "output_type": "execute_result",
     "data": {
      "text/plain": [
       "array([ 5., 98.,  0.,  0.,  0.,  0.,  0.,  0.,  0.,  0.,  0.,  0.,  0.,\n",
       "        0.,  1.,  0.,  0.,  0.,  0.,  0.,  0.,  0.,  0.,  0.,  0.,  0.,\n",
       "        0.,  0.,  0.,  0.,  0.,  0.,  0.,  0.,  0.,  0.,  0.,  0.,  0.,\n",
       "        0.,  0.,  0.,  0.,  0.,  0.,  0.,  0.,  0.,  0.,  0.,  0.,  0.,\n",
       "        1.,  0.,  0.,  0.,  0.,  0.,  0.,  0.,  0.,  0.,  0.,  0.])"
      ]
     },
     "metadata": {},
     "execution_count": 9
    }
   ],
   "source": [
    "X_train[0]"
   ]
  },
  {
   "cell_type": "code",
   "execution_count": 10,
   "metadata": {},
   "outputs": [],
   "source": [
    "# Import the StandardScaler from sklearn\n",
    "from sklearn.preprocessing import StandardScaler\n",
    "\n",
    "# Scale the data\n",
    "scaler = StandardScaler().fit(X_train)\n",
    "X = scaler.transform(X_train)"
   ]
  },
  {
   "cell_type": "code",
   "execution_count": 11,
   "metadata": {},
   "outputs": [],
   "source": [
    "# Build and train the Deep Learning Model\n",
    "\n",
    "# Import Keras modules for model creation\n",
    "from tensorflow.keras.models import Sequential\n",
    "from tensorflow.keras.layers import Dense"
   ]
  },
  {
   "cell_type": "code",
   "execution_count": 17,
   "metadata": {},
   "outputs": [],
   "source": [
    "# Model set-up\n",
    "number_input_features = 64\n",
    "hidden_nodes_layer1 = 200\n",
    "hidden_nodes_layer2 = 160"
   ]
  },
  {
   "cell_type": "code",
   "execution_count": 2,
   "metadata": {},
   "outputs": [
    {
     "output_type": "error",
     "ename": "NameError",
     "evalue": "name 'Sequential' is not defined",
     "traceback": [
      "\u001b[1;31m---------------------------------------------------------------------------\u001b[0m",
      "\u001b[1;31mNameError\u001b[0m                                 Traceback (most recent call last)",
      "\u001b[1;32m<ipython-input-2-5ce6f4c084b4>\u001b[0m in \u001b[0;36m<module>\u001b[1;34m\u001b[0m\n\u001b[0;32m      1\u001b[0m \u001b[1;31m# Define the LSTM RNN model\u001b[0m\u001b[1;33m\u001b[0m\u001b[1;33m\u001b[0m\u001b[1;33m\u001b[0m\u001b[0m\n\u001b[1;32m----> 2\u001b[1;33m \u001b[0mmodel\u001b[0m \u001b[1;33m=\u001b[0m \u001b[0mSequential\u001b[0m\u001b[1;33m(\u001b[0m\u001b[1;33m)\u001b[0m\u001b[1;33m\u001b[0m\u001b[1;33m\u001b[0m\u001b[0m\n\u001b[0m\u001b[0;32m      3\u001b[0m \u001b[1;33m\u001b[0m\u001b[0m\n\u001b[0;32m      4\u001b[0m \u001b[1;31m# Layer 1\u001b[0m\u001b[1;33m\u001b[0m\u001b[1;33m\u001b[0m\u001b[1;33m\u001b[0m\u001b[0m\n\u001b[0;32m      5\u001b[0m model.add(\n",
      "\u001b[1;31mNameError\u001b[0m: name 'Sequential' is not defined"
     ]
    }
   ],
   "source": [
    "# Define the LSTM RNN model\n",
    "model = Sequential()\n",
    "\n",
    "# Layer 1\n",
    "model.add(\n",
    "    Dense(units=hidden_nodes_layer1, input_dim=number_input_features, activation=\"relu\")\n",
    ")\n",
    "\n",
    "# Layer 2\n",
    "model.add(Dense(units=hidden_nodes_layer2, activation=\"relu\"))\n",
    "\n",
    "# Output layer\n",
    "model.add(Dense(1, activation=\"linear\"))"
   ]
  },
  {
   "cell_type": "code",
   "execution_count": 1,
   "metadata": {},
   "outputs": [
    {
     "output_type": "error",
     "ename": "NameError",
     "evalue": "name 'model' is not defined",
     "traceback": [
      "\u001b[1;31m---------------------------------------------------------------------------\u001b[0m",
      "\u001b[1;31mNameError\u001b[0m                                 Traceback (most recent call last)",
      "\u001b[1;32m<ipython-input-1-2280981b6078>\u001b[0m in \u001b[0;36m<module>\u001b[1;34m\u001b[0m\n\u001b[0;32m      1\u001b[0m \u001b[1;31m# Compile the model\u001b[0m\u001b[1;33m\u001b[0m\u001b[1;33m\u001b[0m\u001b[1;33m\u001b[0m\u001b[0m\n\u001b[1;32m----> 2\u001b[1;33m model.compile(\n\u001b[0m\u001b[0;32m      3\u001b[0m     \u001b[0mloss\u001b[0m\u001b[1;33m=\u001b[0m \u001b[1;34m\"mean_squared_error\"\u001b[0m\u001b[1;33m,\u001b[0m\u001b[1;33m\u001b[0m\u001b[1;33m\u001b[0m\u001b[0m\n\u001b[0;32m      4\u001b[0m     \u001b[0moptimizer\u001b[0m\u001b[1;33m=\u001b[0m\u001b[1;34m\"adam\"\u001b[0m\u001b[1;33m,\u001b[0m\u001b[1;33m\u001b[0m\u001b[1;33m\u001b[0m\u001b[0m\n\u001b[0;32m      5\u001b[0m     \u001b[0mmetrics\u001b[0m\u001b[1;33m=\u001b[0m \u001b[1;33m[\u001b[0m\u001b[1;34m'accuracy'\u001b[0m\u001b[1;33m]\u001b[0m\u001b[1;33m\u001b[0m\u001b[1;33m\u001b[0m\u001b[0m\n",
      "\u001b[1;31mNameError\u001b[0m: name 'model' is not defined"
     ]
    }
   ],
   "source": [
    "# Compile the model\n",
    "model.compile(\n",
    "    loss= \"mean_squared_error\",\n",
    "    optimizer=\"adam\",\n",
    "    metrics= ['accuracy']\n",
    "   \n",
    ")"
   ]
  },
  {
   "cell_type": "code",
   "execution_count": 20,
   "metadata": {},
   "outputs": [
    {
     "output_type": "stream",
     "name": "stdout",
     "text": [
      "Model: \"sequential_1\"\n_________________________________________________________________\nLayer (type)                 Output Shape              Param #   \n=================================================================\ndense_3 (Dense)              (None, 200)               13000     \n_________________________________________________________________\ndense_4 (Dense)              (None, 160)               32160     \n_________________________________________________________________\ndense_5 (Dense)              (None, 1)                 161       \n=================================================================\nTotal params: 45,321\nTrainable params: 45,321\nNon-trainable params: 0\n_________________________________________________________________\n"
     ]
    }
   ],
   "source": [
    "# Summarize the model\n",
    "model.summary()"
   ]
  },
  {
   "cell_type": "code",
   "execution_count": 16,
   "metadata": {
    "tags": []
   },
   "outputs": [
    {
     "output_type": "stream",
     "name": "stdout",
     "text": [
      "Epoch 1/5000\n"
     ]
    },
    {
     "output_type": "error",
     "ename": "ValueError",
     "evalue": "in user code:\n\n    C:\\Users\\jexib\\anaconda3\\lib\\site-packages\\tensorflow\\python\\keras\\engine\\training.py:805 train_function  *\n        return step_function(self, iterator)\n    C:\\Users\\jexib\\anaconda3\\lib\\site-packages\\tensorflow\\python\\keras\\engine\\training.py:795 step_function  **\n        outputs = model.distribute_strategy.run(run_step, args=(data,))\n    C:\\Users\\jexib\\anaconda3\\lib\\site-packages\\tensorflow\\python\\distribute\\distribute_lib.py:1259 run\n        return self._extended.call_for_each_replica(fn, args=args, kwargs=kwargs)\n    C:\\Users\\jexib\\anaconda3\\lib\\site-packages\\tensorflow\\python\\distribute\\distribute_lib.py:2730 call_for_each_replica\n        return self._call_for_each_replica(fn, args, kwargs)\n    C:\\Users\\jexib\\anaconda3\\lib\\site-packages\\tensorflow\\python\\distribute\\distribute_lib.py:3417 _call_for_each_replica\n        return fn(*args, **kwargs)\n    C:\\Users\\jexib\\anaconda3\\lib\\site-packages\\tensorflow\\python\\keras\\engine\\training.py:788 run_step  **\n        outputs = model.train_step(data)\n    C:\\Users\\jexib\\anaconda3\\lib\\site-packages\\tensorflow\\python\\keras\\engine\\training.py:754 train_step\n        y_pred = self(x, training=True)\n    C:\\Users\\jexib\\anaconda3\\lib\\site-packages\\tensorflow\\python\\keras\\engine\\base_layer.py:998 __call__\n        input_spec.assert_input_compatibility(self.input_spec, inputs, self.name)\n    C:\\Users\\jexib\\anaconda3\\lib\\site-packages\\tensorflow\\python\\keras\\engine\\input_spec.py:255 assert_input_compatibility\n        raise ValueError(\n\n    ValueError: Input 0 of layer sequential is incompatible with the layer: expected axis -1 of input shape to have value 8 but received input with shape (None, 64)\n",
     "traceback": [
      "\u001b[1;31m---------------------------------------------------------------------------\u001b[0m",
      "\u001b[1;31mValueError\u001b[0m                                Traceback (most recent call last)",
      "\u001b[1;32m<ipython-input-16-aac1ab913405>\u001b[0m in \u001b[0;36m<module>\u001b[1;34m\u001b[0m\n\u001b[0;32m      2\u001b[0m \u001b[0mbatch_size\u001b[0m \u001b[1;33m=\u001b[0m \u001b[1;36m10\u001b[0m\u001b[1;33m\u001b[0m\u001b[1;33m\u001b[0m\u001b[0m\n\u001b[0;32m      3\u001b[0m \u001b[0mepochs\u001b[0m \u001b[1;33m=\u001b[0m \u001b[1;36m5000\u001b[0m\u001b[1;33m\u001b[0m\u001b[1;33m\u001b[0m\u001b[0m\n\u001b[1;32m----> 4\u001b[1;33m training_history = model.fit(\n\u001b[0m\u001b[0;32m      5\u001b[0m     \u001b[0mX_train\u001b[0m\u001b[1;33m,\u001b[0m\u001b[1;33m\u001b[0m\u001b[1;33m\u001b[0m\u001b[0m\n\u001b[0;32m      6\u001b[0m     \u001b[0my_train\u001b[0m\u001b[1;33m,\u001b[0m\u001b[1;33m\u001b[0m\u001b[1;33m\u001b[0m\u001b[0m\n",
      "\u001b[1;32m~\\anaconda3\\lib\\site-packages\\tensorflow\\python\\keras\\engine\\training.py\u001b[0m in \u001b[0;36mfit\u001b[1;34m(self, x, y, batch_size, epochs, verbose, callbacks, validation_split, validation_data, shuffle, class_weight, sample_weight, initial_epoch, steps_per_epoch, validation_steps, validation_batch_size, validation_freq, max_queue_size, workers, use_multiprocessing)\u001b[0m\n\u001b[0;32m   1098\u001b[0m                 _r=1):\n\u001b[0;32m   1099\u001b[0m               \u001b[0mcallbacks\u001b[0m\u001b[1;33m.\u001b[0m\u001b[0mon_train_batch_begin\u001b[0m\u001b[1;33m(\u001b[0m\u001b[0mstep\u001b[0m\u001b[1;33m)\u001b[0m\u001b[1;33m\u001b[0m\u001b[1;33m\u001b[0m\u001b[0m\n\u001b[1;32m-> 1100\u001b[1;33m               \u001b[0mtmp_logs\u001b[0m \u001b[1;33m=\u001b[0m \u001b[0mself\u001b[0m\u001b[1;33m.\u001b[0m\u001b[0mtrain_function\u001b[0m\u001b[1;33m(\u001b[0m\u001b[0miterator\u001b[0m\u001b[1;33m)\u001b[0m\u001b[1;33m\u001b[0m\u001b[1;33m\u001b[0m\u001b[0m\n\u001b[0m\u001b[0;32m   1101\u001b[0m               \u001b[1;32mif\u001b[0m \u001b[0mdata_handler\u001b[0m\u001b[1;33m.\u001b[0m\u001b[0mshould_sync\u001b[0m\u001b[1;33m:\u001b[0m\u001b[1;33m\u001b[0m\u001b[1;33m\u001b[0m\u001b[0m\n\u001b[0;32m   1102\u001b[0m                 \u001b[0mcontext\u001b[0m\u001b[1;33m.\u001b[0m\u001b[0masync_wait\u001b[0m\u001b[1;33m(\u001b[0m\u001b[1;33m)\u001b[0m\u001b[1;33m\u001b[0m\u001b[1;33m\u001b[0m\u001b[0m\n",
      "\u001b[1;32m~\\anaconda3\\lib\\site-packages\\tensorflow\\python\\eager\\def_function.py\u001b[0m in \u001b[0;36m__call__\u001b[1;34m(self, *args, **kwds)\u001b[0m\n\u001b[0;32m    826\u001b[0m     \u001b[0mtracing_count\u001b[0m \u001b[1;33m=\u001b[0m \u001b[0mself\u001b[0m\u001b[1;33m.\u001b[0m\u001b[0mexperimental_get_tracing_count\u001b[0m\u001b[1;33m(\u001b[0m\u001b[1;33m)\u001b[0m\u001b[1;33m\u001b[0m\u001b[1;33m\u001b[0m\u001b[0m\n\u001b[0;32m    827\u001b[0m     \u001b[1;32mwith\u001b[0m \u001b[0mtrace\u001b[0m\u001b[1;33m.\u001b[0m\u001b[0mTrace\u001b[0m\u001b[1;33m(\u001b[0m\u001b[0mself\u001b[0m\u001b[1;33m.\u001b[0m\u001b[0m_name\u001b[0m\u001b[1;33m)\u001b[0m \u001b[1;32mas\u001b[0m \u001b[0mtm\u001b[0m\u001b[1;33m:\u001b[0m\u001b[1;33m\u001b[0m\u001b[1;33m\u001b[0m\u001b[0m\n\u001b[1;32m--> 828\u001b[1;33m       \u001b[0mresult\u001b[0m \u001b[1;33m=\u001b[0m \u001b[0mself\u001b[0m\u001b[1;33m.\u001b[0m\u001b[0m_call\u001b[0m\u001b[1;33m(\u001b[0m\u001b[1;33m*\u001b[0m\u001b[0margs\u001b[0m\u001b[1;33m,\u001b[0m \u001b[1;33m**\u001b[0m\u001b[0mkwds\u001b[0m\u001b[1;33m)\u001b[0m\u001b[1;33m\u001b[0m\u001b[1;33m\u001b[0m\u001b[0m\n\u001b[0m\u001b[0;32m    829\u001b[0m       \u001b[0mcompiler\u001b[0m \u001b[1;33m=\u001b[0m \u001b[1;34m\"xla\"\u001b[0m \u001b[1;32mif\u001b[0m \u001b[0mself\u001b[0m\u001b[1;33m.\u001b[0m\u001b[0m_experimental_compile\u001b[0m \u001b[1;32melse\u001b[0m \u001b[1;34m\"nonXla\"\u001b[0m\u001b[1;33m\u001b[0m\u001b[1;33m\u001b[0m\u001b[0m\n\u001b[0;32m    830\u001b[0m       \u001b[0mnew_tracing_count\u001b[0m \u001b[1;33m=\u001b[0m \u001b[0mself\u001b[0m\u001b[1;33m.\u001b[0m\u001b[0mexperimental_get_tracing_count\u001b[0m\u001b[1;33m(\u001b[0m\u001b[1;33m)\u001b[0m\u001b[1;33m\u001b[0m\u001b[1;33m\u001b[0m\u001b[0m\n",
      "\u001b[1;32m~\\anaconda3\\lib\\site-packages\\tensorflow\\python\\eager\\def_function.py\u001b[0m in \u001b[0;36m_call\u001b[1;34m(self, *args, **kwds)\u001b[0m\n\u001b[0;32m    869\u001b[0m       \u001b[1;31m# This is the first call of __call__, so we have to initialize.\u001b[0m\u001b[1;33m\u001b[0m\u001b[1;33m\u001b[0m\u001b[1;33m\u001b[0m\u001b[0m\n\u001b[0;32m    870\u001b[0m       \u001b[0minitializers\u001b[0m \u001b[1;33m=\u001b[0m \u001b[1;33m[\u001b[0m\u001b[1;33m]\u001b[0m\u001b[1;33m\u001b[0m\u001b[1;33m\u001b[0m\u001b[0m\n\u001b[1;32m--> 871\u001b[1;33m       \u001b[0mself\u001b[0m\u001b[1;33m.\u001b[0m\u001b[0m_initialize\u001b[0m\u001b[1;33m(\u001b[0m\u001b[0margs\u001b[0m\u001b[1;33m,\u001b[0m \u001b[0mkwds\u001b[0m\u001b[1;33m,\u001b[0m \u001b[0madd_initializers_to\u001b[0m\u001b[1;33m=\u001b[0m\u001b[0minitializers\u001b[0m\u001b[1;33m)\u001b[0m\u001b[1;33m\u001b[0m\u001b[1;33m\u001b[0m\u001b[0m\n\u001b[0m\u001b[0;32m    872\u001b[0m     \u001b[1;32mfinally\u001b[0m\u001b[1;33m:\u001b[0m\u001b[1;33m\u001b[0m\u001b[1;33m\u001b[0m\u001b[0m\n\u001b[0;32m    873\u001b[0m       \u001b[1;31m# At this point we know that the initialization is complete (or less\u001b[0m\u001b[1;33m\u001b[0m\u001b[1;33m\u001b[0m\u001b[1;33m\u001b[0m\u001b[0m\n",
      "\u001b[1;32m~\\anaconda3\\lib\\site-packages\\tensorflow\\python\\eager\\def_function.py\u001b[0m in \u001b[0;36m_initialize\u001b[1;34m(self, args, kwds, add_initializers_to)\u001b[0m\n\u001b[0;32m    723\u001b[0m     \u001b[0mself\u001b[0m\u001b[1;33m.\u001b[0m\u001b[0m_graph_deleter\u001b[0m \u001b[1;33m=\u001b[0m \u001b[0mFunctionDeleter\u001b[0m\u001b[1;33m(\u001b[0m\u001b[0mself\u001b[0m\u001b[1;33m.\u001b[0m\u001b[0m_lifted_initializer_graph\u001b[0m\u001b[1;33m)\u001b[0m\u001b[1;33m\u001b[0m\u001b[1;33m\u001b[0m\u001b[0m\n\u001b[0;32m    724\u001b[0m     self._concrete_stateful_fn = (\n\u001b[1;32m--> 725\u001b[1;33m         self._stateful_fn._get_concrete_function_internal_garbage_collected(  # pylint: disable=protected-access\n\u001b[0m\u001b[0;32m    726\u001b[0m             *args, **kwds))\n\u001b[0;32m    727\u001b[0m \u001b[1;33m\u001b[0m\u001b[0m\n",
      "\u001b[1;32m~\\anaconda3\\lib\\site-packages\\tensorflow\\python\\eager\\function.py\u001b[0m in \u001b[0;36m_get_concrete_function_internal_garbage_collected\u001b[1;34m(self, *args, **kwargs)\u001b[0m\n\u001b[0;32m   2967\u001b[0m       \u001b[0margs\u001b[0m\u001b[1;33m,\u001b[0m \u001b[0mkwargs\u001b[0m \u001b[1;33m=\u001b[0m \u001b[1;32mNone\u001b[0m\u001b[1;33m,\u001b[0m \u001b[1;32mNone\u001b[0m\u001b[1;33m\u001b[0m\u001b[1;33m\u001b[0m\u001b[0m\n\u001b[0;32m   2968\u001b[0m     \u001b[1;32mwith\u001b[0m \u001b[0mself\u001b[0m\u001b[1;33m.\u001b[0m\u001b[0m_lock\u001b[0m\u001b[1;33m:\u001b[0m\u001b[1;33m\u001b[0m\u001b[1;33m\u001b[0m\u001b[0m\n\u001b[1;32m-> 2969\u001b[1;33m       \u001b[0mgraph_function\u001b[0m\u001b[1;33m,\u001b[0m \u001b[0m_\u001b[0m \u001b[1;33m=\u001b[0m \u001b[0mself\u001b[0m\u001b[1;33m.\u001b[0m\u001b[0m_maybe_define_function\u001b[0m\u001b[1;33m(\u001b[0m\u001b[0margs\u001b[0m\u001b[1;33m,\u001b[0m \u001b[0mkwargs\u001b[0m\u001b[1;33m)\u001b[0m\u001b[1;33m\u001b[0m\u001b[1;33m\u001b[0m\u001b[0m\n\u001b[0m\u001b[0;32m   2970\u001b[0m     \u001b[1;32mreturn\u001b[0m \u001b[0mgraph_function\u001b[0m\u001b[1;33m\u001b[0m\u001b[1;33m\u001b[0m\u001b[0m\n\u001b[0;32m   2971\u001b[0m \u001b[1;33m\u001b[0m\u001b[0m\n",
      "\u001b[1;32m~\\anaconda3\\lib\\site-packages\\tensorflow\\python\\eager\\function.py\u001b[0m in \u001b[0;36m_maybe_define_function\u001b[1;34m(self, args, kwargs)\u001b[0m\n\u001b[0;32m   3359\u001b[0m \u001b[1;33m\u001b[0m\u001b[0m\n\u001b[0;32m   3360\u001b[0m           \u001b[0mself\u001b[0m\u001b[1;33m.\u001b[0m\u001b[0m_function_cache\u001b[0m\u001b[1;33m.\u001b[0m\u001b[0mmissed\u001b[0m\u001b[1;33m.\u001b[0m\u001b[0madd\u001b[0m\u001b[1;33m(\u001b[0m\u001b[0mcall_context_key\u001b[0m\u001b[1;33m)\u001b[0m\u001b[1;33m\u001b[0m\u001b[1;33m\u001b[0m\u001b[0m\n\u001b[1;32m-> 3361\u001b[1;33m           \u001b[0mgraph_function\u001b[0m \u001b[1;33m=\u001b[0m \u001b[0mself\u001b[0m\u001b[1;33m.\u001b[0m\u001b[0m_create_graph_function\u001b[0m\u001b[1;33m(\u001b[0m\u001b[0margs\u001b[0m\u001b[1;33m,\u001b[0m \u001b[0mkwargs\u001b[0m\u001b[1;33m)\u001b[0m\u001b[1;33m\u001b[0m\u001b[1;33m\u001b[0m\u001b[0m\n\u001b[0m\u001b[0;32m   3362\u001b[0m           \u001b[0mself\u001b[0m\u001b[1;33m.\u001b[0m\u001b[0m_function_cache\u001b[0m\u001b[1;33m.\u001b[0m\u001b[0mprimary\u001b[0m\u001b[1;33m[\u001b[0m\u001b[0mcache_key\u001b[0m\u001b[1;33m]\u001b[0m \u001b[1;33m=\u001b[0m \u001b[0mgraph_function\u001b[0m\u001b[1;33m\u001b[0m\u001b[1;33m\u001b[0m\u001b[0m\n\u001b[0;32m   3363\u001b[0m \u001b[1;33m\u001b[0m\u001b[0m\n",
      "\u001b[1;32m~\\anaconda3\\lib\\site-packages\\tensorflow\\python\\eager\\function.py\u001b[0m in \u001b[0;36m_create_graph_function\u001b[1;34m(self, args, kwargs, override_flat_arg_shapes)\u001b[0m\n\u001b[0;32m   3194\u001b[0m     \u001b[0marg_names\u001b[0m \u001b[1;33m=\u001b[0m \u001b[0mbase_arg_names\u001b[0m \u001b[1;33m+\u001b[0m \u001b[0mmissing_arg_names\u001b[0m\u001b[1;33m\u001b[0m\u001b[1;33m\u001b[0m\u001b[0m\n\u001b[0;32m   3195\u001b[0m     graph_function = ConcreteFunction(\n\u001b[1;32m-> 3196\u001b[1;33m         func_graph_module.func_graph_from_py_func(\n\u001b[0m\u001b[0;32m   3197\u001b[0m             \u001b[0mself\u001b[0m\u001b[1;33m.\u001b[0m\u001b[0m_name\u001b[0m\u001b[1;33m,\u001b[0m\u001b[1;33m\u001b[0m\u001b[1;33m\u001b[0m\u001b[0m\n\u001b[0;32m   3198\u001b[0m             \u001b[0mself\u001b[0m\u001b[1;33m.\u001b[0m\u001b[0m_python_function\u001b[0m\u001b[1;33m,\u001b[0m\u001b[1;33m\u001b[0m\u001b[1;33m\u001b[0m\u001b[0m\n",
      "\u001b[1;32m~\\anaconda3\\lib\\site-packages\\tensorflow\\python\\framework\\func_graph.py\u001b[0m in \u001b[0;36mfunc_graph_from_py_func\u001b[1;34m(name, python_func, args, kwargs, signature, func_graph, autograph, autograph_options, add_control_dependencies, arg_names, op_return_value, collections, capture_by_value, override_flat_arg_shapes)\u001b[0m\n\u001b[0;32m    988\u001b[0m         \u001b[0m_\u001b[0m\u001b[1;33m,\u001b[0m \u001b[0moriginal_func\u001b[0m \u001b[1;33m=\u001b[0m \u001b[0mtf_decorator\u001b[0m\u001b[1;33m.\u001b[0m\u001b[0munwrap\u001b[0m\u001b[1;33m(\u001b[0m\u001b[0mpython_func\u001b[0m\u001b[1;33m)\u001b[0m\u001b[1;33m\u001b[0m\u001b[1;33m\u001b[0m\u001b[0m\n\u001b[0;32m    989\u001b[0m \u001b[1;33m\u001b[0m\u001b[0m\n\u001b[1;32m--> 990\u001b[1;33m       \u001b[0mfunc_outputs\u001b[0m \u001b[1;33m=\u001b[0m \u001b[0mpython_func\u001b[0m\u001b[1;33m(\u001b[0m\u001b[1;33m*\u001b[0m\u001b[0mfunc_args\u001b[0m\u001b[1;33m,\u001b[0m \u001b[1;33m**\u001b[0m\u001b[0mfunc_kwargs\u001b[0m\u001b[1;33m)\u001b[0m\u001b[1;33m\u001b[0m\u001b[1;33m\u001b[0m\u001b[0m\n\u001b[0m\u001b[0;32m    991\u001b[0m \u001b[1;33m\u001b[0m\u001b[0m\n\u001b[0;32m    992\u001b[0m       \u001b[1;31m# invariant: `func_outputs` contains only Tensors, CompositeTensors,\u001b[0m\u001b[1;33m\u001b[0m\u001b[1;33m\u001b[0m\u001b[1;33m\u001b[0m\u001b[0m\n",
      "\u001b[1;32m~\\anaconda3\\lib\\site-packages\\tensorflow\\python\\eager\\def_function.py\u001b[0m in \u001b[0;36mwrapped_fn\u001b[1;34m(*args, **kwds)\u001b[0m\n\u001b[0;32m    632\u001b[0m             \u001b[0mxla_context\u001b[0m\u001b[1;33m.\u001b[0m\u001b[0mExit\u001b[0m\u001b[1;33m(\u001b[0m\u001b[1;33m)\u001b[0m\u001b[1;33m\u001b[0m\u001b[1;33m\u001b[0m\u001b[0m\n\u001b[0;32m    633\u001b[0m         \u001b[1;32melse\u001b[0m\u001b[1;33m:\u001b[0m\u001b[1;33m\u001b[0m\u001b[1;33m\u001b[0m\u001b[0m\n\u001b[1;32m--> 634\u001b[1;33m           \u001b[0mout\u001b[0m \u001b[1;33m=\u001b[0m \u001b[0mweak_wrapped_fn\u001b[0m\u001b[1;33m(\u001b[0m\u001b[1;33m)\u001b[0m\u001b[1;33m.\u001b[0m\u001b[0m__wrapped__\u001b[0m\u001b[1;33m(\u001b[0m\u001b[1;33m*\u001b[0m\u001b[0margs\u001b[0m\u001b[1;33m,\u001b[0m \u001b[1;33m**\u001b[0m\u001b[0mkwds\u001b[0m\u001b[1;33m)\u001b[0m\u001b[1;33m\u001b[0m\u001b[1;33m\u001b[0m\u001b[0m\n\u001b[0m\u001b[0;32m    635\u001b[0m         \u001b[1;32mreturn\u001b[0m \u001b[0mout\u001b[0m\u001b[1;33m\u001b[0m\u001b[1;33m\u001b[0m\u001b[0m\n\u001b[0;32m    636\u001b[0m \u001b[1;33m\u001b[0m\u001b[0m\n",
      "\u001b[1;32m~\\anaconda3\\lib\\site-packages\\tensorflow\\python\\framework\\func_graph.py\u001b[0m in \u001b[0;36mwrapper\u001b[1;34m(*args, **kwargs)\u001b[0m\n\u001b[0;32m    975\u001b[0m           \u001b[1;32mexcept\u001b[0m \u001b[0mException\u001b[0m \u001b[1;32mas\u001b[0m \u001b[0me\u001b[0m\u001b[1;33m:\u001b[0m  \u001b[1;31m# pylint:disable=broad-except\u001b[0m\u001b[1;33m\u001b[0m\u001b[1;33m\u001b[0m\u001b[0m\n\u001b[0;32m    976\u001b[0m             \u001b[1;32mif\u001b[0m \u001b[0mhasattr\u001b[0m\u001b[1;33m(\u001b[0m\u001b[0me\u001b[0m\u001b[1;33m,\u001b[0m \u001b[1;34m\"ag_error_metadata\"\u001b[0m\u001b[1;33m)\u001b[0m\u001b[1;33m:\u001b[0m\u001b[1;33m\u001b[0m\u001b[1;33m\u001b[0m\u001b[0m\n\u001b[1;32m--> 977\u001b[1;33m               \u001b[1;32mraise\u001b[0m \u001b[0me\u001b[0m\u001b[1;33m.\u001b[0m\u001b[0mag_error_metadata\u001b[0m\u001b[1;33m.\u001b[0m\u001b[0mto_exception\u001b[0m\u001b[1;33m(\u001b[0m\u001b[0me\u001b[0m\u001b[1;33m)\u001b[0m\u001b[1;33m\u001b[0m\u001b[1;33m\u001b[0m\u001b[0m\n\u001b[0m\u001b[0;32m    978\u001b[0m             \u001b[1;32melse\u001b[0m\u001b[1;33m:\u001b[0m\u001b[1;33m\u001b[0m\u001b[1;33m\u001b[0m\u001b[0m\n\u001b[0;32m    979\u001b[0m               \u001b[1;32mraise\u001b[0m\u001b[1;33m\u001b[0m\u001b[1;33m\u001b[0m\u001b[0m\n",
      "\u001b[1;31mValueError\u001b[0m: in user code:\n\n    C:\\Users\\jexib\\anaconda3\\lib\\site-packages\\tensorflow\\python\\keras\\engine\\training.py:805 train_function  *\n        return step_function(self, iterator)\n    C:\\Users\\jexib\\anaconda3\\lib\\site-packages\\tensorflow\\python\\keras\\engine\\training.py:795 step_function  **\n        outputs = model.distribute_strategy.run(run_step, args=(data,))\n    C:\\Users\\jexib\\anaconda3\\lib\\site-packages\\tensorflow\\python\\distribute\\distribute_lib.py:1259 run\n        return self._extended.call_for_each_replica(fn, args=args, kwargs=kwargs)\n    C:\\Users\\jexib\\anaconda3\\lib\\site-packages\\tensorflow\\python\\distribute\\distribute_lib.py:2730 call_for_each_replica\n        return self._call_for_each_replica(fn, args, kwargs)\n    C:\\Users\\jexib\\anaconda3\\lib\\site-packages\\tensorflow\\python\\distribute\\distribute_lib.py:3417 _call_for_each_replica\n        return fn(*args, **kwargs)\n    C:\\Users\\jexib\\anaconda3\\lib\\site-packages\\tensorflow\\python\\keras\\engine\\training.py:788 run_step  **\n        outputs = model.train_step(data)\n    C:\\Users\\jexib\\anaconda3\\lib\\site-packages\\tensorflow\\python\\keras\\engine\\training.py:754 train_step\n        y_pred = self(x, training=True)\n    C:\\Users\\jexib\\anaconda3\\lib\\site-packages\\tensorflow\\python\\keras\\engine\\base_layer.py:998 __call__\n        input_spec.assert_input_compatibility(self.input_spec, inputs, self.name)\n    C:\\Users\\jexib\\anaconda3\\lib\\site-packages\\tensorflow\\python\\keras\\engine\\input_spec.py:255 assert_input_compatibility\n        raise ValueError(\n\n    ValueError: Input 0 of layer sequential is incompatible with the layer: expected axis -1 of input shape to have value 8 but received input with shape (None, 64)\n"
     ]
    }
   ],
   "source": [
    "# Training the model\n",
    "batch_size = 10\n",
    "epochs = 5000\n",
    "training_history = model.fit(\n",
    "    X_train,\n",
    "    y_train,\n",
    "    epochs=epochs,\n",
    "    batch_size=batch_size,\n",
    "    verbose=1,\n",
    ")"
   ]
  },
  {
   "cell_type": "code",
   "execution_count": 30,
   "metadata": {},
   "outputs": [
    {
     "output_type": "stream",
     "name": "stdout",
     "text": [
      "7/7 [==============================] - 0s 666us/step - loss: 468797504.0000 - accuracy: 0.0000e+00\n"
     ]
    },
    {
     "output_type": "execute_result",
     "data": {
      "text/plain": [
       "[468797504.0, 0.0]"
      ]
     },
     "metadata": {},
     "execution_count": 30
    }
   ],
   "source": [
    "# Evaluate the model\n",
    "model.evaluate(X_test, y_test, verbose=1)"
   ]
  },
  {
   "cell_type": "code",
   "execution_count": 33,
   "metadata": {},
   "outputs": [],
   "source": [
    "# Make predictions using the testing data X_test\n",
    "predicted = model.predict(X_test)"
   ]
  },
  {
   "cell_type": "code",
   "execution_count": 34,
   "metadata": {},
   "outputs": [
    {
     "output_type": "error",
     "ename": "ValueError",
     "evalue": "non-broadcastable output operand with shape (206,1) doesn't match the broadcast shape (206,8)",
     "traceback": [
      "\u001b[1;31m---------------------------------------------------------------------------\u001b[0m",
      "\u001b[1;31mValueError\u001b[0m                                Traceback (most recent call last)",
      "\u001b[1;32m<ipython-input-34-2c60b6890b0c>\u001b[0m in \u001b[0;36m<module>\u001b[1;34m\u001b[0m\n\u001b[0;32m      1\u001b[0m \u001b[1;31m# Recover the original prices instead of the scaled version\u001b[0m\u001b[1;33m\u001b[0m\u001b[1;33m\u001b[0m\u001b[1;33m\u001b[0m\u001b[0m\n\u001b[1;32m----> 2\u001b[1;33m \u001b[0mpredicted_prices\u001b[0m \u001b[1;33m=\u001b[0m \u001b[0mscaler\u001b[0m\u001b[1;33m.\u001b[0m\u001b[0minverse_transform\u001b[0m\u001b[1;33m(\u001b[0m\u001b[0mpredicted\u001b[0m\u001b[1;33m)\u001b[0m\u001b[1;33m\u001b[0m\u001b[1;33m\u001b[0m\u001b[0m\n\u001b[0m\u001b[0;32m      3\u001b[0m \u001b[0mreal_prices\u001b[0m \u001b[1;33m=\u001b[0m \u001b[0mscaler\u001b[0m\u001b[1;33m.\u001b[0m\u001b[0minverse_transform\u001b[0m\u001b[1;33m(\u001b[0m\u001b[0my_test\u001b[0m\u001b[1;33m.\u001b[0m\u001b[0mreshape\u001b[0m\u001b[1;33m(\u001b[0m\u001b[1;33m-\u001b[0m\u001b[1;36m1\u001b[0m\u001b[1;33m,\u001b[0m \u001b[1;36m1\u001b[0m\u001b[1;33m)\u001b[0m\u001b[1;33m)\u001b[0m\u001b[1;33m\u001b[0m\u001b[1;33m\u001b[0m\u001b[0m\n",
      "\u001b[1;32m~\\anaconda3\\lib\\site-packages\\sklearn\\preprocessing\\_data.py\u001b[0m in \u001b[0;36minverse_transform\u001b[1;34m(self, X, copy)\u001b[0m\n\u001b[0;32m    843\u001b[0m                 \u001b[0mX\u001b[0m \u001b[1;33m=\u001b[0m \u001b[0mX\u001b[0m\u001b[1;33m.\u001b[0m\u001b[0mcopy\u001b[0m\u001b[1;33m(\u001b[0m\u001b[1;33m)\u001b[0m\u001b[1;33m\u001b[0m\u001b[1;33m\u001b[0m\u001b[0m\n\u001b[0;32m    844\u001b[0m             \u001b[1;32mif\u001b[0m \u001b[0mself\u001b[0m\u001b[1;33m.\u001b[0m\u001b[0mwith_std\u001b[0m\u001b[1;33m:\u001b[0m\u001b[1;33m\u001b[0m\u001b[1;33m\u001b[0m\u001b[0m\n\u001b[1;32m--> 845\u001b[1;33m                 \u001b[0mX\u001b[0m \u001b[1;33m*=\u001b[0m \u001b[0mself\u001b[0m\u001b[1;33m.\u001b[0m\u001b[0mscale_\u001b[0m\u001b[1;33m\u001b[0m\u001b[1;33m\u001b[0m\u001b[0m\n\u001b[0m\u001b[0;32m    846\u001b[0m             \u001b[1;32mif\u001b[0m \u001b[0mself\u001b[0m\u001b[1;33m.\u001b[0m\u001b[0mwith_mean\u001b[0m\u001b[1;33m:\u001b[0m\u001b[1;33m\u001b[0m\u001b[1;33m\u001b[0m\u001b[0m\n\u001b[0;32m    847\u001b[0m                 \u001b[0mX\u001b[0m \u001b[1;33m+=\u001b[0m \u001b[0mself\u001b[0m\u001b[1;33m.\u001b[0m\u001b[0mmean_\u001b[0m\u001b[1;33m\u001b[0m\u001b[1;33m\u001b[0m\u001b[0m\n",
      "\u001b[1;31mValueError\u001b[0m: non-broadcastable output operand with shape (206,1) doesn't match the broadcast shape (206,8)"
     ]
    }
   ],
   "source": [
    "# Recover the original prices instead of the scaled version\n",
    "predicted_prices = scaler.inverse_transform(predicted)\n",
    "real_prices = scaler.inverse_transform(y_test.reshape(-1, 1))"
   ]
  },
  {
   "cell_type": "code",
   "execution_count": null,
   "metadata": {},
   "outputs": [],
   "source": [
    "# Create a DataFrame of Real and Predicted values\n",
    "housing_model = pd.DataFrame({\n",
    "    \"Actual\": real_prices.ravel(),\n",
    "    \"Predicted\": predicted_prices.ravel()\n",
    "}, index = housing_df.index[-len(real_prices): ]) \n",
    "\n",
    "# Show the DataFrame's head\n",
    "housing_model.head()"
   ]
  },
  {
   "cell_type": "code",
   "execution_count": null,
   "metadata": {},
   "outputs": [],
   "source": [
    "# Plot the real vs predicted prices as a line chart\n",
    "housing_model.plot(title=\"Actual Vs. Predicted Housing Prices in Houston\")"
   ]
  }
 ]
}