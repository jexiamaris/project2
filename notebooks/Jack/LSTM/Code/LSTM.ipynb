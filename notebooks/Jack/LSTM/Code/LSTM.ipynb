{
 "metadata": {
  "language_info": {
   "codemirror_mode": {
    "name": "ipython",
    "version": 3
   },
   "file_extension": ".py",
   "mimetype": "text/x-python",
   "name": "python",
   "nbconvert_exporter": "python",
   "pygments_lexer": "ipython3",
   "version": "3.8.3-final"
  },
  "orig_nbformat": 2,
  "kernelspec": {
   "name": "python3",
   "display_name": "Python 3.8.3 64-bit (conda)",
   "metadata": {
    "interpreter": {
     "hash": "b3ba2566441a7c06988d0923437866b63cedc61552a5af99d1f4fb67d367b25f"
    }
   }
  }
 },
 "nbformat": 4,
 "nbformat_minor": 2,
 "cells": [
  {
   "cell_type": "code",
   "execution_count": null,
   "metadata": {},
   "outputs": [],
   "source": [
    "import numpy as np\n",
    "import pandas as pd\n",
    "import hvplot.pandas\n",
    "from sklearn.preprocessing import MinMaxScaler\n",
    "from tensorflow.keras.models import Sequential\n",
    "from tensorflow.keras.layers import LSTM, Dense, Dropout\n",
    "import os"
   ]
  },
  {
   "cell_type": "code",
   "execution_count": null,
   "metadata": {},
   "outputs": [],
   "source": [
    "df = pd.read_csv('../../../../Data/housing_data_encoded.csv',infer_datetime_format=True, parse_dates=True)\n",
    "df = df.drop(columns=\"State_TX\")\n",
    "df = df.sort_index()\n",
    "df"
   ]
  },
  {
   "cell_type": "code",
   "execution_count": null,
   "metadata": {},
   "outputs": [],
   "source": [
    "#Citation: https://stackoverflow.com/questions/53731432/return-pandas-multiindex-as-list-of-tuples\n",
    "\n",
    "arrays = [df[\"Identifier\"].replace(\" \",\"\"),\n",
    "          df[\"Bedroom\"].replace(\" \",\"\"),\n",
    "          df[\"Date\"].replace(\" \",\"\")]\n",
    "\n",
    "tuples = list(zip(*arrays))\n",
    "index = pd.MultiIndex.from_tuples(tuples, names=['Region_ID', 'Bedrooms','Date'])\n",
    "\n",
    "TX_nbhoods_df = df.set_index(index)\n",
    "TX_nbhoods_df = TX_nbhoods_df.drop(columns=[\"Identifier\",\"Bedroom\",\"Date\"])\n",
    "TX_nbhoods_df = TX_nbhoods_df.sort_index()\n",
    "TX_nbhoods_df"
   ]
  },
  {
   "cell_type": "code",
   "execution_count": null,
   "metadata": {},
   "outputs": [],
   "source": [
    "TX_nbhoods_df.index"
   ]
  },
  {
   "cell_type": "code",
   "execution_count": null,
   "metadata": {},
   "outputs": [],
   "source": [
    "def window_data(df, window, feature_col_number, target_col_number):\n",
    "    X = []\n",
    "    y = []\n",
    "    for i in range(len(df) - window - 1):\n",
    "        features = df.iloc[i:(i + window), feature_col_number]\n",
    "        target = df.iloc[(i + window), target_col_number]\n",
    "        X.append(features)\n",
    "        y.append(target)\n",
    "    return np.array(X), np.array(y).reshape(-1, 1)"
   ]
  },
  {
   "cell_type": "code",
   "execution_count": null,
   "metadata": {},
   "outputs": [],
   "source": [
    "def build_by_region_beds(tuple_,window_size):\n",
    "    region_bed = tuple_[:2]\n",
    "    region_bed_df = TX_nbhoods_df.loc[region_bed]\n",
    "    prices_df = region_bed_df.loc[:,[\"Price\"]]\n",
    "    prices_df.sort_index(inplace=True)\n",
    "    feature_column = 0\n",
    "    target_column = 0\n",
    "    X, y = window_data(prices_df, window_size, feature_column, target_column)\n",
    "\n",
    "    split = int(0.7 * len(X))\n",
    "    X_train = X[: split]\n",
    "    X_old = prices_df\n",
    "    X_old.rename(columns={\"Price\":\"Real\"})\n",
    "    X_test = X[split:]\n",
    "    X_keep = X_test\n",
    "    dates = X\n",
    "    y_train = y[: split]\n",
    "    y_test = y[split:]\n",
    "\n",
    "    scaler = MinMaxScaler()\n",
    "    scaler.fit(X)\n",
    "    X_train = scaler.transform(X_train)\n",
    "    X_test = scaler.transform(X_test)\n",
    "    scaler.fit(y)\n",
    "    y_train = scaler.transform(y_train)\n",
    "    y_test = scaler.transform(y_test)\n",
    "\n",
    "    X_train = X_train.reshape((X_train.shape[0], X_train.shape[1], 1))\n",
    "    X_test = X_test.reshape((X_test.shape[0], X_test.shape[1], 1))\n",
    "\n",
    "    model = Sequential()\n",
    "\n",
    "    number_units = 5\n",
    "    dropout_fraction = 0.2\n",
    "\n",
    "\n",
    "    model.add(LSTM(\n",
    "        units=number_units,\n",
    "        return_sequences=True,\n",
    "        input_shape=(X_train.shape[1], 1))\n",
    "        )\n",
    "    model.add(Dropout(dropout_fraction))\n",
    "\n",
    "    model.add(LSTM(units=number_units, return_sequences=True))\n",
    "    model.add(Dropout(dropout_fraction))\n",
    "\n",
    "    model.add(LSTM(units=number_units))\n",
    "    model.add(Dropout(dropout_fraction))\n",
    "\n",
    "    model.add(Dense(1))\n",
    "\n",
    "    model.compile(optimizer=\"adam\", loss=\"mean_squared_error\")\n",
    "\n",
    "\n",
    "    model.fit(X_train, y_train, epochs=10, shuffle=False, batch_size=1, verbose=1)\n",
    "\n",
    "    loss = model.evaluate(X_test, y_test)\n",
    "    predicted = model.predict(X_test)\n",
    "\n",
    "    previous_prices = X_old\n",
    "    predicted_prices = scaler.inverse_transform(predicted)\n",
    "    real_prices = scaler.inverse_transform(y_test.reshape(-1, 1))\n",
    "\n",
    "    final_df = pd.DataFrame({\n",
    "        \"Real\": real_prices.ravel(),\n",
    "        \"Predicted\": predicted_prices.ravel()},\n",
    "        index= prices_df.index[(-len(real_prices)):]) \n",
    "    \n",
    "\n",
    "    return [final_df, loss, X_old]\n"
   ]
  },
  {
   "cell_type": "code",
   "execution_count": null,
   "metadata": {},
   "outputs": [],
   "source": [
    "for tuple_ in set(TX_nbhoods_df.index):\n",
    "    for i in [1,3,6,12]:\n",
    "        model = build_by_region_beds(tuple_,i)\n",
    "        output = model[0]\n",
    "        loss_val = model[1]\n",
    "        old_prices = model[2]\n",
    "        index = pd.MultiIndex.from_tuples([tuple_[:2]],names=[\"Region\",\"Bedrooms\"])\n",
    "        loss = pd.DataFrame(columns={\"Loss\":loss_val},index=index)\n",
    "        loss[\"Loss\"] = loss_val\n",
    "        Predicted_vs_Real = output.plot()\n",
    "        Train_vs_Test = pd.concat([old_prices, output[\"Predicted\"]],axis=1,join='outer')\n",
    "        Train_vs_Test_plt = Train_vs_Test.plot()\n",
    "\n",
    "        path = f'../Results/Region/{tuple_[0]}/Bedrooms/{tuple_[1]}/Window-Size/{str(i)}/'\n",
    "        \n",
    "        \n",
    "        if os.path.isdir(path)==True:\n",
    "            pass\n",
    "            \n",
    "        else:\n",
    "            os.makedirs(path)\n",
    "            output.to_csv(f'../Results/Region/{tuple_[0]}/Bedrooms/{tuple_[1]}/Window-Size/{str(i)}/Results.csv')\n",
    "            loss.to_csv(f'../Results/Region/{tuple_[0]}/Bedrooms/{tuple_[1]}/Window-Size/{str(i)}/Loss.csv') \n",
    "\n",
    "            # Citation: https://stackoverflow.com/questions/18992086/save-a-pandas-series-histogram-plot-to-file\n",
    "            Predicted_vs_Real.figure.savefig(f'../Results/Region/{tuple_[0]}/Bedrooms/{tuple_[1]}/Window-Size/{str(i)}/Plot.png')\n",
    "            Train_vs_Test_plt.figure.savefig(f'../Results/Region/{tuple_[0]}/Bedrooms/{tuple_[1]}/Window-Size/{str(i)}/Plot2.png')"
   ]
  },
  {
   "cell_type": "code",
   "execution_count": null,
   "metadata": {},
   "outputs": [],
   "source": []
  },
  {
   "cell_type": "code",
   "execution_count": null,
   "metadata": {},
   "outputs": [],
   "source": []
  },
  {
   "cell_type": "code",
   "execution_count": null,
   "metadata": {},
   "outputs": [],
   "source": []
  }
 ]
}