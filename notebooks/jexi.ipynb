{
 "metadata": {
  "language_info": {
   "codemirror_mode": {
    "name": "ipython",
    "version": 3
   },
   "file_extension": ".py",
   "mimetype": "text/x-python",
   "name": "python",
   "nbconvert_exporter": "python",
   "pygments_lexer": "ipython3",
   "version": "3.8.3-final"
  },
  "orig_nbformat": 2,
  "kernelspec": {
   "name": "python3",
   "display_name": "Python 3.8.3 64-bit (conda)",
   "metadata": {
    "interpreter": {
     "hash": "3b2d1872a97fb64bbb0bf089e5dc4a4b17c31375caf39a3144f71c656be998ab"
    }
   }
  }
 },
 "nbformat": 4,
 "nbformat_minor": 2,
 "cells": [
  {
   "cell_type": "code",
   "execution_count": 86,
   "metadata": {},
   "outputs": [],
   "source": [
    "import random\n",
    "from random import choices\n",
    "import pandas as pd\n",
    "import numpy as np"
   ]
  },
  {
   "cell_type": "code",
   "execution_count": 87,
   "metadata": {},
   "outputs": [
    {
     "output_type": "execute_result",
     "data": {
      "text/plain": [
       "     Identifier  RegionID  Bedroom      RegionName RegionType StateName State  \\\n",
       "0             2     39051        1         Houston       City        TX    TX   \n",
       "1           110      7204        1          Spring       City        TX    TX   \n",
       "2           187     41114        1      Sugar Land       City        TX    TX   \n",
       "3           209     38119        1         Cypress       City        TX    TX   \n",
       "4           218     44734        1          Conroe       City        TX    TX   \n",
       "..          ...       ...      ...             ...        ...       ...   ...   \n",
       "570       18435     23174        5   Morgans Point       City        TX    TX   \n",
       "571       18625     16080        5          Wallis       City        TX    TX   \n",
       "572       18722     52665        5   Jamaica Beach       City        TX    TX   \n",
       "573       18726     54635        5  Surfside Beach       City        TX    TX   \n",
       "574       18750     42375        5      Fairchilds       City        TX    TX   \n",
       "\n",
       "                                Metro         CountyName  1/31/2010  ...  \\\n",
       "0    Houston-The Woodlands-Sugar Land      Harris County    67653.0  ...   \n",
       "1    Houston-The Woodlands-Sugar Land      Harris County    54159.0  ...   \n",
       "2    Houston-The Woodlands-Sugar Land   Fort Bend County   212721.0  ...   \n",
       "3    Houston-The Woodlands-Sugar Land      Harris County    83279.0  ...   \n",
       "4    Houston-The Woodlands-Sugar Land  Montgomery County   142717.0  ...   \n",
       "..                                ...                ...        ...  ...   \n",
       "570  Houston-The Woodlands-Sugar Land      Harris County   378619.0  ...   \n",
       "571  Houston-The Woodlands-Sugar Land      Austin County        NaN  ...   \n",
       "572  Houston-The Woodlands-Sugar Land   Galveston County   550524.0  ...   \n",
       "573  Houston-The Woodlands-Sugar Land    Brazoria County   298089.0  ...   \n",
       "574  Houston-The Woodlands-Sugar Land   Fort Bend County        NaN  ...   \n",
       "\n",
       "     6/30/2019  7/31/2019  8/31/2019  9/30/2019  10/31/2019  11/30/2019  \\\n",
       "0       104937     105155     105502     105618      106083      106186   \n",
       "1        88793      89402      90151      90444       91064       91668   \n",
       "2       239912     239079     239124     239166      240193      242007   \n",
       "3       134336     135568     135976     136333      137155      137673   \n",
       "4       220807     221831     222446     223048      224432      224717   \n",
       "..         ...        ...        ...        ...         ...         ...   \n",
       "570     702473     704800     704480     707487      713194      721005   \n",
       "571     165336     165466     166338     166778      166780      166123   \n",
       "572     656209     656624     655992     656511      655356      656806   \n",
       "573     457049     456514     456555     458114      462450      466920   \n",
       "574     376055     377547     379961     382507      384938      386972   \n",
       "\n",
       "     12/31/2019  1/31/2020  2/29/2020  3/31/2020  \n",
       "0        106299     106161     106271     106635  \n",
       "1         92500      93108      93931      94948  \n",
       "2        241984     241888     242018     241986  \n",
       "3        138310     137995     137454     136950  \n",
       "4        224159     222976     222007     220157  \n",
       "..          ...        ...        ...        ...  \n",
       "570      726920     730948     732360     732224  \n",
       "571      165830     166579     166822     167583  \n",
       "572      655688     655114     652268     649370  \n",
       "573      472154     476587     480253     482405  \n",
       "574      389187     387800     386879     384703  \n",
       "\n",
       "[575 rows x 132 columns]"
      ],
      "text/html": "<div>\n<style scoped>\n    .dataframe tbody tr th:only-of-type {\n        vertical-align: middle;\n    }\n\n    .dataframe tbody tr th {\n        vertical-align: top;\n    }\n\n    .dataframe thead th {\n        text-align: right;\n    }\n</style>\n<table border=\"1\" class=\"dataframe\">\n  <thead>\n    <tr style=\"text-align: right;\">\n      <th></th>\n      <th>Identifier</th>\n      <th>RegionID</th>\n      <th>Bedroom</th>\n      <th>RegionName</th>\n      <th>RegionType</th>\n      <th>StateName</th>\n      <th>State</th>\n      <th>Metro</th>\n      <th>CountyName</th>\n      <th>1/31/2010</th>\n      <th>...</th>\n      <th>6/30/2019</th>\n      <th>7/31/2019</th>\n      <th>8/31/2019</th>\n      <th>9/30/2019</th>\n      <th>10/31/2019</th>\n      <th>11/30/2019</th>\n      <th>12/31/2019</th>\n      <th>1/31/2020</th>\n      <th>2/29/2020</th>\n      <th>3/31/2020</th>\n    </tr>\n  </thead>\n  <tbody>\n    <tr>\n      <th>0</th>\n      <td>2</td>\n      <td>39051</td>\n      <td>1</td>\n      <td>Houston</td>\n      <td>City</td>\n      <td>TX</td>\n      <td>TX</td>\n      <td>Houston-The Woodlands-Sugar Land</td>\n      <td>Harris County</td>\n      <td>67653.0</td>\n      <td>...</td>\n      <td>104937</td>\n      <td>105155</td>\n      <td>105502</td>\n      <td>105618</td>\n      <td>106083</td>\n      <td>106186</td>\n      <td>106299</td>\n      <td>106161</td>\n      <td>106271</td>\n      <td>106635</td>\n    </tr>\n    <tr>\n      <th>1</th>\n      <td>110</td>\n      <td>7204</td>\n      <td>1</td>\n      <td>Spring</td>\n      <td>City</td>\n      <td>TX</td>\n      <td>TX</td>\n      <td>Houston-The Woodlands-Sugar Land</td>\n      <td>Harris County</td>\n      <td>54159.0</td>\n      <td>...</td>\n      <td>88793</td>\n      <td>89402</td>\n      <td>90151</td>\n      <td>90444</td>\n      <td>91064</td>\n      <td>91668</td>\n      <td>92500</td>\n      <td>93108</td>\n      <td>93931</td>\n      <td>94948</td>\n    </tr>\n    <tr>\n      <th>2</th>\n      <td>187</td>\n      <td>41114</td>\n      <td>1</td>\n      <td>Sugar Land</td>\n      <td>City</td>\n      <td>TX</td>\n      <td>TX</td>\n      <td>Houston-The Woodlands-Sugar Land</td>\n      <td>Fort Bend County</td>\n      <td>212721.0</td>\n      <td>...</td>\n      <td>239912</td>\n      <td>239079</td>\n      <td>239124</td>\n      <td>239166</td>\n      <td>240193</td>\n      <td>242007</td>\n      <td>241984</td>\n      <td>241888</td>\n      <td>242018</td>\n      <td>241986</td>\n    </tr>\n    <tr>\n      <th>3</th>\n      <td>209</td>\n      <td>38119</td>\n      <td>1</td>\n      <td>Cypress</td>\n      <td>City</td>\n      <td>TX</td>\n      <td>TX</td>\n      <td>Houston-The Woodlands-Sugar Land</td>\n      <td>Harris County</td>\n      <td>83279.0</td>\n      <td>...</td>\n      <td>134336</td>\n      <td>135568</td>\n      <td>135976</td>\n      <td>136333</td>\n      <td>137155</td>\n      <td>137673</td>\n      <td>138310</td>\n      <td>137995</td>\n      <td>137454</td>\n      <td>136950</td>\n    </tr>\n    <tr>\n      <th>4</th>\n      <td>218</td>\n      <td>44734</td>\n      <td>1</td>\n      <td>Conroe</td>\n      <td>City</td>\n      <td>TX</td>\n      <td>TX</td>\n      <td>Houston-The Woodlands-Sugar Land</td>\n      <td>Montgomery County</td>\n      <td>142717.0</td>\n      <td>...</td>\n      <td>220807</td>\n      <td>221831</td>\n      <td>222446</td>\n      <td>223048</td>\n      <td>224432</td>\n      <td>224717</td>\n      <td>224159</td>\n      <td>222976</td>\n      <td>222007</td>\n      <td>220157</td>\n    </tr>\n    <tr>\n      <th>...</th>\n      <td>...</td>\n      <td>...</td>\n      <td>...</td>\n      <td>...</td>\n      <td>...</td>\n      <td>...</td>\n      <td>...</td>\n      <td>...</td>\n      <td>...</td>\n      <td>...</td>\n      <td>...</td>\n      <td>...</td>\n      <td>...</td>\n      <td>...</td>\n      <td>...</td>\n      <td>...</td>\n      <td>...</td>\n      <td>...</td>\n      <td>...</td>\n      <td>...</td>\n      <td>...</td>\n    </tr>\n    <tr>\n      <th>570</th>\n      <td>18435</td>\n      <td>23174</td>\n      <td>5</td>\n      <td>Morgans Point</td>\n      <td>City</td>\n      <td>TX</td>\n      <td>TX</td>\n      <td>Houston-The Woodlands-Sugar Land</td>\n      <td>Harris County</td>\n      <td>378619.0</td>\n      <td>...</td>\n      <td>702473</td>\n      <td>704800</td>\n      <td>704480</td>\n      <td>707487</td>\n      <td>713194</td>\n      <td>721005</td>\n      <td>726920</td>\n      <td>730948</td>\n      <td>732360</td>\n      <td>732224</td>\n    </tr>\n    <tr>\n      <th>571</th>\n      <td>18625</td>\n      <td>16080</td>\n      <td>5</td>\n      <td>Wallis</td>\n      <td>City</td>\n      <td>TX</td>\n      <td>TX</td>\n      <td>Houston-The Woodlands-Sugar Land</td>\n      <td>Austin County</td>\n      <td>NaN</td>\n      <td>...</td>\n      <td>165336</td>\n      <td>165466</td>\n      <td>166338</td>\n      <td>166778</td>\n      <td>166780</td>\n      <td>166123</td>\n      <td>165830</td>\n      <td>166579</td>\n      <td>166822</td>\n      <td>167583</td>\n    </tr>\n    <tr>\n      <th>572</th>\n      <td>18722</td>\n      <td>52665</td>\n      <td>5</td>\n      <td>Jamaica Beach</td>\n      <td>City</td>\n      <td>TX</td>\n      <td>TX</td>\n      <td>Houston-The Woodlands-Sugar Land</td>\n      <td>Galveston County</td>\n      <td>550524.0</td>\n      <td>...</td>\n      <td>656209</td>\n      <td>656624</td>\n      <td>655992</td>\n      <td>656511</td>\n      <td>655356</td>\n      <td>656806</td>\n      <td>655688</td>\n      <td>655114</td>\n      <td>652268</td>\n      <td>649370</td>\n    </tr>\n    <tr>\n      <th>573</th>\n      <td>18726</td>\n      <td>54635</td>\n      <td>5</td>\n      <td>Surfside Beach</td>\n      <td>City</td>\n      <td>TX</td>\n      <td>TX</td>\n      <td>Houston-The Woodlands-Sugar Land</td>\n      <td>Brazoria County</td>\n      <td>298089.0</td>\n      <td>...</td>\n      <td>457049</td>\n      <td>456514</td>\n      <td>456555</td>\n      <td>458114</td>\n      <td>462450</td>\n      <td>466920</td>\n      <td>472154</td>\n      <td>476587</td>\n      <td>480253</td>\n      <td>482405</td>\n    </tr>\n    <tr>\n      <th>574</th>\n      <td>18750</td>\n      <td>42375</td>\n      <td>5</td>\n      <td>Fairchilds</td>\n      <td>City</td>\n      <td>TX</td>\n      <td>TX</td>\n      <td>Houston-The Woodlands-Sugar Land</td>\n      <td>Fort Bend County</td>\n      <td>NaN</td>\n      <td>...</td>\n      <td>376055</td>\n      <td>377547</td>\n      <td>379961</td>\n      <td>382507</td>\n      <td>384938</td>\n      <td>386972</td>\n      <td>389187</td>\n      <td>387800</td>\n      <td>386879</td>\n      <td>384703</td>\n    </tr>\n  </tbody>\n</table>\n<p>575 rows × 132 columns</p>\n</div>"
     },
     "metadata": {},
     "execution_count": 87
    }
   ],
   "source": [
    "# Load data\n",
    "housing_data = pd.read_csv(\"Housing_values.csv\")\n",
    "housing_df = pd.DataFrame(housing_data)\n",
    "housing_df"
   ]
  },
  {
   "cell_type": "code",
   "execution_count": 88,
   "metadata": {},
   "outputs": [
    {
     "output_type": "execute_result",
     "data": {
      "text/plain": [
       "     Identifier  Bedroom      RegionName State  \\\n",
       "0             2        1         Houston    TX   \n",
       "1           110        1          Spring    TX   \n",
       "2           187        1      Sugar Land    TX   \n",
       "3           209        1         Cypress    TX   \n",
       "4           218        1          Conroe    TX   \n",
       "..          ...      ...             ...   ...   \n",
       "570       18435        5   Morgans Point    TX   \n",
       "571       18625        5          Wallis    TX   \n",
       "572       18722        5   Jamaica Beach    TX   \n",
       "573       18726        5  Surfside Beach    TX   \n",
       "574       18750        5      Fairchilds    TX   \n",
       "\n",
       "                                Metro         CountyName  1/31/2010  \\\n",
       "0    Houston-The Woodlands-Sugar Land      Harris County    67653.0   \n",
       "1    Houston-The Woodlands-Sugar Land      Harris County    54159.0   \n",
       "2    Houston-The Woodlands-Sugar Land   Fort Bend County   212721.0   \n",
       "3    Houston-The Woodlands-Sugar Land      Harris County    83279.0   \n",
       "4    Houston-The Woodlands-Sugar Land  Montgomery County   142717.0   \n",
       "..                                ...                ...        ...   \n",
       "570  Houston-The Woodlands-Sugar Land      Harris County   378619.0   \n",
       "571  Houston-The Woodlands-Sugar Land      Austin County        NaN   \n",
       "572  Houston-The Woodlands-Sugar Land   Galveston County   550524.0   \n",
       "573  Houston-The Woodlands-Sugar Land    Brazoria County   298089.0   \n",
       "574  Houston-The Woodlands-Sugar Land   Fort Bend County        NaN   \n",
       "\n",
       "     2/28/2010  3/31/2010  4/30/2010  ...  6/30/2019  7/31/2019  8/31/2019  \\\n",
       "0      67444.0    67260.0    67041.0  ...     104937     105155     105502   \n",
       "1      53215.0    52607.0    52807.0  ...      88793      89402      90151   \n",
       "2     214502.0   216879.0   218827.0  ...     239912     239079     239124   \n",
       "3      82383.0    82490.0    82944.0  ...     134336     135568     135976   \n",
       "4     142310.0   140592.0   139575.0  ...     220807     221831     222446   \n",
       "..         ...        ...        ...  ...        ...        ...        ...   \n",
       "570   381411.0   386253.0   388340.0  ...     702473     704800     704480   \n",
       "571        NaN        NaN        NaN  ...     165336     165466     166338   \n",
       "572   552243.0   548603.0   538650.0  ...     656209     656624     655992   \n",
       "573   294899.0   291515.0   286260.0  ...     457049     456514     456555   \n",
       "574        NaN        NaN        NaN  ...     376055     377547     379961   \n",
       "\n",
       "     9/30/2019  10/31/2019  11/30/2019  12/31/2019  1/31/2020  2/29/2020  \\\n",
       "0       105618      106083      106186      106299     106161     106271   \n",
       "1        90444       91064       91668       92500      93108      93931   \n",
       "2       239166      240193      242007      241984     241888     242018   \n",
       "3       136333      137155      137673      138310     137995     137454   \n",
       "4       223048      224432      224717      224159     222976     222007   \n",
       "..         ...         ...         ...         ...        ...        ...   \n",
       "570     707487      713194      721005      726920     730948     732360   \n",
       "571     166778      166780      166123      165830     166579     166822   \n",
       "572     656511      655356      656806      655688     655114     652268   \n",
       "573     458114      462450      466920      472154     476587     480253   \n",
       "574     382507      384938      386972      389187     387800     386879   \n",
       "\n",
       "     3/31/2020  \n",
       "0       106635  \n",
       "1        94948  \n",
       "2       241986  \n",
       "3       136950  \n",
       "4       220157  \n",
       "..         ...  \n",
       "570     732224  \n",
       "571     167583  \n",
       "572     649370  \n",
       "573     482405  \n",
       "574     384703  \n",
       "\n",
       "[575 rows x 129 columns]"
      ],
      "text/html": "<div>\n<style scoped>\n    .dataframe tbody tr th:only-of-type {\n        vertical-align: middle;\n    }\n\n    .dataframe tbody tr th {\n        vertical-align: top;\n    }\n\n    .dataframe thead th {\n        text-align: right;\n    }\n</style>\n<table border=\"1\" class=\"dataframe\">\n  <thead>\n    <tr style=\"text-align: right;\">\n      <th></th>\n      <th>Identifier</th>\n      <th>Bedroom</th>\n      <th>RegionName</th>\n      <th>State</th>\n      <th>Metro</th>\n      <th>CountyName</th>\n      <th>1/31/2010</th>\n      <th>2/28/2010</th>\n      <th>3/31/2010</th>\n      <th>4/30/2010</th>\n      <th>...</th>\n      <th>6/30/2019</th>\n      <th>7/31/2019</th>\n      <th>8/31/2019</th>\n      <th>9/30/2019</th>\n      <th>10/31/2019</th>\n      <th>11/30/2019</th>\n      <th>12/31/2019</th>\n      <th>1/31/2020</th>\n      <th>2/29/2020</th>\n      <th>3/31/2020</th>\n    </tr>\n  </thead>\n  <tbody>\n    <tr>\n      <th>0</th>\n      <td>2</td>\n      <td>1</td>\n      <td>Houston</td>\n      <td>TX</td>\n      <td>Houston-The Woodlands-Sugar Land</td>\n      <td>Harris County</td>\n      <td>67653.0</td>\n      <td>67444.0</td>\n      <td>67260.0</td>\n      <td>67041.0</td>\n      <td>...</td>\n      <td>104937</td>\n      <td>105155</td>\n      <td>105502</td>\n      <td>105618</td>\n      <td>106083</td>\n      <td>106186</td>\n      <td>106299</td>\n      <td>106161</td>\n      <td>106271</td>\n      <td>106635</td>\n    </tr>\n    <tr>\n      <th>1</th>\n      <td>110</td>\n      <td>1</td>\n      <td>Spring</td>\n      <td>TX</td>\n      <td>Houston-The Woodlands-Sugar Land</td>\n      <td>Harris County</td>\n      <td>54159.0</td>\n      <td>53215.0</td>\n      <td>52607.0</td>\n      <td>52807.0</td>\n      <td>...</td>\n      <td>88793</td>\n      <td>89402</td>\n      <td>90151</td>\n      <td>90444</td>\n      <td>91064</td>\n      <td>91668</td>\n      <td>92500</td>\n      <td>93108</td>\n      <td>93931</td>\n      <td>94948</td>\n    </tr>\n    <tr>\n      <th>2</th>\n      <td>187</td>\n      <td>1</td>\n      <td>Sugar Land</td>\n      <td>TX</td>\n      <td>Houston-The Woodlands-Sugar Land</td>\n      <td>Fort Bend County</td>\n      <td>212721.0</td>\n      <td>214502.0</td>\n      <td>216879.0</td>\n      <td>218827.0</td>\n      <td>...</td>\n      <td>239912</td>\n      <td>239079</td>\n      <td>239124</td>\n      <td>239166</td>\n      <td>240193</td>\n      <td>242007</td>\n      <td>241984</td>\n      <td>241888</td>\n      <td>242018</td>\n      <td>241986</td>\n    </tr>\n    <tr>\n      <th>3</th>\n      <td>209</td>\n      <td>1</td>\n      <td>Cypress</td>\n      <td>TX</td>\n      <td>Houston-The Woodlands-Sugar Land</td>\n      <td>Harris County</td>\n      <td>83279.0</td>\n      <td>82383.0</td>\n      <td>82490.0</td>\n      <td>82944.0</td>\n      <td>...</td>\n      <td>134336</td>\n      <td>135568</td>\n      <td>135976</td>\n      <td>136333</td>\n      <td>137155</td>\n      <td>137673</td>\n      <td>138310</td>\n      <td>137995</td>\n      <td>137454</td>\n      <td>136950</td>\n    </tr>\n    <tr>\n      <th>4</th>\n      <td>218</td>\n      <td>1</td>\n      <td>Conroe</td>\n      <td>TX</td>\n      <td>Houston-The Woodlands-Sugar Land</td>\n      <td>Montgomery County</td>\n      <td>142717.0</td>\n      <td>142310.0</td>\n      <td>140592.0</td>\n      <td>139575.0</td>\n      <td>...</td>\n      <td>220807</td>\n      <td>221831</td>\n      <td>222446</td>\n      <td>223048</td>\n      <td>224432</td>\n      <td>224717</td>\n      <td>224159</td>\n      <td>222976</td>\n      <td>222007</td>\n      <td>220157</td>\n    </tr>\n    <tr>\n      <th>...</th>\n      <td>...</td>\n      <td>...</td>\n      <td>...</td>\n      <td>...</td>\n      <td>...</td>\n      <td>...</td>\n      <td>...</td>\n      <td>...</td>\n      <td>...</td>\n      <td>...</td>\n      <td>...</td>\n      <td>...</td>\n      <td>...</td>\n      <td>...</td>\n      <td>...</td>\n      <td>...</td>\n      <td>...</td>\n      <td>...</td>\n      <td>...</td>\n      <td>...</td>\n      <td>...</td>\n    </tr>\n    <tr>\n      <th>570</th>\n      <td>18435</td>\n      <td>5</td>\n      <td>Morgans Point</td>\n      <td>TX</td>\n      <td>Houston-The Woodlands-Sugar Land</td>\n      <td>Harris County</td>\n      <td>378619.0</td>\n      <td>381411.0</td>\n      <td>386253.0</td>\n      <td>388340.0</td>\n      <td>...</td>\n      <td>702473</td>\n      <td>704800</td>\n      <td>704480</td>\n      <td>707487</td>\n      <td>713194</td>\n      <td>721005</td>\n      <td>726920</td>\n      <td>730948</td>\n      <td>732360</td>\n      <td>732224</td>\n    </tr>\n    <tr>\n      <th>571</th>\n      <td>18625</td>\n      <td>5</td>\n      <td>Wallis</td>\n      <td>TX</td>\n      <td>Houston-The Woodlands-Sugar Land</td>\n      <td>Austin County</td>\n      <td>NaN</td>\n      <td>NaN</td>\n      <td>NaN</td>\n      <td>NaN</td>\n      <td>...</td>\n      <td>165336</td>\n      <td>165466</td>\n      <td>166338</td>\n      <td>166778</td>\n      <td>166780</td>\n      <td>166123</td>\n      <td>165830</td>\n      <td>166579</td>\n      <td>166822</td>\n      <td>167583</td>\n    </tr>\n    <tr>\n      <th>572</th>\n      <td>18722</td>\n      <td>5</td>\n      <td>Jamaica Beach</td>\n      <td>TX</td>\n      <td>Houston-The Woodlands-Sugar Land</td>\n      <td>Galveston County</td>\n      <td>550524.0</td>\n      <td>552243.0</td>\n      <td>548603.0</td>\n      <td>538650.0</td>\n      <td>...</td>\n      <td>656209</td>\n      <td>656624</td>\n      <td>655992</td>\n      <td>656511</td>\n      <td>655356</td>\n      <td>656806</td>\n      <td>655688</td>\n      <td>655114</td>\n      <td>652268</td>\n      <td>649370</td>\n    </tr>\n    <tr>\n      <th>573</th>\n      <td>18726</td>\n      <td>5</td>\n      <td>Surfside Beach</td>\n      <td>TX</td>\n      <td>Houston-The Woodlands-Sugar Land</td>\n      <td>Brazoria County</td>\n      <td>298089.0</td>\n      <td>294899.0</td>\n      <td>291515.0</td>\n      <td>286260.0</td>\n      <td>...</td>\n      <td>457049</td>\n      <td>456514</td>\n      <td>456555</td>\n      <td>458114</td>\n      <td>462450</td>\n      <td>466920</td>\n      <td>472154</td>\n      <td>476587</td>\n      <td>480253</td>\n      <td>482405</td>\n    </tr>\n    <tr>\n      <th>574</th>\n      <td>18750</td>\n      <td>5</td>\n      <td>Fairchilds</td>\n      <td>TX</td>\n      <td>Houston-The Woodlands-Sugar Land</td>\n      <td>Fort Bend County</td>\n      <td>NaN</td>\n      <td>NaN</td>\n      <td>NaN</td>\n      <td>NaN</td>\n      <td>...</td>\n      <td>376055</td>\n      <td>377547</td>\n      <td>379961</td>\n      <td>382507</td>\n      <td>384938</td>\n      <td>386972</td>\n      <td>389187</td>\n      <td>387800</td>\n      <td>386879</td>\n      <td>384703</td>\n    </tr>\n  </tbody>\n</table>\n<p>575 rows × 129 columns</p>\n</div>"
     },
     "metadata": {},
     "execution_count": 88
    }
   ],
   "source": [
    "housing_df= housing_df.drop(columns=[\"RegionID\", \"RegionType\", \"StateName\"])\n",
    "housing_df"
   ]
  },
  {
   "cell_type": "code",
   "execution_count": 89,
   "metadata": {},
   "outputs": [
    {
     "output_type": "execute_result",
     "data": {
      "text/plain": [
       "       Identifier  Bedroom      RegionName State  \\\n",
       "0               2        1         Houston    TX   \n",
       "1             110        1          Spring    TX   \n",
       "2             187        1      Sugar Land    TX   \n",
       "3             209        1         Cypress    TX   \n",
       "4             218        1          Conroe    TX   \n",
       "...           ...      ...             ...   ...   \n",
       "70720       18435        5   Morgans Point    TX   \n",
       "70721       18625        5          Wallis    TX   \n",
       "70722       18722        5   Jamaica Beach    TX   \n",
       "70723       18726        5  Surfside Beach    TX   \n",
       "70724       18750        5      Fairchilds    TX   \n",
       "\n",
       "                                  Metro         CountyName       Date  \\\n",
       "0      Houston-The Woodlands-Sugar Land      Harris County  1/31/2010   \n",
       "1      Houston-The Woodlands-Sugar Land      Harris County  1/31/2010   \n",
       "2      Houston-The Woodlands-Sugar Land   Fort Bend County  1/31/2010   \n",
       "3      Houston-The Woodlands-Sugar Land      Harris County  1/31/2010   \n",
       "4      Houston-The Woodlands-Sugar Land  Montgomery County  1/31/2010   \n",
       "...                                 ...                ...        ...   \n",
       "70720  Houston-The Woodlands-Sugar Land      Harris County  3/31/2020   \n",
       "70721  Houston-The Woodlands-Sugar Land      Austin County  3/31/2020   \n",
       "70722  Houston-The Woodlands-Sugar Land   Galveston County  3/31/2020   \n",
       "70723  Houston-The Woodlands-Sugar Land    Brazoria County  3/31/2020   \n",
       "70724  Houston-The Woodlands-Sugar Land   Fort Bend County  3/31/2020   \n",
       "\n",
       "          Price  \n",
       "0       67653.0  \n",
       "1       54159.0  \n",
       "2      212721.0  \n",
       "3       83279.0  \n",
       "4      142717.0  \n",
       "...         ...  \n",
       "70720  732224.0  \n",
       "70721  167583.0  \n",
       "70722  649370.0  \n",
       "70723  482405.0  \n",
       "70724  384703.0  \n",
       "\n",
       "[70725 rows x 8 columns]"
      ],
      "text/html": "<div>\n<style scoped>\n    .dataframe tbody tr th:only-of-type {\n        vertical-align: middle;\n    }\n\n    .dataframe tbody tr th {\n        vertical-align: top;\n    }\n\n    .dataframe thead th {\n        text-align: right;\n    }\n</style>\n<table border=\"1\" class=\"dataframe\">\n  <thead>\n    <tr style=\"text-align: right;\">\n      <th></th>\n      <th>Identifier</th>\n      <th>Bedroom</th>\n      <th>RegionName</th>\n      <th>State</th>\n      <th>Metro</th>\n      <th>CountyName</th>\n      <th>Date</th>\n      <th>Price</th>\n    </tr>\n  </thead>\n  <tbody>\n    <tr>\n      <th>0</th>\n      <td>2</td>\n      <td>1</td>\n      <td>Houston</td>\n      <td>TX</td>\n      <td>Houston-The Woodlands-Sugar Land</td>\n      <td>Harris County</td>\n      <td>1/31/2010</td>\n      <td>67653.0</td>\n    </tr>\n    <tr>\n      <th>1</th>\n      <td>110</td>\n      <td>1</td>\n      <td>Spring</td>\n      <td>TX</td>\n      <td>Houston-The Woodlands-Sugar Land</td>\n      <td>Harris County</td>\n      <td>1/31/2010</td>\n      <td>54159.0</td>\n    </tr>\n    <tr>\n      <th>2</th>\n      <td>187</td>\n      <td>1</td>\n      <td>Sugar Land</td>\n      <td>TX</td>\n      <td>Houston-The Woodlands-Sugar Land</td>\n      <td>Fort Bend County</td>\n      <td>1/31/2010</td>\n      <td>212721.0</td>\n    </tr>\n    <tr>\n      <th>3</th>\n      <td>209</td>\n      <td>1</td>\n      <td>Cypress</td>\n      <td>TX</td>\n      <td>Houston-The Woodlands-Sugar Land</td>\n      <td>Harris County</td>\n      <td>1/31/2010</td>\n      <td>83279.0</td>\n    </tr>\n    <tr>\n      <th>4</th>\n      <td>218</td>\n      <td>1</td>\n      <td>Conroe</td>\n      <td>TX</td>\n      <td>Houston-The Woodlands-Sugar Land</td>\n      <td>Montgomery County</td>\n      <td>1/31/2010</td>\n      <td>142717.0</td>\n    </tr>\n    <tr>\n      <th>...</th>\n      <td>...</td>\n      <td>...</td>\n      <td>...</td>\n      <td>...</td>\n      <td>...</td>\n      <td>...</td>\n      <td>...</td>\n      <td>...</td>\n    </tr>\n    <tr>\n      <th>70720</th>\n      <td>18435</td>\n      <td>5</td>\n      <td>Morgans Point</td>\n      <td>TX</td>\n      <td>Houston-The Woodlands-Sugar Land</td>\n      <td>Harris County</td>\n      <td>3/31/2020</td>\n      <td>732224.0</td>\n    </tr>\n    <tr>\n      <th>70721</th>\n      <td>18625</td>\n      <td>5</td>\n      <td>Wallis</td>\n      <td>TX</td>\n      <td>Houston-The Woodlands-Sugar Land</td>\n      <td>Austin County</td>\n      <td>3/31/2020</td>\n      <td>167583.0</td>\n    </tr>\n    <tr>\n      <th>70722</th>\n      <td>18722</td>\n      <td>5</td>\n      <td>Jamaica Beach</td>\n      <td>TX</td>\n      <td>Houston-The Woodlands-Sugar Land</td>\n      <td>Galveston County</td>\n      <td>3/31/2020</td>\n      <td>649370.0</td>\n    </tr>\n    <tr>\n      <th>70723</th>\n      <td>18726</td>\n      <td>5</td>\n      <td>Surfside Beach</td>\n      <td>TX</td>\n      <td>Houston-The Woodlands-Sugar Land</td>\n      <td>Brazoria County</td>\n      <td>3/31/2020</td>\n      <td>482405.0</td>\n    </tr>\n    <tr>\n      <th>70724</th>\n      <td>18750</td>\n      <td>5</td>\n      <td>Fairchilds</td>\n      <td>TX</td>\n      <td>Houston-The Woodlands-Sugar Land</td>\n      <td>Fort Bend County</td>\n      <td>3/31/2020</td>\n      <td>384703.0</td>\n    </tr>\n  </tbody>\n</table>\n<p>70725 rows × 8 columns</p>\n</div>"
     },
     "metadata": {},
     "execution_count": 89
    }
   ],
   "source": [
    "housing_df.melt(id_vars=[\"Identifier\", \"Bedroom\", \"RegionName\", \"State\", \"Metro\", \"CountyName\"], \n",
    "        var_name=\"Date\", \n",
    "        value_name=\"Price\")\n"
   ]
  },
  {
   "cell_type": "code",
   "execution_count": 91,
   "metadata": {},
   "outputs": [
    {
     "output_type": "error",
     "ename": "TypeError",
     "evalue": "set_index() got an unexpected keyword argument 'columns'",
     "traceback": [
      "\u001b[1;31m---------------------------------------------------------------------------\u001b[0m",
      "\u001b[1;31mTypeError\u001b[0m                                 Traceback (most recent call last)",
      "\u001b[1;32m<ipython-input-91-76ecba1034ec>\u001b[0m in \u001b[0;36m<module>\u001b[1;34m\u001b[0m\n\u001b[1;32m----> 1\u001b[1;33m \u001b[0mhousing_df\u001b[0m \u001b[1;33m=\u001b[0m \u001b[0mhousing_df\u001b[0m\u001b[1;33m.\u001b[0m\u001b[0mset_index\u001b[0m\u001b[1;33m(\u001b[0m\u001b[0mcolumns\u001b[0m\u001b[1;33m=\u001b[0m\u001b[1;33m[\u001b[0m\u001b[1;34m\"Date\"\u001b[0m\u001b[1;33m]\u001b[0m\u001b[1;33m)\u001b[0m\u001b[1;33m\u001b[0m\u001b[1;33m\u001b[0m\u001b[0m\n\u001b[0m",
      "\u001b[1;31mTypeError\u001b[0m: set_index() got an unexpected keyword argument 'columns'"
     ]
    }
   ],
   "source": [
    "housing_df = housing_df.set_index(\"Date\")"
   ]
  },
  {
   "cell_type": "code",
   "execution_count": null,
   "metadata": {},
   "outputs": [],
   "source": []
  }
 ]
}