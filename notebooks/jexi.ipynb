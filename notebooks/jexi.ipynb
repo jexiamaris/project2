{
 "metadata": {
  "language_info": {
   "codemirror_mode": {
    "name": "ipython",
    "version": 3
   },
   "file_extension": ".py",
   "mimetype": "text/x-python",
   "name": "python",
   "nbconvert_exporter": "python",
   "pygments_lexer": "ipython3",
   "version": "3.8.3-final"
  },
  "orig_nbformat": 2,
  "kernelspec": {
   "name": "python3",
   "display_name": "Python 3.8.3 64-bit (conda)",
   "metadata": {
    "interpreter": {
     "hash": "3b2d1872a97fb64bbb0bf089e5dc4a4b17c31375caf39a3144f71c656be998ab"
    }
   }
  }
 },
 "nbformat": 4,
 "nbformat_minor": 2,
 "cells": [
  {
   "cell_type": "code",
   "execution_count": 2,
   "metadata": {},
   "outputs": [],
   "source": [
    "# Initial imports\n",
    "import pandas as pd\n",
    "import numpy as np\n",
    "import matplotlib.pyplot as plt\n",
    "import tensorflow as tf\n",
    "from pathlib import Path\n",
    "\n",
    "%matplotlib inline"
   ]
  },
  {
   "cell_type": "code",
   "execution_count": 4,
   "metadata": {},
   "outputs": [
    {
     "output_type": "execute_result",
     "data": {
      "text/plain": [
       "      Identifier  Bedroom     Price  Average_Market_Days  RegionName_Crosby  \\\n",
       "0              2        1   67653.0                133.0                  0   \n",
       "1              2        2   89995.0                133.0                  0   \n",
       "2              2        3  116641.0                133.0                  0   \n",
       "3              2        4  167849.0                133.0                  0   \n",
       "4              2        5  303323.0                133.0                  0   \n",
       "...          ...      ...       ...                  ...                ...   \n",
       "1215         223        1   79380.0                100.0                  0   \n",
       "1216         223        2  121517.0                100.0                  0   \n",
       "1217         223        3  159204.0                100.0                  0   \n",
       "1218        1811        2  157660.0                108.0                  0   \n",
       "1219        2134        2  125585.0                156.0                  1   \n",
       "\n",
       "      RegionName_Houston  RegionName_Pasadena  RegionName_Porter  State_TX  \\\n",
       "0                      1                    0                  0         1   \n",
       "1                      1                    0                  0         1   \n",
       "2                      1                    0                  0         1   \n",
       "3                      1                    0                  0         1   \n",
       "4                      1                    0                  0         1   \n",
       "...                  ...                  ...                ...       ...   \n",
       "1215                   0                    1                  0         1   \n",
       "1216                   0                    1                  0         1   \n",
       "1217                   0                    1                  0         1   \n",
       "1218                   0                    0                  1         1   \n",
       "1219                   0                    0                  0         1   \n",
       "\n",
       "      Metro_Houston-The Woodlands-Sugar Land  CountyName_Harris County  \\\n",
       "0                                          1                         1   \n",
       "1                                          1                         1   \n",
       "2                                          1                         1   \n",
       "3                                          1                         1   \n",
       "4                                          1                         1   \n",
       "...                                      ...                       ...   \n",
       "1215                                       1                         1   \n",
       "1216                                       1                         1   \n",
       "1217                                       1                         1   \n",
       "1218                                       1                         0   \n",
       "1219                                       1                         1   \n",
       "\n",
       "      CountyName_Montgomery County  \n",
       "0                                0  \n",
       "1                                0  \n",
       "2                                0  \n",
       "3                                0  \n",
       "4                                0  \n",
       "...                            ...  \n",
       "1215                             0  \n",
       "1216                             0  \n",
       "1217                             0  \n",
       "1218                             1  \n",
       "1219                             0  \n",
       "\n",
       "[1220 rows x 12 columns]"
      ],
      "text/html": "<div>\n<style scoped>\n    .dataframe tbody tr th:only-of-type {\n        vertical-align: middle;\n    }\n\n    .dataframe tbody tr th {\n        vertical-align: top;\n    }\n\n    .dataframe thead th {\n        text-align: right;\n    }\n</style>\n<table border=\"1\" class=\"dataframe\">\n  <thead>\n    <tr style=\"text-align: right;\">\n      <th></th>\n      <th>Identifier</th>\n      <th>Bedroom</th>\n      <th>Price</th>\n      <th>Average_Market_Days</th>\n      <th>RegionName_Crosby</th>\n      <th>RegionName_Houston</th>\n      <th>RegionName_Pasadena</th>\n      <th>RegionName_Porter</th>\n      <th>State_TX</th>\n      <th>Metro_Houston-The Woodlands-Sugar Land</th>\n      <th>CountyName_Harris County</th>\n      <th>CountyName_Montgomery County</th>\n    </tr>\n  </thead>\n  <tbody>\n    <tr>\n      <th>0</th>\n      <td>2</td>\n      <td>1</td>\n      <td>67653.0</td>\n      <td>133.0</td>\n      <td>0</td>\n      <td>1</td>\n      <td>0</td>\n      <td>0</td>\n      <td>1</td>\n      <td>1</td>\n      <td>1</td>\n      <td>0</td>\n    </tr>\n    <tr>\n      <th>1</th>\n      <td>2</td>\n      <td>2</td>\n      <td>89995.0</td>\n      <td>133.0</td>\n      <td>0</td>\n      <td>1</td>\n      <td>0</td>\n      <td>0</td>\n      <td>1</td>\n      <td>1</td>\n      <td>1</td>\n      <td>0</td>\n    </tr>\n    <tr>\n      <th>2</th>\n      <td>2</td>\n      <td>3</td>\n      <td>116641.0</td>\n      <td>133.0</td>\n      <td>0</td>\n      <td>1</td>\n      <td>0</td>\n      <td>0</td>\n      <td>1</td>\n      <td>1</td>\n      <td>1</td>\n      <td>0</td>\n    </tr>\n    <tr>\n      <th>3</th>\n      <td>2</td>\n      <td>4</td>\n      <td>167849.0</td>\n      <td>133.0</td>\n      <td>0</td>\n      <td>1</td>\n      <td>0</td>\n      <td>0</td>\n      <td>1</td>\n      <td>1</td>\n      <td>1</td>\n      <td>0</td>\n    </tr>\n    <tr>\n      <th>4</th>\n      <td>2</td>\n      <td>5</td>\n      <td>303323.0</td>\n      <td>133.0</td>\n      <td>0</td>\n      <td>1</td>\n      <td>0</td>\n      <td>0</td>\n      <td>1</td>\n      <td>1</td>\n      <td>1</td>\n      <td>0</td>\n    </tr>\n    <tr>\n      <th>...</th>\n      <td>...</td>\n      <td>...</td>\n      <td>...</td>\n      <td>...</td>\n      <td>...</td>\n      <td>...</td>\n      <td>...</td>\n      <td>...</td>\n      <td>...</td>\n      <td>...</td>\n      <td>...</td>\n      <td>...</td>\n    </tr>\n    <tr>\n      <th>1215</th>\n      <td>223</td>\n      <td>1</td>\n      <td>79380.0</td>\n      <td>100.0</td>\n      <td>0</td>\n      <td>0</td>\n      <td>1</td>\n      <td>0</td>\n      <td>1</td>\n      <td>1</td>\n      <td>1</td>\n      <td>0</td>\n    </tr>\n    <tr>\n      <th>1216</th>\n      <td>223</td>\n      <td>2</td>\n      <td>121517.0</td>\n      <td>100.0</td>\n      <td>0</td>\n      <td>0</td>\n      <td>1</td>\n      <td>0</td>\n      <td>1</td>\n      <td>1</td>\n      <td>1</td>\n      <td>0</td>\n    </tr>\n    <tr>\n      <th>1217</th>\n      <td>223</td>\n      <td>3</td>\n      <td>159204.0</td>\n      <td>100.0</td>\n      <td>0</td>\n      <td>0</td>\n      <td>1</td>\n      <td>0</td>\n      <td>1</td>\n      <td>1</td>\n      <td>1</td>\n      <td>0</td>\n    </tr>\n    <tr>\n      <th>1218</th>\n      <td>1811</td>\n      <td>2</td>\n      <td>157660.0</td>\n      <td>108.0</td>\n      <td>0</td>\n      <td>0</td>\n      <td>0</td>\n      <td>1</td>\n      <td>1</td>\n      <td>1</td>\n      <td>0</td>\n      <td>1</td>\n    </tr>\n    <tr>\n      <th>1219</th>\n      <td>2134</td>\n      <td>2</td>\n      <td>125585.0</td>\n      <td>156.0</td>\n      <td>1</td>\n      <td>0</td>\n      <td>0</td>\n      <td>0</td>\n      <td>1</td>\n      <td>1</td>\n      <td>1</td>\n      <td>0</td>\n    </tr>\n  </tbody>\n</table>\n<p>1220 rows × 12 columns</p>\n</div>"
     },
     "metadata": {},
     "execution_count": 4
    }
   ],
   "source": [
    "# Load Data \n",
    "housing_df = pd.read_csv(Path(\"../data/housing_data_encoded.csv\"))\n",
    "housing_df"
   ]
  },
  {
   "cell_type": "code",
   "execution_count": 5,
   "metadata": {},
   "outputs": [
    {
     "output_type": "stream",
     "name": "stdout",
     "text": [
      "<class 'pandas.core.frame.DataFrame'>\nRangeIndex: 1220 entries, 0 to 1219\nData columns (total 12 columns):\n #   Column                                  Non-Null Count  Dtype  \n---  ------                                  --------------  -----  \n 0   Identifier                              1220 non-null   int64  \n 1   Bedroom                                 1220 non-null   int64  \n 2   Price                                   1151 non-null   float64\n 3   Average_Market_Days                     1030 non-null   float64\n 4   RegionName_Crosby                       1220 non-null   int64  \n 5   RegionName_Houston                      1220 non-null   int64  \n 6   RegionName_Pasadena                     1220 non-null   int64  \n 7   RegionName_Porter                       1220 non-null   int64  \n 8   State_TX                                1220 non-null   int64  \n 9   Metro_Houston-The Woodlands-Sugar Land  1220 non-null   int64  \n 10  CountyName_Harris County                1220 non-null   int64  \n 11  CountyName_Montgomery County            1220 non-null   int64  \ndtypes: float64(2), int64(10)\nmemory usage: 114.5 KB\n"
     ]
    }
   ],
   "source": [
    "housing_df.info()"
   ]
  },
  {
   "cell_type": "code",
   "execution_count": 6,
   "metadata": {},
   "outputs": [],
   "source": [
    "housing_df= housing_df.dropna()"
   ]
  },
  {
   "cell_type": "code",
   "execution_count": null,
   "metadata": {},
   "outputs": [],
   "source": [
    "# Calculate & display 20 day SMA\n",
    "df['SMA'] = df['Last'].rolling(50).mean()\n",
    "df[['Last', 'SMA']].plot(title='BTC-USD Daily Price & 50 Day SMA: 2016-Present',figsize=(10,6))"
   ]
  },
  {
   "cell_type": "code",
   "execution_count": 7,
   "metadata": {},
   "outputs": [],
   "source": [
    "# Creating the X and y sets\n",
    "X = housing_df.drop(columns=[\"Price\"]).values\n",
    "y = housing_df[\"Price\"].values"
   ]
  },
  {
   "cell_type": "code",
   "execution_count": 8,
   "metadata": {},
   "outputs": [],
   "source": [
    "# Creating training, validation, and testing sets\n",
    "from sklearn.model_selection import train_test_split\n",
    "\n",
    "X_train, X_test, y_train, y_test = train_test_split(X, y, random_state=0)\n",
    "\n",
    "X_train, X_val, y_train, y_val = train_test_split(X_test, y_test, random_state=0)"
   ]
  },
  {
   "cell_type": "code",
   "execution_count": 7,
   "metadata": {},
   "outputs": [],
   "source": [
    "# Import the StandardScaler from sklearn\n",
    "from sklearn.preprocessing import StandardScaler\n",
    "\n",
    "# Scale the data\n",
    "scaler = StandardScaler().fit(X_train)\n",
    "X = scaler.transform(X_train)"
   ]
  },
  {
   "cell_type": "code",
   "execution_count": 8,
   "metadata": {},
   "outputs": [],
   "source": [
    "# Build and train the Deep Learning Model\n",
    "\n",
    "# Import Keras modules for model creation\n",
    "from tensorflow.keras.models import Sequential\n",
    "from tensorflow.keras.layers import Dense"
   ]
  },
  {
   "cell_type": "code",
   "execution_count": 9,
   "metadata": {},
   "outputs": [],
   "source": [
    "# Model set-up\n",
    "number_input_features = 11\n",
    "hidden_nodes_layer1 = 15\n",
    "hidden_nodes_layer2 = 10"
   ]
  },
  {
   "cell_type": "code",
   "execution_count": 10,
   "metadata": {},
   "outputs": [],
   "source": [
    "# Define the LSTM RNN model\n",
    "model = Sequential()\n",
    "\n",
    "# Layer 1\n",
    "model.add(\n",
    "    Dense(units=hidden_nodes_layer1, input_dim=number_input_features, activation=\"relu\")\n",
    ")\n",
    "\n",
    "# Layer 2\n",
    "model.add(Dense(units=hidden_nodes_layer2, activation=\"relu\"))\n",
    "\n",
    "# Output layer\n",
    "model.add(Dense(1, activation=\"linear\"))"
   ]
  },
  {
   "cell_type": "code",
   "execution_count": 11,
   "metadata": {},
   "outputs": [],
   "source": [
    "# Compile the model\n",
    "model.compile(\n",
    "    loss=\"mse\",\n",
    "    optimizer=\"adam\",\n",
    "   \n",
    ")"
   ]
  },
  {
   "cell_type": "code",
   "execution_count": 12,
   "metadata": {},
   "outputs": [
    {
     "output_type": "stream",
     "name": "stdout",
     "text": [
      "Model: \"sequential\"\n_________________________________________________________________\nLayer (type)                 Output Shape              Param #   \n=================================================================\ndense (Dense)                (None, 15)                180       \n_________________________________________________________________\ndense_1 (Dense)              (None, 10)                160       \n_________________________________________________________________\ndense_2 (Dense)              (None, 1)                 11        \n=================================================================\nTotal params: 351\nTrainable params: 351\nNon-trainable params: 0\n_________________________________________________________________\n"
     ]
    }
   ],
   "source": [
    "# Summarize the model\n",
    "model.summary()"
   ]
  },
  {
   "cell_type": "code",
   "execution_count": 13,
   "metadata": {},
   "outputs": [
    {
     "output_type": "stream",
     "name": "stdout",
     "text": [
      "Epoch 1/50\n",
      "1/1 [==============================] - 2s 2s/step - loss: 27987759104.0000 - val_loss: 28508108800.0000\n",
      "Epoch 2/50\n",
      "1/1 [==============================] - 0s 87ms/step - loss: 27987597312.0000 - val_loss: 28507940864.0000\n",
      "Epoch 3/50\n",
      "1/1 [==============================] - 0s 76ms/step - loss: 27987433472.0000 - val_loss: 28507770880.0000\n",
      "Epoch 4/50\n",
      "1/1 [==============================] - 0s 104ms/step - loss: 27987267584.0000 - val_loss: 28507600896.0000\n",
      "Epoch 5/50\n",
      "1/1 [==============================] - 0s 82ms/step - loss: 27987095552.0000 - val_loss: 28507420672.0000\n",
      "Epoch 6/50\n",
      "1/1 [==============================] - 0s 77ms/step - loss: 27986917376.0000 - val_loss: 28507242496.0000\n",
      "Epoch 7/50\n",
      "1/1 [==============================] - 0s 80ms/step - loss: 27986737152.0000 - val_loss: 28507056128.0000\n",
      "Epoch 8/50\n",
      "1/1 [==============================] - 0s 79ms/step - loss: 27986556928.0000 - val_loss: 28506871808.0000\n",
      "Epoch 9/50\n",
      "1/1 [==============================] - 0s 79ms/step - loss: 27986374656.0000 - val_loss: 28506689536.0000\n",
      "Epoch 10/50\n",
      "1/1 [==============================] - 0s 77ms/step - loss: 27986188288.0000 - val_loss: 28506503168.0000\n",
      "Epoch 11/50\n",
      "1/1 [==============================] - 0s 78ms/step - loss: 27986008064.0000 - val_loss: 28506320896.0000\n",
      "Epoch 12/50\n",
      "1/1 [==============================] - 0s 102ms/step - loss: 27985821696.0000 - val_loss: 28506132480.0000\n",
      "Epoch 13/50\n",
      "1/1 [==============================] - 0s 68ms/step - loss: 27985637376.0000 - val_loss: 28505948160.0000\n",
      "Epoch 14/50\n",
      "1/1 [==============================] - 0s 88ms/step - loss: 27985453056.0000 - val_loss: 28505761792.0000\n",
      "Epoch 15/50\n",
      "1/1 [==============================] - 0s 89ms/step - loss: 27985262592.0000 - val_loss: 28505571328.0000\n",
      "Epoch 16/50\n",
      "1/1 [==============================] - 0s 84ms/step - loss: 27985078272.0000 - val_loss: 28505384960.0000\n",
      "Epoch 17/50\n",
      "1/1 [==============================] - 0s 101ms/step - loss: 27984887808.0000 - val_loss: 28505196544.0000\n",
      "Epoch 18/50\n",
      "1/1 [==============================] - 0s 84ms/step - loss: 27984703488.0000 - val_loss: 28505004032.0000\n",
      "Epoch 19/50\n",
      "1/1 [==============================] - 0s 77ms/step - loss: 27984515072.0000 - val_loss: 28504813568.0000\n",
      "Epoch 20/50\n",
      "1/1 [==============================] - 0s 87ms/step - loss: 27984328704.0000 - val_loss: 28504623104.0000\n",
      "Epoch 21/50\n",
      "1/1 [==============================] - 0s 79ms/step - loss: 27984140288.0000 - val_loss: 28504432640.0000\n",
      "Epoch 22/50\n",
      "1/1 [==============================] - 0s 82ms/step - loss: 27983949824.0000 - val_loss: 28504242176.0000\n",
      "Epoch 23/50\n",
      "1/1 [==============================] - 0s 69ms/step - loss: 27983761408.0000 - val_loss: 28504053760.0000\n",
      "Epoch 24/50\n",
      "1/1 [==============================] - 0s 78ms/step - loss: 27983572992.0000 - val_loss: 28503859200.0000\n",
      "Epoch 25/50\n",
      "1/1 [==============================] - 0s 87ms/step - loss: 27983382528.0000 - val_loss: 28503666688.0000\n",
      "Epoch 26/50\n",
      "1/1 [==============================] - 0s 79ms/step - loss: 27983192064.0000 - val_loss: 28503470080.0000\n",
      "Epoch 27/50\n",
      "1/1 [==============================] - 0s 80ms/step - loss: 27982999552.0000 - val_loss: 28503273472.0000\n",
      "Epoch 28/50\n",
      "1/1 [==============================] - 0s 99ms/step - loss: 27982809088.0000 - val_loss: 28503074816.0000\n",
      "Epoch 29/50\n",
      "1/1 [==============================] - 0s 84ms/step - loss: 27982616576.0000 - val_loss: 28502874112.0000\n",
      "Epoch 30/50\n",
      "1/1 [==============================] - 0s 80ms/step - loss: 27982422016.0000 - val_loss: 28502677504.0000\n",
      "Epoch 31/50\n",
      "1/1 [==============================] - 0s 87ms/step - loss: 27982223360.0000 - val_loss: 28502476800.0000\n",
      "Epoch 32/50\n",
      "1/1 [==============================] - 0s 84ms/step - loss: 27982030848.0000 - val_loss: 28502269952.0000\n",
      "Epoch 33/50\n",
      "1/1 [==============================] - 0s 78ms/step - loss: 27981832192.0000 - val_loss: 28502065152.0000\n",
      "Epoch 34/50\n",
      "1/1 [==============================] - 0s 83ms/step - loss: 27981631488.0000 - val_loss: 28501856256.0000\n",
      "Epoch 35/50\n",
      "1/1 [==============================] - 0s 82ms/step - loss: 27981424640.0000 - val_loss: 28501647360.0000\n",
      "Epoch 36/50\n",
      "1/1 [==============================] - 0s 72ms/step - loss: 27981223936.0000 - val_loss: 28501440512.0000\n",
      "Epoch 37/50\n",
      "1/1 [==============================] - 0s 80ms/step - loss: 27981019136.0000 - val_loss: 28501225472.0000\n",
      "Epoch 38/50\n",
      "1/1 [==============================] - 0s 80ms/step - loss: 27980812288.0000 - val_loss: 28501012480.0000\n",
      "Epoch 39/50\n",
      "1/1 [==============================] - 0s 90ms/step - loss: 27980603392.0000 - val_loss: 28500797440.0000\n",
      "Epoch 40/50\n",
      "1/1 [==============================] - 0s 85ms/step - loss: 27980394496.0000 - val_loss: 28500578304.0000\n",
      "Epoch 41/50\n",
      "1/1 [==============================] - 0s 94ms/step - loss: 27980179456.0000 - val_loss: 28500359168.0000\n",
      "Epoch 42/50\n",
      "1/1 [==============================] - 0s 83ms/step - loss: 27979968512.0000 - val_loss: 28500137984.0000\n",
      "Epoch 43/50\n",
      "1/1 [==============================] - 0s 82ms/step - loss: 27979747328.0000 - val_loss: 28499910656.0000\n",
      "Epoch 44/50\n",
      "1/1 [==============================] - 0s 76ms/step - loss: 27979530240.0000 - val_loss: 28499681280.0000\n",
      "Epoch 45/50\n",
      "1/1 [==============================] - 0s 78ms/step - loss: 27979311104.0000 - val_loss: 28499447808.0000\n",
      "Epoch 46/50\n",
      "1/1 [==============================] - 0s 78ms/step - loss: 27979083776.0000 - val_loss: 28499210240.0000\n",
      "Epoch 47/50\n",
      "1/1 [==============================] - 0s 81ms/step - loss: 27978852352.0000 - val_loss: 28498960384.0000\n",
      "Epoch 48/50\n",
      "1/1 [==============================] - 0s 79ms/step - loss: 27978606592.0000 - val_loss: 28498702336.0000\n",
      "Epoch 49/50\n",
      "1/1 [==============================] - 0s 84ms/step - loss: 27978354688.0000 - val_loss: 28498438144.0000\n",
      "Epoch 50/50\n",
      "1/1 [==============================] - 0s 82ms/step - loss: 27978096640.0000 - val_loss: 28498171904.0000\n"
     ]
    }
   ],
   "source": [
    "# Training the model\n",
    "batch_size = 2000\n",
    "epochs = 50\n",
    "training_history = model.fit(\n",
    "    X_train,\n",
    "    y_train,\n",
    "    validation_data=(X_val, y_val),\n",
    "    epochs=epochs,\n",
    "    batch_size=batch_size,\n",
    "    verbose=1,\n",
    ")"
   ]
  },
  {
   "cell_type": "code",
   "execution_count": null,
   "metadata": {},
   "outputs": [],
   "source": []
  }
 ]
}