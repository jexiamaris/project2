{
 "metadata": {
  "language_info": {
   "codemirror_mode": {
    "name": "ipython",
    "version": 3
   },
   "file_extension": ".py",
   "mimetype": "text/x-python",
   "name": "python",
   "nbconvert_exporter": "python",
   "pygments_lexer": "ipython3",
   "version": "3.8.3-final"
  },
  "orig_nbformat": 2,
  "kernelspec": {
   "name": "python3",
   "display_name": "Python 3.8.3 64-bit (conda)",
   "metadata": {
    "interpreter": {
     "hash": "3b2d1872a97fb64bbb0bf089e5dc4a4b17c31375caf39a3144f71c656be998ab"
    }
   }
  }
 },
 "nbformat": 4,
 "nbformat_minor": 2,
 "cells": [
  {
   "cell_type": "code",
   "execution_count": 52,
   "metadata": {},
   "outputs": [],
   "source": [
    "# Initial imports\n",
    "import pandas as pd\n",
    "import numpy as np\n",
    "import matplotlib.pyplot as plt\n",
    "import tensorflow as tf\n",
    "from pathlib import Path\n",
    "\n",
    "%matplotlib inline"
   ]
  },
  {
   "cell_type": "code",
   "execution_count": 53,
   "metadata": {},
   "outputs": [
    {
     "output_type": "execute_result",
     "data": {
      "text/plain": [
       "            Identifier  Bedroom     Price  Average_Market_Days  \\\n",
       "Date                                                             \n",
       "2010-01-31           2        1   67653.0                133.0   \n",
       "2010-01-31           2        2   89995.0                133.0   \n",
       "2010-01-31           2        3  116641.0                133.0   \n",
       "2010-01-31           2        4  167849.0                133.0   \n",
       "2010-01-31           2        5  303323.0                133.0   \n",
       "...                ...      ...       ...                  ...   \n",
       "2020-02-29         223        1   79380.0                100.0   \n",
       "2020-02-29         223        2  121517.0                100.0   \n",
       "2020-02-29         223        3  159204.0                100.0   \n",
       "2020-02-29        1811        2  157660.0                108.0   \n",
       "2020-02-29        2134        2  125585.0                156.0   \n",
       "\n",
       "            RegionName_Crosby  RegionName_Houston  RegionName_Pasadena  \\\n",
       "Date                                                                     \n",
       "2010-01-31                  0                   1                    0   \n",
       "2010-01-31                  0                   1                    0   \n",
       "2010-01-31                  0                   1                    0   \n",
       "2010-01-31                  0                   1                    0   \n",
       "2010-01-31                  0                   1                    0   \n",
       "...                       ...                 ...                  ...   \n",
       "2020-02-29                  0                   0                    1   \n",
       "2020-02-29                  0                   0                    1   \n",
       "2020-02-29                  0                   0                    1   \n",
       "2020-02-29                  0                   0                    0   \n",
       "2020-02-29                  1                   0                    0   \n",
       "\n",
       "            RegionName_Porter  State_TX  \\\n",
       "Date                                      \n",
       "2010-01-31                  0         1   \n",
       "2010-01-31                  0         1   \n",
       "2010-01-31                  0         1   \n",
       "2010-01-31                  0         1   \n",
       "2010-01-31                  0         1   \n",
       "...                       ...       ...   \n",
       "2020-02-29                  0         1   \n",
       "2020-02-29                  0         1   \n",
       "2020-02-29                  0         1   \n",
       "2020-02-29                  1         1   \n",
       "2020-02-29                  0         1   \n",
       "\n",
       "            Metro_Houston-The Woodlands-Sugar Land  CountyName_Harris County  \\\n",
       "Date                                                                           \n",
       "2010-01-31                                       1                         1   \n",
       "2010-01-31                                       1                         1   \n",
       "2010-01-31                                       1                         1   \n",
       "2010-01-31                                       1                         1   \n",
       "2010-01-31                                       1                         1   \n",
       "...                                            ...                       ...   \n",
       "2020-02-29                                       1                         1   \n",
       "2020-02-29                                       1                         1   \n",
       "2020-02-29                                       1                         1   \n",
       "2020-02-29                                       1                         0   \n",
       "2020-02-29                                       1                         1   \n",
       "\n",
       "            CountyName_Montgomery County  \n",
       "Date                                      \n",
       "2010-01-31                             0  \n",
       "2010-01-31                             0  \n",
       "2010-01-31                             0  \n",
       "2010-01-31                             0  \n",
       "2010-01-31                             0  \n",
       "...                                  ...  \n",
       "2020-02-29                             0  \n",
       "2020-02-29                             0  \n",
       "2020-02-29                             0  \n",
       "2020-02-29                             1  \n",
       "2020-02-29                             0  \n",
       "\n",
       "[1220 rows x 12 columns]"
      ],
      "text/html": "<div>\n<style scoped>\n    .dataframe tbody tr th:only-of-type {\n        vertical-align: middle;\n    }\n\n    .dataframe tbody tr th {\n        vertical-align: top;\n    }\n\n    .dataframe thead th {\n        text-align: right;\n    }\n</style>\n<table border=\"1\" class=\"dataframe\">\n  <thead>\n    <tr style=\"text-align: right;\">\n      <th></th>\n      <th>Identifier</th>\n      <th>Bedroom</th>\n      <th>Price</th>\n      <th>Average_Market_Days</th>\n      <th>RegionName_Crosby</th>\n      <th>RegionName_Houston</th>\n      <th>RegionName_Pasadena</th>\n      <th>RegionName_Porter</th>\n      <th>State_TX</th>\n      <th>Metro_Houston-The Woodlands-Sugar Land</th>\n      <th>CountyName_Harris County</th>\n      <th>CountyName_Montgomery County</th>\n    </tr>\n    <tr>\n      <th>Date</th>\n      <th></th>\n      <th></th>\n      <th></th>\n      <th></th>\n      <th></th>\n      <th></th>\n      <th></th>\n      <th></th>\n      <th></th>\n      <th></th>\n      <th></th>\n      <th></th>\n    </tr>\n  </thead>\n  <tbody>\n    <tr>\n      <th>2010-01-31</th>\n      <td>2</td>\n      <td>1</td>\n      <td>67653.0</td>\n      <td>133.0</td>\n      <td>0</td>\n      <td>1</td>\n      <td>0</td>\n      <td>0</td>\n      <td>1</td>\n      <td>1</td>\n      <td>1</td>\n      <td>0</td>\n    </tr>\n    <tr>\n      <th>2010-01-31</th>\n      <td>2</td>\n      <td>2</td>\n      <td>89995.0</td>\n      <td>133.0</td>\n      <td>0</td>\n      <td>1</td>\n      <td>0</td>\n      <td>0</td>\n      <td>1</td>\n      <td>1</td>\n      <td>1</td>\n      <td>0</td>\n    </tr>\n    <tr>\n      <th>2010-01-31</th>\n      <td>2</td>\n      <td>3</td>\n      <td>116641.0</td>\n      <td>133.0</td>\n      <td>0</td>\n      <td>1</td>\n      <td>0</td>\n      <td>0</td>\n      <td>1</td>\n      <td>1</td>\n      <td>1</td>\n      <td>0</td>\n    </tr>\n    <tr>\n      <th>2010-01-31</th>\n      <td>2</td>\n      <td>4</td>\n      <td>167849.0</td>\n      <td>133.0</td>\n      <td>0</td>\n      <td>1</td>\n      <td>0</td>\n      <td>0</td>\n      <td>1</td>\n      <td>1</td>\n      <td>1</td>\n      <td>0</td>\n    </tr>\n    <tr>\n      <th>2010-01-31</th>\n      <td>2</td>\n      <td>5</td>\n      <td>303323.0</td>\n      <td>133.0</td>\n      <td>0</td>\n      <td>1</td>\n      <td>0</td>\n      <td>0</td>\n      <td>1</td>\n      <td>1</td>\n      <td>1</td>\n      <td>0</td>\n    </tr>\n    <tr>\n      <th>...</th>\n      <td>...</td>\n      <td>...</td>\n      <td>...</td>\n      <td>...</td>\n      <td>...</td>\n      <td>...</td>\n      <td>...</td>\n      <td>...</td>\n      <td>...</td>\n      <td>...</td>\n      <td>...</td>\n      <td>...</td>\n    </tr>\n    <tr>\n      <th>2020-02-29</th>\n      <td>223</td>\n      <td>1</td>\n      <td>79380.0</td>\n      <td>100.0</td>\n      <td>0</td>\n      <td>0</td>\n      <td>1</td>\n      <td>0</td>\n      <td>1</td>\n      <td>1</td>\n      <td>1</td>\n      <td>0</td>\n    </tr>\n    <tr>\n      <th>2020-02-29</th>\n      <td>223</td>\n      <td>2</td>\n      <td>121517.0</td>\n      <td>100.0</td>\n      <td>0</td>\n      <td>0</td>\n      <td>1</td>\n      <td>0</td>\n      <td>1</td>\n      <td>1</td>\n      <td>1</td>\n      <td>0</td>\n    </tr>\n    <tr>\n      <th>2020-02-29</th>\n      <td>223</td>\n      <td>3</td>\n      <td>159204.0</td>\n      <td>100.0</td>\n      <td>0</td>\n      <td>0</td>\n      <td>1</td>\n      <td>0</td>\n      <td>1</td>\n      <td>1</td>\n      <td>1</td>\n      <td>0</td>\n    </tr>\n    <tr>\n      <th>2020-02-29</th>\n      <td>1811</td>\n      <td>2</td>\n      <td>157660.0</td>\n      <td>108.0</td>\n      <td>0</td>\n      <td>0</td>\n      <td>0</td>\n      <td>1</td>\n      <td>1</td>\n      <td>1</td>\n      <td>0</td>\n      <td>1</td>\n    </tr>\n    <tr>\n      <th>2020-02-29</th>\n      <td>2134</td>\n      <td>2</td>\n      <td>125585.0</td>\n      <td>156.0</td>\n      <td>1</td>\n      <td>0</td>\n      <td>0</td>\n      <td>0</td>\n      <td>1</td>\n      <td>1</td>\n      <td>1</td>\n      <td>0</td>\n    </tr>\n  </tbody>\n</table>\n<p>1220 rows × 12 columns</p>\n</div>"
     },
     "metadata": {},
     "execution_count": 53
    }
   ],
   "source": [
    "# Load Data \n",
    "housing_df = pd.read_csv(Path(\"../../data/housing_data_encoded.csv\"), index_col=\"Date\", parse_dates=True, infer_datetime_format=True)\n",
    "housing_df"
   ]
  },
  {
   "cell_type": "code",
   "execution_count": 54,
   "metadata": {},
   "outputs": [
    {
     "output_type": "stream",
     "name": "stdout",
     "text": [
      "<class 'pandas.core.frame.DataFrame'>\nDatetimeIndex: 1220 entries, 2010-01-31 to 2020-02-29\nData columns (total 12 columns):\n #   Column                                  Non-Null Count  Dtype  \n---  ------                                  --------------  -----  \n 0   Identifier                              1220 non-null   int64  \n 1   Bedroom                                 1220 non-null   int64  \n 2   Price                                   1151 non-null   float64\n 3   Average_Market_Days                     1030 non-null   float64\n 4   RegionName_Crosby                       1220 non-null   int64  \n 5   RegionName_Houston                      1220 non-null   int64  \n 6   RegionName_Pasadena                     1220 non-null   int64  \n 7   RegionName_Porter                       1220 non-null   int64  \n 8   State_TX                                1220 non-null   int64  \n 9   Metro_Houston-The Woodlands-Sugar Land  1220 non-null   int64  \n 10  CountyName_Harris County                1220 non-null   int64  \n 11  CountyName_Montgomery County            1220 non-null   int64  \ndtypes: float64(2), int64(10)\nmemory usage: 123.9 KB\n"
     ]
    }
   ],
   "source": [
    "housing_df.info()"
   ]
  },
  {
   "cell_type": "code",
   "execution_count": 55,
   "metadata": {},
   "outputs": [],
   "source": [
    "housing_df= housing_df.dropna()\n",
    "\n"
   ]
  },
  {
   "cell_type": "code",
   "execution_count": 56,
   "metadata": {},
   "outputs": [
    {
     "output_type": "execute_result",
     "data": {
      "text/plain": [
       "                                        Identifier   Bedroom     Price  \\\n",
       "Identifier                                1.000000 -0.250057 -0.229307   \n",
       "Bedroom                                  -0.250057  1.000000  0.929843   \n",
       "Price                                    -0.229307  0.929843  1.000000   \n",
       "Average_Market_Days                       0.727167 -0.133892 -0.164463   \n",
       "RegionName_Crosby                         0.728833 -0.138409 -0.172721   \n",
       "RegionName_Houston                       -0.602216  0.415227  0.484220   \n",
       "RegionName_Pasadena                      -0.205000 -0.271830 -0.383951   \n",
       "RegionName_Porter                         0.588002 -0.138409 -0.047817   \n",
       "State_TX                                       NaN       NaN       NaN   \n",
       "Metro_Houston-The Woodlands-Sugar Land         NaN       NaN       NaN   \n",
       "CountyName_Harris County                 -0.588002  0.138409  0.047817   \n",
       "CountyName_Montgomery County              0.588002 -0.138409 -0.047817   \n",
       "\n",
       "                                        Average_Market_Days  \\\n",
       "Identifier                                         0.727167   \n",
       "Bedroom                                           -0.133892   \n",
       "Price                                             -0.164463   \n",
       "Average_Market_Days                                1.000000   \n",
       "RegionName_Crosby                                  0.978446   \n",
       "RegionName_Houston                                -0.322455   \n",
       "RegionName_Pasadena                               -0.232859   \n",
       "RegionName_Porter                                 -0.085323   \n",
       "State_TX                                                NaN   \n",
       "Metro_Houston-The Woodlands-Sugar Land                  NaN   \n",
       "CountyName_Harris County                           0.085323   \n",
       "CountyName_Montgomery County                      -0.085323   \n",
       "\n",
       "                                        RegionName_Crosby  RegionName_Houston  \\\n",
       "Identifier                                       0.728833           -0.602216   \n",
       "Bedroom                                         -0.138409            0.415227   \n",
       "Price                                           -0.172721            0.484220   \n",
       "Average_Market_Days                              0.978446           -0.322455   \n",
       "RegionName_Crosby                                1.000000           -0.333333   \n",
       "RegionName_Houston                              -0.333333            1.000000   \n",
       "RegionName_Pasadena                             -0.218218           -0.654654   \n",
       "RegionName_Porter                               -0.111111           -0.333333   \n",
       "State_TX                                              NaN                 NaN   \n",
       "Metro_Houston-The Woodlands-Sugar Land                NaN                 NaN   \n",
       "CountyName_Harris County                         0.111111            0.333333   \n",
       "CountyName_Montgomery County                    -0.111111           -0.333333   \n",
       "\n",
       "                                        RegionName_Pasadena  \\\n",
       "Identifier                                        -0.205000   \n",
       "Bedroom                                           -0.271830   \n",
       "Price                                             -0.383951   \n",
       "Average_Market_Days                               -0.232859   \n",
       "RegionName_Crosby                                 -0.218218   \n",
       "RegionName_Houston                                -0.654654   \n",
       "RegionName_Pasadena                                1.000000   \n",
       "RegionName_Porter                                 -0.218218   \n",
       "State_TX                                                NaN   \n",
       "Metro_Houston-The Woodlands-Sugar Land                  NaN   \n",
       "CountyName_Harris County                           0.218218   \n",
       "CountyName_Montgomery County                      -0.218218   \n",
       "\n",
       "                                        RegionName_Porter  State_TX  \\\n",
       "Identifier                                       0.588002       NaN   \n",
       "Bedroom                                         -0.138409       NaN   \n",
       "Price                                           -0.047817       NaN   \n",
       "Average_Market_Days                             -0.085323       NaN   \n",
       "RegionName_Crosby                               -0.111111       NaN   \n",
       "RegionName_Houston                              -0.333333       NaN   \n",
       "RegionName_Pasadena                             -0.218218       NaN   \n",
       "RegionName_Porter                                1.000000       NaN   \n",
       "State_TX                                              NaN       NaN   \n",
       "Metro_Houston-The Woodlands-Sugar Land                NaN       NaN   \n",
       "CountyName_Harris County                        -1.000000       NaN   \n",
       "CountyName_Montgomery County                     1.000000       NaN   \n",
       "\n",
       "                                        Metro_Houston-The Woodlands-Sugar Land  \\\n",
       "Identifier                                                                 NaN   \n",
       "Bedroom                                                                    NaN   \n",
       "Price                                                                      NaN   \n",
       "Average_Market_Days                                                        NaN   \n",
       "RegionName_Crosby                                                          NaN   \n",
       "RegionName_Houston                                                         NaN   \n",
       "RegionName_Pasadena                                                        NaN   \n",
       "RegionName_Porter                                                          NaN   \n",
       "State_TX                                                                   NaN   \n",
       "Metro_Houston-The Woodlands-Sugar Land                                     NaN   \n",
       "CountyName_Harris County                                                   NaN   \n",
       "CountyName_Montgomery County                                               NaN   \n",
       "\n",
       "                                        CountyName_Harris County  \\\n",
       "Identifier                                             -0.588002   \n",
       "Bedroom                                                 0.138409   \n",
       "Price                                                   0.047817   \n",
       "Average_Market_Days                                     0.085323   \n",
       "RegionName_Crosby                                       0.111111   \n",
       "RegionName_Houston                                      0.333333   \n",
       "RegionName_Pasadena                                     0.218218   \n",
       "RegionName_Porter                                      -1.000000   \n",
       "State_TX                                                     NaN   \n",
       "Metro_Houston-The Woodlands-Sugar Land                       NaN   \n",
       "CountyName_Harris County                                1.000000   \n",
       "CountyName_Montgomery County                           -1.000000   \n",
       "\n",
       "                                        CountyName_Montgomery County  \n",
       "Identifier                                                  0.588002  \n",
       "Bedroom                                                    -0.138409  \n",
       "Price                                                      -0.047817  \n",
       "Average_Market_Days                                        -0.085323  \n",
       "RegionName_Crosby                                          -0.111111  \n",
       "RegionName_Houston                                         -0.333333  \n",
       "RegionName_Pasadena                                        -0.218218  \n",
       "RegionName_Porter                                           1.000000  \n",
       "State_TX                                                         NaN  \n",
       "Metro_Houston-The Woodlands-Sugar Land                           NaN  \n",
       "CountyName_Harris County                                   -1.000000  \n",
       "CountyName_Montgomery County                                1.000000  "
      ],
      "text/html": "<div>\n<style scoped>\n    .dataframe tbody tr th:only-of-type {\n        vertical-align: middle;\n    }\n\n    .dataframe tbody tr th {\n        vertical-align: top;\n    }\n\n    .dataframe thead th {\n        text-align: right;\n    }\n</style>\n<table border=\"1\" class=\"dataframe\">\n  <thead>\n    <tr style=\"text-align: right;\">\n      <th></th>\n      <th>Identifier</th>\n      <th>Bedroom</th>\n      <th>Price</th>\n      <th>Average_Market_Days</th>\n      <th>RegionName_Crosby</th>\n      <th>RegionName_Houston</th>\n      <th>RegionName_Pasadena</th>\n      <th>RegionName_Porter</th>\n      <th>State_TX</th>\n      <th>Metro_Houston-The Woodlands-Sugar Land</th>\n      <th>CountyName_Harris County</th>\n      <th>CountyName_Montgomery County</th>\n    </tr>\n  </thead>\n  <tbody>\n    <tr>\n      <th>Identifier</th>\n      <td>1.000000</td>\n      <td>-0.250057</td>\n      <td>-0.229307</td>\n      <td>0.727167</td>\n      <td>0.728833</td>\n      <td>-0.602216</td>\n      <td>-0.205000</td>\n      <td>0.588002</td>\n      <td>NaN</td>\n      <td>NaN</td>\n      <td>-0.588002</td>\n      <td>0.588002</td>\n    </tr>\n    <tr>\n      <th>Bedroom</th>\n      <td>-0.250057</td>\n      <td>1.000000</td>\n      <td>0.929843</td>\n      <td>-0.133892</td>\n      <td>-0.138409</td>\n      <td>0.415227</td>\n      <td>-0.271830</td>\n      <td>-0.138409</td>\n      <td>NaN</td>\n      <td>NaN</td>\n      <td>0.138409</td>\n      <td>-0.138409</td>\n    </tr>\n    <tr>\n      <th>Price</th>\n      <td>-0.229307</td>\n      <td>0.929843</td>\n      <td>1.000000</td>\n      <td>-0.164463</td>\n      <td>-0.172721</td>\n      <td>0.484220</td>\n      <td>-0.383951</td>\n      <td>-0.047817</td>\n      <td>NaN</td>\n      <td>NaN</td>\n      <td>0.047817</td>\n      <td>-0.047817</td>\n    </tr>\n    <tr>\n      <th>Average_Market_Days</th>\n      <td>0.727167</td>\n      <td>-0.133892</td>\n      <td>-0.164463</td>\n      <td>1.000000</td>\n      <td>0.978446</td>\n      <td>-0.322455</td>\n      <td>-0.232859</td>\n      <td>-0.085323</td>\n      <td>NaN</td>\n      <td>NaN</td>\n      <td>0.085323</td>\n      <td>-0.085323</td>\n    </tr>\n    <tr>\n      <th>RegionName_Crosby</th>\n      <td>0.728833</td>\n      <td>-0.138409</td>\n      <td>-0.172721</td>\n      <td>0.978446</td>\n      <td>1.000000</td>\n      <td>-0.333333</td>\n      <td>-0.218218</td>\n      <td>-0.111111</td>\n      <td>NaN</td>\n      <td>NaN</td>\n      <td>0.111111</td>\n      <td>-0.111111</td>\n    </tr>\n    <tr>\n      <th>RegionName_Houston</th>\n      <td>-0.602216</td>\n      <td>0.415227</td>\n      <td>0.484220</td>\n      <td>-0.322455</td>\n      <td>-0.333333</td>\n      <td>1.000000</td>\n      <td>-0.654654</td>\n      <td>-0.333333</td>\n      <td>NaN</td>\n      <td>NaN</td>\n      <td>0.333333</td>\n      <td>-0.333333</td>\n    </tr>\n    <tr>\n      <th>RegionName_Pasadena</th>\n      <td>-0.205000</td>\n      <td>-0.271830</td>\n      <td>-0.383951</td>\n      <td>-0.232859</td>\n      <td>-0.218218</td>\n      <td>-0.654654</td>\n      <td>1.000000</td>\n      <td>-0.218218</td>\n      <td>NaN</td>\n      <td>NaN</td>\n      <td>0.218218</td>\n      <td>-0.218218</td>\n    </tr>\n    <tr>\n      <th>RegionName_Porter</th>\n      <td>0.588002</td>\n      <td>-0.138409</td>\n      <td>-0.047817</td>\n      <td>-0.085323</td>\n      <td>-0.111111</td>\n      <td>-0.333333</td>\n      <td>-0.218218</td>\n      <td>1.000000</td>\n      <td>NaN</td>\n      <td>NaN</td>\n      <td>-1.000000</td>\n      <td>1.000000</td>\n    </tr>\n    <tr>\n      <th>State_TX</th>\n      <td>NaN</td>\n      <td>NaN</td>\n      <td>NaN</td>\n      <td>NaN</td>\n      <td>NaN</td>\n      <td>NaN</td>\n      <td>NaN</td>\n      <td>NaN</td>\n      <td>NaN</td>\n      <td>NaN</td>\n      <td>NaN</td>\n      <td>NaN</td>\n    </tr>\n    <tr>\n      <th>Metro_Houston-The Woodlands-Sugar Land</th>\n      <td>NaN</td>\n      <td>NaN</td>\n      <td>NaN</td>\n      <td>NaN</td>\n      <td>NaN</td>\n      <td>NaN</td>\n      <td>NaN</td>\n      <td>NaN</td>\n      <td>NaN</td>\n      <td>NaN</td>\n      <td>NaN</td>\n      <td>NaN</td>\n    </tr>\n    <tr>\n      <th>CountyName_Harris County</th>\n      <td>-0.588002</td>\n      <td>0.138409</td>\n      <td>0.047817</td>\n      <td>0.085323</td>\n      <td>0.111111</td>\n      <td>0.333333</td>\n      <td>0.218218</td>\n      <td>-1.000000</td>\n      <td>NaN</td>\n      <td>NaN</td>\n      <td>1.000000</td>\n      <td>-1.000000</td>\n    </tr>\n    <tr>\n      <th>CountyName_Montgomery County</th>\n      <td>0.588002</td>\n      <td>-0.138409</td>\n      <td>-0.047817</td>\n      <td>-0.085323</td>\n      <td>-0.111111</td>\n      <td>-0.333333</td>\n      <td>-0.218218</td>\n      <td>1.000000</td>\n      <td>NaN</td>\n      <td>NaN</td>\n      <td>-1.000000</td>\n      <td>1.000000</td>\n    </tr>\n  </tbody>\n</table>\n</div>"
     },
     "metadata": {},
     "execution_count": 56
    }
   ],
   "source": [
    "housing_price_2020= housing_df.loc['2020']\n",
    "#len(housing_price_2020)\n",
    "housing_price_2020.corr()"
   ]
  },
  {
   "cell_type": "code",
   "execution_count": 57,
   "metadata": {},
   "outputs": [],
   "source": [
    "# Calculate & display 2020  SMA\n",
    "#housing_price_2020['SMA'] = housing_price_2020.rolling(window=20).mean()\n",
    "#housing_price_2020[['Price', 'SMA']].plot(title='Housing Price in 2020 & 50 Days Price SMA',figsize=(10,6))\n"
   ]
  },
  {
   "cell_type": "code",
   "execution_count": 58,
   "metadata": {},
   "outputs": [],
   "source": [
    "# Creating the X and y sets\n",
    "X = housing_df.drop(columns=[\"Price\", \"Identifier\", \"State_TX\", \"Metro_Houston-The Woodlands-Sugar Land\"]).values\n",
    "y = housing_df[\"Price\"].values"
   ]
  },
  {
   "cell_type": "code",
   "execution_count": 59,
   "metadata": {},
   "outputs": [],
   "source": [
    "# Creating training, validation, and testing sets\n",
    "from sklearn.model_selection import train_test_split\n",
    "\n",
    "X_train, X_test, y_train, y_test = train_test_split(X, y, test_size= 0.3, train_size= 0.7, random_state=0)\n"
   ]
  },
  {
   "cell_type": "code",
   "execution_count": 60,
   "metadata": {},
   "outputs": [
    {
     "output_type": "execute_result",
     "data": {
      "text/plain": [
       "array([ 4., 93.,  0.,  1.,  0.,  0.,  1.,  0.])"
      ]
     },
     "metadata": {},
     "execution_count": 60
    }
   ],
   "source": [
    "X_train[0]"
   ]
  },
  {
   "cell_type": "code",
   "execution_count": 61,
   "metadata": {},
   "outputs": [],
   "source": [
    "# Import the StandardScaler from sklearn\n",
    "from sklearn.preprocessing import StandardScaler\n",
    "\n",
    "# Scale the data\n",
    "scaler = StandardScaler().fit(X_train)\n",
    "X_scaled_train = scaler.transform(X_train)\n",
    "X_scaled_test = scaler.transform(X_test)"
   ]
  },
  {
   "cell_type": "code",
   "execution_count": 62,
   "metadata": {},
   "outputs": [],
   "source": [
    "# Build and train the Deep Learning Model\n",
    "\n",
    "# Import Keras modules for model creation\n",
    "from tensorflow.keras.models import Sequential\n",
    "from tensorflow.keras.layers import Dense"
   ]
  },
  {
   "cell_type": "code",
   "execution_count": 63,
   "metadata": {},
   "outputs": [],
   "source": [
    "# Model set-up\n",
    "number_input_features = 8\n",
    "hidden_nodes_layer1 = 70\n",
    "hidden_nodes_layer2 = 40"
   ]
  },
  {
   "cell_type": "code",
   "execution_count": 64,
   "metadata": {},
   "outputs": [],
   "source": [
    "# Define the LSTM RNN model\n",
    "model = Sequential()\n",
    "\n",
    "# Layer 1\n",
    "model.add(\n",
    "    Dense(units=hidden_nodes_layer1, input_dim=number_input_features, activation=\"relu\"))\n",
    "\n",
    "# Layer 2\n",
    "model.add(Dense(units=hidden_nodes_layer2, activation=\"relu\"))\n",
    "\n",
    "# Output layer\n",
    "model.add(Dense(1, activation=\"linear\"))"
   ]
  },
  {
   "cell_type": "code",
   "execution_count": 65,
   "metadata": {},
   "outputs": [],
   "source": [
    "# Compile the model\n",
    "model.compile(\n",
    "    loss= \"mean_squared_error\",\n",
    "    optimizer=\"adam\",\n",
    "    metrics= ['accuracy']\n",
    "   \n",
    ")"
   ]
  },
  {
   "cell_type": "code",
   "execution_count": 66,
   "metadata": {},
   "outputs": [
    {
     "output_type": "stream",
     "name": "stdout",
     "text": [
      "Model: \"sequential_5\"\n_________________________________________________________________\nLayer (type)                 Output Shape              Param #   \n=================================================================\ndense_10 (Dense)             (None, 70)                630       \n_________________________________________________________________\ndense_11 (Dense)             (None, 40)                2840      \n_________________________________________________________________\ndense_12 (Dense)             (None, 1)                 41        \n=================================================================\nTotal params: 3,511\nTrainable params: 3,511\nNon-trainable params: 0\n_________________________________________________________________\n"
     ]
    }
   ],
   "source": [
    "# Summarize the model\n",
    "model.summary()"
   ]
  },
  {
   "cell_type": "code",
   "execution_count": 67,
   "metadata": {
    "tags": [
     "outputPrepend"
    ]
   },
   "outputs": [
    {
     "output_type": "stream",
     "name": "stdout",
     "text": [
      "ep - loss: 361036761.0811 - accuracy: 0.0000e+00\n",
      "Epoch 826/1000\n",
      "73/73 [==============================] - 0s 2ms/step - loss: 400830037.6216 - accuracy: 0.0000e+00\n",
      "Epoch 827/1000\n",
      "73/73 [==============================] - 0s 2ms/step - loss: 370817742.7027 - accuracy: 0.0000e+00\n",
      "Epoch 828/1000\n",
      "73/73 [==============================] - 0s 3ms/step - loss: 388368034.1622 - accuracy: 0.0000e+00\n",
      "Epoch 829/1000\n",
      "73/73 [==============================] - 0s 2ms/step - loss: 395773055.1351 - accuracy: 0.0000e+00\n",
      "Epoch 830/1000\n",
      "73/73 [==============================] - 0s 2ms/step - loss: 386466728.4324 - accuracy: 0.0000e+00\n",
      "Epoch 831/1000\n",
      "73/73 [==============================] - 0s 2ms/step - loss: 368592308.7568 - accuracy: 0.0000e+00\n",
      "Epoch 832/1000\n",
      "73/73 [==============================] - 0s 2ms/step - loss: 362472139.2432 - accuracy: 0.0000e+00\n",
      "Epoch 833/1000\n",
      "73/73 [==============================] - 0s 2ms/step - loss: 371379257.0811 - accuracy: 0.0000e+00\n",
      "Epoch 834/1000\n",
      "73/73 [==============================] - 0s 2ms/step - loss: 390234617.9459 - accuracy: 0.0000e+00\n",
      "Epoch 835/1000\n",
      "73/73 [==============================] - 0s 3ms/step - loss: 424415704.2162 - accuracy: 0.0000e+00\n",
      "Epoch 836/1000\n",
      "73/73 [==============================] - 0s 2ms/step - loss: 379551886.2703 - accuracy: 0.0000e+00\n",
      "Epoch 837/1000\n",
      "73/73 [==============================] - 0s 2ms/step - loss: 377155392.8649 - accuracy: 0.0000e+00\n",
      "Epoch 838/1000\n",
      "73/73 [==============================] - 0s 2ms/step - loss: 394550217.5135 - accuracy: 0.0000e+00\n",
      "Epoch 839/1000\n",
      "73/73 [==============================] - 0s 2ms/step - loss: 407876297.0811 - accuracy: 0.0000e+00\n",
      "Epoch 840/1000\n",
      "73/73 [==============================] - 0s 2ms/step - loss: 357496157.8378 - accuracy: 0.0000e+00\n",
      "Epoch 841/1000\n",
      "73/73 [==============================] - 0s 2ms/step - loss: 372606529.7297 - accuracy: 0.0000e+00\n",
      "Epoch 842/1000\n",
      "73/73 [==============================] - 0s 2ms/step - loss: 388204003.0270 - accuracy: 0.0000e+00\n",
      "Epoch 843/1000\n",
      "73/73 [==============================] - 0s 2ms/step - loss: 366926886.4865 - accuracy: 0.0000e+00\n",
      "Epoch 844/1000\n",
      "73/73 [==============================] - 0s 2ms/step - loss: 361708146.5946 - accuracy: 0.0000e+00\n",
      "Epoch 845/1000\n",
      "73/73 [==============================] - 0s 2ms/step - loss: 391899144.6486 - accuracy: 0.0000e+00\n",
      "Epoch 846/1000\n",
      "73/73 [==============================] - 0s 2ms/step - loss: 398257089.7297 - accuracy: 0.0000e+00\n",
      "Epoch 847/1000\n",
      "73/73 [==============================] - 0s 2ms/step - loss: 394343932.5405 - accuracy: 0.0000e+00\n",
      "Epoch 848/1000\n",
      "73/73 [==============================] - 0s 2ms/step - loss: 377761389.8378 - accuracy: 0.0000e+00\n",
      "Epoch 849/1000\n",
      "73/73 [==============================] - 0s 3ms/step - loss: 356590559.1351 - accuracy: 0.0000e+00\n",
      "Epoch 850/1000\n",
      "73/73 [==============================] - 0s 2ms/step - loss: 398521437.6216 - accuracy: 0.0000e+00\n",
      "Epoch 851/1000\n",
      "73/73 [==============================] - 0s 3ms/step - loss: 403960440.6486 - accuracy: 0.0000e+00\n",
      "Epoch 852/1000\n",
      "73/73 [==============================] - 0s 2ms/step - loss: 392565052.1081 - accuracy: 0.0000e+00\n",
      "Epoch 853/1000\n",
      "73/73 [==============================] - 0s 2ms/step - loss: 389383110.9189 - accuracy: 0.0000e+00\n",
      "Epoch 854/1000\n",
      "73/73 [==============================] - 0s 2ms/step - loss: 414036082.5946 - accuracy: 0.0000e+00\n",
      "Epoch 855/1000\n",
      "73/73 [==============================] - 0s 2ms/step - loss: 339396596.1081 - accuracy: 0.0000e+00\n",
      "Epoch 856/1000\n",
      "73/73 [==============================] - 0s 2ms/step - loss: 398518883.8919 - accuracy: 0.0000e+00\n",
      "Epoch 857/1000\n",
      "73/73 [==============================] - 0s 2ms/step - loss: 368806883.0270 - accuracy: 0.0000e+00\n",
      "Epoch 858/1000\n",
      "73/73 [==============================] - 0s 2ms/step - loss: 375747789.8378 - accuracy: 0.0000e+00\n",
      "Epoch 859/1000\n",
      "73/73 [==============================] - 0s 2ms/step - loss: 385273116.7568 - accuracy: 0.0000e+00\n",
      "Epoch 860/1000\n",
      "73/73 [==============================] - 0s 2ms/step - loss: 363469906.8108 - accuracy: 0.0000e+00\n",
      "Epoch 861/1000\n",
      "73/73 [==============================] - 0s 2ms/step - loss: 402267294.2703 - accuracy: 0.0000e+00\n",
      "Epoch 862/1000\n",
      "73/73 [==============================] - 0s 2ms/step - loss: 378958052.7568 - accuracy: 0.0000e+00\n",
      "Epoch 863/1000\n",
      "73/73 [==============================] - 0s 2ms/step - loss: 421962591.5676 - accuracy: 0.0000e+00\n",
      "Epoch 864/1000\n",
      "73/73 [==============================] - 0s 2ms/step - loss: 365881649.9459 - accuracy: 0.0000e+00\n",
      "Epoch 865/1000\n",
      "73/73 [==============================] - 0s 2ms/step - loss: 362849750.0541 - accuracy: 0.0000e+00\n",
      "Epoch 866/1000\n",
      "73/73 [==============================] - 0s 3ms/step - loss: 393803235.6757 - accuracy: 0.0000e+00\n",
      "Epoch 867/1000\n",
      "73/73 [==============================] - 0s 2ms/step - loss: 370606239.5676 - accuracy: 0.0000e+00\n",
      "Epoch 868/1000\n",
      "73/73 [==============================] - 0s 3ms/step - loss: 368957739.6757 - accuracy: 0.0000e+00\n",
      "Epoch 869/1000\n",
      "73/73 [==============================] - 0s 2ms/step - loss: 382521702.9189 - accuracy: 0.0000e+00\n",
      "Epoch 870/1000\n",
      "73/73 [==============================] - 0s 2ms/step - loss: 385682928.0000 - accuracy: 0.0000e+00\n",
      "Epoch 871/1000\n",
      "73/73 [==============================] - 0s 2ms/step - loss: 351107979.0270 - accuracy: 0.0000e+00\n",
      "Epoch 872/1000\n",
      "73/73 [==============================] - 0s 2ms/step - loss: 367884734.9189 - accuracy: 0.0000e+00\n",
      "Epoch 873/1000\n",
      "73/73 [==============================] - 0s 3ms/step - loss: 380885675.6757 - accuracy: 0.0000e+00\n",
      "Epoch 874/1000\n",
      "73/73 [==============================] - 0s 2ms/step - loss: 370319382.4865 - accuracy: 0.0000e+00\n",
      "Epoch 875/1000\n",
      "73/73 [==============================] - 0s 2ms/step - loss: 408987474.5946 - accuracy: 0.0000e+00\n",
      "Epoch 876/1000\n",
      "73/73 [==============================] - 0s 2ms/step - loss: 378635471.5676 - accuracy: 0.0000e+00\n",
      "Epoch 877/1000\n",
      "73/73 [==============================] - 0s 2ms/step - loss: 358220860.1081 - accuracy: 0.0000e+00\n",
      "Epoch 878/1000\n",
      "73/73 [==============================] - 0s 2ms/step - loss: 359722977.2973 - accuracy: 0.0000e+00\n",
      "Epoch 879/1000\n",
      "73/73 [==============================] - 0s 2ms/step - loss: 393794519.7838 - accuracy: 0.0000e+00\n",
      "Epoch 880/1000\n",
      "73/73 [==============================] - 0s 2ms/step - loss: 393138015.1351 - accuracy: 0.0000e+00\n",
      "Epoch 881/1000\n",
      "73/73 [==============================] - 0s 2ms/step - loss: 434419977.9459 - accuracy: 0.0000e+00\n",
      "Epoch 882/1000\n",
      "73/73 [==============================] - 0s 2ms/step - loss: 412173890.1622 - accuracy: 0.0000e+00\n",
      "Epoch 883/1000\n",
      "73/73 [==============================] - 0s 3ms/step - loss: 393642902.9189 - accuracy: 0.0000e+00\n",
      "Epoch 884/1000\n",
      "73/73 [==============================] - 0s 2ms/step - loss: 408224735.5676 - accuracy: 0.0000e+00\n",
      "Epoch 885/1000\n",
      "73/73 [==============================] - 0s 2ms/step - loss: 382149267.8919 - accuracy: 0.0000e+00\n",
      "Epoch 886/1000\n",
      "73/73 [==============================] - 0s 2ms/step - loss: 396843059.8919 - accuracy: 0.0000e+00\n",
      "Epoch 887/1000\n",
      "73/73 [==============================] - 0s 3ms/step - loss: 378097081.5135 - accuracy: 0.0000e+00\n",
      "Epoch 888/1000\n",
      "73/73 [==============================] - 0s 2ms/step - loss: 376779332.3243 - accuracy: 0.0000e+00\n",
      "Epoch 889/1000\n",
      "73/73 [==============================] - 0s 2ms/step - loss: 377502583.5676 - accuracy: 0.0000e+00\n",
      "Epoch 890/1000\n",
      "73/73 [==============================] - 0s 2ms/step - loss: 394835467.2432 - accuracy: 0.0000e+00\n",
      "Epoch 891/1000\n",
      "73/73 [==============================] - 0s 2ms/step - loss: 334635764.7568 - accuracy: 0.0000e+00\n",
      "Epoch 892/1000\n",
      "73/73 [==============================] - 0s 2ms/step - loss: 357342887.6757 - accuracy: 0.0000e+00\n",
      "Epoch 893/1000\n",
      "73/73 [==============================] - 0s 2ms/step - loss: 417231928.6486 - accuracy: 0.0000e+00\n",
      "Epoch 894/1000\n",
      "73/73 [==============================] - 0s 2ms/step - loss: 408783407.1351 - accuracy: 0.0000e+00\n",
      "Epoch 895/1000\n",
      "73/73 [==============================] - 0s 2ms/step - loss: 385440630.4865 - accuracy: 0.0000e+00\n",
      "Epoch 896/1000\n",
      "73/73 [==============================] - 0s 3ms/step - loss: 414264623.1351 - accuracy: 0.0000e+00\n",
      "Epoch 897/1000\n",
      "73/73 [==============================] - 0s 2ms/step - loss: 355183149.5135 - accuracy: 0.0000e+00\n",
      "Epoch 898/1000\n",
      "73/73 [==============================] - 0s 3ms/step - loss: 350007770.8108 - accuracy: 0.0000e+00\n",
      "Epoch 899/1000\n",
      "73/73 [==============================] - 0s 2ms/step - loss: 348184502.4865 - accuracy: 0.0000e+00\n",
      "Epoch 900/1000\n",
      "73/73 [==============================] - 0s 2ms/step - loss: 429999264.4324 - accuracy: 0.0000e+00\n",
      "Epoch 901/1000\n",
      "73/73 [==============================] - 0s 2ms/step - loss: 364405792.8649 - accuracy: 0.0000e+00\n",
      "Epoch 902/1000\n",
      "73/73 [==============================] - 0s 2ms/step - loss: 423634486.9189 - accuracy: 0.0000e+00\n",
      "Epoch 903/1000\n",
      "73/73 [==============================] - 0s 2ms/step - loss: 391801500.1081 - accuracy: 0.0000e+00\n",
      "Epoch 904/1000\n",
      "73/73 [==============================] - 0s 2ms/step - loss: 381853367.3514 - accuracy: 0.0000e+00\n",
      "Epoch 905/1000\n",
      "73/73 [==============================] - 0s 2ms/step - loss: 355219961.0811 - accuracy: 0.0000e+00\n",
      "Epoch 906/1000\n",
      "73/73 [==============================] - 0s 2ms/step - loss: 387852853.6216 - accuracy: 0.0000e+00\n",
      "Epoch 907/1000\n",
      "73/73 [==============================] - 0s 2ms/step - loss: 397269002.1622 - accuracy: 0.0000e+00\n",
      "Epoch 908/1000\n",
      "73/73 [==============================] - 0s 2ms/step - loss: 360336504.0000 - accuracy: 0.0000e+00\n",
      "Epoch 909/1000\n",
      "73/73 [==============================] - 0s 2ms/step - loss: 365680585.5135 - accuracy: 0.0000e+00\n",
      "Epoch 910/1000\n",
      "73/73 [==============================] - 0s 2ms/step - loss: 445420555.6757 - accuracy: 0.0000e+00\n",
      "Epoch 911/1000\n",
      "73/73 [==============================] - 0s 2ms/step - loss: 384442364.3243 - accuracy: 0.0000e+00\n",
      "Epoch 912/1000\n",
      "73/73 [==============================] - 0s 2ms/step - loss: 395817990.0541 - accuracy: 0.0000e+00\n",
      "Epoch 913/1000\n",
      "73/73 [==============================] - 0s 3ms/step - loss: 380906718.4865 - accuracy: 0.0000e+00\n",
      "Epoch 914/1000\n",
      "73/73 [==============================] - 0s 3ms/step - loss: 401781116.9730 - accuracy: 0.0000e+00\n",
      "Epoch 915/1000\n",
      "73/73 [==============================] - 0s 2ms/step - loss: 391715898.8108 - accuracy: 0.0000e+00\n",
      "Epoch 916/1000\n",
      "73/73 [==============================] - 0s 2ms/step - loss: 387320736.0000 - accuracy: 0.0000e+00\n",
      "Epoch 917/1000\n",
      "73/73 [==============================] - 0s 2ms/step - loss: 381657117.4054 - accuracy: 0.0000e+00\n",
      "Epoch 918/1000\n",
      "73/73 [==============================] - 0s 2ms/step - loss: 384412148.3243 - accuracy: 0.0000e+00\n",
      "Epoch 919/1000\n",
      "73/73 [==============================] - 0s 2ms/step - loss: 361726396.4324 - accuracy: 0.0000e+00\n",
      "Epoch 920/1000\n",
      "73/73 [==============================] - 0s 2ms/step - loss: 359825756.3243 - accuracy: 0.0000e+00\n",
      "Epoch 921/1000\n",
      "73/73 [==============================] - 0s 2ms/step - loss: 386057276.5405 - accuracy: 0.0000e+00\n",
      "Epoch 922/1000\n",
      "73/73 [==============================] - 0s 2ms/step - loss: 352576385.9459 - accuracy: 0.0000e+00\n",
      "Epoch 923/1000\n",
      "73/73 [==============================] - 0s 2ms/step - loss: 382340960.4324 - accuracy: 0.0000e+00\n",
      "Epoch 924/1000\n",
      "73/73 [==============================] - 0s 2ms/step - loss: 375212689.5135 - accuracy: 0.0000e+00\n",
      "Epoch 925/1000\n",
      "73/73 [==============================] - 0s 2ms/step - loss: 344202136.0000 - accuracy: 0.0000e+00\n",
      "Epoch 926/1000\n",
      "73/73 [==============================] - 0s 2ms/step - loss: 396013380.3243 - accuracy: 0.0000e+00\n",
      "Epoch 927/1000\n",
      "73/73 [==============================] - 0s 2ms/step - loss: 378512061.4054 - accuracy: 0.0000e+00\n",
      "Epoch 928/1000\n",
      "73/73 [==============================] - 0s 3ms/step - loss: 388500514.3784 - accuracy: 0.0000e+00\n",
      "Epoch 929/1000\n",
      "73/73 [==============================] - 0s 2ms/step - loss: 394141456.0000 - accuracy: 0.0000e+00\n",
      "Epoch 930/1000\n",
      "73/73 [==============================] - 0s 2ms/step - loss: 344029801.5135 - accuracy: 0.0000e+00\n",
      "Epoch 931/1000\n",
      "73/73 [==============================] - 0s 2ms/step - loss: 397759161.0811 - accuracy: 0.0000e+00\n",
      "Epoch 932/1000\n",
      "73/73 [==============================] - 0s 2ms/step - loss: 376216130.8108 - accuracy: 0.0000e+00\n",
      "Epoch 933/1000\n",
      "73/73 [==============================] - 0s 2ms/step - loss: 377697788.5405 - accuracy: 0.0000e+00\n",
      "Epoch 934/1000\n",
      "73/73 [==============================] - 0s 2ms/step - loss: 377814855.7838 - accuracy: 0.0000e+00\n",
      "Epoch 935/1000\n",
      "73/73 [==============================] - 0s 2ms/step - loss: 380222131.0270 - accuracy: 0.0000e+00\n",
      "Epoch 936/1000\n",
      "73/73 [==============================] - 0s 2ms/step - loss: 383200851.4595 - accuracy: 0.0000e+00\n",
      "Epoch 937/1000\n",
      "73/73 [==============================] - 0s 3ms/step - loss: 372872392.2162 - accuracy: 0.0000e+00\n",
      "Epoch 938/1000\n",
      "73/73 [==============================] - 0s 2ms/step - loss: 397063521.7297 - accuracy: 0.0000e+00\n",
      "Epoch 939/1000\n",
      "73/73 [==============================] - 0s 2ms/step - loss: 372731548.3243 - accuracy: 0.0000e+00\n",
      "Epoch 940/1000\n",
      "73/73 [==============================] - 0s 2ms/step - loss: 388404131.8919 - accuracy: 0.0000e+00\n",
      "Epoch 941/1000\n",
      "73/73 [==============================] - 0s 2ms/step - loss: 409098389.1892 - accuracy: 0.0000e+00\n",
      "Epoch 942/1000\n",
      "73/73 [==============================] - 0s 2ms/step - loss: 404808304.8649 - accuracy: 0.0000e+00\n",
      "Epoch 943/1000\n",
      "73/73 [==============================] - 0s 2ms/step - loss: 396600499.0270 - accuracy: 0.0000e+00\n",
      "Epoch 944/1000\n",
      "73/73 [==============================] - 0s 3ms/step - loss: 361478472.2162 - accuracy: 0.0000e+00\n",
      "Epoch 945/1000\n",
      "73/73 [==============================] - 0s 2ms/step - loss: 383312313.5135 - accuracy: 0.0000e+00\n",
      "Epoch 946/1000\n",
      "73/73 [==============================] - 0s 2ms/step - loss: 369003588.7568 - accuracy: 0.0000e+00\n",
      "Epoch 947/1000\n",
      "73/73 [==============================] - 0s 2ms/step - loss: 374550980.3243 - accuracy: 0.0000e+00\n",
      "Epoch 948/1000\n",
      "73/73 [==============================] - 0s 2ms/step - loss: 414904277.1892 - accuracy: 0.0000e+00\n",
      "Epoch 949/1000\n",
      "73/73 [==============================] - 0s 2ms/step - loss: 384498051.0270 - accuracy: 0.0000e+00\n",
      "Epoch 950/1000\n",
      "73/73 [==============================] - 0s 3ms/step - loss: 434038764.9730 - accuracy: 0.0000e+00\n",
      "Epoch 951/1000\n",
      "73/73 [==============================] - 0s 2ms/step - loss: 377645226.1622 - accuracy: 0.0000e+00\n",
      "Epoch 952/1000\n",
      "73/73 [==============================] - 0s 2ms/step - loss: 366840129.5135 - accuracy: 0.0000e+00\n",
      "Epoch 953/1000\n",
      "73/73 [==============================] - 0s 2ms/step - loss: 389058731.2432 - accuracy: 0.0000e+00\n",
      "Epoch 954/1000\n",
      "73/73 [==============================] - 0s 3ms/step - loss: 373903913.9459 - accuracy: 0.0000e+00\n",
      "Epoch 955/1000\n",
      "73/73 [==============================] - 0s 2ms/step - loss: 426214186.8108 - accuracy: 0.0000e+00\n",
      "Epoch 956/1000\n",
      "73/73 [==============================] - 0s 2ms/step - loss: 355153299.8919 - accuracy: 0.0000e+00\n",
      "Epoch 957/1000\n",
      "73/73 [==============================] - 0s 2ms/step - loss: 398248473.5135 - accuracy: 0.0000e+00\n",
      "Epoch 958/1000\n",
      "73/73 [==============================] - 0s 3ms/step - loss: 390127114.3784 - accuracy: 0.0000e+00\n",
      "Epoch 959/1000\n",
      "73/73 [==============================] - 0s 2ms/step - loss: 367502141.4054 - accuracy: 0.0000e+00\n",
      "Epoch 960/1000\n",
      "73/73 [==============================] - 0s 3ms/step - loss: 387160629.6216 - accuracy: 0.0000e+00\n",
      "Epoch 961/1000\n",
      "73/73 [==============================] - 0s 3ms/step - loss: 414872156.9730 - accuracy: 0.0000e+00\n",
      "Epoch 962/1000\n",
      "73/73 [==============================] - 0s 3ms/step - loss: 415668268.9730 - accuracy: 0.0000e+00\n",
      "Epoch 963/1000\n",
      "73/73 [==============================] - 0s 2ms/step - loss: 399090503.3514 - accuracy: 0.0000e+00\n",
      "Epoch 964/1000\n",
      "73/73 [==============================] - 0s 2ms/step - loss: 376608024.6486 - accuracy: 0.0000e+00\n",
      "Epoch 965/1000\n",
      "73/73 [==============================] - 0s 2ms/step - loss: 408551086.9189 - accuracy: 0.0000e+00\n",
      "Epoch 966/1000\n",
      "73/73 [==============================] - 0s 2ms/step - loss: 385126344.8649 - accuracy: 0.0000e+00\n",
      "Epoch 967/1000\n",
      "73/73 [==============================] - 0s 2ms/step - loss: 384278270.2703 - accuracy: 0.0000e+00\n",
      "Epoch 968/1000\n",
      "73/73 [==============================] - 0s 2ms/step - loss: 359950560.0000 - accuracy: 0.0000e+00\n",
      "Epoch 969/1000\n",
      "73/73 [==============================] - 0s 2ms/step - loss: 370117024.4324 - accuracy: 0.0000e+00\n",
      "Epoch 970/1000\n",
      "73/73 [==============================] - 0s 2ms/step - loss: 402420260.7568 - accuracy: 0.0000e+00\n",
      "Epoch 971/1000\n",
      "73/73 [==============================] - 0s 2ms/step - loss: 378600842.3784 - accuracy: 0.0000e+00\n",
      "Epoch 972/1000\n",
      "73/73 [==============================] - 0s 2ms/step - loss: 364021177.5135 - accuracy: 0.0000e+00\n",
      "Epoch 973/1000\n",
      "73/73 [==============================] - 0s 2ms/step - loss: 393840117.6216 - accuracy: 0.0000e+00\n",
      "Epoch 974/1000\n",
      "73/73 [==============================] - 0s 2ms/step - loss: 391783328.8649 - accuracy: 0.0000e+00\n",
      "Epoch 975/1000\n",
      "73/73 [==============================] - 0s 2ms/step - loss: 426520849.7297 - accuracy: 0.0000e+00\n",
      "Epoch 976/1000\n",
      "73/73 [==============================] - 0s 2ms/step - loss: 357336465.5135 - accuracy: 0.0000e+00\n",
      "Epoch 977/1000\n",
      "73/73 [==============================] - 0s 3ms/step - loss: 385479420.5405 - accuracy: 0.0000e+00\n",
      "Epoch 978/1000\n",
      "73/73 [==============================] - 0s 2ms/step - loss: 409676758.9189 - accuracy: 0.0000e+00\n",
      "Epoch 979/1000\n",
      "73/73 [==============================] - 0s 2ms/step - loss: 380492822.9189 - accuracy: 0.0000e+00\n",
      "Epoch 980/1000\n",
      "73/73 [==============================] - 0s 2ms/step - loss: 398427255.3514 - accuracy: 0.0000e+00\n",
      "Epoch 981/1000\n",
      "73/73 [==============================] - 0s 2ms/step - loss: 388712673.2973 - accuracy: 0.0000e+00\n",
      "Epoch 982/1000\n",
      "73/73 [==============================] - 0s 2ms/step - loss: 375506554.8108 - accuracy: 0.0000e+00\n",
      "Epoch 983/1000\n",
      "73/73 [==============================] - 0s 2ms/step - loss: 382286369.2973 - accuracy: 0.0000e+00\n",
      "Epoch 984/1000\n",
      "73/73 [==============================] - 0s 2ms/step - loss: 363563850.8108 - accuracy: 0.0000e+00\n",
      "Epoch 985/1000\n",
      "73/73 [==============================] - 0s 2ms/step - loss: 401785184.0000 - accuracy: 0.0000e+00\n",
      "Epoch 986/1000\n",
      "73/73 [==============================] - 0s 2ms/step - loss: 403213153.2973 - accuracy: 0.0000e+00\n",
      "Epoch 987/1000\n",
      "73/73 [==============================] - 0s 2ms/step - loss: 378369284.3243 - accuracy: 0.0000e+00\n",
      "Epoch 988/1000\n",
      "73/73 [==============================] - 0s 2ms/step - loss: 405588103.3514 - accuracy: 0.0000e+00\n",
      "Epoch 989/1000\n",
      "73/73 [==============================] - 0s 2ms/step - loss: 383140595.4595 - accuracy: 0.0000e+00\n",
      "Epoch 990/1000\n",
      "73/73 [==============================] - 0s 3ms/step - loss: 387274534.0541 - accuracy: 0.0000e+00\n",
      "Epoch 991/1000\n",
      "73/73 [==============================] - 0s 2ms/step - loss: 356612353.0811 - accuracy: 0.0000e+00\n",
      "Epoch 992/1000\n",
      "73/73 [==============================] - 0s 2ms/step - loss: 384420285.4054 - accuracy: 0.0000e+00\n",
      "Epoch 993/1000\n",
      "73/73 [==============================] - 0s 2ms/step - loss: 378345921.2973 - accuracy: 0.0000e+00\n",
      "Epoch 994/1000\n",
      "73/73 [==============================] - 0s 2ms/step - loss: 417181556.7568 - accuracy: 0.0000e+00\n",
      "Epoch 995/1000\n",
      "73/73 [==============================] - 0s 2ms/step - loss: 384583621.6216 - accuracy: 0.0000e+00\n",
      "Epoch 996/1000\n",
      "73/73 [==============================] - 0s 3ms/step - loss: 373951526.0541 - accuracy: 0.0000e+00\n",
      "Epoch 997/1000\n",
      "73/73 [==============================] - 0s 2ms/step - loss: 392650230.4865 - accuracy: 0.0000e+00\n",
      "Epoch 998/1000\n",
      "73/73 [==============================] - 0s 2ms/step - loss: 367484730.3784 - accuracy: 0.0000e+00\n",
      "Epoch 999/1000\n",
      "73/73 [==============================] - 0s 2ms/step - loss: 396779729.0811 - accuracy: 0.0000e+00\n",
      "Epoch 1000/1000\n",
      "73/73 [==============================] - 0s 2ms/step - loss: 404753727.1351 - accuracy: 0.0000e+00\n"
     ]
    }
   ],
   "source": [
    "# Training the model\n",
    "batch_size = 10\n",
    "epochs = 1000\n",
    "training_history = model.fit(\n",
    "    X_scaled_train,\n",
    "    y_train,\n",
    "    epochs=epochs,\n",
    "    batch_size=batch_size,\n",
    "    verbose=1,\n",
    ")"
   ]
  },
  {
   "cell_type": "code",
   "execution_count": 68,
   "metadata": {},
   "outputs": [
    {
     "output_type": "stream",
     "name": "stdout",
     "text": [
      "10/10 [==============================] - 0s 2ms/step - loss: 224426131456.0000 - accuracy: 0.0000e+00\n"
     ]
    },
    {
     "output_type": "execute_result",
     "data": {
      "text/plain": [
       "[224426131456.0, 0.0]"
      ]
     },
     "metadata": {},
     "execution_count": 68
    }
   ],
   "source": [
    "# Evaluate the model\n",
    "model.evaluate(X_test, y_test, verbose=1)"
   ]
  },
  {
   "cell_type": "code",
   "execution_count": 69,
   "metadata": {},
   "outputs": [
    {
     "output_type": "error",
     "ename": "ValueError",
     "evalue": "Expected 2D array, got 1D array instead:\narray=[223174. 157161.  97965.  96411. 390638.  55704. 119186. 116422.  84886.\n 297672. 138302.  92947.  85323. 107146. 399976.  78094.  66197. 143914.\n 235069. 123792. 108983. 303716. 362116. 234391. 116185. 108656.  48807.\n  99636.  88608. 158942.  55945. 142246. 292821.  48692. 296905.  65187.\n  71537.  94545. 159204. 132441. 123866. 323600.  64045. 162823. 301892.\n 133380. 291667. 388934. 353691. 195492. 159420. 139930.  64199. 303290.\n  49106.  89916.  96645.  71308. 159557.  79932.  82954.  92938. 134275.\n 121720.  78152. 133776.  97380.  51251. 104701. 390167.  68653. 135571.\n  89826. 105815. 400679. 115630.  65020.  87477. 104592.  90563.  87438.\n 106473. 133159. 106976. 158523. 171866.  48731.  48771. 401360. 112178.\n  66254.  67833.  65044. 116683. 106271.  64285.  55057.  95217. 104090.\n 114036. 123526. 114876. 148634. 143211.  53566. 133980.  98264. 111489.\n 106855. 160232. 224836. 168286.  86168.  96324. 149218.  51828. 146917.\n 386741. 130047.  50504. 101623. 182834. 227836. 137433. 296740.  68206.\n 133907. 116642. 119813.  72466. 101299. 237271. 124861. 159184. 159722.\n  49495.  64296. 291571. 212044.  94970.  70632. 112058. 138085. 136505.\n  96789. 102559. 159283. 130990.  91990. 174131.  49069.  80808. 113152.\n 155553.  82557.  63419. 299841.  82794. 111406. 110673. 220443. 106277.\n  89254. 105016. 295882. 157660.  92189.  49300.  67670.  85185. 125769.\n 142048. 107178. 400303. 294251. 103506. 114380. 189578.  49385.  67444.\n 119590. 102751.  77322.  49452. 103437.  71091. 116615. 112074.  55593.\n 222181. 134628.  90467.  62769.  94617. 112264. 157437.  63442.  65006.\n 158518. 166425. 112148. 117878. 150988. 365511.  71657.  71178. 105863.\n  77536. 385822. 120674.  49707.  77658. 108118. 383401. 101896.  81945.\n 345731.  86714.  96679. 149571. 119222. 101017. 290639.  49560. 350522.\n 214034.  78765.  66193.  62127.  63342.  84127. 204677. 112591.  85901.\n  82233.  67653.  75160. 370759. 226676. 115638. 161775. 131994. 386720.\n  95329.  97161.  66102. 390170. 200379.  49821.  96070.  64364. 160070.\n 122527. 125953. 387175.  54204. 164434. 116704.  63561.  97911. 113740.\n 386956. 167849.  62988. 177671. 233783. 138116. 103239. 400815. 390993.\n  82428. 176138.  93252. 103192. 174656. 187916. 139590. 118433.  76384.\n 100323.  94234.  72275.  49264.  62075. 218307. 385703. 112864.  63618.\n 161218.  92028.  98072.  82362. 102976.  77009. 131958. 121618. 104701.\n 104527. 223859.  91267.  82594.  80340.  78255.  97961.  73469. 386645.\n 133112. 393711.  64471.  75576. 385954. 105479. 368105. 171802.  65170.\n  86103.  98429.  68832. 116293. 308571. 119904. 119490. 145075. 159500.\n  69828. 164861. 160409. 157596. 137515. 100296. 102290. 136804.  54995.\n 211581. 157085. 153482. 159107.  64898. 146827. 108171. 328439. 389863.\n 303323. 129305. 110185. 139193. 153370. 106186.  55884. 116956.  56953.\n 386929.  96940. 233563.  77740. 399517. 301767. 303626.  76647. 127385.\n  84556.  61670. 114389. 125649.  53448.  97146. 109599.  91227. 142366.\n  62517.  79073.  99232. 140888. 136151. 158375.  95491. 216279.  88266.\n 151387. 292501. 110988.  67260. 120406. 105502. 222092. 386004.  89290.\n  83791. 138753.  72160.  55669. 135063.  51840.  99837. 163220.  71104.\n  70720.  62637.  74731. 117936. 120315. 222476. 123199.  74562. 233452.\n 113592. 386016.  53705.  52081. 141026.  55809. 325924.  49492. 234813.\n 107329.  84945.  53446. 109871. 380839.  99399. 106161.  62636.  62639.\n 176070.  73666. 159648. 154477. 106666. 160235.  49212.  61770.  76001.\n 154655.  64308. 151175. 108877. 401643. 140843.  63376. 150628.  89833.\n  63651. 303701.  52446.  52557. 126817.  95330.  55191.  67002. 123887.\n  90254.  85397.  86373.  96118. 210383. 213010.  56307. 148519. 229649.\n 132684. 151934.  82300. 210019. 165336. 145884. 124579. 128094. 151906.\n  55150.  87363. 107622. 294021.  93633. 230337. 140629. 399859. 221985.\n 175883. 389089. 156524. 140043. 121225. 106067. 158408. 163842.  67041.\n  54640.  63538. 156855.  82607.  53030.  98105.  63834. 156578.  95591.\n  75478.  89718. 107686. 168170. 122110. 391840.  69402.  55886.  94307.\n  55862.  67147.  83240. 121517. 206312. 295076. 219320. 214595.  55322.\n  49613.  81668.  89859.  65248.  48503.  62317.  87814. 135254.  61318.\n  55567.  83259. 158996. 134177. 299230. 230931.  98258. 171843. 152016.\n  63695. 131829. 125349. 136134. 123003. 167994.  69075.  65405.  48619.\n 105952.  66817. 207891. 105155. 216757.  64616.  65099.  58100.  76023.\n 357879.  62769. 181251. 150340. 401345. 162316. 126485. 105618.  63622.\n  66721.  63800. 167619. 124553. 167762. 395248. 167668.  67411.  98793.\n 304564. 158822. 114048.  89428. 390197. 187092. 144514.  82336. 290729.\n  91342. 147397. 159847. 121954.  80291. 111702.  94232. 108095. 154429.\n 102811. 399400. 211177. 120499.  86978. 102760.  82117.  73054. 144009.\n 147984. 184194. 166423. 161813. 306078. 153841. 396213.  63872.  83662.\n  49528.  99078. 126739. 158328.  82775.  57339.  86319.  89997. 228669.\n  54402.  73132. 390187. 390078. 159314. 133146.  95907.  69656. 291921.\n 102767. 159219. 119022. 102521.  65610. 320925. 158785. 297116. 152161.\n 131892. 400688.  57239. 214725.  73317. 136410. 162932. 112442.  75188.\n 125269.  97383. 167327. 164455.  87620. 113641.  88516.  83609. 168976.\n 174780. 130304. 116313. 115520. 342966.  97544.  84208.  65346.  84496.\n  79073. 109616.  53015. 138738. 141259.  61609.  95051. 304314.  95819.\n  71398. 197299.  77014.  64710.  96093. 297422. 133055. 117362.  88828.\n  62047.  97511.  83829. 140703.  64964. 105555. 111135. 158944. 127016.\n 126073. 236717.  82282. 401211. 162519. 101855.  80001. 106541. 100164.\n 221278. 390238. 117388. 160637. 234013. 137720.  63894. 392915. 111207.\n 129132. 137802. 143623.  63880.  99373. 118103.  77320. 133543. 112224.\n 345061.  92460.  82763.  68483. 122624.  48902. 222853. 227410. 119163.\n  65031.].\nReshape your data either using array.reshape(-1, 1) if your data has a single feature or array.reshape(1, -1) if it contains a single sample.",
     "traceback": [
      "\u001b[1;31m---------------------------------------------------------------------------\u001b[0m",
      "\u001b[1;31mValueError\u001b[0m                                Traceback (most recent call last)",
      "\u001b[1;32m<ipython-input-69-306f8a8f4fb0>\u001b[0m in \u001b[0;36m<module>\u001b[1;34m\u001b[0m\n\u001b[0;32m      1\u001b[0m \u001b[1;32mfrom\u001b[0m \u001b[0msklearn\u001b[0m\u001b[1;33m.\u001b[0m\u001b[0mpreprocessing\u001b[0m \u001b[1;32mimport\u001b[0m \u001b[0mMinMaxScaler\u001b[0m\u001b[1;33m\u001b[0m\u001b[1;33m\u001b[0m\u001b[0m\n\u001b[1;32m----> 2\u001b[1;33m \u001b[0mscaler_y\u001b[0m \u001b[1;33m=\u001b[0m \u001b[0mMinMaxScaler\u001b[0m\u001b[1;33m(\u001b[0m\u001b[1;33m)\u001b[0m\u001b[1;33m.\u001b[0m\u001b[0mfit_transform\u001b[0m\u001b[1;33m(\u001b[0m\u001b[0my_train\u001b[0m\u001b[1;33m)\u001b[0m\u001b[1;33m\u001b[0m\u001b[1;33m\u001b[0m\u001b[0m\n\u001b[0m\u001b[0;32m      3\u001b[0m \u001b[0my_scaled_train\u001b[0m \u001b[1;33m=\u001b[0m \u001b[0mscaler_y\u001b[0m\u001b[1;33m.\u001b[0m\u001b[0mtransform\u001b[0m\u001b[1;33m(\u001b[0m\u001b[0my_train\u001b[0m\u001b[1;33m)\u001b[0m\u001b[1;33m\u001b[0m\u001b[1;33m\u001b[0m\u001b[0m\n\u001b[0;32m      4\u001b[0m \u001b[0my_scaled_test\u001b[0m \u001b[1;33m=\u001b[0m \u001b[0mscaler_y\u001b[0m\u001b[1;33m.\u001b[0m\u001b[0mtransform\u001b[0m\u001b[1;33m(\u001b[0m\u001b[0my_test\u001b[0m\u001b[1;33m)\u001b[0m\u001b[1;33m\u001b[0m\u001b[1;33m\u001b[0m\u001b[0m\n",
      "\u001b[1;32m~\\anaconda3\\lib\\site-packages\\sklearn\\base.py\u001b[0m in \u001b[0;36mfit_transform\u001b[1;34m(self, X, y, **fit_params)\u001b[0m\n\u001b[0;32m    688\u001b[0m         \u001b[1;32mif\u001b[0m \u001b[0my\u001b[0m \u001b[1;32mis\u001b[0m \u001b[1;32mNone\u001b[0m\u001b[1;33m:\u001b[0m\u001b[1;33m\u001b[0m\u001b[1;33m\u001b[0m\u001b[0m\n\u001b[0;32m    689\u001b[0m             \u001b[1;31m# fit method of arity 1 (unsupervised transformation)\u001b[0m\u001b[1;33m\u001b[0m\u001b[1;33m\u001b[0m\u001b[1;33m\u001b[0m\u001b[0m\n\u001b[1;32m--> 690\u001b[1;33m             \u001b[1;32mreturn\u001b[0m \u001b[0mself\u001b[0m\u001b[1;33m.\u001b[0m\u001b[0mfit\u001b[0m\u001b[1;33m(\u001b[0m\u001b[0mX\u001b[0m\u001b[1;33m,\u001b[0m \u001b[1;33m**\u001b[0m\u001b[0mfit_params\u001b[0m\u001b[1;33m)\u001b[0m\u001b[1;33m.\u001b[0m\u001b[0mtransform\u001b[0m\u001b[1;33m(\u001b[0m\u001b[0mX\u001b[0m\u001b[1;33m)\u001b[0m\u001b[1;33m\u001b[0m\u001b[1;33m\u001b[0m\u001b[0m\n\u001b[0m\u001b[0;32m    691\u001b[0m         \u001b[1;32melse\u001b[0m\u001b[1;33m:\u001b[0m\u001b[1;33m\u001b[0m\u001b[1;33m\u001b[0m\u001b[0m\n\u001b[0;32m    692\u001b[0m             \u001b[1;31m# fit method of arity 2 (supervised transformation)\u001b[0m\u001b[1;33m\u001b[0m\u001b[1;33m\u001b[0m\u001b[1;33m\u001b[0m\u001b[0m\n",
      "\u001b[1;32m~\\anaconda3\\lib\\site-packages\\sklearn\\preprocessing\\_data.py\u001b[0m in \u001b[0;36mfit\u001b[1;34m(self, X, y)\u001b[0m\n\u001b[0;32m    334\u001b[0m         \u001b[1;31m# Reset internal state before fitting\u001b[0m\u001b[1;33m\u001b[0m\u001b[1;33m\u001b[0m\u001b[1;33m\u001b[0m\u001b[0m\n\u001b[0;32m    335\u001b[0m         \u001b[0mself\u001b[0m\u001b[1;33m.\u001b[0m\u001b[0m_reset\u001b[0m\u001b[1;33m(\u001b[0m\u001b[1;33m)\u001b[0m\u001b[1;33m\u001b[0m\u001b[1;33m\u001b[0m\u001b[0m\n\u001b[1;32m--> 336\u001b[1;33m         \u001b[1;32mreturn\u001b[0m \u001b[0mself\u001b[0m\u001b[1;33m.\u001b[0m\u001b[0mpartial_fit\u001b[0m\u001b[1;33m(\u001b[0m\u001b[0mX\u001b[0m\u001b[1;33m,\u001b[0m \u001b[0my\u001b[0m\u001b[1;33m)\u001b[0m\u001b[1;33m\u001b[0m\u001b[1;33m\u001b[0m\u001b[0m\n\u001b[0m\u001b[0;32m    337\u001b[0m \u001b[1;33m\u001b[0m\u001b[0m\n\u001b[0;32m    338\u001b[0m     \u001b[1;32mdef\u001b[0m \u001b[0mpartial_fit\u001b[0m\u001b[1;33m(\u001b[0m\u001b[0mself\u001b[0m\u001b[1;33m,\u001b[0m \u001b[0mX\u001b[0m\u001b[1;33m,\u001b[0m \u001b[0my\u001b[0m\u001b[1;33m=\u001b[0m\u001b[1;32mNone\u001b[0m\u001b[1;33m)\u001b[0m\u001b[1;33m:\u001b[0m\u001b[1;33m\u001b[0m\u001b[1;33m\u001b[0m\u001b[0m\n",
      "\u001b[1;32m~\\anaconda3\\lib\\site-packages\\sklearn\\preprocessing\\_data.py\u001b[0m in \u001b[0;36mpartial_fit\u001b[1;34m(self, X, y)\u001b[0m\n\u001b[0;32m    367\u001b[0m \u001b[1;33m\u001b[0m\u001b[0m\n\u001b[0;32m    368\u001b[0m         \u001b[0mfirst_pass\u001b[0m \u001b[1;33m=\u001b[0m \u001b[1;32mnot\u001b[0m \u001b[0mhasattr\u001b[0m\u001b[1;33m(\u001b[0m\u001b[0mself\u001b[0m\u001b[1;33m,\u001b[0m \u001b[1;34m'n_samples_seen_'\u001b[0m\u001b[1;33m)\u001b[0m\u001b[1;33m\u001b[0m\u001b[1;33m\u001b[0m\u001b[0m\n\u001b[1;32m--> 369\u001b[1;33m         X = self._validate_data(X, reset=first_pass,\n\u001b[0m\u001b[0;32m    370\u001b[0m                                 \u001b[0mestimator\u001b[0m\u001b[1;33m=\u001b[0m\u001b[0mself\u001b[0m\u001b[1;33m,\u001b[0m \u001b[0mdtype\u001b[0m\u001b[1;33m=\u001b[0m\u001b[0mFLOAT_DTYPES\u001b[0m\u001b[1;33m,\u001b[0m\u001b[1;33m\u001b[0m\u001b[1;33m\u001b[0m\u001b[0m\n\u001b[0;32m    371\u001b[0m                                 force_all_finite=\"allow-nan\")\n",
      "\u001b[1;32m~\\anaconda3\\lib\\site-packages\\sklearn\\base.py\u001b[0m in \u001b[0;36m_validate_data\u001b[1;34m(self, X, y, reset, validate_separately, **check_params)\u001b[0m\n\u001b[0;32m    418\u001b[0m                     \u001b[1;34mf\"requires y to be passed, but the target y is None.\"\u001b[0m\u001b[1;33m\u001b[0m\u001b[1;33m\u001b[0m\u001b[0m\n\u001b[0;32m    419\u001b[0m                 )\n\u001b[1;32m--> 420\u001b[1;33m             \u001b[0mX\u001b[0m \u001b[1;33m=\u001b[0m \u001b[0mcheck_array\u001b[0m\u001b[1;33m(\u001b[0m\u001b[0mX\u001b[0m\u001b[1;33m,\u001b[0m \u001b[1;33m**\u001b[0m\u001b[0mcheck_params\u001b[0m\u001b[1;33m)\u001b[0m\u001b[1;33m\u001b[0m\u001b[1;33m\u001b[0m\u001b[0m\n\u001b[0m\u001b[0;32m    421\u001b[0m             \u001b[0mout\u001b[0m \u001b[1;33m=\u001b[0m \u001b[0mX\u001b[0m\u001b[1;33m\u001b[0m\u001b[1;33m\u001b[0m\u001b[0m\n\u001b[0;32m    422\u001b[0m         \u001b[1;32melse\u001b[0m\u001b[1;33m:\u001b[0m\u001b[1;33m\u001b[0m\u001b[1;33m\u001b[0m\u001b[0m\n",
      "\u001b[1;32m~\\anaconda3\\lib\\site-packages\\sklearn\\utils\\validation.py\u001b[0m in \u001b[0;36minner_f\u001b[1;34m(*args, **kwargs)\u001b[0m\n\u001b[0;32m     70\u001b[0m                           FutureWarning)\n\u001b[0;32m     71\u001b[0m         \u001b[0mkwargs\u001b[0m\u001b[1;33m.\u001b[0m\u001b[0mupdate\u001b[0m\u001b[1;33m(\u001b[0m\u001b[1;33m{\u001b[0m\u001b[0mk\u001b[0m\u001b[1;33m:\u001b[0m \u001b[0marg\u001b[0m \u001b[1;32mfor\u001b[0m \u001b[0mk\u001b[0m\u001b[1;33m,\u001b[0m \u001b[0marg\u001b[0m \u001b[1;32min\u001b[0m \u001b[0mzip\u001b[0m\u001b[1;33m(\u001b[0m\u001b[0msig\u001b[0m\u001b[1;33m.\u001b[0m\u001b[0mparameters\u001b[0m\u001b[1;33m,\u001b[0m \u001b[0margs\u001b[0m\u001b[1;33m)\u001b[0m\u001b[1;33m}\u001b[0m\u001b[1;33m)\u001b[0m\u001b[1;33m\u001b[0m\u001b[1;33m\u001b[0m\u001b[0m\n\u001b[1;32m---> 72\u001b[1;33m         \u001b[1;32mreturn\u001b[0m \u001b[0mf\u001b[0m\u001b[1;33m(\u001b[0m\u001b[1;33m**\u001b[0m\u001b[0mkwargs\u001b[0m\u001b[1;33m)\u001b[0m\u001b[1;33m\u001b[0m\u001b[1;33m\u001b[0m\u001b[0m\n\u001b[0m\u001b[0;32m     73\u001b[0m     \u001b[1;32mreturn\u001b[0m \u001b[0minner_f\u001b[0m\u001b[1;33m\u001b[0m\u001b[1;33m\u001b[0m\u001b[0m\n\u001b[0;32m     74\u001b[0m \u001b[1;33m\u001b[0m\u001b[0m\n",
      "\u001b[1;32m~\\anaconda3\\lib\\site-packages\\sklearn\\utils\\validation.py\u001b[0m in \u001b[0;36mcheck_array\u001b[1;34m(array, accept_sparse, accept_large_sparse, dtype, order, copy, force_all_finite, ensure_2d, allow_nd, ensure_min_samples, ensure_min_features, estimator)\u001b[0m\n\u001b[0;32m    617\u001b[0m             \u001b[1;31m# If input is 1D raise error\u001b[0m\u001b[1;33m\u001b[0m\u001b[1;33m\u001b[0m\u001b[1;33m\u001b[0m\u001b[0m\n\u001b[0;32m    618\u001b[0m             \u001b[1;32mif\u001b[0m \u001b[0marray\u001b[0m\u001b[1;33m.\u001b[0m\u001b[0mndim\u001b[0m \u001b[1;33m==\u001b[0m \u001b[1;36m1\u001b[0m\u001b[1;33m:\u001b[0m\u001b[1;33m\u001b[0m\u001b[1;33m\u001b[0m\u001b[0m\n\u001b[1;32m--> 619\u001b[1;33m                 raise ValueError(\n\u001b[0m\u001b[0;32m    620\u001b[0m                     \u001b[1;34m\"Expected 2D array, got 1D array instead:\\narray={}.\\n\"\u001b[0m\u001b[1;33m\u001b[0m\u001b[1;33m\u001b[0m\u001b[0m\n\u001b[0;32m    621\u001b[0m                     \u001b[1;34m\"Reshape your data either using array.reshape(-1, 1) if \"\u001b[0m\u001b[1;33m\u001b[0m\u001b[1;33m\u001b[0m\u001b[0m\n",
      "\u001b[1;31mValueError\u001b[0m: Expected 2D array, got 1D array instead:\narray=[223174. 157161.  97965.  96411. 390638.  55704. 119186. 116422.  84886.\n 297672. 138302.  92947.  85323. 107146. 399976.  78094.  66197. 143914.\n 235069. 123792. 108983. 303716. 362116. 234391. 116185. 108656.  48807.\n  99636.  88608. 158942.  55945. 142246. 292821.  48692. 296905.  65187.\n  71537.  94545. 159204. 132441. 123866. 323600.  64045. 162823. 301892.\n 133380. 291667. 388934. 353691. 195492. 159420. 139930.  64199. 303290.\n  49106.  89916.  96645.  71308. 159557.  79932.  82954.  92938. 134275.\n 121720.  78152. 133776.  97380.  51251. 104701. 390167.  68653. 135571.\n  89826. 105815. 400679. 115630.  65020.  87477. 104592.  90563.  87438.\n 106473. 133159. 106976. 158523. 171866.  48731.  48771. 401360. 112178.\n  66254.  67833.  65044. 116683. 106271.  64285.  55057.  95217. 104090.\n 114036. 123526. 114876. 148634. 143211.  53566. 133980.  98264. 111489.\n 106855. 160232. 224836. 168286.  86168.  96324. 149218.  51828. 146917.\n 386741. 130047.  50504. 101623. 182834. 227836. 137433. 296740.  68206.\n 133907. 116642. 119813.  72466. 101299. 237271. 124861. 159184. 159722.\n  49495.  64296. 291571. 212044.  94970.  70632. 112058. 138085. 136505.\n  96789. 102559. 159283. 130990.  91990. 174131.  49069.  80808. 113152.\n 155553.  82557.  63419. 299841.  82794. 111406. 110673. 220443. 106277.\n  89254. 105016. 295882. 157660.  92189.  49300.  67670.  85185. 125769.\n 142048. 107178. 400303. 294251. 103506. 114380. 189578.  49385.  67444.\n 119590. 102751.  77322.  49452. 103437.  71091. 116615. 112074.  55593.\n 222181. 134628.  90467.  62769.  94617. 112264. 157437.  63442.  65006.\n 158518. 166425. 112148. 117878. 150988. 365511.  71657.  71178. 105863.\n  77536. 385822. 120674.  49707.  77658. 108118. 383401. 101896.  81945.\n 345731.  86714.  96679. 149571. 119222. 101017. 290639.  49560. 350522.\n 214034.  78765.  66193.  62127.  63342.  84127. 204677. 112591.  85901.\n  82233.  67653.  75160. 370759. 226676. 115638. 161775. 131994. 386720.\n  95329.  97161.  66102. 390170. 200379.  49821.  96070.  64364. 160070.\n 122527. 125953. 387175.  54204. 164434. 116704.  63561.  97911. 113740.\n 386956. 167849.  62988. 177671. 233783. 138116. 103239. 400815. 390993.\n  82428. 176138.  93252. 103192. 174656. 187916. 139590. 118433.  76384.\n 100323.  94234.  72275.  49264.  62075. 218307. 385703. 112864.  63618.\n 161218.  92028.  98072.  82362. 102976.  77009. 131958. 121618. 104701.\n 104527. 223859.  91267.  82594.  80340.  78255.  97961.  73469. 386645.\n 133112. 393711.  64471.  75576. 385954. 105479. 368105. 171802.  65170.\n  86103.  98429.  68832. 116293. 308571. 119904. 119490. 145075. 159500.\n  69828. 164861. 160409. 157596. 137515. 100296. 102290. 136804.  54995.\n 211581. 157085. 153482. 159107.  64898. 146827. 108171. 328439. 389863.\n 303323. 129305. 110185. 139193. 153370. 106186.  55884. 116956.  56953.\n 386929.  96940. 233563.  77740. 399517. 301767. 303626.  76647. 127385.\n  84556.  61670. 114389. 125649.  53448.  97146. 109599.  91227. 142366.\n  62517.  79073.  99232. 140888. 136151. 158375.  95491. 216279.  88266.\n 151387. 292501. 110988.  67260. 120406. 105502. 222092. 386004.  89290.\n  83791. 138753.  72160.  55669. 135063.  51840.  99837. 163220.  71104.\n  70720.  62637.  74731. 117936. 120315. 222476. 123199.  74562. 233452.\n 113592. 386016.  53705.  52081. 141026.  55809. 325924.  49492. 234813.\n 107329.  84945.  53446. 109871. 380839.  99399. 106161.  62636.  62639.\n 176070.  73666. 159648. 154477. 106666. 160235.  49212.  61770.  76001.\n 154655.  64308. 151175. 108877. 401643. 140843.  63376. 150628.  89833.\n  63651. 303701.  52446.  52557. 126817.  95330.  55191.  67002. 123887.\n  90254.  85397.  86373.  96118. 210383. 213010.  56307. 148519. 229649.\n 132684. 151934.  82300. 210019. 165336. 145884. 124579. 128094. 151906.\n  55150.  87363. 107622. 294021.  93633. 230337. 140629. 399859. 221985.\n 175883. 389089. 156524. 140043. 121225. 106067. 158408. 163842.  67041.\n  54640.  63538. 156855.  82607.  53030.  98105.  63834. 156578.  95591.\n  75478.  89718. 107686. 168170. 122110. 391840.  69402.  55886.  94307.\n  55862.  67147.  83240. 121517. 206312. 295076. 219320. 214595.  55322.\n  49613.  81668.  89859.  65248.  48503.  62317.  87814. 135254.  61318.\n  55567.  83259. 158996. 134177. 299230. 230931.  98258. 171843. 152016.\n  63695. 131829. 125349. 136134. 123003. 167994.  69075.  65405.  48619.\n 105952.  66817. 207891. 105155. 216757.  64616.  65099.  58100.  76023.\n 357879.  62769. 181251. 150340. 401345. 162316. 126485. 105618.  63622.\n  66721.  63800. 167619. 124553. 167762. 395248. 167668.  67411.  98793.\n 304564. 158822. 114048.  89428. 390197. 187092. 144514.  82336. 290729.\n  91342. 147397. 159847. 121954.  80291. 111702.  94232. 108095. 154429.\n 102811. 399400. 211177. 120499.  86978. 102760.  82117.  73054. 144009.\n 147984. 184194. 166423. 161813. 306078. 153841. 396213.  63872.  83662.\n  49528.  99078. 126739. 158328.  82775.  57339.  86319.  89997. 228669.\n  54402.  73132. 390187. 390078. 159314. 133146.  95907.  69656. 291921.\n 102767. 159219. 119022. 102521.  65610. 320925. 158785. 297116. 152161.\n 131892. 400688.  57239. 214725.  73317. 136410. 162932. 112442.  75188.\n 125269.  97383. 167327. 164455.  87620. 113641.  88516.  83609. 168976.\n 174780. 130304. 116313. 115520. 342966.  97544.  84208.  65346.  84496.\n  79073. 109616.  53015. 138738. 141259.  61609.  95051. 304314.  95819.\n  71398. 197299.  77014.  64710.  96093. 297422. 133055. 117362.  88828.\n  62047.  97511.  83829. 140703.  64964. 105555. 111135. 158944. 127016.\n 126073. 236717.  82282. 401211. 162519. 101855.  80001. 106541. 100164.\n 221278. 390238. 117388. 160637. 234013. 137720.  63894. 392915. 111207.\n 129132. 137802. 143623.  63880.  99373. 118103.  77320. 133543. 112224.\n 345061.  92460.  82763.  68483. 122624.  48902. 222853. 227410. 119163.\n  65031.].\nReshape your data either using array.reshape(-1, 1) if your data has a single feature or array.reshape(1, -1) if it contains a single sample."
     ]
    }
   ],
   "source": [
    "from sklearn.preprocessing import MinMaxScaler\n",
    "scaler_y = MinMaxScaler().fit_transform(y_train)\n",
    "y_scaled_train = scaler_y.transform(y_train)\n",
    "y_scaled_test = scaler_y.transform(y_test)"
   ]
  },
  {
   "cell_type": "code",
   "execution_count": 71,
   "metadata": {},
   "outputs": [],
   "source": [
    "# Make predictions using the testing data X_test\n",
    "predicted = model.predict(X_scaled_test)"
   ]
  },
  {
   "cell_type": "code",
   "execution_count": 72,
   "metadata": {},
   "outputs": [
    {
     "output_type": "execute_result",
     "data": {
      "text/plain": [
       "309"
      ]
     },
     "metadata": {},
     "execution_count": 72
    }
   ],
   "source": [
    "len(predicted)"
   ]
  },
  {
   "cell_type": "code",
   "execution_count": 73,
   "metadata": {},
   "outputs": [
    {
     "output_type": "error",
     "ename": "ValueError",
     "evalue": "non-broadcastable output operand with shape (309,1) doesn't match the broadcast shape (309,8)",
     "traceback": [
      "\u001b[1;31m---------------------------------------------------------------------------\u001b[0m",
      "\u001b[1;31mValueError\u001b[0m                                Traceback (most recent call last)",
      "\u001b[1;32m<ipython-input-73-2c60b6890b0c>\u001b[0m in \u001b[0;36m<module>\u001b[1;34m\u001b[0m\n\u001b[0;32m      1\u001b[0m \u001b[1;31m# Recover the original prices instead of the scaled version\u001b[0m\u001b[1;33m\u001b[0m\u001b[1;33m\u001b[0m\u001b[1;33m\u001b[0m\u001b[0m\n\u001b[1;32m----> 2\u001b[1;33m \u001b[0mpredicted_prices\u001b[0m \u001b[1;33m=\u001b[0m \u001b[0mscaler\u001b[0m\u001b[1;33m.\u001b[0m\u001b[0minverse_transform\u001b[0m\u001b[1;33m(\u001b[0m\u001b[0mpredicted\u001b[0m\u001b[1;33m)\u001b[0m\u001b[1;33m\u001b[0m\u001b[1;33m\u001b[0m\u001b[0m\n\u001b[0m\u001b[0;32m      3\u001b[0m \u001b[0mreal_prices\u001b[0m \u001b[1;33m=\u001b[0m \u001b[0mscaler\u001b[0m\u001b[1;33m.\u001b[0m\u001b[0minverse_transform\u001b[0m\u001b[1;33m(\u001b[0m\u001b[0my_test\u001b[0m\u001b[1;33m.\u001b[0m\u001b[0mreshape\u001b[0m\u001b[1;33m(\u001b[0m\u001b[1;33m-\u001b[0m\u001b[1;36m1\u001b[0m\u001b[1;33m,\u001b[0m \u001b[1;36m1\u001b[0m\u001b[1;33m)\u001b[0m\u001b[1;33m)\u001b[0m\u001b[1;33m\u001b[0m\u001b[1;33m\u001b[0m\u001b[0m\n",
      "\u001b[1;32m~\\anaconda3\\lib\\site-packages\\sklearn\\preprocessing\\_data.py\u001b[0m in \u001b[0;36minverse_transform\u001b[1;34m(self, X, copy)\u001b[0m\n\u001b[0;32m    843\u001b[0m                 \u001b[0mX\u001b[0m \u001b[1;33m=\u001b[0m \u001b[0mX\u001b[0m\u001b[1;33m.\u001b[0m\u001b[0mcopy\u001b[0m\u001b[1;33m(\u001b[0m\u001b[1;33m)\u001b[0m\u001b[1;33m\u001b[0m\u001b[1;33m\u001b[0m\u001b[0m\n\u001b[0;32m    844\u001b[0m             \u001b[1;32mif\u001b[0m \u001b[0mself\u001b[0m\u001b[1;33m.\u001b[0m\u001b[0mwith_std\u001b[0m\u001b[1;33m:\u001b[0m\u001b[1;33m\u001b[0m\u001b[1;33m\u001b[0m\u001b[0m\n\u001b[1;32m--> 845\u001b[1;33m                 \u001b[0mX\u001b[0m \u001b[1;33m*=\u001b[0m \u001b[0mself\u001b[0m\u001b[1;33m.\u001b[0m\u001b[0mscale_\u001b[0m\u001b[1;33m\u001b[0m\u001b[1;33m\u001b[0m\u001b[0m\n\u001b[0m\u001b[0;32m    846\u001b[0m             \u001b[1;32mif\u001b[0m \u001b[0mself\u001b[0m\u001b[1;33m.\u001b[0m\u001b[0mwith_mean\u001b[0m\u001b[1;33m:\u001b[0m\u001b[1;33m\u001b[0m\u001b[1;33m\u001b[0m\u001b[0m\n\u001b[0;32m    847\u001b[0m                 \u001b[0mX\u001b[0m \u001b[1;33m+=\u001b[0m \u001b[0mself\u001b[0m\u001b[1;33m.\u001b[0m\u001b[0mmean_\u001b[0m\u001b[1;33m\u001b[0m\u001b[1;33m\u001b[0m\u001b[0m\n",
      "\u001b[1;31mValueError\u001b[0m: non-broadcastable output operand with shape (309,1) doesn't match the broadcast shape (309,8)"
     ]
    }
   ],
   "source": [
    "# Recover the original prices instead of the scaled version\n",
    "predicted_prices = scaler.inverse_transform(predicted)\n",
    "real_prices = scaler.inverse_transform(y_test.reshape(-1, 1))"
   ]
  },
  {
   "cell_type": "code",
   "execution_count": 74,
   "metadata": {},
   "outputs": [
    {
     "output_type": "execute_result",
     "data": {
      "text/plain": [
       "              Actual      Predicted\n",
       "Date                               \n",
       "2017-05-31   65705.0   57066.707031\n",
       "2017-05-31  221685.0  217832.890625\n",
       "2017-05-31   96417.0  116672.195312\n",
       "2017-06-30   69231.0   56871.914062\n",
       "2017-06-30  131921.0  118250.375000"
      ],
      "text/html": "<div>\n<style scoped>\n    .dataframe tbody tr th:only-of-type {\n        vertical-align: middle;\n    }\n\n    .dataframe tbody tr th {\n        vertical-align: top;\n    }\n\n    .dataframe thead th {\n        text-align: right;\n    }\n</style>\n<table border=\"1\" class=\"dataframe\">\n  <thead>\n    <tr style=\"text-align: right;\">\n      <th></th>\n      <th>Actual</th>\n      <th>Predicted</th>\n    </tr>\n    <tr>\n      <th>Date</th>\n      <th></th>\n      <th></th>\n    </tr>\n  </thead>\n  <tbody>\n    <tr>\n      <th>2017-05-31</th>\n      <td>65705.0</td>\n      <td>57066.707031</td>\n    </tr>\n    <tr>\n      <th>2017-05-31</th>\n      <td>221685.0</td>\n      <td>217832.890625</td>\n    </tr>\n    <tr>\n      <th>2017-05-31</th>\n      <td>96417.0</td>\n      <td>116672.195312</td>\n    </tr>\n    <tr>\n      <th>2017-06-30</th>\n      <td>69231.0</td>\n      <td>56871.914062</td>\n    </tr>\n    <tr>\n      <th>2017-06-30</th>\n      <td>131921.0</td>\n      <td>118250.375000</td>\n    </tr>\n  </tbody>\n</table>\n</div>"
     },
     "metadata": {},
     "execution_count": 74
    }
   ],
   "source": [
    "# Create a DataFrame of Real and Predicted values\n",
    "housing_model = pd.DataFrame({\n",
    "    \"Actual\": y_test.ravel(),\n",
    "    \"Predicted\": predicted.ravel()\n",
    "}, index = housing_df.index[-len(y_test): ]) \n",
    "\n",
    "# Show the DataFrame's head\n",
    "housing_model.head()"
   ]
  },
  {
   "cell_type": "code",
   "execution_count": 75,
   "metadata": {},
   "outputs": [
    {
     "output_type": "execute_result",
     "data": {
      "text/plain": [
       "<AxesSubplot:title={'center':'Actual Vs. Predicted Housing Prices in Houston'}, xlabel='Date'>"
      ]
     },
     "metadata": {},
     "execution_count": 75
    },
    {
     "output_type": "display_data",
     "data": {
      "text/plain": "<Figure size 432x288 with 1 Axes>",
      "image/svg+xml": "<?xml version=\"1.0\" encoding=\"utf-8\" standalone=\"no\"?>\r\n<!DOCTYPE svg PUBLIC \"-//W3C//DTD SVG 1.1//EN\"\r\n  \"http://www.w3.org/Graphics/SVG/1.1/DTD/svg11.dtd\">\r\n<!-- Created with matplotlib (https://matplotlib.org/) -->\r\n<svg height=\"275.309158pt\" version=\"1.1\" viewBox=\"0 0 394.375 275.309158\" width=\"394.375pt\" xmlns=\"http://www.w3.org/2000/svg\" xmlns:xlink=\"http://www.w3.org/1999/xlink\">\r\n <metadata>\r\n  <rdf:RDF xmlns:cc=\"http://creativecommons.org/ns#\" xmlns:dc=\"http://purl.org/dc/elements/1.1/\" xmlns:rdf=\"http://www.w3.org/1999/02/22-rdf-syntax-ns#\">\r\n   <cc:Work>\r\n    <dc:type rdf:resource=\"http://purl.org/dc/dcmitype/StillImage\"/>\r\n    <dc:date>2021-01-12T16:18:18.958364</dc:date>\r\n    <dc:format>image/svg+xml</dc:format>\r\n    <dc:creator>\r\n     <cc:Agent>\r\n      <dc:title>Matplotlib v3.3.2, https://matplotlib.org/</dc:title>\r\n     </cc:Agent>\r\n    </dc:creator>\r\n   </cc:Work>\r\n  </rdf:RDF>\r\n </metadata>\r\n <defs>\r\n  <style type=\"text/css\">*{stroke-linecap:butt;stroke-linejoin:round;}</style>\r\n </defs>\r\n <g id=\"figure_1\">\r\n  <g id=\"patch_1\">\r\n   <path d=\"M 0 275.309158 \r\nL 394.375 275.309158 \r\nL 394.375 0 \r\nL 0 0 \r\nz\r\n\" style=\"fill:none;\"/>\r\n  </g>\r\n  <g id=\"axes_1\">\r\n   <g id=\"patch_2\">\r\n    <path d=\"M 52.375 218.158125 \r\nL 387.175 218.158125 \r\nL 387.175 22.318125 \r\nL 52.375 22.318125 \r\nz\r\n\" style=\"fill:#ffffff;\"/>\r\n   </g>\r\n   <g id=\"matplotlib.axis_1\">\r\n    <g id=\"xtick_1\">\r\n     <g id=\"line2d_1\">\r\n      <defs>\r\n       <path d=\"M 0 0 \r\nL 0 3.5 \r\n\" id=\"m19c4c6a5d1\" style=\"stroke:#000000;stroke-width:0.8;\"/>\r\n      </defs>\r\n      <g>\r\n       <use style=\"stroke:#000000;stroke-width:0.8;\" x=\"58.498651\" xlink:href=\"#m19c4c6a5d1\" y=\"218.158125\"/>\r\n      </g>\r\n     </g>\r\n     <g id=\"text_1\">\r\n      <!-- 2017-05 -->\r\n      <g transform=\"translate(21.27383 252.629971)rotate(-30)scale(0.1 -0.1)\">\r\n       <defs>\r\n        <path d=\"M 19.1875 8.296875 \r\nL 53.609375 8.296875 \r\nL 53.609375 0 \r\nL 7.328125 0 \r\nL 7.328125 8.296875 \r\nQ 12.9375 14.109375 22.625 23.890625 \r\nQ 32.328125 33.6875 34.8125 36.53125 \r\nQ 39.546875 41.84375 41.421875 45.53125 \r\nQ 43.3125 49.21875 43.3125 52.78125 \r\nQ 43.3125 58.59375 39.234375 62.25 \r\nQ 35.15625 65.921875 28.609375 65.921875 \r\nQ 23.96875 65.921875 18.8125 64.3125 \r\nQ 13.671875 62.703125 7.8125 59.421875 \r\nL 7.8125 69.390625 \r\nQ 13.765625 71.78125 18.9375 73 \r\nQ 24.125 74.21875 28.421875 74.21875 \r\nQ 39.75 74.21875 46.484375 68.546875 \r\nQ 53.21875 62.890625 53.21875 53.421875 \r\nQ 53.21875 48.921875 51.53125 44.890625 \r\nQ 49.859375 40.875 45.40625 35.40625 \r\nQ 44.1875 33.984375 37.640625 27.21875 \r\nQ 31.109375 20.453125 19.1875 8.296875 \r\nz\r\n\" id=\"DejaVuSans-50\"/>\r\n        <path d=\"M 31.78125 66.40625 \r\nQ 24.171875 66.40625 20.328125 58.90625 \r\nQ 16.5 51.421875 16.5 36.375 \r\nQ 16.5 21.390625 20.328125 13.890625 \r\nQ 24.171875 6.390625 31.78125 6.390625 \r\nQ 39.453125 6.390625 43.28125 13.890625 \r\nQ 47.125 21.390625 47.125 36.375 \r\nQ 47.125 51.421875 43.28125 58.90625 \r\nQ 39.453125 66.40625 31.78125 66.40625 \r\nz\r\nM 31.78125 74.21875 \r\nQ 44.046875 74.21875 50.515625 64.515625 \r\nQ 56.984375 54.828125 56.984375 36.375 \r\nQ 56.984375 17.96875 50.515625 8.265625 \r\nQ 44.046875 -1.421875 31.78125 -1.421875 \r\nQ 19.53125 -1.421875 13.0625 8.265625 \r\nQ 6.59375 17.96875 6.59375 36.375 \r\nQ 6.59375 54.828125 13.0625 64.515625 \r\nQ 19.53125 74.21875 31.78125 74.21875 \r\nz\r\n\" id=\"DejaVuSans-48\"/>\r\n        <path d=\"M 12.40625 8.296875 \r\nL 28.515625 8.296875 \r\nL 28.515625 63.921875 \r\nL 10.984375 60.40625 \r\nL 10.984375 69.390625 \r\nL 28.421875 72.90625 \r\nL 38.28125 72.90625 \r\nL 38.28125 8.296875 \r\nL 54.390625 8.296875 \r\nL 54.390625 0 \r\nL 12.40625 0 \r\nz\r\n\" id=\"DejaVuSans-49\"/>\r\n        <path d=\"M 8.203125 72.90625 \r\nL 55.078125 72.90625 \r\nL 55.078125 68.703125 \r\nL 28.609375 0 \r\nL 18.3125 0 \r\nL 43.21875 64.59375 \r\nL 8.203125 64.59375 \r\nz\r\n\" id=\"DejaVuSans-55\"/>\r\n        <path d=\"M 4.890625 31.390625 \r\nL 31.203125 31.390625 \r\nL 31.203125 23.390625 \r\nL 4.890625 23.390625 \r\nz\r\n\" id=\"DejaVuSans-45\"/>\r\n        <path d=\"M 10.796875 72.90625 \r\nL 49.515625 72.90625 \r\nL 49.515625 64.59375 \r\nL 19.828125 64.59375 \r\nL 19.828125 46.734375 \r\nQ 21.96875 47.46875 24.109375 47.828125 \r\nQ 26.265625 48.1875 28.421875 48.1875 \r\nQ 40.625 48.1875 47.75 41.5 \r\nQ 54.890625 34.8125 54.890625 23.390625 \r\nQ 54.890625 11.625 47.5625 5.09375 \r\nQ 40.234375 -1.421875 26.90625 -1.421875 \r\nQ 22.3125 -1.421875 17.546875 -0.640625 \r\nQ 12.796875 0.140625 7.71875 1.703125 \r\nL 7.71875 11.625 \r\nQ 12.109375 9.234375 16.796875 8.0625 \r\nQ 21.484375 6.890625 26.703125 6.890625 \r\nQ 35.15625 6.890625 40.078125 11.328125 \r\nQ 45.015625 15.765625 45.015625 23.390625 \r\nQ 45.015625 31 40.078125 35.4375 \r\nQ 35.15625 39.890625 26.703125 39.890625 \r\nQ 22.75 39.890625 18.8125 39.015625 \r\nQ 14.890625 38.140625 10.796875 36.28125 \r\nz\r\n\" id=\"DejaVuSans-53\"/>\r\n       </defs>\r\n       <use xlink:href=\"#DejaVuSans-50\"/>\r\n       <use x=\"63.623047\" xlink:href=\"#DejaVuSans-48\"/>\r\n       <use x=\"127.246094\" xlink:href=\"#DejaVuSans-49\"/>\r\n       <use x=\"190.869141\" xlink:href=\"#DejaVuSans-55\"/>\r\n       <use x=\"254.492188\" xlink:href=\"#DejaVuSans-45\"/>\r\n       <use x=\"290.576172\" xlink:href=\"#DejaVuSans-48\"/>\r\n       <use x=\"354.199219\" xlink:href=\"#DejaVuSans-53\"/>\r\n      </g>\r\n     </g>\r\n    </g>\r\n    <g id=\"xtick_2\">\r\n     <g id=\"line2d_2\">\r\n      <g>\r\n       <use style=\"stroke:#000000;stroke-width:0.8;\" x=\"95.786228\" xlink:href=\"#m19c4c6a5d1\" y=\"218.158125\"/>\r\n      </g>\r\n     </g>\r\n     <g id=\"text_2\">\r\n      <!-- 2017-09 -->\r\n      <g transform=\"translate(58.561407 252.629971)rotate(-30)scale(0.1 -0.1)\">\r\n       <defs>\r\n        <path d=\"M 10.984375 1.515625 \r\nL 10.984375 10.5 \r\nQ 14.703125 8.734375 18.5 7.8125 \r\nQ 22.3125 6.890625 25.984375 6.890625 \r\nQ 35.75 6.890625 40.890625 13.453125 \r\nQ 46.046875 20.015625 46.78125 33.40625 \r\nQ 43.953125 29.203125 39.59375 26.953125 \r\nQ 35.25 24.703125 29.984375 24.703125 \r\nQ 19.046875 24.703125 12.671875 31.3125 \r\nQ 6.296875 37.9375 6.296875 49.421875 \r\nQ 6.296875 60.640625 12.9375 67.421875 \r\nQ 19.578125 74.21875 30.609375 74.21875 \r\nQ 43.265625 74.21875 49.921875 64.515625 \r\nQ 56.59375 54.828125 56.59375 36.375 \r\nQ 56.59375 19.140625 48.40625 8.859375 \r\nQ 40.234375 -1.421875 26.421875 -1.421875 \r\nQ 22.703125 -1.421875 18.890625 -0.6875 \r\nQ 15.09375 0.046875 10.984375 1.515625 \r\nz\r\nM 30.609375 32.421875 \r\nQ 37.25 32.421875 41.125 36.953125 \r\nQ 45.015625 41.5 45.015625 49.421875 \r\nQ 45.015625 57.28125 41.125 61.84375 \r\nQ 37.25 66.40625 30.609375 66.40625 \r\nQ 23.96875 66.40625 20.09375 61.84375 \r\nQ 16.21875 57.28125 16.21875 49.421875 \r\nQ 16.21875 41.5 20.09375 36.953125 \r\nQ 23.96875 32.421875 30.609375 32.421875 \r\nz\r\n\" id=\"DejaVuSans-57\"/>\r\n       </defs>\r\n       <use xlink:href=\"#DejaVuSans-50\"/>\r\n       <use x=\"63.623047\" xlink:href=\"#DejaVuSans-48\"/>\r\n       <use x=\"127.246094\" xlink:href=\"#DejaVuSans-49\"/>\r\n       <use x=\"190.869141\" xlink:href=\"#DejaVuSans-55\"/>\r\n       <use x=\"254.492188\" xlink:href=\"#DejaVuSans-45\"/>\r\n       <use x=\"290.576172\" xlink:href=\"#DejaVuSans-48\"/>\r\n       <use x=\"354.199219\" xlink:href=\"#DejaVuSans-57\"/>\r\n      </g>\r\n     </g>\r\n    </g>\r\n    <g id=\"xtick_3\">\r\n     <g id=\"line2d_3\">\r\n      <g>\r\n       <use style=\"stroke:#000000;stroke-width:0.8;\" x=\"132.770654\" xlink:href=\"#m19c4c6a5d1\" y=\"218.158125\"/>\r\n      </g>\r\n     </g>\r\n     <g id=\"text_3\">\r\n      <!-- 2018-01 -->\r\n      <g transform=\"translate(95.545833 252.629971)rotate(-30)scale(0.1 -0.1)\">\r\n       <defs>\r\n        <path d=\"M 31.78125 34.625 \r\nQ 24.75 34.625 20.71875 30.859375 \r\nQ 16.703125 27.09375 16.703125 20.515625 \r\nQ 16.703125 13.921875 20.71875 10.15625 \r\nQ 24.75 6.390625 31.78125 6.390625 \r\nQ 38.8125 6.390625 42.859375 10.171875 \r\nQ 46.921875 13.96875 46.921875 20.515625 \r\nQ 46.921875 27.09375 42.890625 30.859375 \r\nQ 38.875 34.625 31.78125 34.625 \r\nz\r\nM 21.921875 38.8125 \r\nQ 15.578125 40.375 12.03125 44.71875 \r\nQ 8.5 49.078125 8.5 55.328125 \r\nQ 8.5 64.0625 14.71875 69.140625 \r\nQ 20.953125 74.21875 31.78125 74.21875 \r\nQ 42.671875 74.21875 48.875 69.140625 \r\nQ 55.078125 64.0625 55.078125 55.328125 \r\nQ 55.078125 49.078125 51.53125 44.71875 \r\nQ 48 40.375 41.703125 38.8125 \r\nQ 48.828125 37.15625 52.796875 32.3125 \r\nQ 56.78125 27.484375 56.78125 20.515625 \r\nQ 56.78125 9.90625 50.3125 4.234375 \r\nQ 43.84375 -1.421875 31.78125 -1.421875 \r\nQ 19.734375 -1.421875 13.25 4.234375 \r\nQ 6.78125 9.90625 6.78125 20.515625 \r\nQ 6.78125 27.484375 10.78125 32.3125 \r\nQ 14.796875 37.15625 21.921875 38.8125 \r\nz\r\nM 18.3125 54.390625 \r\nQ 18.3125 48.734375 21.84375 45.5625 \r\nQ 25.390625 42.390625 31.78125 42.390625 \r\nQ 38.140625 42.390625 41.71875 45.5625 \r\nQ 45.3125 48.734375 45.3125 54.390625 \r\nQ 45.3125 60.0625 41.71875 63.234375 \r\nQ 38.140625 66.40625 31.78125 66.40625 \r\nQ 25.390625 66.40625 21.84375 63.234375 \r\nQ 18.3125 60.0625 18.3125 54.390625 \r\nz\r\n\" id=\"DejaVuSans-56\"/>\r\n       </defs>\r\n       <use xlink:href=\"#DejaVuSans-50\"/>\r\n       <use x=\"63.623047\" xlink:href=\"#DejaVuSans-48\"/>\r\n       <use x=\"127.246094\" xlink:href=\"#DejaVuSans-49\"/>\r\n       <use x=\"190.869141\" xlink:href=\"#DejaVuSans-56\"/>\r\n       <use x=\"254.492188\" xlink:href=\"#DejaVuSans-45\"/>\r\n       <use x=\"290.576172\" xlink:href=\"#DejaVuSans-48\"/>\r\n       <use x=\"354.199219\" xlink:href=\"#DejaVuSans-49\"/>\r\n      </g>\r\n     </g>\r\n    </g>\r\n    <g id=\"xtick_4\">\r\n     <g id=\"line2d_4\">\r\n      <g>\r\n       <use style=\"stroke:#000000;stroke-width:0.8;\" x=\"169.148778\" xlink:href=\"#m19c4c6a5d1\" y=\"218.158125\"/>\r\n      </g>\r\n     </g>\r\n     <g id=\"text_4\">\r\n      <!-- 2018-05 -->\r\n      <g transform=\"translate(131.923957 252.629971)rotate(-30)scale(0.1 -0.1)\">\r\n       <use xlink:href=\"#DejaVuSans-50\"/>\r\n       <use x=\"63.623047\" xlink:href=\"#DejaVuSans-48\"/>\r\n       <use x=\"127.246094\" xlink:href=\"#DejaVuSans-49\"/>\r\n       <use x=\"190.869141\" xlink:href=\"#DejaVuSans-56\"/>\r\n       <use x=\"254.492188\" xlink:href=\"#DejaVuSans-45\"/>\r\n       <use x=\"290.576172\" xlink:href=\"#DejaVuSans-48\"/>\r\n       <use x=\"354.199219\" xlink:href=\"#DejaVuSans-53\"/>\r\n      </g>\r\n     </g>\r\n    </g>\r\n    <g id=\"xtick_5\">\r\n     <g id=\"line2d_5\">\r\n      <g>\r\n       <use style=\"stroke:#000000;stroke-width:0.8;\" x=\"206.436355\" xlink:href=\"#m19c4c6a5d1\" y=\"218.158125\"/>\r\n      </g>\r\n     </g>\r\n     <g id=\"text_5\">\r\n      <!-- 2018-09 -->\r\n      <g transform=\"translate(169.211534 252.629971)rotate(-30)scale(0.1 -0.1)\">\r\n       <use xlink:href=\"#DejaVuSans-50\"/>\r\n       <use x=\"63.623047\" xlink:href=\"#DejaVuSans-48\"/>\r\n       <use x=\"127.246094\" xlink:href=\"#DejaVuSans-49\"/>\r\n       <use x=\"190.869141\" xlink:href=\"#DejaVuSans-56\"/>\r\n       <use x=\"254.492188\" xlink:href=\"#DejaVuSans-45\"/>\r\n       <use x=\"290.576172\" xlink:href=\"#DejaVuSans-48\"/>\r\n       <use x=\"354.199219\" xlink:href=\"#DejaVuSans-57\"/>\r\n      </g>\r\n     </g>\r\n    </g>\r\n    <g id=\"xtick_6\">\r\n     <g id=\"line2d_6\">\r\n      <g>\r\n       <use style=\"stroke:#000000;stroke-width:0.8;\" x=\"243.420781\" xlink:href=\"#m19c4c6a5d1\" y=\"218.158125\"/>\r\n      </g>\r\n     </g>\r\n     <g id=\"text_6\">\r\n      <!-- 2019-01 -->\r\n      <g transform=\"translate(206.19596 252.629971)rotate(-30)scale(0.1 -0.1)\">\r\n       <use xlink:href=\"#DejaVuSans-50\"/>\r\n       <use x=\"63.623047\" xlink:href=\"#DejaVuSans-48\"/>\r\n       <use x=\"127.246094\" xlink:href=\"#DejaVuSans-49\"/>\r\n       <use x=\"190.869141\" xlink:href=\"#DejaVuSans-57\"/>\r\n       <use x=\"254.492188\" xlink:href=\"#DejaVuSans-45\"/>\r\n       <use x=\"290.576172\" xlink:href=\"#DejaVuSans-48\"/>\r\n       <use x=\"354.199219\" xlink:href=\"#DejaVuSans-49\"/>\r\n      </g>\r\n     </g>\r\n    </g>\r\n    <g id=\"xtick_7\">\r\n     <g id=\"line2d_7\">\r\n      <g>\r\n       <use style=\"stroke:#000000;stroke-width:0.8;\" x=\"279.798904\" xlink:href=\"#m19c4c6a5d1\" y=\"218.158125\"/>\r\n      </g>\r\n     </g>\r\n     <g id=\"text_7\">\r\n      <!-- 2019-05 -->\r\n      <g transform=\"translate(242.574084 252.629971)rotate(-30)scale(0.1 -0.1)\">\r\n       <use xlink:href=\"#DejaVuSans-50\"/>\r\n       <use x=\"63.623047\" xlink:href=\"#DejaVuSans-48\"/>\r\n       <use x=\"127.246094\" xlink:href=\"#DejaVuSans-49\"/>\r\n       <use x=\"190.869141\" xlink:href=\"#DejaVuSans-57\"/>\r\n       <use x=\"254.492188\" xlink:href=\"#DejaVuSans-45\"/>\r\n       <use x=\"290.576172\" xlink:href=\"#DejaVuSans-48\"/>\r\n       <use x=\"354.199219\" xlink:href=\"#DejaVuSans-53\"/>\r\n      </g>\r\n     </g>\r\n    </g>\r\n    <g id=\"xtick_8\">\r\n     <g id=\"line2d_8\">\r\n      <g>\r\n       <use style=\"stroke:#000000;stroke-width:0.8;\" x=\"317.086481\" xlink:href=\"#m19c4c6a5d1\" y=\"218.158125\"/>\r\n      </g>\r\n     </g>\r\n     <g id=\"text_8\">\r\n      <!-- 2019-09 -->\r\n      <g transform=\"translate(279.861661 252.629971)rotate(-30)scale(0.1 -0.1)\">\r\n       <use xlink:href=\"#DejaVuSans-50\"/>\r\n       <use x=\"63.623047\" xlink:href=\"#DejaVuSans-48\"/>\r\n       <use x=\"127.246094\" xlink:href=\"#DejaVuSans-49\"/>\r\n       <use x=\"190.869141\" xlink:href=\"#DejaVuSans-57\"/>\r\n       <use x=\"254.492188\" xlink:href=\"#DejaVuSans-45\"/>\r\n       <use x=\"290.576172\" xlink:href=\"#DejaVuSans-48\"/>\r\n       <use x=\"354.199219\" xlink:href=\"#DejaVuSans-57\"/>\r\n      </g>\r\n     </g>\r\n    </g>\r\n    <g id=\"xtick_9\">\r\n     <g id=\"line2d_9\">\r\n      <g>\r\n       <use style=\"stroke:#000000;stroke-width:0.8;\" x=\"354.070907\" xlink:href=\"#m19c4c6a5d1\" y=\"218.158125\"/>\r\n      </g>\r\n     </g>\r\n     <g id=\"text_9\">\r\n      <!-- 2020-01 -->\r\n      <g transform=\"translate(316.846086 252.629971)rotate(-30)scale(0.1 -0.1)\">\r\n       <use xlink:href=\"#DejaVuSans-50\"/>\r\n       <use x=\"63.623047\" xlink:href=\"#DejaVuSans-48\"/>\r\n       <use x=\"127.246094\" xlink:href=\"#DejaVuSans-50\"/>\r\n       <use x=\"190.869141\" xlink:href=\"#DejaVuSans-48\"/>\r\n       <use x=\"254.492188\" xlink:href=\"#DejaVuSans-45\"/>\r\n       <use x=\"290.576172\" xlink:href=\"#DejaVuSans-48\"/>\r\n       <use x=\"354.199219\" xlink:href=\"#DejaVuSans-49\"/>\r\n      </g>\r\n     </g>\r\n    </g>\r\n    <g id=\"text_10\">\r\n     <!-- Date -->\r\n     <g transform=\"translate(207.824219 266.029471)scale(0.1 -0.1)\">\r\n      <defs>\r\n       <path d=\"M 19.671875 64.796875 \r\nL 19.671875 8.109375 \r\nL 31.59375 8.109375 \r\nQ 46.6875 8.109375 53.6875 14.9375 \r\nQ 60.6875 21.78125 60.6875 36.53125 \r\nQ 60.6875 51.171875 53.6875 57.984375 \r\nQ 46.6875 64.796875 31.59375 64.796875 \r\nz\r\nM 9.8125 72.90625 \r\nL 30.078125 72.90625 \r\nQ 51.265625 72.90625 61.171875 64.09375 \r\nQ 71.09375 55.28125 71.09375 36.53125 \r\nQ 71.09375 17.671875 61.125 8.828125 \r\nQ 51.171875 0 30.078125 0 \r\nL 9.8125 0 \r\nz\r\n\" id=\"DejaVuSans-68\"/>\r\n       <path d=\"M 34.28125 27.484375 \r\nQ 23.390625 27.484375 19.1875 25 \r\nQ 14.984375 22.515625 14.984375 16.5 \r\nQ 14.984375 11.71875 18.140625 8.90625 \r\nQ 21.296875 6.109375 26.703125 6.109375 \r\nQ 34.1875 6.109375 38.703125 11.40625 \r\nQ 43.21875 16.703125 43.21875 25.484375 \r\nL 43.21875 27.484375 \r\nz\r\nM 52.203125 31.203125 \r\nL 52.203125 0 \r\nL 43.21875 0 \r\nL 43.21875 8.296875 \r\nQ 40.140625 3.328125 35.546875 0.953125 \r\nQ 30.953125 -1.421875 24.3125 -1.421875 \r\nQ 15.921875 -1.421875 10.953125 3.296875 \r\nQ 6 8.015625 6 15.921875 \r\nQ 6 25.140625 12.171875 29.828125 \r\nQ 18.359375 34.515625 30.609375 34.515625 \r\nL 43.21875 34.515625 \r\nL 43.21875 35.40625 \r\nQ 43.21875 41.609375 39.140625 45 \r\nQ 35.0625 48.390625 27.6875 48.390625 \r\nQ 23 48.390625 18.546875 47.265625 \r\nQ 14.109375 46.140625 10.015625 43.890625 \r\nL 10.015625 52.203125 \r\nQ 14.9375 54.109375 19.578125 55.046875 \r\nQ 24.21875 56 28.609375 56 \r\nQ 40.484375 56 46.34375 49.84375 \r\nQ 52.203125 43.703125 52.203125 31.203125 \r\nz\r\n\" id=\"DejaVuSans-97\"/>\r\n       <path d=\"M 18.3125 70.21875 \r\nL 18.3125 54.6875 \r\nL 36.8125 54.6875 \r\nL 36.8125 47.703125 \r\nL 18.3125 47.703125 \r\nL 18.3125 18.015625 \r\nQ 18.3125 11.328125 20.140625 9.421875 \r\nQ 21.96875 7.515625 27.59375 7.515625 \r\nL 36.8125 7.515625 \r\nL 36.8125 0 \r\nL 27.59375 0 \r\nQ 17.1875 0 13.234375 3.875 \r\nQ 9.28125 7.765625 9.28125 18.015625 \r\nL 9.28125 47.703125 \r\nL 2.6875 47.703125 \r\nL 2.6875 54.6875 \r\nL 9.28125 54.6875 \r\nL 9.28125 70.21875 \r\nz\r\n\" id=\"DejaVuSans-116\"/>\r\n       <path d=\"M 56.203125 29.59375 \r\nL 56.203125 25.203125 \r\nL 14.890625 25.203125 \r\nQ 15.484375 15.921875 20.484375 11.0625 \r\nQ 25.484375 6.203125 34.421875 6.203125 \r\nQ 39.59375 6.203125 44.453125 7.46875 \r\nQ 49.3125 8.734375 54.109375 11.28125 \r\nL 54.109375 2.78125 \r\nQ 49.265625 0.734375 44.1875 -0.34375 \r\nQ 39.109375 -1.421875 33.890625 -1.421875 \r\nQ 20.796875 -1.421875 13.15625 6.1875 \r\nQ 5.515625 13.8125 5.515625 26.8125 \r\nQ 5.515625 40.234375 12.765625 48.109375 \r\nQ 20.015625 56 32.328125 56 \r\nQ 43.359375 56 49.78125 48.890625 \r\nQ 56.203125 41.796875 56.203125 29.59375 \r\nz\r\nM 47.21875 32.234375 \r\nQ 47.125 39.59375 43.09375 43.984375 \r\nQ 39.0625 48.390625 32.421875 48.390625 \r\nQ 24.90625 48.390625 20.390625 44.140625 \r\nQ 15.875 39.890625 15.1875 32.171875 \r\nz\r\n\" id=\"DejaVuSans-101\"/>\r\n      </defs>\r\n      <use xlink:href=\"#DejaVuSans-68\"/>\r\n      <use x=\"77.001953\" xlink:href=\"#DejaVuSans-97\"/>\r\n      <use x=\"138.28125\" xlink:href=\"#DejaVuSans-116\"/>\r\n      <use x=\"177.490234\" xlink:href=\"#DejaVuSans-101\"/>\r\n     </g>\r\n    </g>\r\n   </g>\r\n   <g id=\"matplotlib.axis_2\">\r\n    <g id=\"ytick_1\">\r\n     <g id=\"line2d_10\">\r\n      <defs>\r\n       <path d=\"M 0 0 \r\nL -3.5 0 \r\n\" id=\"mc230c728a1\" style=\"stroke:#000000;stroke-width:0.8;\"/>\r\n      </defs>\r\n      <g>\r\n       <use style=\"stroke:#000000;stroke-width:0.8;\" x=\"52.375\" xlink:href=\"#mc230c728a1\" y=\"208.504241\"/>\r\n      </g>\r\n     </g>\r\n     <g id=\"text_11\">\r\n      <!-- 50000 -->\r\n      <g transform=\"translate(13.5625 212.30346)scale(0.1 -0.1)\">\r\n       <use xlink:href=\"#DejaVuSans-53\"/>\r\n       <use x=\"63.623047\" xlink:href=\"#DejaVuSans-48\"/>\r\n       <use x=\"127.246094\" xlink:href=\"#DejaVuSans-48\"/>\r\n       <use x=\"190.869141\" xlink:href=\"#DejaVuSans-48\"/>\r\n       <use x=\"254.492188\" xlink:href=\"#DejaVuSans-48\"/>\r\n      </g>\r\n     </g>\r\n    </g>\r\n    <g id=\"ytick_2\">\r\n     <g id=\"line2d_11\">\r\n      <g>\r\n       <use style=\"stroke:#000000;stroke-width:0.8;\" x=\"52.375\" xlink:href=\"#mc230c728a1\" y=\"183.300977\"/>\r\n      </g>\r\n     </g>\r\n     <g id=\"text_12\">\r\n      <!-- 100000 -->\r\n      <g transform=\"translate(7.2 187.100196)scale(0.1 -0.1)\">\r\n       <use xlink:href=\"#DejaVuSans-49\"/>\r\n       <use x=\"63.623047\" xlink:href=\"#DejaVuSans-48\"/>\r\n       <use x=\"127.246094\" xlink:href=\"#DejaVuSans-48\"/>\r\n       <use x=\"190.869141\" xlink:href=\"#DejaVuSans-48\"/>\r\n       <use x=\"254.492188\" xlink:href=\"#DejaVuSans-48\"/>\r\n       <use x=\"318.115234\" xlink:href=\"#DejaVuSans-48\"/>\r\n      </g>\r\n     </g>\r\n    </g>\r\n    <g id=\"ytick_3\">\r\n     <g id=\"line2d_12\">\r\n      <g>\r\n       <use style=\"stroke:#000000;stroke-width:0.8;\" x=\"52.375\" xlink:href=\"#mc230c728a1\" y=\"158.097713\"/>\r\n      </g>\r\n     </g>\r\n     <g id=\"text_13\">\r\n      <!-- 150000 -->\r\n      <g transform=\"translate(7.2 161.896931)scale(0.1 -0.1)\">\r\n       <use xlink:href=\"#DejaVuSans-49\"/>\r\n       <use x=\"63.623047\" xlink:href=\"#DejaVuSans-53\"/>\r\n       <use x=\"127.246094\" xlink:href=\"#DejaVuSans-48\"/>\r\n       <use x=\"190.869141\" xlink:href=\"#DejaVuSans-48\"/>\r\n       <use x=\"254.492188\" xlink:href=\"#DejaVuSans-48\"/>\r\n       <use x=\"318.115234\" xlink:href=\"#DejaVuSans-48\"/>\r\n      </g>\r\n     </g>\r\n    </g>\r\n    <g id=\"ytick_4\">\r\n     <g id=\"line2d_13\">\r\n      <g>\r\n       <use style=\"stroke:#000000;stroke-width:0.8;\" x=\"52.375\" xlink:href=\"#mc230c728a1\" y=\"132.894448\"/>\r\n      </g>\r\n     </g>\r\n     <g id=\"text_14\">\r\n      <!-- 200000 -->\r\n      <g transform=\"translate(7.2 136.693667)scale(0.1 -0.1)\">\r\n       <use xlink:href=\"#DejaVuSans-50\"/>\r\n       <use x=\"63.623047\" xlink:href=\"#DejaVuSans-48\"/>\r\n       <use x=\"127.246094\" xlink:href=\"#DejaVuSans-48\"/>\r\n       <use x=\"190.869141\" xlink:href=\"#DejaVuSans-48\"/>\r\n       <use x=\"254.492188\" xlink:href=\"#DejaVuSans-48\"/>\r\n       <use x=\"318.115234\" xlink:href=\"#DejaVuSans-48\"/>\r\n      </g>\r\n     </g>\r\n    </g>\r\n    <g id=\"ytick_5\">\r\n     <g id=\"line2d_14\">\r\n      <g>\r\n       <use style=\"stroke:#000000;stroke-width:0.8;\" x=\"52.375\" xlink:href=\"#mc230c728a1\" y=\"107.691184\"/>\r\n      </g>\r\n     </g>\r\n     <g id=\"text_15\">\r\n      <!-- 250000 -->\r\n      <g transform=\"translate(7.2 111.490403)scale(0.1 -0.1)\">\r\n       <use xlink:href=\"#DejaVuSans-50\"/>\r\n       <use x=\"63.623047\" xlink:href=\"#DejaVuSans-53\"/>\r\n       <use x=\"127.246094\" xlink:href=\"#DejaVuSans-48\"/>\r\n       <use x=\"190.869141\" xlink:href=\"#DejaVuSans-48\"/>\r\n       <use x=\"254.492188\" xlink:href=\"#DejaVuSans-48\"/>\r\n       <use x=\"318.115234\" xlink:href=\"#DejaVuSans-48\"/>\r\n      </g>\r\n     </g>\r\n    </g>\r\n    <g id=\"ytick_6\">\r\n     <g id=\"line2d_15\">\r\n      <g>\r\n       <use style=\"stroke:#000000;stroke-width:0.8;\" x=\"52.375\" xlink:href=\"#mc230c728a1\" y=\"82.48792\"/>\r\n      </g>\r\n     </g>\r\n     <g id=\"text_16\">\r\n      <!-- 300000 -->\r\n      <g transform=\"translate(7.2 86.287138)scale(0.1 -0.1)\">\r\n       <defs>\r\n        <path d=\"M 40.578125 39.3125 \r\nQ 47.65625 37.796875 51.625 33 \r\nQ 55.609375 28.21875 55.609375 21.1875 \r\nQ 55.609375 10.40625 48.1875 4.484375 \r\nQ 40.765625 -1.421875 27.09375 -1.421875 \r\nQ 22.515625 -1.421875 17.65625 -0.515625 \r\nQ 12.796875 0.390625 7.625 2.203125 \r\nL 7.625 11.71875 \r\nQ 11.71875 9.328125 16.59375 8.109375 \r\nQ 21.484375 6.890625 26.8125 6.890625 \r\nQ 36.078125 6.890625 40.9375 10.546875 \r\nQ 45.796875 14.203125 45.796875 21.1875 \r\nQ 45.796875 27.640625 41.28125 31.265625 \r\nQ 36.765625 34.90625 28.71875 34.90625 \r\nL 20.21875 34.90625 \r\nL 20.21875 43.015625 \r\nL 29.109375 43.015625 \r\nQ 36.375 43.015625 40.234375 45.921875 \r\nQ 44.09375 48.828125 44.09375 54.296875 \r\nQ 44.09375 59.90625 40.109375 62.90625 \r\nQ 36.140625 65.921875 28.71875 65.921875 \r\nQ 24.65625 65.921875 20.015625 65.03125 \r\nQ 15.375 64.15625 9.8125 62.3125 \r\nL 9.8125 71.09375 \r\nQ 15.4375 72.65625 20.34375 73.4375 \r\nQ 25.25 74.21875 29.59375 74.21875 \r\nQ 40.828125 74.21875 47.359375 69.109375 \r\nQ 53.90625 64.015625 53.90625 55.328125 \r\nQ 53.90625 49.265625 50.4375 45.09375 \r\nQ 46.96875 40.921875 40.578125 39.3125 \r\nz\r\n\" id=\"DejaVuSans-51\"/>\r\n       </defs>\r\n       <use xlink:href=\"#DejaVuSans-51\"/>\r\n       <use x=\"63.623047\" xlink:href=\"#DejaVuSans-48\"/>\r\n       <use x=\"127.246094\" xlink:href=\"#DejaVuSans-48\"/>\r\n       <use x=\"190.869141\" xlink:href=\"#DejaVuSans-48\"/>\r\n       <use x=\"254.492188\" xlink:href=\"#DejaVuSans-48\"/>\r\n       <use x=\"318.115234\" xlink:href=\"#DejaVuSans-48\"/>\r\n      </g>\r\n     </g>\r\n    </g>\r\n    <g id=\"ytick_7\">\r\n     <g id=\"line2d_16\">\r\n      <g>\r\n       <use style=\"stroke:#000000;stroke-width:0.8;\" x=\"52.375\" xlink:href=\"#mc230c728a1\" y=\"57.284655\"/>\r\n      </g>\r\n     </g>\r\n     <g id=\"text_17\">\r\n      <!-- 350000 -->\r\n      <g transform=\"translate(7.2 61.083874)scale(0.1 -0.1)\">\r\n       <use xlink:href=\"#DejaVuSans-51\"/>\r\n       <use x=\"63.623047\" xlink:href=\"#DejaVuSans-53\"/>\r\n       <use x=\"127.246094\" xlink:href=\"#DejaVuSans-48\"/>\r\n       <use x=\"190.869141\" xlink:href=\"#DejaVuSans-48\"/>\r\n       <use x=\"254.492188\" xlink:href=\"#DejaVuSans-48\"/>\r\n       <use x=\"318.115234\" xlink:href=\"#DejaVuSans-48\"/>\r\n      </g>\r\n     </g>\r\n    </g>\r\n    <g id=\"ytick_8\">\r\n     <g id=\"line2d_17\">\r\n      <g>\r\n       <use style=\"stroke:#000000;stroke-width:0.8;\" x=\"52.375\" xlink:href=\"#mc230c728a1\" y=\"32.081391\"/>\r\n      </g>\r\n     </g>\r\n     <g id=\"text_18\">\r\n      <!-- 400000 -->\r\n      <g transform=\"translate(7.2 35.88061)scale(0.1 -0.1)\">\r\n       <defs>\r\n        <path d=\"M 37.796875 64.3125 \r\nL 12.890625 25.390625 \r\nL 37.796875 25.390625 \r\nz\r\nM 35.203125 72.90625 \r\nL 47.609375 72.90625 \r\nL 47.609375 25.390625 \r\nL 58.015625 25.390625 \r\nL 58.015625 17.1875 \r\nL 47.609375 17.1875 \r\nL 47.609375 0 \r\nL 37.796875 0 \r\nL 37.796875 17.1875 \r\nL 4.890625 17.1875 \r\nL 4.890625 26.703125 \r\nz\r\n\" id=\"DejaVuSans-52\"/>\r\n       </defs>\r\n       <use xlink:href=\"#DejaVuSans-52\"/>\r\n       <use x=\"63.623047\" xlink:href=\"#DejaVuSans-48\"/>\r\n       <use x=\"127.246094\" xlink:href=\"#DejaVuSans-48\"/>\r\n       <use x=\"190.869141\" xlink:href=\"#DejaVuSans-48\"/>\r\n       <use x=\"254.492188\" xlink:href=\"#DejaVuSans-48\"/>\r\n       <use x=\"318.115234\" xlink:href=\"#DejaVuSans-48\"/>\r\n      </g>\r\n     </g>\r\n    </g>\r\n   </g>\r\n   <g id=\"line2d_18\">\r\n    <path clip-path=\"url(#p1bc527d68b)\" d=\"M 67.593182 200.587896 \r\nL 67.593182 121.963793 \r\nL 67.593182 185.107043 \r\nL 76.687713 198.810562 \r\nL 76.687713 85.188701 \r\nL 76.687713 178.480601 \r\nL 86.085395 83.287367 \r\nL 86.085395 190.664867 \r\nL 95.483077 125.189306 \r\nL 95.483077 201.88536 \r\nL 95.483077 120.650198 \r\nL 95.483077 198.759651 \r\nL 104.577608 166.831148 \r\nL 104.577608 207.490566 \r\nL 104.577608 122.973435 \r\nL 104.577608 124.147403 \r\nL 113.97529 86.643938 \r\nL 113.97529 207.415964 \r\nL 113.97529 62.040511 \r\nL 113.97529 169.467913 \r\nL 123.069821 206.812094 \r\nL 123.069821 147.891903 \r\nL 123.069821 208.98512 \r\nL 123.069821 198.208708 \r\nL 132.467503 165.461602 \r\nL 132.467503 209.256307 \r\nL 132.467503 36.80045 \r\nL 132.467503 170.899963 \r\nL 141.865185 146.508748 \r\nL 141.865185 39.331866 \r\nL 141.865185 203.847182 \r\nL 150.353414 205.332159 \r\nL 150.353414 58.374948 \r\nL 159.751096 199.833814 \r\nL 159.751096 44.561543 \r\nL 159.751096 200.826319 \r\nL 168.845627 73.863867 \r\nL 168.845627 205.703655 \r\nL 168.845627 183.412375 \r\nL 178.243309 202.037588 \r\nL 178.243309 34.736807 \r\nL 178.243309 155.078362 \r\nL 187.33784 196.193959 \r\nL 187.33784 31.219943 \r\nL 187.33784 184.657417 \r\nL 196.735522 166.578611 \r\nL 196.735522 201.871246 \r\nL 196.735522 37.121036 \r\nL 196.735522 66.723278 \r\nL 206.133204 200.760286 \r\nL 206.133204 209.101055 \r\nL 206.133204 38.053556 \r\nL 206.133204 165.712627 \r\nL 215.227735 185.7961 \r\nL 215.227735 82.852359 \r\nL 215.227735 205.495476 \r\nL 224.625417 166.494936 \r\nL 224.625417 37.112466 \r\nL 224.625417 205.026191 \r\nL 224.625417 170.017345 \r\nL 233.719947 207.851981 \r\nL 233.719947 31.714935 \r\nL 233.719947 154.056117 \r\nL 243.117629 198.192578 \r\nL 243.117629 35.897669 \r\nL 243.117629 203.486776 \r\nL 243.117629 190.998558 \r\nL 252.515311 196.361309 \r\nL 252.515311 33.412123 \r\nL 252.515311 197.639618 \r\nL 252.515311 121.115955 \r\nL 261.00354 195.177259 \r\nL 261.00354 39.652451 \r\nL 261.00354 201.380791 \r\nL 261.00354 192.199242 \r\nL 270.401222 198.437049 \r\nL 270.401222 37.689621 \r\nL 270.401222 202.422694 \r\nL 270.401222 185.821303 \r\nL 279.495753 167.948661 \r\nL 279.495753 38.659947 \r\nL 279.495753 194.758381 \r\nL 279.495753 186.231109 \r\nL 288.893435 183.586278 \r\nL 288.893435 206.942647 \r\nL 288.893435 37.167914 \r\nL 288.893435 162.391341 \r\nL 297.987966 161.685145 \r\nL 297.987966 201.754807 \r\nL 297.987966 168.448189 \r\nL 307.385648 119.90267 \r\nL 307.385648 206.792436 \r\nL 307.385648 58.946054 \r\nL 307.385648 140.176679 \r\nL 316.78333 201.535539 \r\nL 316.78333 84.564164 \r\nL 316.78333 204.827085 \r\nL 316.78333 124.215452 \r\nL 325.877861 203.101166 \r\nL 325.877861 146.823284 \r\nL 325.877861 205.812029 \r\nL 325.877861 183.599888 \r\nL 335.275543 192.410949 \r\nL 335.275543 143.25551 \r\nL 335.275543 208.901445 \r\nL 335.275543 173.80842 \r\nL 344.370074 201.131783 \r\nL 344.370074 87.264442 \r\nL 353.767756 169.959377 \r\nL 353.767756 208.361591 \r\nL 353.767756 43.116388 \r\nL 353.767756 179.744292 \r\nL 363.165438 184.415465 \r\nL 363.165438 37.624093 \r\nL 363.165438 195.027048 \r\nL 371.956818 165.746399 \r\nL 371.956818 38.209817 \r\nL 371.956818 201.064742 \r\nL 371.956818 177.878747 \r\n\" style=\"fill:none;stroke:#1f77b4;stroke-linecap:square;stroke-width:1.5;\"/>\r\n   </g>\r\n   <g id=\"line2d_19\">\r\n    <path clip-path=\"url(#p1bc527d68b)\" d=\"M 67.593182 204.94216 \r\nL 67.593182 123.905507 \r\nL 67.593182 174.897102 \r\nL 76.687713 205.040348 \r\nL 76.687713 82.375135 \r\nL 76.687713 169.756278 \r\nL 86.085395 63.026794 \r\nL 86.085395 191.311138 \r\nL 86.085395 185.551727 \r\nL 95.483077 126.928686 \r\nL 95.483077 200.20485 \r\nL 95.483077 192.390743 \r\nL 104.577608 160.309354 \r\nL 104.577608 203.438163 \r\nL 104.577608 134.184312 \r\nL 113.97529 74.514867 \r\nL 113.97529 203.750908 \r\nL 113.97529 50.329436 \r\nL 113.97529 173.338052 \r\nL 123.069821 204.148952 \r\nL 123.069821 159.796153 \r\nL 123.069821 204.475911 \r\nL 123.069821 192.292553 \r\nL 132.467503 160.845814 \r\nL 132.467503 203.836205 \r\nL 132.467503 60.003615 \r\nL 132.467503 159.408637 \r\nL 141.865185 160.270935 \r\nL 141.865185 43.678452 \r\nL 141.865185 205.073077 \r\nL 150.353414 205.171261 \r\nL 150.353414 40.655274 \r\nL 159.751096 189.058127 \r\nL 159.751096 191.507061 \r\nL 159.751096 45.492363 \r\nL 159.751096 191.376146 \r\nL 168.845627 47.910915 \r\nL 168.845627 205.30218 \r\nL 168.845627 174.1756 \r\nL 178.243309 200.20485 \r\nL 178.243309 48.515542 \r\nL 178.243309 160.270935 \r\nL 187.33784 191.561477 \r\nL 187.33784 63.631436 \r\nL 187.33784 192.652573 \r\nL 187.33784 174.373327 \r\nL 196.735522 159.282951 \r\nL 196.735522 192.312479 \r\nL 196.735522 46.096989 \r\nL 206.133204 205.138534 \r\nL 206.133204 204.546992 \r\nL 206.133204 44.887705 \r\nL 206.133204 165.030839 \r\nL 215.227735 191.811808 \r\nL 215.227735 63.631436 \r\nL 215.227735 205.367636 \r\nL 224.625417 174.101597 \r\nL 224.625417 44.887705 \r\nL 224.625417 205.105806 \r\nL 224.625417 165.153957 \r\nL 233.719947 203.276062 \r\nL 233.719947 52.747989 \r\nL 233.719947 175.156105 \r\nL 243.117629 191.507061 \r\nL 243.117629 43.678452 \r\nL 243.117629 205.269452 \r\nL 243.117629 192.554383 \r\nL 252.515311 192.439834 \r\nL 252.515311 57.585062 \r\nL 252.515311 192.521658 \r\nL 252.515311 131.765767 \r\nL 261.00354 192.472563 \r\nL 261.00354 41.864526 \r\nL 261.00354 203.722475 \r\nL 261.00354 184.467254 \r\nL 270.401222 204.41905 \r\nL 270.401222 60.608257 \r\nL 270.401222 190.950668 \r\nL 279.495753 162.259536 \r\nL 279.495753 186.554778 \r\nL 279.495753 47.910915 \r\nL 279.495753 174.795352 \r\nL 288.893435 193.815444 \r\nL 288.893435 46.701631 \r\nL 288.893435 202.306261 \r\nL 288.893435 174.249599 \r\nL 297.987966 184.467254 \r\nL 297.987966 194.620027 \r\nL 297.987966 174.120101 \r\nL 297.987966 174.508602 \r\nL 307.385648 120.277686 \r\nL 307.385648 204.461697 \r\nL 307.385648 43.07381 \r\nL 307.385648 131.765767 \r\nL 316.78333 191.048858 \r\nL 316.78333 58.794346 \r\nL 316.78333 205.138534 \r\nL 316.78333 128.137954 \r\nL 325.877861 204.974888 \r\nL 325.877861 161.133249 \r\nL 325.877861 205.073077 \r\nL 325.877861 174.971101 \r\nL 335.275543 187.800378 \r\nL 335.275543 128.742581 \r\nL 335.275543 205.138534 \r\nL 335.275543 179.03206 \r\nL 344.370074 191.899807 \r\nL 344.370074 204.234243 \r\nL 344.370074 65.44533 \r\nL 353.767756 174.642667 \r\nL 353.767756 204.974888 \r\nL 353.767756 39.445989 \r\nL 353.767756 173.780361 \r\nL 363.165438 187.556115 \r\nL 363.165438 48.817855 \r\nL 363.165438 204.148952 \r\nL 371.956818 180.584975 \r\nL 371.956818 53.352615 \r\nL 371.956818 191.99799 \r\nL 371.956818 164.869885 \r\n\" style=\"fill:none;stroke:#ff7f0e;stroke-linecap:square;stroke-width:1.5;\"/>\r\n   </g>\r\n   <g id=\"patch_3\">\r\n    <path d=\"M 52.375 218.158125 \r\nL 52.375 22.318125 \r\n\" style=\"fill:none;stroke:#000000;stroke-linecap:square;stroke-linejoin:miter;stroke-width:0.8;\"/>\r\n   </g>\r\n   <g id=\"patch_4\">\r\n    <path d=\"M 387.175 218.158125 \r\nL 387.175 22.318125 \r\n\" style=\"fill:none;stroke:#000000;stroke-linecap:square;stroke-linejoin:miter;stroke-width:0.8;\"/>\r\n   </g>\r\n   <g id=\"patch_5\">\r\n    <path d=\"M 52.375 218.158125 \r\nL 387.175 218.158125 \r\n\" style=\"fill:none;stroke:#000000;stroke-linecap:square;stroke-linejoin:miter;stroke-width:0.8;\"/>\r\n   </g>\r\n   <g id=\"patch_6\">\r\n    <path d=\"M 52.375 22.318125 \r\nL 387.175 22.318125 \r\n\" style=\"fill:none;stroke:#000000;stroke-linecap:square;stroke-linejoin:miter;stroke-width:0.8;\"/>\r\n   </g>\r\n   <g id=\"text_19\">\r\n    <!-- Actual Vs. Predicted Housing Prices in Houston -->\r\n    <g transform=\"translate(79.675938 16.318125)scale(0.12 -0.12)\">\r\n     <defs>\r\n      <path d=\"M 34.1875 63.1875 \r\nL 20.796875 26.90625 \r\nL 47.609375 26.90625 \r\nz\r\nM 28.609375 72.90625 \r\nL 39.796875 72.90625 \r\nL 67.578125 0 \r\nL 57.328125 0 \r\nL 50.6875 18.703125 \r\nL 17.828125 18.703125 \r\nL 11.1875 0 \r\nL 0.78125 0 \r\nz\r\n\" id=\"DejaVuSans-65\"/>\r\n      <path d=\"M 48.78125 52.59375 \r\nL 48.78125 44.1875 \r\nQ 44.96875 46.296875 41.140625 47.34375 \r\nQ 37.3125 48.390625 33.40625 48.390625 \r\nQ 24.65625 48.390625 19.8125 42.84375 \r\nQ 14.984375 37.3125 14.984375 27.296875 \r\nQ 14.984375 17.28125 19.8125 11.734375 \r\nQ 24.65625 6.203125 33.40625 6.203125 \r\nQ 37.3125 6.203125 41.140625 7.25 \r\nQ 44.96875 8.296875 48.78125 10.40625 \r\nL 48.78125 2.09375 \r\nQ 45.015625 0.34375 40.984375 -0.53125 \r\nQ 36.96875 -1.421875 32.421875 -1.421875 \r\nQ 20.0625 -1.421875 12.78125 6.34375 \r\nQ 5.515625 14.109375 5.515625 27.296875 \r\nQ 5.515625 40.671875 12.859375 48.328125 \r\nQ 20.21875 56 33.015625 56 \r\nQ 37.15625 56 41.109375 55.140625 \r\nQ 45.0625 54.296875 48.78125 52.59375 \r\nz\r\n\" id=\"DejaVuSans-99\"/>\r\n      <path d=\"M 8.5 21.578125 \r\nL 8.5 54.6875 \r\nL 17.484375 54.6875 \r\nL 17.484375 21.921875 \r\nQ 17.484375 14.15625 20.5 10.265625 \r\nQ 23.53125 6.390625 29.59375 6.390625 \r\nQ 36.859375 6.390625 41.078125 11.03125 \r\nQ 45.3125 15.671875 45.3125 23.6875 \r\nL 45.3125 54.6875 \r\nL 54.296875 54.6875 \r\nL 54.296875 0 \r\nL 45.3125 0 \r\nL 45.3125 8.40625 \r\nQ 42.046875 3.421875 37.71875 1 \r\nQ 33.40625 -1.421875 27.6875 -1.421875 \r\nQ 18.265625 -1.421875 13.375 4.4375 \r\nQ 8.5 10.296875 8.5 21.578125 \r\nz\r\nM 31.109375 56 \r\nz\r\n\" id=\"DejaVuSans-117\"/>\r\n      <path d=\"M 9.421875 75.984375 \r\nL 18.40625 75.984375 \r\nL 18.40625 0 \r\nL 9.421875 0 \r\nz\r\n\" id=\"DejaVuSans-108\"/>\r\n      <path id=\"DejaVuSans-32\"/>\r\n      <path d=\"M 28.609375 0 \r\nL 0.78125 72.90625 \r\nL 11.078125 72.90625 \r\nL 34.1875 11.53125 \r\nL 57.328125 72.90625 \r\nL 67.578125 72.90625 \r\nL 39.796875 0 \r\nz\r\n\" id=\"DejaVuSans-86\"/>\r\n      <path d=\"M 44.28125 53.078125 \r\nL 44.28125 44.578125 \r\nQ 40.484375 46.53125 36.375 47.5 \r\nQ 32.28125 48.484375 27.875 48.484375 \r\nQ 21.1875 48.484375 17.84375 46.4375 \r\nQ 14.5 44.390625 14.5 40.28125 \r\nQ 14.5 37.15625 16.890625 35.375 \r\nQ 19.28125 33.59375 26.515625 31.984375 \r\nL 29.59375 31.296875 \r\nQ 39.15625 29.25 43.1875 25.515625 \r\nQ 47.21875 21.78125 47.21875 15.09375 \r\nQ 47.21875 7.46875 41.1875 3.015625 \r\nQ 35.15625 -1.421875 24.609375 -1.421875 \r\nQ 20.21875 -1.421875 15.453125 -0.5625 \r\nQ 10.6875 0.296875 5.421875 2 \r\nL 5.421875 11.28125 \r\nQ 10.40625 8.6875 15.234375 7.390625 \r\nQ 20.0625 6.109375 24.8125 6.109375 \r\nQ 31.15625 6.109375 34.5625 8.28125 \r\nQ 37.984375 10.453125 37.984375 14.40625 \r\nQ 37.984375 18.0625 35.515625 20.015625 \r\nQ 33.0625 21.96875 24.703125 23.78125 \r\nL 21.578125 24.515625 \r\nQ 13.234375 26.265625 9.515625 29.90625 \r\nQ 5.8125 33.546875 5.8125 39.890625 \r\nQ 5.8125 47.609375 11.28125 51.796875 \r\nQ 16.75 56 26.8125 56 \r\nQ 31.78125 56 36.171875 55.265625 \r\nQ 40.578125 54.546875 44.28125 53.078125 \r\nz\r\n\" id=\"DejaVuSans-115\"/>\r\n      <path d=\"M 10.6875 12.40625 \r\nL 21 12.40625 \r\nL 21 0 \r\nL 10.6875 0 \r\nz\r\n\" id=\"DejaVuSans-46\"/>\r\n      <path d=\"M 19.671875 64.796875 \r\nL 19.671875 37.40625 \r\nL 32.078125 37.40625 \r\nQ 38.96875 37.40625 42.71875 40.96875 \r\nQ 46.484375 44.53125 46.484375 51.125 \r\nQ 46.484375 57.671875 42.71875 61.234375 \r\nQ 38.96875 64.796875 32.078125 64.796875 \r\nz\r\nM 9.8125 72.90625 \r\nL 32.078125 72.90625 \r\nQ 44.34375 72.90625 50.609375 67.359375 \r\nQ 56.890625 61.8125 56.890625 51.125 \r\nQ 56.890625 40.328125 50.609375 34.8125 \r\nQ 44.34375 29.296875 32.078125 29.296875 \r\nL 19.671875 29.296875 \r\nL 19.671875 0 \r\nL 9.8125 0 \r\nz\r\n\" id=\"DejaVuSans-80\"/>\r\n      <path d=\"M 41.109375 46.296875 \r\nQ 39.59375 47.171875 37.8125 47.578125 \r\nQ 36.03125 48 33.890625 48 \r\nQ 26.265625 48 22.1875 43.046875 \r\nQ 18.109375 38.09375 18.109375 28.8125 \r\nL 18.109375 0 \r\nL 9.078125 0 \r\nL 9.078125 54.6875 \r\nL 18.109375 54.6875 \r\nL 18.109375 46.1875 \r\nQ 20.953125 51.171875 25.484375 53.578125 \r\nQ 30.03125 56 36.53125 56 \r\nQ 37.453125 56 38.578125 55.875 \r\nQ 39.703125 55.765625 41.0625 55.515625 \r\nz\r\n\" id=\"DejaVuSans-114\"/>\r\n      <path d=\"M 45.40625 46.390625 \r\nL 45.40625 75.984375 \r\nL 54.390625 75.984375 \r\nL 54.390625 0 \r\nL 45.40625 0 \r\nL 45.40625 8.203125 \r\nQ 42.578125 3.328125 38.25 0.953125 \r\nQ 33.9375 -1.421875 27.875 -1.421875 \r\nQ 17.96875 -1.421875 11.734375 6.484375 \r\nQ 5.515625 14.40625 5.515625 27.296875 \r\nQ 5.515625 40.1875 11.734375 48.09375 \r\nQ 17.96875 56 27.875 56 \r\nQ 33.9375 56 38.25 53.625 \r\nQ 42.578125 51.265625 45.40625 46.390625 \r\nz\r\nM 14.796875 27.296875 \r\nQ 14.796875 17.390625 18.875 11.75 \r\nQ 22.953125 6.109375 30.078125 6.109375 \r\nQ 37.203125 6.109375 41.296875 11.75 \r\nQ 45.40625 17.390625 45.40625 27.296875 \r\nQ 45.40625 37.203125 41.296875 42.84375 \r\nQ 37.203125 48.484375 30.078125 48.484375 \r\nQ 22.953125 48.484375 18.875 42.84375 \r\nQ 14.796875 37.203125 14.796875 27.296875 \r\nz\r\n\" id=\"DejaVuSans-100\"/>\r\n      <path d=\"M 9.421875 54.6875 \r\nL 18.40625 54.6875 \r\nL 18.40625 0 \r\nL 9.421875 0 \r\nz\r\nM 9.421875 75.984375 \r\nL 18.40625 75.984375 \r\nL 18.40625 64.59375 \r\nL 9.421875 64.59375 \r\nz\r\n\" id=\"DejaVuSans-105\"/>\r\n      <path d=\"M 9.8125 72.90625 \r\nL 19.671875 72.90625 \r\nL 19.671875 43.015625 \r\nL 55.515625 43.015625 \r\nL 55.515625 72.90625 \r\nL 65.375 72.90625 \r\nL 65.375 0 \r\nL 55.515625 0 \r\nL 55.515625 34.71875 \r\nL 19.671875 34.71875 \r\nL 19.671875 0 \r\nL 9.8125 0 \r\nz\r\n\" id=\"DejaVuSans-72\"/>\r\n      <path d=\"M 30.609375 48.390625 \r\nQ 23.390625 48.390625 19.1875 42.75 \r\nQ 14.984375 37.109375 14.984375 27.296875 \r\nQ 14.984375 17.484375 19.15625 11.84375 \r\nQ 23.34375 6.203125 30.609375 6.203125 \r\nQ 37.796875 6.203125 41.984375 11.859375 \r\nQ 46.1875 17.53125 46.1875 27.296875 \r\nQ 46.1875 37.015625 41.984375 42.703125 \r\nQ 37.796875 48.390625 30.609375 48.390625 \r\nz\r\nM 30.609375 56 \r\nQ 42.328125 56 49.015625 48.375 \r\nQ 55.71875 40.765625 55.71875 27.296875 \r\nQ 55.71875 13.875 49.015625 6.21875 \r\nQ 42.328125 -1.421875 30.609375 -1.421875 \r\nQ 18.84375 -1.421875 12.171875 6.21875 \r\nQ 5.515625 13.875 5.515625 27.296875 \r\nQ 5.515625 40.765625 12.171875 48.375 \r\nQ 18.84375 56 30.609375 56 \r\nz\r\n\" id=\"DejaVuSans-111\"/>\r\n      <path d=\"M 54.890625 33.015625 \r\nL 54.890625 0 \r\nL 45.90625 0 \r\nL 45.90625 32.71875 \r\nQ 45.90625 40.484375 42.875 44.328125 \r\nQ 39.84375 48.1875 33.796875 48.1875 \r\nQ 26.515625 48.1875 22.3125 43.546875 \r\nQ 18.109375 38.921875 18.109375 30.90625 \r\nL 18.109375 0 \r\nL 9.078125 0 \r\nL 9.078125 54.6875 \r\nL 18.109375 54.6875 \r\nL 18.109375 46.1875 \r\nQ 21.34375 51.125 25.703125 53.5625 \r\nQ 30.078125 56 35.796875 56 \r\nQ 45.21875 56 50.046875 50.171875 \r\nQ 54.890625 44.34375 54.890625 33.015625 \r\nz\r\n\" id=\"DejaVuSans-110\"/>\r\n      <path d=\"M 45.40625 27.984375 \r\nQ 45.40625 37.75 41.375 43.109375 \r\nQ 37.359375 48.484375 30.078125 48.484375 \r\nQ 22.859375 48.484375 18.828125 43.109375 \r\nQ 14.796875 37.75 14.796875 27.984375 \r\nQ 14.796875 18.265625 18.828125 12.890625 \r\nQ 22.859375 7.515625 30.078125 7.515625 \r\nQ 37.359375 7.515625 41.375 12.890625 \r\nQ 45.40625 18.265625 45.40625 27.984375 \r\nz\r\nM 54.390625 6.78125 \r\nQ 54.390625 -7.171875 48.1875 -13.984375 \r\nQ 42 -20.796875 29.203125 -20.796875 \r\nQ 24.46875 -20.796875 20.265625 -20.09375 \r\nQ 16.0625 -19.390625 12.109375 -17.921875 \r\nL 12.109375 -9.1875 \r\nQ 16.0625 -11.328125 19.921875 -12.34375 \r\nQ 23.78125 -13.375 27.78125 -13.375 \r\nQ 36.625 -13.375 41.015625 -8.765625 \r\nQ 45.40625 -4.15625 45.40625 5.171875 \r\nL 45.40625 9.625 \r\nQ 42.625 4.78125 38.28125 2.390625 \r\nQ 33.9375 0 27.875 0 \r\nQ 17.828125 0 11.671875 7.65625 \r\nQ 5.515625 15.328125 5.515625 27.984375 \r\nQ 5.515625 40.671875 11.671875 48.328125 \r\nQ 17.828125 56 27.875 56 \r\nQ 33.9375 56 38.28125 53.609375 \r\nQ 42.625 51.21875 45.40625 46.390625 \r\nL 45.40625 54.6875 \r\nL 54.390625 54.6875 \r\nz\r\n\" id=\"DejaVuSans-103\"/>\r\n     </defs>\r\n     <use xlink:href=\"#DejaVuSans-65\"/>\r\n     <use x=\"66.658203\" xlink:href=\"#DejaVuSans-99\"/>\r\n     <use x=\"121.638672\" xlink:href=\"#DejaVuSans-116\"/>\r\n     <use x=\"160.847656\" xlink:href=\"#DejaVuSans-117\"/>\r\n     <use x=\"224.226562\" xlink:href=\"#DejaVuSans-97\"/>\r\n     <use x=\"285.505859\" xlink:href=\"#DejaVuSans-108\"/>\r\n     <use x=\"313.289062\" xlink:href=\"#DejaVuSans-32\"/>\r\n     <use x=\"345.076172\" xlink:href=\"#DejaVuSans-86\"/>\r\n     <use x=\"413.484375\" xlink:href=\"#DejaVuSans-115\"/>\r\n     <use x=\"465.583984\" xlink:href=\"#DejaVuSans-46\"/>\r\n     <use x=\"497.371094\" xlink:href=\"#DejaVuSans-32\"/>\r\n     <use x=\"529.158203\" xlink:href=\"#DejaVuSans-80\"/>\r\n     <use x=\"587.710938\" xlink:href=\"#DejaVuSans-114\"/>\r\n     <use x=\"626.574219\" xlink:href=\"#DejaVuSans-101\"/>\r\n     <use x=\"688.097656\" xlink:href=\"#DejaVuSans-100\"/>\r\n     <use x=\"751.574219\" xlink:href=\"#DejaVuSans-105\"/>\r\n     <use x=\"779.357422\" xlink:href=\"#DejaVuSans-99\"/>\r\n     <use x=\"834.337891\" xlink:href=\"#DejaVuSans-116\"/>\r\n     <use x=\"873.546875\" xlink:href=\"#DejaVuSans-101\"/>\r\n     <use x=\"935.070312\" xlink:href=\"#DejaVuSans-100\"/>\r\n     <use x=\"998.546875\" xlink:href=\"#DejaVuSans-32\"/>\r\n     <use x=\"1030.333984\" xlink:href=\"#DejaVuSans-72\"/>\r\n     <use x=\"1105.529297\" xlink:href=\"#DejaVuSans-111\"/>\r\n     <use x=\"1166.710938\" xlink:href=\"#DejaVuSans-117\"/>\r\n     <use x=\"1230.089844\" xlink:href=\"#DejaVuSans-115\"/>\r\n     <use x=\"1282.189453\" xlink:href=\"#DejaVuSans-105\"/>\r\n     <use x=\"1309.972656\" xlink:href=\"#DejaVuSans-110\"/>\r\n     <use x=\"1373.351562\" xlink:href=\"#DejaVuSans-103\"/>\r\n     <use x=\"1436.828125\" xlink:href=\"#DejaVuSans-32\"/>\r\n     <use x=\"1468.615234\" xlink:href=\"#DejaVuSans-80\"/>\r\n     <use x=\"1527.167969\" xlink:href=\"#DejaVuSans-114\"/>\r\n     <use x=\"1568.28125\" xlink:href=\"#DejaVuSans-105\"/>\r\n     <use x=\"1596.064453\" xlink:href=\"#DejaVuSans-99\"/>\r\n     <use x=\"1651.044922\" xlink:href=\"#DejaVuSans-101\"/>\r\n     <use x=\"1712.568359\" xlink:href=\"#DejaVuSans-115\"/>\r\n     <use x=\"1764.667969\" xlink:href=\"#DejaVuSans-32\"/>\r\n     <use x=\"1796.455078\" xlink:href=\"#DejaVuSans-105\"/>\r\n     <use x=\"1824.238281\" xlink:href=\"#DejaVuSans-110\"/>\r\n     <use x=\"1887.617188\" xlink:href=\"#DejaVuSans-32\"/>\r\n     <use x=\"1919.404297\" xlink:href=\"#DejaVuSans-72\"/>\r\n     <use x=\"1994.599609\" xlink:href=\"#DejaVuSans-111\"/>\r\n     <use x=\"2055.78125\" xlink:href=\"#DejaVuSans-117\"/>\r\n     <use x=\"2119.160156\" xlink:href=\"#DejaVuSans-115\"/>\r\n     <use x=\"2171.259766\" xlink:href=\"#DejaVuSans-116\"/>\r\n     <use x=\"2210.46875\" xlink:href=\"#DejaVuSans-111\"/>\r\n     <use x=\"2271.650391\" xlink:href=\"#DejaVuSans-110\"/>\r\n    </g>\r\n   </g>\r\n   <g id=\"legend_1\">\r\n    <g id=\"patch_7\">\r\n     <path d=\"M 59.375 59.674375 \r\nL 138.315625 59.674375 \r\nQ 140.315625 59.674375 140.315625 57.674375 \r\nL 140.315625 29.318125 \r\nQ 140.315625 27.318125 138.315625 27.318125 \r\nL 59.375 27.318125 \r\nQ 57.375 27.318125 57.375 29.318125 \r\nL 57.375 57.674375 \r\nQ 57.375 59.674375 59.375 59.674375 \r\nz\r\n\" style=\"fill:#ffffff;opacity:0.8;stroke:#cccccc;stroke-linejoin:miter;\"/>\r\n    </g>\r\n    <g id=\"line2d_20\">\r\n     <path d=\"M 61.375 35.416562 \r\nL 81.375 35.416562 \r\n\" style=\"fill:none;stroke:#1f77b4;stroke-linecap:square;stroke-width:1.5;\"/>\r\n    </g>\r\n    <g id=\"line2d_21\"/>\r\n    <g id=\"text_20\">\r\n     <!-- Actual -->\r\n     <g transform=\"translate(89.375 38.916562)scale(0.1 -0.1)\">\r\n      <use xlink:href=\"#DejaVuSans-65\"/>\r\n      <use x=\"66.658203\" xlink:href=\"#DejaVuSans-99\"/>\r\n      <use x=\"121.638672\" xlink:href=\"#DejaVuSans-116\"/>\r\n      <use x=\"160.847656\" xlink:href=\"#DejaVuSans-117\"/>\r\n      <use x=\"224.226562\" xlink:href=\"#DejaVuSans-97\"/>\r\n      <use x=\"285.505859\" xlink:href=\"#DejaVuSans-108\"/>\r\n     </g>\r\n    </g>\r\n    <g id=\"line2d_22\">\r\n     <path d=\"M 61.375 50.094687 \r\nL 81.375 50.094687 \r\n\" style=\"fill:none;stroke:#ff7f0e;stroke-linecap:square;stroke-width:1.5;\"/>\r\n    </g>\r\n    <g id=\"line2d_23\"/>\r\n    <g id=\"text_21\">\r\n     <!-- Predicted -->\r\n     <g transform=\"translate(89.375 53.594687)scale(0.1 -0.1)\">\r\n      <use xlink:href=\"#DejaVuSans-80\"/>\r\n      <use x=\"58.552734\" xlink:href=\"#DejaVuSans-114\"/>\r\n      <use x=\"97.416016\" xlink:href=\"#DejaVuSans-101\"/>\r\n      <use x=\"158.939453\" xlink:href=\"#DejaVuSans-100\"/>\r\n      <use x=\"222.416016\" xlink:href=\"#DejaVuSans-105\"/>\r\n      <use x=\"250.199219\" xlink:href=\"#DejaVuSans-99\"/>\r\n      <use x=\"305.179688\" xlink:href=\"#DejaVuSans-116\"/>\r\n      <use x=\"344.388672\" xlink:href=\"#DejaVuSans-101\"/>\r\n      <use x=\"405.912109\" xlink:href=\"#DejaVuSans-100\"/>\r\n     </g>\r\n    </g>\r\n   </g>\r\n  </g>\r\n </g>\r\n <defs>\r\n  <clipPath id=\"p1bc527d68b\">\r\n   <rect height=\"195.84\" width=\"334.8\" x=\"52.375\" y=\"22.318125\"/>\r\n  </clipPath>\r\n </defs>\r\n</svg>\r\n",
      "image/png": "[encoded data removed]"
     },
     "metadata": {
      "needs_background": "light"
     }
    }
   ],
   "source": [
    "# Plot the real vs predicted prices as a line chart\n",
    "housing_model.plot(title=\"Actual Vs. Predicted Housing Prices in Houston\")"
   ]
  },
  {
   "cell_type": "code",
   "execution_count": null,
   "metadata": {},
   "outputs": [],
   "source": []
  }
 ]
}