{
 "metadata": {
  "language_info": {
   "codemirror_mode": {
    "name": "ipython",
    "version": 3
   },
   "file_extension": ".py",
   "mimetype": "text/x-python",
   "name": "python",
   "nbconvert_exporter": "python",
   "pygments_lexer": "ipython3",
   "version": "3.8.3-final"
  },
  "orig_nbformat": 2,
  "kernelspec": {
   "name": "python3",
   "display_name": "Python 3.8.3 64-bit (conda)",
   "metadata": {
    "interpreter": {
     "hash": "3b2d1872a97fb64bbb0bf089e5dc4a4b17c31375caf39a3144f71c656be998ab"
    }
   }
  }
 },
 "nbformat": 4,
 "nbformat_minor": 2,
 "cells": [
  {
   "cell_type": "code",
   "execution_count": 1,
   "metadata": {},
   "outputs": [],
   "source": [
    "# Initial imports\n",
    "import pandas as pd\n",
    "import numpy as np\n",
    "import matplotlib.pyplot as plt\n",
    "import tensorflow as tf\n",
    "from pathlib import Path\n",
    "\n",
    "%matplotlib inline"
   ]
  },
  {
   "cell_type": "code",
   "execution_count": 3,
   "metadata": {},
   "outputs": [
    {
     "output_type": "execute_result",
     "data": {
      "text/plain": [
       "             Sales          Dollar  Average   Median    Total  Months\n",
       "Date                                                                 \n",
       "2010-01-01  10,797   1,903,489,506  176,298  135,888  127,713     6.9\n",
       "2010-02-01  13,781   2,473,331,194  179,474  139,997  131,375     7.1\n",
       "2010-03-01  20,465   3,765,171,165  183,981  142,833  138,366     7.4\n",
       "2010-04-01  22,893   4,213,410,864  184,048  145,475  139,065     7.3\n",
       "2010-05-01  23,812   4,477,632,292  188,041  146,844  146,389     7.5\n",
       "...            ...             ...      ...      ...      ...     ...\n",
       "2020-07-01  43,877  14,380,910,360  327,755  268,000   80,619     2.7\n",
       "2020-08-01  38,384  12,513,737,543  326,014  265,000   74,540     2.4\n",
       "2020-09-01  37,114  12,081,786,925  325,532  265,000   70,617     2.3\n",
       "2020-10-01  36,610  12,102,699,530  330,585  268,000   68,174     2.1\n",
       "2020-11-01  31,788  10,587,934,474  333,080  269,320   62,819     1.9\n",
       "\n",
       "[131 rows x 6 columns]"
      ],
      "text/html": "<div>\n<style scoped>\n    .dataframe tbody tr th:only-of-type {\n        vertical-align: middle;\n    }\n\n    .dataframe tbody tr th {\n        vertical-align: top;\n    }\n\n    .dataframe thead th {\n        text-align: right;\n    }\n</style>\n<table border=\"1\" class=\"dataframe\">\n  <thead>\n    <tr style=\"text-align: right;\">\n      <th></th>\n      <th>Sales</th>\n      <th>Dollar</th>\n      <th>Average</th>\n      <th>Median</th>\n      <th>Total</th>\n      <th>Months</th>\n    </tr>\n    <tr>\n      <th>Date</th>\n      <th></th>\n      <th></th>\n      <th></th>\n      <th></th>\n      <th></th>\n      <th></th>\n    </tr>\n  </thead>\n  <tbody>\n    <tr>\n      <th>2010-01-01</th>\n      <td>10,797</td>\n      <td>1,903,489,506</td>\n      <td>176,298</td>\n      <td>135,888</td>\n      <td>127,713</td>\n      <td>6.9</td>\n    </tr>\n    <tr>\n      <th>2010-02-01</th>\n      <td>13,781</td>\n      <td>2,473,331,194</td>\n      <td>179,474</td>\n      <td>139,997</td>\n      <td>131,375</td>\n      <td>7.1</td>\n    </tr>\n    <tr>\n      <th>2010-03-01</th>\n      <td>20,465</td>\n      <td>3,765,171,165</td>\n      <td>183,981</td>\n      <td>142,833</td>\n      <td>138,366</td>\n      <td>7.4</td>\n    </tr>\n    <tr>\n      <th>2010-04-01</th>\n      <td>22,893</td>\n      <td>4,213,410,864</td>\n      <td>184,048</td>\n      <td>145,475</td>\n      <td>139,065</td>\n      <td>7.3</td>\n    </tr>\n    <tr>\n      <th>2010-05-01</th>\n      <td>23,812</td>\n      <td>4,477,632,292</td>\n      <td>188,041</td>\n      <td>146,844</td>\n      <td>146,389</td>\n      <td>7.5</td>\n    </tr>\n    <tr>\n      <th>...</th>\n      <td>...</td>\n      <td>...</td>\n      <td>...</td>\n      <td>...</td>\n      <td>...</td>\n      <td>...</td>\n    </tr>\n    <tr>\n      <th>2020-07-01</th>\n      <td>43,877</td>\n      <td>14,380,910,360</td>\n      <td>327,755</td>\n      <td>268,000</td>\n      <td>80,619</td>\n      <td>2.7</td>\n    </tr>\n    <tr>\n      <th>2020-08-01</th>\n      <td>38,384</td>\n      <td>12,513,737,543</td>\n      <td>326,014</td>\n      <td>265,000</td>\n      <td>74,540</td>\n      <td>2.4</td>\n    </tr>\n    <tr>\n      <th>2020-09-01</th>\n      <td>37,114</td>\n      <td>12,081,786,925</td>\n      <td>325,532</td>\n      <td>265,000</td>\n      <td>70,617</td>\n      <td>2.3</td>\n    </tr>\n    <tr>\n      <th>2020-10-01</th>\n      <td>36,610</td>\n      <td>12,102,699,530</td>\n      <td>330,585</td>\n      <td>268,000</td>\n      <td>68,174</td>\n      <td>2.1</td>\n    </tr>\n    <tr>\n      <th>2020-11-01</th>\n      <td>31,788</td>\n      <td>10,587,934,474</td>\n      <td>333,080</td>\n      <td>269,320</td>\n      <td>62,819</td>\n      <td>1.9</td>\n    </tr>\n  </tbody>\n</table>\n<p>131 rows × 6 columns</p>\n</div>"
     },
     "metadata": {},
     "execution_count": 3
    }
   ],
   "source": [
    "# Load Data \n",
    "sales_df = pd.read_csv(Path(\"../../data/raw_data/house_sales_by_month.csv\"), index_col=\"Date\", parse_dates=True, infer_datetime_format=True)\n",
    "sales_df"
   ]
  },
  {
   "cell_type": "code",
   "execution_count": null,
   "metadata": {},
   "outputs": [],
   "source": []
  }
 ]
}