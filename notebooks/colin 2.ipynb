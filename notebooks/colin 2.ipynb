{
 "cells": [
  {
   "cell_type": "code",
   "execution_count": 21,
   "metadata": {},
   "outputs": [],
   "source": [
    "#Initial imports\n",
    "import pandas as pd\n",
    "import numpy as np\n",
    "import matplotlib.pyplot as plt\n",
    "import tensorflow as tf\n",
    "from pathlib import Path\n",
    "\n",
    "%matplotlib inline"
   ]
  },
  {
   "cell_type": "markdown",
   "metadata": {},
   "source": [
    "## Data Preprocessing\n",
    "\n",
    "RNN input requires an array data type. The `full_review_text` column will be transformed into the `X` array and the “sentiment” column into the `y` array."
   ]
  },
  {
   "cell_type": "code",
   "execution_count": 30,
   "metadata": {},
   "outputs": [
    {
     "output_type": "execute_result",
     "data": {
      "text/plain": [
       "            Date  Identifier  Bedroom     Price  Average_Market_Days  \\\n",
       "1215  2020-02-29         223        1   79380.0                100.0   \n",
       "1216  2020-02-29         223        2  121517.0                100.0   \n",
       "1217  2020-02-29         223        3  159204.0                100.0   \n",
       "1218  2020-02-29        1811        2  157660.0                108.0   \n",
       "1219  2020-02-29        2134        2  125585.0                156.0   \n",
       "\n",
       "      RegionName_Crosby  RegionName_Houston  RegionName_Pasadena  \\\n",
       "1215                  0                   0                    1   \n",
       "1216                  0                   0                    1   \n",
       "1217                  0                   0                    1   \n",
       "1218                  0                   0                    0   \n",
       "1219                  1                   0                    0   \n",
       "\n",
       "      RegionName_Porter  State_TX  Metro_Houston-The Woodlands-Sugar Land  \\\n",
       "1215                  0         1                                       1   \n",
       "1216                  0         1                                       1   \n",
       "1217                  0         1                                       1   \n",
       "1218                  1         1                                       1   \n",
       "1219                  0         1                                       1   \n",
       "\n",
       "      CountyName_Harris County  CountyName_Montgomery County  \n",
       "1215                         1                             0  \n",
       "1216                         1                             0  \n",
       "1217                         1                             0  \n",
       "1218                         0                             1  \n",
       "1219                         1                             0  "
      ],
      "text/html": "<div>\n<style scoped>\n    .dataframe tbody tr th:only-of-type {\n        vertical-align: middle;\n    }\n\n    .dataframe tbody tr th {\n        vertical-align: top;\n    }\n\n    .dataframe thead th {\n        text-align: right;\n    }\n</style>\n<table border=\"1\" class=\"dataframe\">\n  <thead>\n    <tr style=\"text-align: right;\">\n      <th></th>\n      <th>Date</th>\n      <th>Identifier</th>\n      <th>Bedroom</th>\n      <th>Price</th>\n      <th>Average_Market_Days</th>\n      <th>RegionName_Crosby</th>\n      <th>RegionName_Houston</th>\n      <th>RegionName_Pasadena</th>\n      <th>RegionName_Porter</th>\n      <th>State_TX</th>\n      <th>Metro_Houston-The Woodlands-Sugar Land</th>\n      <th>CountyName_Harris County</th>\n      <th>CountyName_Montgomery County</th>\n    </tr>\n  </thead>\n  <tbody>\n    <tr>\n      <th>1215</th>\n      <td>2020-02-29</td>\n      <td>223</td>\n      <td>1</td>\n      <td>79380.0</td>\n      <td>100.0</td>\n      <td>0</td>\n      <td>0</td>\n      <td>1</td>\n      <td>0</td>\n      <td>1</td>\n      <td>1</td>\n      <td>1</td>\n      <td>0</td>\n    </tr>\n    <tr>\n      <th>1216</th>\n      <td>2020-02-29</td>\n      <td>223</td>\n      <td>2</td>\n      <td>121517.0</td>\n      <td>100.0</td>\n      <td>0</td>\n      <td>0</td>\n      <td>1</td>\n      <td>0</td>\n      <td>1</td>\n      <td>1</td>\n      <td>1</td>\n      <td>0</td>\n    </tr>\n    <tr>\n      <th>1217</th>\n      <td>2020-02-29</td>\n      <td>223</td>\n      <td>3</td>\n      <td>159204.0</td>\n      <td>100.0</td>\n      <td>0</td>\n      <td>0</td>\n      <td>1</td>\n      <td>0</td>\n      <td>1</td>\n      <td>1</td>\n      <td>1</td>\n      <td>0</td>\n    </tr>\n    <tr>\n      <th>1218</th>\n      <td>2020-02-29</td>\n      <td>1811</td>\n      <td>2</td>\n      <td>157660.0</td>\n      <td>108.0</td>\n      <td>0</td>\n      <td>0</td>\n      <td>0</td>\n      <td>1</td>\n      <td>1</td>\n      <td>1</td>\n      <td>0</td>\n      <td>1</td>\n    </tr>\n    <tr>\n      <th>1219</th>\n      <td>2020-02-29</td>\n      <td>2134</td>\n      <td>2</td>\n      <td>125585.0</td>\n      <td>156.0</td>\n      <td>1</td>\n      <td>0</td>\n      <td>0</td>\n      <td>0</td>\n      <td>1</td>\n      <td>1</td>\n      <td>1</td>\n      <td>0</td>\n    </tr>\n  </tbody>\n</table>\n</div>"
     },
     "metadata": {},
     "execution_count": 30
    }
   ],
   "source": [
    "#Import Data\n",
    "df = pd.read_csv('../data/housing_data_encoded.csv')\n",
    "#test = pd.read_csv(\"/data/Housing/test.csv\")\n",
    "df.tail()"
   ]
  },
  {
   "cell_type": "code",
   "execution_count": 31,
   "metadata": {},
   "outputs": [
    {
     "output_type": "stream",
     "name": "stdout",
     "text": [
      "<class 'pandas.core.frame.DataFrame'>\nRangeIndex: 1220 entries, 0 to 1219\nData columns (total 13 columns):\nDate                                      1220 non-null object\nIdentifier                                1220 non-null int64\nBedroom                                   1220 non-null int64\nPrice                                     1151 non-null float64\nAverage_Market_Days                       1030 non-null float64\nRegionName_Crosby                         1220 non-null int64\nRegionName_Houston                        1220 non-null int64\nRegionName_Pasadena                       1220 non-null int64\nRegionName_Porter                         1220 non-null int64\nState_TX                                  1220 non-null int64\nMetro_Houston-The Woodlands-Sugar Land    1220 non-null int64\nCountyName_Harris County                  1220 non-null int64\nCountyName_Montgomery County              1220 non-null int64\ndtypes: float64(2), int64(10), object(1)\nmemory usage: 124.0+ KB\n"
     ]
    }
   ],
   "source": [
    "df.info()"
   ]
  },
  {
   "cell_type": "code",
   "execution_count": 24,
   "metadata": {},
   "outputs": [],
   "source": [
    "# drop N/A\n",
    "#housing_df=df.dropna()"
   ]
  },
  {
   "cell_type": "code",
   "execution_count": 25,
   "metadata": {},
   "outputs": [],
   "source": [
    "# Creating the X and y sets\n",
    "#X = housing_df.drop(columns=[\"Price\"]).values\n",
    "#y = housing_df[\"Price\"].values"
   ]
  },
  {
   "cell_type": "code",
   "execution_count": 35,
   "metadata": {},
   "outputs": [
    {
     "output_type": "execute_result",
     "data": {
      "text/plain": [
       "           Date  Identifier  Bedroom     Price  Average_Market_Days  \\\n",
       "203  2011-09-30           2        4  159500.0                114.0   \n",
       "204  2011-09-30           2        5  292501.0                114.0   \n",
       "205  2011-09-30         223        1   49495.0                 98.5   \n",
       "206  2011-09-30         223        2   63834.0                 98.5   \n",
       "207  2011-09-30         223        3   96411.0                 98.5   \n",
       "\n",
       "     RegionName_Crosby  RegionName_Houston  RegionName_Pasadena  \\\n",
       "203                  0                   1                    0   \n",
       "204                  0                   1                    0   \n",
       "205                  0                   0                    1   \n",
       "206                  0                   0                    1   \n",
       "207                  0                   0                    1   \n",
       "\n",
       "     RegionName_Porter  State_TX  Metro_Houston-The Woodlands-Sugar Land  \\\n",
       "203                  0         1                                       1   \n",
       "204                  0         1                                       1   \n",
       "205                  0         1                                       1   \n",
       "206                  0         1                                       1   \n",
       "207                  0         1                                       1   \n",
       "\n",
       "     CountyName_Harris County  CountyName_Montgomery County  \n",
       "203                         1                             0  \n",
       "204                         1                             0  \n",
       "205                         1                             0  \n",
       "206                         1                             0  \n",
       "207                         1                             0  "
      ],
      "text/html": "<div>\n<style scoped>\n    .dataframe tbody tr th:only-of-type {\n        vertical-align: middle;\n    }\n\n    .dataframe tbody tr th {\n        vertical-align: top;\n    }\n\n    .dataframe thead th {\n        text-align: right;\n    }\n</style>\n<table border=\"1\" class=\"dataframe\">\n  <thead>\n    <tr style=\"text-align: right;\">\n      <th></th>\n      <th>Date</th>\n      <th>Identifier</th>\n      <th>Bedroom</th>\n      <th>Price</th>\n      <th>Average_Market_Days</th>\n      <th>RegionName_Crosby</th>\n      <th>RegionName_Houston</th>\n      <th>RegionName_Pasadena</th>\n      <th>RegionName_Porter</th>\n      <th>State_TX</th>\n      <th>Metro_Houston-The Woodlands-Sugar Land</th>\n      <th>CountyName_Harris County</th>\n      <th>CountyName_Montgomery County</th>\n    </tr>\n  </thead>\n  <tbody>\n    <tr>\n      <th>203</th>\n      <td>2011-09-30</td>\n      <td>2</td>\n      <td>4</td>\n      <td>159500.0</td>\n      <td>114.0</td>\n      <td>0</td>\n      <td>1</td>\n      <td>0</td>\n      <td>0</td>\n      <td>1</td>\n      <td>1</td>\n      <td>1</td>\n      <td>0</td>\n    </tr>\n    <tr>\n      <th>204</th>\n      <td>2011-09-30</td>\n      <td>2</td>\n      <td>5</td>\n      <td>292501.0</td>\n      <td>114.0</td>\n      <td>0</td>\n      <td>1</td>\n      <td>0</td>\n      <td>0</td>\n      <td>1</td>\n      <td>1</td>\n      <td>1</td>\n      <td>0</td>\n    </tr>\n    <tr>\n      <th>205</th>\n      <td>2011-09-30</td>\n      <td>223</td>\n      <td>1</td>\n      <td>49495.0</td>\n      <td>98.5</td>\n      <td>0</td>\n      <td>0</td>\n      <td>1</td>\n      <td>0</td>\n      <td>1</td>\n      <td>1</td>\n      <td>1</td>\n      <td>0</td>\n    </tr>\n    <tr>\n      <th>206</th>\n      <td>2011-09-30</td>\n      <td>223</td>\n      <td>2</td>\n      <td>63834.0</td>\n      <td>98.5</td>\n      <td>0</td>\n      <td>0</td>\n      <td>1</td>\n      <td>0</td>\n      <td>1</td>\n      <td>1</td>\n      <td>1</td>\n      <td>0</td>\n    </tr>\n    <tr>\n      <th>207</th>\n      <td>2011-09-30</td>\n      <td>223</td>\n      <td>3</td>\n      <td>96411.0</td>\n      <td>98.5</td>\n      <td>0</td>\n      <td>0</td>\n      <td>1</td>\n      <td>0</td>\n      <td>1</td>\n      <td>1</td>\n      <td>1</td>\n      <td>0</td>\n    </tr>\n  </tbody>\n</table>\n</div>"
     },
     "metadata": {},
     "execution_count": 35
    }
   ],
   "source": [
    "#slice data into Training and Testing\n",
    "train = df.loc['2010':'2019']\n",
    "\n",
    "test = df.loc['2020':]\n",
    "test.head()"
   ]
  },
  {
   "cell_type": "code",
   "execution_count": 27,
   "metadata": {},
   "outputs": [],
   "source": [
    "#importing function\n",
    "from sklearn.preprocessing import LabelEncoder\n",
    "le = LabelEncoder()\n",
    "def factorize(data, var, fill_na = None):\n",
    "      if fill_na is not None:\n",
    "            data[var].fillna(fill_na, inplace=True)\n",
    "      le.fit(data[var])\n",
    "      data[var] = le.transform(data[var])\n",
    "      return data"
   ]
  },
  {
   "cell_type": "code",
   "execution_count": null,
   "metadata": {},
   "outputs": [],
   "source": []
  },
  {
   "cell_type": "code",
   "execution_count": 4,
   "metadata": {},
   "outputs": [],
   "source": []
  },
  {
   "cell_type": "markdown",
   "metadata": {},
   "source": [
    "Now that the data is encoded, the training and testing sets will be created."
   ]
  },
  {
   "cell_type": "code",
   "execution_count": 28,
   "metadata": {},
   "outputs": [
    {
     "output_type": "error",
     "ename": "NameError",
     "evalue": "name 'X_pad' is not defined",
     "traceback": [
      "\u001b[1;31m---------------------------------------------------------------------------\u001b[0m",
      "\u001b[1;31mNameError\u001b[0m                                 Traceback (most recent call last)",
      "\u001b[1;32m<ipython-input-28-f5753515a027>\u001b[0m in \u001b[0;36m<module>\u001b[1;34m\u001b[0m\n\u001b[0;32m      2\u001b[0m \u001b[1;32mfrom\u001b[0m \u001b[0msklearn\u001b[0m\u001b[1;33m.\u001b[0m\u001b[0mmodel_selection\u001b[0m \u001b[1;32mimport\u001b[0m \u001b[0mtrain_test_split\u001b[0m\u001b[1;33m\u001b[0m\u001b[1;33m\u001b[0m\u001b[0m\n\u001b[0;32m      3\u001b[0m \u001b[1;33m\u001b[0m\u001b[0m\n\u001b[1;32m----> 4\u001b[1;33m \u001b[0mX_train\u001b[0m\u001b[1;33m,\u001b[0m \u001b[0mX_test\u001b[0m\u001b[1;33m,\u001b[0m \u001b[0my_train\u001b[0m\u001b[1;33m,\u001b[0m \u001b[0my_test\u001b[0m \u001b[1;33m=\u001b[0m \u001b[0mtrain_test_split\u001b[0m\u001b[1;33m(\u001b[0m\u001b[0mX_pad\u001b[0m\u001b[1;33m,\u001b[0m \u001b[0my\u001b[0m\u001b[1;33m,\u001b[0m \u001b[0mrandom_state\u001b[0m\u001b[1;33m=\u001b[0m\u001b[1;36m78\u001b[0m\u001b[1;33m)\u001b[0m\u001b[1;33m\u001b[0m\u001b[1;33m\u001b[0m\u001b[0m\n\u001b[0m",
      "\u001b[1;31mNameError\u001b[0m: name 'X_pad' is not defined"
     ]
    }
   ],
   "source": [
    "# Creating training, validation, and testing sets\n",
    "from sklearn.model_selection import train_test_split\n",
    "\n",
    "X_train, X_test, y_train, y_test = train_test_split(X_pad, y, random_state=78)"
   ]
  },
  {
   "cell_type": "code",
   "execution_count": null,
   "metadata": {},
   "outputs": [],
   "source": [
    "# Import Keras modules for data encoding\n",
    "from tensorflow.keras.preprocessing.text import Tokenizer\n",
    "from tensorflow.keras.preprocessing.sequence import pad_sequences"
   ]
  },
  {
   "cell_type": "code",
   "execution_count": 10,
   "metadata": {},
   "outputs": [],
   "source": [
    "# Import Keras modules for model creation\n",
    "from tensorflow.keras.models import Sequential\n",
    "from tensorflow.keras.layers import Embedding, LSTM, Dense"
   ]
  },
  {
   "cell_type": "markdown",
   "metadata": {},
   "source": [
    " ### Making Predictions"
   ]
  }
 ],
 "metadata": {
  "file_extension": ".py",
  "kernelspec": {
   "name": "python3",
   "display_name": "Python 3.7.7 64-bit ('pyvizenv': conda)",
   "metadata": {
    "interpreter": {
     "hash": "c3c06777d2d3a090de4d2535f4f1b119177f34ac2cf7c8075bb72b3b1efd8194"
    }
   }
  },
  "language_info": {
   "codemirror_mode": {
    "name": "ipython",
    "version": 3
   },
   "file_extension": ".py",
   "mimetype": "text/x-python",
   "name": "python",
   "nbconvert_exporter": "python",
   "pygments_lexer": "ipython3",
   "version": "3.7.7-final"
  },
  "mimetype": "text/x-python",
  "name": "python",
  "npconvert_exporter": "python",
  "pygments_lexer": "ipython3",
  "version": 3
 },
 "nbformat": 4,
 "nbformat_minor": 4
}