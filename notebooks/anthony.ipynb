{
 "metadata": {
  "language_info": {
   "codemirror_mode": {
    "name": "ipython",
    "version": 3
   },
   "file_extension": ".py",
   "mimetype": "text/x-python",
   "name": "python",
   "nbconvert_exporter": "python",
   "pygments_lexer": "ipython3",
   "version": "3.8.3-final"
  },
  "orig_nbformat": 2,
  "kernelspec": {
   "name": "python3",
   "display_name": "Python 3.8.3 64-bit (conda)",
   "metadata": {
    "interpreter": {
     "hash": "b3ba2566441a7c06988d0923437866b63cedc61552a5af99d1f4fb67d367b25f"
    }
   }
  }
 },
 "nbformat": 4,
 "nbformat_minor": 2,
 "cells": [
  {
   "cell_type": "code",
   "execution_count": 141,
   "metadata": {},
   "outputs": [],
   "source": [
    "import pandas as pd\n",
    "import requests\n",
    "import os"
   ]
  },
  {
   "cell_type": "code",
   "execution_count": 142,
   "metadata": {},
   "outputs": [],
   "source": [
    "# Import Postman Neighborhood Info\n",
    "TX_nbhoods = pd.read_json('../Data/Raw/Mashvisor_Postman_Houston_Neighborhoods.json')"
   ]
  },
  {
   "cell_type": "code",
   "execution_count": 143,
   "metadata": {},
   "outputs": [],
   "source": [
    "TX_nbhoods.drop(index='count',inplace=True)"
   ]
  },
  {
   "cell_type": "code",
   "execution_count": 144,
   "metadata": {},
   "outputs": [],
   "source": [
    "TX_nbhoods_df = pd.DataFrame(TX_nbhoods[\"content\"][0])"
   ]
  },
  {
   "cell_type": "code",
   "execution_count": 145,
   "metadata": {},
   "outputs": [
    {
     "output_type": "execute_result",
     "data": {
      "text/plain": [
       "0"
      ]
     },
     "metadata": {},
     "execution_count": 145
    }
   ],
   "source": [
    "TX_nbhoods_df[\"is_village\"].max()"
   ]
  },
  {
   "cell_type": "code",
   "execution_count": 146,
   "metadata": {},
   "outputs": [],
   "source": [
    "TX_nbhoods_df = TX_nbhoods_df.drop(columns=[\"is_village\",\"state\"])"
   ]
  },
  {
   "cell_type": "code",
   "execution_count": 147,
   "metadata": {},
   "outputs": [
    {
     "output_type": "execute_result",
     "data": {
      "text/plain": [
       "Harris    88\n",
       "Name: county, dtype: int64"
      ]
     },
     "metadata": {},
     "execution_count": 147
    }
   ],
   "source": [
    "TX_nbhoods_df[\"county\"].value_counts()"
   ]
  },
  {
   "cell_type": "code",
   "execution_count": 148,
   "metadata": {},
   "outputs": [],
   "source": [
    "TX_nbhoods_df = TX_nbhoods_df.drop(columns=\"county\")"
   ]
  },
  {
   "cell_type": "code",
   "execution_count": 149,
   "metadata": {},
   "outputs": [
    {
     "output_type": "execute_result",
     "data": {
      "text/plain": [
       "Houston    88\n",
       "Name: city, dtype: int64"
      ]
     },
     "metadata": {},
     "execution_count": 149
    }
   ],
   "source": [
    "TX_nbhoods_df[\"city\"].value_counts()"
   ]
  },
  {
   "cell_type": "code",
   "execution_count": 150,
   "metadata": {},
   "outputs": [],
   "source": [
    "TX_nbhoods_df = TX_nbhoods_df.drop(columns=\"city\")"
   ]
  },
  {
   "cell_type": "code",
   "execution_count": 151,
   "metadata": {},
   "outputs": [],
   "source": [
    "#Citation: https://stackoverflow.com/questions/53731432/return-pandas-multiindex-as-list-of-tuples\n",
    "\n",
    "arrays = [TX_nbhoods_df[\"id\"],\n",
    "          TX_nbhoods_df[\"name\"]]\n",
    "tuples = list(zip(*arrays))\n",
    "index = pd.MultiIndex.from_tuples(tuples, names=['id', 'name'])\n",
    "\n",
    "TX_nbhoods_df = TX_nbhoods_df.set_index(index)"
   ]
  },
  {
   "cell_type": "code",
   "execution_count": 152,
   "metadata": {},
   "outputs": [],
   "source": [
    "TX_nbhoods_df = TX_nbhoods_df.drop(columns=[\"id\",\"name\"])"
   ]
  },
  {
   "cell_type": "code",
   "execution_count": 153,
   "metadata": {},
   "outputs": [
    {
     "output_type": "execute_result",
     "data": {
      "text/plain": [
       "                                      latitude  longitude\n",
       "id     name                                              \n",
       "28380  Alief                         29.683698 -95.591341\n",
       "47651  Sharpstown                    29.701712 -95.524601\n",
       "232166 Clear Lake                    29.578560 -95.131537\n",
       "232872 East Houston                  29.841271 -95.255972\n",
       "235286 Magnolia Park                 29.738354 -95.295604\n",
       "...                                        ...        ...\n",
       "403555 South Acres - Crestmont Park  29.617575 -95.377184\n",
       "403556 Briarforest Area              29.751593 -95.572811\n",
       "403557 Montrose                      29.746891 -95.396128\n",
       "403558 South Belt - Ellington        29.607413 -95.204136\n",
       "403559 Afton Oaks - River Oaks Area  29.745605 -95.434359\n",
       "\n",
       "[88 rows x 2 columns]"
      ],
      "text/html": "<div>\n<style scoped>\n    .dataframe tbody tr th:only-of-type {\n        vertical-align: middle;\n    }\n\n    .dataframe tbody tr th {\n        vertical-align: top;\n    }\n\n    .dataframe thead th {\n        text-align: right;\n    }\n</style>\n<table border=\"1\" class=\"dataframe\">\n  <thead>\n    <tr style=\"text-align: right;\">\n      <th></th>\n      <th></th>\n      <th>latitude</th>\n      <th>longitude</th>\n    </tr>\n    <tr>\n      <th>id</th>\n      <th>name</th>\n      <th></th>\n      <th></th>\n    </tr>\n  </thead>\n  <tbody>\n    <tr>\n      <th>28380</th>\n      <th>Alief</th>\n      <td>29.683698</td>\n      <td>-95.591341</td>\n    </tr>\n    <tr>\n      <th>47651</th>\n      <th>Sharpstown</th>\n      <td>29.701712</td>\n      <td>-95.524601</td>\n    </tr>\n    <tr>\n      <th>232166</th>\n      <th>Clear Lake</th>\n      <td>29.578560</td>\n      <td>-95.131537</td>\n    </tr>\n    <tr>\n      <th>232872</th>\n      <th>East Houston</th>\n      <td>29.841271</td>\n      <td>-95.255972</td>\n    </tr>\n    <tr>\n      <th>235286</th>\n      <th>Magnolia Park</th>\n      <td>29.738354</td>\n      <td>-95.295604</td>\n    </tr>\n    <tr>\n      <th>...</th>\n      <th>...</th>\n      <td>...</td>\n      <td>...</td>\n    </tr>\n    <tr>\n      <th>403555</th>\n      <th>South Acres - Crestmont Park</th>\n      <td>29.617575</td>\n      <td>-95.377184</td>\n    </tr>\n    <tr>\n      <th>403556</th>\n      <th>Briarforest Area</th>\n      <td>29.751593</td>\n      <td>-95.572811</td>\n    </tr>\n    <tr>\n      <th>403557</th>\n      <th>Montrose</th>\n      <td>29.746891</td>\n      <td>-95.396128</td>\n    </tr>\n    <tr>\n      <th>403558</th>\n      <th>South Belt - Ellington</th>\n      <td>29.607413</td>\n      <td>-95.204136</td>\n    </tr>\n    <tr>\n      <th>403559</th>\n      <th>Afton Oaks - River Oaks Area</th>\n      <td>29.745605</td>\n      <td>-95.434359</td>\n    </tr>\n  </tbody>\n</table>\n<p>88 rows × 2 columns</p>\n</div>"
     },
     "metadata": {},
     "execution_count": 153
    }
   ],
   "source": [
    "TX_nbhoods_df"
   ]
  },
  {
   "cell_type": "code",
   "execution_count": 195,
   "metadata": {},
   "outputs": [],
   "source": [
    "nbhood_ids = [entry[0] for entry in TX_nbhoods_df.index]"
   ]
  },
  {
   "cell_type": "code",
   "execution_count": 192,
   "metadata": {},
   "outputs": [],
   "source": [
    "def get_nbhood_overview(nbhood_id):\n",
    "    url = f\"https://api.mashvisor.com/v1.1/client/neighborhood/{nbhood_id}/bar?state=TX&city=Houston\"\n",
    "    url = url + f\"?format=json\"\n",
    "    response_data = requests.get(url)\n",
    "    response_content = response_data.content\n",
    "    return response_content"
   ]
  },
  {
   "cell_type": "code",
   "execution_count": 193,
   "metadata": {},
   "outputs": [],
   "source": [
    "nbhood_overview_list = []\n",
    "for nbhood_id in nbhood_ids:\n",
    "    nbhood_overview_list.append(get_nbhood_overview(nbhood_id))"
   ]
  },
  {
   "cell_type": "code",
   "execution_count": 194,
   "metadata": {},
   "outputs": [
    {
     "output_type": "error",
     "ename": "TypeError",
     "evalue": "byte indices must be integers or slices, not str",
     "traceback": [
      "\u001b[1;31m---------------------------------------------------------------------------\u001b[0m",
      "\u001b[1;31mTypeError\u001b[0m                                 Traceback (most recent call last)",
      "\u001b[1;32m<ipython-input-194-e8749feb985c>\u001b[0m in \u001b[0;36m<module>\u001b[1;34m\u001b[0m\n\u001b[0;32m      1\u001b[0m \u001b[1;32mfor\u001b[0m \u001b[0mnbhood_overview\u001b[0m \u001b[1;32min\u001b[0m \u001b[0mnbhood_overview_list\u001b[0m\u001b[1;33m:\u001b[0m\u001b[1;33m\u001b[0m\u001b[1;33m\u001b[0m\u001b[0m\n\u001b[1;32m----> 2\u001b[1;33m     \u001b[1;32mif\u001b[0m \u001b[0mnbhood_overview\u001b[0m\u001b[1;33m[\u001b[0m\u001b[1;34m\"status\"\u001b[0m\u001b[1;33m]\u001b[0m \u001b[1;33m==\u001b[0m \u001b[1;34m\"error\"\u001b[0m\u001b[1;33m:\u001b[0m\u001b[1;33m\u001b[0m\u001b[1;33m\u001b[0m\u001b[0m\n\u001b[0m\u001b[0;32m      3\u001b[0m         \u001b[0mnbhood_overview_list\u001b[0m\u001b[1;33m.\u001b[0m\u001b[0mremove\u001b[0m\u001b[1;33m(\u001b[0m\u001b[0mnbhood_overview\u001b[0m\u001b[1;33m)\u001b[0m\u001b[1;33m\u001b[0m\u001b[1;33m\u001b[0m\u001b[0m\n",
      "\u001b[1;31mTypeError\u001b[0m: byte indices must be integers or slices, not str"
     ]
    }
   ],
   "source": [
    "for nbhood_overview in nbhood_overview_list:\n",
    "    if nbhood_overview[\"status\"] == \"error\":\n",
    "        nbhood_overview_list.remove(nbhood_overview)"
   ]
  },
  {
   "cell_type": "code",
   "execution_count": null,
   "metadata": {},
   "outputs": [],
   "source": []
  }
 ]
}