{
 "cells": [
  {
   "cell_type": "code",
   "execution_count": 36,
   "metadata": {},
   "outputs": [],
   "source": [
    "#Initial imports\n",
    "import pandas as pd\n",
    "import numpy as np\n",
    "import matplotlib.pyplot as plt\n",
    "import tensorflow as tf\n",
    "from pathlib import Path\n",
    "\n",
    "%matplotlib inline"
   ]
  },
  {
   "cell_type": "code",
   "execution_count": 38,
   "metadata": {},
   "outputs": [],
   "source": [
    "#Import Data\n",
    "#mortgage = pd.read_csv('../data/raw_data/30yr_fixed_mortgage_rate.csv')\n",
    "sales = pd.read_csv(Path(\"../data/raw_data/house_sales_by_month.csv\"),\n",
    "index_col=\"Date\", parse_dates=True, infer_datetime_format=True)  \n",
    "fixed_rate = pd.read_csv(Path(\"../data/raw_data/30yr_fixed_mortgage_rate.csv\"), encoding='latin1',   index_col=\"Date\", parse_dates=True, infer_datetime_format=True)\n"
   ]
  },
  {
   "cell_type": "code",
   "execution_count": 39,
   "metadata": {},
   "outputs": [],
   "source": [
    "sales= sales.drop(columns=([\"Dollar\",\"Average\", \"Median\", \"Total\", \"Months\"]))"
   ]
  },
  {
   "cell_type": "code",
   "execution_count": 82,
   "metadata": {},
   "outputs": [
    {
     "output_type": "error",
     "ename": "NameError",
     "evalue": "name 'string' is not defined",
     "traceback": [
      "\u001b[1;31m---------------------------------------------------------------------------\u001b[0m",
      "\u001b[1;31mNameError\u001b[0m                                 Traceback (most recent call last)",
      "\u001b[1;32m<ipython-input-82-b57d5a5f854e>\u001b[0m in \u001b[0;36m<module>\u001b[1;34m\u001b[0m\n\u001b[0;32m      1\u001b[0m \u001b[0mfixed_rate\u001b[0m \u001b[1;33m=\u001b[0m\u001b[0mfixed_rate\u001b[0m\u001b[1;33m.\u001b[0m\u001b[0mastype\u001b[0m\u001b[1;33m(\u001b[0m\u001b[0mfloat\u001b[0m\u001b[1;33m)\u001b[0m\u001b[1;33m\u001b[0m\u001b[1;33m\u001b[0m\u001b[0m\n\u001b[1;32m----> 2\u001b[1;33m \u001b[0msales\u001b[0m \u001b[1;33m=\u001b[0m\u001b[0msales\u001b[0m\u001b[1;33m.\u001b[0m\u001b[0mastype\u001b[0m\u001b[1;33m(\u001b[0m\u001b[0mstring\u001b[0m\u001b[1;33m)\u001b[0m\u001b[1;33m\u001b[0m\u001b[1;33m\u001b[0m\u001b[0m\n\u001b[0m",
      "\u001b[1;31mNameError\u001b[0m: name 'string' is not defined"
     ]
    }
   ],
   "source": [
    "fixed_rate =fixed_rate.astype(float)\n",
    "sales =sales.astype(string)"
   ]
  },
  {
   "cell_type": "code",
   "execution_count": 79,
   "metadata": {},
   "outputs": [
    {
     "output_type": "execute_result",
     "data": {
      "text/plain": [
       "Sales    object\n",
       "dtype: object"
      ]
     },
     "metadata": {},
     "execution_count": 79
    }
   ],
   "source": [
    "sales.dtypes"
   ]
  },
  {
   "cell_type": "code",
   "execution_count": 74,
   "metadata": {},
   "outputs": [
    {
     "output_type": "execute_result",
     "data": {
      "text/plain": [
       "rate    float64\n",
       "dtype: object"
      ]
     },
     "metadata": {},
     "execution_count": 74
    }
   ],
   "source": [
    "fixed_rate.dtypes"
   ]
  },
  {
   "cell_type": "code",
   "execution_count": 50,
   "metadata": {},
   "outputs": [
    {
     "output_type": "execute_result",
     "data": {
      "text/plain": [
       "             Sales  rate\n",
       "Date                    \n",
       "2010-01-01  10,797  5.03\n",
       "2010-02-01  13,781  4.99\n",
       "2010-03-01  20,465  4.97\n",
       "2010-04-01  22,893   5.1\n",
       "2010-05-01  23,812  4.89"
      ],
      "text/html": "<div>\n<style scoped>\n    .dataframe tbody tr th:only-of-type {\n        vertical-align: middle;\n    }\n\n    .dataframe tbody tr th {\n        vertical-align: top;\n    }\n\n    .dataframe thead th {\n        text-align: right;\n    }\n</style>\n<table border=\"1\" class=\"dataframe\">\n  <thead>\n    <tr style=\"text-align: right;\">\n      <th></th>\n      <th>Sales</th>\n      <th>rate</th>\n    </tr>\n    <tr>\n      <th>Date</th>\n      <th></th>\n      <th></th>\n    </tr>\n  </thead>\n  <tbody>\n    <tr>\n      <th>2010-01-01</th>\n      <td>10,797</td>\n      <td>5.03</td>\n    </tr>\n    <tr>\n      <th>2010-02-01</th>\n      <td>13,781</td>\n      <td>4.99</td>\n    </tr>\n    <tr>\n      <th>2010-03-01</th>\n      <td>20,465</td>\n      <td>4.97</td>\n    </tr>\n    <tr>\n      <th>2010-04-01</th>\n      <td>22,893</td>\n      <td>5.1</td>\n    </tr>\n    <tr>\n      <th>2010-05-01</th>\n      <td>23,812</td>\n      <td>4.89</td>\n    </tr>\n  </tbody>\n</table>\n</div>"
     },
     "metadata": {},
     "execution_count": 50
    }
   ],
   "source": [
    "# merge dataframes on Date\n",
    "df =pd.merge (sales, fixed_rate, on='Date', how='outer')\n",
    "df.head()"
   ]
  },
  {
   "cell_type": "code",
   "execution_count": 58,
   "metadata": {},
   "outputs": [],
   "source": [
    "# Creating the X and y sets\n",
    "X = df[\"rate\"].values\n",
    "y = df[\"Sales\"].values"
   ]
  },
  {
   "cell_type": "code",
   "execution_count": 67,
   "metadata": {},
   "outputs": [
    {
     "output_type": "execute_result",
     "data": {
      "text/plain": [
       "array([['5.03'],\n",
       "       ['4.99'],\n",
       "       ['4.97'],\n",
       "       ['5.1'],\n",
       "       ['4.89'],\n",
       "       ['4.74'],\n",
       "       ['4.56'],\n",
       "       ['4.43'],\n",
       "       ['4.35'],\n",
       "       ['4.23'],\n",
       "       ['4.3'],\n",
       "       ['4.71'],\n",
       "       ['4.76'],\n",
       "       ['4.95'],\n",
       "       ['4.84'],\n",
       "       ['4.84'],\n",
       "       ['4.64'],\n",
       "       ['4.51'],\n",
       "       ['4.55'],\n",
       "       ['4.27'],\n",
       "       ['4.11'],\n",
       "       ['4.07'],\n",
       "       ['3.99'],\n",
       "       ['3.96'],\n",
       "       ['3.92'],\n",
       "       ['3.89'],\n",
       "       ['3.95'],\n",
       "       ['3.91'],\n",
       "       ['3.8'],\n",
       "       ['3.68'],\n",
       "       ['3.55'],\n",
       "       ['3.6'],\n",
       "       ['3.5'],\n",
       "       ['3.38'],\n",
       "       ['3.35'],\n",
       "       ['3.35'],\n",
       "       ['3.41'],\n",
       "       ['3.53'],\n",
       "       ['3.57'],\n",
       "       ['3.45'],\n",
       "       ['3.54'],\n",
       "       ['4.07'],\n",
       "       ['4.37'],\n",
       "       ['4.46'],\n",
       "       ['4.49'],\n",
       "       ['4.19'],\n",
       "       ['4.26'],\n",
       "       ['4.46'],\n",
       "       ['4.43'],\n",
       "       ['4.3'],\n",
       "       ['4.34'],\n",
       "       ['4.34'],\n",
       "       ['4.19'],\n",
       "       ['4.16'],\n",
       "       ['4.13'],\n",
       "       ['4.12'],\n",
       "       ['4.16'],\n",
       "       ['4.04'],\n",
       "       ['4'],\n",
       "       ['3.86'],\n",
       "       ['3.67'],\n",
       "       ['3.71'],\n",
       "       ['3.77'],\n",
       "       ['3.67'],\n",
       "       ['3.84'],\n",
       "       ['3.98'],\n",
       "       ['4.05'],\n",
       "       ['3.91'],\n",
       "       ['3.89'],\n",
       "       ['3.8'],\n",
       "       ['3.94'],\n",
       "       ['3.96'],\n",
       "       ['3.87'],\n",
       "       ['3.66'],\n",
       "       ['3.69'],\n",
       "       ['3.61'],\n",
       "       ['3.6'],\n",
       "       ['3.57'],\n",
       "       ['3.44'],\n",
       "       ['3.44'],\n",
       "       ['3.46'],\n",
       "       ['3.47'],\n",
       "       ['3.77'],\n",
       "       ['4.2'],\n",
       "       ['4.15'],\n",
       "       ['4.17'],\n",
       "       ['4.2'],\n",
       "       ['4.05'],\n",
       "       ['4.01'],\n",
       "       ['3.9'],\n",
       "       ['3.97'],\n",
       "       ['3.88'],\n",
       "       ['3.81'],\n",
       "       ['\\xa03.90'],\n",
       "       ['3.92'],\n",
       "       ['3.95'],\n",
       "       ['4.03'],\n",
       "       ['4.33'],\n",
       "       ['4.44'],\n",
       "       ['4.47'],\n",
       "       ['4.59'],\n",
       "       ['4.57'],\n",
       "       ['4.53'],\n",
       "       ['4.55'],\n",
       "       ['4.63'],\n",
       "       ['4.83'],\n",
       "       ['4.87'],\n",
       "       ['4.64'],\n",
       "       ['4.46'],\n",
       "       ['4.37'],\n",
       "       ['4.27'],\n",
       "       ['4.14'],\n",
       "       ['4.07'],\n",
       "       ['3.8'],\n",
       "       ['3.77'],\n",
       "       ['3.62'],\n",
       "       ['3.61'],\n",
       "       ['3.69'],\n",
       "       ['3.7'],\n",
       "       ['3.72'],\n",
       "       ['3.62'],\n",
       "       ['3.47'],\n",
       "       ['3.45'],\n",
       "       ['3.31'],\n",
       "       ['3.23'],\n",
       "       ['3.16'],\n",
       "       ['3.02'],\n",
       "       ['2.94'],\n",
       "       ['2.89'],\n",
       "       ['2.83'],\n",
       "       ['2.77'],\n",
       "       ['2.68']], dtype=object)"
      ]
     },
     "metadata": {},
     "execution_count": 67
    }
   ],
   "source": [
    "X.reshape(-1,1)"
   ]
  },
  {
   "cell_type": "code",
   "execution_count": 68,
   "metadata": {},
   "outputs": [],
   "source": [
    "# Creating training, validation, and testing sets\n",
    "from sklearn.model_selection import train_test_split\n",
    "\n",
    "X_train, X_test, y_train, y_test = train_test_split(X, y, test_size= 0.2, train_size= 0.8, random_state=0)"
   ]
  },
  {
   "cell_type": "code",
   "execution_count": 69,
   "metadata": {},
   "outputs": [
    {
     "output_type": "execute_result",
     "data": {
      "text/plain": [
       "'3.67'"
      ]
     },
     "metadata": {},
     "execution_count": 69
    }
   ],
   "source": [
    "X_train[0]"
   ]
  },
  {
   "cell_type": "code",
   "execution_count": 64,
   "metadata": {},
   "outputs": [
    {
     "output_type": "execute_result",
     "data": {
      "text/plain": [
       "array([['3.67'],\n",
       "       ['3.96'],\n",
       "       ['4.2'],\n",
       "       ['3.38'],\n",
       "       ['2.83'],\n",
       "       ['3.67'],\n",
       "       ['3.66'],\n",
       "       ['3.16'],\n",
       "       ['4.95'],\n",
       "       ['4.34'],\n",
       "       ['3.02'],\n",
       "       ['4.15'],\n",
       "       ['4.34'],\n",
       "       ['4.84'],\n",
       "       ['4.13'],\n",
       "       ['3.54'],\n",
       "       ['4.27'],\n",
       "       ['4.19'],\n",
       "       ['5.1'],\n",
       "       ['4.43'],\n",
       "       ['4.56'],\n",
       "       ['3.47'],\n",
       "       ['3.86'],\n",
       "       ['4.63'],\n",
       "       ['3.62'],\n",
       "       ['3.7'],\n",
       "       ['3.77'],\n",
       "       ['3.81'],\n",
       "       ['3.6'],\n",
       "       ['3.91'],\n",
       "       ['4.55'],\n",
       "       ['4.07'],\n",
       "       ['4.71'],\n",
       "       ['2.89'],\n",
       "       ['4.87'],\n",
       "       ['4.44'],\n",
       "       ['3.8'],\n",
       "       ['4.07'],\n",
       "       ['3.9'],\n",
       "       ['4.99'],\n",
       "       ['4.17'],\n",
       "       ['2.77'],\n",
       "       ['4.37'],\n",
       "       ['4.89'],\n",
       "       ['4.51'],\n",
       "       ['3.57'],\n",
       "       ['4.74'],\n",
       "       ['4.16'],\n",
       "       ['3.31'],\n",
       "       ['4.64'],\n",
       "       ['5.03'],\n",
       "       ['3.35'],\n",
       "       ['3.8'],\n",
       "       ['4.12'],\n",
       "       ['3.61'],\n",
       "       ['3.35'],\n",
       "       ['3.96'],\n",
       "       ['3.69'],\n",
       "       ['3.6'],\n",
       "       ['3.97'],\n",
       "       ['4.04'],\n",
       "       ['4.83'],\n",
       "       ['3.61'],\n",
       "       ['3.5'],\n",
       "       ['3.23'],\n",
       "       ['4.84'],\n",
       "       ['3.92'],\n",
       "       ['4.27'],\n",
       "       ['3.68'],\n",
       "       ['4.3'],\n",
       "       ['4.14'],\n",
       "       ['3.77'],\n",
       "       ['3.84'],\n",
       "       ['2.68'],\n",
       "       ['3.44'],\n",
       "       ['3.8'],\n",
       "       ['3.46'],\n",
       "       ['4.11'],\n",
       "       ['2.94'],\n",
       "       ['3.87'],\n",
       "       ['3.57'],\n",
       "       ['3.89'],\n",
       "       ['3.53'],\n",
       "       ['3.47'],\n",
       "       ['3.72'],\n",
       "       ['4.26'],\n",
       "       ['3.45'],\n",
       "       ['3.45'],\n",
       "       ['4.53'],\n",
       "       ['3.98'],\n",
       "       ['4'],\n",
       "       ['4.76'],\n",
       "       ['3.62'],\n",
       "       ['4.01'],\n",
       "       ['3.94'],\n",
       "       ['4.05'],\n",
       "       ['3.41'],\n",
       "       ['3.77'],\n",
       "       ['4.07'],\n",
       "       ['4.2'],\n",
       "       ['4.23'],\n",
       "       ['4.55'],\n",
       "       ['3.91'],\n",
       "       ['3.69'],\n",
       "       ['4.46']], dtype=object)"
      ]
     },
     "metadata": {},
     "execution_count": 64
    }
   ],
   "source": [
    "X_train.reshape(-1,1)"
   ]
  },
  {
   "cell_type": "code",
   "execution_count": 70,
   "metadata": {},
   "outputs": [
    {
     "output_type": "error",
     "ename": "ValueError",
     "evalue": "Expected 2D array, got 1D array instead:\narray=[3.67 3.96 4.2  3.38 2.83 3.67 3.66 3.16 4.95 4.34 3.02 4.15 4.34 4.84\n 4.13 3.54 4.27 4.19 5.1  4.43 4.56 3.47 3.86 4.63 3.62 3.7  3.77 3.81\n 3.6  3.91 4.55 4.07 4.71 2.89 4.87 4.44 3.8  4.07 3.9  4.99 4.17 2.77\n 4.37 4.89 4.51 3.57 4.74 4.16 3.31 4.64 5.03 3.35 3.8  4.12 3.61 3.35\n 3.96 3.69 3.6  3.97 4.04 4.83 3.61 3.5  3.23 4.84 3.92 4.27 3.68 4.3\n 4.14 3.77 3.84 2.68 3.44 3.8  3.46 4.11 2.94 3.87 3.57 3.89 3.53 3.47\n 3.72 4.26 3.45 3.45 4.53 3.98 4.   4.76 3.62 4.01 3.94 4.05 3.41 3.77\n 4.07 4.2  4.23 4.55 3.91 3.69 4.46].\nReshape your data either using array.reshape(-1, 1) if your data has a single feature or array.reshape(1, -1) if it contains a single sample.",
     "traceback": [
      "\u001b[1;31m---------------------------------------------------------------------------\u001b[0m",
      "\u001b[1;31mValueError\u001b[0m                                Traceback (most recent call last)",
      "\u001b[1;32m<ipython-input-70-a6aabb287138>\u001b[0m in \u001b[0;36m<module>\u001b[1;34m\u001b[0m\n\u001b[0;32m      3\u001b[0m \u001b[1;33m\u001b[0m\u001b[0m\n\u001b[0;32m      4\u001b[0m \u001b[1;31m# Scale the data\u001b[0m\u001b[1;33m\u001b[0m\u001b[1;33m\u001b[0m\u001b[1;33m\u001b[0m\u001b[0m\n\u001b[1;32m----> 5\u001b[1;33m \u001b[0mscaler\u001b[0m \u001b[1;33m=\u001b[0m \u001b[0mStandardScaler\u001b[0m\u001b[1;33m(\u001b[0m\u001b[1;33m)\u001b[0m\u001b[1;33m.\u001b[0m\u001b[0mfit\u001b[0m\u001b[1;33m(\u001b[0m\u001b[0mX_train\u001b[0m\u001b[1;33m)\u001b[0m\u001b[1;33m\u001b[0m\u001b[1;33m\u001b[0m\u001b[0m\n\u001b[0m\u001b[0;32m      6\u001b[0m \u001b[0mX\u001b[0m \u001b[1;33m=\u001b[0m \u001b[0mscaler\u001b[0m\u001b[1;33m.\u001b[0m\u001b[0mtransform\u001b[0m\u001b[1;33m(\u001b[0m\u001b[0mX_train\u001b[0m\u001b[1;33m)\u001b[0m\u001b[1;33m\u001b[0m\u001b[1;33m\u001b[0m\u001b[0m\n",
      "\u001b[1;32m~\\anaconda3\\envs\\pyvizenv\\lib\\site-packages\\sklearn\\preprocessing\\_data.py\u001b[0m in \u001b[0;36mfit\u001b[1;34m(self, X, y)\u001b[0m\n\u001b[0;32m    665\u001b[0m         \u001b[1;31m# Reset internal state before fitting\u001b[0m\u001b[1;33m\u001b[0m\u001b[1;33m\u001b[0m\u001b[1;33m\u001b[0m\u001b[0m\n\u001b[0;32m    666\u001b[0m         \u001b[0mself\u001b[0m\u001b[1;33m.\u001b[0m\u001b[0m_reset\u001b[0m\u001b[1;33m(\u001b[0m\u001b[1;33m)\u001b[0m\u001b[1;33m\u001b[0m\u001b[1;33m\u001b[0m\u001b[0m\n\u001b[1;32m--> 667\u001b[1;33m         \u001b[1;32mreturn\u001b[0m \u001b[0mself\u001b[0m\u001b[1;33m.\u001b[0m\u001b[0mpartial_fit\u001b[0m\u001b[1;33m(\u001b[0m\u001b[0mX\u001b[0m\u001b[1;33m,\u001b[0m \u001b[0my\u001b[0m\u001b[1;33m)\u001b[0m\u001b[1;33m\u001b[0m\u001b[1;33m\u001b[0m\u001b[0m\n\u001b[0m\u001b[0;32m    668\u001b[0m \u001b[1;33m\u001b[0m\u001b[0m\n\u001b[0;32m    669\u001b[0m     \u001b[1;32mdef\u001b[0m \u001b[0mpartial_fit\u001b[0m\u001b[1;33m(\u001b[0m\u001b[0mself\u001b[0m\u001b[1;33m,\u001b[0m \u001b[0mX\u001b[0m\u001b[1;33m,\u001b[0m \u001b[0my\u001b[0m\u001b[1;33m=\u001b[0m\u001b[1;32mNone\u001b[0m\u001b[1;33m)\u001b[0m\u001b[1;33m:\u001b[0m\u001b[1;33m\u001b[0m\u001b[1;33m\u001b[0m\u001b[0m\n",
      "\u001b[1;32m~\\anaconda3\\envs\\pyvizenv\\lib\\site-packages\\sklearn\\preprocessing\\_data.py\u001b[0m in \u001b[0;36mpartial_fit\u001b[1;34m(self, X, y)\u001b[0m\n\u001b[0;32m    696\u001b[0m         X = self._validate_data(X, accept_sparse=('csr', 'csc'),\n\u001b[0;32m    697\u001b[0m                                 \u001b[0mestimator\u001b[0m\u001b[1;33m=\u001b[0m\u001b[0mself\u001b[0m\u001b[1;33m,\u001b[0m \u001b[0mdtype\u001b[0m\u001b[1;33m=\u001b[0m\u001b[0mFLOAT_DTYPES\u001b[0m\u001b[1;33m,\u001b[0m\u001b[1;33m\u001b[0m\u001b[1;33m\u001b[0m\u001b[0m\n\u001b[1;32m--> 698\u001b[1;33m                                 force_all_finite='allow-nan')\n\u001b[0m\u001b[0;32m    699\u001b[0m \u001b[1;33m\u001b[0m\u001b[0m\n\u001b[0;32m    700\u001b[0m         \u001b[1;31m# Even in the case of `with_mean=False`, we update the mean anyway\u001b[0m\u001b[1;33m\u001b[0m\u001b[1;33m\u001b[0m\u001b[1;33m\u001b[0m\u001b[0m\n",
      "\u001b[1;32m~\\anaconda3\\envs\\pyvizenv\\lib\\site-packages\\sklearn\\base.py\u001b[0m in \u001b[0;36m_validate_data\u001b[1;34m(self, X, y, reset, validate_separately, **check_params)\u001b[0m\n\u001b[0;32m    418\u001b[0m                     \u001b[1;34mf\"requires y to be passed, but the target y is None.\"\u001b[0m\u001b[1;33m\u001b[0m\u001b[1;33m\u001b[0m\u001b[0m\n\u001b[0;32m    419\u001b[0m                 )\n\u001b[1;32m--> 420\u001b[1;33m             \u001b[0mX\u001b[0m \u001b[1;33m=\u001b[0m \u001b[0mcheck_array\u001b[0m\u001b[1;33m(\u001b[0m\u001b[0mX\u001b[0m\u001b[1;33m,\u001b[0m \u001b[1;33m**\u001b[0m\u001b[0mcheck_params\u001b[0m\u001b[1;33m)\u001b[0m\u001b[1;33m\u001b[0m\u001b[1;33m\u001b[0m\u001b[0m\n\u001b[0m\u001b[0;32m    421\u001b[0m             \u001b[0mout\u001b[0m \u001b[1;33m=\u001b[0m \u001b[0mX\u001b[0m\u001b[1;33m\u001b[0m\u001b[1;33m\u001b[0m\u001b[0m\n\u001b[0;32m    422\u001b[0m         \u001b[1;32melse\u001b[0m\u001b[1;33m:\u001b[0m\u001b[1;33m\u001b[0m\u001b[1;33m\u001b[0m\u001b[0m\n",
      "\u001b[1;32m~\\anaconda3\\envs\\pyvizenv\\lib\\site-packages\\sklearn\\utils\\validation.py\u001b[0m in \u001b[0;36minner_f\u001b[1;34m(*args, **kwargs)\u001b[0m\n\u001b[0;32m     71\u001b[0m                           FutureWarning)\n\u001b[0;32m     72\u001b[0m         \u001b[0mkwargs\u001b[0m\u001b[1;33m.\u001b[0m\u001b[0mupdate\u001b[0m\u001b[1;33m(\u001b[0m\u001b[1;33m{\u001b[0m\u001b[0mk\u001b[0m\u001b[1;33m:\u001b[0m \u001b[0marg\u001b[0m \u001b[1;32mfor\u001b[0m \u001b[0mk\u001b[0m\u001b[1;33m,\u001b[0m \u001b[0marg\u001b[0m \u001b[1;32min\u001b[0m \u001b[0mzip\u001b[0m\u001b[1;33m(\u001b[0m\u001b[0msig\u001b[0m\u001b[1;33m.\u001b[0m\u001b[0mparameters\u001b[0m\u001b[1;33m,\u001b[0m \u001b[0margs\u001b[0m\u001b[1;33m)\u001b[0m\u001b[1;33m}\u001b[0m\u001b[1;33m)\u001b[0m\u001b[1;33m\u001b[0m\u001b[1;33m\u001b[0m\u001b[0m\n\u001b[1;32m---> 73\u001b[1;33m         \u001b[1;32mreturn\u001b[0m \u001b[0mf\u001b[0m\u001b[1;33m(\u001b[0m\u001b[1;33m**\u001b[0m\u001b[0mkwargs\u001b[0m\u001b[1;33m)\u001b[0m\u001b[1;33m\u001b[0m\u001b[1;33m\u001b[0m\u001b[0m\n\u001b[0m\u001b[0;32m     74\u001b[0m     \u001b[1;32mreturn\u001b[0m \u001b[0minner_f\u001b[0m\u001b[1;33m\u001b[0m\u001b[1;33m\u001b[0m\u001b[0m\n\u001b[0;32m     75\u001b[0m \u001b[1;33m\u001b[0m\u001b[0m\n",
      "\u001b[1;32m~\\anaconda3\\envs\\pyvizenv\\lib\\site-packages\\sklearn\\utils\\validation.py\u001b[0m in \u001b[0;36mcheck_array\u001b[1;34m(array, accept_sparse, accept_large_sparse, dtype, order, copy, force_all_finite, ensure_2d, allow_nd, ensure_min_samples, ensure_min_features, estimator)\u001b[0m\n\u001b[0;32m    622\u001b[0m                     \u001b[1;34m\"Reshape your data either using array.reshape(-1, 1) if \"\u001b[0m\u001b[1;33m\u001b[0m\u001b[1;33m\u001b[0m\u001b[0m\n\u001b[0;32m    623\u001b[0m                     \u001b[1;34m\"your data has a single feature or array.reshape(1, -1) \"\u001b[0m\u001b[1;33m\u001b[0m\u001b[1;33m\u001b[0m\u001b[0m\n\u001b[1;32m--> 624\u001b[1;33m                     \"if it contains a single sample.\".format(array))\n\u001b[0m\u001b[0;32m    625\u001b[0m \u001b[1;33m\u001b[0m\u001b[0m\n\u001b[0;32m    626\u001b[0m         \u001b[1;31m# in the future np.flexible dtypes will be handled like object dtypes\u001b[0m\u001b[1;33m\u001b[0m\u001b[1;33m\u001b[0m\u001b[1;33m\u001b[0m\u001b[0m\n",
      "\u001b[1;31mValueError\u001b[0m: Expected 2D array, got 1D array instead:\narray=[3.67 3.96 4.2  3.38 2.83 3.67 3.66 3.16 4.95 4.34 3.02 4.15 4.34 4.84\n 4.13 3.54 4.27 4.19 5.1  4.43 4.56 3.47 3.86 4.63 3.62 3.7  3.77 3.81\n 3.6  3.91 4.55 4.07 4.71 2.89 4.87 4.44 3.8  4.07 3.9  4.99 4.17 2.77\n 4.37 4.89 4.51 3.57 4.74 4.16 3.31 4.64 5.03 3.35 3.8  4.12 3.61 3.35\n 3.96 3.69 3.6  3.97 4.04 4.83 3.61 3.5  3.23 4.84 3.92 4.27 3.68 4.3\n 4.14 3.77 3.84 2.68 3.44 3.8  3.46 4.11 2.94 3.87 3.57 3.89 3.53 3.47\n 3.72 4.26 3.45 3.45 4.53 3.98 4.   4.76 3.62 4.01 3.94 4.05 3.41 3.77\n 4.07 4.2  4.23 4.55 3.91 3.69 4.46].\nReshape your data either using array.reshape(-1, 1) if your data has a single feature or array.reshape(1, -1) if it contains a single sample."
     ]
    }
   ],
   "source": [
    "# Import the StandardScaler from sklearn\n",
    "from sklearn.preprocessing import StandardScaler\n",
    "\n",
    "# Scale the data\n",
    "scaler = StandardScaler().fit(X_train)\n",
    "X = scaler.transform(X_train)"
   ]
  },
  {
   "cell_type": "code",
   "execution_count": 57,
   "metadata": {},
   "outputs": [
    {
     "output_type": "execute_result",
     "data": {
      "text/plain": [
       "'26,519'"
      ]
     },
     "metadata": {},
     "execution_count": 57
    }
   ],
   "source": [
    "X_train[0]"
   ]
  },
  {
   "cell_type": "code",
   "execution_count": null,
   "metadata": {},
   "outputs": [],
   "source": [
    "# Import the StandardScaler from sklearn\n",
    "from sklearn.preprocessing import StandardScaler\n",
    "\n",
    "# Scale the data\n",
    "scaler = StandardScaler().fit(X_train)\n",
    "X = scaler.transform(X_train)"
   ]
  }
 ],
 "metadata": {
  "file_extension": ".py",
  "kernelspec": {
   "name": "python3",
   "display_name": "Python 3.7.7 64-bit ('pyvizenv': conda)",
   "metadata": {
    "interpreter": {
     "hash": "c3c06777d2d3a090de4d2535f4f1b119177f34ac2cf7c8075bb72b3b1efd8194"
    }
   }
  },
  "language_info": {
   "codemirror_mode": {
    "name": "ipython",
    "version": 3
   },
   "file_extension": ".py",
   "mimetype": "text/x-python",
   "name": "python",
   "nbconvert_exporter": "python",
   "pygments_lexer": "ipython3",
   "version": "3.7.7-final"
  },
  "mimetype": "text/x-python",
  "name": "python",
  "npconvert_exporter": "python",
  "pygments_lexer": "ipython3",
  "version": 3
 },
 "nbformat": 4,
 "nbformat_minor": 4
}