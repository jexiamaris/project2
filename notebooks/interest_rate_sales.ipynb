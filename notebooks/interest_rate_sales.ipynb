{
 "cells": [
  {
   "cell_type": "code",
   "execution_count": 92,
   "metadata": {},
   "outputs": [],
   "source": [
    "#Initial imports\n",
    "import pandas as pd\n",
    "import numpy as np\n",
    "import matplotlib.pyplot as plt\n",
    "import tensorflow as tf\n",
    "from pathlib import Path\n",
    "\n",
    "%matplotlib inline"
   ]
  },
  {
   "cell_type": "code",
   "execution_count": 93,
   "metadata": {},
   "outputs": [],
   "source": [
    "#Import Data\n",
    "#mortgage = pd.read_csv('../data/raw_data/30yr_fixed_mortgage_rate.csv')\n",
    "sales = pd.read_csv(Path(\"../data/raw_data/house_sales_by_month.csv\"),\n",
    "index_col=\"Date\", parse_dates=True, infer_datetime_format=True)  \n",
    "fixed_rate = pd.read_csv(Path(\"../data/raw_data/30yr_fixed_mortgage_rate.csv\"), encoding='latin1',   index_col=\"Date\", parse_dates=True, infer_datetime_format=True)\n"
   ]
  },
  {
   "cell_type": "code",
   "execution_count": 94,
   "metadata": {},
   "outputs": [],
   "source": [
    "sales= sales.drop(columns=([\"Dollar\", \"Median\", \"Total\"]))\r\n",
    "#sales"
   ]
  },
  {
   "cell_type": "code",
   "execution_count": 95,
   "metadata": {},
   "outputs": [],
   "source": [
    "#sales"
   ]
  },
  {
   "cell_type": "code",
   "execution_count": 96,
   "metadata": {},
   "outputs": [],
   "source": [
    "#sales=sales[\"Sales\"].str.replace(\",\",\"\")\n",
    "#sales"
   ]
  },
  {
   "cell_type": "code",
   "execution_count": 97,
   "metadata": {},
   "outputs": [],
   "source": [
    "fixed_rate =fixed_rate.astype(float)\n",
    "sales =sales.astype(int)"
   ]
  },
  {
   "cell_type": "code",
   "execution_count": 98,
   "metadata": {},
   "outputs": [
    {
     "output_type": "execute_result",
     "data": {
      "text/plain": [
       "Sales      int32\n",
       "Average    int32\n",
       "Months     int32\n",
       "dtype: object"
      ]
     },
     "metadata": {},
     "execution_count": 98
    }
   ],
   "source": [
    "sales.dtypes"
   ]
  },
  {
   "cell_type": "code",
   "execution_count": 99,
   "metadata": {},
   "outputs": [
    {
     "output_type": "execute_result",
     "data": {
      "text/plain": [
       "rate    float64\n",
       "dtype: object"
      ]
     },
     "metadata": {},
     "execution_count": 99
    }
   ],
   "source": [
    "fixed_rate.dtypes"
   ]
  },
  {
   "cell_type": "code",
   "execution_count": 116,
   "metadata": {},
   "outputs": [
    {
     "output_type": "execute_result",
     "data": {
      "text/plain": [
       "              Sales   Average  Months  rate\n",
       "Date                                       \n",
       "2010-01-01  10797.0  176298.0     6.0  5.03\n",
       "2010-02-01  13781.0  179474.0     7.0  4.99\n",
       "2010-03-01  20465.0  183981.0     7.0  4.97\n",
       "2010-04-01  22893.0  184048.0     7.0  5.10\n",
       "2010-05-01  23812.0  188041.0     7.0  4.89"
      ],
      "text/html": "<div>\n<style scoped>\n    .dataframe tbody tr th:only-of-type {\n        vertical-align: middle;\n    }\n\n    .dataframe tbody tr th {\n        vertical-align: top;\n    }\n\n    .dataframe thead th {\n        text-align: right;\n    }\n</style>\n<table border=\"1\" class=\"dataframe\">\n  <thead>\n    <tr style=\"text-align: right;\">\n      <th></th>\n      <th>Sales</th>\n      <th>Average</th>\n      <th>Months</th>\n      <th>rate</th>\n    </tr>\n    <tr>\n      <th>Date</th>\n      <th></th>\n      <th></th>\n      <th></th>\n      <th></th>\n    </tr>\n  </thead>\n  <tbody>\n    <tr>\n      <th>2010-01-01</th>\n      <td>10797.0</td>\n      <td>176298.0</td>\n      <td>6.0</td>\n      <td>5.03</td>\n    </tr>\n    <tr>\n      <th>2010-02-01</th>\n      <td>13781.0</td>\n      <td>179474.0</td>\n      <td>7.0</td>\n      <td>4.99</td>\n    </tr>\n    <tr>\n      <th>2010-03-01</th>\n      <td>20465.0</td>\n      <td>183981.0</td>\n      <td>7.0</td>\n      <td>4.97</td>\n    </tr>\n    <tr>\n      <th>2010-04-01</th>\n      <td>22893.0</td>\n      <td>184048.0</td>\n      <td>7.0</td>\n      <td>5.10</td>\n    </tr>\n    <tr>\n      <th>2010-05-01</th>\n      <td>23812.0</td>\n      <td>188041.0</td>\n      <td>7.0</td>\n      <td>4.89</td>\n    </tr>\n  </tbody>\n</table>\n</div>"
     },
     "metadata": {},
     "execution_count": 116
    }
   ],
   "source": [
    "# merge dataframes on Date\n",
    "df =pd.merge (sales, fixed_rate, on='Date', how='outer')\n",
    "df.head()"
   ]
  },
  {
   "cell_type": "code",
   "execution_count": 117,
   "metadata": {},
   "outputs": [
    {
     "output_type": "execute_result",
     "data": {
      "text/plain": [
       "              Sales   Average  Months  rate\n",
       "Date                                       \n",
       "2010-01-01  10797.0  176298.0     6.0  5.03\n",
       "2010-02-01  13781.0  179474.0     7.0  4.99\n",
       "2010-03-01  20465.0  183981.0     7.0  4.97\n",
       "2010-04-01  22893.0  184048.0     7.0  5.10\n",
       "2010-05-01  23812.0  188041.0     7.0  4.89\n",
       "2010-06-01  22864.0  201367.0     7.0  4.74\n",
       "2010-07-01  17336.0  204912.0     8.0  4.56\n",
       "2010-08-01  17831.0  197616.0     8.0  4.43\n",
       "2010-09-01  16050.0  189384.0     8.0  4.35\n",
       "2010-10-01  14990.0  187695.0     8.0  4.23\n",
       "2010-11-01  14398.0  192416.0     7.0  4.30\n",
       "2010-12-01  16423.0  200295.0     7.0  4.71\n",
       "2011-01-01  11469.0  180918.0     7.0  4.76\n",
       "2011-02-01  12790.0  188328.0     7.0  4.95\n",
       "2011-03-01  18508.0  189835.0     8.0  4.84\n",
       "2011-04-01  18978.0  189863.0     8.0  4.84\n",
       "2011-05-01  20491.0  197741.0     8.0  4.64\n",
       "2011-06-01  22851.0  202571.0     8.0  4.51\n",
       "2011-07-01  20399.0  198664.0     8.0  4.55\n",
       "2011-08-01  22125.0  196246.0     7.0  4.27\n",
       "2011-09-01  18648.0  190401.0     7.0  4.11\n",
       "2011-10-01  16533.0  188628.0     7.0  4.07\n",
       "2011-11-01  15651.0  186582.0     6.0  3.99\n",
       "2011-12-01  17265.0  194970.0     6.0  3.96\n",
       "2012-01-01  12613.0  178526.0     6.0  3.92\n",
       "2012-02-01  15485.0  186481.0     6.0  3.89\n",
       "2012-03-01  20050.0  198812.0     6.0  3.95\n",
       "2012-04-01  20778.0  203741.0     6.0  3.91\n",
       "2012-05-01  24375.0  212712.0     6.0  3.80\n",
       "2012-06-01  25507.0  214451.0     6.0  3.68\n",
       "...             ...       ...     ...   ...\n",
       "2018-06-01  35605.0  297236.0     3.0  4.57\n",
       "2018-07-01  33920.0  288864.0     3.0  4.53\n",
       "2018-08-01  34196.0  287179.0     3.0  4.55\n",
       "2018-09-01  26809.0  279401.0     3.0  4.63\n",
       "2018-10-01  27368.0  276703.0     3.0  4.83\n",
       "2018-11-01  25149.0  280205.0     3.0  4.87\n",
       "2018-12-01  25819.0  284619.0     3.0  4.64\n",
       "2019-01-01  18107.0  264238.0     3.0  4.46\n",
       "2019-02-01  22671.0  271353.0     3.0  4.37\n",
       "2019-03-01  29547.0  284797.0     3.0  4.27\n",
       "2019-04-01  32102.0  291993.0     3.0  4.14\n",
       "2019-05-01  36712.0  302866.0     3.0  4.07\n",
       "2019-06-01  34101.0  305850.0     3.0  3.80\n",
       "2019-07-01  36279.0  297145.0     3.0  3.77\n",
       "2019-08-01  35477.0  293648.0     3.0  3.62\n",
       "2019-09-01  29220.0  288659.0     3.0  3.61\n",
       "2019-10-01  29473.0  289816.0     3.0  3.69\n",
       "2019-11-01  25811.0  286048.0     3.0  3.70\n",
       "2019-12-01  29918.0  300790.0     3.0  3.72\n",
       "2020-01-01  21039.0  277988.0     3.0  3.62\n",
       "2020-02-01  24879.0  291856.0     3.0  3.47\n",
       "2020-03-01  30801.0  298052.0     3.0  3.45\n",
       "2020-04-01  26106.0  295209.0     3.0  3.31\n",
       "2020-05-01  27438.0  293194.0     3.0  3.23\n",
       "2020-06-01  38639.0  311898.0     2.0  3.16\n",
       "2020-07-01  43877.0  327755.0     2.0  3.02\n",
       "2020-08-01  38384.0  326014.0     2.0  2.94\n",
       "2020-09-01  37114.0  325532.0     2.0  2.89\n",
       "2020-10-01  36610.0  330585.0     2.0  2.83\n",
       "2020-11-01  31788.0  333080.0     1.0  2.77\n",
       "\n",
       "[131 rows x 4 columns]"
      ],
      "text/html": "<div>\n<style scoped>\n    .dataframe tbody tr th:only-of-type {\n        vertical-align: middle;\n    }\n\n    .dataframe tbody tr th {\n        vertical-align: top;\n    }\n\n    .dataframe thead th {\n        text-align: right;\n    }\n</style>\n<table border=\"1\" class=\"dataframe\">\n  <thead>\n    <tr style=\"text-align: right;\">\n      <th></th>\n      <th>Sales</th>\n      <th>Average</th>\n      <th>Months</th>\n      <th>rate</th>\n    </tr>\n    <tr>\n      <th>Date</th>\n      <th></th>\n      <th></th>\n      <th></th>\n      <th></th>\n    </tr>\n  </thead>\n  <tbody>\n    <tr>\n      <th>2010-01-01</th>\n      <td>10797.0</td>\n      <td>176298.0</td>\n      <td>6.0</td>\n      <td>5.03</td>\n    </tr>\n    <tr>\n      <th>2010-02-01</th>\n      <td>13781.0</td>\n      <td>179474.0</td>\n      <td>7.0</td>\n      <td>4.99</td>\n    </tr>\n    <tr>\n      <th>2010-03-01</th>\n      <td>20465.0</td>\n      <td>183981.0</td>\n      <td>7.0</td>\n      <td>4.97</td>\n    </tr>\n    <tr>\n      <th>2010-04-01</th>\n      <td>22893.0</td>\n      <td>184048.0</td>\n      <td>7.0</td>\n      <td>5.10</td>\n    </tr>\n    <tr>\n      <th>2010-05-01</th>\n      <td>23812.0</td>\n      <td>188041.0</td>\n      <td>7.0</td>\n      <td>4.89</td>\n    </tr>\n    <tr>\n      <th>2010-06-01</th>\n      <td>22864.0</td>\n      <td>201367.0</td>\n      <td>7.0</td>\n      <td>4.74</td>\n    </tr>\n    <tr>\n      <th>2010-07-01</th>\n      <td>17336.0</td>\n      <td>204912.0</td>\n      <td>8.0</td>\n      <td>4.56</td>\n    </tr>\n    <tr>\n      <th>2010-08-01</th>\n      <td>17831.0</td>\n      <td>197616.0</td>\n      <td>8.0</td>\n      <td>4.43</td>\n    </tr>\n    <tr>\n      <th>2010-09-01</th>\n      <td>16050.0</td>\n      <td>189384.0</td>\n      <td>8.0</td>\n      <td>4.35</td>\n    </tr>\n    <tr>\n      <th>2010-10-01</th>\n      <td>14990.0</td>\n      <td>187695.0</td>\n      <td>8.0</td>\n      <td>4.23</td>\n    </tr>\n    <tr>\n      <th>2010-11-01</th>\n      <td>14398.0</td>\n      <td>192416.0</td>\n      <td>7.0</td>\n      <td>4.30</td>\n    </tr>\n    <tr>\n      <th>2010-12-01</th>\n      <td>16423.0</td>\n      <td>200295.0</td>\n      <td>7.0</td>\n      <td>4.71</td>\n    </tr>\n    <tr>\n      <th>2011-01-01</th>\n      <td>11469.0</td>\n      <td>180918.0</td>\n      <td>7.0</td>\n      <td>4.76</td>\n    </tr>\n    <tr>\n      <th>2011-02-01</th>\n      <td>12790.0</td>\n      <td>188328.0</td>\n      <td>7.0</td>\n      <td>4.95</td>\n    </tr>\n    <tr>\n      <th>2011-03-01</th>\n      <td>18508.0</td>\n      <td>189835.0</td>\n      <td>8.0</td>\n      <td>4.84</td>\n    </tr>\n    <tr>\n      <th>2011-04-01</th>\n      <td>18978.0</td>\n      <td>189863.0</td>\n      <td>8.0</td>\n      <td>4.84</td>\n    </tr>\n    <tr>\n      <th>2011-05-01</th>\n      <td>20491.0</td>\n      <td>197741.0</td>\n      <td>8.0</td>\n      <td>4.64</td>\n    </tr>\n    <tr>\n      <th>2011-06-01</th>\n      <td>22851.0</td>\n      <td>202571.0</td>\n      <td>8.0</td>\n      <td>4.51</td>\n    </tr>\n    <tr>\n      <th>2011-07-01</th>\n      <td>20399.0</td>\n      <td>198664.0</td>\n      <td>8.0</td>\n      <td>4.55</td>\n    </tr>\n    <tr>\n      <th>2011-08-01</th>\n      <td>22125.0</td>\n      <td>196246.0</td>\n      <td>7.0</td>\n      <td>4.27</td>\n    </tr>\n    <tr>\n      <th>2011-09-01</th>\n      <td>18648.0</td>\n      <td>190401.0</td>\n      <td>7.0</td>\n      <td>4.11</td>\n    </tr>\n    <tr>\n      <th>2011-10-01</th>\n      <td>16533.0</td>\n      <td>188628.0</td>\n      <td>7.0</td>\n      <td>4.07</td>\n    </tr>\n    <tr>\n      <th>2011-11-01</th>\n      <td>15651.0</td>\n      <td>186582.0</td>\n      <td>6.0</td>\n      <td>3.99</td>\n    </tr>\n    <tr>\n      <th>2011-12-01</th>\n      <td>17265.0</td>\n      <td>194970.0</td>\n      <td>6.0</td>\n      <td>3.96</td>\n    </tr>\n    <tr>\n      <th>2012-01-01</th>\n      <td>12613.0</td>\n      <td>178526.0</td>\n      <td>6.0</td>\n      <td>3.92</td>\n    </tr>\n    <tr>\n      <th>2012-02-01</th>\n      <td>15485.0</td>\n      <td>186481.0</td>\n      <td>6.0</td>\n      <td>3.89</td>\n    </tr>\n    <tr>\n      <th>2012-03-01</th>\n      <td>20050.0</td>\n      <td>198812.0</td>\n      <td>6.0</td>\n      <td>3.95</td>\n    </tr>\n    <tr>\n      <th>2012-04-01</th>\n      <td>20778.0</td>\n      <td>203741.0</td>\n      <td>6.0</td>\n      <td>3.91</td>\n    </tr>\n    <tr>\n      <th>2012-05-01</th>\n      <td>24375.0</td>\n      <td>212712.0</td>\n      <td>6.0</td>\n      <td>3.80</td>\n    </tr>\n    <tr>\n      <th>2012-06-01</th>\n      <td>25507.0</td>\n      <td>214451.0</td>\n      <td>6.0</td>\n      <td>3.68</td>\n    </tr>\n    <tr>\n      <th>...</th>\n      <td>...</td>\n      <td>...</td>\n      <td>...</td>\n      <td>...</td>\n    </tr>\n    <tr>\n      <th>2018-06-01</th>\n      <td>35605.0</td>\n      <td>297236.0</td>\n      <td>3.0</td>\n      <td>4.57</td>\n    </tr>\n    <tr>\n      <th>2018-07-01</th>\n      <td>33920.0</td>\n      <td>288864.0</td>\n      <td>3.0</td>\n      <td>4.53</td>\n    </tr>\n    <tr>\n      <th>2018-08-01</th>\n      <td>34196.0</td>\n      <td>287179.0</td>\n      <td>3.0</td>\n      <td>4.55</td>\n    </tr>\n    <tr>\n      <th>2018-09-01</th>\n      <td>26809.0</td>\n      <td>279401.0</td>\n      <td>3.0</td>\n      <td>4.63</td>\n    </tr>\n    <tr>\n      <th>2018-10-01</th>\n      <td>27368.0</td>\n      <td>276703.0</td>\n      <td>3.0</td>\n      <td>4.83</td>\n    </tr>\n    <tr>\n      <th>2018-11-01</th>\n      <td>25149.0</td>\n      <td>280205.0</td>\n      <td>3.0</td>\n      <td>4.87</td>\n    </tr>\n    <tr>\n      <th>2018-12-01</th>\n      <td>25819.0</td>\n      <td>284619.0</td>\n      <td>3.0</td>\n      <td>4.64</td>\n    </tr>\n    <tr>\n      <th>2019-01-01</th>\n      <td>18107.0</td>\n      <td>264238.0</td>\n      <td>3.0</td>\n      <td>4.46</td>\n    </tr>\n    <tr>\n      <th>2019-02-01</th>\n      <td>22671.0</td>\n      <td>271353.0</td>\n      <td>3.0</td>\n      <td>4.37</td>\n    </tr>\n    <tr>\n      <th>2019-03-01</th>\n      <td>29547.0</td>\n      <td>284797.0</td>\n      <td>3.0</td>\n      <td>4.27</td>\n    </tr>\n    <tr>\n      <th>2019-04-01</th>\n      <td>32102.0</td>\n      <td>291993.0</td>\n      <td>3.0</td>\n      <td>4.14</td>\n    </tr>\n    <tr>\n      <th>2019-05-01</th>\n      <td>36712.0</td>\n      <td>302866.0</td>\n      <td>3.0</td>\n      <td>4.07</td>\n    </tr>\n    <tr>\n      <th>2019-06-01</th>\n      <td>34101.0</td>\n      <td>305850.0</td>\n      <td>3.0</td>\n      <td>3.80</td>\n    </tr>\n    <tr>\n      <th>2019-07-01</th>\n      <td>36279.0</td>\n      <td>297145.0</td>\n      <td>3.0</td>\n      <td>3.77</td>\n    </tr>\n    <tr>\n      <th>2019-08-01</th>\n      <td>35477.0</td>\n      <td>293648.0</td>\n      <td>3.0</td>\n      <td>3.62</td>\n    </tr>\n    <tr>\n      <th>2019-09-01</th>\n      <td>29220.0</td>\n      <td>288659.0</td>\n      <td>3.0</td>\n      <td>3.61</td>\n    </tr>\n    <tr>\n      <th>2019-10-01</th>\n      <td>29473.0</td>\n      <td>289816.0</td>\n      <td>3.0</td>\n      <td>3.69</td>\n    </tr>\n    <tr>\n      <th>2019-11-01</th>\n      <td>25811.0</td>\n      <td>286048.0</td>\n      <td>3.0</td>\n      <td>3.70</td>\n    </tr>\n    <tr>\n      <th>2019-12-01</th>\n      <td>29918.0</td>\n      <td>300790.0</td>\n      <td>3.0</td>\n      <td>3.72</td>\n    </tr>\n    <tr>\n      <th>2020-01-01</th>\n      <td>21039.0</td>\n      <td>277988.0</td>\n      <td>3.0</td>\n      <td>3.62</td>\n    </tr>\n    <tr>\n      <th>2020-02-01</th>\n      <td>24879.0</td>\n      <td>291856.0</td>\n      <td>3.0</td>\n      <td>3.47</td>\n    </tr>\n    <tr>\n      <th>2020-03-01</th>\n      <td>30801.0</td>\n      <td>298052.0</td>\n      <td>3.0</td>\n      <td>3.45</td>\n    </tr>\n    <tr>\n      <th>2020-04-01</th>\n      <td>26106.0</td>\n      <td>295209.0</td>\n      <td>3.0</td>\n      <td>3.31</td>\n    </tr>\n    <tr>\n      <th>2020-05-01</th>\n      <td>27438.0</td>\n      <td>293194.0</td>\n      <td>3.0</td>\n      <td>3.23</td>\n    </tr>\n    <tr>\n      <th>2020-06-01</th>\n      <td>38639.0</td>\n      <td>311898.0</td>\n      <td>2.0</td>\n      <td>3.16</td>\n    </tr>\n    <tr>\n      <th>2020-07-01</th>\n      <td>43877.0</td>\n      <td>327755.0</td>\n      <td>2.0</td>\n      <td>3.02</td>\n    </tr>\n    <tr>\n      <th>2020-08-01</th>\n      <td>38384.0</td>\n      <td>326014.0</td>\n      <td>2.0</td>\n      <td>2.94</td>\n    </tr>\n    <tr>\n      <th>2020-09-01</th>\n      <td>37114.0</td>\n      <td>325532.0</td>\n      <td>2.0</td>\n      <td>2.89</td>\n    </tr>\n    <tr>\n      <th>2020-10-01</th>\n      <td>36610.0</td>\n      <td>330585.0</td>\n      <td>2.0</td>\n      <td>2.83</td>\n    </tr>\n    <tr>\n      <th>2020-11-01</th>\n      <td>31788.0</td>\n      <td>333080.0</td>\n      <td>1.0</td>\n      <td>2.77</td>\n    </tr>\n  </tbody>\n</table>\n<p>131 rows × 4 columns</p>\n</div>"
     },
     "metadata": {},
     "execution_count": 117
    }
   ],
   "source": [
    "df= df.dropna()\n",
    "df"
   ]
  },
  {
   "cell_type": "code",
   "execution_count": 118,
   "metadata": {},
   "outputs": [
    {
     "output_type": "execute_result",
     "data": {
      "text/plain": [
       "Index(['Sales', 'Average', 'Months', 'rate'], dtype='object')"
      ]
     },
     "metadata": {},
     "execution_count": 118
    }
   ],
   "source": [
    "df.columns"
   ]
  },
  {
   "cell_type": "code",
   "execution_count": 119,
   "metadata": {},
   "outputs": [],
   "source": [
    "# Creating the X and y sets\n",
    "X = df.drop('Sales',axis=1)\n",
    "y = df[\"Sales\"].values"
   ]
  },
  {
   "cell_type": "code",
   "execution_count": 103,
   "metadata": {},
   "outputs": [
    {
     "output_type": "error",
     "ename": "AttributeError",
     "evalue": "'DataFrame' object has no attribute 'reshape'",
     "traceback": [
      "\u001b[1;31m---------------------------------------------------------------------------\u001b[0m",
      "\u001b[1;31mAttributeError\u001b[0m                            Traceback (most recent call last)",
      "\u001b[1;32m<ipython-input-103-7ee6cfd1af0f>\u001b[0m in \u001b[0;36m<module>\u001b[1;34m\u001b[0m\n\u001b[1;32m----> 1\u001b[1;33m \u001b[0mX\u001b[0m\u001b[1;33m.\u001b[0m\u001b[0mreshape\u001b[0m\u001b[1;33m(\u001b[0m\u001b[1;33m-\u001b[0m\u001b[1;36m1\u001b[0m\u001b[1;33m,\u001b[0m\u001b[1;36m1\u001b[0m\u001b[1;33m)\u001b[0m\u001b[1;33m\u001b[0m\u001b[1;33m\u001b[0m\u001b[0m\n\u001b[0m",
      "\u001b[1;32m~\\anaconda3\\envs\\pyvizenv\\lib\\site-packages\\pandas\\core\\generic.py\u001b[0m in \u001b[0;36m__getattr__\u001b[1;34m(self, name)\u001b[0m\n\u001b[0;32m   5065\u001b[0m             \u001b[1;32mif\u001b[0m \u001b[0mself\u001b[0m\u001b[1;33m.\u001b[0m\u001b[0m_info_axis\u001b[0m\u001b[1;33m.\u001b[0m\u001b[0m_can_hold_identifiers_and_holds_name\u001b[0m\u001b[1;33m(\u001b[0m\u001b[0mname\u001b[0m\u001b[1;33m)\u001b[0m\u001b[1;33m:\u001b[0m\u001b[1;33m\u001b[0m\u001b[1;33m\u001b[0m\u001b[0m\n\u001b[0;32m   5066\u001b[0m                 \u001b[1;32mreturn\u001b[0m \u001b[0mself\u001b[0m\u001b[1;33m[\u001b[0m\u001b[0mname\u001b[0m\u001b[1;33m]\u001b[0m\u001b[1;33m\u001b[0m\u001b[1;33m\u001b[0m\u001b[0m\n\u001b[1;32m-> 5067\u001b[1;33m             \u001b[1;32mreturn\u001b[0m \u001b[0mobject\u001b[0m\u001b[1;33m.\u001b[0m\u001b[0m__getattribute__\u001b[0m\u001b[1;33m(\u001b[0m\u001b[0mself\u001b[0m\u001b[1;33m,\u001b[0m \u001b[0mname\u001b[0m\u001b[1;33m)\u001b[0m\u001b[1;33m\u001b[0m\u001b[1;33m\u001b[0m\u001b[0m\n\u001b[0m\u001b[0;32m   5068\u001b[0m \u001b[1;33m\u001b[0m\u001b[0m\n\u001b[0;32m   5069\u001b[0m     \u001b[1;32mdef\u001b[0m \u001b[0m__setattr__\u001b[0m\u001b[1;33m(\u001b[0m\u001b[0mself\u001b[0m\u001b[1;33m,\u001b[0m \u001b[0mname\u001b[0m\u001b[1;33m,\u001b[0m \u001b[0mvalue\u001b[0m\u001b[1;33m)\u001b[0m\u001b[1;33m:\u001b[0m\u001b[1;33m\u001b[0m\u001b[1;33m\u001b[0m\u001b[0m\n",
      "\u001b[1;31mAttributeError\u001b[0m: 'DataFrame' object has no attribute 'reshape'"
     ]
    }
   ],
   "source": [
    "X.reshape(-1,1)"
   ]
  },
  {
   "cell_type": "code",
   "execution_count": 110,
   "metadata": {},
   "outputs": [],
   "source": [
    "#X=X.reshape(-1,1)\n",
    "#predicted"
   ]
  },
  {
   "cell_type": "code",
   "execution_count": 120,
   "metadata": {},
   "outputs": [],
   "source": [
    "# Creating training, validation, and testing sets\n",
    "from sklearn.model_selection import train_test_split\n",
    "\n",
    "X_train, X_test, y_train, y_test = train_test_split(X, y, test_size= 0.2, train_size= 0.8, random_state=0)"
   ]
  },
  {
   "cell_type": "code",
   "execution_count": 104,
   "metadata": {},
   "outputs": [],
   "source": [
    "#X_train"
   ]
  },
  {
   "cell_type": "code",
   "execution_count": 67,
   "metadata": {},
   "outputs": [],
   "source": [
    "#X_train[0]"
   ]
  },
  {
   "cell_type": "code",
   "execution_count": 121,
   "metadata": {},
   "outputs": [],
   "source": [
    "#X_train=X_train.reshape(-1,1)"
   ]
  },
  {
   "cell_type": "code",
   "execution_count": 122,
   "metadata": {},
   "outputs": [],
   "source": [
    "# Import the StandardScaler from sklearn\n",
    "from sklearn.preprocessing import StandardScaler\n",
    "\n",
    "# Scale the data\n",
    "scaler_train = StandardScaler().fit(X_train)\n",
    "X_train_scaled = scaler_train.transform(X_train)\n",
    "scaler_test = StandardScaler().fit(X_test)\n",
    "X_test_scaled = scaler_test.transform(X_test)"
   ]
  },
  {
   "cell_type": "code",
   "execution_count": 73,
   "metadata": {},
   "outputs": [],
   "source": [
    "#X_train[0]"
   ]
  },
  {
   "cell_type": "code",
   "execution_count": 79,
   "metadata": {},
   "outputs": [],
   "source": [
    "#X_test=X_test.reshape(-1,1)"
   ]
  },
  {
   "cell_type": "code",
   "execution_count": 75,
   "metadata": {},
   "outputs": [],
   "source": [
    "# Import the StandardScaler from sklearn\n",
    "#from sklearn.preprocessing import StandardScaler\n",
    "#from sklearn.preprocessing import MinMaxScaler\n",
    "\n",
    "# Scale the data\n",
    "#scaler = MinMaxScaler().fit(X_train)\n",
    "#X_scaled_train = scaler.transform(X_train)\n",
    "#X_scaled_test = scaler.transform(X_test)"
   ]
  },
  {
   "cell_type": "code",
   "execution_count": 123,
   "metadata": {},
   "outputs": [],
   "source": [
    "from tensorflow.keras.models import Sequential\n",
    "from tensorflow.keras.layers import LSTM, Dense, Dropout"
   ]
  },
  {
   "cell_type": "code",
   "execution_count": 124,
   "metadata": {},
   "outputs": [],
   "source": [
    "# Model set-up\n",
    "number_input_features = 3\n",
    "hidden_nodes_layer1 = 40\n",
    "\n",
    "hidden_nodes_layer2 = 20"
   ]
  },
  {
   "cell_type": "code",
   "execution_count": 125,
   "metadata": {},
   "outputs": [],
   "source": [
    "# Define the model\n",
    "model = Sequential()\n",
    "\n",
    "# Layer 1\n",
    "model.add(\n",
    "   Dense(units=hidden_nodes_layer1, input_dim=number_input_features, activation=\"relu\"))\n",
    "\n",
    "# Layer 2\n",
    "model.add(Dense(units=hidden_nodes_layer2, activation=\"relu\"))\n",
    "\n",
    "# Output layer\n",
    "model.add(Dense(1, activation=\"linear\"))"
   ]
  },
  {
   "cell_type": "code",
   "execution_count": 126,
   "metadata": {},
   "outputs": [
    {
     "output_type": "execute_result",
     "data": {
      "text/plain": [
       "(3, 1)"
      ]
     },
     "metadata": {},
     "execution_count": 126
    }
   ],
   "source": [
    "(X_train.shape[1], 1)"
   ]
  },
  {
   "cell_type": "code",
   "execution_count": 82,
   "metadata": {},
   "outputs": [],
   "source": [
    "# model = Sequential()\n",
    "# number_units = 5\n",
    "# dropout_fraction = 0.2\n",
    "# # Layer 1\n",
    "# model.add(LSTM(\n",
    "#     units=number_units,\n",
    "#     return_sequences=True,\n",
    "#     input_shape=(X_train.shape[1], 1))\n",
    "#     )\n",
    "# model.add(Dropout(dropout_fraction))\n",
    "# # Layer 2\n",
    "# model.add(LSTM(units=number_units, return_sequences=True))\n",
    "# model.add(Dropout(dropout_fraction))\n",
    "# # Layer 3\n",
    "# model.add(LSTM(units=number_units))\n",
    "# model.add(Dropout(dropout_fraction))\n",
    "# # Output layer\n",
    "# model.add(Dense(1))"
   ]
  },
  {
   "cell_type": "code",
   "execution_count": 127,
   "metadata": {},
   "outputs": [],
   "source": [
    "# Compile the model\n",
    "model.compile(\n",
    "    loss= \"mean_squared_error\",\n",
    "    optimizer=\"adam\",\n",
    "    metrics= ['accuracy']\n",
    "   \n",
    ")"
   ]
  },
  {
   "cell_type": "code",
   "execution_count": 128,
   "metadata": {},
   "outputs": [
    {
     "output_type": "stream",
     "name": "stdout",
     "text": [
      "Model: \"sequential_4\"\n_________________________________________________________________\nLayer (type)                 Output Shape              Param #   \n=================================================================\ndense_6 (Dense)              (None, 40)                160       \n_________________________________________________________________\ndense_7 (Dense)              (None, 20)                820       \n_________________________________________________________________\ndense_8 (Dense)              (None, 1)                 21        \n=================================================================\nTotal params: 1,001\nTrainable params: 1,001\nNon-trainable params: 0\n_________________________________________________________________\n"
     ]
    }
   ],
   "source": [
    "# Summarize the model\n",
    "model.summary()"
   ]
  },
  {
   "cell_type": "code",
   "execution_count": 129,
   "metadata": {
    "tags": []
   },
   "outputs": [
    {
     "output_type": "error",
     "ename": "ValueError",
     "evalue": "Data cardinality is ambiguous:\n  x sizes: 105\n  y sizes: 104\nMake sure all arrays contain the same number of samples.",
     "traceback": [
      "\u001b[1;31m---------------------------------------------------------------------------\u001b[0m",
      "\u001b[1;31mValueError\u001b[0m                                Traceback (most recent call last)",
      "\u001b[1;32m<ipython-input-129-f8d038163f4b>\u001b[0m in \u001b[0;36m<module>\u001b[1;34m\u001b[0m\n\u001b[0;32m      7\u001b[0m     \u001b[0mepochs\u001b[0m\u001b[1;33m=\u001b[0m\u001b[0mepochs\u001b[0m\u001b[1;33m,\u001b[0m\u001b[1;33m\u001b[0m\u001b[1;33m\u001b[0m\u001b[0m\n\u001b[0;32m      8\u001b[0m     \u001b[0mbatch_size\u001b[0m\u001b[1;33m=\u001b[0m\u001b[0mbatch_size\u001b[0m\u001b[1;33m,\u001b[0m\u001b[1;33m\u001b[0m\u001b[1;33m\u001b[0m\u001b[0m\n\u001b[1;32m----> 9\u001b[1;33m     \u001b[0mverbose\u001b[0m\u001b[1;33m=\u001b[0m\u001b[1;36m1\u001b[0m\u001b[1;33m,\u001b[0m\u001b[1;33m\u001b[0m\u001b[1;33m\u001b[0m\u001b[0m\n\u001b[0m\u001b[0;32m     10\u001b[0m )\n",
      "\u001b[1;32m~\\anaconda3\\envs\\pyvizenv\\lib\\site-packages\\tensorflow\\python\\keras\\engine\\training.py\u001b[0m in \u001b[0;36mfit\u001b[1;34m(self, x, y, batch_size, epochs, verbose, callbacks, validation_split, validation_data, shuffle, class_weight, sample_weight, initial_epoch, steps_per_epoch, validation_steps, validation_batch_size, validation_freq, max_queue_size, workers, use_multiprocessing)\u001b[0m\n\u001b[0;32m   1062\u001b[0m           \u001b[0muse_multiprocessing\u001b[0m\u001b[1;33m=\u001b[0m\u001b[0muse_multiprocessing\u001b[0m\u001b[1;33m,\u001b[0m\u001b[1;33m\u001b[0m\u001b[1;33m\u001b[0m\u001b[0m\n\u001b[0;32m   1063\u001b[0m           \u001b[0mmodel\u001b[0m\u001b[1;33m=\u001b[0m\u001b[0mself\u001b[0m\u001b[1;33m,\u001b[0m\u001b[1;33m\u001b[0m\u001b[1;33m\u001b[0m\u001b[0m\n\u001b[1;32m-> 1064\u001b[1;33m           steps_per_execution=self._steps_per_execution)\n\u001b[0m\u001b[0;32m   1065\u001b[0m \u001b[1;33m\u001b[0m\u001b[0m\n\u001b[0;32m   1066\u001b[0m       \u001b[1;31m# Container that configures and calls `tf.keras.Callback`s.\u001b[0m\u001b[1;33m\u001b[0m\u001b[1;33m\u001b[0m\u001b[1;33m\u001b[0m\u001b[0m\n",
      "\u001b[1;32m~\\anaconda3\\envs\\pyvizenv\\lib\\site-packages\\tensorflow\\python\\keras\\engine\\data_adapter.py\u001b[0m in \u001b[0;36m__init__\u001b[1;34m(self, x, y, sample_weight, batch_size, steps_per_epoch, initial_epoch, epochs, shuffle, class_weight, max_queue_size, workers, use_multiprocessing, model, steps_per_execution)\u001b[0m\n\u001b[0;32m   1110\u001b[0m         \u001b[0muse_multiprocessing\u001b[0m\u001b[1;33m=\u001b[0m\u001b[0muse_multiprocessing\u001b[0m\u001b[1;33m,\u001b[0m\u001b[1;33m\u001b[0m\u001b[1;33m\u001b[0m\u001b[0m\n\u001b[0;32m   1111\u001b[0m         \u001b[0mdistribution_strategy\u001b[0m\u001b[1;33m=\u001b[0m\u001b[0mds_context\u001b[0m\u001b[1;33m.\u001b[0m\u001b[0mget_strategy\u001b[0m\u001b[1;33m(\u001b[0m\u001b[1;33m)\u001b[0m\u001b[1;33m,\u001b[0m\u001b[1;33m\u001b[0m\u001b[1;33m\u001b[0m\u001b[0m\n\u001b[1;32m-> 1112\u001b[1;33m         model=model)\n\u001b[0m\u001b[0;32m   1113\u001b[0m \u001b[1;33m\u001b[0m\u001b[0m\n\u001b[0;32m   1114\u001b[0m     \u001b[0mstrategy\u001b[0m \u001b[1;33m=\u001b[0m \u001b[0mds_context\u001b[0m\u001b[1;33m.\u001b[0m\u001b[0mget_strategy\u001b[0m\u001b[1;33m(\u001b[0m\u001b[1;33m)\u001b[0m\u001b[1;33m\u001b[0m\u001b[1;33m\u001b[0m\u001b[0m\n",
      "\u001b[1;32m~\\anaconda3\\envs\\pyvizenv\\lib\\site-packages\\tensorflow\\python\\keras\\engine\\data_adapter.py\u001b[0m in \u001b[0;36m__init__\u001b[1;34m(self, x, y, sample_weights, sample_weight_modes, batch_size, epochs, steps, shuffle, **kwargs)\u001b[0m\n\u001b[0;32m    272\u001b[0m \u001b[1;33m\u001b[0m\u001b[0m\n\u001b[0;32m    273\u001b[0m     \u001b[0mnum_samples\u001b[0m \u001b[1;33m=\u001b[0m \u001b[0mset\u001b[0m\u001b[1;33m(\u001b[0m\u001b[0mint\u001b[0m\u001b[1;33m(\u001b[0m\u001b[0mi\u001b[0m\u001b[1;33m.\u001b[0m\u001b[0mshape\u001b[0m\u001b[1;33m[\u001b[0m\u001b[1;36m0\u001b[0m\u001b[1;33m]\u001b[0m\u001b[1;33m)\u001b[0m \u001b[1;32mfor\u001b[0m \u001b[0mi\u001b[0m \u001b[1;32min\u001b[0m \u001b[0mnest\u001b[0m\u001b[1;33m.\u001b[0m\u001b[0mflatten\u001b[0m\u001b[1;33m(\u001b[0m\u001b[0minputs\u001b[0m\u001b[1;33m)\u001b[0m\u001b[1;33m)\u001b[0m\u001b[1;33m.\u001b[0m\u001b[0mpop\u001b[0m\u001b[1;33m(\u001b[0m\u001b[1;33m)\u001b[0m\u001b[1;33m\u001b[0m\u001b[1;33m\u001b[0m\u001b[0m\n\u001b[1;32m--> 274\u001b[1;33m     \u001b[0m_check_data_cardinality\u001b[0m\u001b[1;33m(\u001b[0m\u001b[0minputs\u001b[0m\u001b[1;33m)\u001b[0m\u001b[1;33m\u001b[0m\u001b[1;33m\u001b[0m\u001b[0m\n\u001b[0m\u001b[0;32m    275\u001b[0m \u001b[1;33m\u001b[0m\u001b[0m\n\u001b[0;32m    276\u001b[0m     \u001b[1;31m# If batch_size is not passed but steps is, calculate from the input data.\u001b[0m\u001b[1;33m\u001b[0m\u001b[1;33m\u001b[0m\u001b[1;33m\u001b[0m\u001b[0m\n",
      "\u001b[1;32m~\\anaconda3\\envs\\pyvizenv\\lib\\site-packages\\tensorflow\\python\\keras\\engine\\data_adapter.py\u001b[0m in \u001b[0;36m_check_data_cardinality\u001b[1;34m(data)\u001b[0m\n\u001b[0;32m   1527\u001b[0m           label, \", \".join(str(i.shape[0]) for i in nest.flatten(single_data)))\n\u001b[0;32m   1528\u001b[0m     \u001b[0mmsg\u001b[0m \u001b[1;33m+=\u001b[0m \u001b[1;34m\"Make sure all arrays contain the same number of samples.\"\u001b[0m\u001b[1;33m\u001b[0m\u001b[1;33m\u001b[0m\u001b[0m\n\u001b[1;32m-> 1529\u001b[1;33m     \u001b[1;32mraise\u001b[0m \u001b[0mValueError\u001b[0m\u001b[1;33m(\u001b[0m\u001b[0mmsg\u001b[0m\u001b[1;33m)\u001b[0m\u001b[1;33m\u001b[0m\u001b[1;33m\u001b[0m\u001b[0m\n\u001b[0m\u001b[0;32m   1530\u001b[0m \u001b[1;33m\u001b[0m\u001b[0m\n\u001b[0;32m   1531\u001b[0m \u001b[1;33m\u001b[0m\u001b[0m\n",
      "\u001b[1;31mValueError\u001b[0m: Data cardinality is ambiguous:\n  x sizes: 105\n  y sizes: 104\nMake sure all arrays contain the same number of samples."
     ]
    }
   ],
   "source": [
    "# Training the model\n",
    "batch_size = 10\n",
    "epochs = 1000\n",
    "training_history = model.fit(\n",
    "    X_scaled_train,\n",
    "    y_train,\n",
    "    epochs=epochs,\n",
    "    batch_size=batch_size,\n",
    "    verbose=1,\n",
    ")"
   ]
  },
  {
   "cell_type": "code",
   "execution_count": 130,
   "metadata": {},
   "outputs": [
    {
     "output_type": "stream",
     "name": "stdout",
     "text": [
      "1/1 [==============================] - 0s 214ms/step - loss: 578398336.0000 - accuracy: 0.0000e+00\n"
     ]
    },
    {
     "output_type": "execute_result",
     "data": {
      "text/plain": [
       "[578398336.0, 0.0]"
      ]
     },
     "metadata": {},
     "execution_count": 130
    }
   ],
   "source": [
    "# Evaluate the model\n",
    "model.evaluate(X_scaled_test, y_test, verbose=1)"
   ]
  },
  {
   "cell_type": "code",
   "execution_count": 108,
   "metadata": {},
   "outputs": [],
   "source": [
    "#X_scaled_test\n"
   ]
  },
  {
   "cell_type": "code",
   "execution_count": 131,
   "metadata": {},
   "outputs": [],
   "source": [
    "# Make predictions using the testing data X_test\n",
    "predicted = model.predict(X_scaled_test)\n",
    "#predicted"
   ]
  },
  {
   "cell_type": "code",
   "execution_count": 132,
   "metadata": {},
   "outputs": [
    {
     "output_type": "execute_result",
     "data": {
      "text/plain": [
       "             Actual  Predicted\n",
       "Date                          \n",
       "2018-09-01  16050.0   0.093415\n",
       "2018-10-01  18777.0   0.108563\n",
       "2018-11-01  31518.0   0.156993\n",
       "2018-12-01  25149.0   0.215989\n",
       "2019-01-01  25771.0   0.119767"
      ],
      "text/html": "<div>\n<style scoped>\n    .dataframe tbody tr th:only-of-type {\n        vertical-align: middle;\n    }\n\n    .dataframe tbody tr th {\n        vertical-align: top;\n    }\n\n    .dataframe thead th {\n        text-align: right;\n    }\n</style>\n<table border=\"1\" class=\"dataframe\">\n  <thead>\n    <tr style=\"text-align: right;\">\n      <th></th>\n      <th>Actual</th>\n      <th>Predicted</th>\n    </tr>\n    <tr>\n      <th>Date</th>\n      <th></th>\n      <th></th>\n    </tr>\n  </thead>\n  <tbody>\n    <tr>\n      <th>2018-09-01</th>\n      <td>16050.0</td>\n      <td>0.093415</td>\n    </tr>\n    <tr>\n      <th>2018-10-01</th>\n      <td>18777.0</td>\n      <td>0.108563</td>\n    </tr>\n    <tr>\n      <th>2018-11-01</th>\n      <td>31518.0</td>\n      <td>0.156993</td>\n    </tr>\n    <tr>\n      <th>2018-12-01</th>\n      <td>25149.0</td>\n      <td>0.215989</td>\n    </tr>\n    <tr>\n      <th>2019-01-01</th>\n      <td>25771.0</td>\n      <td>0.119767</td>\n    </tr>\n  </tbody>\n</table>\n</div>"
     },
     "metadata": {},
     "execution_count": 132
    }
   ],
   "source": [
    "# Create a DataFrame of Real and Predicted values\n",
    "df_model = pd.DataFrame({\n",
    "    \"Actual\": y_test.ravel(),\n",
    "    \"Predicted\": predicted.ravel()\n",
    "}, index = df.index[-len(y_test): ]) \n",
    "\n",
    "# Show the DataFrame's head\n",
    "df_model.head()"
   ]
  },
  {
   "cell_type": "code",
   "execution_count": 133,
   "metadata": {},
   "outputs": [
    {
     "output_type": "error",
     "ename": "NameError",
     "evalue": "name 'salese__pred_20' is not defined",
     "traceback": [
      "\u001b[1;31m---------------------------------------------------------------------------\u001b[0m",
      "\u001b[1;31mNameError\u001b[0m                                 Traceback (most recent call last)",
      "\u001b[1;32m<ipython-input-133-caf45c378f14>\u001b[0m in \u001b[0;36m<module>\u001b[1;34m\u001b[0m\n\u001b[0;32m      1\u001b[0m \u001b[0msales_pred_20\u001b[0m\u001b[1;33m=\u001b[0m \u001b[0mdf_model\u001b[0m\u001b[1;33m[\u001b[0m\u001b[1;33m:\u001b[0m\u001b[1;36m20\u001b[0m\u001b[1;33m]\u001b[0m\u001b[1;33m\u001b[0m\u001b[1;33m\u001b[0m\u001b[0m\n\u001b[1;32m----> 2\u001b[1;33m \u001b[0msalese__pred_20\u001b[0m\u001b[1;33m\u001b[0m\u001b[1;33m\u001b[0m\u001b[0m\n\u001b[0m",
      "\u001b[1;31mNameError\u001b[0m: name 'salese__pred_20' is not defined"
     ]
    }
   ],
   "source": [
    "sales_pred_20= df_model[:20]\n",
    "salese__pred_20"
   ]
  },
  {
   "cell_type": "code",
   "execution_count": null,
   "metadata": {},
   "outputs": [],
   "source": [
    "# Plot the real vs predicted prices as a line chart"
   ]
  }
 ],
 "metadata": {
  "file_extension": ".py",
  "kernelspec": {
   "name": "python3",
   "display_name": "Python 3.7.7 64-bit ('pyvizenv': conda)",
   "metadata": {
    "interpreter": {
     "hash": "c3c06777d2d3a090de4d2535f4f1b119177f34ac2cf7c8075bb72b3b1efd8194"
    }
   }
  },
  "language_info": {
   "codemirror_mode": {
    "name": "ipython",
    "version": 3
   },
   "file_extension": ".py",
   "mimetype": "text/x-python",
   "name": "python",
   "nbconvert_exporter": "python",
   "pygments_lexer": "ipython3",
   "version": "3.7.7-final"
  },
  "mimetype": "text/x-python",
  "name": "python",
  "npconvert_exporter": "python",
  "pygments_lexer": "ipython3",
  "version": 3
 },
 "nbformat": 4,
 "nbformat_minor": 4
}