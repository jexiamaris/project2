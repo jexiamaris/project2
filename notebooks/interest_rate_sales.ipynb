{
 "cells": [
  {
   "cell_type": "code",
   "execution_count": 35,
   "metadata": {},
   "outputs": [],
   "source": [
    "#Initial imports\n",
    "import pandas as pd\n",
    "import numpy as np\n",
    "import matplotlib.pyplot as plt\n",
    "import tensorflow as tf\n",
    "from pathlib import Path\n",
    "\n",
    "%matplotlib inline"
   ]
  },
  {
   "cell_type": "code",
   "execution_count": 36,
   "metadata": {},
   "outputs": [],
   "source": [
    "#Import Data\n",
    "#mortgage = pd.read_csv('../data/raw_data/30yr_fixed_mortgage_rate.csv')\n",
    "sales = pd.read_csv(Path(\"../data/raw_data/house_sales_by_month.csv\"),\n",
    "index_col=\"Date\", parse_dates=True, infer_datetime_format=True)  \n",
    "fixed_rate = pd.read_csv(Path(\"../data/raw_data/30yr_fixed_mortgage_rate.csv\"), encoding='latin1',   index_col=\"Date\", parse_dates=True, infer_datetime_format=True)\n"
   ]
  },
  {
   "cell_type": "code",
   "execution_count": 37,
   "metadata": {},
   "outputs": [],
   "source": [
    "sales= sales.drop(columns=([\"Dollar\", \"Median\", \"Total\"]))\r\n",
    "#sales"
   ]
  },
  {
   "cell_type": "code",
   "execution_count": 38,
   "metadata": {},
   "outputs": [],
   "source": [
    "#sales"
   ]
  },
  {
   "cell_type": "code",
   "execution_count": 39,
   "metadata": {},
   "outputs": [],
   "source": [
    "#sales=sales[\"Sales\"].str.replace(\",\",\"\")\n",
    "#sales"
   ]
  },
  {
   "cell_type": "code",
   "execution_count": 40,
   "metadata": {},
   "outputs": [],
   "source": [
    "fixed_rate =fixed_rate.astype(float)\n",
    "sales =sales.astype(int)"
   ]
  },
  {
   "cell_type": "code",
   "execution_count": 41,
   "metadata": {},
   "outputs": [
    {
     "output_type": "execute_result",
     "data": {
      "text/plain": [
       "Sales      int32\n",
       "Average    int32\n",
       "Months     int32\n",
       "dtype: object"
      ]
     },
     "metadata": {},
     "execution_count": 41
    }
   ],
   "source": [
    "sales.dtypes"
   ]
  },
  {
   "cell_type": "code",
   "execution_count": 42,
   "metadata": {},
   "outputs": [
    {
     "output_type": "execute_result",
     "data": {
      "text/plain": [
       "rate    float64\n",
       "dtype: object"
      ]
     },
     "metadata": {},
     "execution_count": 42
    }
   ],
   "source": [
    "fixed_rate.dtypes"
   ]
  },
  {
   "cell_type": "code",
   "execution_count": 43,
   "metadata": {},
   "outputs": [
    {
     "output_type": "execute_result",
     "data": {
      "text/plain": [
       "              Sales   Average  Months  rate\n",
       "Date                                       \n",
       "2010-01-01  10797.0  176298.0     6.0  5.03\n",
       "2010-02-01  13781.0  179474.0     7.0  4.99\n",
       "2010-03-01  20465.0  183981.0     7.0  4.97\n",
       "2010-04-01  22893.0  184048.0     7.0  5.10\n",
       "2010-05-01  23812.0  188041.0     7.0  4.89"
      ],
      "text/html": "<div>\n<style scoped>\n    .dataframe tbody tr th:only-of-type {\n        vertical-align: middle;\n    }\n\n    .dataframe tbody tr th {\n        vertical-align: top;\n    }\n\n    .dataframe thead th {\n        text-align: right;\n    }\n</style>\n<table border=\"1\" class=\"dataframe\">\n  <thead>\n    <tr style=\"text-align: right;\">\n      <th></th>\n      <th>Sales</th>\n      <th>Average</th>\n      <th>Months</th>\n      <th>rate</th>\n    </tr>\n    <tr>\n      <th>Date</th>\n      <th></th>\n      <th></th>\n      <th></th>\n      <th></th>\n    </tr>\n  </thead>\n  <tbody>\n    <tr>\n      <th>2010-01-01</th>\n      <td>10797.0</td>\n      <td>176298.0</td>\n      <td>6.0</td>\n      <td>5.03</td>\n    </tr>\n    <tr>\n      <th>2010-02-01</th>\n      <td>13781.0</td>\n      <td>179474.0</td>\n      <td>7.0</td>\n      <td>4.99</td>\n    </tr>\n    <tr>\n      <th>2010-03-01</th>\n      <td>20465.0</td>\n      <td>183981.0</td>\n      <td>7.0</td>\n      <td>4.97</td>\n    </tr>\n    <tr>\n      <th>2010-04-01</th>\n      <td>22893.0</td>\n      <td>184048.0</td>\n      <td>7.0</td>\n      <td>5.10</td>\n    </tr>\n    <tr>\n      <th>2010-05-01</th>\n      <td>23812.0</td>\n      <td>188041.0</td>\n      <td>7.0</td>\n      <td>4.89</td>\n    </tr>\n  </tbody>\n</table>\n</div>"
     },
     "metadata": {},
     "execution_count": 43
    }
   ],
   "source": [
    "# merge dataframes on Date\n",
    "df =pd.merge (sales, fixed_rate, on='Date', how='outer')\n",
    "df.head()"
   ]
  },
  {
   "cell_type": "code",
   "execution_count": 44,
   "metadata": {},
   "outputs": [
    {
     "output_type": "execute_result",
     "data": {
      "text/plain": [
       "              Sales   Average  Months  rate\n",
       "Date                                       \n",
       "2010-01-01  10797.0  176298.0     6.0  5.03\n",
       "2010-02-01  13781.0  179474.0     7.0  4.99\n",
       "2010-03-01  20465.0  183981.0     7.0  4.97\n",
       "2010-04-01  22893.0  184048.0     7.0  5.10\n",
       "2010-05-01  23812.0  188041.0     7.0  4.89\n",
       "2010-06-01  22864.0  201367.0     7.0  4.74\n",
       "2010-07-01  17336.0  204912.0     8.0  4.56\n",
       "2010-08-01  17831.0  197616.0     8.0  4.43\n",
       "2010-09-01  16050.0  189384.0     8.0  4.35\n",
       "2010-10-01  14990.0  187695.0     8.0  4.23\n",
       "2010-11-01  14398.0  192416.0     7.0  4.30\n",
       "2010-12-01  16423.0  200295.0     7.0  4.71\n",
       "2011-01-01  11469.0  180918.0     7.0  4.76\n",
       "2011-02-01  12790.0  188328.0     7.0  4.95\n",
       "2011-03-01  18508.0  189835.0     8.0  4.84\n",
       "2011-04-01  18978.0  189863.0     8.0  4.84\n",
       "2011-05-01  20491.0  197741.0     8.0  4.64\n",
       "2011-06-01  22851.0  202571.0     8.0  4.51\n",
       "2011-07-01  20399.0  198664.0     8.0  4.55\n",
       "2011-08-01  22125.0  196246.0     7.0  4.27\n",
       "2011-09-01  18648.0  190401.0     7.0  4.11\n",
       "2011-10-01  16533.0  188628.0     7.0  4.07\n",
       "2011-11-01  15651.0  186582.0     6.0  3.99\n",
       "2011-12-01  17265.0  194970.0     6.0  3.96\n",
       "2012-01-01  12613.0  178526.0     6.0  3.92\n",
       "2012-02-01  15485.0  186481.0     6.0  3.89\n",
       "2012-03-01  20050.0  198812.0     6.0  3.95\n",
       "2012-04-01  20778.0  203741.0     6.0  3.91\n",
       "2012-05-01  24375.0  212712.0     6.0  3.80\n",
       "2012-06-01  25507.0  214451.0     6.0  3.68\n",
       "...             ...       ...     ...   ...\n",
       "2018-06-01  35605.0  297236.0     3.0  4.57\n",
       "2018-07-01  33920.0  288864.0     3.0  4.53\n",
       "2018-08-01  34196.0  287179.0     3.0  4.55\n",
       "2018-09-01  26809.0  279401.0     3.0  4.63\n",
       "2018-10-01  27368.0  276703.0     3.0  4.83\n",
       "2018-11-01  25149.0  280205.0     3.0  4.87\n",
       "2018-12-01  25819.0  284619.0     3.0  4.64\n",
       "2019-01-01  18107.0  264238.0     3.0  4.46\n",
       "2019-02-01  22671.0  271353.0     3.0  4.37\n",
       "2019-03-01  29547.0  284797.0     3.0  4.27\n",
       "2019-04-01  32102.0  291993.0     3.0  4.14\n",
       "2019-05-01  36712.0  302866.0     3.0  4.07\n",
       "2019-06-01  34101.0  305850.0     3.0  3.80\n",
       "2019-07-01  36279.0  297145.0     3.0  3.77\n",
       "2019-08-01  35477.0  293648.0     3.0  3.62\n",
       "2019-09-01  29220.0  288659.0     3.0  3.61\n",
       "2019-10-01  29473.0  289816.0     3.0  3.69\n",
       "2019-11-01  25811.0  286048.0     3.0  3.70\n",
       "2019-12-01  29918.0  300790.0     3.0  3.72\n",
       "2020-01-01  21039.0  277988.0     3.0  3.62\n",
       "2020-02-01  24879.0  291856.0     3.0  3.47\n",
       "2020-03-01  30801.0  298052.0     3.0  3.45\n",
       "2020-04-01  26106.0  295209.0     3.0  3.31\n",
       "2020-05-01  27438.0  293194.0     3.0  3.23\n",
       "2020-06-01  38639.0  311898.0     2.0  3.16\n",
       "2020-07-01  43877.0  327755.0     2.0  3.02\n",
       "2020-08-01  38384.0  326014.0     2.0  2.94\n",
       "2020-09-01  37114.0  325532.0     2.0  2.89\n",
       "2020-10-01  36610.0  330585.0     2.0  2.83\n",
       "2020-11-01  31788.0  333080.0     1.0  2.77\n",
       "\n",
       "[131 rows x 4 columns]"
      ],
      "text/html": "<div>\n<style scoped>\n    .dataframe tbody tr th:only-of-type {\n        vertical-align: middle;\n    }\n\n    .dataframe tbody tr th {\n        vertical-align: top;\n    }\n\n    .dataframe thead th {\n        text-align: right;\n    }\n</style>\n<table border=\"1\" class=\"dataframe\">\n  <thead>\n    <tr style=\"text-align: right;\">\n      <th></th>\n      <th>Sales</th>\n      <th>Average</th>\n      <th>Months</th>\n      <th>rate</th>\n    </tr>\n    <tr>\n      <th>Date</th>\n      <th></th>\n      <th></th>\n      <th></th>\n      <th></th>\n    </tr>\n  </thead>\n  <tbody>\n    <tr>\n      <th>2010-01-01</th>\n      <td>10797.0</td>\n      <td>176298.0</td>\n      <td>6.0</td>\n      <td>5.03</td>\n    </tr>\n    <tr>\n      <th>2010-02-01</th>\n      <td>13781.0</td>\n      <td>179474.0</td>\n      <td>7.0</td>\n      <td>4.99</td>\n    </tr>\n    <tr>\n      <th>2010-03-01</th>\n      <td>20465.0</td>\n      <td>183981.0</td>\n      <td>7.0</td>\n      <td>4.97</td>\n    </tr>\n    <tr>\n      <th>2010-04-01</th>\n      <td>22893.0</td>\n      <td>184048.0</td>\n      <td>7.0</td>\n      <td>5.10</td>\n    </tr>\n    <tr>\n      <th>2010-05-01</th>\n      <td>23812.0</td>\n      <td>188041.0</td>\n      <td>7.0</td>\n      <td>4.89</td>\n    </tr>\n    <tr>\n      <th>2010-06-01</th>\n      <td>22864.0</td>\n      <td>201367.0</td>\n      <td>7.0</td>\n      <td>4.74</td>\n    </tr>\n    <tr>\n      <th>2010-07-01</th>\n      <td>17336.0</td>\n      <td>204912.0</td>\n      <td>8.0</td>\n      <td>4.56</td>\n    </tr>\n    <tr>\n      <th>2010-08-01</th>\n      <td>17831.0</td>\n      <td>197616.0</td>\n      <td>8.0</td>\n      <td>4.43</td>\n    </tr>\n    <tr>\n      <th>2010-09-01</th>\n      <td>16050.0</td>\n      <td>189384.0</td>\n      <td>8.0</td>\n      <td>4.35</td>\n    </tr>\n    <tr>\n      <th>2010-10-01</th>\n      <td>14990.0</td>\n      <td>187695.0</td>\n      <td>8.0</td>\n      <td>4.23</td>\n    </tr>\n    <tr>\n      <th>2010-11-01</th>\n      <td>14398.0</td>\n      <td>192416.0</td>\n      <td>7.0</td>\n      <td>4.30</td>\n    </tr>\n    <tr>\n      <th>2010-12-01</th>\n      <td>16423.0</td>\n      <td>200295.0</td>\n      <td>7.0</td>\n      <td>4.71</td>\n    </tr>\n    <tr>\n      <th>2011-01-01</th>\n      <td>11469.0</td>\n      <td>180918.0</td>\n      <td>7.0</td>\n      <td>4.76</td>\n    </tr>\n    <tr>\n      <th>2011-02-01</th>\n      <td>12790.0</td>\n      <td>188328.0</td>\n      <td>7.0</td>\n      <td>4.95</td>\n    </tr>\n    <tr>\n      <th>2011-03-01</th>\n      <td>18508.0</td>\n      <td>189835.0</td>\n      <td>8.0</td>\n      <td>4.84</td>\n    </tr>\n    <tr>\n      <th>2011-04-01</th>\n      <td>18978.0</td>\n      <td>189863.0</td>\n      <td>8.0</td>\n      <td>4.84</td>\n    </tr>\n    <tr>\n      <th>2011-05-01</th>\n      <td>20491.0</td>\n      <td>197741.0</td>\n      <td>8.0</td>\n      <td>4.64</td>\n    </tr>\n    <tr>\n      <th>2011-06-01</th>\n      <td>22851.0</td>\n      <td>202571.0</td>\n      <td>8.0</td>\n      <td>4.51</td>\n    </tr>\n    <tr>\n      <th>2011-07-01</th>\n      <td>20399.0</td>\n      <td>198664.0</td>\n      <td>8.0</td>\n      <td>4.55</td>\n    </tr>\n    <tr>\n      <th>2011-08-01</th>\n      <td>22125.0</td>\n      <td>196246.0</td>\n      <td>7.0</td>\n      <td>4.27</td>\n    </tr>\n    <tr>\n      <th>2011-09-01</th>\n      <td>18648.0</td>\n      <td>190401.0</td>\n      <td>7.0</td>\n      <td>4.11</td>\n    </tr>\n    <tr>\n      <th>2011-10-01</th>\n      <td>16533.0</td>\n      <td>188628.0</td>\n      <td>7.0</td>\n      <td>4.07</td>\n    </tr>\n    <tr>\n      <th>2011-11-01</th>\n      <td>15651.0</td>\n      <td>186582.0</td>\n      <td>6.0</td>\n      <td>3.99</td>\n    </tr>\n    <tr>\n      <th>2011-12-01</th>\n      <td>17265.0</td>\n      <td>194970.0</td>\n      <td>6.0</td>\n      <td>3.96</td>\n    </tr>\n    <tr>\n      <th>2012-01-01</th>\n      <td>12613.0</td>\n      <td>178526.0</td>\n      <td>6.0</td>\n      <td>3.92</td>\n    </tr>\n    <tr>\n      <th>2012-02-01</th>\n      <td>15485.0</td>\n      <td>186481.0</td>\n      <td>6.0</td>\n      <td>3.89</td>\n    </tr>\n    <tr>\n      <th>2012-03-01</th>\n      <td>20050.0</td>\n      <td>198812.0</td>\n      <td>6.0</td>\n      <td>3.95</td>\n    </tr>\n    <tr>\n      <th>2012-04-01</th>\n      <td>20778.0</td>\n      <td>203741.0</td>\n      <td>6.0</td>\n      <td>3.91</td>\n    </tr>\n    <tr>\n      <th>2012-05-01</th>\n      <td>24375.0</td>\n      <td>212712.0</td>\n      <td>6.0</td>\n      <td>3.80</td>\n    </tr>\n    <tr>\n      <th>2012-06-01</th>\n      <td>25507.0</td>\n      <td>214451.0</td>\n      <td>6.0</td>\n      <td>3.68</td>\n    </tr>\n    <tr>\n      <th>...</th>\n      <td>...</td>\n      <td>...</td>\n      <td>...</td>\n      <td>...</td>\n    </tr>\n    <tr>\n      <th>2018-06-01</th>\n      <td>35605.0</td>\n      <td>297236.0</td>\n      <td>3.0</td>\n      <td>4.57</td>\n    </tr>\n    <tr>\n      <th>2018-07-01</th>\n      <td>33920.0</td>\n      <td>288864.0</td>\n      <td>3.0</td>\n      <td>4.53</td>\n    </tr>\n    <tr>\n      <th>2018-08-01</th>\n      <td>34196.0</td>\n      <td>287179.0</td>\n      <td>3.0</td>\n      <td>4.55</td>\n    </tr>\n    <tr>\n      <th>2018-09-01</th>\n      <td>26809.0</td>\n      <td>279401.0</td>\n      <td>3.0</td>\n      <td>4.63</td>\n    </tr>\n    <tr>\n      <th>2018-10-01</th>\n      <td>27368.0</td>\n      <td>276703.0</td>\n      <td>3.0</td>\n      <td>4.83</td>\n    </tr>\n    <tr>\n      <th>2018-11-01</th>\n      <td>25149.0</td>\n      <td>280205.0</td>\n      <td>3.0</td>\n      <td>4.87</td>\n    </tr>\n    <tr>\n      <th>2018-12-01</th>\n      <td>25819.0</td>\n      <td>284619.0</td>\n      <td>3.0</td>\n      <td>4.64</td>\n    </tr>\n    <tr>\n      <th>2019-01-01</th>\n      <td>18107.0</td>\n      <td>264238.0</td>\n      <td>3.0</td>\n      <td>4.46</td>\n    </tr>\n    <tr>\n      <th>2019-02-01</th>\n      <td>22671.0</td>\n      <td>271353.0</td>\n      <td>3.0</td>\n      <td>4.37</td>\n    </tr>\n    <tr>\n      <th>2019-03-01</th>\n      <td>29547.0</td>\n      <td>284797.0</td>\n      <td>3.0</td>\n      <td>4.27</td>\n    </tr>\n    <tr>\n      <th>2019-04-01</th>\n      <td>32102.0</td>\n      <td>291993.0</td>\n      <td>3.0</td>\n      <td>4.14</td>\n    </tr>\n    <tr>\n      <th>2019-05-01</th>\n      <td>36712.0</td>\n      <td>302866.0</td>\n      <td>3.0</td>\n      <td>4.07</td>\n    </tr>\n    <tr>\n      <th>2019-06-01</th>\n      <td>34101.0</td>\n      <td>305850.0</td>\n      <td>3.0</td>\n      <td>3.80</td>\n    </tr>\n    <tr>\n      <th>2019-07-01</th>\n      <td>36279.0</td>\n      <td>297145.0</td>\n      <td>3.0</td>\n      <td>3.77</td>\n    </tr>\n    <tr>\n      <th>2019-08-01</th>\n      <td>35477.0</td>\n      <td>293648.0</td>\n      <td>3.0</td>\n      <td>3.62</td>\n    </tr>\n    <tr>\n      <th>2019-09-01</th>\n      <td>29220.0</td>\n      <td>288659.0</td>\n      <td>3.0</td>\n      <td>3.61</td>\n    </tr>\n    <tr>\n      <th>2019-10-01</th>\n      <td>29473.0</td>\n      <td>289816.0</td>\n      <td>3.0</td>\n      <td>3.69</td>\n    </tr>\n    <tr>\n      <th>2019-11-01</th>\n      <td>25811.0</td>\n      <td>286048.0</td>\n      <td>3.0</td>\n      <td>3.70</td>\n    </tr>\n    <tr>\n      <th>2019-12-01</th>\n      <td>29918.0</td>\n      <td>300790.0</td>\n      <td>3.0</td>\n      <td>3.72</td>\n    </tr>\n    <tr>\n      <th>2020-01-01</th>\n      <td>21039.0</td>\n      <td>277988.0</td>\n      <td>3.0</td>\n      <td>3.62</td>\n    </tr>\n    <tr>\n      <th>2020-02-01</th>\n      <td>24879.0</td>\n      <td>291856.0</td>\n      <td>3.0</td>\n      <td>3.47</td>\n    </tr>\n    <tr>\n      <th>2020-03-01</th>\n      <td>30801.0</td>\n      <td>298052.0</td>\n      <td>3.0</td>\n      <td>3.45</td>\n    </tr>\n    <tr>\n      <th>2020-04-01</th>\n      <td>26106.0</td>\n      <td>295209.0</td>\n      <td>3.0</td>\n      <td>3.31</td>\n    </tr>\n    <tr>\n      <th>2020-05-01</th>\n      <td>27438.0</td>\n      <td>293194.0</td>\n      <td>3.0</td>\n      <td>3.23</td>\n    </tr>\n    <tr>\n      <th>2020-06-01</th>\n      <td>38639.0</td>\n      <td>311898.0</td>\n      <td>2.0</td>\n      <td>3.16</td>\n    </tr>\n    <tr>\n      <th>2020-07-01</th>\n      <td>43877.0</td>\n      <td>327755.0</td>\n      <td>2.0</td>\n      <td>3.02</td>\n    </tr>\n    <tr>\n      <th>2020-08-01</th>\n      <td>38384.0</td>\n      <td>326014.0</td>\n      <td>2.0</td>\n      <td>2.94</td>\n    </tr>\n    <tr>\n      <th>2020-09-01</th>\n      <td>37114.0</td>\n      <td>325532.0</td>\n      <td>2.0</td>\n      <td>2.89</td>\n    </tr>\n    <tr>\n      <th>2020-10-01</th>\n      <td>36610.0</td>\n      <td>330585.0</td>\n      <td>2.0</td>\n      <td>2.83</td>\n    </tr>\n    <tr>\n      <th>2020-11-01</th>\n      <td>31788.0</td>\n      <td>333080.0</td>\n      <td>1.0</td>\n      <td>2.77</td>\n    </tr>\n  </tbody>\n</table>\n<p>131 rows × 4 columns</p>\n</div>"
     },
     "metadata": {},
     "execution_count": 44
    }
   ],
   "source": [
    "df= df.dropna()\n",
    "df"
   ]
  },
  {
   "cell_type": "code",
   "execution_count": 45,
   "metadata": {},
   "outputs": [
    {
     "output_type": "execute_result",
     "data": {
      "text/plain": [
       "Index(['Sales', 'Average', 'Months', 'rate'], dtype='object')"
      ]
     },
     "metadata": {},
     "execution_count": 45
    }
   ],
   "source": [
    "df.columns"
   ]
  },
  {
   "cell_type": "code",
   "execution_count": 46,
   "metadata": {},
   "outputs": [],
   "source": [
    "# Creating the X and y sets\n",
    "X = df.drop('Sales',axis=1)\n",
    "y = df[\"Sales\"].values"
   ]
  },
  {
   "cell_type": "code",
   "execution_count": 47,
   "metadata": {},
   "outputs": [],
   "source": [
    "#X.reshape(-1,1)"
   ]
  },
  {
   "cell_type": "code",
   "execution_count": 48,
   "metadata": {},
   "outputs": [],
   "source": [
    "#X=X.reshape(-1,1)\n",
    "#predicted"
   ]
  },
  {
   "cell_type": "code",
   "execution_count": 49,
   "metadata": {},
   "outputs": [],
   "source": [
    "# Creating training, validation, and testing sets\n",
    "from sklearn.model_selection import train_test_split\n",
    "\n",
    "X_train, X_test, y_train, y_test = train_test_split(X, y, test_size= 0.2, train_size= 0.8, random_state=0)"
   ]
  },
  {
   "cell_type": "code",
   "execution_count": 50,
   "metadata": {},
   "outputs": [],
   "source": [
    "#X_train"
   ]
  },
  {
   "cell_type": "code",
   "execution_count": 51,
   "metadata": {},
   "outputs": [],
   "source": [
    "#X_train[0]"
   ]
  },
  {
   "cell_type": "code",
   "execution_count": 52,
   "metadata": {},
   "outputs": [],
   "source": [
    "#X_train=X_train.reshape(-1,1)"
   ]
  },
  {
   "cell_type": "code",
   "execution_count": 53,
   "metadata": {},
   "outputs": [],
   "source": [
    "# Import the StandardScaler from sklearn\n",
    "from sklearn.preprocessing import StandardScaler\n",
    "\n",
    "# Scale the data\n",
    "scaler_train = StandardScaler().fit(X_train)\n",
    "X_train_scaled = scaler_train.transform(X_train)\n",
    "scaler_test = StandardScaler().fit(X_test)\n",
    "X_test_scaled = scaler_test.transform(X_test)"
   ]
  },
  {
   "cell_type": "code",
   "execution_count": 54,
   "metadata": {},
   "outputs": [],
   "source": [
    "#X_train[0]"
   ]
  },
  {
   "cell_type": "code",
   "execution_count": 55,
   "metadata": {},
   "outputs": [],
   "source": [
    "#X_test=X_test.reshape(-1,1)"
   ]
  },
  {
   "cell_type": "code",
   "execution_count": 56,
   "metadata": {},
   "outputs": [],
   "source": [
    "# Import the StandardScaler from sklearn\n",
    "from sklearn.preprocessing import StandardScaler\n",
    "from sklearn.preprocessing import MinMaxScaler\n",
    "\n",
    "# Scale the data\n",
    "scaler = MinMaxScaler().fit(X_train)\n",
    "X_scaled_train = scaler.transform(X_train)\n",
    "X_scaled_test = scaler.transform(X_test)"
   ]
  },
  {
   "cell_type": "code",
   "execution_count": 57,
   "metadata": {},
   "outputs": [],
   "source": [
    "from tensorflow.keras.models import Sequential\n",
    "from tensorflow.keras.layers import LSTM, Dense, Dropout"
   ]
  },
  {
   "cell_type": "code",
   "execution_count": 58,
   "metadata": {},
   "outputs": [],
   "source": [
    "# Model set-up\n",
    "number_input_features = 3\n",
    "hidden_nodes_layer1 = 40\n",
    "\n",
    "hidden_nodes_layer2 = 20"
   ]
  },
  {
   "cell_type": "code",
   "execution_count": 59,
   "metadata": {},
   "outputs": [],
   "source": [
    "# Define the model\n",
    "model = Sequential()\n",
    "\n",
    "# Layer 1\n",
    "model.add(\n",
    "   Dense(units=hidden_nodes_layer1, input_dim=number_input_features, activation=\"relu\"))\n",
    "\n",
    "# Layer 2\n",
    "model.add(Dense(units=hidden_nodes_layer2, activation=\"relu\"))\n",
    "\n",
    "# Output layer\n",
    "model.add(Dense(1, activation=\"linear\"))"
   ]
  },
  {
   "cell_type": "code",
   "execution_count": 60,
   "metadata": {},
   "outputs": [
    {
     "output_type": "execute_result",
     "data": {
      "text/plain": [
       "(3, 1)"
      ]
     },
     "metadata": {},
     "execution_count": 60
    }
   ],
   "source": [
    "(X_train.shape[1], 1)"
   ]
  },
  {
   "cell_type": "code",
   "execution_count": 61,
   "metadata": {},
   "outputs": [],
   "source": [
    "# model = Sequential()\n",
    "# number_units = 5\n",
    "# dropout_fraction = 0.2\n",
    "# # Layer 1\n",
    "# model.add(LSTM(\n",
    "#     units=number_units,\n",
    "#     return_sequences=True,\n",
    "#     input_shape=(X_train.shape[1], 1))\n",
    "#     )\n",
    "# model.add(Dropout(dropout_fraction))\n",
    "# # Layer 2\n",
    "# model.add(LSTM(units=number_units, return_sequences=True))\n",
    "# model.add(Dropout(dropout_fraction))\n",
    "# # Layer 3\n",
    "# model.add(LSTM(units=number_units))\n",
    "# model.add(Dropout(dropout_fraction))\n",
    "# # Output layer\n",
    "# model.add(Dense(1))"
   ]
  },
  {
   "cell_type": "code",
   "execution_count": 62,
   "metadata": {},
   "outputs": [],
   "source": [
    "# Compile the model\n",
    "model.compile(\n",
    "    loss= \"mean_squared_error\",\n",
    "    optimizer=\"adam\",\n",
    "    metrics= ['accuracy']\n",
    "   \n",
    ")"
   ]
  },
  {
   "cell_type": "code",
   "execution_count": 63,
   "metadata": {},
   "outputs": [
    {
     "output_type": "stream",
     "name": "stdout",
     "text": [
      "Model: \"sequential_1\"\n_________________________________________________________________\nLayer (type)                 Output Shape              Param #   \n=================================================================\ndense_3 (Dense)              (None, 40)                160       \n_________________________________________________________________\ndense_4 (Dense)              (None, 20)                820       \n_________________________________________________________________\ndense_5 (Dense)              (None, 1)                 21        \n=================================================================\nTotal params: 1,001\nTrainable params: 1,001\nNon-trainable params: 0\n_________________________________________________________________\n"
     ]
    }
   ],
   "source": [
    "# Summarize the model\n",
    "model.summary()"
   ]
  },
  {
   "cell_type": "code",
   "execution_count": 64,
   "metadata": {
    "tags": [
     "outputPrepend"
    ]
   },
   "outputs": [
    {
     "output_type": "stream",
     "name": "stdout",
     "text": [
      "ch 824/1000\n",
      "11/11 [==============================] - 0s 2ms/step - loss: 15672532.5000 - accuracy: 0.0000e+00\n",
      "Epoch 825/1000\n",
      "11/11 [==============================] - 0s 2ms/step - loss: 14290740.6667 - accuracy: 0.0000e+00\n",
      "Epoch 826/1000\n",
      "11/11 [==============================] - 0s 2ms/step - loss: 17975710.7500 - accuracy: 0.0000e+00\n",
      "Epoch 827/1000\n",
      "11/11 [==============================] - 0s 1ms/step - loss: 15068137.5833 - accuracy: 0.0000e+00\n",
      "Epoch 828/1000\n",
      "11/11 [==============================] - 0s 4ms/step - loss: 15007055.6667 - accuracy: 0.0000e+00\n",
      "Epoch 829/1000\n",
      "11/11 [==============================] - 0s 2ms/step - loss: 15725996.6667 - accuracy: 0.0000e+00\n",
      "Epoch 830/1000\n",
      "11/11 [==============================] - 0s 2ms/step - loss: 15111702.4167 - accuracy: 0.0000e+00\n",
      "Epoch 831/1000\n",
      "11/11 [==============================] - 0s 2ms/step - loss: 16581740.4167 - accuracy: 0.0000e+00\n",
      "Epoch 832/1000\n",
      "11/11 [==============================] - 0s 2ms/step - loss: 16483261.2500 - accuracy: 0.0000e+00\n",
      "Epoch 833/1000\n",
      "11/11 [==============================] - 0s 2ms/step - loss: 16154744.6667 - accuracy: 0.0000e+00\n",
      "Epoch 834/1000\n",
      "11/11 [==============================] - 0s 2ms/step - loss: 17661436.0000 - accuracy: 0.0000e+00\n",
      "Epoch 835/1000\n",
      "11/11 [==============================] - 0s 4ms/step - loss: 16258516.8333 - accuracy: 0.0000e+00\n",
      "Epoch 836/1000\n",
      "11/11 [==============================] - 0s 2ms/step - loss: 16637925.0000 - accuracy: 0.0000e+00\n",
      "Epoch 837/1000\n",
      "11/11 [==============================] - 0s 2ms/step - loss: 13417983.8333 - accuracy: 0.0000e+00\n",
      "Epoch 838/1000\n",
      "11/11 [==============================] - 0s 4ms/step - loss: 16269464.6667 - accuracy: 0.0000e+00\n",
      "Epoch 839/1000\n",
      "11/11 [==============================] - 0s 2ms/step - loss: 15608929.0833 - accuracy: 0.0000e+00\n",
      "Epoch 840/1000\n",
      "11/11 [==============================] - 0s 2ms/step - loss: 14923617.1667 - accuracy: 0.0000e+00\n",
      "Epoch 841/1000\n",
      "11/11 [==============================] - 0s 4ms/step - loss: 17066542.2500 - accuracy: 0.0000e+00\n",
      "Epoch 842/1000\n",
      "11/11 [==============================] - 0s 2ms/step - loss: 14912466.3333 - accuracy: 0.0000e+00\n",
      "Epoch 843/1000\n",
      "11/11 [==============================] - 0s 2ms/step - loss: 16070821.7500 - accuracy: 0.0000e+00\n",
      "Epoch 844/1000\n",
      "11/11 [==============================] - 0s 2ms/step - loss: 14713700.9167 - accuracy: 0.0000e+00\n",
      "Epoch 845/1000\n",
      "11/11 [==============================] - 0s 2ms/step - loss: 16270060.3333 - accuracy: 0.0000e+00\n",
      "Epoch 846/1000\n",
      "11/11 [==============================] - 0s 2ms/step - loss: 14400906.8333 - accuracy: 0.0000e+00\n",
      "Epoch 847/1000\n",
      "11/11 [==============================] - 0s 2ms/step - loss: 13316261.2500 - accuracy: 0.0000e+00\n",
      "Epoch 848/1000\n",
      "11/11 [==============================] - 0s 5ms/step - loss: 14519722.8333 - accuracy: 0.0000e+00\n",
      "Epoch 849/1000\n",
      "11/11 [==============================] - 0s 2ms/step - loss: 15828961.5833 - accuracy: 0.0000e+00\n",
      "Epoch 850/1000\n",
      "11/11 [==============================] - 0s 2ms/step - loss: 16398607.8333 - accuracy: 0.0000e+00\n",
      "Epoch 851/1000\n",
      "11/11 [==============================] - 0s 2ms/step - loss: 14917416.5417 - accuracy: 0.0000e+00\n",
      "Epoch 852/1000\n",
      "11/11 [==============================] - 0s 2ms/step - loss: 15047063.1667 - accuracy: 0.0000e+00\n",
      "Epoch 853/1000\n",
      "11/11 [==============================] - 0s 2ms/step - loss: 17228442.5833 - accuracy: 0.0000e+00\n",
      "Epoch 854/1000\n",
      "11/11 [==============================] - 0s 2ms/step - loss: 14998698.2500 - accuracy: 0.0000e+00\n",
      "Epoch 855/1000\n",
      "11/11 [==============================] - 0s 5ms/step - loss: 16784443.1667 - accuracy: 0.0000e+00\n",
      "Epoch 856/1000\n",
      "11/11 [==============================] - 0s 2ms/step - loss: 18804401.5833 - accuracy: 0.0000e+00\n",
      "Epoch 857/1000\n",
      "11/11 [==============================] - 0s 2ms/step - loss: 16316273.5000 - accuracy: 0.0000e+00\n",
      "Epoch 858/1000\n",
      "11/11 [==============================] - 0s 4ms/step - loss: 17603174.6667 - accuracy: 0.0000e+00\n",
      "Epoch 859/1000\n",
      "11/11 [==============================] - 0s 2ms/step - loss: 12531297.2500 - accuracy: 0.0000e+00\n",
      "Epoch 860/1000\n",
      "11/11 [==============================] - 0s 2ms/step - loss: 15080086.1667 - accuracy: 0.0000e+00\n",
      "Epoch 861/1000\n",
      "11/11 [==============================] - 0s 4ms/step - loss: 14487343.3333 - accuracy: 0.0000e+00\n",
      "Epoch 862/1000\n",
      "11/11 [==============================] - 0s 2ms/step - loss: 15182194.1667 - accuracy: 0.0000e+00\n",
      "Epoch 863/1000\n",
      "11/11 [==============================] - 0s 2ms/step - loss: 17720439.9167 - accuracy: 0.0000e+00\n",
      "Epoch 864/1000\n",
      "11/11 [==============================] - 0s 5ms/step - loss: 15598458.6667 - accuracy: 0.0000e+00\n",
      "Epoch 865/1000\n",
      "11/11 [==============================] - 0s 2ms/step - loss: 16133827.9167 - accuracy: 0.0000e+00\n",
      "Epoch 866/1000\n",
      "11/11 [==============================] - 0s 2ms/step - loss: 13264432.6667 - accuracy: 0.0000e+00\n",
      "Epoch 867/1000\n",
      "11/11 [==============================] - 0s 4ms/step - loss: 15175039.6667 - accuracy: 0.0000e+00\n",
      "Epoch 868/1000\n",
      "11/11 [==============================] - 0s 2ms/step - loss: 13862729.5833 - accuracy: 0.0000e+00\n",
      "Epoch 869/1000\n",
      "11/11 [==============================] - 0s 2ms/step - loss: 17054605.0833 - accuracy: 0.0000e+00\n",
      "Epoch 870/1000\n",
      "11/11 [==============================] - 0s 2ms/step - loss: 16025313.5000 - accuracy: 0.0000e+00\n",
      "Epoch 871/1000\n",
      "11/11 [==============================] - 0s 5ms/step - loss: 16991246.9167 - accuracy: 0.0000e+00\n",
      "Epoch 872/1000\n",
      "11/11 [==============================] - 0s 2ms/step - loss: 16169049.6667 - accuracy: 0.0000e+00\n",
      "Epoch 873/1000\n",
      "11/11 [==============================] - 0s 2ms/step - loss: 16154072.7500 - accuracy: 0.0000e+00\n",
      "Epoch 874/1000\n",
      "11/11 [==============================] - 0s 5ms/step - loss: 15758716.3333 - accuracy: 0.0000e+00\n",
      "Epoch 875/1000\n",
      "11/11 [==============================] - 0s 2ms/step - loss: 16519282.9167 - accuracy: 0.0000e+00\n",
      "Epoch 876/1000\n",
      "11/11 [==============================] - 0s 2ms/step - loss: 15962356.9167 - accuracy: 0.0000e+00\n",
      "Epoch 877/1000\n",
      "11/11 [==============================] - 0s 2ms/step - loss: 17163843.5833 - accuracy: 0.0000e+00\n",
      "Epoch 878/1000\n",
      "11/11 [==============================] - 0s 2ms/step - loss: 14878769.6667 - accuracy: 0.0000e+00\n",
      "Epoch 879/1000\n",
      "11/11 [==============================] - 0s 2ms/step - loss: 17700927.6667 - accuracy: 0.0000e+00\n",
      "Epoch 880/1000\n",
      "11/11 [==============================] - 0s 2ms/step - loss: 15837583.0833 - accuracy: 0.0000e+00\n",
      "Epoch 881/1000\n",
      "11/11 [==============================] - 0s 4ms/step - loss: 15785838.1667 - accuracy: 0.0000e+00\n",
      "Epoch 882/1000\n",
      "11/11 [==============================] - 0s 2ms/step - loss: 14610722.5000 - accuracy: 0.0000e+00\n",
      "Epoch 883/1000\n",
      "11/11 [==============================] - 0s 2ms/step - loss: 16439072.5000 - accuracy: 0.0000e+00\n",
      "Epoch 884/1000\n",
      "11/11 [==============================] - 0s 2ms/step - loss: 15675393.0000 - accuracy: 0.0000e+00\n",
      "Epoch 885/1000\n",
      "11/11 [==============================] - 0s 2ms/step - loss: 14800369.7500 - accuracy: 0.0000e+00\n",
      "Epoch 886/1000\n",
      "11/11 [==============================] - 0s 2ms/step - loss: 16260909.5833 - accuracy: 0.0000e+00\n",
      "Epoch 887/1000\n",
      "11/11 [==============================] - 0s 2ms/step - loss: 16165418.9167 - accuracy: 0.0000e+00\n",
      "Epoch 888/1000\n",
      "11/11 [==============================] - 0s 5ms/step - loss: 16865551.5833 - accuracy: 0.0000e+00\n",
      "Epoch 889/1000\n",
      "11/11 [==============================] - 0s 3ms/step - loss: 17098052.1667 - accuracy: 0.0000e+00\n",
      "Epoch 890/1000\n",
      "11/11 [==============================] - 0s 3ms/step - loss: 16192538.5000 - accuracy: 0.0000e+00\n",
      "Epoch 891/1000\n",
      "11/11 [==============================] - 0s 2ms/step - loss: 16888804.1667 - accuracy: 0.0000e+00\n",
      "Epoch 892/1000\n",
      "11/11 [==============================] - 0s 3ms/step - loss: 13683407.4167 - accuracy: 0.0000e+00\n",
      "Epoch 893/1000\n",
      "11/11 [==============================] - 0s 5ms/step - loss: 15458825.5000 - accuracy: 0.0000e+00\n",
      "Epoch 894/1000\n",
      "11/11 [==============================] - 0s 2ms/step - loss: 17128563.4167 - accuracy: 0.0000e+00\n",
      "Epoch 895/1000\n",
      "11/11 [==============================] - 0s 2ms/step - loss: 16305910.5833 - accuracy: 0.0000e+00\n",
      "Epoch 896/1000\n",
      "11/11 [==============================] - 0s 5ms/step - loss: 16161744.9167 - accuracy: 0.0000e+00\n",
      "Epoch 897/1000\n",
      "11/11 [==============================] - 0s 2ms/step - loss: 15950554.9167 - accuracy: 0.0000e+00\n",
      "Epoch 898/1000\n",
      "11/11 [==============================] - 0s 2ms/step - loss: 13957435.4167 - accuracy: 0.0000e+00\n",
      "Epoch 899/1000\n",
      "11/11 [==============================] - 0s 3ms/step - loss: 15076517.8333 - accuracy: 0.0000e+00\n",
      "Epoch 900/1000\n",
      "11/11 [==============================] - 0s 3ms/step - loss: 14188774.4583 - accuracy: 0.0000e+00\n",
      "Epoch 901/1000\n",
      "11/11 [==============================] - 0s 2ms/step - loss: 17121599.5833 - accuracy: 0.0000e+00\n",
      "Epoch 902/1000\n",
      "11/11 [==============================] - 0s 2ms/step - loss: 14588697.1667 - accuracy: 0.0000e+00\n",
      "Epoch 903/1000\n",
      "11/11 [==============================] - 0s 3ms/step - loss: 14886058.8333 - accuracy: 0.0000e+00\n",
      "Epoch 904/1000\n",
      "11/11 [==============================] - 0s 2ms/step - loss: 16971122.8333 - accuracy: 0.0000e+00\n",
      "Epoch 905/1000\n",
      "11/11 [==============================] - 0s 3ms/step - loss: 13860857.9167 - accuracy: 0.0000e+00\n",
      "Epoch 906/1000\n",
      "11/11 [==============================] - 0s 6ms/step - loss: 14988322.5833 - accuracy: 0.0000e+00\n",
      "Epoch 907/1000\n",
      "11/11 [==============================] - 0s 2ms/step - loss: 14989319.0833 - accuracy: 0.0000e+00\n",
      "Epoch 908/1000\n",
      "11/11 [==============================] - 0s 3ms/step - loss: 17934311.2500 - accuracy: 0.0000e+00\n",
      "Epoch 909/1000\n",
      "11/11 [==============================] - 0s 6ms/step - loss: 15805124.5833 - accuracy: 0.0000e+00\n",
      "Epoch 910/1000\n",
      "11/11 [==============================] - 0s 2ms/step - loss: 16581763.9167 - accuracy: 0.0000e+00\n",
      "Epoch 911/1000\n",
      "11/11 [==============================] - 0s 3ms/step - loss: 14425655.0000 - accuracy: 0.0000e+00\n",
      "Epoch 912/1000\n",
      "11/11 [==============================] - 0s 2ms/step - loss: 16695477.9167 - accuracy: 0.0000e+00\n",
      "Epoch 913/1000\n",
      "11/11 [==============================] - 0s 2ms/step - loss: 14920629.5833 - accuracy: 0.0000e+00\n",
      "Epoch 914/1000\n",
      "11/11 [==============================] - 0s 2ms/step - loss: 16106655.7500 - accuracy: 0.0000e+00\n",
      "Epoch 915/1000\n",
      "11/11 [==============================] - 0s 4ms/step - loss: 12470532.3750 - accuracy: 0.0000e+00\n",
      "Epoch 916/1000\n",
      "11/11 [==============================] - 0s 2ms/step - loss: 17031084.9167 - accuracy: 0.0000e+00\n",
      "Epoch 917/1000\n",
      "11/11 [==============================] - 0s 2ms/step - loss: 14349342.5833 - accuracy: 0.0000e+00\n",
      "Epoch 918/1000\n",
      "11/11 [==============================] - 0s 5ms/step - loss: 14303653.5833 - accuracy: 0.0000e+00\n",
      "Epoch 919/1000\n",
      "11/11 [==============================] - 0s 2ms/step - loss: 13852645.5833 - accuracy: 0.0000e+00\n",
      "Epoch 920/1000\n",
      "11/11 [==============================] - 0s 2ms/step - loss: 16591222.8333 - accuracy: 0.0000e+00\n",
      "Epoch 921/1000\n",
      "11/11 [==============================] - 0s 4ms/step - loss: 15461958.0833 - accuracy: 0.0000e+00\n",
      "Epoch 922/1000\n",
      "11/11 [==============================] - 0s 2ms/step - loss: 15449494.6667 - accuracy: 0.0000e+00\n",
      "Epoch 923/1000\n",
      "11/11 [==============================] - 0s 2ms/step - loss: 15005678.4167 - accuracy: 0.0000e+00\n",
      "Epoch 924/1000\n",
      "11/11 [==============================] - 0s 4ms/step - loss: 13478622.2500 - accuracy: 0.0000e+00\n",
      "Epoch 925/1000\n",
      "11/11 [==============================] - 0s 2ms/step - loss: 17123302.5000 - accuracy: 0.0000e+00\n",
      "Epoch 926/1000\n",
      "11/11 [==============================] - 0s 2ms/step - loss: 14856579.8333 - accuracy: 0.0000e+00\n",
      "Epoch 927/1000\n",
      "11/11 [==============================] - 0s 2ms/step - loss: 15802626.0000 - accuracy: 0.0000e+00\n",
      "Epoch 928/1000\n",
      "11/11 [==============================] - 0s 3ms/step - loss: 13379368.0833 - accuracy: 0.0000e+00\n",
      "Epoch 929/1000\n",
      "11/11 [==============================] - 0s 2ms/step - loss: 14541089.2500 - accuracy: 0.0000e+00\n",
      "Epoch 930/1000\n",
      "11/11 [==============================] - 0s 13ms/step - loss: 16579220.8333 - accuracy: 0.0000e+00\n",
      "Epoch 931/1000\n",
      "11/11 [==============================] - 0s 2ms/step - loss: 16807214.5000 - accuracy: 0.0000e+00\n",
      "Epoch 932/1000\n",
      "11/11 [==============================] - 0s 2ms/step - loss: 14611472.5000 - accuracy: 0.0000e+00\n",
      "Epoch 933/1000\n",
      "11/11 [==============================] - 0s 3ms/step - loss: 16250088.6667 - accuracy: 0.0000e+00\n",
      "Epoch 934/1000\n",
      "11/11 [==============================] - 0s 3ms/step - loss: 16684131.7500 - accuracy: 0.0000e+00\n",
      "Epoch 935/1000\n",
      "11/11 [==============================] - 0s 2ms/step - loss: 14593766.5000 - accuracy: 0.0000e+00\n",
      "Epoch 936/1000\n",
      "11/11 [==============================] - 0s 3ms/step - loss: 14559467.8333 - accuracy: 0.0000e+00\n",
      "Epoch 937/1000\n",
      "11/11 [==============================] - 0s 3ms/step - loss: 15080750.9167 - accuracy: 0.0000e+00\n",
      "Epoch 938/1000\n",
      "11/11 [==============================] - 0s 2ms/step - loss: 14539349.8333 - accuracy: 0.0000e+00\n",
      "Epoch 939/1000\n",
      "11/11 [==============================] - 0s 3ms/step - loss: 17605677.0000 - accuracy: 0.0000e+00\n",
      "Epoch 940/1000\n",
      "11/11 [==============================] - 0s 4ms/step - loss: 14760821.8333 - accuracy: 0.0000e+00\n",
      "Epoch 941/1000\n",
      "11/11 [==============================] - 0s 3ms/step - loss: 14309703.5000 - accuracy: 0.0000e+00\n",
      "Epoch 942/1000\n",
      "11/11 [==============================] - 0s 3ms/step - loss: 14006682.5000 - accuracy: 0.0000e+00\n",
      "Epoch 943/1000\n",
      "11/11 [==============================] - 0s 2ms/step - loss: 14882073.5000 - accuracy: 0.0000e+00\n",
      "Epoch 944/1000\n",
      "11/11 [==============================] - 0s 2ms/step - loss: 17519012.5000 - accuracy: 0.0000e+00\n",
      "Epoch 945/1000\n",
      "11/11 [==============================] - 0s 2ms/step - loss: 16092177.5000 - accuracy: 0.0000e+00\n",
      "Epoch 946/1000\n",
      "11/11 [==============================] - 0s 5ms/step - loss: 14660348.1667 - accuracy: 0.0000e+00\n",
      "Epoch 947/1000\n",
      "11/11 [==============================] - 0s 2ms/step - loss: 14397932.0833 - accuracy: 0.0000e+00\n",
      "Epoch 948/1000\n",
      "11/11 [==============================] - 0s 3ms/step - loss: 14693431.8333 - accuracy: 0.0000e+00\n",
      "Epoch 949/1000\n",
      "11/11 [==============================] - 0s 5ms/step - loss: 14963260.1667 - accuracy: 0.0000e+00\n",
      "Epoch 950/1000\n",
      "11/11 [==============================] - 0s 2ms/step - loss: 15071226.5000 - accuracy: 0.0000e+00\n",
      "Epoch 951/1000\n",
      "11/11 [==============================] - 0s 2ms/step - loss: 14308177.3333 - accuracy: 0.0000e+00\n",
      "Epoch 952/1000\n",
      "11/11 [==============================] - 0s 2ms/step - loss: 15397512.9167 - accuracy: 0.0000e+00\n",
      "Epoch 953/1000\n",
      "11/11 [==============================] - 0s 2ms/step - loss: 16088311.9167 - accuracy: 0.0000e+00\n",
      "Epoch 954/1000\n",
      "11/11 [==============================] - 0s 2ms/step - loss: 13984719.5833 - accuracy: 0.0000e+00\n",
      "Epoch 955/1000\n",
      "11/11 [==============================] - 0s 2ms/step - loss: 14580777.0000 - accuracy: 0.0000e+00\n",
      "Epoch 956/1000\n",
      "11/11 [==============================] - 0s 4ms/step - loss: 14461670.0000 - accuracy: 0.0000e+00\n",
      "Epoch 957/1000\n",
      "11/11 [==============================] - 0s 2ms/step - loss: 13695963.0000 - accuracy: 0.0000e+00\n",
      "Epoch 958/1000\n",
      "11/11 [==============================] - 0s 2ms/step - loss: 13965404.9167 - accuracy: 0.0000e+00\n",
      "Epoch 959/1000\n",
      "11/11 [==============================] - 0s 4ms/step - loss: 15118914.8333 - accuracy: 0.0000e+00\n",
      "Epoch 960/1000\n",
      "11/11 [==============================] - 0s 2ms/step - loss: 15476259.7500 - accuracy: 0.0000e+00\n",
      "Epoch 961/1000\n",
      "11/11 [==============================] - 0s 2ms/step - loss: 15427740.5833 - accuracy: 0.0000e+00\n",
      "Epoch 962/1000\n",
      "11/11 [==============================] - 0s 5ms/step - loss: 15829831.8333 - accuracy: 0.0000e+00\n",
      "Epoch 963/1000\n",
      "11/11 [==============================] - 0s 4ms/step - loss: 14898300.7500 - accuracy: 0.0000e+00\n",
      "Epoch 964/1000\n",
      "11/11 [==============================] - 0s 2ms/step - loss: 15332130.5000 - accuracy: 0.0000e+00\n",
      "Epoch 965/1000\n",
      "11/11 [==============================] - 0s 4ms/step - loss: 15215870.4167 - accuracy: 0.0000e+00\n",
      "Epoch 966/1000\n",
      "11/11 [==============================] - 0s 3ms/step - loss: 13967924.7500 - accuracy: 0.0000e+00\n",
      "Epoch 967/1000\n",
      "11/11 [==============================] - 0s 3ms/step - loss: 14832072.9167 - accuracy: 0.0000e+00\n",
      "Epoch 968/1000\n",
      "11/11 [==============================] - 0s 5ms/step - loss: 18406182.3333 - accuracy: 0.0000e+00\n",
      "Epoch 969/1000\n",
      "11/11 [==============================] - 0s 2ms/step - loss: 15482334.5833 - accuracy: 0.0000e+00\n",
      "Epoch 970/1000\n",
      "11/11 [==============================] - 0s 2ms/step - loss: 15233685.5833 - accuracy: 0.0000e+00\n",
      "Epoch 971/1000\n",
      "11/11 [==============================] - 0s 4ms/step - loss: 15631531.7500 - accuracy: 0.0000e+00\n",
      "Epoch 972/1000\n",
      "11/11 [==============================] - 0s 2ms/step - loss: 15941686.5000 - accuracy: 0.0000e+00\n",
      "Epoch 973/1000\n",
      "11/11 [==============================] - 0s 2ms/step - loss: 16309443.5000 - accuracy: 0.0000e+00\n",
      "Epoch 974/1000\n",
      "11/11 [==============================] - 0s 2ms/step - loss: 18179513.8333 - accuracy: 0.0000e+00\n",
      "Epoch 975/1000\n",
      "11/11 [==============================] - 0s 2ms/step - loss: 13418256.2500 - accuracy: 0.0000e+00\n",
      "Epoch 976/1000\n",
      "11/11 [==============================] - 0s 2ms/step - loss: 13603897.2500 - accuracy: 0.0000e+00\n",
      "Epoch 977/1000\n",
      "11/11 [==============================] - 0s 3ms/step - loss: 15274758.4167 - accuracy: 0.0000e+00\n",
      "Epoch 978/1000\n",
      "11/11 [==============================] - 0s 2ms/step - loss: 13689206.0833 - accuracy: 0.0000e+00\n",
      "Epoch 979/1000\n",
      "11/11 [==============================] - 0s 2ms/step - loss: 14947449.0000 - accuracy: 0.0000e+00\n",
      "Epoch 980/1000\n",
      "11/11 [==============================] - 0s 2ms/step - loss: 14579452.0000 - accuracy: 0.0000e+00\n",
      "Epoch 981/1000\n",
      "11/11 [==============================] - 0s 2ms/step - loss: 17086698.7500 - accuracy: 0.0000e+00\n",
      "Epoch 982/1000\n",
      "11/11 [==============================] - 0s 2ms/step - loss: 13065244.5000 - accuracy: 0.0000e+00\n",
      "Epoch 983/1000\n",
      "11/11 [==============================] - 0s 3ms/step - loss: 13066586.5833 - accuracy: 0.0000e+00\n",
      "Epoch 984/1000\n",
      "11/11 [==============================] - 0s 3ms/step - loss: 14879766.4167 - accuracy: 0.0000e+00\n",
      "Epoch 985/1000\n",
      "11/11 [==============================] - 0s 2ms/step - loss: 13567886.1667 - accuracy: 0.0000e+00\n",
      "Epoch 986/1000\n",
      "11/11 [==============================] - 0s 2ms/step - loss: 15538340.0000 - accuracy: 0.0000e+00\n",
      "Epoch 987/1000\n",
      "11/11 [==============================] - 0s 2ms/step - loss: 14166882.9167 - accuracy: 0.0000e+00\n",
      "Epoch 988/1000\n",
      "11/11 [==============================] - 0s 2ms/step - loss: 13316955.8333 - accuracy: 0.0000e+00\n",
      "Epoch 989/1000\n",
      "11/11 [==============================] - 0s 2ms/step - loss: 16083249.9167 - accuracy: 0.0000e+00\n",
      "Epoch 990/1000\n",
      "11/11 [==============================] - 0s 2ms/step - loss: 15905112.6667 - accuracy: 0.0000e+00\n",
      "Epoch 991/1000\n",
      "11/11 [==============================] - 0s 2ms/step - loss: 14076474.2500 - accuracy: 0.0000e+00\n",
      "Epoch 992/1000\n",
      "11/11 [==============================] - 0s 2ms/step - loss: 15941539.0000 - accuracy: 0.0000e+00\n",
      "Epoch 993/1000\n",
      "11/11 [==============================] - 0s 2ms/step - loss: 15214494.7500 - accuracy: 0.0000e+00\n",
      "Epoch 994/1000\n",
      "11/11 [==============================] - 0s 2ms/step - loss: 16681433.0833 - accuracy: 0.0000e+00\n",
      "Epoch 995/1000\n",
      "11/11 [==============================] - 0s 2ms/step - loss: 13499993.3750 - accuracy: 0.0000e+00\n",
      "Epoch 996/1000\n",
      "11/11 [==============================] - 0s 5ms/step - loss: 15697960.5833 - accuracy: 0.0000e+00\n",
      "Epoch 997/1000\n",
      "11/11 [==============================] - 0s 2ms/step - loss: 15477224.8333 - accuracy: 0.0000e+00\n",
      "Epoch 998/1000\n",
      "11/11 [==============================] - 0s 2ms/step - loss: 18278501.5000 - accuracy: 0.0000e+00\n",
      "Epoch 999/1000\n",
      "11/11 [==============================] - 0s 5ms/step - loss: 16440978.0833 - accuracy: 0.0000e+00\n",
      "Epoch 1000/1000\n",
      "11/11 [==============================] - 0s 2ms/step - loss: 18060478.5000 - accuracy: 0.0000e+00\n"
     ]
    }
   ],
   "source": [
    "# Training the model\n",
    "batch_size = 10\n",
    "epochs = 1000\n",
    "training_history = model.fit(\n",
    "    X_scaled_train,\n",
    "    y_train,\n",
    "    epochs=epochs,\n",
    "    batch_size=batch_size,\n",
    "    verbose=1,\n",
    ")"
   ]
  },
  {
   "cell_type": "code",
   "execution_count": 65,
   "metadata": {},
   "outputs": [
    {
     "output_type": "stream",
     "name": "stdout",
     "text": [
      "1/1 [==============================] - 1s 523ms/step - loss: 12266530.0000 - accuracy: 0.0000e+00\n"
     ]
    },
    {
     "output_type": "execute_result",
     "data": {
      "text/plain": [
       "[12266530.0, 0.0]"
      ]
     },
     "metadata": {},
     "execution_count": 65
    }
   ],
   "source": [
    "# Evaluate the model\n",
    "model.evaluate(X_scaled_test, y_test, verbose=1)"
   ]
  },
  {
   "cell_type": "code",
   "execution_count": 66,
   "metadata": {},
   "outputs": [],
   "source": [
    "#X_scaled_test\n"
   ]
  },
  {
   "cell_type": "code",
   "execution_count": 67,
   "metadata": {},
   "outputs": [],
   "source": [
    "# Make predictions using the testing data X_test\n",
    "predicted = model.predict(X_scaled_test)\n",
    "#predicted"
   ]
  },
  {
   "cell_type": "code",
   "execution_count": 68,
   "metadata": {},
   "outputs": [
    {
     "output_type": "execute_result",
     "data": {
      "text/plain": [
       "             Actual     Predicted\n",
       "Date                             \n",
       "2018-09-01  16050.0  18407.927734\n",
       "2018-10-01  18777.0  23174.572266\n",
       "2018-11-01  31518.0  29969.816406\n",
       "2018-12-01  25149.0  30938.740234\n",
       "2019-01-01  25771.0  26169.257812"
      ],
      "text/html": "<div>\n<style scoped>\n    .dataframe tbody tr th:only-of-type {\n        vertical-align: middle;\n    }\n\n    .dataframe tbody tr th {\n        vertical-align: top;\n    }\n\n    .dataframe thead th {\n        text-align: right;\n    }\n</style>\n<table border=\"1\" class=\"dataframe\">\n  <thead>\n    <tr style=\"text-align: right;\">\n      <th></th>\n      <th>Actual</th>\n      <th>Predicted</th>\n    </tr>\n    <tr>\n      <th>Date</th>\n      <th></th>\n      <th></th>\n    </tr>\n  </thead>\n  <tbody>\n    <tr>\n      <th>2018-09-01</th>\n      <td>16050.0</td>\n      <td>18407.927734</td>\n    </tr>\n    <tr>\n      <th>2018-10-01</th>\n      <td>18777.0</td>\n      <td>23174.572266</td>\n    </tr>\n    <tr>\n      <th>2018-11-01</th>\n      <td>31518.0</td>\n      <td>29969.816406</td>\n    </tr>\n    <tr>\n      <th>2018-12-01</th>\n      <td>25149.0</td>\n      <td>30938.740234</td>\n    </tr>\n    <tr>\n      <th>2019-01-01</th>\n      <td>25771.0</td>\n      <td>26169.257812</td>\n    </tr>\n  </tbody>\n</table>\n</div>"
     },
     "metadata": {},
     "execution_count": 68
    }
   ],
   "source": [
    "# Create a DataFrame of Real and Predicted values\n",
    "df_model = pd.DataFrame({\n",
    "    \"Actual\": y_test.ravel(),\n",
    "    \"Predicted\": predicted.ravel()\n",
    "}, index = df.index[-len(y_test): ]) \n",
    "\n",
    "# Show the DataFrame's head\n",
    "df_model.head()"
   ]
  },
  {
   "cell_type": "code",
   "execution_count": 76,
   "metadata": {},
   "outputs": [
    {
     "output_type": "execute_result",
     "data": {
      "text/plain": [
       "             Actual     Predicted\n",
       "Date                             \n",
       "2018-09-01  16050.0  18407.927734\n",
       "2018-10-01  18777.0  23174.572266\n",
       "2018-11-01  31518.0  29969.816406\n",
       "2018-12-01  25149.0  30938.740234\n",
       "2019-01-01  25771.0  26169.257812"
      ],
      "text/html": "<div>\n<style scoped>\n    .dataframe tbody tr th:only-of-type {\n        vertical-align: middle;\n    }\n\n    .dataframe tbody tr th {\n        vertical-align: top;\n    }\n\n    .dataframe thead th {\n        text-align: right;\n    }\n</style>\n<table border=\"1\" class=\"dataframe\">\n  <thead>\n    <tr style=\"text-align: right;\">\n      <th></th>\n      <th>Actual</th>\n      <th>Predicted</th>\n    </tr>\n    <tr>\n      <th>Date</th>\n      <th></th>\n      <th></th>\n    </tr>\n  </thead>\n  <tbody>\n    <tr>\n      <th>2018-09-01</th>\n      <td>16050.0</td>\n      <td>18407.927734</td>\n    </tr>\n    <tr>\n      <th>2018-10-01</th>\n      <td>18777.0</td>\n      <td>23174.572266</td>\n    </tr>\n    <tr>\n      <th>2018-11-01</th>\n      <td>31518.0</td>\n      <td>29969.816406</td>\n    </tr>\n    <tr>\n      <th>2018-12-01</th>\n      <td>25149.0</td>\n      <td>30938.740234</td>\n    </tr>\n    <tr>\n      <th>2019-01-01</th>\n      <td>25771.0</td>\n      <td>26169.257812</td>\n    </tr>\n  </tbody>\n</table>\n</div>"
     },
     "metadata": {},
     "execution_count": 76
    }
   ],
   "source": [
    "sales_pred= df_model[:20]\n",
    "sales_pred.head()"
   ]
  },
  {
   "cell_type": "code",
   "execution_count": null,
   "metadata": {},
   "outputs": [],
   "source": []
  },
  {
   "cell_type": "code",
   "execution_count": 77,
   "metadata": {},
   "outputs": [
    {
     "output_type": "execute_result",
     "data": {
      "text/plain": [
       "<AxesSubplot:title={'center':'Sales '}, xlabel='Date'>"
      ]
     },
     "metadata": {},
     "execution_count": 77
    },
    {
     "output_type": "display_data",
     "data": {
      "text/plain": "<Figure size 432x288 with 1 Axes>",
      "image/svg+xml": "<?xml version=\"1.0\" encoding=\"utf-8\" standalone=\"no\"?>\r\n<!DOCTYPE svg PUBLIC \"-//W3C//DTD SVG 1.1//EN\"\r\n  \"http://www.w3.org/Graphics/SVG/1.1/DTD/svg11.dtd\">\r\n<!-- Created with matplotlib (https://matplotlib.org/) -->\r\n<svg height=\"288.512187pt\" version=\"1.1\" viewBox=\"0 0 396.6625 288.512187\" width=\"396.6625pt\" xmlns=\"http://www.w3.org/2000/svg\" xmlns:xlink=\"http://www.w3.org/1999/xlink\">\r\n <metadata>\r\n  <rdf:RDF xmlns:cc=\"http://creativecommons.org/ns#\" xmlns:dc=\"http://purl.org/dc/elements/1.1/\" xmlns:rdf=\"http://www.w3.org/1999/02/22-rdf-syntax-ns#\">\r\n   <cc:Work>\r\n    <dc:type rdf:resource=\"http://purl.org/dc/dcmitype/StillImage\"/>\r\n    <dc:date>2021-01-14T20:06:36.078118</dc:date>\r\n    <dc:format>image/svg+xml</dc:format>\r\n    <dc:creator>\r\n     <cc:Agent>\r\n      <dc:title>Matplotlib v3.3.3, https://matplotlib.org/</dc:title>\r\n     </cc:Agent>\r\n    </dc:creator>\r\n   </cc:Work>\r\n  </rdf:RDF>\r\n </metadata>\r\n <defs>\r\n  <style type=\"text/css\">*{stroke-linecap:butt;stroke-linejoin:round;}</style>\r\n </defs>\r\n <g id=\"figure_1\">\r\n  <g id=\"patch_1\">\r\n   <path d=\"M 0 288.512187 \r\nL 396.6625 288.512187 \r\nL 396.6625 0 \r\nL 0 0 \r\nz\r\n\" style=\"fill:none;\"/>\r\n  </g>\r\n  <g id=\"axes_1\">\r\n   <g id=\"patch_2\">\r\n    <path d=\"M 46.0125 239.758125 \r\nL 380.8125 239.758125 \r\nL 380.8125 22.318125 \r\nL 46.0125 22.318125 \r\nz\r\n\" style=\"fill:#ffffff;\"/>\r\n   </g>\r\n   <g id=\"matplotlib.axis_1\">\r\n    <g id=\"xtick_1\">\r\n     <g id=\"line2d_1\">\r\n      <defs>\r\n       <path d=\"M 0 0 \r\nL 0 3.5 \r\n\" id=\"m62051edfac\" style=\"stroke:#000000;stroke-width:0.8;\"/>\r\n      </defs>\r\n      <g>\r\n       <use style=\"stroke:#000000;stroke-width:0.8;\" x=\"116.496711\" xlink:href=\"#m62051edfac\" y=\"239.758125\"/>\r\n      </g>\r\n     </g>\r\n     <g id=\"text_1\">\r\n      <!-- Jan -->\r\n      <g transform=\"translate(108.788898 254.356562)scale(0.1 -0.1)\">\r\n       <defs>\r\n        <path d=\"M 9.8125 72.90625 \r\nL 19.671875 72.90625 \r\nL 19.671875 5.078125 \r\nQ 19.671875 -8.109375 14.671875 -14.0625 \r\nQ 9.671875 -20.015625 -1.421875 -20.015625 \r\nL -5.171875 -20.015625 \r\nL -5.171875 -11.71875 \r\nL -2.09375 -11.71875 \r\nQ 4.4375 -11.71875 7.125 -8.046875 \r\nQ 9.8125 -4.390625 9.8125 5.078125 \r\nz\r\n\" id=\"DejaVuSans-74\"/>\r\n        <path d=\"M 34.28125 27.484375 \r\nQ 23.390625 27.484375 19.1875 25 \r\nQ 14.984375 22.515625 14.984375 16.5 \r\nQ 14.984375 11.71875 18.140625 8.90625 \r\nQ 21.296875 6.109375 26.703125 6.109375 \r\nQ 34.1875 6.109375 38.703125 11.40625 \r\nQ 43.21875 16.703125 43.21875 25.484375 \r\nL 43.21875 27.484375 \r\nz\r\nM 52.203125 31.203125 \r\nL 52.203125 0 \r\nL 43.21875 0 \r\nL 43.21875 8.296875 \r\nQ 40.140625 3.328125 35.546875 0.953125 \r\nQ 30.953125 -1.421875 24.3125 -1.421875 \r\nQ 15.921875 -1.421875 10.953125 3.296875 \r\nQ 6 8.015625 6 15.921875 \r\nQ 6 25.140625 12.171875 29.828125 \r\nQ 18.359375 34.515625 30.609375 34.515625 \r\nL 43.21875 34.515625 \r\nL 43.21875 35.40625 \r\nQ 43.21875 41.609375 39.140625 45 \r\nQ 35.0625 48.390625 27.6875 48.390625 \r\nQ 23 48.390625 18.546875 47.265625 \r\nQ 14.109375 46.140625 10.015625 43.890625 \r\nL 10.015625 52.203125 \r\nQ 14.9375 54.109375 19.578125 55.046875 \r\nQ 24.21875 56 28.609375 56 \r\nQ 40.484375 56 46.34375 49.84375 \r\nQ 52.203125 43.703125 52.203125 31.203125 \r\nz\r\n\" id=\"DejaVuSans-97\"/>\r\n        <path d=\"M 54.890625 33.015625 \r\nL 54.890625 0 \r\nL 45.90625 0 \r\nL 45.90625 32.71875 \r\nQ 45.90625 40.484375 42.875 44.328125 \r\nQ 39.84375 48.1875 33.796875 48.1875 \r\nQ 26.515625 48.1875 22.3125 43.546875 \r\nQ 18.109375 38.921875 18.109375 30.90625 \r\nL 18.109375 0 \r\nL 9.078125 0 \r\nL 9.078125 54.6875 \r\nL 18.109375 54.6875 \r\nL 18.109375 46.1875 \r\nQ 21.34375 51.125 25.703125 53.5625 \r\nQ 30.078125 56 35.796875 56 \r\nQ 45.21875 56 50.046875 50.171875 \r\nQ 54.890625 44.34375 54.890625 33.015625 \r\nz\r\n\" id=\"DejaVuSans-110\"/>\r\n       </defs>\r\n       <use xlink:href=\"#DejaVuSans-74\"/>\r\n       <use x=\"29.492188\" xlink:href=\"#DejaVuSans-97\"/>\r\n       <use x=\"90.771484\" xlink:href=\"#DejaVuSans-110\"/>\r\n      </g>\r\n      <!-- 2019 -->\r\n      <g transform=\"translate(103.771711 265.554375)scale(0.1 -0.1)\">\r\n       <defs>\r\n        <path d=\"M 19.1875 8.296875 \r\nL 53.609375 8.296875 \r\nL 53.609375 0 \r\nL 7.328125 0 \r\nL 7.328125 8.296875 \r\nQ 12.9375 14.109375 22.625 23.890625 \r\nQ 32.328125 33.6875 34.8125 36.53125 \r\nQ 39.546875 41.84375 41.421875 45.53125 \r\nQ 43.3125 49.21875 43.3125 52.78125 \r\nQ 43.3125 58.59375 39.234375 62.25 \r\nQ 35.15625 65.921875 28.609375 65.921875 \r\nQ 23.96875 65.921875 18.8125 64.3125 \r\nQ 13.671875 62.703125 7.8125 59.421875 \r\nL 7.8125 69.390625 \r\nQ 13.765625 71.78125 18.9375 73 \r\nQ 24.125 74.21875 28.421875 74.21875 \r\nQ 39.75 74.21875 46.484375 68.546875 \r\nQ 53.21875 62.890625 53.21875 53.421875 \r\nQ 53.21875 48.921875 51.53125 44.890625 \r\nQ 49.859375 40.875 45.40625 35.40625 \r\nQ 44.1875 33.984375 37.640625 27.21875 \r\nQ 31.109375 20.453125 19.1875 8.296875 \r\nz\r\n\" id=\"DejaVuSans-50\"/>\r\n        <path d=\"M 31.78125 66.40625 \r\nQ 24.171875 66.40625 20.328125 58.90625 \r\nQ 16.5 51.421875 16.5 36.375 \r\nQ 16.5 21.390625 20.328125 13.890625 \r\nQ 24.171875 6.390625 31.78125 6.390625 \r\nQ 39.453125 6.390625 43.28125 13.890625 \r\nQ 47.125 21.390625 47.125 36.375 \r\nQ 47.125 51.421875 43.28125 58.90625 \r\nQ 39.453125 66.40625 31.78125 66.40625 \r\nz\r\nM 31.78125 74.21875 \r\nQ 44.046875 74.21875 50.515625 64.515625 \r\nQ 56.984375 54.828125 56.984375 36.375 \r\nQ 56.984375 17.96875 50.515625 8.265625 \r\nQ 44.046875 -1.421875 31.78125 -1.421875 \r\nQ 19.53125 -1.421875 13.0625 8.265625 \r\nQ 6.59375 17.96875 6.59375 36.375 \r\nQ 6.59375 54.828125 13.0625 64.515625 \r\nQ 19.53125 74.21875 31.78125 74.21875 \r\nz\r\n\" id=\"DejaVuSans-48\"/>\r\n        <path d=\"M 12.40625 8.296875 \r\nL 28.515625 8.296875 \r\nL 28.515625 63.921875 \r\nL 10.984375 60.40625 \r\nL 10.984375 69.390625 \r\nL 28.421875 72.90625 \r\nL 38.28125 72.90625 \r\nL 38.28125 8.296875 \r\nL 54.390625 8.296875 \r\nL 54.390625 0 \r\nL 12.40625 0 \r\nz\r\n\" id=\"DejaVuSans-49\"/>\r\n        <path d=\"M 10.984375 1.515625 \r\nL 10.984375 10.5 \r\nQ 14.703125 8.734375 18.5 7.8125 \r\nQ 22.3125 6.890625 25.984375 6.890625 \r\nQ 35.75 6.890625 40.890625 13.453125 \r\nQ 46.046875 20.015625 46.78125 33.40625 \r\nQ 43.953125 29.203125 39.59375 26.953125 \r\nQ 35.25 24.703125 29.984375 24.703125 \r\nQ 19.046875 24.703125 12.671875 31.3125 \r\nQ 6.296875 37.9375 6.296875 49.421875 \r\nQ 6.296875 60.640625 12.9375 67.421875 \r\nQ 19.578125 74.21875 30.609375 74.21875 \r\nQ 43.265625 74.21875 49.921875 64.515625 \r\nQ 56.59375 54.828125 56.59375 36.375 \r\nQ 56.59375 19.140625 48.40625 8.859375 \r\nQ 40.234375 -1.421875 26.421875 -1.421875 \r\nQ 22.703125 -1.421875 18.890625 -0.6875 \r\nQ 15.09375 0.046875 10.984375 1.515625 \r\nz\r\nM 30.609375 32.421875 \r\nQ 37.25 32.421875 41.125 36.953125 \r\nQ 45.015625 41.5 45.015625 49.421875 \r\nQ 45.015625 57.28125 41.125 61.84375 \r\nQ 37.25 66.40625 30.609375 66.40625 \r\nQ 23.96875 66.40625 20.09375 61.84375 \r\nQ 16.21875 57.28125 16.21875 49.421875 \r\nQ 16.21875 41.5 20.09375 36.953125 \r\nQ 23.96875 32.421875 30.609375 32.421875 \r\nz\r\n\" id=\"DejaVuSans-57\"/>\r\n       </defs>\r\n       <use xlink:href=\"#DejaVuSans-50\"/>\r\n       <use x=\"63.623047\" xlink:href=\"#DejaVuSans-48\"/>\r\n       <use x=\"127.246094\" xlink:href=\"#DejaVuSans-49\"/>\r\n       <use x=\"190.869141\" xlink:href=\"#DejaVuSans-57\"/>\r\n      </g>\r\n     </g>\r\n    </g>\r\n    <g id=\"xtick_2\">\r\n     <g id=\"line2d_2\">\r\n      <g>\r\n       <use style=\"stroke:#000000;stroke-width:0.8;\" x=\"327.949342\" xlink:href=\"#m62051edfac\" y=\"239.758125\"/>\r\n      </g>\r\n     </g>\r\n     <g id=\"text_2\">\r\n      <!-- Jan -->\r\n      <g transform=\"translate(320.24153 254.356562)scale(0.1 -0.1)\">\r\n       <use xlink:href=\"#DejaVuSans-74\"/>\r\n       <use x=\"29.492188\" xlink:href=\"#DejaVuSans-97\"/>\r\n       <use x=\"90.771484\" xlink:href=\"#DejaVuSans-110\"/>\r\n      </g>\r\n      <!-- 2020 -->\r\n      <g transform=\"translate(315.224342 265.554375)scale(0.1 -0.1)\">\r\n       <use xlink:href=\"#DejaVuSans-50\"/>\r\n       <use x=\"63.623047\" xlink:href=\"#DejaVuSans-48\"/>\r\n       <use x=\"127.246094\" xlink:href=\"#DejaVuSans-50\"/>\r\n       <use x=\"190.869141\" xlink:href=\"#DejaVuSans-48\"/>\r\n      </g>\r\n     </g>\r\n    </g>\r\n    <g id=\"xtick_3\">\r\n     <g id=\"line2d_3\">\r\n      <defs>\r\n       <path d=\"M 0 0 \r\nL 0 2 \r\n\" id=\"m6c8f896b63\" style=\"stroke:#000000;stroke-width:0.6;\"/>\r\n      </defs>\r\n      <g>\r\n       <use style=\"stroke:#000000;stroke-width:0.6;\" x=\"46.0125\" xlink:href=\"#m6c8f896b63\" y=\"239.758125\"/>\r\n      </g>\r\n     </g>\r\n    </g>\r\n    <g id=\"xtick_4\">\r\n     <g id=\"line2d_4\">\r\n      <g>\r\n       <use style=\"stroke:#000000;stroke-width:0.6;\" x=\"63.633553\" xlink:href=\"#m6c8f896b63\" y=\"239.758125\"/>\r\n      </g>\r\n     </g>\r\n     <g id=\"text_3\">\r\n      <!-- Oct -->\r\n      <g transform=\"translate(54.98824 252.756562)scale(0.1 -0.1)\">\r\n       <defs>\r\n        <path d=\"M 39.40625 66.21875 \r\nQ 28.65625 66.21875 22.328125 58.203125 \r\nQ 16.015625 50.203125 16.015625 36.375 \r\nQ 16.015625 22.609375 22.328125 14.59375 \r\nQ 28.65625 6.59375 39.40625 6.59375 \r\nQ 50.140625 6.59375 56.421875 14.59375 \r\nQ 62.703125 22.609375 62.703125 36.375 \r\nQ 62.703125 50.203125 56.421875 58.203125 \r\nQ 50.140625 66.21875 39.40625 66.21875 \r\nz\r\nM 39.40625 74.21875 \r\nQ 54.734375 74.21875 63.90625 63.9375 \r\nQ 73.09375 53.65625 73.09375 36.375 \r\nQ 73.09375 19.140625 63.90625 8.859375 \r\nQ 54.734375 -1.421875 39.40625 -1.421875 \r\nQ 24.03125 -1.421875 14.8125 8.828125 \r\nQ 5.609375 19.09375 5.609375 36.375 \r\nQ 5.609375 53.65625 14.8125 63.9375 \r\nQ 24.03125 74.21875 39.40625 74.21875 \r\nz\r\n\" id=\"DejaVuSans-79\"/>\r\n        <path d=\"M 48.78125 52.59375 \r\nL 48.78125 44.1875 \r\nQ 44.96875 46.296875 41.140625 47.34375 \r\nQ 37.3125 48.390625 33.40625 48.390625 \r\nQ 24.65625 48.390625 19.8125 42.84375 \r\nQ 14.984375 37.3125 14.984375 27.296875 \r\nQ 14.984375 17.28125 19.8125 11.734375 \r\nQ 24.65625 6.203125 33.40625 6.203125 \r\nQ 37.3125 6.203125 41.140625 7.25 \r\nQ 44.96875 8.296875 48.78125 10.40625 \r\nL 48.78125 2.09375 \r\nQ 45.015625 0.34375 40.984375 -0.53125 \r\nQ 36.96875 -1.421875 32.421875 -1.421875 \r\nQ 20.0625 -1.421875 12.78125 6.34375 \r\nQ 5.515625 14.109375 5.515625 27.296875 \r\nQ 5.515625 40.671875 12.859375 48.328125 \r\nQ 20.21875 56 33.015625 56 \r\nQ 37.15625 56 41.109375 55.140625 \r\nQ 45.0625 54.296875 48.78125 52.59375 \r\nz\r\n\" id=\"DejaVuSans-99\"/>\r\n        <path d=\"M 18.3125 70.21875 \r\nL 18.3125 54.6875 \r\nL 36.8125 54.6875 \r\nL 36.8125 47.703125 \r\nL 18.3125 47.703125 \r\nL 18.3125 18.015625 \r\nQ 18.3125 11.328125 20.140625 9.421875 \r\nQ 21.96875 7.515625 27.59375 7.515625 \r\nL 36.8125 7.515625 \r\nL 36.8125 0 \r\nL 27.59375 0 \r\nQ 17.1875 0 13.234375 3.875 \r\nQ 9.28125 7.765625 9.28125 18.015625 \r\nL 9.28125 47.703125 \r\nL 2.6875 47.703125 \r\nL 2.6875 54.6875 \r\nL 9.28125 54.6875 \r\nL 9.28125 70.21875 \r\nz\r\n\" id=\"DejaVuSans-116\"/>\r\n       </defs>\r\n       <use xlink:href=\"#DejaVuSans-79\"/>\r\n       <use x=\"78.710938\" xlink:href=\"#DejaVuSans-99\"/>\r\n       <use x=\"133.691406\" xlink:href=\"#DejaVuSans-116\"/>\r\n      </g>\r\n     </g>\r\n    </g>\r\n    <g id=\"xtick_5\">\r\n     <g id=\"line2d_5\">\r\n      <g>\r\n       <use style=\"stroke:#000000;stroke-width:0.6;\" x=\"81.254605\" xlink:href=\"#m6c8f896b63\" y=\"239.758125\"/>\r\n      </g>\r\n     </g>\r\n    </g>\r\n    <g id=\"xtick_6\">\r\n     <g id=\"line2d_6\">\r\n      <g>\r\n       <use style=\"stroke:#000000;stroke-width:0.6;\" x=\"98.875658\" xlink:href=\"#m6c8f896b63\" y=\"239.758125\"/>\r\n      </g>\r\n     </g>\r\n    </g>\r\n    <g id=\"xtick_7\">\r\n     <g id=\"line2d_7\">\r\n      <g>\r\n       <use style=\"stroke:#000000;stroke-width:0.6;\" x=\"134.117763\" xlink:href=\"#m6c8f896b63\" y=\"239.758125\"/>\r\n      </g>\r\n     </g>\r\n    </g>\r\n    <g id=\"xtick_8\">\r\n     <g id=\"line2d_8\">\r\n      <g>\r\n       <use style=\"stroke:#000000;stroke-width:0.6;\" x=\"151.738816\" xlink:href=\"#m6c8f896b63\" y=\"239.758125\"/>\r\n      </g>\r\n     </g>\r\n    </g>\r\n    <g id=\"xtick_9\">\r\n     <g id=\"line2d_9\">\r\n      <g>\r\n       <use style=\"stroke:#000000;stroke-width:0.6;\" x=\"169.359868\" xlink:href=\"#m6c8f896b63\" y=\"239.758125\"/>\r\n      </g>\r\n     </g>\r\n     <g id=\"text_4\">\r\n      <!-- Apr -->\r\n      <g transform=\"translate(160.709868 252.756562)scale(0.1 -0.1)\">\r\n       <defs>\r\n        <path d=\"M 34.1875 63.1875 \r\nL 20.796875 26.90625 \r\nL 47.609375 26.90625 \r\nz\r\nM 28.609375 72.90625 \r\nL 39.796875 72.90625 \r\nL 67.578125 0 \r\nL 57.328125 0 \r\nL 50.6875 18.703125 \r\nL 17.828125 18.703125 \r\nL 11.1875 0 \r\nL 0.78125 0 \r\nz\r\n\" id=\"DejaVuSans-65\"/>\r\n        <path d=\"M 18.109375 8.203125 \r\nL 18.109375 -20.796875 \r\nL 9.078125 -20.796875 \r\nL 9.078125 54.6875 \r\nL 18.109375 54.6875 \r\nL 18.109375 46.390625 \r\nQ 20.953125 51.265625 25.265625 53.625 \r\nQ 29.59375 56 35.59375 56 \r\nQ 45.5625 56 51.78125 48.09375 \r\nQ 58.015625 40.1875 58.015625 27.296875 \r\nQ 58.015625 14.40625 51.78125 6.484375 \r\nQ 45.5625 -1.421875 35.59375 -1.421875 \r\nQ 29.59375 -1.421875 25.265625 0.953125 \r\nQ 20.953125 3.328125 18.109375 8.203125 \r\nz\r\nM 48.6875 27.296875 \r\nQ 48.6875 37.203125 44.609375 42.84375 \r\nQ 40.53125 48.484375 33.40625 48.484375 \r\nQ 26.265625 48.484375 22.1875 42.84375 \r\nQ 18.109375 37.203125 18.109375 27.296875 \r\nQ 18.109375 17.390625 22.1875 11.75 \r\nQ 26.265625 6.109375 33.40625 6.109375 \r\nQ 40.53125 6.109375 44.609375 11.75 \r\nQ 48.6875 17.390625 48.6875 27.296875 \r\nz\r\n\" id=\"DejaVuSans-112\"/>\r\n        <path d=\"M 41.109375 46.296875 \r\nQ 39.59375 47.171875 37.8125 47.578125 \r\nQ 36.03125 48 33.890625 48 \r\nQ 26.265625 48 22.1875 43.046875 \r\nQ 18.109375 38.09375 18.109375 28.8125 \r\nL 18.109375 0 \r\nL 9.078125 0 \r\nL 9.078125 54.6875 \r\nL 18.109375 54.6875 \r\nL 18.109375 46.1875 \r\nQ 20.953125 51.171875 25.484375 53.578125 \r\nQ 30.03125 56 36.53125 56 \r\nQ 37.453125 56 38.578125 55.875 \r\nQ 39.703125 55.765625 41.0625 55.515625 \r\nz\r\n\" id=\"DejaVuSans-114\"/>\r\n       </defs>\r\n       <use xlink:href=\"#DejaVuSans-65\"/>\r\n       <use x=\"68.408203\" xlink:href=\"#DejaVuSans-112\"/>\r\n       <use x=\"131.884766\" xlink:href=\"#DejaVuSans-114\"/>\r\n      </g>\r\n     </g>\r\n    </g>\r\n    <g id=\"xtick_10\">\r\n     <g id=\"line2d_10\">\r\n      <g>\r\n       <use style=\"stroke:#000000;stroke-width:0.6;\" x=\"186.980921\" xlink:href=\"#m6c8f896b63\" y=\"239.758125\"/>\r\n      </g>\r\n     </g>\r\n    </g>\r\n    <g id=\"xtick_11\">\r\n     <g id=\"line2d_11\">\r\n      <g>\r\n       <use style=\"stroke:#000000;stroke-width:0.6;\" x=\"204.601974\" xlink:href=\"#m6c8f896b63\" y=\"239.758125\"/>\r\n      </g>\r\n     </g>\r\n    </g>\r\n    <g id=\"xtick_12\">\r\n     <g id=\"line2d_12\">\r\n      <g>\r\n       <use style=\"stroke:#000000;stroke-width:0.6;\" x=\"222.223026\" xlink:href=\"#m6c8f896b63\" y=\"239.758125\"/>\r\n      </g>\r\n     </g>\r\n     <g id=\"text_5\">\r\n      <!-- Jul -->\r\n      <g transform=\"translate(216.190214 252.756562)scale(0.1 -0.1)\">\r\n       <defs>\r\n        <path d=\"M 8.5 21.578125 \r\nL 8.5 54.6875 \r\nL 17.484375 54.6875 \r\nL 17.484375 21.921875 \r\nQ 17.484375 14.15625 20.5 10.265625 \r\nQ 23.53125 6.390625 29.59375 6.390625 \r\nQ 36.859375 6.390625 41.078125 11.03125 \r\nQ 45.3125 15.671875 45.3125 23.6875 \r\nL 45.3125 54.6875 \r\nL 54.296875 54.6875 \r\nL 54.296875 0 \r\nL 45.3125 0 \r\nL 45.3125 8.40625 \r\nQ 42.046875 3.421875 37.71875 1 \r\nQ 33.40625 -1.421875 27.6875 -1.421875 \r\nQ 18.265625 -1.421875 13.375 4.4375 \r\nQ 8.5 10.296875 8.5 21.578125 \r\nz\r\nM 31.109375 56 \r\nz\r\n\" id=\"DejaVuSans-117\"/>\r\n        <path d=\"M 9.421875 75.984375 \r\nL 18.40625 75.984375 \r\nL 18.40625 0 \r\nL 9.421875 0 \r\nz\r\n\" id=\"DejaVuSans-108\"/>\r\n       </defs>\r\n       <use xlink:href=\"#DejaVuSans-74\"/>\r\n       <use x=\"29.492188\" xlink:href=\"#DejaVuSans-117\"/>\r\n       <use x=\"92.871094\" xlink:href=\"#DejaVuSans-108\"/>\r\n      </g>\r\n     </g>\r\n    </g>\r\n    <g id=\"xtick_13\">\r\n     <g id=\"line2d_13\">\r\n      <g>\r\n       <use style=\"stroke:#000000;stroke-width:0.6;\" x=\"239.844079\" xlink:href=\"#m6c8f896b63\" y=\"239.758125\"/>\r\n      </g>\r\n     </g>\r\n    </g>\r\n    <g id=\"xtick_14\">\r\n     <g id=\"line2d_14\">\r\n      <g>\r\n       <use style=\"stroke:#000000;stroke-width:0.6;\" x=\"257.465132\" xlink:href=\"#m6c8f896b63\" y=\"239.758125\"/>\r\n      </g>\r\n     </g>\r\n    </g>\r\n    <g id=\"xtick_15\">\r\n     <g id=\"line2d_15\">\r\n      <g>\r\n       <use style=\"stroke:#000000;stroke-width:0.6;\" x=\"275.086184\" xlink:href=\"#m6c8f896b63\" y=\"239.758125\"/>\r\n      </g>\r\n     </g>\r\n     <g id=\"text_6\">\r\n      <!-- Oct -->\r\n      <g transform=\"translate(266.440872 252.756562)scale(0.1 -0.1)\">\r\n       <use xlink:href=\"#DejaVuSans-79\"/>\r\n       <use x=\"78.710938\" xlink:href=\"#DejaVuSans-99\"/>\r\n       <use x=\"133.691406\" xlink:href=\"#DejaVuSans-116\"/>\r\n      </g>\r\n     </g>\r\n    </g>\r\n    <g id=\"xtick_16\">\r\n     <g id=\"line2d_16\">\r\n      <g>\r\n       <use style=\"stroke:#000000;stroke-width:0.6;\" x=\"292.707237\" xlink:href=\"#m6c8f896b63\" y=\"239.758125\"/>\r\n      </g>\r\n     </g>\r\n    </g>\r\n    <g id=\"xtick_17\">\r\n     <g id=\"line2d_17\">\r\n      <g>\r\n       <use style=\"stroke:#000000;stroke-width:0.6;\" x=\"310.328289\" xlink:href=\"#m6c8f896b63\" y=\"239.758125\"/>\r\n      </g>\r\n     </g>\r\n    </g>\r\n    <g id=\"xtick_18\">\r\n     <g id=\"line2d_18\">\r\n      <g>\r\n       <use style=\"stroke:#000000;stroke-width:0.6;\" x=\"345.570395\" xlink:href=\"#m6c8f896b63\" y=\"239.758125\"/>\r\n      </g>\r\n     </g>\r\n    </g>\r\n    <g id=\"xtick_19\">\r\n     <g id=\"line2d_19\">\r\n      <g>\r\n       <use style=\"stroke:#000000;stroke-width:0.6;\" x=\"363.191447\" xlink:href=\"#m6c8f896b63\" y=\"239.758125\"/>\r\n      </g>\r\n     </g>\r\n    </g>\r\n    <g id=\"xtick_20\">\r\n     <g id=\"line2d_20\">\r\n      <g>\r\n       <use style=\"stroke:#000000;stroke-width:0.6;\" x=\"380.8125\" xlink:href=\"#m6c8f896b63\" y=\"239.758125\"/>\r\n      </g>\r\n     </g>\r\n     <g id=\"text_7\">\r\n      <!-- Apr -->\r\n      <g transform=\"translate(372.1625 252.756562)scale(0.1 -0.1)\">\r\n       <use xlink:href=\"#DejaVuSans-65\"/>\r\n       <use x=\"68.408203\" xlink:href=\"#DejaVuSans-112\"/>\r\n       <use x=\"131.884766\" xlink:href=\"#DejaVuSans-114\"/>\r\n      </g>\r\n     </g>\r\n    </g>\r\n    <g id=\"text_8\">\r\n     <!-- Date -->\r\n     <g transform=\"translate(201.461719 279.2325)scale(0.1 -0.1)\">\r\n      <defs>\r\n       <path d=\"M 19.671875 64.796875 \r\nL 19.671875 8.109375 \r\nL 31.59375 8.109375 \r\nQ 46.6875 8.109375 53.6875 14.9375 \r\nQ 60.6875 21.78125 60.6875 36.53125 \r\nQ 60.6875 51.171875 53.6875 57.984375 \r\nQ 46.6875 64.796875 31.59375 64.796875 \r\nz\r\nM 9.8125 72.90625 \r\nL 30.078125 72.90625 \r\nQ 51.265625 72.90625 61.171875 64.09375 \r\nQ 71.09375 55.28125 71.09375 36.53125 \r\nQ 71.09375 17.671875 61.125 8.828125 \r\nQ 51.171875 0 30.078125 0 \r\nL 9.8125 0 \r\nz\r\n\" id=\"DejaVuSans-68\"/>\r\n       <path d=\"M 56.203125 29.59375 \r\nL 56.203125 25.203125 \r\nL 14.890625 25.203125 \r\nQ 15.484375 15.921875 20.484375 11.0625 \r\nQ 25.484375 6.203125 34.421875 6.203125 \r\nQ 39.59375 6.203125 44.453125 7.46875 \r\nQ 49.3125 8.734375 54.109375 11.28125 \r\nL 54.109375 2.78125 \r\nQ 49.265625 0.734375 44.1875 -0.34375 \r\nQ 39.109375 -1.421875 33.890625 -1.421875 \r\nQ 20.796875 -1.421875 13.15625 6.1875 \r\nQ 5.515625 13.8125 5.515625 26.8125 \r\nQ 5.515625 40.234375 12.765625 48.109375 \r\nQ 20.015625 56 32.328125 56 \r\nQ 43.359375 56 49.78125 48.890625 \r\nQ 56.203125 41.796875 56.203125 29.59375 \r\nz\r\nM 47.21875 32.234375 \r\nQ 47.125 39.59375 43.09375 43.984375 \r\nQ 39.0625 48.390625 32.421875 48.390625 \r\nQ 24.90625 48.390625 20.390625 44.140625 \r\nQ 15.875 39.890625 15.1875 32.171875 \r\nz\r\n\" id=\"DejaVuSans-101\"/>\r\n      </defs>\r\n      <use xlink:href=\"#DejaVuSans-68\"/>\r\n      <use x=\"77.001953\" xlink:href=\"#DejaVuSans-97\"/>\r\n      <use x=\"138.28125\" xlink:href=\"#DejaVuSans-116\"/>\r\n      <use x=\"177.490234\" xlink:href=\"#DejaVuSans-101\"/>\r\n     </g>\r\n    </g>\r\n   </g>\r\n   <g id=\"matplotlib.axis_2\">\r\n    <g id=\"ytick_1\">\r\n     <g id=\"line2d_21\">\r\n      <defs>\r\n       <path d=\"M 0 0 \r\nL -3.5 0 \r\n\" id=\"m970a966eb3\" style=\"stroke:#000000;stroke-width:0.8;\"/>\r\n      </defs>\r\n      <g>\r\n       <use style=\"stroke:#000000;stroke-width:0.8;\" x=\"46.0125\" xlink:href=\"#m970a966eb3\" y=\"224.913304\"/>\r\n      </g>\r\n     </g>\r\n     <g id=\"text_9\">\r\n      <!-- 15000 -->\r\n      <g transform=\"translate(7.2 228.712522)scale(0.1 -0.1)\">\r\n       <defs>\r\n        <path d=\"M 10.796875 72.90625 \r\nL 49.515625 72.90625 \r\nL 49.515625 64.59375 \r\nL 19.828125 64.59375 \r\nL 19.828125 46.734375 \r\nQ 21.96875 47.46875 24.109375 47.828125 \r\nQ 26.265625 48.1875 28.421875 48.1875 \r\nQ 40.625 48.1875 47.75 41.5 \r\nQ 54.890625 34.8125 54.890625 23.390625 \r\nQ 54.890625 11.625 47.5625 5.09375 \r\nQ 40.234375 -1.421875 26.90625 -1.421875 \r\nQ 22.3125 -1.421875 17.546875 -0.640625 \r\nQ 12.796875 0.140625 7.71875 1.703125 \r\nL 7.71875 11.625 \r\nQ 12.109375 9.234375 16.796875 8.0625 \r\nQ 21.484375 6.890625 26.703125 6.890625 \r\nQ 35.15625 6.890625 40.078125 11.328125 \r\nQ 45.015625 15.765625 45.015625 23.390625 \r\nQ 45.015625 31 40.078125 35.4375 \r\nQ 35.15625 39.890625 26.703125 39.890625 \r\nQ 22.75 39.890625 18.8125 39.015625 \r\nQ 14.890625 38.140625 10.796875 36.28125 \r\nz\r\n\" id=\"DejaVuSans-53\"/>\r\n       </defs>\r\n       <use xlink:href=\"#DejaVuSans-49\"/>\r\n       <use x=\"63.623047\" xlink:href=\"#DejaVuSans-53\"/>\r\n       <use x=\"127.246094\" xlink:href=\"#DejaVuSans-48\"/>\r\n       <use x=\"190.869141\" xlink:href=\"#DejaVuSans-48\"/>\r\n       <use x=\"254.492188\" xlink:href=\"#DejaVuSans-48\"/>\r\n      </g>\r\n     </g>\r\n    </g>\r\n    <g id=\"ytick_2\">\r\n     <g id=\"line2d_22\">\r\n      <g>\r\n       <use style=\"stroke:#000000;stroke-width:0.8;\" x=\"46.0125\" xlink:href=\"#m970a966eb3\" y=\"183.707449\"/>\r\n      </g>\r\n     </g>\r\n     <g id=\"text_10\">\r\n      <!-- 20000 -->\r\n      <g transform=\"translate(7.2 187.506668)scale(0.1 -0.1)\">\r\n       <use xlink:href=\"#DejaVuSans-50\"/>\r\n       <use x=\"63.623047\" xlink:href=\"#DejaVuSans-48\"/>\r\n       <use x=\"127.246094\" xlink:href=\"#DejaVuSans-48\"/>\r\n       <use x=\"190.869141\" xlink:href=\"#DejaVuSans-48\"/>\r\n       <use x=\"254.492188\" xlink:href=\"#DejaVuSans-48\"/>\r\n      </g>\r\n     </g>\r\n    </g>\r\n    <g id=\"ytick_3\">\r\n     <g id=\"line2d_23\">\r\n      <g>\r\n       <use style=\"stroke:#000000;stroke-width:0.8;\" x=\"46.0125\" xlink:href=\"#m970a966eb3\" y=\"142.501594\"/>\r\n      </g>\r\n     </g>\r\n     <g id=\"text_11\">\r\n      <!-- 25000 -->\r\n      <g transform=\"translate(7.2 146.300813)scale(0.1 -0.1)\">\r\n       <use xlink:href=\"#DejaVuSans-50\"/>\r\n       <use x=\"63.623047\" xlink:href=\"#DejaVuSans-53\"/>\r\n       <use x=\"127.246094\" xlink:href=\"#DejaVuSans-48\"/>\r\n       <use x=\"190.869141\" xlink:href=\"#DejaVuSans-48\"/>\r\n       <use x=\"254.492188\" xlink:href=\"#DejaVuSans-48\"/>\r\n      </g>\r\n     </g>\r\n    </g>\r\n    <g id=\"ytick_4\">\r\n     <g id=\"line2d_24\">\r\n      <g>\r\n       <use style=\"stroke:#000000;stroke-width:0.8;\" x=\"46.0125\" xlink:href=\"#m970a966eb3\" y=\"101.295739\"/>\r\n      </g>\r\n     </g>\r\n     <g id=\"text_12\">\r\n      <!-- 30000 -->\r\n      <g transform=\"translate(7.2 105.094958)scale(0.1 -0.1)\">\r\n       <defs>\r\n        <path d=\"M 40.578125 39.3125 \r\nQ 47.65625 37.796875 51.625 33 \r\nQ 55.609375 28.21875 55.609375 21.1875 \r\nQ 55.609375 10.40625 48.1875 4.484375 \r\nQ 40.765625 -1.421875 27.09375 -1.421875 \r\nQ 22.515625 -1.421875 17.65625 -0.515625 \r\nQ 12.796875 0.390625 7.625 2.203125 \r\nL 7.625 11.71875 \r\nQ 11.71875 9.328125 16.59375 8.109375 \r\nQ 21.484375 6.890625 26.8125 6.890625 \r\nQ 36.078125 6.890625 40.9375 10.546875 \r\nQ 45.796875 14.203125 45.796875 21.1875 \r\nQ 45.796875 27.640625 41.28125 31.265625 \r\nQ 36.765625 34.90625 28.71875 34.90625 \r\nL 20.21875 34.90625 \r\nL 20.21875 43.015625 \r\nL 29.109375 43.015625 \r\nQ 36.375 43.015625 40.234375 45.921875 \r\nQ 44.09375 48.828125 44.09375 54.296875 \r\nQ 44.09375 59.90625 40.109375 62.90625 \r\nQ 36.140625 65.921875 28.71875 65.921875 \r\nQ 24.65625 65.921875 20.015625 65.03125 \r\nQ 15.375 64.15625 9.8125 62.3125 \r\nL 9.8125 71.09375 \r\nQ 15.4375 72.65625 20.34375 73.4375 \r\nQ 25.25 74.21875 29.59375 74.21875 \r\nQ 40.828125 74.21875 47.359375 69.109375 \r\nQ 53.90625 64.015625 53.90625 55.328125 \r\nQ 53.90625 49.265625 50.4375 45.09375 \r\nQ 46.96875 40.921875 40.578125 39.3125 \r\nz\r\n\" id=\"DejaVuSans-51\"/>\r\n       </defs>\r\n       <use xlink:href=\"#DejaVuSans-51\"/>\r\n       <use x=\"63.623047\" xlink:href=\"#DejaVuSans-48\"/>\r\n       <use x=\"127.246094\" xlink:href=\"#DejaVuSans-48\"/>\r\n       <use x=\"190.869141\" xlink:href=\"#DejaVuSans-48\"/>\r\n       <use x=\"254.492188\" xlink:href=\"#DejaVuSans-48\"/>\r\n      </g>\r\n     </g>\r\n    </g>\r\n    <g id=\"ytick_5\">\r\n     <g id=\"line2d_25\">\r\n      <g>\r\n       <use style=\"stroke:#000000;stroke-width:0.8;\" x=\"46.0125\" xlink:href=\"#m970a966eb3\" y=\"60.089884\"/>\r\n      </g>\r\n     </g>\r\n     <g id=\"text_13\">\r\n      <!-- 35000 -->\r\n      <g transform=\"translate(7.2 63.889103)scale(0.1 -0.1)\">\r\n       <use xlink:href=\"#DejaVuSans-51\"/>\r\n       <use x=\"63.623047\" xlink:href=\"#DejaVuSans-53\"/>\r\n       <use x=\"127.246094\" xlink:href=\"#DejaVuSans-48\"/>\r\n       <use x=\"190.869141\" xlink:href=\"#DejaVuSans-48\"/>\r\n       <use x=\"254.492188\" xlink:href=\"#DejaVuSans-48\"/>\r\n      </g>\r\n     </g>\r\n    </g>\r\n   </g>\r\n   <g id=\"line2d_26\">\r\n    <path clip-path=\"url(#p116653e52b)\" d=\"M 46.0125 216.260074 \r\nL 63.633553 193.786401 \r\nL 81.254605 88.785641 \r\nL 98.875658 141.273659 \r\nL 116.496711 136.147651 \r\nL 134.117763 148.534131 \r\nL 151.738816 150.223571 \r\nL 169.359868 175.350901 \r\nL 186.980921 213.507523 \r\nL 204.601974 183.29539 \r\nL 222.223026 99.919463 \r\nL 239.844079 201.582549 \r\nL 257.465132 219.548301 \r\nL 275.086184 32.201761 \r\nL 292.707237 229.874489 \r\nL 310.328289 217.413838 \r\nL 327.949342 122.986501 \r\nL 345.570395 115.396382 \r\nL 363.191447 179.875304 \r\nL 380.8125 147.54519 \r\n\" style=\"fill:none;stroke:#1f77b4;stroke-linecap:square;stroke-width:1.5;\"/>\r\n   </g>\r\n   <g id=\"line2d_27\">\r\n    <path clip-path=\"url(#p116653e52b)\" d=\"M 46.0125 196.827989 \r\nL 63.633553 157.545256 \r\nL 81.254605 101.544487 \r\nL 98.875658 93.55942 \r\nL 116.496711 132.86554 \r\nL 134.117763 182.586553 \r\nL 151.738816 165.916982 \r\nL 169.359868 197.69571 \r\nL 186.980921 166.681029 \r\nL 204.601974 192.918036 \r\nL 222.223026 126.458545 \r\nL 239.844079 186.310918 \r\nL 257.465132 207.154144 \r\nL 275.086184 57.717908 \r\nL 292.707237 195.567653 \r\nL 310.328289 181.542178 \r\nL 327.949342 98.085674 \r\nL 345.570395 116.807522 \r\nL 363.191447 199.770006 \r\nL 380.8125 144.426905 \r\n\" style=\"fill:none;stroke:#ff7f0e;stroke-linecap:square;stroke-width:1.5;\"/>\r\n   </g>\r\n   <g id=\"patch_3\">\r\n    <path d=\"M 46.0125 239.758125 \r\nL 46.0125 22.318125 \r\n\" style=\"fill:none;stroke:#000000;stroke-linecap:square;stroke-linejoin:miter;stroke-width:0.8;\"/>\r\n   </g>\r\n   <g id=\"patch_4\">\r\n    <path d=\"M 380.8125 239.758125 \r\nL 380.8125 22.318125 \r\n\" style=\"fill:none;stroke:#000000;stroke-linecap:square;stroke-linejoin:miter;stroke-width:0.8;\"/>\r\n   </g>\r\n   <g id=\"patch_5\">\r\n    <path d=\"M 46.0125 239.758125 \r\nL 380.8125 239.758125 \r\n\" style=\"fill:none;stroke:#000000;stroke-linecap:square;stroke-linejoin:miter;stroke-width:0.8;\"/>\r\n   </g>\r\n   <g id=\"patch_6\">\r\n    <path d=\"M 46.0125 22.318125 \r\nL 380.8125 22.318125 \r\n\" style=\"fill:none;stroke:#000000;stroke-linecap:square;stroke-linejoin:miter;stroke-width:0.8;\"/>\r\n   </g>\r\n   <g id=\"text_14\">\r\n    <!-- Sales  -->\r\n    <g transform=\"translate(195.535313 16.318125)scale(0.12 -0.12)\">\r\n     <defs>\r\n      <path d=\"M 53.515625 70.515625 \r\nL 53.515625 60.890625 \r\nQ 47.90625 63.578125 42.921875 64.890625 \r\nQ 37.9375 66.21875 33.296875 66.21875 \r\nQ 25.25 66.21875 20.875 63.09375 \r\nQ 16.5 59.96875 16.5 54.203125 \r\nQ 16.5 49.359375 19.40625 46.890625 \r\nQ 22.3125 44.4375 30.421875 42.921875 \r\nL 36.375 41.703125 \r\nQ 47.40625 39.59375 52.65625 34.296875 \r\nQ 57.90625 29 57.90625 20.125 \r\nQ 57.90625 9.515625 50.796875 4.046875 \r\nQ 43.703125 -1.421875 29.984375 -1.421875 \r\nQ 24.8125 -1.421875 18.96875 -0.25 \r\nQ 13.140625 0.921875 6.890625 3.21875 \r\nL 6.890625 13.375 \r\nQ 12.890625 10.015625 18.65625 8.296875 \r\nQ 24.421875 6.59375 29.984375 6.59375 \r\nQ 38.421875 6.59375 43.015625 9.90625 \r\nQ 47.609375 13.234375 47.609375 19.390625 \r\nQ 47.609375 24.75 44.3125 27.78125 \r\nQ 41.015625 30.8125 33.5 32.328125 \r\nL 27.484375 33.5 \r\nQ 16.453125 35.6875 11.515625 40.375 \r\nQ 6.59375 45.0625 6.59375 53.421875 \r\nQ 6.59375 63.09375 13.40625 68.65625 \r\nQ 20.21875 74.21875 32.171875 74.21875 \r\nQ 37.3125 74.21875 42.625 73.28125 \r\nQ 47.953125 72.359375 53.515625 70.515625 \r\nz\r\n\" id=\"DejaVuSans-83\"/>\r\n      <path d=\"M 44.28125 53.078125 \r\nL 44.28125 44.578125 \r\nQ 40.484375 46.53125 36.375 47.5 \r\nQ 32.28125 48.484375 27.875 48.484375 \r\nQ 21.1875 48.484375 17.84375 46.4375 \r\nQ 14.5 44.390625 14.5 40.28125 \r\nQ 14.5 37.15625 16.890625 35.375 \r\nQ 19.28125 33.59375 26.515625 31.984375 \r\nL 29.59375 31.296875 \r\nQ 39.15625 29.25 43.1875 25.515625 \r\nQ 47.21875 21.78125 47.21875 15.09375 \r\nQ 47.21875 7.46875 41.1875 3.015625 \r\nQ 35.15625 -1.421875 24.609375 -1.421875 \r\nQ 20.21875 -1.421875 15.453125 -0.5625 \r\nQ 10.6875 0.296875 5.421875 2 \r\nL 5.421875 11.28125 \r\nQ 10.40625 8.6875 15.234375 7.390625 \r\nQ 20.0625 6.109375 24.8125 6.109375 \r\nQ 31.15625 6.109375 34.5625 8.28125 \r\nQ 37.984375 10.453125 37.984375 14.40625 \r\nQ 37.984375 18.0625 35.515625 20.015625 \r\nQ 33.0625 21.96875 24.703125 23.78125 \r\nL 21.578125 24.515625 \r\nQ 13.234375 26.265625 9.515625 29.90625 \r\nQ 5.8125 33.546875 5.8125 39.890625 \r\nQ 5.8125 47.609375 11.28125 51.796875 \r\nQ 16.75 56 26.8125 56 \r\nQ 31.78125 56 36.171875 55.265625 \r\nQ 40.578125 54.546875 44.28125 53.078125 \r\nz\r\n\" id=\"DejaVuSans-115\"/>\r\n      <path id=\"DejaVuSans-32\"/>\r\n     </defs>\r\n     <use xlink:href=\"#DejaVuSans-83\"/>\r\n     <use x=\"63.476562\" xlink:href=\"#DejaVuSans-97\"/>\r\n     <use x=\"124.755859\" xlink:href=\"#DejaVuSans-108\"/>\r\n     <use x=\"152.539062\" xlink:href=\"#DejaVuSans-101\"/>\r\n     <use x=\"214.0625\" xlink:href=\"#DejaVuSans-115\"/>\r\n     <use x=\"266.162109\" xlink:href=\"#DejaVuSans-32\"/>\r\n    </g>\r\n   </g>\r\n   <g id=\"legend_1\">\r\n    <g id=\"patch_7\">\r\n     <path d=\"M 294.871875 59.674375 \r\nL 373.8125 59.674375 \r\nQ 375.8125 59.674375 375.8125 57.674375 \r\nL 375.8125 29.318125 \r\nQ 375.8125 27.318125 373.8125 27.318125 \r\nL 294.871875 27.318125 \r\nQ 292.871875 27.318125 292.871875 29.318125 \r\nL 292.871875 57.674375 \r\nQ 292.871875 59.674375 294.871875 59.674375 \r\nz\r\n\" style=\"fill:#ffffff;opacity:0.8;stroke:#cccccc;stroke-linejoin:miter;\"/>\r\n    </g>\r\n    <g id=\"line2d_28\">\r\n     <path d=\"M 296.871875 35.416563 \r\nL 316.871875 35.416563 \r\n\" style=\"fill:none;stroke:#1f77b4;stroke-linecap:square;stroke-width:1.5;\"/>\r\n    </g>\r\n    <g id=\"line2d_29\"/>\r\n    <g id=\"text_15\">\r\n     <!-- Actual -->\r\n     <g transform=\"translate(324.871875 38.916563)scale(0.1 -0.1)\">\r\n      <use xlink:href=\"#DejaVuSans-65\"/>\r\n      <use x=\"66.658203\" xlink:href=\"#DejaVuSans-99\"/>\r\n      <use x=\"121.638672\" xlink:href=\"#DejaVuSans-116\"/>\r\n      <use x=\"160.847656\" xlink:href=\"#DejaVuSans-117\"/>\r\n      <use x=\"224.226562\" xlink:href=\"#DejaVuSans-97\"/>\r\n      <use x=\"285.505859\" xlink:href=\"#DejaVuSans-108\"/>\r\n     </g>\r\n    </g>\r\n    <g id=\"line2d_30\">\r\n     <path d=\"M 296.871875 50.094688 \r\nL 316.871875 50.094688 \r\n\" style=\"fill:none;stroke:#ff7f0e;stroke-linecap:square;stroke-width:1.5;\"/>\r\n    </g>\r\n    <g id=\"line2d_31\"/>\r\n    <g id=\"text_16\">\r\n     <!-- Predicted -->\r\n     <g transform=\"translate(324.871875 53.594688)scale(0.1 -0.1)\">\r\n      <defs>\r\n       <path d=\"M 19.671875 64.796875 \r\nL 19.671875 37.40625 \r\nL 32.078125 37.40625 \r\nQ 38.96875 37.40625 42.71875 40.96875 \r\nQ 46.484375 44.53125 46.484375 51.125 \r\nQ 46.484375 57.671875 42.71875 61.234375 \r\nQ 38.96875 64.796875 32.078125 64.796875 \r\nz\r\nM 9.8125 72.90625 \r\nL 32.078125 72.90625 \r\nQ 44.34375 72.90625 50.609375 67.359375 \r\nQ 56.890625 61.8125 56.890625 51.125 \r\nQ 56.890625 40.328125 50.609375 34.8125 \r\nQ 44.34375 29.296875 32.078125 29.296875 \r\nL 19.671875 29.296875 \r\nL 19.671875 0 \r\nL 9.8125 0 \r\nz\r\n\" id=\"DejaVuSans-80\"/>\r\n       <path d=\"M 45.40625 46.390625 \r\nL 45.40625 75.984375 \r\nL 54.390625 75.984375 \r\nL 54.390625 0 \r\nL 45.40625 0 \r\nL 45.40625 8.203125 \r\nQ 42.578125 3.328125 38.25 0.953125 \r\nQ 33.9375 -1.421875 27.875 -1.421875 \r\nQ 17.96875 -1.421875 11.734375 6.484375 \r\nQ 5.515625 14.40625 5.515625 27.296875 \r\nQ 5.515625 40.1875 11.734375 48.09375 \r\nQ 17.96875 56 27.875 56 \r\nQ 33.9375 56 38.25 53.625 \r\nQ 42.578125 51.265625 45.40625 46.390625 \r\nz\r\nM 14.796875 27.296875 \r\nQ 14.796875 17.390625 18.875 11.75 \r\nQ 22.953125 6.109375 30.078125 6.109375 \r\nQ 37.203125 6.109375 41.296875 11.75 \r\nQ 45.40625 17.390625 45.40625 27.296875 \r\nQ 45.40625 37.203125 41.296875 42.84375 \r\nQ 37.203125 48.484375 30.078125 48.484375 \r\nQ 22.953125 48.484375 18.875 42.84375 \r\nQ 14.796875 37.203125 14.796875 27.296875 \r\nz\r\n\" id=\"DejaVuSans-100\"/>\r\n       <path d=\"M 9.421875 54.6875 \r\nL 18.40625 54.6875 \r\nL 18.40625 0 \r\nL 9.421875 0 \r\nz\r\nM 9.421875 75.984375 \r\nL 18.40625 75.984375 \r\nL 18.40625 64.59375 \r\nL 9.421875 64.59375 \r\nz\r\n\" id=\"DejaVuSans-105\"/>\r\n      </defs>\r\n      <use xlink:href=\"#DejaVuSans-80\"/>\r\n      <use x=\"58.552734\" xlink:href=\"#DejaVuSans-114\"/>\r\n      <use x=\"97.416016\" xlink:href=\"#DejaVuSans-101\"/>\r\n      <use x=\"158.939453\" xlink:href=\"#DejaVuSans-100\"/>\r\n      <use x=\"222.416016\" xlink:href=\"#DejaVuSans-105\"/>\r\n      <use x=\"250.199219\" xlink:href=\"#DejaVuSans-99\"/>\r\n      <use x=\"305.179688\" xlink:href=\"#DejaVuSans-116\"/>\r\n      <use x=\"344.388672\" xlink:href=\"#DejaVuSans-101\"/>\r\n      <use x=\"405.912109\" xlink:href=\"#DejaVuSans-100\"/>\r\n     </g>\r\n    </g>\r\n   </g>\r\n  </g>\r\n </g>\r\n <defs>\r\n  <clipPath id=\"p116653e52b\">\r\n   <rect height=\"217.44\" width=\"334.8\" x=\"46.0125\" y=\"22.318125\"/>\r\n  </clipPath>\r\n </defs>\r\n</svg>\r\n",
      "image/png": "[encoded data removed]"
     },
     "metadata": {
      "needs_background": "light"
     }
    }
   ],
   "source": [
    "# Plot the real vs predicted prices as a line chart\n",
    "sales_pred.plot(title=\"Sales \")"
   ]
  },
  {
   "cell_type": "code",
   "execution_count": null,
   "metadata": {},
   "outputs": [],
   "source": []
  }
 ],
 "metadata": {
  "file_extension": ".py",
  "kernelspec": {
   "name": "python3",
   "display_name": "Python 3.7.7 64-bit ('pyvizenv': conda)",
   "metadata": {
    "interpreter": {
     "hash": "c3c06777d2d3a090de4d2535f4f1b119177f34ac2cf7c8075bb72b3b1efd8194"
    }
   }
  },
  "language_info": {
   "codemirror_mode": {
    "name": "ipython",
    "version": 3
   },
   "file_extension": ".py",
   "mimetype": "text/x-python",
   "name": "python",
   "nbconvert_exporter": "python",
   "pygments_lexer": "ipython3",
   "version": "3.7.7-final"
  },
  "mimetype": "text/x-python",
  "name": "python",
  "npconvert_exporter": "python",
  "pygments_lexer": "ipython3",
  "version": 3
 },
 "nbformat": 4,
 "nbformat_minor": 4
}