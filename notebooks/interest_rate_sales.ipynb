{
 "cells": [
  {
   "cell_type": "code",
   "execution_count": 92,
   "metadata": {},
   "outputs": [],
   "source": [
    "#Initial imports\n",
    "import pandas as pd\n",
    "import numpy as np\n",
    "import matplotlib.pyplot as plt\n",
    "import tensorflow as tf\n",
    "from pathlib import Path\n",
    "\n",
    "%matplotlib inline"
   ]
  },
  {
   "cell_type": "code",
   "execution_count": 93,
   "metadata": {},
   "outputs": [],
   "source": [
    "#Import Data\n",
    "#mortgage = pd.read_csv('../data/raw_data/30yr_fixed_mortgage_rate.csv')\n",
    "sales = pd.read_csv(Path(\"../data/raw_data/house_sales_by_month.csv\"),\n",
    "index_col=\"Date\", parse_dates=True, infer_datetime_format=True)  \n",
    "fixed_rate = pd.read_csv(Path(\"../data/raw_data/30yr_fixed_mortgage_rate.csv\"), encoding='latin1',   index_col=\"Date\", parse_dates=True, infer_datetime_format=True)\n"
   ]
  },
  {
   "cell_type": "code",
   "execution_count": 94,
   "metadata": {},
   "outputs": [],
   "source": [
    "sales= sales.drop(columns=([\"Dollar\", \"Median\", \"Total\"]))\r\n",
    "#sales"
   ]
  },
  {
   "cell_type": "code",
   "execution_count": 95,
   "metadata": {},
   "outputs": [],
   "source": [
    "#sales"
   ]
  },
  {
   "cell_type": "code",
   "execution_count": 96,
   "metadata": {},
   "outputs": [],
   "source": [
    "#sales=sales[\"Sales\"].str.replace(\",\",\"\")\n",
    "#sales"
   ]
  },
  {
   "cell_type": "code",
   "execution_count": 97,
   "metadata": {},
   "outputs": [],
   "source": [
    "fixed_rate =fixed_rate.astype(float)\n",
    "sales =sales.astype(int)"
   ]
  },
  {
   "cell_type": "code",
   "execution_count": 98,
   "metadata": {},
   "outputs": [
    {
     "output_type": "execute_result",
     "data": {
      "text/plain": [
       "Sales      int32\n",
       "Average    int32\n",
       "Months     int32\n",
       "dtype: object"
      ]
     },
     "metadata": {},
     "execution_count": 98
    }
   ],
   "source": [
    "sales.dtypes"
   ]
  },
  {
   "cell_type": "code",
   "execution_count": 99,
   "metadata": {},
   "outputs": [
    {
     "output_type": "execute_result",
     "data": {
      "text/plain": [
       "rate    float64\n",
       "dtype: object"
      ]
     },
     "metadata": {},
     "execution_count": 99
    }
   ],
   "source": [
    "fixed_rate.dtypes"
   ]
  },
  {
   "cell_type": "code",
   "execution_count": 100,
   "metadata": {},
   "outputs": [
    {
     "output_type": "execute_result",
     "data": {
      "text/plain": [
       "              Sales   Average  Months  rate\n",
       "Date                                       \n",
       "2010-01-01  10797.0  176298.0     6.0  5.03\n",
       "2010-02-01  13781.0  179474.0     7.0  4.99\n",
       "2010-03-01  20465.0  183981.0     7.0  4.97\n",
       "2010-04-01  22893.0  184048.0     7.0  5.10\n",
       "2010-05-01  23812.0  188041.0     7.0  4.89"
      ],
      "text/html": "<div>\n<style scoped>\n    .dataframe tbody tr th:only-of-type {\n        vertical-align: middle;\n    }\n\n    .dataframe tbody tr th {\n        vertical-align: top;\n    }\n\n    .dataframe thead th {\n        text-align: right;\n    }\n</style>\n<table border=\"1\" class=\"dataframe\">\n  <thead>\n    <tr style=\"text-align: right;\">\n      <th></th>\n      <th>Sales</th>\n      <th>Average</th>\n      <th>Months</th>\n      <th>rate</th>\n    </tr>\n    <tr>\n      <th>Date</th>\n      <th></th>\n      <th></th>\n      <th></th>\n      <th></th>\n    </tr>\n  </thead>\n  <tbody>\n    <tr>\n      <th>2010-01-01</th>\n      <td>10797.0</td>\n      <td>176298.0</td>\n      <td>6.0</td>\n      <td>5.03</td>\n    </tr>\n    <tr>\n      <th>2010-02-01</th>\n      <td>13781.0</td>\n      <td>179474.0</td>\n      <td>7.0</td>\n      <td>4.99</td>\n    </tr>\n    <tr>\n      <th>2010-03-01</th>\n      <td>20465.0</td>\n      <td>183981.0</td>\n      <td>7.0</td>\n      <td>4.97</td>\n    </tr>\n    <tr>\n      <th>2010-04-01</th>\n      <td>22893.0</td>\n      <td>184048.0</td>\n      <td>7.0</td>\n      <td>5.10</td>\n    </tr>\n    <tr>\n      <th>2010-05-01</th>\n      <td>23812.0</td>\n      <td>188041.0</td>\n      <td>7.0</td>\n      <td>4.89</td>\n    </tr>\n  </tbody>\n</table>\n</div>"
     },
     "metadata": {},
     "execution_count": 100
    }
   ],
   "source": [
    "# merge dataframes on Date\n",
    "df =pd.merge (sales, fixed_rate, on='Date', how='outer')\n",
    "df.head()"
   ]
  },
  {
   "cell_type": "code",
   "execution_count": 101,
   "metadata": {},
   "outputs": [
    {
     "output_type": "execute_result",
     "data": {
      "text/plain": [
       "Index(['Sales', 'Average', 'Months', 'rate'], dtype='object')"
      ]
     },
     "metadata": {},
     "execution_count": 101
    }
   ],
   "source": [
    "df.columns"
   ]
  },
  {
   "cell_type": "code",
   "execution_count": 102,
   "metadata": {},
   "outputs": [],
   "source": [
    "# Creating the X and y sets\n",
    "X = df.drop('Sales',axis=1)\n",
    "y = df[\"Sales\"].values"
   ]
  },
  {
   "cell_type": "code",
   "execution_count": 103,
   "metadata": {},
   "outputs": [
    {
     "output_type": "error",
     "ename": "AttributeError",
     "evalue": "'DataFrame' object has no attribute 'reshape'",
     "traceback": [
      "\u001b[1;31m---------------------------------------------------------------------------\u001b[0m",
      "\u001b[1;31mAttributeError\u001b[0m                            Traceback (most recent call last)",
      "\u001b[1;32m<ipython-input-103-7ee6cfd1af0f>\u001b[0m in \u001b[0;36m<module>\u001b[1;34m\u001b[0m\n\u001b[1;32m----> 1\u001b[1;33m \u001b[0mX\u001b[0m\u001b[1;33m.\u001b[0m\u001b[0mreshape\u001b[0m\u001b[1;33m(\u001b[0m\u001b[1;33m-\u001b[0m\u001b[1;36m1\u001b[0m\u001b[1;33m,\u001b[0m\u001b[1;36m1\u001b[0m\u001b[1;33m)\u001b[0m\u001b[1;33m\u001b[0m\u001b[1;33m\u001b[0m\u001b[0m\n\u001b[0m",
      "\u001b[1;32m~\\anaconda3\\envs\\pyvizenv\\lib\\site-packages\\pandas\\core\\generic.py\u001b[0m in \u001b[0;36m__getattr__\u001b[1;34m(self, name)\u001b[0m\n\u001b[0;32m   5065\u001b[0m             \u001b[1;32mif\u001b[0m \u001b[0mself\u001b[0m\u001b[1;33m.\u001b[0m\u001b[0m_info_axis\u001b[0m\u001b[1;33m.\u001b[0m\u001b[0m_can_hold_identifiers_and_holds_name\u001b[0m\u001b[1;33m(\u001b[0m\u001b[0mname\u001b[0m\u001b[1;33m)\u001b[0m\u001b[1;33m:\u001b[0m\u001b[1;33m\u001b[0m\u001b[1;33m\u001b[0m\u001b[0m\n\u001b[0;32m   5066\u001b[0m                 \u001b[1;32mreturn\u001b[0m \u001b[0mself\u001b[0m\u001b[1;33m[\u001b[0m\u001b[0mname\u001b[0m\u001b[1;33m]\u001b[0m\u001b[1;33m\u001b[0m\u001b[1;33m\u001b[0m\u001b[0m\n\u001b[1;32m-> 5067\u001b[1;33m             \u001b[1;32mreturn\u001b[0m \u001b[0mobject\u001b[0m\u001b[1;33m.\u001b[0m\u001b[0m__getattribute__\u001b[0m\u001b[1;33m(\u001b[0m\u001b[0mself\u001b[0m\u001b[1;33m,\u001b[0m \u001b[0mname\u001b[0m\u001b[1;33m)\u001b[0m\u001b[1;33m\u001b[0m\u001b[1;33m\u001b[0m\u001b[0m\n\u001b[0m\u001b[0;32m   5068\u001b[0m \u001b[1;33m\u001b[0m\u001b[0m\n\u001b[0;32m   5069\u001b[0m     \u001b[1;32mdef\u001b[0m \u001b[0m__setattr__\u001b[0m\u001b[1;33m(\u001b[0m\u001b[0mself\u001b[0m\u001b[1;33m,\u001b[0m \u001b[0mname\u001b[0m\u001b[1;33m,\u001b[0m \u001b[0mvalue\u001b[0m\u001b[1;33m)\u001b[0m\u001b[1;33m:\u001b[0m\u001b[1;33m\u001b[0m\u001b[1;33m\u001b[0m\u001b[0m\n",
      "\u001b[1;31mAttributeError\u001b[0m: 'DataFrame' object has no attribute 'reshape'"
     ]
    }
   ],
   "source": [
    "X.reshape(-1,1)"
   ]
  },
  {
   "cell_type": "code",
   "execution_count": 12,
   "metadata": {},
   "outputs": [],
   "source": [
    "#X=X.reshape(-1,1)"
   ]
  },
  {
   "cell_type": "code",
   "execution_count": 63,
   "metadata": {},
   "outputs": [],
   "source": [
    "# Creating training, validation, and testing sets\n",
    "from sklearn.model_selection import train_test_split\n",
    "\n",
    "X_train, X_test, y_train, y_test = train_test_split(X, y, test_size= 0.2, train_size= 0.8, random_state=0)"
   ]
  },
  {
   "cell_type": "code",
   "execution_count": 104,
   "metadata": {},
   "outputs": [],
   "source": [
    "#X_train"
   ]
  },
  {
   "cell_type": "code",
   "execution_count": 67,
   "metadata": {},
   "outputs": [],
   "source": [
    "#X_train[0]"
   ]
  },
  {
   "cell_type": "code",
   "execution_count": 68,
   "metadata": {},
   "outputs": [
    {
     "output_type": "error",
     "ename": "AttributeError",
     "evalue": "'DataFrame' object has no attribute 'reshape'",
     "traceback": [
      "\u001b[1;31m---------------------------------------------------------------------------\u001b[0m",
      "\u001b[1;31mAttributeError\u001b[0m                            Traceback (most recent call last)",
      "\u001b[1;32m<ipython-input-68-10c10bede398>\u001b[0m in \u001b[0;36m<module>\u001b[1;34m\u001b[0m\n\u001b[1;32m----> 1\u001b[1;33m \u001b[0mX_train\u001b[0m\u001b[1;33m=\u001b[0m\u001b[0mX_train\u001b[0m\u001b[1;33m.\u001b[0m\u001b[0mreshape\u001b[0m\u001b[1;33m(\u001b[0m\u001b[1;33m-\u001b[0m\u001b[1;36m1\u001b[0m\u001b[1;33m,\u001b[0m\u001b[1;36m1\u001b[0m\u001b[1;33m)\u001b[0m\u001b[1;33m\u001b[0m\u001b[1;33m\u001b[0m\u001b[0m\n\u001b[0m",
      "\u001b[1;32m~\\anaconda3\\envs\\pyvizenv\\lib\\site-packages\\pandas\\core\\generic.py\u001b[0m in \u001b[0;36m__getattr__\u001b[1;34m(self, name)\u001b[0m\n\u001b[0;32m   5065\u001b[0m             \u001b[1;32mif\u001b[0m \u001b[0mself\u001b[0m\u001b[1;33m.\u001b[0m\u001b[0m_info_axis\u001b[0m\u001b[1;33m.\u001b[0m\u001b[0m_can_hold_identifiers_and_holds_name\u001b[0m\u001b[1;33m(\u001b[0m\u001b[0mname\u001b[0m\u001b[1;33m)\u001b[0m\u001b[1;33m:\u001b[0m\u001b[1;33m\u001b[0m\u001b[1;33m\u001b[0m\u001b[0m\n\u001b[0;32m   5066\u001b[0m                 \u001b[1;32mreturn\u001b[0m \u001b[0mself\u001b[0m\u001b[1;33m[\u001b[0m\u001b[0mname\u001b[0m\u001b[1;33m]\u001b[0m\u001b[1;33m\u001b[0m\u001b[1;33m\u001b[0m\u001b[0m\n\u001b[1;32m-> 5067\u001b[1;33m             \u001b[1;32mreturn\u001b[0m \u001b[0mobject\u001b[0m\u001b[1;33m.\u001b[0m\u001b[0m__getattribute__\u001b[0m\u001b[1;33m(\u001b[0m\u001b[0mself\u001b[0m\u001b[1;33m,\u001b[0m \u001b[0mname\u001b[0m\u001b[1;33m)\u001b[0m\u001b[1;33m\u001b[0m\u001b[1;33m\u001b[0m\u001b[0m\n\u001b[0m\u001b[0;32m   5068\u001b[0m \u001b[1;33m\u001b[0m\u001b[0m\n\u001b[0;32m   5069\u001b[0m     \u001b[1;32mdef\u001b[0m \u001b[0m__setattr__\u001b[0m\u001b[1;33m(\u001b[0m\u001b[0mself\u001b[0m\u001b[1;33m,\u001b[0m \u001b[0mname\u001b[0m\u001b[1;33m,\u001b[0m \u001b[0mvalue\u001b[0m\u001b[1;33m)\u001b[0m\u001b[1;33m:\u001b[0m\u001b[1;33m\u001b[0m\u001b[1;33m\u001b[0m\u001b[0m\n",
      "\u001b[1;31mAttributeError\u001b[0m: 'DataFrame' object has no attribute 'reshape'"
     ]
    }
   ],
   "source": [
    "#X_train=X_train.reshape(-1,1)"
   ]
  },
  {
   "cell_type": "code",
   "execution_count": 77,
   "metadata": {},
   "outputs": [],
   "source": [
    "# Import the StandardScaler from sklearn\n",
    "from sklearn.preprocessing import StandardScaler\n",
    "\n",
    "# Scale the data\n",
    "scaler_train = StandardScaler().fit(X_train)\n",
    "X_train_scaled = scaler_train.transform(X_train)\n",
    "scaler_test = StandardScaler().fit(X_test)\n",
    "X_test_scaled = scaler_test.transform(X_test)"
   ]
  },
  {
   "cell_type": "code",
   "execution_count": 73,
   "metadata": {},
   "outputs": [],
   "source": [
    "#X_train[0]"
   ]
  },
  {
   "cell_type": "code",
   "execution_count": 79,
   "metadata": {},
   "outputs": [],
   "source": [
    "#X_test=X_test.reshape(-1,1)"
   ]
  },
  {
   "cell_type": "code",
   "execution_count": 75,
   "metadata": {},
   "outputs": [],
   "source": [
    "# Import the StandardScaler from sklearn\n",
    "#from sklearn.preprocessing import StandardScaler\n",
    "#from sklearn.preprocessing import MinMaxScaler\n",
    "\n",
    "# Scale the data\n",
    "#scaler = MinMaxScaler().fit(X_train)\n",
    "#X_scaled_train = scaler.transform(X_train)\n",
    "#X_scaled_test = scaler.transform(X_test)"
   ]
  },
  {
   "cell_type": "code",
   "execution_count": 80,
   "metadata": {},
   "outputs": [],
   "source": [
    "from tensorflow.keras.models import Sequential\n",
    "from tensorflow.keras.layers import LSTM, Dense, Dropout"
   ]
  },
  {
   "cell_type": "code",
   "execution_count": 86,
   "metadata": {},
   "outputs": [],
   "source": [
    "# Model set-up\n",
    "number_input_features = 3\n",
    "hidden_nodes_layer1 = 40\n",
    "\n",
    "hidden_nodes_layer2 = 20"
   ]
  },
  {
   "cell_type": "code",
   "execution_count": 87,
   "metadata": {},
   "outputs": [],
   "source": [
    "# Define the model\n",
    "model = Sequential()\n",
    "\n",
    "# Layer 1\n",
    "model.add(\n",
    "   Dense(units=hidden_nodes_layer1, input_dim=number_input_features, activation=\"relu\"))\n",
    "\n",
    "# Layer 2\n",
    "model.add(Dense(units=hidden_nodes_layer2, activation=\"relu\"))\n",
    "\n",
    "# Output layer\n",
    "model.add(Dense(1, activation=\"linear\"))"
   ]
  },
  {
   "cell_type": "code",
   "execution_count": 28,
   "metadata": {},
   "outputs": [
    {
     "output_type": "execute_result",
     "data": {
      "text/plain": [
       "(1, 1)"
      ]
     },
     "metadata": {},
     "execution_count": 28
    }
   ],
   "source": [
    "(X_train.shape[1], 1)"
   ]
  },
  {
   "cell_type": "code",
   "execution_count": 82,
   "metadata": {},
   "outputs": [],
   "source": [
    "# model = Sequential()\n",
    "# number_units = 5\n",
    "# dropout_fraction = 0.2\n",
    "# # Layer 1\n",
    "# model.add(LSTM(\n",
    "#     units=number_units,\n",
    "#     return_sequences=True,\n",
    "#     input_shape=(X_train.shape[1], 1))\n",
    "#     )\n",
    "# model.add(Dropout(dropout_fraction))\n",
    "# # Layer 2\n",
    "# model.add(LSTM(units=number_units, return_sequences=True))\n",
    "# model.add(Dropout(dropout_fraction))\n",
    "# # Layer 3\n",
    "# model.add(LSTM(units=number_units))\n",
    "# model.add(Dropout(dropout_fraction))\n",
    "# # Output layer\n",
    "# model.add(Dense(1))"
   ]
  },
  {
   "cell_type": "code",
   "execution_count": 88,
   "metadata": {},
   "outputs": [],
   "source": [
    "# Compile the model\n",
    "model.compile(\n",
    "    loss= \"mean_squared_error\",\n",
    "    optimizer=\"adam\",\n",
    "    metrics= ['accuracy']\n",
    "   \n",
    ")"
   ]
  },
  {
   "cell_type": "code",
   "execution_count": 89,
   "metadata": {},
   "outputs": [
    {
     "output_type": "stream",
     "name": "stdout",
     "text": [
      "Model: \"sequential_3\"\n_________________________________________________________________\nLayer (type)                 Output Shape              Param #   \n=================================================================\ndense_3 (Dense)              (None, 40)                160       \n_________________________________________________________________\ndense_4 (Dense)              (None, 20)                820       \n_________________________________________________________________\ndense_5 (Dense)              (None, 1)                 21        \n=================================================================\nTotal params: 1,001\nTrainable params: 1,001\nNon-trainable params: 0\n_________________________________________________________________\n"
     ]
    }
   ],
   "source": [
    "# Summarize the model\n",
    "model.summary()"
   ]
  },
  {
   "cell_type": "code",
   "execution_count": 105,
   "metadata": {
    "tags": []
   },
   "outputs": [
    {
     "output_type": "stream",
     "name": "stdout",
     "text": [
      "Epoch 1/100\n",
      "11/11 [==============================] - 0s 2ms/step - loss: nan - accuracy: 0.0000e+00\n",
      "Epoch 2/100\n",
      "11/11 [==============================] - 0s 1ms/step - loss: nan - accuracy: 0.0000e+00\n",
      "Epoch 3/100\n",
      "11/11 [==============================] - 0s 1ms/step - loss: nan - accuracy: 0.0000e+00\n",
      "Epoch 4/100\n",
      "11/11 [==============================] - 0s 2ms/step - loss: nan - accuracy: 0.0000e+00\n",
      "Epoch 5/100\n",
      "11/11 [==============================] - 0s 2ms/step - loss: nan - accuracy: 0.0000e+00\n",
      "Epoch 6/100\n",
      "11/11 [==============================] - 0s 1ms/step - loss: nan - accuracy: 0.0000e+00\n",
      "Epoch 7/100\n",
      "11/11 [==============================] - 0s 1ms/step - loss: nan - accuracy: 0.0000e+00\n",
      "Epoch 8/100\n",
      "11/11 [==============================] - 0s 2ms/step - loss: nan - accuracy: 0.0000e+00\n",
      "Epoch 9/100\n",
      "11/11 [==============================] - 0s 2ms/step - loss: nan - accuracy: 0.0000e+00\n",
      "Epoch 10/100\n",
      "11/11 [==============================] - 0s 1ms/step - loss: nan - accuracy: 0.0000e+00\n",
      "Epoch 11/100\n",
      "11/11 [==============================] - 0s 2ms/step - loss: nan - accuracy: 0.0000e+00\n",
      "Epoch 12/100\n",
      "11/11 [==============================] - 0s 2ms/step - loss: nan - accuracy: 0.0000e+00\n",
      "Epoch 13/100\n",
      "11/11 [==============================] - 0s 2ms/step - loss: nan - accuracy: 0.0000e+00\n",
      "Epoch 14/100\n",
      "11/11 [==============================] - 0s 2ms/step - loss: nan - accuracy: 0.0000e+00\n",
      "Epoch 15/100\n",
      "11/11 [==============================] - 0s 2ms/step - loss: nan - accuracy: 0.0000e+00\n",
      "Epoch 16/100\n",
      "11/11 [==============================] - 0s 2ms/step - loss: nan - accuracy: 0.0000e+00\n",
      "Epoch 17/100\n",
      "11/11 [==============================] - 0s 2ms/step - loss: nan - accuracy: 0.0000e+00\n",
      "Epoch 18/100\n",
      "11/11 [==============================] - 0s 2ms/step - loss: nan - accuracy: 0.0000e+00\n",
      "Epoch 19/100\n",
      "11/11 [==============================] - 0s 2ms/step - loss: nan - accuracy: 0.0000e+00\n",
      "Epoch 20/100\n",
      "11/11 [==============================] - 0s 2ms/step - loss: nan - accuracy: 0.0000e+00\n",
      "Epoch 21/100\n",
      "11/11 [==============================] - 0s 2ms/step - loss: nan - accuracy: 0.0000e+00\n",
      "Epoch 22/100\n",
      "11/11 [==============================] - 0s 3ms/step - loss: nan - accuracy: 0.0000e+00\n",
      "Epoch 23/100\n",
      "11/11 [==============================] - 0s 2ms/step - loss: nan - accuracy: 0.0000e+00\n",
      "Epoch 24/100\n",
      "11/11 [==============================] - 0s 2ms/step - loss: nan - accuracy: 0.0000e+00\n",
      "Epoch 25/100\n",
      "11/11 [==============================] - 0s 3ms/step - loss: nan - accuracy: 0.0000e+00\n",
      "Epoch 26/100\n",
      "11/11 [==============================] - 0s 2ms/step - loss: nan - accuracy: 0.0000e+00\n",
      "Epoch 27/100\n",
      "11/11 [==============================] - 0s 3ms/step - loss: nan - accuracy: 0.0000e+00\n",
      "Epoch 28/100\n",
      "11/11 [==============================] - 0s 2ms/step - loss: nan - accuracy: 0.0000e+00\n",
      "Epoch 29/100\n",
      "11/11 [==============================] - 0s 2ms/step - loss: nan - accuracy: 0.0000e+00\n",
      "Epoch 30/100\n",
      "11/11 [==============================] - 0s 1ms/step - loss: nan - accuracy: 0.0000e+00\n",
      "Epoch 31/100\n",
      "11/11 [==============================] - 0s 2ms/step - loss: nan - accuracy: 0.0000e+00\n",
      "Epoch 32/100\n",
      "11/11 [==============================] - 0s 1ms/step - loss: nan - accuracy: 0.0000e+00\n",
      "Epoch 33/100\n",
      "11/11 [==============================] - 0s 2ms/step - loss: nan - accuracy: 0.0000e+00\n",
      "Epoch 34/100\n",
      "11/11 [==============================] - 0s 2ms/step - loss: nan - accuracy: 0.0000e+00\n",
      "Epoch 35/100\n",
      "11/11 [==============================] - 0s 2ms/step - loss: nan - accuracy: 0.0000e+00\n",
      "Epoch 36/100\n",
      "11/11 [==============================] - 0s 2ms/step - loss: nan - accuracy: 0.0000e+00\n",
      "Epoch 37/100\n",
      "11/11 [==============================] - 0s 2ms/step - loss: nan - accuracy: 0.0000e+00\n",
      "Epoch 38/100\n",
      "11/11 [==============================] - 0s 1ms/step - loss: nan - accuracy: 0.0000e+00\n",
      "Epoch 39/100\n",
      "11/11 [==============================] - 0s 2ms/step - loss: nan - accuracy: 0.0000e+00\n",
      "Epoch 40/100\n",
      "11/11 [==============================] - 0s 2ms/step - loss: nan - accuracy: 0.0000e+00\n",
      "Epoch 41/100\n",
      "11/11 [==============================] - 0s 1ms/step - loss: nan - accuracy: 0.0000e+00\n",
      "Epoch 42/100\n",
      "11/11 [==============================] - 0s 1ms/step - loss: nan - accuracy: 0.0000e+00\n",
      "Epoch 43/100\n",
      "11/11 [==============================] - 0s 1ms/step - loss: nan - accuracy: 0.0000e+00\n",
      "Epoch 44/100\n",
      "11/11 [==============================] - 0s 2ms/step - loss: nan - accuracy: 0.0000e+00\n",
      "Epoch 45/100\n",
      "11/11 [==============================] - 0s 2ms/step - loss: nan - accuracy: 0.0000e+00\n",
      "Epoch 46/100\n",
      "11/11 [==============================] - 0s 9ms/step - loss: nan - accuracy: 0.0000e+00\n",
      "Epoch 47/100\n",
      "11/11 [==============================] - 0s 2ms/step - loss: nan - accuracy: 0.0000e+00\n",
      "Epoch 48/100\n",
      "11/11 [==============================] - 0s 2ms/step - loss: nan - accuracy: 0.0000e+00\n",
      "Epoch 49/100\n",
      "11/11 [==============================] - 0s 2ms/step - loss: nan - accuracy: 0.0000e+00\n",
      "Epoch 50/100\n",
      "11/11 [==============================] - 0s 1ms/step - loss: nan - accuracy: 0.0000e+00\n",
      "Epoch 51/100\n",
      "11/11 [==============================] - 0s 2ms/step - loss: nan - accuracy: 0.0000e+00\n",
      "Epoch 52/100\n",
      "11/11 [==============================] - 0s 1ms/step - loss: nan - accuracy: 0.0000e+00\n",
      "Epoch 53/100\n",
      "11/11 [==============================] - 0s 4ms/step - loss: nan - accuracy: 0.0000e+00\n",
      "Epoch 54/100\n",
      "11/11 [==============================] - 0s 2ms/step - loss: nan - accuracy: 0.0000e+00\n",
      "Epoch 55/100\n",
      "11/11 [==============================] - 0s 1ms/step - loss: nan - accuracy: 0.0000e+00\n",
      "Epoch 56/100\n",
      "11/11 [==============================] - 0s 1ms/step - loss: nan - accuracy: 0.0000e+00\n",
      "Epoch 57/100\n",
      "11/11 [==============================] - 0s 1ms/step - loss: nan - accuracy: 0.0000e+00\n",
      "Epoch 58/100\n",
      "11/11 [==============================] - 0s 1ms/step - loss: nan - accuracy: 0.0000e+00\n",
      "Epoch 59/100\n",
      "11/11 [==============================] - 0s 2ms/step - loss: nan - accuracy: 0.0000e+00\n",
      "Epoch 60/100\n",
      "11/11 [==============================] - 0s 1ms/step - loss: nan - accuracy: 0.0000e+00\n",
      "Epoch 61/100\n",
      "11/11 [==============================] - 0s 1ms/step - loss: nan - accuracy: 0.0000e+00\n",
      "Epoch 62/100\n",
      "11/11 [==============================] - 0s 2ms/step - loss: nan - accuracy: 0.0000e+00\n",
      "Epoch 63/100\n",
      "11/11 [==============================] - 0s 1ms/step - loss: nan - accuracy: 0.0000e+00\n",
      "Epoch 64/100\n",
      "11/11 [==============================] - 0s 1ms/step - loss: nan - accuracy: 0.0000e+00\n",
      "Epoch 65/100\n",
      "11/11 [==============================] - 0s 1ms/step - loss: nan - accuracy: 0.0000e+00\n",
      "Epoch 66/100\n",
      "11/11 [==============================] - 0s 2ms/step - loss: nan - accuracy: 0.0000e+00\n",
      "Epoch 67/100\n",
      "11/11 [==============================] - 0s 1ms/step - loss: nan - accuracy: 0.0000e+00\n",
      "Epoch 68/100\n",
      "11/11 [==============================] - 0s 2ms/step - loss: nan - accuracy: 0.0000e+00\n",
      "Epoch 69/100\n",
      "11/11 [==============================] - 0s 2ms/step - loss: nan - accuracy: 0.0000e+00\n",
      "Epoch 70/100\n",
      "11/11 [==============================] - 0s 2ms/step - loss: nan - accuracy: 0.0000e+00\n",
      "Epoch 71/100\n",
      "11/11 [==============================] - 0s 2ms/step - loss: nan - accuracy: 0.0000e+00\n",
      "Epoch 72/100\n",
      "11/11 [==============================] - 0s 1ms/step - loss: nan - accuracy: 0.0000e+00\n",
      "Epoch 73/100\n",
      "11/11 [==============================] - 0s 1ms/step - loss: nan - accuracy: 0.0000e+00\n",
      "Epoch 74/100\n",
      "11/11 [==============================] - 0s 2ms/step - loss: nan - accuracy: 0.0000e+00\n",
      "Epoch 75/100\n",
      "11/11 [==============================] - 0s 1ms/step - loss: nan - accuracy: 0.0000e+00\n",
      "Epoch 76/100\n",
      "11/11 [==============================] - 0s 1ms/step - loss: nan - accuracy: 0.0000e+00\n",
      "Epoch 77/100\n",
      "11/11 [==============================] - 0s 2ms/step - loss: nan - accuracy: 0.0000e+00\n",
      "Epoch 78/100\n",
      "11/11 [==============================] - 0s 1ms/step - loss: nan - accuracy: 0.0000e+00\n",
      "Epoch 79/100\n",
      "11/11 [==============================] - 0s 1ms/step - loss: nan - accuracy: 0.0000e+00\n",
      "Epoch 80/100\n",
      "11/11 [==============================] - 0s 3ms/step - loss: nan - accuracy: 0.0000e+00\n",
      "Epoch 81/100\n",
      "11/11 [==============================] - 0s 2ms/step - loss: nan - accuracy: 0.0000e+00\n",
      "Epoch 82/100\n",
      "11/11 [==============================] - 0s 2ms/step - loss: nan - accuracy: 0.0000e+00\n",
      "Epoch 83/100\n",
      "11/11 [==============================] - 0s 1ms/step - loss: nan - accuracy: 0.0000e+00\n",
      "Epoch 84/100\n",
      "11/11 [==============================] - 0s 1ms/step - loss: nan - accuracy: 0.0000e+00\n",
      "Epoch 85/100\n",
      "11/11 [==============================] - 0s 2ms/step - loss: nan - accuracy: 0.0000e+00\n",
      "Epoch 86/100\n",
      "11/11 [==============================] - 0s 2ms/step - loss: nan - accuracy: 0.0000e+00\n",
      "Epoch 87/100\n",
      "11/11 [==============================] - 0s 2ms/step - loss: nan - accuracy: 0.0000e+00\n",
      "Epoch 88/100\n",
      "11/11 [==============================] - 0s 2ms/step - loss: nan - accuracy: 0.0000e+00\n",
      "Epoch 89/100\n",
      "11/11 [==============================] - 0s 2ms/step - loss: nan - accuracy: 0.0000e+00\n",
      "Epoch 90/100\n",
      "11/11 [==============================] - 0s 1ms/step - loss: nan - accuracy: 0.0000e+00\n",
      "Epoch 91/100\n",
      "11/11 [==============================] - 0s 2ms/step - loss: nan - accuracy: 0.0000e+00\n",
      "Epoch 92/100\n",
      "11/11 [==============================] - 0s 2ms/step - loss: nan - accuracy: 0.0000e+00\n",
      "Epoch 93/100\n",
      "11/11 [==============================] - 0s 2ms/step - loss: nan - accuracy: 0.0000e+00\n",
      "Epoch 94/100\n",
      "11/11 [==============================] - 0s 1ms/step - loss: nan - accuracy: 0.0000e+00\n",
      "Epoch 95/100\n",
      "11/11 [==============================] - 0s 2ms/step - loss: nan - accuracy: 0.0000e+00\n",
      "Epoch 96/100\n",
      "11/11 [==============================] - 0s 2ms/step - loss: nan - accuracy: 0.0000e+00\n",
      "Epoch 97/100\n",
      "11/11 [==============================] - 0s 2ms/step - loss: nan - accuracy: 0.0000e+00\n",
      "Epoch 98/100\n",
      "11/11 [==============================] - 0s 2ms/step - loss: nan - accuracy: 0.0000e+00\n",
      "Epoch 99/100\n",
      "11/11 [==============================] - 0s 3ms/step - loss: nan - accuracy: 0.0000e+00\n",
      "Epoch 100/100\n",
      "11/11 [==============================] - 0s 2ms/step - loss: nan - accuracy: 0.0000e+00\n"
     ]
    }
   ],
   "source": [
    "# Training the model\n",
    "batch_size = 10\n",
    "epochs = 100\n",
    "training_history = model.fit(\n",
    "    X_scaled_train,\n",
    "    y_train,\n",
    "    epochs=epochs,\n",
    "    batch_size=batch_size,\n",
    "    verbose=1,\n",
    ")"
   ]
  },
  {
   "cell_type": "code",
   "execution_count": 37,
   "metadata": {},
   "outputs": [
    {
     "output_type": "stream",
     "name": "stdout",
     "text": [
      "1/1 [==============================] - 0s 351ms/step - loss: nan - accuracy: 0.0000e+00\n"
     ]
    },
    {
     "output_type": "execute_result",
     "data": {
      "text/plain": [
       "[nan, 0.0]"
      ]
     },
     "metadata": {},
     "execution_count": 37
    }
   ],
   "source": [
    "# Evaluate the model\n",
    "model.evaluate(X_scaled_test, y_test, verbose=1)"
   ]
  },
  {
   "cell_type": "code",
   "execution_count": 41,
   "metadata": {},
   "outputs": [],
   "source": [
    "#X_scaled_test\n"
   ]
  },
  {
   "cell_type": "code",
   "execution_count": 106,
   "metadata": {},
   "outputs": [],
   "source": [
    "# Make predictions using the testing data X_test\n",
    "predicted = model.predict(X_scaled_test)\n",
    "#predicted"
   ]
  },
  {
   "cell_type": "code",
   "execution_count": 39,
   "metadata": {},
   "outputs": [
    {
     "output_type": "execute_result",
     "data": {
      "text/plain": [
       "             Actual  Predicted\n",
       "Date                          \n",
       "2018-10-01  26979.0        NaN\n",
       "2018-11-01  33052.0        NaN\n",
       "2018-12-01  20050.0        NaN\n",
       "2019-01-01  16050.0        NaN\n",
       "2019-02-01  24268.0        NaN"
      ],
      "text/html": "<div>\n<style scoped>\n    .dataframe tbody tr th:only-of-type {\n        vertical-align: middle;\n    }\n\n    .dataframe tbody tr th {\n        vertical-align: top;\n    }\n\n    .dataframe thead th {\n        text-align: right;\n    }\n</style>\n<table border=\"1\" class=\"dataframe\">\n  <thead>\n    <tr style=\"text-align: right;\">\n      <th></th>\n      <th>Actual</th>\n      <th>Predicted</th>\n    </tr>\n    <tr>\n      <th>Date</th>\n      <th></th>\n      <th></th>\n    </tr>\n  </thead>\n  <tbody>\n    <tr>\n      <th>2018-10-01</th>\n      <td>26979.0</td>\n      <td>NaN</td>\n    </tr>\n    <tr>\n      <th>2018-11-01</th>\n      <td>33052.0</td>\n      <td>NaN</td>\n    </tr>\n    <tr>\n      <th>2018-12-01</th>\n      <td>20050.0</td>\n      <td>NaN</td>\n    </tr>\n    <tr>\n      <th>2019-01-01</th>\n      <td>16050.0</td>\n      <td>NaN</td>\n    </tr>\n    <tr>\n      <th>2019-02-01</th>\n      <td>24268.0</td>\n      <td>NaN</td>\n    </tr>\n  </tbody>\n</table>\n</div>"
     },
     "metadata": {},
     "execution_count": 39
    }
   ],
   "source": [
    "# Create a DataFrame of Real and Predicted values\n",
    "df_model = pd.DataFrame({\n",
    "    \"Actual\": y_test.ravel(),\n",
    "    \"Predicted\": predicted.ravel()\n",
    "}, index = df.index[-len(y_test): ]) \n",
    "\n",
    "# Show the DataFrame's head\n",
    "df_model.head()"
   ]
  },
  {
   "cell_type": "code",
   "execution_count": null,
   "metadata": {},
   "outputs": [],
   "source": [
    "sales_pred_20= df_model[:20]\n",
    "salese__pred_20"
   ]
  },
  {
   "cell_type": "code",
   "execution_count": null,
   "metadata": {},
   "outputs": [],
   "source": [
    "# Plot the real vs predicted prices as a line chart"
   ]
  }
 ],
 "metadata": {
  "file_extension": ".py",
  "kernelspec": {
   "name": "python3",
   "display_name": "Python 3.7.7 64-bit ('pyvizenv': conda)",
   "metadata": {
    "interpreter": {
     "hash": "c3c06777d2d3a090de4d2535f4f1b119177f34ac2cf7c8075bb72b3b1efd8194"
    }
   }
  },
  "language_info": {
   "codemirror_mode": {
    "name": "ipython",
    "version": 3
   },
   "file_extension": ".py",
   "mimetype": "text/x-python",
   "name": "python",
   "nbconvert_exporter": "python",
   "pygments_lexer": "ipython3",
   "version": "3.7.7-final"
  },
  "mimetype": "text/x-python",
  "name": "python",
  "npconvert_exporter": "python",
  "pygments_lexer": "ipython3",
  "version": 3
 },
 "nbformat": 4,
 "nbformat_minor": 4
}