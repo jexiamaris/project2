{
 "cells": [
  {
   "cell_type": "code",
   "execution_count": 36,
   "metadata": {},
   "outputs": [],
   "source": [
    "#Initial imports\n",
    "import pandas as pd\n",
    "import numpy as np\n",
    "import matplotlib.pyplot as plt\n",
    "import tensorflow as tf\n",
    "from pathlib import Path\n",
    "\n",
    "%matplotlib inline"
   ]
  },
  {
   "cell_type": "code",
   "execution_count": 38,
   "metadata": {},
   "outputs": [],
   "source": [
    "#Import Data\n",
    "#mortgage = pd.read_csv('../data/raw_data/30yr_fixed_mortgage_rate.csv')\n",
    "sales = pd.read_csv(Path(\"../data/raw_data/house_sales_by_month.csv\"),\n",
    "index_col=\"Date\", parse_dates=True, infer_datetime_format=True)  \n",
    "fixed_rate = pd.read_csv(Path(\"../data/raw_data/30yr_fixed_mortgage_rate.csv\"), encoding='latin1',   index_col=\"Date\", parse_dates=True, infer_datetime_format=True)\n"
   ]
  },
  {
   "cell_type": "code",
   "execution_count": 39,
   "metadata": {},
   "outputs": [],
   "source": [
    "sales= sales.drop(columns=([\"Dollar\",\"Average\", \"Median\", \"Total\", \"Months\"]))"
   ]
  },
  {
   "cell_type": "code",
   "execution_count": 43,
   "metadata": {},
   "outputs": [
    {
     "output_type": "execute_result",
     "data": {
      "text/plain": [
       "Sales    object\n",
       "dtype: object"
      ]
     },
     "metadata": {},
     "execution_count": 43
    }
   ],
   "source": [
    "sales.dtypes"
   ]
  },
  {
   "cell_type": "code",
   "execution_count": 44,
   "metadata": {},
   "outputs": [
    {
     "output_type": "execute_result",
     "data": {
      "text/plain": [
       "rate    object\n",
       "dtype: object"
      ]
     },
     "metadata": {},
     "execution_count": 44
    }
   ],
   "source": [
    "fixed_rate.dtypes"
   ]
  },
  {
   "cell_type": "code",
   "execution_count": 49,
   "metadata": {},
   "outputs": [
    {
     "output_type": "execute_result",
     "data": {
      "text/plain": [
       "             Sales  rate\n",
       "Date                    \n",
       "2010-01-01  10,797  5.03\n",
       "2010-02-01  13,781  4.99\n",
       "2010-03-01  20,465  4.97\n",
       "2010-04-01  22,893   5.1\n",
       "2010-05-01  23,812  4.89\n",
       "2010-06-01  22,864  4.74\n",
       "2010-07-01  17,336  4.56\n",
       "2010-08-01  17,831  4.43\n",
       "2010-09-01  16,050  4.35\n",
       "2010-10-01  14,990  4.23\n",
       "2010-11-01  14,398   4.3\n",
       "2010-12-01  16,423  4.71\n",
       "2011-01-01  11,469  4.76\n",
       "2011-02-01  12,790  4.95\n",
       "2011-03-01  18,508  4.84\n",
       "2011-04-01  18,978  4.84\n",
       "2011-05-01  20,491  4.64\n",
       "2011-06-01  22,851  4.51\n",
       "2011-07-01  20,399  4.55\n",
       "2011-08-01  22,125  4.27\n",
       "2011-09-01  18,648  4.11\n",
       "2011-10-01  16,533  4.07\n",
       "2011-11-01  15,651  3.99\n",
       "2011-12-01  17,265  3.96\n",
       "2012-01-01  12,613  3.92\n",
       "2012-02-01  15,485  3.89\n",
       "2012-03-01  20,050  3.95\n",
       "2012-04-01  20,778  3.91\n",
       "2012-05-01  24,375   3.8\n",
       "2012-06-01  25,507  3.68\n",
       "...            ...   ...\n",
       "2018-07-01  33,920  4.53\n",
       "2018-08-01  34,196  4.55\n",
       "2018-09-01  26,809  4.63\n",
       "2018-10-01  27,368  4.83\n",
       "2018-11-01  25,149  4.87\n",
       "2018-12-01  25,819  4.64\n",
       "2019-01-01  18,107  4.46\n",
       "2019-02-01  22,671  4.37\n",
       "2019-03-01  29,547  4.27\n",
       "2019-04-01  32,102  4.14\n",
       "2019-05-01  36,712  4.07\n",
       "2019-06-01  34,101   3.8\n",
       "2019-07-01  36,279  3.77\n",
       "2019-08-01  35,477  3.62\n",
       "2019-09-01  29,220  3.61\n",
       "2019-10-01  29,473  3.69\n",
       "2019-11-01  25,811   3.7\n",
       "2019-12-01  29,918  3.72\n",
       "2020-01-01  21,039  3.62\n",
       "2020-02-01  24,879  3.47\n",
       "2020-03-01  30,801  3.45\n",
       "2020-04-01  26,106  3.31\n",
       "2020-05-01  27,438  3.23\n",
       "2020-06-01  38,639  3.16\n",
       "2020-07-01  43,877  3.02\n",
       "2020-08-01  38,384  2.94\n",
       "2020-09-01  37,114  2.89\n",
       "2020-10-01  36,610  2.83\n",
       "2020-11-01  31,788  2.77\n",
       "2020-12-01     NaN  2.68\n",
       "\n",
       "[132 rows x 2 columns]"
      ],
      "text/html": "<div>\n<style scoped>\n    .dataframe tbody tr th:only-of-type {\n        vertical-align: middle;\n    }\n\n    .dataframe tbody tr th {\n        vertical-align: top;\n    }\n\n    .dataframe thead th {\n        text-align: right;\n    }\n</style>\n<table border=\"1\" class=\"dataframe\">\n  <thead>\n    <tr style=\"text-align: right;\">\n      <th></th>\n      <th>Sales</th>\n      <th>rate</th>\n    </tr>\n    <tr>\n      <th>Date</th>\n      <th></th>\n      <th></th>\n    </tr>\n  </thead>\n  <tbody>\n    <tr>\n      <th>2010-01-01</th>\n      <td>10,797</td>\n      <td>5.03</td>\n    </tr>\n    <tr>\n      <th>2010-02-01</th>\n      <td>13,781</td>\n      <td>4.99</td>\n    </tr>\n    <tr>\n      <th>2010-03-01</th>\n      <td>20,465</td>\n      <td>4.97</td>\n    </tr>\n    <tr>\n      <th>2010-04-01</th>\n      <td>22,893</td>\n      <td>5.1</td>\n    </tr>\n    <tr>\n      <th>2010-05-01</th>\n      <td>23,812</td>\n      <td>4.89</td>\n    </tr>\n    <tr>\n      <th>2010-06-01</th>\n      <td>22,864</td>\n      <td>4.74</td>\n    </tr>\n    <tr>\n      <th>2010-07-01</th>\n      <td>17,336</td>\n      <td>4.56</td>\n    </tr>\n    <tr>\n      <th>2010-08-01</th>\n      <td>17,831</td>\n      <td>4.43</td>\n    </tr>\n    <tr>\n      <th>2010-09-01</th>\n      <td>16,050</td>\n      <td>4.35</td>\n    </tr>\n    <tr>\n      <th>2010-10-01</th>\n      <td>14,990</td>\n      <td>4.23</td>\n    </tr>\n    <tr>\n      <th>2010-11-01</th>\n      <td>14,398</td>\n      <td>4.3</td>\n    </tr>\n    <tr>\n      <th>2010-12-01</th>\n      <td>16,423</td>\n      <td>4.71</td>\n    </tr>\n    <tr>\n      <th>2011-01-01</th>\n      <td>11,469</td>\n      <td>4.76</td>\n    </tr>\n    <tr>\n      <th>2011-02-01</th>\n      <td>12,790</td>\n      <td>4.95</td>\n    </tr>\n    <tr>\n      <th>2011-03-01</th>\n      <td>18,508</td>\n      <td>4.84</td>\n    </tr>\n    <tr>\n      <th>2011-04-01</th>\n      <td>18,978</td>\n      <td>4.84</td>\n    </tr>\n    <tr>\n      <th>2011-05-01</th>\n      <td>20,491</td>\n      <td>4.64</td>\n    </tr>\n    <tr>\n      <th>2011-06-01</th>\n      <td>22,851</td>\n      <td>4.51</td>\n    </tr>\n    <tr>\n      <th>2011-07-01</th>\n      <td>20,399</td>\n      <td>4.55</td>\n    </tr>\n    <tr>\n      <th>2011-08-01</th>\n      <td>22,125</td>\n      <td>4.27</td>\n    </tr>\n    <tr>\n      <th>2011-09-01</th>\n      <td>18,648</td>\n      <td>4.11</td>\n    </tr>\n    <tr>\n      <th>2011-10-01</th>\n      <td>16,533</td>\n      <td>4.07</td>\n    </tr>\n    <tr>\n      <th>2011-11-01</th>\n      <td>15,651</td>\n      <td>3.99</td>\n    </tr>\n    <tr>\n      <th>2011-12-01</th>\n      <td>17,265</td>\n      <td>3.96</td>\n    </tr>\n    <tr>\n      <th>2012-01-01</th>\n      <td>12,613</td>\n      <td>3.92</td>\n    </tr>\n    <tr>\n      <th>2012-02-01</th>\n      <td>15,485</td>\n      <td>3.89</td>\n    </tr>\n    <tr>\n      <th>2012-03-01</th>\n      <td>20,050</td>\n      <td>3.95</td>\n    </tr>\n    <tr>\n      <th>2012-04-01</th>\n      <td>20,778</td>\n      <td>3.91</td>\n    </tr>\n    <tr>\n      <th>2012-05-01</th>\n      <td>24,375</td>\n      <td>3.8</td>\n    </tr>\n    <tr>\n      <th>2012-06-01</th>\n      <td>25,507</td>\n      <td>3.68</td>\n    </tr>\n    <tr>\n      <th>...</th>\n      <td>...</td>\n      <td>...</td>\n    </tr>\n    <tr>\n      <th>2018-07-01</th>\n      <td>33,920</td>\n      <td>4.53</td>\n    </tr>\n    <tr>\n      <th>2018-08-01</th>\n      <td>34,196</td>\n      <td>4.55</td>\n    </tr>\n    <tr>\n      <th>2018-09-01</th>\n      <td>26,809</td>\n      <td>4.63</td>\n    </tr>\n    <tr>\n      <th>2018-10-01</th>\n      <td>27,368</td>\n      <td>4.83</td>\n    </tr>\n    <tr>\n      <th>2018-11-01</th>\n      <td>25,149</td>\n      <td>4.87</td>\n    </tr>\n    <tr>\n      <th>2018-12-01</th>\n      <td>25,819</td>\n      <td>4.64</td>\n    </tr>\n    <tr>\n      <th>2019-01-01</th>\n      <td>18,107</td>\n      <td>4.46</td>\n    </tr>\n    <tr>\n      <th>2019-02-01</th>\n      <td>22,671</td>\n      <td>4.37</td>\n    </tr>\n    <tr>\n      <th>2019-03-01</th>\n      <td>29,547</td>\n      <td>4.27</td>\n    </tr>\n    <tr>\n      <th>2019-04-01</th>\n      <td>32,102</td>\n      <td>4.14</td>\n    </tr>\n    <tr>\n      <th>2019-05-01</th>\n      <td>36,712</td>\n      <td>4.07</td>\n    </tr>\n    <tr>\n      <th>2019-06-01</th>\n      <td>34,101</td>\n      <td>3.8</td>\n    </tr>\n    <tr>\n      <th>2019-07-01</th>\n      <td>36,279</td>\n      <td>3.77</td>\n    </tr>\n    <tr>\n      <th>2019-08-01</th>\n      <td>35,477</td>\n      <td>3.62</td>\n    </tr>\n    <tr>\n      <th>2019-09-01</th>\n      <td>29,220</td>\n      <td>3.61</td>\n    </tr>\n    <tr>\n      <th>2019-10-01</th>\n      <td>29,473</td>\n      <td>3.69</td>\n    </tr>\n    <tr>\n      <th>2019-11-01</th>\n      <td>25,811</td>\n      <td>3.7</td>\n    </tr>\n    <tr>\n      <th>2019-12-01</th>\n      <td>29,918</td>\n      <td>3.72</td>\n    </tr>\n    <tr>\n      <th>2020-01-01</th>\n      <td>21,039</td>\n      <td>3.62</td>\n    </tr>\n    <tr>\n      <th>2020-02-01</th>\n      <td>24,879</td>\n      <td>3.47</td>\n    </tr>\n    <tr>\n      <th>2020-03-01</th>\n      <td>30,801</td>\n      <td>3.45</td>\n    </tr>\n    <tr>\n      <th>2020-04-01</th>\n      <td>26,106</td>\n      <td>3.31</td>\n    </tr>\n    <tr>\n      <th>2020-05-01</th>\n      <td>27,438</td>\n      <td>3.23</td>\n    </tr>\n    <tr>\n      <th>2020-06-01</th>\n      <td>38,639</td>\n      <td>3.16</td>\n    </tr>\n    <tr>\n      <th>2020-07-01</th>\n      <td>43,877</td>\n      <td>3.02</td>\n    </tr>\n    <tr>\n      <th>2020-08-01</th>\n      <td>38,384</td>\n      <td>2.94</td>\n    </tr>\n    <tr>\n      <th>2020-09-01</th>\n      <td>37,114</td>\n      <td>2.89</td>\n    </tr>\n    <tr>\n      <th>2020-10-01</th>\n      <td>36,610</td>\n      <td>2.83</td>\n    </tr>\n    <tr>\n      <th>2020-11-01</th>\n      <td>31,788</td>\n      <td>2.77</td>\n    </tr>\n    <tr>\n      <th>2020-12-01</th>\n      <td>NaN</td>\n      <td>2.68</td>\n    </tr>\n  </tbody>\n</table>\n<p>132 rows × 2 columns</p>\n</div>"
     },
     "metadata": {},
     "execution_count": 49
    }
   ],
   "source": [
    "# merge dataframes on Date\n",
    "df =pd.merge (sales, fixed_rate, on='Date', how='outer')\n",
    "df"
   ]
  },
  {
   "cell_type": "code",
   "execution_count": null,
   "metadata": {},
   "outputs": [],
   "source": []
  }
 ],
 "metadata": {
  "file_extension": ".py",
  "kernelspec": {
   "name": "python3",
   "display_name": "Python 3.7.7 64-bit ('pyvizenv': conda)",
   "metadata": {
    "interpreter": {
     "hash": "c3c06777d2d3a090de4d2535f4f1b119177f34ac2cf7c8075bb72b3b1efd8194"
    }
   }
  },
  "language_info": {
   "codemirror_mode": {
    "name": "ipython",
    "version": 3
   },
   "file_extension": ".py",
   "mimetype": "text/x-python",
   "name": "python",
   "nbconvert_exporter": "python",
   "pygments_lexer": "ipython3",
   "version": "3.7.7-final"
  },
  "mimetype": "text/x-python",
  "name": "python",
  "npconvert_exporter": "python",
  "pygments_lexer": "ipython3",
  "version": 3
 },
 "nbformat": 4,
 "nbformat_minor": 4
}