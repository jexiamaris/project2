{
 "cells": [
  {
   "cell_type": "code",
   "execution_count": 1,
   "metadata": {},
   "outputs": [],
   "source": [
    "# Initial imports\n",
    "import pandas as pd\n",
    "import numpy as np\n",
    "import matplotlib.pyplot as plt\n",
    "import tensorflow as tf\n",
    "from pathlib import Path\n",
    "\n",
    "%matplotlib inline"
   ]
  },
  {
   "cell_type": "code",
   "execution_count": 1,
   "metadata": {},
   "outputs": [],
   "source": [
    "from random import randint\n",
    "def card_deck():\n",
    "    #sets the card types and values\n",
    "    card_value = ['Ace','2','3','4','5','6','7','8','9','10','J','Q','K']\n",
    "    card_type = ['Hearts','Spades','Clubs','Diamonds']\n",
    "    deck = []\n",
    "    #This iterates all 52 cards into a deck\n",
    "    for i in card_type:\n",
    "        for j in card_value:\n",
    "            deck.append(j + ' of ' + i)\n",
    "    return deck\n",
    "\n",
    "def card_value(card):\n",
    "    #only reading first slice to determine value of the card\n",
    "    if card[:1] in ('J','Q','K','1'):\n",
    "        return int(10)\n",
    "    elif card[:1] in ('2','3','4','5','6','7','8','9'):\n",
    "        #card[:1] example '2' out of the full '2 of Hearts' string\n",
    "        return int(card[:1])\n",
    "    elif card[:1] == 'A':\n",
    "        print (\"\\n\"+ str(card))\n",
    "        num = input(\"Do you want this to be 1 or 11?\\n>\")\n",
    "        while num !='1' or num !='11':\n",
    "            if num == '1':\n",
    "                return int(1)\n",
    "            elif num == '11':\n",
    "                return int(11)\n",
    "            else:\n",
    "                num = input(\"Do you want this to be 1 or 11?\\n>\")\n",
    "\n",
    "\n",
    "def new_card(deck):\n",
    "    return deck[randint(0,len(deck)-1)]"
   ]
  },
  {
   "cell_type": "code",
   "execution_count": null,
   "metadata": {},
   "outputs": [],
   "source": []
  },
  {
   "cell_type": "markdown",
   "metadata": {},
   "source": [
    "To train the RNN model, we need to encode the text data as an integer. This transformation can be done using the following tools from Keras."
   ]
  },
  {
   "cell_type": "code",
   "execution_count": 4,
   "metadata": {},
   "outputs": [],
   "source": [
    "# Import Keras modules for data encoding\n",
    "from tensorflow.keras.preprocessing.text import Tokenizer\n",
    "from tensorflow.keras.preprocessing.sequence import pad_sequences"
   ]
  },
  {
   "cell_type": "code",
   "execution_count": 5,
   "metadata": {},
   "outputs": [],
   "source": [
    "# Create an instance of the Tokenizer and fit it with the X text data\n",
    "tokenizer = Tokenizer(lower=True)\n",
    "tokenizer.fit_on_texts(X)"
   ]
  },
  {
   "cell_type": "markdown",
   "metadata": {},
   "source": [
    "Now that the data is encoded, the training and testing sets will be created."
   ]
  },
  {
   "cell_type": "code",
   "execution_count": 9,
   "metadata": {},
   "outputs": [],
   "source": [
    "# Creating training, validation, and testing sets\n",
    "from sklearn.model_selection import train_test_split\n",
    "\n",
    "X_train, X_test, y_train, y_test = train_test_split(X_pad, y, random_state=52)"
   ]
  },
  {
   "cell_type": "code",
   "execution_count": 10,
   "metadata": {},
   "outputs": [],
   "source": [
    "# Import Keras modules for model creation\n",
    "from tensorflow.keras.models import Sequential\n",
    "from tensorflow.keras.layers import Embedding, LSTM, Dense"
   ]
  },
  {
   "cell_type": "markdown",
   "metadata": {},
   "source": [
    " ### Making Predictions"
   ]
  }
 ],
 "metadata": {
  "file_extension": ".py",
  "kernelspec": {
   "display_name": "Python 3",
   "language": "python",
   "name": "python3"
  },
  "language_info": {
   "codemirror_mode": {
    "name": "ipython",
    "version": 3
   },
   "file_extension": ".py",
   "mimetype": "text/x-python",
   "name": "python",
   "nbconvert_exporter": "python",
   "pygments_lexer": "ipython3",
   "version": "3.7.7-final"
  },
  "mimetype": "text/x-python",
  "name": "python",
  "npconvert_exporter": "python",
  "pygments_lexer": "ipython3",
  "version": 3
 },
 "nbformat": 4,
 "nbformat_minor": 4
}