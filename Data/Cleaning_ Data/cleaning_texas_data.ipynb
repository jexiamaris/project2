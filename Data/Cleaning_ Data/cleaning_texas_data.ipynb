{
 "metadata": {
  "language_info": {
   "codemirror_mode": {
    "name": "ipython",
    "version": 3
   },
   "file_extension": ".py",
   "mimetype": "text/x-python",
   "name": "python",
   "nbconvert_exporter": "python",
   "pygments_lexer": "ipython3",
   "version": "3.8.3-final"
  },
  "orig_nbformat": 2,
  "kernelspec": {
   "name": "python3",
   "display_name": "Python 3.8.3 64-bit (conda)",
   "metadata": {
    "interpreter": {
     "hash": "3b2d1872a97fb64bbb0bf089e5dc4a4b17c31375caf39a3144f71c656be998ab"
    }
   }
  }
 },
 "nbformat": 4,
 "nbformat_minor": 2,
 "cells": [
  {
   "cell_type": "code",
   "execution_count": 6,
   "metadata": {},
   "outputs": [],
   "source": [
    "import random\n",
    "from random import choices\n",
    "import pandas as pd\n",
    "import numpy as np\n",
    "from pathlib import Path"
   ]
  },
  {
   "cell_type": "code",
   "execution_count": 7,
   "metadata": {},
   "outputs": [
    {
     "output_type": "execute_result",
     "data": {
      "text/plain": [
       "      Identifier  RegionID  Bedroom            RegionName RegionType  \\\n",
       "0              2     39051        1               Houston       City   \n",
       "1              4      6915        1           San Antonio       City   \n",
       "2              9     38128        1                Dallas       City   \n",
       "3             10     10221        1                Austin       City   \n",
       "4             16     18172        1            Fort Worth       City   \n",
       "...          ...       ...      ...                   ...        ...   \n",
       "3899       18708     13442        5         Ransom Canyon       City   \n",
       "3900       18722     52665        5         Jamaica Beach       City   \n",
       "3901       18723     32151        5  Ingleside on the Bay       City   \n",
       "3902       18726     54635        5        Surfside Beach       City   \n",
       "3903       18750     42375        5            Fairchilds       City   \n",
       "\n",
       "     StateName State                             Metro           CountyName  \\\n",
       "0           TX    TX  Houston-The Woodlands-Sugar Land        Harris County   \n",
       "1           TX    TX         San Antonio-New Braunfels         Bexar County   \n",
       "2           TX    TX       Dallas-Fort Worth-Arlington        Dallas County   \n",
       "3           TX    TX                 Austin-Round Rock        Travis County   \n",
       "4           TX    TX       Dallas-Fort Worth-Arlington       Tarrant County   \n",
       "...        ...   ...                               ...                  ...   \n",
       "3899        TX    TX                           Lubbock       Lubbock County   \n",
       "3900        TX    TX  Houston-The Woodlands-Sugar Land     Galveston County   \n",
       "3901        TX    TX                    Corpus Christi  San Patricio County   \n",
       "3902        TX    TX  Houston-The Woodlands-Sugar Land      Brazoria County   \n",
       "3903        TX    TX  Houston-The Woodlands-Sugar Land     Fort Bend County   \n",
       "\n",
       "      1/31/2010  ...  6/30/2019  7/31/2019  8/31/2019  9/30/2019  10/31/2019  \\\n",
       "0       67653.0  ...     104937     105155     105502     105618      106083   \n",
       "1       61988.0  ...      90717      91135      91256      91958       92577   \n",
       "2       70689.0  ...     127201     128243     129296     131491      133499   \n",
       "3      160583.0  ...     264684     265207     265589     266687      267187   \n",
       "4      104317.0  ...     168865     169324     170025     170136      169141   \n",
       "...         ...  ...        ...        ...        ...        ...         ...   \n",
       "3899   270059.0  ...     385333     387468     387514     389938      391649   \n",
       "3900   550524.0  ...     656209     656624     655992     656511      655356   \n",
       "3901   150668.0  ...     257179     258419     259467     259902      260406   \n",
       "3902   298089.0  ...     457049     456514     456555     458114      462450   \n",
       "3903        NaN  ...     376055     377547     379961     382507      384938   \n",
       "\n",
       "      11/30/2019  12/31/2019  1/31/2020  2/29/2020  3/31/2020  \n",
       "0         106186      106299     106161     106271     106635  \n",
       "1          93383       93500      93963      94115      94557  \n",
       "2         135324      135456     135102     134699     135080  \n",
       "3         268417      268891     269627     269656     270911  \n",
       "4         167850      167262     167579     168277     169143  \n",
       "...          ...         ...        ...        ...        ...  \n",
       "3899      397571      404642     411867     416187     420871  \n",
       "3900      656806      655688     655114     652268     649370  \n",
       "3901      261622      263336     264974     266138     268114  \n",
       "3902      466920      472154     476587     480253     482405  \n",
       "3903      386972      389187     387800     386879     384703  \n",
       "\n",
       "[3904 rows x 132 columns]"
      ],
      "text/html": "<div>\n<style scoped>\n    .dataframe tbody tr th:only-of-type {\n        vertical-align: middle;\n    }\n\n    .dataframe tbody tr th {\n        vertical-align: top;\n    }\n\n    .dataframe thead th {\n        text-align: right;\n    }\n</style>\n<table border=\"1\" class=\"dataframe\">\n  <thead>\n    <tr style=\"text-align: right;\">\n      <th></th>\n      <th>Identifier</th>\n      <th>RegionID</th>\n      <th>Bedroom</th>\n      <th>RegionName</th>\n      <th>RegionType</th>\n      <th>StateName</th>\n      <th>State</th>\n      <th>Metro</th>\n      <th>CountyName</th>\n      <th>1/31/2010</th>\n      <th>...</th>\n      <th>6/30/2019</th>\n      <th>7/31/2019</th>\n      <th>8/31/2019</th>\n      <th>9/30/2019</th>\n      <th>10/31/2019</th>\n      <th>11/30/2019</th>\n      <th>12/31/2019</th>\n      <th>1/31/2020</th>\n      <th>2/29/2020</th>\n      <th>3/31/2020</th>\n    </tr>\n  </thead>\n  <tbody>\n    <tr>\n      <th>0</th>\n      <td>2</td>\n      <td>39051</td>\n      <td>1</td>\n      <td>Houston</td>\n      <td>City</td>\n      <td>TX</td>\n      <td>TX</td>\n      <td>Houston-The Woodlands-Sugar Land</td>\n      <td>Harris County</td>\n      <td>67653.0</td>\n      <td>...</td>\n      <td>104937</td>\n      <td>105155</td>\n      <td>105502</td>\n      <td>105618</td>\n      <td>106083</td>\n      <td>106186</td>\n      <td>106299</td>\n      <td>106161</td>\n      <td>106271</td>\n      <td>106635</td>\n    </tr>\n    <tr>\n      <th>1</th>\n      <td>4</td>\n      <td>6915</td>\n      <td>1</td>\n      <td>San Antonio</td>\n      <td>City</td>\n      <td>TX</td>\n      <td>TX</td>\n      <td>San Antonio-New Braunfels</td>\n      <td>Bexar County</td>\n      <td>61988.0</td>\n      <td>...</td>\n      <td>90717</td>\n      <td>91135</td>\n      <td>91256</td>\n      <td>91958</td>\n      <td>92577</td>\n      <td>93383</td>\n      <td>93500</td>\n      <td>93963</td>\n      <td>94115</td>\n      <td>94557</td>\n    </tr>\n    <tr>\n      <th>2</th>\n      <td>9</td>\n      <td>38128</td>\n      <td>1</td>\n      <td>Dallas</td>\n      <td>City</td>\n      <td>TX</td>\n      <td>TX</td>\n      <td>Dallas-Fort Worth-Arlington</td>\n      <td>Dallas County</td>\n      <td>70689.0</td>\n      <td>...</td>\n      <td>127201</td>\n      <td>128243</td>\n      <td>129296</td>\n      <td>131491</td>\n      <td>133499</td>\n      <td>135324</td>\n      <td>135456</td>\n      <td>135102</td>\n      <td>134699</td>\n      <td>135080</td>\n    </tr>\n    <tr>\n      <th>3</th>\n      <td>10</td>\n      <td>10221</td>\n      <td>1</td>\n      <td>Austin</td>\n      <td>City</td>\n      <td>TX</td>\n      <td>TX</td>\n      <td>Austin-Round Rock</td>\n      <td>Travis County</td>\n      <td>160583.0</td>\n      <td>...</td>\n      <td>264684</td>\n      <td>265207</td>\n      <td>265589</td>\n      <td>266687</td>\n      <td>267187</td>\n      <td>268417</td>\n      <td>268891</td>\n      <td>269627</td>\n      <td>269656</td>\n      <td>270911</td>\n    </tr>\n    <tr>\n      <th>4</th>\n      <td>16</td>\n      <td>18172</td>\n      <td>1</td>\n      <td>Fort Worth</td>\n      <td>City</td>\n      <td>TX</td>\n      <td>TX</td>\n      <td>Dallas-Fort Worth-Arlington</td>\n      <td>Tarrant County</td>\n      <td>104317.0</td>\n      <td>...</td>\n      <td>168865</td>\n      <td>169324</td>\n      <td>170025</td>\n      <td>170136</td>\n      <td>169141</td>\n      <td>167850</td>\n      <td>167262</td>\n      <td>167579</td>\n      <td>168277</td>\n      <td>169143</td>\n    </tr>\n    <tr>\n      <th>...</th>\n      <td>...</td>\n      <td>...</td>\n      <td>...</td>\n      <td>...</td>\n      <td>...</td>\n      <td>...</td>\n      <td>...</td>\n      <td>...</td>\n      <td>...</td>\n      <td>...</td>\n      <td>...</td>\n      <td>...</td>\n      <td>...</td>\n      <td>...</td>\n      <td>...</td>\n      <td>...</td>\n      <td>...</td>\n      <td>...</td>\n      <td>...</td>\n      <td>...</td>\n      <td>...</td>\n    </tr>\n    <tr>\n      <th>3899</th>\n      <td>18708</td>\n      <td>13442</td>\n      <td>5</td>\n      <td>Ransom Canyon</td>\n      <td>City</td>\n      <td>TX</td>\n      <td>TX</td>\n      <td>Lubbock</td>\n      <td>Lubbock County</td>\n      <td>270059.0</td>\n      <td>...</td>\n      <td>385333</td>\n      <td>387468</td>\n      <td>387514</td>\n      <td>389938</td>\n      <td>391649</td>\n      <td>397571</td>\n      <td>404642</td>\n      <td>411867</td>\n      <td>416187</td>\n      <td>420871</td>\n    </tr>\n    <tr>\n      <th>3900</th>\n      <td>18722</td>\n      <td>52665</td>\n      <td>5</td>\n      <td>Jamaica Beach</td>\n      <td>City</td>\n      <td>TX</td>\n      <td>TX</td>\n      <td>Houston-The Woodlands-Sugar Land</td>\n      <td>Galveston County</td>\n      <td>550524.0</td>\n      <td>...</td>\n      <td>656209</td>\n      <td>656624</td>\n      <td>655992</td>\n      <td>656511</td>\n      <td>655356</td>\n      <td>656806</td>\n      <td>655688</td>\n      <td>655114</td>\n      <td>652268</td>\n      <td>649370</td>\n    </tr>\n    <tr>\n      <th>3901</th>\n      <td>18723</td>\n      <td>32151</td>\n      <td>5</td>\n      <td>Ingleside on the Bay</td>\n      <td>City</td>\n      <td>TX</td>\n      <td>TX</td>\n      <td>Corpus Christi</td>\n      <td>San Patricio County</td>\n      <td>150668.0</td>\n      <td>...</td>\n      <td>257179</td>\n      <td>258419</td>\n      <td>259467</td>\n      <td>259902</td>\n      <td>260406</td>\n      <td>261622</td>\n      <td>263336</td>\n      <td>264974</td>\n      <td>266138</td>\n      <td>268114</td>\n    </tr>\n    <tr>\n      <th>3902</th>\n      <td>18726</td>\n      <td>54635</td>\n      <td>5</td>\n      <td>Surfside Beach</td>\n      <td>City</td>\n      <td>TX</td>\n      <td>TX</td>\n      <td>Houston-The Woodlands-Sugar Land</td>\n      <td>Brazoria County</td>\n      <td>298089.0</td>\n      <td>...</td>\n      <td>457049</td>\n      <td>456514</td>\n      <td>456555</td>\n      <td>458114</td>\n      <td>462450</td>\n      <td>466920</td>\n      <td>472154</td>\n      <td>476587</td>\n      <td>480253</td>\n      <td>482405</td>\n    </tr>\n    <tr>\n      <th>3903</th>\n      <td>18750</td>\n      <td>42375</td>\n      <td>5</td>\n      <td>Fairchilds</td>\n      <td>City</td>\n      <td>TX</td>\n      <td>TX</td>\n      <td>Houston-The Woodlands-Sugar Land</td>\n      <td>Fort Bend County</td>\n      <td>NaN</td>\n      <td>...</td>\n      <td>376055</td>\n      <td>377547</td>\n      <td>379961</td>\n      <td>382507</td>\n      <td>384938</td>\n      <td>386972</td>\n      <td>389187</td>\n      <td>387800</td>\n      <td>386879</td>\n      <td>384703</td>\n    </tr>\n  </tbody>\n</table>\n<p>3904 rows × 132 columns</p>\n</div>"
     },
     "metadata": {},
     "execution_count": 7
    }
   ],
   "source": [
    "# Load data\n",
    "housing_data = pd.read_csv(Path(\"../raw_data/Housing_values_TX.csv\"))\n",
    "housing_df = pd.DataFrame(housing_data)\n",
    "housing_df"
   ]
  },
  {
   "cell_type": "code",
   "execution_count": 8,
   "metadata": {},
   "outputs": [
    {
     "output_type": "execute_result",
     "data": {
      "text/plain": [
       "      Identifier  Bedroom            RegionName State  \\\n",
       "0              2        1               Houston    TX   \n",
       "1              4        1           San Antonio    TX   \n",
       "2              9        1                Dallas    TX   \n",
       "3             10        1                Austin    TX   \n",
       "4             16        1            Fort Worth    TX   \n",
       "...          ...      ...                   ...   ...   \n",
       "3899       18708        5         Ransom Canyon    TX   \n",
       "3900       18722        5         Jamaica Beach    TX   \n",
       "3901       18723        5  Ingleside on the Bay    TX   \n",
       "3902       18726        5        Surfside Beach    TX   \n",
       "3903       18750        5            Fairchilds    TX   \n",
       "\n",
       "                                 Metro           CountyName  1/31/2010  \\\n",
       "0     Houston-The Woodlands-Sugar Land        Harris County    67653.0   \n",
       "1            San Antonio-New Braunfels         Bexar County    61988.0   \n",
       "2          Dallas-Fort Worth-Arlington        Dallas County    70689.0   \n",
       "3                    Austin-Round Rock        Travis County   160583.0   \n",
       "4          Dallas-Fort Worth-Arlington       Tarrant County   104317.0   \n",
       "...                                ...                  ...        ...   \n",
       "3899                           Lubbock       Lubbock County   270059.0   \n",
       "3900  Houston-The Woodlands-Sugar Land     Galveston County   550524.0   \n",
       "3901                    Corpus Christi  San Patricio County   150668.0   \n",
       "3902  Houston-The Woodlands-Sugar Land      Brazoria County   298089.0   \n",
       "3903  Houston-The Woodlands-Sugar Land     Fort Bend County        NaN   \n",
       "\n",
       "      2/28/2010  3/31/2010  4/30/2010  ...  6/30/2019  7/31/2019  8/31/2019  \\\n",
       "0       67444.0    67260.0    67041.0  ...     104937     105155     105502   \n",
       "1       61888.0    61742.0    61448.0  ...      90717      91135      91256   \n",
       "2       70262.0    69747.0    69430.0  ...     127201     128243     129296   \n",
       "3      159888.0   159707.0   159591.0  ...     264684     265207     265589   \n",
       "4      104317.0   103408.0   102882.0  ...     168865     169324     170025   \n",
       "...         ...        ...        ...  ...        ...        ...        ...   \n",
       "3899   270684.0   270342.0   269454.0  ...     385333     387468     387514   \n",
       "3900   552243.0   548603.0   538650.0  ...     656209     656624     655992   \n",
       "3901   150004.0   150545.0   149899.0  ...     257179     258419     259467   \n",
       "3902   294899.0   291515.0   286260.0  ...     457049     456514     456555   \n",
       "3903        NaN        NaN        NaN  ...     376055     377547     379961   \n",
       "\n",
       "      9/30/2019  10/31/2019  11/30/2019  12/31/2019  1/31/2020  2/29/2020  \\\n",
       "0        105618      106083      106186      106299     106161     106271   \n",
       "1         91958       92577       93383       93500      93963      94115   \n",
       "2        131491      133499      135324      135456     135102     134699   \n",
       "3        266687      267187      268417      268891     269627     269656   \n",
       "4        170136      169141      167850      167262     167579     168277   \n",
       "...         ...         ...         ...         ...        ...        ...   \n",
       "3899     389938      391649      397571      404642     411867     416187   \n",
       "3900     656511      655356      656806      655688     655114     652268   \n",
       "3901     259902      260406      261622      263336     264974     266138   \n",
       "3902     458114      462450      466920      472154     476587     480253   \n",
       "3903     382507      384938      386972      389187     387800     386879   \n",
       "\n",
       "      3/31/2020  \n",
       "0        106635  \n",
       "1         94557  \n",
       "2        135080  \n",
       "3        270911  \n",
       "4        169143  \n",
       "...         ...  \n",
       "3899     420871  \n",
       "3900     649370  \n",
       "3901     268114  \n",
       "3902     482405  \n",
       "3903     384703  \n",
       "\n",
       "[3904 rows x 129 columns]"
      ],
      "text/html": "<div>\n<style scoped>\n    .dataframe tbody tr th:only-of-type {\n        vertical-align: middle;\n    }\n\n    .dataframe tbody tr th {\n        vertical-align: top;\n    }\n\n    .dataframe thead th {\n        text-align: right;\n    }\n</style>\n<table border=\"1\" class=\"dataframe\">\n  <thead>\n    <tr style=\"text-align: right;\">\n      <th></th>\n      <th>Identifier</th>\n      <th>Bedroom</th>\n      <th>RegionName</th>\n      <th>State</th>\n      <th>Metro</th>\n      <th>CountyName</th>\n      <th>1/31/2010</th>\n      <th>2/28/2010</th>\n      <th>3/31/2010</th>\n      <th>4/30/2010</th>\n      <th>...</th>\n      <th>6/30/2019</th>\n      <th>7/31/2019</th>\n      <th>8/31/2019</th>\n      <th>9/30/2019</th>\n      <th>10/31/2019</th>\n      <th>11/30/2019</th>\n      <th>12/31/2019</th>\n      <th>1/31/2020</th>\n      <th>2/29/2020</th>\n      <th>3/31/2020</th>\n    </tr>\n  </thead>\n  <tbody>\n    <tr>\n      <th>0</th>\n      <td>2</td>\n      <td>1</td>\n      <td>Houston</td>\n      <td>TX</td>\n      <td>Houston-The Woodlands-Sugar Land</td>\n      <td>Harris County</td>\n      <td>67653.0</td>\n      <td>67444.0</td>\n      <td>67260.0</td>\n      <td>67041.0</td>\n      <td>...</td>\n      <td>104937</td>\n      <td>105155</td>\n      <td>105502</td>\n      <td>105618</td>\n      <td>106083</td>\n      <td>106186</td>\n      <td>106299</td>\n      <td>106161</td>\n      <td>106271</td>\n      <td>106635</td>\n    </tr>\n    <tr>\n      <th>1</th>\n      <td>4</td>\n      <td>1</td>\n      <td>San Antonio</td>\n      <td>TX</td>\n      <td>San Antonio-New Braunfels</td>\n      <td>Bexar County</td>\n      <td>61988.0</td>\n      <td>61888.0</td>\n      <td>61742.0</td>\n      <td>61448.0</td>\n      <td>...</td>\n      <td>90717</td>\n      <td>91135</td>\n      <td>91256</td>\n      <td>91958</td>\n      <td>92577</td>\n      <td>93383</td>\n      <td>93500</td>\n      <td>93963</td>\n      <td>94115</td>\n      <td>94557</td>\n    </tr>\n    <tr>\n      <th>2</th>\n      <td>9</td>\n      <td>1</td>\n      <td>Dallas</td>\n      <td>TX</td>\n      <td>Dallas-Fort Worth-Arlington</td>\n      <td>Dallas County</td>\n      <td>70689.0</td>\n      <td>70262.0</td>\n      <td>69747.0</td>\n      <td>69430.0</td>\n      <td>...</td>\n      <td>127201</td>\n      <td>128243</td>\n      <td>129296</td>\n      <td>131491</td>\n      <td>133499</td>\n      <td>135324</td>\n      <td>135456</td>\n      <td>135102</td>\n      <td>134699</td>\n      <td>135080</td>\n    </tr>\n    <tr>\n      <th>3</th>\n      <td>10</td>\n      <td>1</td>\n      <td>Austin</td>\n      <td>TX</td>\n      <td>Austin-Round Rock</td>\n      <td>Travis County</td>\n      <td>160583.0</td>\n      <td>159888.0</td>\n      <td>159707.0</td>\n      <td>159591.0</td>\n      <td>...</td>\n      <td>264684</td>\n      <td>265207</td>\n      <td>265589</td>\n      <td>266687</td>\n      <td>267187</td>\n      <td>268417</td>\n      <td>268891</td>\n      <td>269627</td>\n      <td>269656</td>\n      <td>270911</td>\n    </tr>\n    <tr>\n      <th>4</th>\n      <td>16</td>\n      <td>1</td>\n      <td>Fort Worth</td>\n      <td>TX</td>\n      <td>Dallas-Fort Worth-Arlington</td>\n      <td>Tarrant County</td>\n      <td>104317.0</td>\n      <td>104317.0</td>\n      <td>103408.0</td>\n      <td>102882.0</td>\n      <td>...</td>\n      <td>168865</td>\n      <td>169324</td>\n      <td>170025</td>\n      <td>170136</td>\n      <td>169141</td>\n      <td>167850</td>\n      <td>167262</td>\n      <td>167579</td>\n      <td>168277</td>\n      <td>169143</td>\n    </tr>\n    <tr>\n      <th>...</th>\n      <td>...</td>\n      <td>...</td>\n      <td>...</td>\n      <td>...</td>\n      <td>...</td>\n      <td>...</td>\n      <td>...</td>\n      <td>...</td>\n      <td>...</td>\n      <td>...</td>\n      <td>...</td>\n      <td>...</td>\n      <td>...</td>\n      <td>...</td>\n      <td>...</td>\n      <td>...</td>\n      <td>...</td>\n      <td>...</td>\n      <td>...</td>\n      <td>...</td>\n      <td>...</td>\n    </tr>\n    <tr>\n      <th>3899</th>\n      <td>18708</td>\n      <td>5</td>\n      <td>Ransom Canyon</td>\n      <td>TX</td>\n      <td>Lubbock</td>\n      <td>Lubbock County</td>\n      <td>270059.0</td>\n      <td>270684.0</td>\n      <td>270342.0</td>\n      <td>269454.0</td>\n      <td>...</td>\n      <td>385333</td>\n      <td>387468</td>\n      <td>387514</td>\n      <td>389938</td>\n      <td>391649</td>\n      <td>397571</td>\n      <td>404642</td>\n      <td>411867</td>\n      <td>416187</td>\n      <td>420871</td>\n    </tr>\n    <tr>\n      <th>3900</th>\n      <td>18722</td>\n      <td>5</td>\n      <td>Jamaica Beach</td>\n      <td>TX</td>\n      <td>Houston-The Woodlands-Sugar Land</td>\n      <td>Galveston County</td>\n      <td>550524.0</td>\n      <td>552243.0</td>\n      <td>548603.0</td>\n      <td>538650.0</td>\n      <td>...</td>\n      <td>656209</td>\n      <td>656624</td>\n      <td>655992</td>\n      <td>656511</td>\n      <td>655356</td>\n      <td>656806</td>\n      <td>655688</td>\n      <td>655114</td>\n      <td>652268</td>\n      <td>649370</td>\n    </tr>\n    <tr>\n      <th>3901</th>\n      <td>18723</td>\n      <td>5</td>\n      <td>Ingleside on the Bay</td>\n      <td>TX</td>\n      <td>Corpus Christi</td>\n      <td>San Patricio County</td>\n      <td>150668.0</td>\n      <td>150004.0</td>\n      <td>150545.0</td>\n      <td>149899.0</td>\n      <td>...</td>\n      <td>257179</td>\n      <td>258419</td>\n      <td>259467</td>\n      <td>259902</td>\n      <td>260406</td>\n      <td>261622</td>\n      <td>263336</td>\n      <td>264974</td>\n      <td>266138</td>\n      <td>268114</td>\n    </tr>\n    <tr>\n      <th>3902</th>\n      <td>18726</td>\n      <td>5</td>\n      <td>Surfside Beach</td>\n      <td>TX</td>\n      <td>Houston-The Woodlands-Sugar Land</td>\n      <td>Brazoria County</td>\n      <td>298089.0</td>\n      <td>294899.0</td>\n      <td>291515.0</td>\n      <td>286260.0</td>\n      <td>...</td>\n      <td>457049</td>\n      <td>456514</td>\n      <td>456555</td>\n      <td>458114</td>\n      <td>462450</td>\n      <td>466920</td>\n      <td>472154</td>\n      <td>476587</td>\n      <td>480253</td>\n      <td>482405</td>\n    </tr>\n    <tr>\n      <th>3903</th>\n      <td>18750</td>\n      <td>5</td>\n      <td>Fairchilds</td>\n      <td>TX</td>\n      <td>Houston-The Woodlands-Sugar Land</td>\n      <td>Fort Bend County</td>\n      <td>NaN</td>\n      <td>NaN</td>\n      <td>NaN</td>\n      <td>NaN</td>\n      <td>...</td>\n      <td>376055</td>\n      <td>377547</td>\n      <td>379961</td>\n      <td>382507</td>\n      <td>384938</td>\n      <td>386972</td>\n      <td>389187</td>\n      <td>387800</td>\n      <td>386879</td>\n      <td>384703</td>\n    </tr>\n  </tbody>\n</table>\n<p>3904 rows × 129 columns</p>\n</div>"
     },
     "metadata": {},
     "execution_count": 8
    }
   ],
   "source": [
    "housing_df= housing_df.drop(columns=[\"RegionID\", \"RegionType\", \"StateName\"])\n",
    "housing_df"
   ]
  },
  {
   "cell_type": "code",
   "execution_count": 9,
   "metadata": {},
   "outputs": [
    {
     "output_type": "execute_result",
     "data": {
      "text/plain": [
       "   Identifier  Bedroom   RegionName State                             Metro  \\\n",
       "0           2        1      Houston    TX  Houston-The Woodlands-Sugar Land   \n",
       "1           4        1  San Antonio    TX         San Antonio-New Braunfels   \n",
       "2           9        1       Dallas    TX       Dallas-Fort Worth-Arlington   \n",
       "3          10        1       Austin    TX                 Austin-Round Rock   \n",
       "4          16        1   Fort Worth    TX       Dallas-Fort Worth-Arlington   \n",
       "\n",
       "       CountyName       Date     Price  \n",
       "0   Harris County  1/31/2010   67653.0  \n",
       "1    Bexar County  1/31/2010   61988.0  \n",
       "2   Dallas County  1/31/2010   70689.0  \n",
       "3   Travis County  1/31/2010  160583.0  \n",
       "4  Tarrant County  1/31/2010  104317.0  "
      ],
      "text/html": "<div>\n<style scoped>\n    .dataframe tbody tr th:only-of-type {\n        vertical-align: middle;\n    }\n\n    .dataframe tbody tr th {\n        vertical-align: top;\n    }\n\n    .dataframe thead th {\n        text-align: right;\n    }\n</style>\n<table border=\"1\" class=\"dataframe\">\n  <thead>\n    <tr style=\"text-align: right;\">\n      <th></th>\n      <th>Identifier</th>\n      <th>Bedroom</th>\n      <th>RegionName</th>\n      <th>State</th>\n      <th>Metro</th>\n      <th>CountyName</th>\n      <th>Date</th>\n      <th>Price</th>\n    </tr>\n  </thead>\n  <tbody>\n    <tr>\n      <th>0</th>\n      <td>2</td>\n      <td>1</td>\n      <td>Houston</td>\n      <td>TX</td>\n      <td>Houston-The Woodlands-Sugar Land</td>\n      <td>Harris County</td>\n      <td>1/31/2010</td>\n      <td>67653.0</td>\n    </tr>\n    <tr>\n      <th>1</th>\n      <td>4</td>\n      <td>1</td>\n      <td>San Antonio</td>\n      <td>TX</td>\n      <td>San Antonio-New Braunfels</td>\n      <td>Bexar County</td>\n      <td>1/31/2010</td>\n      <td>61988.0</td>\n    </tr>\n    <tr>\n      <th>2</th>\n      <td>9</td>\n      <td>1</td>\n      <td>Dallas</td>\n      <td>TX</td>\n      <td>Dallas-Fort Worth-Arlington</td>\n      <td>Dallas County</td>\n      <td>1/31/2010</td>\n      <td>70689.0</td>\n    </tr>\n    <tr>\n      <th>3</th>\n      <td>10</td>\n      <td>1</td>\n      <td>Austin</td>\n      <td>TX</td>\n      <td>Austin-Round Rock</td>\n      <td>Travis County</td>\n      <td>1/31/2010</td>\n      <td>160583.0</td>\n    </tr>\n    <tr>\n      <th>4</th>\n      <td>16</td>\n      <td>1</td>\n      <td>Fort Worth</td>\n      <td>TX</td>\n      <td>Dallas-Fort Worth-Arlington</td>\n      <td>Tarrant County</td>\n      <td>1/31/2010</td>\n      <td>104317.0</td>\n    </tr>\n  </tbody>\n</table>\n</div>"
     },
     "metadata": {},
     "execution_count": 9
    }
   ],
   "source": [
    "housing_df= housing_df.melt(id_vars=[\"Identifier\", \"Bedroom\", \"RegionName\", \"State\", \"Metro\", \"CountyName\"], \n",
    "        var_name=\"Date\", \n",
    "        value_name=\"Price\")\n",
    "housing_df.head()"
   ]
  },
  {
   "cell_type": "code",
   "execution_count": 10,
   "metadata": {},
   "outputs": [
    {
     "output_type": "execute_result",
     "data": {
      "text/plain": [
       "           Identifier  Bedroom   RegionName State  \\\n",
       "Date                                                \n",
       "1/31/2010           2        1      Houston    TX   \n",
       "1/31/2010           4        1  San Antonio    TX   \n",
       "1/31/2010           9        1       Dallas    TX   \n",
       "1/31/2010          10        1       Austin    TX   \n",
       "1/31/2010          16        1   Fort Worth    TX   \n",
       "\n",
       "                                      Metro      CountyName     Price  \n",
       "Date                                                                   \n",
       "1/31/2010  Houston-The Woodlands-Sugar Land   Harris County   67653.0  \n",
       "1/31/2010         San Antonio-New Braunfels    Bexar County   61988.0  \n",
       "1/31/2010       Dallas-Fort Worth-Arlington   Dallas County   70689.0  \n",
       "1/31/2010                 Austin-Round Rock   Travis County  160583.0  \n",
       "1/31/2010       Dallas-Fort Worth-Arlington  Tarrant County  104317.0  "
      ],
      "text/html": "<div>\n<style scoped>\n    .dataframe tbody tr th:only-of-type {\n        vertical-align: middle;\n    }\n\n    .dataframe tbody tr th {\n        vertical-align: top;\n    }\n\n    .dataframe thead th {\n        text-align: right;\n    }\n</style>\n<table border=\"1\" class=\"dataframe\">\n  <thead>\n    <tr style=\"text-align: right;\">\n      <th></th>\n      <th>Identifier</th>\n      <th>Bedroom</th>\n      <th>RegionName</th>\n      <th>State</th>\n      <th>Metro</th>\n      <th>CountyName</th>\n      <th>Price</th>\n    </tr>\n    <tr>\n      <th>Date</th>\n      <th></th>\n      <th></th>\n      <th></th>\n      <th></th>\n      <th></th>\n      <th></th>\n      <th></th>\n    </tr>\n  </thead>\n  <tbody>\n    <tr>\n      <th>1/31/2010</th>\n      <td>2</td>\n      <td>1</td>\n      <td>Houston</td>\n      <td>TX</td>\n      <td>Houston-The Woodlands-Sugar Land</td>\n      <td>Harris County</td>\n      <td>67653.0</td>\n    </tr>\n    <tr>\n      <th>1/31/2010</th>\n      <td>4</td>\n      <td>1</td>\n      <td>San Antonio</td>\n      <td>TX</td>\n      <td>San Antonio-New Braunfels</td>\n      <td>Bexar County</td>\n      <td>61988.0</td>\n    </tr>\n    <tr>\n      <th>1/31/2010</th>\n      <td>9</td>\n      <td>1</td>\n      <td>Dallas</td>\n      <td>TX</td>\n      <td>Dallas-Fort Worth-Arlington</td>\n      <td>Dallas County</td>\n      <td>70689.0</td>\n    </tr>\n    <tr>\n      <th>1/31/2010</th>\n      <td>10</td>\n      <td>1</td>\n      <td>Austin</td>\n      <td>TX</td>\n      <td>Austin-Round Rock</td>\n      <td>Travis County</td>\n      <td>160583.0</td>\n    </tr>\n    <tr>\n      <th>1/31/2010</th>\n      <td>16</td>\n      <td>1</td>\n      <td>Fort Worth</td>\n      <td>TX</td>\n      <td>Dallas-Fort Worth-Arlington</td>\n      <td>Tarrant County</td>\n      <td>104317.0</td>\n    </tr>\n  </tbody>\n</table>\n</div>"
     },
     "metadata": {},
     "execution_count": 10
    }
   ],
   "source": [
    "housing_df.reset_index(drop=True, inplace=True)\n",
    "housing_df.set_index('Date', inplace=True)\n",
    "housing_df.head()"
   ]
  },
  {
   "cell_type": "code",
   "execution_count": 12,
   "metadata": {},
   "outputs": [
    {
     "output_type": "execute_result",
     "data": {
      "text/plain": [
       "     Identifier  RegionID  Unnamed: 2   RegionName RegionType StateName  \\\n",
       "0             2     39051         NaN      Houston       City        TX   \n",
       "1             4      6915         NaN  San Antonio       City        TX   \n",
       "2             9     38128         NaN       Dallas       City        TX   \n",
       "3            10     10221         NaN       Austin       City        TX   \n",
       "4            15     18172         NaN   Fort Worth       City        TX   \n",
       "..          ...       ...         ...          ...        ...       ...   \n",
       "131        2512     28168         NaN       Celina       City        TX   \n",
       "132        2601     29386         NaN      Woodway       City        TX   \n",
       "133        2618     24253         NaN     Crandall       City        TX   \n",
       "134        2636     35401         NaN     Fulshear       City        TX   \n",
       "135        2676     12103         NaN      Jarrell       City        TX   \n",
       "\n",
       "     2010-01  2010-02  2010-03  2010-04  ...  2019-05  2019-06  2019-07  \\\n",
       "0      133.0    137.0    134.0    112.0  ...     71.0     70.0     67.0   \n",
       "1      101.0    110.0    121.0    110.0  ...     61.0     61.0     60.0   \n",
       "2      136.0    136.0    132.0    118.0  ...     65.0     65.0     68.0   \n",
       "3      111.0    111.5    108.0     86.0  ...     47.0     49.0     48.0   \n",
       "4      122.0    122.0    117.0    109.0  ...     55.0     54.0     53.0   \n",
       "..       ...      ...      ...      ...  ...      ...      ...      ...   \n",
       "131      NaN      NaN      NaN      NaN  ...    151.0     98.0    139.0   \n",
       "132      NaN      NaN      NaN      NaN  ...     59.0     50.0     65.0   \n",
       "133      NaN      NaN      NaN      NaN  ...     54.0     76.0     75.0   \n",
       "134      NaN      NaN      NaN      NaN  ...    183.0    143.5    110.0   \n",
       "135      NaN      NaN      NaN      NaN  ...     62.0     79.5     72.0   \n",
       "\n",
       "     2019-08  2019-09  2019-10  2019-11  2019-12  2020-01  2020-02  \n",
       "0       71.0     81.0     86.0     92.0     94.0    104.0     99.0  \n",
       "1       62.0     70.0     76.0     79.0     84.0     92.0     91.0  \n",
       "2       71.0     76.0     84.0     75.0     91.5     96.0     97.0  \n",
       "3       53.0     54.0     60.0     57.0     64.0     71.0     52.0  \n",
       "4       54.0     65.0     66.0     71.0     71.0     76.0     77.0  \n",
       "..       ...      ...      ...      ...      ...      ...      ...  \n",
       "131    120.5    142.0    176.0    164.0    165.5    111.0    119.5  \n",
       "132     75.0     93.0     59.0     54.0     73.5     93.5     91.5  \n",
       "133     67.0     92.0     84.0    103.0    121.0    118.0    157.0  \n",
       "134    132.0    132.0    133.0    154.0    124.0    150.5    166.0  \n",
       "135     83.5     83.0     98.0     64.5     80.0     80.0     98.0  \n",
       "\n",
       "[136 rows x 128 columns]"
      ],
      "text/html": "<div>\n<style scoped>\n    .dataframe tbody tr th:only-of-type {\n        vertical-align: middle;\n    }\n\n    .dataframe tbody tr th {\n        vertical-align: top;\n    }\n\n    .dataframe thead th {\n        text-align: right;\n    }\n</style>\n<table border=\"1\" class=\"dataframe\">\n  <thead>\n    <tr style=\"text-align: right;\">\n      <th></th>\n      <th>Identifier</th>\n      <th>RegionID</th>\n      <th>Unnamed: 2</th>\n      <th>RegionName</th>\n      <th>RegionType</th>\n      <th>StateName</th>\n      <th>2010-01</th>\n      <th>2010-02</th>\n      <th>2010-03</th>\n      <th>2010-04</th>\n      <th>...</th>\n      <th>2019-05</th>\n      <th>2019-06</th>\n      <th>2019-07</th>\n      <th>2019-08</th>\n      <th>2019-09</th>\n      <th>2019-10</th>\n      <th>2019-11</th>\n      <th>2019-12</th>\n      <th>2020-01</th>\n      <th>2020-02</th>\n    </tr>\n  </thead>\n  <tbody>\n    <tr>\n      <th>0</th>\n      <td>2</td>\n      <td>39051</td>\n      <td>NaN</td>\n      <td>Houston</td>\n      <td>City</td>\n      <td>TX</td>\n      <td>133.0</td>\n      <td>137.0</td>\n      <td>134.0</td>\n      <td>112.0</td>\n      <td>...</td>\n      <td>71.0</td>\n      <td>70.0</td>\n      <td>67.0</td>\n      <td>71.0</td>\n      <td>81.0</td>\n      <td>86.0</td>\n      <td>92.0</td>\n      <td>94.0</td>\n      <td>104.0</td>\n      <td>99.0</td>\n    </tr>\n    <tr>\n      <th>1</th>\n      <td>4</td>\n      <td>6915</td>\n      <td>NaN</td>\n      <td>San Antonio</td>\n      <td>City</td>\n      <td>TX</td>\n      <td>101.0</td>\n      <td>110.0</td>\n      <td>121.0</td>\n      <td>110.0</td>\n      <td>...</td>\n      <td>61.0</td>\n      <td>61.0</td>\n      <td>60.0</td>\n      <td>62.0</td>\n      <td>70.0</td>\n      <td>76.0</td>\n      <td>79.0</td>\n      <td>84.0</td>\n      <td>92.0</td>\n      <td>91.0</td>\n    </tr>\n    <tr>\n      <th>2</th>\n      <td>9</td>\n      <td>38128</td>\n      <td>NaN</td>\n      <td>Dallas</td>\n      <td>City</td>\n      <td>TX</td>\n      <td>136.0</td>\n      <td>136.0</td>\n      <td>132.0</td>\n      <td>118.0</td>\n      <td>...</td>\n      <td>65.0</td>\n      <td>65.0</td>\n      <td>68.0</td>\n      <td>71.0</td>\n      <td>76.0</td>\n      <td>84.0</td>\n      <td>75.0</td>\n      <td>91.5</td>\n      <td>96.0</td>\n      <td>97.0</td>\n    </tr>\n    <tr>\n      <th>3</th>\n      <td>10</td>\n      <td>10221</td>\n      <td>NaN</td>\n      <td>Austin</td>\n      <td>City</td>\n      <td>TX</td>\n      <td>111.0</td>\n      <td>111.5</td>\n      <td>108.0</td>\n      <td>86.0</td>\n      <td>...</td>\n      <td>47.0</td>\n      <td>49.0</td>\n      <td>48.0</td>\n      <td>53.0</td>\n      <td>54.0</td>\n      <td>60.0</td>\n      <td>57.0</td>\n      <td>64.0</td>\n      <td>71.0</td>\n      <td>52.0</td>\n    </tr>\n    <tr>\n      <th>4</th>\n      <td>15</td>\n      <td>18172</td>\n      <td>NaN</td>\n      <td>Fort Worth</td>\n      <td>City</td>\n      <td>TX</td>\n      <td>122.0</td>\n      <td>122.0</td>\n      <td>117.0</td>\n      <td>109.0</td>\n      <td>...</td>\n      <td>55.0</td>\n      <td>54.0</td>\n      <td>53.0</td>\n      <td>54.0</td>\n      <td>65.0</td>\n      <td>66.0</td>\n      <td>71.0</td>\n      <td>71.0</td>\n      <td>76.0</td>\n      <td>77.0</td>\n    </tr>\n    <tr>\n      <th>...</th>\n      <td>...</td>\n      <td>...</td>\n      <td>...</td>\n      <td>...</td>\n      <td>...</td>\n      <td>...</td>\n      <td>...</td>\n      <td>...</td>\n      <td>...</td>\n      <td>...</td>\n      <td>...</td>\n      <td>...</td>\n      <td>...</td>\n      <td>...</td>\n      <td>...</td>\n      <td>...</td>\n      <td>...</td>\n      <td>...</td>\n      <td>...</td>\n      <td>...</td>\n      <td>...</td>\n    </tr>\n    <tr>\n      <th>131</th>\n      <td>2512</td>\n      <td>28168</td>\n      <td>NaN</td>\n      <td>Celina</td>\n      <td>City</td>\n      <td>TX</td>\n      <td>NaN</td>\n      <td>NaN</td>\n      <td>NaN</td>\n      <td>NaN</td>\n      <td>...</td>\n      <td>151.0</td>\n      <td>98.0</td>\n      <td>139.0</td>\n      <td>120.5</td>\n      <td>142.0</td>\n      <td>176.0</td>\n      <td>164.0</td>\n      <td>165.5</td>\n      <td>111.0</td>\n      <td>119.5</td>\n    </tr>\n    <tr>\n      <th>132</th>\n      <td>2601</td>\n      <td>29386</td>\n      <td>NaN</td>\n      <td>Woodway</td>\n      <td>City</td>\n      <td>TX</td>\n      <td>NaN</td>\n      <td>NaN</td>\n      <td>NaN</td>\n      <td>NaN</td>\n      <td>...</td>\n      <td>59.0</td>\n      <td>50.0</td>\n      <td>65.0</td>\n      <td>75.0</td>\n      <td>93.0</td>\n      <td>59.0</td>\n      <td>54.0</td>\n      <td>73.5</td>\n      <td>93.5</td>\n      <td>91.5</td>\n    </tr>\n    <tr>\n      <th>133</th>\n      <td>2618</td>\n      <td>24253</td>\n      <td>NaN</td>\n      <td>Crandall</td>\n      <td>City</td>\n      <td>TX</td>\n      <td>NaN</td>\n      <td>NaN</td>\n      <td>NaN</td>\n      <td>NaN</td>\n      <td>...</td>\n      <td>54.0</td>\n      <td>76.0</td>\n      <td>75.0</td>\n      <td>67.0</td>\n      <td>92.0</td>\n      <td>84.0</td>\n      <td>103.0</td>\n      <td>121.0</td>\n      <td>118.0</td>\n      <td>157.0</td>\n    </tr>\n    <tr>\n      <th>134</th>\n      <td>2636</td>\n      <td>35401</td>\n      <td>NaN</td>\n      <td>Fulshear</td>\n      <td>City</td>\n      <td>TX</td>\n      <td>NaN</td>\n      <td>NaN</td>\n      <td>NaN</td>\n      <td>NaN</td>\n      <td>...</td>\n      <td>183.0</td>\n      <td>143.5</td>\n      <td>110.0</td>\n      <td>132.0</td>\n      <td>132.0</td>\n      <td>133.0</td>\n      <td>154.0</td>\n      <td>124.0</td>\n      <td>150.5</td>\n      <td>166.0</td>\n    </tr>\n    <tr>\n      <th>135</th>\n      <td>2676</td>\n      <td>12103</td>\n      <td>NaN</td>\n      <td>Jarrell</td>\n      <td>City</td>\n      <td>TX</td>\n      <td>NaN</td>\n      <td>NaN</td>\n      <td>NaN</td>\n      <td>NaN</td>\n      <td>...</td>\n      <td>62.0</td>\n      <td>79.5</td>\n      <td>72.0</td>\n      <td>83.5</td>\n      <td>83.0</td>\n      <td>98.0</td>\n      <td>64.5</td>\n      <td>80.0</td>\n      <td>80.0</td>\n      <td>98.0</td>\n    </tr>\n  </tbody>\n</table>\n<p>136 rows × 128 columns</p>\n</div>"
     },
     "metadata": {},
     "execution_count": 12
    }
   ],
   "source": [
    "# Load data\n",
    "avg_market_data = pd.read_csv(\"../raw_data/Avg_day_on_mkt.csv\")\n",
    "avg_market_df = pd.DataFrame(avg_market_data)\n",
    "avg_market_df"
   ]
  },
  {
   "cell_type": "code",
   "execution_count": 13,
   "metadata": {},
   "outputs": [
    {
     "output_type": "execute_result",
     "data": {
      "text/plain": [
       "     Identifier  2010-01  2010-02  2010-03  2010-04  2010-05  2010-06  \\\n",
       "0             2    133.0    137.0    134.0    112.0     92.5     98.0   \n",
       "1             4    101.0    110.0    121.0    110.0    104.0    104.0   \n",
       "2             9    136.0    136.0    132.0    118.0    104.0    102.0   \n",
       "3            10    111.0    111.5    108.0     86.0     81.0     91.0   \n",
       "4            15    122.0    122.0    117.0    109.0    107.0     95.0   \n",
       "..          ...      ...      ...      ...      ...      ...      ...   \n",
       "131        2512      NaN      NaN      NaN      NaN      NaN      NaN   \n",
       "132        2601      NaN      NaN      NaN      NaN      NaN      NaN   \n",
       "133        2618      NaN      NaN      NaN      NaN      NaN      NaN   \n",
       "134        2636      NaN      NaN      NaN      NaN      NaN      NaN   \n",
       "135        2676      NaN      NaN      NaN      NaN      NaN      NaN   \n",
       "\n",
       "     2010-07  2010-08  2010-09  ...  2019-05  2019-06  2019-07  2019-08  \\\n",
       "0       97.0     99.0    106.0  ...     71.0     70.0     67.0     71.0   \n",
       "1       99.0     99.0    104.0  ...     61.0     61.0     60.0     62.0   \n",
       "2      104.5    102.0    104.0  ...     65.0     65.0     68.0     71.0   \n",
       "3       88.0     99.0     98.0  ...     47.0     49.0     48.0     53.0   \n",
       "4      103.0     97.0    102.0  ...     55.0     54.0     53.0     54.0   \n",
       "..       ...      ...      ...  ...      ...      ...      ...      ...   \n",
       "131      NaN      NaN      NaN  ...    151.0     98.0    139.0    120.5   \n",
       "132      NaN      NaN      NaN  ...     59.0     50.0     65.0     75.0   \n",
       "133      NaN      NaN      NaN  ...     54.0     76.0     75.0     67.0   \n",
       "134      NaN      NaN      NaN  ...    183.0    143.5    110.0    132.0   \n",
       "135      NaN      NaN      NaN  ...     62.0     79.5     72.0     83.5   \n",
       "\n",
       "     2019-09  2019-10  2019-11  2019-12  2020-01  2020-02  \n",
       "0       81.0     86.0     92.0     94.0    104.0     99.0  \n",
       "1       70.0     76.0     79.0     84.0     92.0     91.0  \n",
       "2       76.0     84.0     75.0     91.5     96.0     97.0  \n",
       "3       54.0     60.0     57.0     64.0     71.0     52.0  \n",
       "4       65.0     66.0     71.0     71.0     76.0     77.0  \n",
       "..       ...      ...      ...      ...      ...      ...  \n",
       "131    142.0    176.0    164.0    165.5    111.0    119.5  \n",
       "132     93.0     59.0     54.0     73.5     93.5     91.5  \n",
       "133     92.0     84.0    103.0    121.0    118.0    157.0  \n",
       "134    132.0    133.0    154.0    124.0    150.5    166.0  \n",
       "135     83.0     98.0     64.5     80.0     80.0     98.0  \n",
       "\n",
       "[136 rows x 123 columns]"
      ],
      "text/html": "<div>\n<style scoped>\n    .dataframe tbody tr th:only-of-type {\n        vertical-align: middle;\n    }\n\n    .dataframe tbody tr th {\n        vertical-align: top;\n    }\n\n    .dataframe thead th {\n        text-align: right;\n    }\n</style>\n<table border=\"1\" class=\"dataframe\">\n  <thead>\n    <tr style=\"text-align: right;\">\n      <th></th>\n      <th>Identifier</th>\n      <th>2010-01</th>\n      <th>2010-02</th>\n      <th>2010-03</th>\n      <th>2010-04</th>\n      <th>2010-05</th>\n      <th>2010-06</th>\n      <th>2010-07</th>\n      <th>2010-08</th>\n      <th>2010-09</th>\n      <th>...</th>\n      <th>2019-05</th>\n      <th>2019-06</th>\n      <th>2019-07</th>\n      <th>2019-08</th>\n      <th>2019-09</th>\n      <th>2019-10</th>\n      <th>2019-11</th>\n      <th>2019-12</th>\n      <th>2020-01</th>\n      <th>2020-02</th>\n    </tr>\n  </thead>\n  <tbody>\n    <tr>\n      <th>0</th>\n      <td>2</td>\n      <td>133.0</td>\n      <td>137.0</td>\n      <td>134.0</td>\n      <td>112.0</td>\n      <td>92.5</td>\n      <td>98.0</td>\n      <td>97.0</td>\n      <td>99.0</td>\n      <td>106.0</td>\n      <td>...</td>\n      <td>71.0</td>\n      <td>70.0</td>\n      <td>67.0</td>\n      <td>71.0</td>\n      <td>81.0</td>\n      <td>86.0</td>\n      <td>92.0</td>\n      <td>94.0</td>\n      <td>104.0</td>\n      <td>99.0</td>\n    </tr>\n    <tr>\n      <th>1</th>\n      <td>4</td>\n      <td>101.0</td>\n      <td>110.0</td>\n      <td>121.0</td>\n      <td>110.0</td>\n      <td>104.0</td>\n      <td>104.0</td>\n      <td>99.0</td>\n      <td>99.0</td>\n      <td>104.0</td>\n      <td>...</td>\n      <td>61.0</td>\n      <td>61.0</td>\n      <td>60.0</td>\n      <td>62.0</td>\n      <td>70.0</td>\n      <td>76.0</td>\n      <td>79.0</td>\n      <td>84.0</td>\n      <td>92.0</td>\n      <td>91.0</td>\n    </tr>\n    <tr>\n      <th>2</th>\n      <td>9</td>\n      <td>136.0</td>\n      <td>136.0</td>\n      <td>132.0</td>\n      <td>118.0</td>\n      <td>104.0</td>\n      <td>102.0</td>\n      <td>104.5</td>\n      <td>102.0</td>\n      <td>104.0</td>\n      <td>...</td>\n      <td>65.0</td>\n      <td>65.0</td>\n      <td>68.0</td>\n      <td>71.0</td>\n      <td>76.0</td>\n      <td>84.0</td>\n      <td>75.0</td>\n      <td>91.5</td>\n      <td>96.0</td>\n      <td>97.0</td>\n    </tr>\n    <tr>\n      <th>3</th>\n      <td>10</td>\n      <td>111.0</td>\n      <td>111.5</td>\n      <td>108.0</td>\n      <td>86.0</td>\n      <td>81.0</td>\n      <td>91.0</td>\n      <td>88.0</td>\n      <td>99.0</td>\n      <td>98.0</td>\n      <td>...</td>\n      <td>47.0</td>\n      <td>49.0</td>\n      <td>48.0</td>\n      <td>53.0</td>\n      <td>54.0</td>\n      <td>60.0</td>\n      <td>57.0</td>\n      <td>64.0</td>\n      <td>71.0</td>\n      <td>52.0</td>\n    </tr>\n    <tr>\n      <th>4</th>\n      <td>15</td>\n      <td>122.0</td>\n      <td>122.0</td>\n      <td>117.0</td>\n      <td>109.0</td>\n      <td>107.0</td>\n      <td>95.0</td>\n      <td>103.0</td>\n      <td>97.0</td>\n      <td>102.0</td>\n      <td>...</td>\n      <td>55.0</td>\n      <td>54.0</td>\n      <td>53.0</td>\n      <td>54.0</td>\n      <td>65.0</td>\n      <td>66.0</td>\n      <td>71.0</td>\n      <td>71.0</td>\n      <td>76.0</td>\n      <td>77.0</td>\n    </tr>\n    <tr>\n      <th>...</th>\n      <td>...</td>\n      <td>...</td>\n      <td>...</td>\n      <td>...</td>\n      <td>...</td>\n      <td>...</td>\n      <td>...</td>\n      <td>...</td>\n      <td>...</td>\n      <td>...</td>\n      <td>...</td>\n      <td>...</td>\n      <td>...</td>\n      <td>...</td>\n      <td>...</td>\n      <td>...</td>\n      <td>...</td>\n      <td>...</td>\n      <td>...</td>\n      <td>...</td>\n      <td>...</td>\n    </tr>\n    <tr>\n      <th>131</th>\n      <td>2512</td>\n      <td>NaN</td>\n      <td>NaN</td>\n      <td>NaN</td>\n      <td>NaN</td>\n      <td>NaN</td>\n      <td>NaN</td>\n      <td>NaN</td>\n      <td>NaN</td>\n      <td>NaN</td>\n      <td>...</td>\n      <td>151.0</td>\n      <td>98.0</td>\n      <td>139.0</td>\n      <td>120.5</td>\n      <td>142.0</td>\n      <td>176.0</td>\n      <td>164.0</td>\n      <td>165.5</td>\n      <td>111.0</td>\n      <td>119.5</td>\n    </tr>\n    <tr>\n      <th>132</th>\n      <td>2601</td>\n      <td>NaN</td>\n      <td>NaN</td>\n      <td>NaN</td>\n      <td>NaN</td>\n      <td>NaN</td>\n      <td>NaN</td>\n      <td>NaN</td>\n      <td>NaN</td>\n      <td>NaN</td>\n      <td>...</td>\n      <td>59.0</td>\n      <td>50.0</td>\n      <td>65.0</td>\n      <td>75.0</td>\n      <td>93.0</td>\n      <td>59.0</td>\n      <td>54.0</td>\n      <td>73.5</td>\n      <td>93.5</td>\n      <td>91.5</td>\n    </tr>\n    <tr>\n      <th>133</th>\n      <td>2618</td>\n      <td>NaN</td>\n      <td>NaN</td>\n      <td>NaN</td>\n      <td>NaN</td>\n      <td>NaN</td>\n      <td>NaN</td>\n      <td>NaN</td>\n      <td>NaN</td>\n      <td>NaN</td>\n      <td>...</td>\n      <td>54.0</td>\n      <td>76.0</td>\n      <td>75.0</td>\n      <td>67.0</td>\n      <td>92.0</td>\n      <td>84.0</td>\n      <td>103.0</td>\n      <td>121.0</td>\n      <td>118.0</td>\n      <td>157.0</td>\n    </tr>\n    <tr>\n      <th>134</th>\n      <td>2636</td>\n      <td>NaN</td>\n      <td>NaN</td>\n      <td>NaN</td>\n      <td>NaN</td>\n      <td>NaN</td>\n      <td>NaN</td>\n      <td>NaN</td>\n      <td>NaN</td>\n      <td>NaN</td>\n      <td>...</td>\n      <td>183.0</td>\n      <td>143.5</td>\n      <td>110.0</td>\n      <td>132.0</td>\n      <td>132.0</td>\n      <td>133.0</td>\n      <td>154.0</td>\n      <td>124.0</td>\n      <td>150.5</td>\n      <td>166.0</td>\n    </tr>\n    <tr>\n      <th>135</th>\n      <td>2676</td>\n      <td>NaN</td>\n      <td>NaN</td>\n      <td>NaN</td>\n      <td>NaN</td>\n      <td>NaN</td>\n      <td>NaN</td>\n      <td>NaN</td>\n      <td>NaN</td>\n      <td>NaN</td>\n      <td>...</td>\n      <td>62.0</td>\n      <td>79.5</td>\n      <td>72.0</td>\n      <td>83.5</td>\n      <td>83.0</td>\n      <td>98.0</td>\n      <td>64.5</td>\n      <td>80.0</td>\n      <td>80.0</td>\n      <td>98.0</td>\n    </tr>\n  </tbody>\n</table>\n<p>136 rows × 123 columns</p>\n</div>"
     },
     "metadata": {},
     "execution_count": 13
    }
   ],
   "source": [
    "avg_market_df.drop(columns=['RegionID', 'Unnamed: 2', 'RegionName', 'RegionType', 'StateName'], inplace=True)\n",
    "avg_market_df"
   ]
  },
  {
   "cell_type": "code",
   "execution_count": 14,
   "metadata": {},
   "outputs": [
    {
     "output_type": "execute_result",
     "data": {
      "text/plain": [
       "   Identifier     Date  Average_Market_Days\n",
       "0           2  2010-01                133.0\n",
       "1           4  2010-01                101.0\n",
       "2           9  2010-01                136.0\n",
       "3          10  2010-01                111.0\n",
       "4          15  2010-01                122.0"
      ],
      "text/html": "<div>\n<style scoped>\n    .dataframe tbody tr th:only-of-type {\n        vertical-align: middle;\n    }\n\n    .dataframe tbody tr th {\n        vertical-align: top;\n    }\n\n    .dataframe thead th {\n        text-align: right;\n    }\n</style>\n<table border=\"1\" class=\"dataframe\">\n  <thead>\n    <tr style=\"text-align: right;\">\n      <th></th>\n      <th>Identifier</th>\n      <th>Date</th>\n      <th>Average_Market_Days</th>\n    </tr>\n  </thead>\n  <tbody>\n    <tr>\n      <th>0</th>\n      <td>2</td>\n      <td>2010-01</td>\n      <td>133.0</td>\n    </tr>\n    <tr>\n      <th>1</th>\n      <td>4</td>\n      <td>2010-01</td>\n      <td>101.0</td>\n    </tr>\n    <tr>\n      <th>2</th>\n      <td>9</td>\n      <td>2010-01</td>\n      <td>136.0</td>\n    </tr>\n    <tr>\n      <th>3</th>\n      <td>10</td>\n      <td>2010-01</td>\n      <td>111.0</td>\n    </tr>\n    <tr>\n      <th>4</th>\n      <td>15</td>\n      <td>2010-01</td>\n      <td>122.0</td>\n    </tr>\n  </tbody>\n</table>\n</div>"
     },
     "metadata": {},
     "execution_count": 14
    }
   ],
   "source": [
    "avg_market_df= avg_market_df.melt(id_vars=[\"Identifier\"], \n",
    "        var_name=\"Date\", \n",
    "        value_name=\"Average_Market_Days\")\n",
    "avg_market_df.head()"
   ]
  },
  {
   "cell_type": "code",
   "execution_count": 15,
   "metadata": {},
   "outputs": [],
   "source": [
    "avg_market_df.reset_index(drop=True, inplace=True)\n",
    "avg_market_df.set_index('Date', inplace=True)"
   ]
  },
  {
   "cell_type": "code",
   "execution_count": 16,
   "metadata": {},
   "outputs": [
    {
     "output_type": "execute_result",
     "data": {
      "text/plain": [
       "         Identifier  Average_Market_Days\n",
       "Date                                    \n",
       "2010-01           2                133.0\n",
       "2010-01           4                101.0\n",
       "2010-01           9                136.0\n",
       "2010-01          10                111.0\n",
       "2010-01          15                122.0\n",
       "...             ...                  ...\n",
       "2020-02        2512                119.5\n",
       "2020-02        2601                 91.5\n",
       "2020-02        2618                157.0\n",
       "2020-02        2636                166.0\n",
       "2020-02        2676                 98.0\n",
       "\n",
       "[16592 rows x 2 columns]"
      ],
      "text/html": "<div>\n<style scoped>\n    .dataframe tbody tr th:only-of-type {\n        vertical-align: middle;\n    }\n\n    .dataframe tbody tr th {\n        vertical-align: top;\n    }\n\n    .dataframe thead th {\n        text-align: right;\n    }\n</style>\n<table border=\"1\" class=\"dataframe\">\n  <thead>\n    <tr style=\"text-align: right;\">\n      <th></th>\n      <th>Identifier</th>\n      <th>Average_Market_Days</th>\n    </tr>\n    <tr>\n      <th>Date</th>\n      <th></th>\n      <th></th>\n    </tr>\n  </thead>\n  <tbody>\n    <tr>\n      <th>2010-01</th>\n      <td>2</td>\n      <td>133.0</td>\n    </tr>\n    <tr>\n      <th>2010-01</th>\n      <td>4</td>\n      <td>101.0</td>\n    </tr>\n    <tr>\n      <th>2010-01</th>\n      <td>9</td>\n      <td>136.0</td>\n    </tr>\n    <tr>\n      <th>2010-01</th>\n      <td>10</td>\n      <td>111.0</td>\n    </tr>\n    <tr>\n      <th>2010-01</th>\n      <td>15</td>\n      <td>122.0</td>\n    </tr>\n    <tr>\n      <th>...</th>\n      <td>...</td>\n      <td>...</td>\n    </tr>\n    <tr>\n      <th>2020-02</th>\n      <td>2512</td>\n      <td>119.5</td>\n    </tr>\n    <tr>\n      <th>2020-02</th>\n      <td>2601</td>\n      <td>91.5</td>\n    </tr>\n    <tr>\n      <th>2020-02</th>\n      <td>2618</td>\n      <td>157.0</td>\n    </tr>\n    <tr>\n      <th>2020-02</th>\n      <td>2636</td>\n      <td>166.0</td>\n    </tr>\n    <tr>\n      <th>2020-02</th>\n      <td>2676</td>\n      <td>98.0</td>\n    </tr>\n  </tbody>\n</table>\n<p>16592 rows × 2 columns</p>\n</div>"
     },
     "metadata": {},
     "execution_count": 16
    }
   ],
   "source": [
    "avg_market_df"
   ]
  },
  {
   "cell_type": "code",
   "execution_count": 17,
   "metadata": {},
   "outputs": [
    {
     "output_type": "execute_result",
     "data": {
      "text/plain": [
       "dtype('O')"
      ]
     },
     "metadata": {},
     "execution_count": 17
    }
   ],
   "source": [
    "housing_df.index.dtype"
   ]
  },
  {
   "cell_type": "code",
   "execution_count": 18,
   "metadata": {},
   "outputs": [
    {
     "output_type": "stream",
     "name": "stdout",
     "text": [
      "<class 'pandas.core.frame.DataFrame'>\nIndex: 16592 entries, 2010-01 to 2020-02\nData columns (total 2 columns):\n #   Column               Non-Null Count  Dtype  \n---  ------               --------------  -----  \n 0   Identifier           16592 non-null  int64  \n 1   Average_Market_Days  9046 non-null   float64\ndtypes: float64(1), int64(1)\nmemory usage: 388.9+ KB\n"
     ]
    }
   ],
   "source": [
    "avg_market_df.info()"
   ]
  },
  {
   "cell_type": "code",
   "execution_count": 19,
   "metadata": {},
   "outputs": [
    {
     "output_type": "execute_result",
     "data": {
      "text/plain": [
       "            Identifier  Bedroom            RegionName State  \\\n",
       "Date                                                          \n",
       "2010-01-31           2        1               Houston    TX   \n",
       "2010-01-31           4        1           San Antonio    TX   \n",
       "2010-01-31           9        1                Dallas    TX   \n",
       "2010-01-31          10        1                Austin    TX   \n",
       "2010-01-31          16        1            Fort Worth    TX   \n",
       "...                ...      ...                   ...   ...   \n",
       "2020-03-31       18708        5         Ransom Canyon    TX   \n",
       "2020-03-31       18722        5         Jamaica Beach    TX   \n",
       "2020-03-31       18723        5  Ingleside on the Bay    TX   \n",
       "2020-03-31       18726        5        Surfside Beach    TX   \n",
       "2020-03-31       18750        5            Fairchilds    TX   \n",
       "\n",
       "                                       Metro           CountyName     Price  \n",
       "Date                                                                         \n",
       "2010-01-31  Houston-The Woodlands-Sugar Land        Harris County   67653.0  \n",
       "2010-01-31         San Antonio-New Braunfels         Bexar County   61988.0  \n",
       "2010-01-31       Dallas-Fort Worth-Arlington        Dallas County   70689.0  \n",
       "2010-01-31                 Austin-Round Rock        Travis County  160583.0  \n",
       "2010-01-31       Dallas-Fort Worth-Arlington       Tarrant County  104317.0  \n",
       "...                                      ...                  ...       ...  \n",
       "2020-03-31                           Lubbock       Lubbock County  420871.0  \n",
       "2020-03-31  Houston-The Woodlands-Sugar Land     Galveston County  649370.0  \n",
       "2020-03-31                    Corpus Christi  San Patricio County  268114.0  \n",
       "2020-03-31  Houston-The Woodlands-Sugar Land      Brazoria County  482405.0  \n",
       "2020-03-31  Houston-The Woodlands-Sugar Land     Fort Bend County  384703.0  \n",
       "\n",
       "[480192 rows x 7 columns]"
      ],
      "text/html": "<div>\n<style scoped>\n    .dataframe tbody tr th:only-of-type {\n        vertical-align: middle;\n    }\n\n    .dataframe tbody tr th {\n        vertical-align: top;\n    }\n\n    .dataframe thead th {\n        text-align: right;\n    }\n</style>\n<table border=\"1\" class=\"dataframe\">\n  <thead>\n    <tr style=\"text-align: right;\">\n      <th></th>\n      <th>Identifier</th>\n      <th>Bedroom</th>\n      <th>RegionName</th>\n      <th>State</th>\n      <th>Metro</th>\n      <th>CountyName</th>\n      <th>Price</th>\n    </tr>\n    <tr>\n      <th>Date</th>\n      <th></th>\n      <th></th>\n      <th></th>\n      <th></th>\n      <th></th>\n      <th></th>\n      <th></th>\n    </tr>\n  </thead>\n  <tbody>\n    <tr>\n      <th>2010-01-31</th>\n      <td>2</td>\n      <td>1</td>\n      <td>Houston</td>\n      <td>TX</td>\n      <td>Houston-The Woodlands-Sugar Land</td>\n      <td>Harris County</td>\n      <td>67653.0</td>\n    </tr>\n    <tr>\n      <th>2010-01-31</th>\n      <td>4</td>\n      <td>1</td>\n      <td>San Antonio</td>\n      <td>TX</td>\n      <td>San Antonio-New Braunfels</td>\n      <td>Bexar County</td>\n      <td>61988.0</td>\n    </tr>\n    <tr>\n      <th>2010-01-31</th>\n      <td>9</td>\n      <td>1</td>\n      <td>Dallas</td>\n      <td>TX</td>\n      <td>Dallas-Fort Worth-Arlington</td>\n      <td>Dallas County</td>\n      <td>70689.0</td>\n    </tr>\n    <tr>\n      <th>2010-01-31</th>\n      <td>10</td>\n      <td>1</td>\n      <td>Austin</td>\n      <td>TX</td>\n      <td>Austin-Round Rock</td>\n      <td>Travis County</td>\n      <td>160583.0</td>\n    </tr>\n    <tr>\n      <th>2010-01-31</th>\n      <td>16</td>\n      <td>1</td>\n      <td>Fort Worth</td>\n      <td>TX</td>\n      <td>Dallas-Fort Worth-Arlington</td>\n      <td>Tarrant County</td>\n      <td>104317.0</td>\n    </tr>\n    <tr>\n      <th>...</th>\n      <td>...</td>\n      <td>...</td>\n      <td>...</td>\n      <td>...</td>\n      <td>...</td>\n      <td>...</td>\n      <td>...</td>\n    </tr>\n    <tr>\n      <th>2020-03-31</th>\n      <td>18708</td>\n      <td>5</td>\n      <td>Ransom Canyon</td>\n      <td>TX</td>\n      <td>Lubbock</td>\n      <td>Lubbock County</td>\n      <td>420871.0</td>\n    </tr>\n    <tr>\n      <th>2020-03-31</th>\n      <td>18722</td>\n      <td>5</td>\n      <td>Jamaica Beach</td>\n      <td>TX</td>\n      <td>Houston-The Woodlands-Sugar Land</td>\n      <td>Galveston County</td>\n      <td>649370.0</td>\n    </tr>\n    <tr>\n      <th>2020-03-31</th>\n      <td>18723</td>\n      <td>5</td>\n      <td>Ingleside on the Bay</td>\n      <td>TX</td>\n      <td>Corpus Christi</td>\n      <td>San Patricio County</td>\n      <td>268114.0</td>\n    </tr>\n    <tr>\n      <th>2020-03-31</th>\n      <td>18726</td>\n      <td>5</td>\n      <td>Surfside Beach</td>\n      <td>TX</td>\n      <td>Houston-The Woodlands-Sugar Land</td>\n      <td>Brazoria County</td>\n      <td>482405.0</td>\n    </tr>\n    <tr>\n      <th>2020-03-31</th>\n      <td>18750</td>\n      <td>5</td>\n      <td>Fairchilds</td>\n      <td>TX</td>\n      <td>Houston-The Woodlands-Sugar Land</td>\n      <td>Fort Bend County</td>\n      <td>384703.0</td>\n    </tr>\n  </tbody>\n</table>\n<p>480192 rows × 7 columns</p>\n</div>"
     },
     "metadata": {},
     "execution_count": 19
    }
   ],
   "source": [
    "housing_df.index = pd.to_datetime(housing_df.index)\n",
    "housing_df"
   ]
  },
  {
   "cell_type": "code",
   "execution_count": 20,
   "metadata": {},
   "outputs": [
    {
     "output_type": "execute_result",
     "data": {
      "text/plain": [
       "            Identifier  Average_Market_Days\n",
       "Date                                       \n",
       "2010-01-31           2                133.0\n",
       "2010-01-31           4                101.0\n",
       "2010-01-31           9                136.0\n",
       "2010-01-31          10                111.0\n",
       "2010-01-31          15                122.0\n",
       "...                ...                  ...\n",
       "2020-02-29        2512                119.5\n",
       "2020-02-29        2601                 91.5\n",
       "2020-02-29        2618                157.0\n",
       "2020-02-29        2636                166.0\n",
       "2020-02-29        2676                 98.0\n",
       "\n",
       "[16592 rows x 2 columns]"
      ],
      "text/html": "<div>\n<style scoped>\n    .dataframe tbody tr th:only-of-type {\n        vertical-align: middle;\n    }\n\n    .dataframe tbody tr th {\n        vertical-align: top;\n    }\n\n    .dataframe thead th {\n        text-align: right;\n    }\n</style>\n<table border=\"1\" class=\"dataframe\">\n  <thead>\n    <tr style=\"text-align: right;\">\n      <th></th>\n      <th>Identifier</th>\n      <th>Average_Market_Days</th>\n    </tr>\n    <tr>\n      <th>Date</th>\n      <th></th>\n      <th></th>\n    </tr>\n  </thead>\n  <tbody>\n    <tr>\n      <th>2010-01-31</th>\n      <td>2</td>\n      <td>133.0</td>\n    </tr>\n    <tr>\n      <th>2010-01-31</th>\n      <td>4</td>\n      <td>101.0</td>\n    </tr>\n    <tr>\n      <th>2010-01-31</th>\n      <td>9</td>\n      <td>136.0</td>\n    </tr>\n    <tr>\n      <th>2010-01-31</th>\n      <td>10</td>\n      <td>111.0</td>\n    </tr>\n    <tr>\n      <th>2010-01-31</th>\n      <td>15</td>\n      <td>122.0</td>\n    </tr>\n    <tr>\n      <th>...</th>\n      <td>...</td>\n      <td>...</td>\n    </tr>\n    <tr>\n      <th>2020-02-29</th>\n      <td>2512</td>\n      <td>119.5</td>\n    </tr>\n    <tr>\n      <th>2020-02-29</th>\n      <td>2601</td>\n      <td>91.5</td>\n    </tr>\n    <tr>\n      <th>2020-02-29</th>\n      <td>2618</td>\n      <td>157.0</td>\n    </tr>\n    <tr>\n      <th>2020-02-29</th>\n      <td>2636</td>\n      <td>166.0</td>\n    </tr>\n    <tr>\n      <th>2020-02-29</th>\n      <td>2676</td>\n      <td>98.0</td>\n    </tr>\n  </tbody>\n</table>\n<p>16592 rows × 2 columns</p>\n</div>"
     },
     "metadata": {},
     "execution_count": 20
    }
   ],
   "source": [
    "avg_market_df.index = pd.to_datetime(avg_market_df.index)\n",
    "avg_market_df.index = avg_market_df.index + pd.offsets.MonthEnd(0) \n",
    "avg_market_df"
   ]
  },
  {
   "cell_type": "code",
   "execution_count": 21,
   "metadata": {},
   "outputs": [
    {
     "output_type": "execute_result",
     "data": {
      "text/plain": [
       "            Identifier  Bedroom   RegionName State  \\\n",
       "Date                                                 \n",
       "2010-01-31           2        1      Houston    TX   \n",
       "2010-01-31           2        2      Houston    TX   \n",
       "2010-01-31           2        3      Houston    TX   \n",
       "2010-01-31           2        4      Houston    TX   \n",
       "2010-01-31           2        5      Houston    TX   \n",
       "...                ...      ...          ...   ...   \n",
       "2020-02-29        1431        4  Duncanville    TX   \n",
       "2020-02-29        2307        4    Brownwood    TX   \n",
       "2020-02-29        1241        5  Haltom City    TX   \n",
       "2020-02-29        1800        5      Socorro    TX   \n",
       "2020-02-29        2601        5   Royse City    TX   \n",
       "\n",
       "                                       Metro       CountyName     Price  \\\n",
       "Date                                                                      \n",
       "2010-01-31  Houston-The Woodlands-Sugar Land    Harris County   67653.0   \n",
       "2010-01-31  Houston-The Woodlands-Sugar Land    Harris County   89995.0   \n",
       "2010-01-31  Houston-The Woodlands-Sugar Land    Harris County  116641.0   \n",
       "2010-01-31  Houston-The Woodlands-Sugar Land    Harris County  167849.0   \n",
       "2010-01-31  Houston-The Woodlands-Sugar Land    Harris County  303323.0   \n",
       "...                                      ...              ...       ...   \n",
       "2020-02-29       Dallas-Fort Worth-Arlington    Dallas County  240716.0   \n",
       "2020-02-29                         Brownwood     Brown County  230132.0   \n",
       "2020-02-29       Dallas-Fort Worth-Arlington   Tarrant County  281139.0   \n",
       "2020-02-29                           El Paso   El Paso County  141688.0   \n",
       "2020-02-29       Dallas-Fort Worth-Arlington  Rockwall County  264290.0   \n",
       "\n",
       "            Average_Market_Days  \n",
       "Date                             \n",
       "2010-01-31                133.0  \n",
       "2010-01-31                133.0  \n",
       "2010-01-31                133.0  \n",
       "2010-01-31                133.0  \n",
       "2010-01-31                133.0  \n",
       "...                         ...  \n",
       "2020-02-29                 57.0  \n",
       "2020-02-29                110.0  \n",
       "2020-02-29                 72.0  \n",
       "2020-02-29                123.0  \n",
       "2020-02-29                 91.5  \n",
       "\n",
       "[7808 rows x 8 columns]"
      ],
      "text/html": "<div>\n<style scoped>\n    .dataframe tbody tr th:only-of-type {\n        vertical-align: middle;\n    }\n\n    .dataframe tbody tr th {\n        vertical-align: top;\n    }\n\n    .dataframe thead th {\n        text-align: right;\n    }\n</style>\n<table border=\"1\" class=\"dataframe\">\n  <thead>\n    <tr style=\"text-align: right;\">\n      <th></th>\n      <th>Identifier</th>\n      <th>Bedroom</th>\n      <th>RegionName</th>\n      <th>State</th>\n      <th>Metro</th>\n      <th>CountyName</th>\n      <th>Price</th>\n      <th>Average_Market_Days</th>\n    </tr>\n    <tr>\n      <th>Date</th>\n      <th></th>\n      <th></th>\n      <th></th>\n      <th></th>\n      <th></th>\n      <th></th>\n      <th></th>\n      <th></th>\n    </tr>\n  </thead>\n  <tbody>\n    <tr>\n      <th>2010-01-31</th>\n      <td>2</td>\n      <td>1</td>\n      <td>Houston</td>\n      <td>TX</td>\n      <td>Houston-The Woodlands-Sugar Land</td>\n      <td>Harris County</td>\n      <td>67653.0</td>\n      <td>133.0</td>\n    </tr>\n    <tr>\n      <th>2010-01-31</th>\n      <td>2</td>\n      <td>2</td>\n      <td>Houston</td>\n      <td>TX</td>\n      <td>Houston-The Woodlands-Sugar Land</td>\n      <td>Harris County</td>\n      <td>89995.0</td>\n      <td>133.0</td>\n    </tr>\n    <tr>\n      <th>2010-01-31</th>\n      <td>2</td>\n      <td>3</td>\n      <td>Houston</td>\n      <td>TX</td>\n      <td>Houston-The Woodlands-Sugar Land</td>\n      <td>Harris County</td>\n      <td>116641.0</td>\n      <td>133.0</td>\n    </tr>\n    <tr>\n      <th>2010-01-31</th>\n      <td>2</td>\n      <td>4</td>\n      <td>Houston</td>\n      <td>TX</td>\n      <td>Houston-The Woodlands-Sugar Land</td>\n      <td>Harris County</td>\n      <td>167849.0</td>\n      <td>133.0</td>\n    </tr>\n    <tr>\n      <th>2010-01-31</th>\n      <td>2</td>\n      <td>5</td>\n      <td>Houston</td>\n      <td>TX</td>\n      <td>Houston-The Woodlands-Sugar Land</td>\n      <td>Harris County</td>\n      <td>303323.0</td>\n      <td>133.0</td>\n    </tr>\n    <tr>\n      <th>...</th>\n      <td>...</td>\n      <td>...</td>\n      <td>...</td>\n      <td>...</td>\n      <td>...</td>\n      <td>...</td>\n      <td>...</td>\n      <td>...</td>\n    </tr>\n    <tr>\n      <th>2020-02-29</th>\n      <td>1431</td>\n      <td>4</td>\n      <td>Duncanville</td>\n      <td>TX</td>\n      <td>Dallas-Fort Worth-Arlington</td>\n      <td>Dallas County</td>\n      <td>240716.0</td>\n      <td>57.0</td>\n    </tr>\n    <tr>\n      <th>2020-02-29</th>\n      <td>2307</td>\n      <td>4</td>\n      <td>Brownwood</td>\n      <td>TX</td>\n      <td>Brownwood</td>\n      <td>Brown County</td>\n      <td>230132.0</td>\n      <td>110.0</td>\n    </tr>\n    <tr>\n      <th>2020-02-29</th>\n      <td>1241</td>\n      <td>5</td>\n      <td>Haltom City</td>\n      <td>TX</td>\n      <td>Dallas-Fort Worth-Arlington</td>\n      <td>Tarrant County</td>\n      <td>281139.0</td>\n      <td>72.0</td>\n    </tr>\n    <tr>\n      <th>2020-02-29</th>\n      <td>1800</td>\n      <td>5</td>\n      <td>Socorro</td>\n      <td>TX</td>\n      <td>El Paso</td>\n      <td>El Paso County</td>\n      <td>141688.0</td>\n      <td>123.0</td>\n    </tr>\n    <tr>\n      <th>2020-02-29</th>\n      <td>2601</td>\n      <td>5</td>\n      <td>Royse City</td>\n      <td>TX</td>\n      <td>Dallas-Fort Worth-Arlington</td>\n      <td>Rockwall County</td>\n      <td>264290.0</td>\n      <td>91.5</td>\n    </tr>\n  </tbody>\n</table>\n<p>7808 rows × 8 columns</p>\n</div>"
     },
     "metadata": {},
     "execution_count": 21
    }
   ],
   "source": [
    "housing_data_df = housing_df.merge(avg_market_df, right_on=['Date', 'Identifier'], left_on=['Date', 'Identifier'], )\n",
    "housing_data_df"
   ]
  },
  {
   "cell_type": "code",
   "execution_count": 22,
   "metadata": {},
   "outputs": [
    {
     "output_type": "execute_result",
     "data": {
      "text/plain": [
       "           Date  Identifier  Bedroom   RegionName State  \\\n",
       "0    2010-01-31           2        1      Houston    TX   \n",
       "1    2010-01-31           2        2      Houston    TX   \n",
       "2    2010-01-31           2        3      Houston    TX   \n",
       "3    2010-01-31           2        4      Houston    TX   \n",
       "4    2010-01-31           2        5      Houston    TX   \n",
       "...         ...         ...      ...          ...   ...   \n",
       "7803 2020-02-29        1431        4  Duncanville    TX   \n",
       "7804 2020-02-29        2307        4    Brownwood    TX   \n",
       "7805 2020-02-29        1241        5  Haltom City    TX   \n",
       "7806 2020-02-29        1800        5      Socorro    TX   \n",
       "7807 2020-02-29        2601        5   Royse City    TX   \n",
       "\n",
       "                                 Metro       CountyName     Price  \\\n",
       "0     Houston-The Woodlands-Sugar Land    Harris County   67653.0   \n",
       "1     Houston-The Woodlands-Sugar Land    Harris County   89995.0   \n",
       "2     Houston-The Woodlands-Sugar Land    Harris County  116641.0   \n",
       "3     Houston-The Woodlands-Sugar Land    Harris County  167849.0   \n",
       "4     Houston-The Woodlands-Sugar Land    Harris County  303323.0   \n",
       "...                                ...              ...       ...   \n",
       "7803       Dallas-Fort Worth-Arlington    Dallas County  240716.0   \n",
       "7804                         Brownwood     Brown County  230132.0   \n",
       "7805       Dallas-Fort Worth-Arlington   Tarrant County  281139.0   \n",
       "7806                           El Paso   El Paso County  141688.0   \n",
       "7807       Dallas-Fort Worth-Arlington  Rockwall County  264290.0   \n",
       "\n",
       "      Average_Market_Days  \n",
       "0                   133.0  \n",
       "1                   133.0  \n",
       "2                   133.0  \n",
       "3                   133.0  \n",
       "4                   133.0  \n",
       "...                   ...  \n",
       "7803                 57.0  \n",
       "7804                110.0  \n",
       "7805                 72.0  \n",
       "7806                123.0  \n",
       "7807                 91.5  \n",
       "\n",
       "[7808 rows x 9 columns]"
      ],
      "text/html": "<div>\n<style scoped>\n    .dataframe tbody tr th:only-of-type {\n        vertical-align: middle;\n    }\n\n    .dataframe tbody tr th {\n        vertical-align: top;\n    }\n\n    .dataframe thead th {\n        text-align: right;\n    }\n</style>\n<table border=\"1\" class=\"dataframe\">\n  <thead>\n    <tr style=\"text-align: right;\">\n      <th></th>\n      <th>Date</th>\n      <th>Identifier</th>\n      <th>Bedroom</th>\n      <th>RegionName</th>\n      <th>State</th>\n      <th>Metro</th>\n      <th>CountyName</th>\n      <th>Price</th>\n      <th>Average_Market_Days</th>\n    </tr>\n  </thead>\n  <tbody>\n    <tr>\n      <th>0</th>\n      <td>2010-01-31</td>\n      <td>2</td>\n      <td>1</td>\n      <td>Houston</td>\n      <td>TX</td>\n      <td>Houston-The Woodlands-Sugar Land</td>\n      <td>Harris County</td>\n      <td>67653.0</td>\n      <td>133.0</td>\n    </tr>\n    <tr>\n      <th>1</th>\n      <td>2010-01-31</td>\n      <td>2</td>\n      <td>2</td>\n      <td>Houston</td>\n      <td>TX</td>\n      <td>Houston-The Woodlands-Sugar Land</td>\n      <td>Harris County</td>\n      <td>89995.0</td>\n      <td>133.0</td>\n    </tr>\n    <tr>\n      <th>2</th>\n      <td>2010-01-31</td>\n      <td>2</td>\n      <td>3</td>\n      <td>Houston</td>\n      <td>TX</td>\n      <td>Houston-The Woodlands-Sugar Land</td>\n      <td>Harris County</td>\n      <td>116641.0</td>\n      <td>133.0</td>\n    </tr>\n    <tr>\n      <th>3</th>\n      <td>2010-01-31</td>\n      <td>2</td>\n      <td>4</td>\n      <td>Houston</td>\n      <td>TX</td>\n      <td>Houston-The Woodlands-Sugar Land</td>\n      <td>Harris County</td>\n      <td>167849.0</td>\n      <td>133.0</td>\n    </tr>\n    <tr>\n      <th>4</th>\n      <td>2010-01-31</td>\n      <td>2</td>\n      <td>5</td>\n      <td>Houston</td>\n      <td>TX</td>\n      <td>Houston-The Woodlands-Sugar Land</td>\n      <td>Harris County</td>\n      <td>303323.0</td>\n      <td>133.0</td>\n    </tr>\n    <tr>\n      <th>...</th>\n      <td>...</td>\n      <td>...</td>\n      <td>...</td>\n      <td>...</td>\n      <td>...</td>\n      <td>...</td>\n      <td>...</td>\n      <td>...</td>\n      <td>...</td>\n    </tr>\n    <tr>\n      <th>7803</th>\n      <td>2020-02-29</td>\n      <td>1431</td>\n      <td>4</td>\n      <td>Duncanville</td>\n      <td>TX</td>\n      <td>Dallas-Fort Worth-Arlington</td>\n      <td>Dallas County</td>\n      <td>240716.0</td>\n      <td>57.0</td>\n    </tr>\n    <tr>\n      <th>7804</th>\n      <td>2020-02-29</td>\n      <td>2307</td>\n      <td>4</td>\n      <td>Brownwood</td>\n      <td>TX</td>\n      <td>Brownwood</td>\n      <td>Brown County</td>\n      <td>230132.0</td>\n      <td>110.0</td>\n    </tr>\n    <tr>\n      <th>7805</th>\n      <td>2020-02-29</td>\n      <td>1241</td>\n      <td>5</td>\n      <td>Haltom City</td>\n      <td>TX</td>\n      <td>Dallas-Fort Worth-Arlington</td>\n      <td>Tarrant County</td>\n      <td>281139.0</td>\n      <td>72.0</td>\n    </tr>\n    <tr>\n      <th>7806</th>\n      <td>2020-02-29</td>\n      <td>1800</td>\n      <td>5</td>\n      <td>Socorro</td>\n      <td>TX</td>\n      <td>El Paso</td>\n      <td>El Paso County</td>\n      <td>141688.0</td>\n      <td>123.0</td>\n    </tr>\n    <tr>\n      <th>7807</th>\n      <td>2020-02-29</td>\n      <td>2601</td>\n      <td>5</td>\n      <td>Royse City</td>\n      <td>TX</td>\n      <td>Dallas-Fort Worth-Arlington</td>\n      <td>Rockwall County</td>\n      <td>264290.0</td>\n      <td>91.5</td>\n    </tr>\n  </tbody>\n</table>\n<p>7808 rows × 9 columns</p>\n</div>"
     },
     "metadata": {},
     "execution_count": 22
    }
   ],
   "source": [
    "housing_data_df.reset_index()"
   ]
  },
  {
   "cell_type": "code",
   "execution_count": 23,
   "metadata": {},
   "outputs": [
    {
     "output_type": "execute_result",
     "data": {
      "text/plain": [
       "            Identifier  Bedroom     Price  Average_Market_Days  \\\n",
       "Date                                                             \n",
       "2010-01-31           2        1   67653.0                133.0   \n",
       "2010-01-31           2        2   89995.0                133.0   \n",
       "2010-01-31           2        3  116641.0                133.0   \n",
       "2010-01-31           2        4  167849.0                133.0   \n",
       "2010-01-31           2        5  303323.0                133.0   \n",
       "...                ...      ...       ...                  ...   \n",
       "2020-02-29        1431        4  240716.0                 57.0   \n",
       "2020-02-29        2307        4  230132.0                110.0   \n",
       "2020-02-29        1241        5  281139.0                 72.0   \n",
       "2020-02-29        1800        5  141688.0                123.0   \n",
       "2020-02-29        2601        5  264290.0                 91.5   \n",
       "\n",
       "            RegionName_Austin  RegionName_Beaumont  RegionName_Brownwood  \\\n",
       "Date                                                                       \n",
       "2010-01-31                  0                    0                     0   \n",
       "2010-01-31                  0                    0                     0   \n",
       "2010-01-31                  0                    0                     0   \n",
       "2010-01-31                  0                    0                     0   \n",
       "2010-01-31                  0                    0                     0   \n",
       "...                       ...                  ...                   ...   \n",
       "2020-02-29                  0                    0                     0   \n",
       "2020-02-29                  0                    0                     1   \n",
       "2020-02-29                  0                    0                     0   \n",
       "2020-02-29                  0                    0                     0   \n",
       "2020-02-29                  0                    0                     0   \n",
       "\n",
       "            RegionName_Converse  RegionName_Coppell  RegionName_Crosby  ...  \\\n",
       "Date                                                                    ...   \n",
       "2010-01-31                    0                   0                  0  ...   \n",
       "2010-01-31                    0                   0                  0  ...   \n",
       "2010-01-31                    0                   0                  0  ...   \n",
       "2010-01-31                    0                   0                  0  ...   \n",
       "2010-01-31                    0                   0                  0  ...   \n",
       "...                         ...                 ...                ...  ...   \n",
       "2020-02-29                    0                   0                  0  ...   \n",
       "2020-02-29                    0                   0                  0  ...   \n",
       "2020-02-29                    0                   0                  0  ...   \n",
       "2020-02-29                    0                   0                  0  ...   \n",
       "2020-02-29                    0                   0                  0  ...   \n",
       "\n",
       "            CountyName_Jefferson County  CountyName_McLennan County  \\\n",
       "Date                                                                  \n",
       "2010-01-31                            0                           0   \n",
       "2010-01-31                            0                           0   \n",
       "2010-01-31                            0                           0   \n",
       "2010-01-31                            0                           0   \n",
       "2010-01-31                            0                           0   \n",
       "...                                 ...                         ...   \n",
       "2020-02-29                            0                           0   \n",
       "2020-02-29                            0                           0   \n",
       "2020-02-29                            0                           0   \n",
       "2020-02-29                            0                           0   \n",
       "2020-02-29                            0                           0   \n",
       "\n",
       "            CountyName_Montgomery County  CountyName_Rockwall County  \\\n",
       "Date                                                                   \n",
       "2010-01-31                             0                           0   \n",
       "2010-01-31                             0                           0   \n",
       "2010-01-31                             0                           0   \n",
       "2010-01-31                             0                           0   \n",
       "2010-01-31                             0                           0   \n",
       "...                                  ...                         ...   \n",
       "2020-02-29                             0                           0   \n",
       "2020-02-29                             0                           0   \n",
       "2020-02-29                             0                           0   \n",
       "2020-02-29                             0                           0   \n",
       "2020-02-29                             0                           1   \n",
       "\n",
       "            CountyName_Smith County  CountyName_Tarrant County  \\\n",
       "Date                                                             \n",
       "2010-01-31                        0                          0   \n",
       "2010-01-31                        0                          0   \n",
       "2010-01-31                        0                          0   \n",
       "2010-01-31                        0                          0   \n",
       "2010-01-31                        0                          0   \n",
       "...                             ...                        ...   \n",
       "2020-02-29                        0                          0   \n",
       "2020-02-29                        0                          0   \n",
       "2020-02-29                        0                          1   \n",
       "2020-02-29                        0                          0   \n",
       "2020-02-29                        0                          0   \n",
       "\n",
       "            CountyName_Tom Green County  CountyName_Travis County  \\\n",
       "Date                                                                \n",
       "2010-01-31                            0                         0   \n",
       "2010-01-31                            0                         0   \n",
       "2010-01-31                            0                         0   \n",
       "2010-01-31                            0                         0   \n",
       "2010-01-31                            0                         0   \n",
       "...                                 ...                       ...   \n",
       "2020-02-29                            0                         0   \n",
       "2020-02-29                            0                         0   \n",
       "2020-02-29                            0                         0   \n",
       "2020-02-29                            0                         0   \n",
       "2020-02-29                            0                         0   \n",
       "\n",
       "            CountyName_Val Verde County  CountyName_Williamson County  \n",
       "Date                                                                   \n",
       "2010-01-31                            0                             0  \n",
       "2010-01-31                            0                             0  \n",
       "2010-01-31                            0                             0  \n",
       "2010-01-31                            0                             0  \n",
       "2010-01-31                            0                             0  \n",
       "...                                 ...                           ...  \n",
       "2020-02-29                            0                             0  \n",
       "2020-02-29                            0                             0  \n",
       "2020-02-29                            0                             0  \n",
       "2020-02-29                            0                             0  \n",
       "2020-02-29                            0                             0  \n",
       "\n",
       "[7808 rows x 68 columns]"
      ],
      "text/html": "<div>\n<style scoped>\n    .dataframe tbody tr th:only-of-type {\n        vertical-align: middle;\n    }\n\n    .dataframe tbody tr th {\n        vertical-align: top;\n    }\n\n    .dataframe thead th {\n        text-align: right;\n    }\n</style>\n<table border=\"1\" class=\"dataframe\">\n  <thead>\n    <tr style=\"text-align: right;\">\n      <th></th>\n      <th>Identifier</th>\n      <th>Bedroom</th>\n      <th>Price</th>\n      <th>Average_Market_Days</th>\n      <th>RegionName_Austin</th>\n      <th>RegionName_Beaumont</th>\n      <th>RegionName_Brownwood</th>\n      <th>RegionName_Converse</th>\n      <th>RegionName_Coppell</th>\n      <th>RegionName_Crosby</th>\n      <th>...</th>\n      <th>CountyName_Jefferson County</th>\n      <th>CountyName_McLennan County</th>\n      <th>CountyName_Montgomery County</th>\n      <th>CountyName_Rockwall County</th>\n      <th>CountyName_Smith County</th>\n      <th>CountyName_Tarrant County</th>\n      <th>CountyName_Tom Green County</th>\n      <th>CountyName_Travis County</th>\n      <th>CountyName_Val Verde County</th>\n      <th>CountyName_Williamson County</th>\n    </tr>\n    <tr>\n      <th>Date</th>\n      <th></th>\n      <th></th>\n      <th></th>\n      <th></th>\n      <th></th>\n      <th></th>\n      <th></th>\n      <th></th>\n      <th></th>\n      <th></th>\n      <th></th>\n      <th></th>\n      <th></th>\n      <th></th>\n      <th></th>\n      <th></th>\n      <th></th>\n      <th></th>\n      <th></th>\n      <th></th>\n      <th></th>\n    </tr>\n  </thead>\n  <tbody>\n    <tr>\n      <th>2010-01-31</th>\n      <td>2</td>\n      <td>1</td>\n      <td>67653.0</td>\n      <td>133.0</td>\n      <td>0</td>\n      <td>0</td>\n      <td>0</td>\n      <td>0</td>\n      <td>0</td>\n      <td>0</td>\n      <td>...</td>\n      <td>0</td>\n      <td>0</td>\n      <td>0</td>\n      <td>0</td>\n      <td>0</td>\n      <td>0</td>\n      <td>0</td>\n      <td>0</td>\n      <td>0</td>\n      <td>0</td>\n    </tr>\n    <tr>\n      <th>2010-01-31</th>\n      <td>2</td>\n      <td>2</td>\n      <td>89995.0</td>\n      <td>133.0</td>\n      <td>0</td>\n      <td>0</td>\n      <td>0</td>\n      <td>0</td>\n      <td>0</td>\n      <td>0</td>\n      <td>...</td>\n      <td>0</td>\n      <td>0</td>\n      <td>0</td>\n      <td>0</td>\n      <td>0</td>\n      <td>0</td>\n      <td>0</td>\n      <td>0</td>\n      <td>0</td>\n      <td>0</td>\n    </tr>\n    <tr>\n      <th>2010-01-31</th>\n      <td>2</td>\n      <td>3</td>\n      <td>116641.0</td>\n      <td>133.0</td>\n      <td>0</td>\n      <td>0</td>\n      <td>0</td>\n      <td>0</td>\n      <td>0</td>\n      <td>0</td>\n      <td>...</td>\n      <td>0</td>\n      <td>0</td>\n      <td>0</td>\n      <td>0</td>\n      <td>0</td>\n      <td>0</td>\n      <td>0</td>\n      <td>0</td>\n      <td>0</td>\n      <td>0</td>\n    </tr>\n    <tr>\n      <th>2010-01-31</th>\n      <td>2</td>\n      <td>4</td>\n      <td>167849.0</td>\n      <td>133.0</td>\n      <td>0</td>\n      <td>0</td>\n      <td>0</td>\n      <td>0</td>\n      <td>0</td>\n      <td>0</td>\n      <td>...</td>\n      <td>0</td>\n      <td>0</td>\n      <td>0</td>\n      <td>0</td>\n      <td>0</td>\n      <td>0</td>\n      <td>0</td>\n      <td>0</td>\n      <td>0</td>\n      <td>0</td>\n    </tr>\n    <tr>\n      <th>2010-01-31</th>\n      <td>2</td>\n      <td>5</td>\n      <td>303323.0</td>\n      <td>133.0</td>\n      <td>0</td>\n      <td>0</td>\n      <td>0</td>\n      <td>0</td>\n      <td>0</td>\n      <td>0</td>\n      <td>...</td>\n      <td>0</td>\n      <td>0</td>\n      <td>0</td>\n      <td>0</td>\n      <td>0</td>\n      <td>0</td>\n      <td>0</td>\n      <td>0</td>\n      <td>0</td>\n      <td>0</td>\n    </tr>\n    <tr>\n      <th>...</th>\n      <td>...</td>\n      <td>...</td>\n      <td>...</td>\n      <td>...</td>\n      <td>...</td>\n      <td>...</td>\n      <td>...</td>\n      <td>...</td>\n      <td>...</td>\n      <td>...</td>\n      <td>...</td>\n      <td>...</td>\n      <td>...</td>\n      <td>...</td>\n      <td>...</td>\n      <td>...</td>\n      <td>...</td>\n      <td>...</td>\n      <td>...</td>\n      <td>...</td>\n      <td>...</td>\n    </tr>\n    <tr>\n      <th>2020-02-29</th>\n      <td>1431</td>\n      <td>4</td>\n      <td>240716.0</td>\n      <td>57.0</td>\n      <td>0</td>\n      <td>0</td>\n      <td>0</td>\n      <td>0</td>\n      <td>0</td>\n      <td>0</td>\n      <td>...</td>\n      <td>0</td>\n      <td>0</td>\n      <td>0</td>\n      <td>0</td>\n      <td>0</td>\n      <td>0</td>\n      <td>0</td>\n      <td>0</td>\n      <td>0</td>\n      <td>0</td>\n    </tr>\n    <tr>\n      <th>2020-02-29</th>\n      <td>2307</td>\n      <td>4</td>\n      <td>230132.0</td>\n      <td>110.0</td>\n      <td>0</td>\n      <td>0</td>\n      <td>1</td>\n      <td>0</td>\n      <td>0</td>\n      <td>0</td>\n      <td>...</td>\n      <td>0</td>\n      <td>0</td>\n      <td>0</td>\n      <td>0</td>\n      <td>0</td>\n      <td>0</td>\n      <td>0</td>\n      <td>0</td>\n      <td>0</td>\n      <td>0</td>\n    </tr>\n    <tr>\n      <th>2020-02-29</th>\n      <td>1241</td>\n      <td>5</td>\n      <td>281139.0</td>\n      <td>72.0</td>\n      <td>0</td>\n      <td>0</td>\n      <td>0</td>\n      <td>0</td>\n      <td>0</td>\n      <td>0</td>\n      <td>...</td>\n      <td>0</td>\n      <td>0</td>\n      <td>0</td>\n      <td>0</td>\n      <td>0</td>\n      <td>1</td>\n      <td>0</td>\n      <td>0</td>\n      <td>0</td>\n      <td>0</td>\n    </tr>\n    <tr>\n      <th>2020-02-29</th>\n      <td>1800</td>\n      <td>5</td>\n      <td>141688.0</td>\n      <td>123.0</td>\n      <td>0</td>\n      <td>0</td>\n      <td>0</td>\n      <td>0</td>\n      <td>0</td>\n      <td>0</td>\n      <td>...</td>\n      <td>0</td>\n      <td>0</td>\n      <td>0</td>\n      <td>0</td>\n      <td>0</td>\n      <td>0</td>\n      <td>0</td>\n      <td>0</td>\n      <td>0</td>\n      <td>0</td>\n    </tr>\n    <tr>\n      <th>2020-02-29</th>\n      <td>2601</td>\n      <td>5</td>\n      <td>264290.0</td>\n      <td>91.5</td>\n      <td>0</td>\n      <td>0</td>\n      <td>0</td>\n      <td>0</td>\n      <td>0</td>\n      <td>0</td>\n      <td>...</td>\n      <td>0</td>\n      <td>0</td>\n      <td>0</td>\n      <td>1</td>\n      <td>0</td>\n      <td>0</td>\n      <td>0</td>\n      <td>0</td>\n      <td>0</td>\n      <td>0</td>\n    </tr>\n  </tbody>\n</table>\n<p>7808 rows × 68 columns</p>\n</div>"
     },
     "metadata": {},
     "execution_count": 23
    }
   ],
   "source": [
    "housing_data_df = pd.get_dummies(housing_data_df, columns=['RegionName', 'State', 'Metro', 'CountyName'])\n",
    "housing_data_df"
   ]
  },
  {
   "cell_type": "code",
   "execution_count": 27,
   "metadata": {},
   "outputs": [],
   "source": [
    "# Saving the encoded dataset\n",
    "file_path = Path(\"../housing_data_TX_encoded.csv\")\n",
    "housing_data_df.to_csv(file_path, index=True)\n"
   ]
  },
  {
   "cell_type": "code",
   "execution_count": 28,
   "metadata": {},
   "outputs": [
    {
     "output_type": "execute_result",
     "data": {
      "text/plain": [
       "            Identifier  Bedroom     Price  Average_Market_Days  \\\n",
       "Date                                                             \n",
       "2020-01-31           2        1  106161.0                104.0   \n",
       "2020-01-31           2        2  142883.0                104.0   \n",
       "2020-01-31           2        3  176138.0                104.0   \n",
       "2020-01-31           2        4  236815.0                104.0   \n",
       "2020-01-31           2        5  401345.0                104.0   \n",
       "...                ...      ...       ...                  ...   \n",
       "2020-02-29        1431        4  240716.0                 57.0   \n",
       "2020-02-29        2307        4  230132.0                110.0   \n",
       "2020-02-29        1241        5  281139.0                 72.0   \n",
       "2020-02-29        1800        5  141688.0                123.0   \n",
       "2020-02-29        2601        5  264290.0                 91.5   \n",
       "\n",
       "            RegionName_Austin  RegionName_Beaumont  RegionName_Brownwood  \\\n",
       "Date                                                                       \n",
       "2020-01-31                  0                    0                     0   \n",
       "2020-01-31                  0                    0                     0   \n",
       "2020-01-31                  0                    0                     0   \n",
       "2020-01-31                  0                    0                     0   \n",
       "2020-01-31                  0                    0                     0   \n",
       "...                       ...                  ...                   ...   \n",
       "2020-02-29                  0                    0                     0   \n",
       "2020-02-29                  0                    0                     1   \n",
       "2020-02-29                  0                    0                     0   \n",
       "2020-02-29                  0                    0                     0   \n",
       "2020-02-29                  0                    0                     0   \n",
       "\n",
       "            RegionName_Converse  RegionName_Coppell  RegionName_Crosby  ...  \\\n",
       "Date                                                                    ...   \n",
       "2020-01-31                    0                   0                  0  ...   \n",
       "2020-01-31                    0                   0                  0  ...   \n",
       "2020-01-31                    0                   0                  0  ...   \n",
       "2020-01-31                    0                   0                  0  ...   \n",
       "2020-01-31                    0                   0                  0  ...   \n",
       "...                         ...                 ...                ...  ...   \n",
       "2020-02-29                    0                   0                  0  ...   \n",
       "2020-02-29                    0                   0                  0  ...   \n",
       "2020-02-29                    0                   0                  0  ...   \n",
       "2020-02-29                    0                   0                  0  ...   \n",
       "2020-02-29                    0                   0                  0  ...   \n",
       "\n",
       "            CountyName_Jefferson County  CountyName_McLennan County  \\\n",
       "Date                                                                  \n",
       "2020-01-31                            0                           0   \n",
       "2020-01-31                            0                           0   \n",
       "2020-01-31                            0                           0   \n",
       "2020-01-31                            0                           0   \n",
       "2020-01-31                            0                           0   \n",
       "...                                 ...                         ...   \n",
       "2020-02-29                            0                           0   \n",
       "2020-02-29                            0                           0   \n",
       "2020-02-29                            0                           0   \n",
       "2020-02-29                            0                           0   \n",
       "2020-02-29                            0                           0   \n",
       "\n",
       "            CountyName_Montgomery County  CountyName_Rockwall County  \\\n",
       "Date                                                                   \n",
       "2020-01-31                             0                           0   \n",
       "2020-01-31                             0                           0   \n",
       "2020-01-31                             0                           0   \n",
       "2020-01-31                             0                           0   \n",
       "2020-01-31                             0                           0   \n",
       "...                                  ...                         ...   \n",
       "2020-02-29                             0                           0   \n",
       "2020-02-29                             0                           0   \n",
       "2020-02-29                             0                           0   \n",
       "2020-02-29                             0                           0   \n",
       "2020-02-29                             0                           1   \n",
       "\n",
       "            CountyName_Smith County  CountyName_Tarrant County  \\\n",
       "Date                                                             \n",
       "2020-01-31                        0                          0   \n",
       "2020-01-31                        0                          0   \n",
       "2020-01-31                        0                          0   \n",
       "2020-01-31                        0                          0   \n",
       "2020-01-31                        0                          0   \n",
       "...                             ...                        ...   \n",
       "2020-02-29                        0                          0   \n",
       "2020-02-29                        0                          0   \n",
       "2020-02-29                        0                          1   \n",
       "2020-02-29                        0                          0   \n",
       "2020-02-29                        0                          0   \n",
       "\n",
       "            CountyName_Tom Green County  CountyName_Travis County  \\\n",
       "Date                                                                \n",
       "2020-01-31                            0                         0   \n",
       "2020-01-31                            0                         0   \n",
       "2020-01-31                            0                         0   \n",
       "2020-01-31                            0                         0   \n",
       "2020-01-31                            0                         0   \n",
       "...                                 ...                       ...   \n",
       "2020-02-29                            0                         0   \n",
       "2020-02-29                            0                         0   \n",
       "2020-02-29                            0                         0   \n",
       "2020-02-29                            0                         0   \n",
       "2020-02-29                            0                         0   \n",
       "\n",
       "            CountyName_Val Verde County  CountyName_Williamson County  \n",
       "Date                                                                   \n",
       "2020-01-31                            0                             0  \n",
       "2020-01-31                            0                             0  \n",
       "2020-01-31                            0                             0  \n",
       "2020-01-31                            0                             0  \n",
       "2020-01-31                            0                             0  \n",
       "...                                 ...                           ...  \n",
       "2020-02-29                            0                             0  \n",
       "2020-02-29                            0                             0  \n",
       "2020-02-29                            0                             0  \n",
       "2020-02-29                            0                             0  \n",
       "2020-02-29                            0                             0  \n",
       "\n",
       "[128 rows x 68 columns]"
      ],
      "text/html": "<div>\n<style scoped>\n    .dataframe tbody tr th:only-of-type {\n        vertical-align: middle;\n    }\n\n    .dataframe tbody tr th {\n        vertical-align: top;\n    }\n\n    .dataframe thead th {\n        text-align: right;\n    }\n</style>\n<table border=\"1\" class=\"dataframe\">\n  <thead>\n    <tr style=\"text-align: right;\">\n      <th></th>\n      <th>Identifier</th>\n      <th>Bedroom</th>\n      <th>Price</th>\n      <th>Average_Market_Days</th>\n      <th>RegionName_Austin</th>\n      <th>RegionName_Beaumont</th>\n      <th>RegionName_Brownwood</th>\n      <th>RegionName_Converse</th>\n      <th>RegionName_Coppell</th>\n      <th>RegionName_Crosby</th>\n      <th>...</th>\n      <th>CountyName_Jefferson County</th>\n      <th>CountyName_McLennan County</th>\n      <th>CountyName_Montgomery County</th>\n      <th>CountyName_Rockwall County</th>\n      <th>CountyName_Smith County</th>\n      <th>CountyName_Tarrant County</th>\n      <th>CountyName_Tom Green County</th>\n      <th>CountyName_Travis County</th>\n      <th>CountyName_Val Verde County</th>\n      <th>CountyName_Williamson County</th>\n    </tr>\n    <tr>\n      <th>Date</th>\n      <th></th>\n      <th></th>\n      <th></th>\n      <th></th>\n      <th></th>\n      <th></th>\n      <th></th>\n      <th></th>\n      <th></th>\n      <th></th>\n      <th></th>\n      <th></th>\n      <th></th>\n      <th></th>\n      <th></th>\n      <th></th>\n      <th></th>\n      <th></th>\n      <th></th>\n      <th></th>\n      <th></th>\n    </tr>\n  </thead>\n  <tbody>\n    <tr>\n      <th>2020-01-31</th>\n      <td>2</td>\n      <td>1</td>\n      <td>106161.0</td>\n      <td>104.0</td>\n      <td>0</td>\n      <td>0</td>\n      <td>0</td>\n      <td>0</td>\n      <td>0</td>\n      <td>0</td>\n      <td>...</td>\n      <td>0</td>\n      <td>0</td>\n      <td>0</td>\n      <td>0</td>\n      <td>0</td>\n      <td>0</td>\n      <td>0</td>\n      <td>0</td>\n      <td>0</td>\n      <td>0</td>\n    </tr>\n    <tr>\n      <th>2020-01-31</th>\n      <td>2</td>\n      <td>2</td>\n      <td>142883.0</td>\n      <td>104.0</td>\n      <td>0</td>\n      <td>0</td>\n      <td>0</td>\n      <td>0</td>\n      <td>0</td>\n      <td>0</td>\n      <td>...</td>\n      <td>0</td>\n      <td>0</td>\n      <td>0</td>\n      <td>0</td>\n      <td>0</td>\n      <td>0</td>\n      <td>0</td>\n      <td>0</td>\n      <td>0</td>\n      <td>0</td>\n    </tr>\n    <tr>\n      <th>2020-01-31</th>\n      <td>2</td>\n      <td>3</td>\n      <td>176138.0</td>\n      <td>104.0</td>\n      <td>0</td>\n      <td>0</td>\n      <td>0</td>\n      <td>0</td>\n      <td>0</td>\n      <td>0</td>\n      <td>...</td>\n      <td>0</td>\n      <td>0</td>\n      <td>0</td>\n      <td>0</td>\n      <td>0</td>\n      <td>0</td>\n      <td>0</td>\n      <td>0</td>\n      <td>0</td>\n      <td>0</td>\n    </tr>\n    <tr>\n      <th>2020-01-31</th>\n      <td>2</td>\n      <td>4</td>\n      <td>236815.0</td>\n      <td>104.0</td>\n      <td>0</td>\n      <td>0</td>\n      <td>0</td>\n      <td>0</td>\n      <td>0</td>\n      <td>0</td>\n      <td>...</td>\n      <td>0</td>\n      <td>0</td>\n      <td>0</td>\n      <td>0</td>\n      <td>0</td>\n      <td>0</td>\n      <td>0</td>\n      <td>0</td>\n      <td>0</td>\n      <td>0</td>\n    </tr>\n    <tr>\n      <th>2020-01-31</th>\n      <td>2</td>\n      <td>5</td>\n      <td>401345.0</td>\n      <td>104.0</td>\n      <td>0</td>\n      <td>0</td>\n      <td>0</td>\n      <td>0</td>\n      <td>0</td>\n      <td>0</td>\n      <td>...</td>\n      <td>0</td>\n      <td>0</td>\n      <td>0</td>\n      <td>0</td>\n      <td>0</td>\n      <td>0</td>\n      <td>0</td>\n      <td>0</td>\n      <td>0</td>\n      <td>0</td>\n    </tr>\n    <tr>\n      <th>...</th>\n      <td>...</td>\n      <td>...</td>\n      <td>...</td>\n      <td>...</td>\n      <td>...</td>\n      <td>...</td>\n      <td>...</td>\n      <td>...</td>\n      <td>...</td>\n      <td>...</td>\n      <td>...</td>\n      <td>...</td>\n      <td>...</td>\n      <td>...</td>\n      <td>...</td>\n      <td>...</td>\n      <td>...</td>\n      <td>...</td>\n      <td>...</td>\n      <td>...</td>\n      <td>...</td>\n    </tr>\n    <tr>\n      <th>2020-02-29</th>\n      <td>1431</td>\n      <td>4</td>\n      <td>240716.0</td>\n      <td>57.0</td>\n      <td>0</td>\n      <td>0</td>\n      <td>0</td>\n      <td>0</td>\n      <td>0</td>\n      <td>0</td>\n      <td>...</td>\n      <td>0</td>\n      <td>0</td>\n      <td>0</td>\n      <td>0</td>\n      <td>0</td>\n      <td>0</td>\n      <td>0</td>\n      <td>0</td>\n      <td>0</td>\n      <td>0</td>\n    </tr>\n    <tr>\n      <th>2020-02-29</th>\n      <td>2307</td>\n      <td>4</td>\n      <td>230132.0</td>\n      <td>110.0</td>\n      <td>0</td>\n      <td>0</td>\n      <td>1</td>\n      <td>0</td>\n      <td>0</td>\n      <td>0</td>\n      <td>...</td>\n      <td>0</td>\n      <td>0</td>\n      <td>0</td>\n      <td>0</td>\n      <td>0</td>\n      <td>0</td>\n      <td>0</td>\n      <td>0</td>\n      <td>0</td>\n      <td>0</td>\n    </tr>\n    <tr>\n      <th>2020-02-29</th>\n      <td>1241</td>\n      <td>5</td>\n      <td>281139.0</td>\n      <td>72.0</td>\n      <td>0</td>\n      <td>0</td>\n      <td>0</td>\n      <td>0</td>\n      <td>0</td>\n      <td>0</td>\n      <td>...</td>\n      <td>0</td>\n      <td>0</td>\n      <td>0</td>\n      <td>0</td>\n      <td>0</td>\n      <td>1</td>\n      <td>0</td>\n      <td>0</td>\n      <td>0</td>\n      <td>0</td>\n    </tr>\n    <tr>\n      <th>2020-02-29</th>\n      <td>1800</td>\n      <td>5</td>\n      <td>141688.0</td>\n      <td>123.0</td>\n      <td>0</td>\n      <td>0</td>\n      <td>0</td>\n      <td>0</td>\n      <td>0</td>\n      <td>0</td>\n      <td>...</td>\n      <td>0</td>\n      <td>0</td>\n      <td>0</td>\n      <td>0</td>\n      <td>0</td>\n      <td>0</td>\n      <td>0</td>\n      <td>0</td>\n      <td>0</td>\n      <td>0</td>\n    </tr>\n    <tr>\n      <th>2020-02-29</th>\n      <td>2601</td>\n      <td>5</td>\n      <td>264290.0</td>\n      <td>91.5</td>\n      <td>0</td>\n      <td>0</td>\n      <td>0</td>\n      <td>0</td>\n      <td>0</td>\n      <td>0</td>\n      <td>...</td>\n      <td>0</td>\n      <td>0</td>\n      <td>0</td>\n      <td>1</td>\n      <td>0</td>\n      <td>0</td>\n      <td>0</td>\n      <td>0</td>\n      <td>0</td>\n      <td>0</td>\n    </tr>\n  </tbody>\n</table>\n<p>128 rows × 68 columns</p>\n</div>"
     },
     "metadata": {},
     "execution_count": 28
    }
   ],
   "source": [
    "housing_price_2020= housing_data_df.loc['2020']\n",
    "housing_price_2020"
   ]
  },
  {
   "cell_type": "code",
   "execution_count": 29,
   "metadata": {},
   "outputs": [
    {
     "output_type": "execute_result",
     "data": {
      "text/plain": [
       "128"
      ]
     },
     "metadata": {},
     "execution_count": 29
    }
   ],
   "source": [
    "len(housing_price_2020)"
   ]
  },
  {
   "cell_type": "code",
   "execution_count": null,
   "metadata": {},
   "outputs": [],
   "source": []
  }
 ]
}