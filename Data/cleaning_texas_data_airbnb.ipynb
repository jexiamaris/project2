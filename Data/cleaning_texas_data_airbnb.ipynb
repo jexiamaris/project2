{
 "metadata": {
  "language_info": {
   "codemirror_mode": {
    "name": "ipython",
    "version": 3
   },
   "file_extension": ".py",
   "mimetype": "text/x-python",
   "name": "python",
   "nbconvert_exporter": "python",
   "pygments_lexer": "ipython3",
   "version": "3.8.3-final"
  },
  "orig_nbformat": 2,
  "kernelspec": {
   "name": "python3",
   "display_name": "Python 3.8.3 64-bit (conda)",
   "metadata": {
    "interpreter": {
     "hash": "b3ba2566441a7c06988d0923437866b63cedc61552a5af99d1f4fb67d367b25f"
    }
   }
  }
 },
 "nbformat": 4,
 "nbformat_minor": 2,
 "cells": [
  {
   "cell_type": "code",
   "execution_count": 338,
   "metadata": {},
   "outputs": [],
   "source": [
    "import random\n",
    "from random import choices\n",
    "import pandas as pd\n",
    "import numpy as np\n",
    "from pathlib import Path"
   ]
  },
  {
   "cell_type": "code",
   "execution_count": 339,
   "metadata": {},
   "outputs": [],
   "source": [
    "months_list = [\"January\",\"February\",\"March\", \"April\", \"May\", \"June\", \"July\", \"August\", \"September\", \"October\", \"November\", \"December\"]"
   ]
  },
  {
   "cell_type": "code",
   "execution_count": 340,
   "metadata": {},
   "outputs": [
    {
     "output_type": "execute_result",
     "data": {
      "text/plain": [
       "        RegionName  Bedrooms     Date  Median_Rent\n",
       "0           Austin         3  2010-03       1300.0\n",
       "1           Austin         3  2010-04       1297.5\n",
       "2           Austin         3  2010-05       1500.0\n",
       "3           Austin         3  2010-06       1500.0\n",
       "4           Austin         3  2010-07       1310.0\n",
       "...            ...       ...      ...          ...\n",
       "13922      McAllen         2  2019-12        855.0\n",
       "13923      Abilene         2  2019-12        650.0\n",
       "13924   Carrollton         2  2019-12       1505.0\n",
       "13911  Brownsville         2  2019-12        787.5\n",
       "14082      Prosper         4  2019-12       2275.0\n",
       "\n",
       "[14083 rows x 4 columns]"
      ],
      "text/html": "<div>\n<style scoped>\n    .dataframe tbody tr th:only-of-type {\n        vertical-align: middle;\n    }\n\n    .dataframe tbody tr th {\n        vertical-align: top;\n    }\n\n    .dataframe thead th {\n        text-align: right;\n    }\n</style>\n<table border=\"1\" class=\"dataframe\">\n  <thead>\n    <tr style=\"text-align: right;\">\n      <th></th>\n      <th>RegionName</th>\n      <th>Bedrooms</th>\n      <th>Date</th>\n      <th>Median_Rent</th>\n    </tr>\n  </thead>\n  <tbody>\n    <tr>\n      <th>0</th>\n      <td>Austin</td>\n      <td>3</td>\n      <td>2010-03</td>\n      <td>1300.0</td>\n    </tr>\n    <tr>\n      <th>1</th>\n      <td>Austin</td>\n      <td>3</td>\n      <td>2010-04</td>\n      <td>1297.5</td>\n    </tr>\n    <tr>\n      <th>2</th>\n      <td>Austin</td>\n      <td>3</td>\n      <td>2010-05</td>\n      <td>1500.0</td>\n    </tr>\n    <tr>\n      <th>3</th>\n      <td>Austin</td>\n      <td>3</td>\n      <td>2010-06</td>\n      <td>1500.0</td>\n    </tr>\n    <tr>\n      <th>4</th>\n      <td>Austin</td>\n      <td>3</td>\n      <td>2010-07</td>\n      <td>1310.0</td>\n    </tr>\n    <tr>\n      <th>...</th>\n      <td>...</td>\n      <td>...</td>\n      <td>...</td>\n      <td>...</td>\n    </tr>\n    <tr>\n      <th>13922</th>\n      <td>McAllen</td>\n      <td>2</td>\n      <td>2019-12</td>\n      <td>855.0</td>\n    </tr>\n    <tr>\n      <th>13923</th>\n      <td>Abilene</td>\n      <td>2</td>\n      <td>2019-12</td>\n      <td>650.0</td>\n    </tr>\n    <tr>\n      <th>13924</th>\n      <td>Carrollton</td>\n      <td>2</td>\n      <td>2019-12</td>\n      <td>1505.0</td>\n    </tr>\n    <tr>\n      <th>13911</th>\n      <td>Brownsville</td>\n      <td>2</td>\n      <td>2019-12</td>\n      <td>787.5</td>\n    </tr>\n    <tr>\n      <th>14082</th>\n      <td>Prosper</td>\n      <td>4</td>\n      <td>2019-12</td>\n      <td>2275.0</td>\n    </tr>\n  </tbody>\n</table>\n<p>14083 rows × 4 columns</p>\n</div>"
     },
     "metadata": {},
     "execution_count": 340
    }
   ],
   "source": [
    "# Load data\n",
    "housing_df = pd.read_csv(\"median_rents_multi_indexed.csv\")\n",
    "\n",
    "airbnb_data = pd.read_csv(\"raw_data/Airbnb_Texas_Rentals.csv\")\n",
    "airbnb_data = airbnb_data.rename(columns={'bedrooms_count':'Bedrooms'})\n",
    "\n",
    "housing_df.sort_values(\"Date\",ascending=True)"
   ]
  },
  {
   "cell_type": "code",
   "execution_count": 341,
   "metadata": {},
   "outputs": [],
   "source": [
    "columns = airbnb_data.columns\n",
    "columns = columns[1:5]\n",
    "airbnb_df = airbnb_data.loc[:,columns]\n",
    "months_index = [f'0{months_list.index(month)+1}' for month in months_list]\n",
    "months_index = [month_index[-2:] for month_index in months_index]\n",
    "airbnb_df[\"date_of_listing\"] = [date.replace(\" \",\"\") for date in airbnb_df[\"date_of_listing\"]]\n",
    "airbnb_df[\"year\"] = [f\"{date[-4:]}\" for date in airbnb_df[\"date_of_listing\"]]\n",
    "airbnb_df[\"month\"] = [f\"{months_index[months_list.index(date[:-4])]}\" for date in airbnb_df[\"date_of_listing\"]]\n",
    "#Citation: https://stackoverflow.com/questions/19377969/combine-two-columns-of-text-in-pandas-dataframe\n",
    "airbnb_df[\"Date\"] = airbnb_df[['year','month']].agg('-'.join,axis=1)\n",
    "airbnb_df = airbnb_df.drop(columns=[\"date_of_listing\",\"year\",\"month\"])\n",
    "airbnb_df[\"Num_ABNB_Listings\"] = 0"
   ]
  },
  {
   "cell_type": "code",
   "execution_count": 342,
   "metadata": {},
   "outputs": [
    {
     "output_type": "execute_result",
     "data": {
      "text/plain": [
       "      average_rate_per_night Bedrooms         city     Date  Num_ABNB_Listings\n",
       "0                        $27        2       Humble  2016-05                  0\n",
       "1                       $149        4  San Antonio  2010-11                  0\n",
       "2                        $59        1      Houston  2017-01                  0\n",
       "3                        $60        1        Bryan  2016-02                  0\n",
       "4                        $75        2   Fort Worth  2017-02                  0\n",
       "...                      ...      ...          ...      ...                ...\n",
       "18254                    $60        1       Dallas  2013-03                  0\n",
       "18255                    $99        2  San Antonio  2015-06                  0\n",
       "18256                    $13        1       Dallas  2016-12                  0\n",
       "18257                    $65        2  San Antonio  2016-10                  0\n",
       "18258                    $75        1  San Antonio  2015-07                  0\n",
       "\n",
       "[18259 rows x 5 columns]"
      ],
      "text/html": "<div>\n<style scoped>\n    .dataframe tbody tr th:only-of-type {\n        vertical-align: middle;\n    }\n\n    .dataframe tbody tr th {\n        vertical-align: top;\n    }\n\n    .dataframe thead th {\n        text-align: right;\n    }\n</style>\n<table border=\"1\" class=\"dataframe\">\n  <thead>\n    <tr style=\"text-align: right;\">\n      <th></th>\n      <th>average_rate_per_night</th>\n      <th>Bedrooms</th>\n      <th>city</th>\n      <th>Date</th>\n      <th>Num_ABNB_Listings</th>\n    </tr>\n  </thead>\n  <tbody>\n    <tr>\n      <th>0</th>\n      <td>$27</td>\n      <td>2</td>\n      <td>Humble</td>\n      <td>2016-05</td>\n      <td>0</td>\n    </tr>\n    <tr>\n      <th>1</th>\n      <td>$149</td>\n      <td>4</td>\n      <td>San Antonio</td>\n      <td>2010-11</td>\n      <td>0</td>\n    </tr>\n    <tr>\n      <th>2</th>\n      <td>$59</td>\n      <td>1</td>\n      <td>Houston</td>\n      <td>2017-01</td>\n      <td>0</td>\n    </tr>\n    <tr>\n      <th>3</th>\n      <td>$60</td>\n      <td>1</td>\n      <td>Bryan</td>\n      <td>2016-02</td>\n      <td>0</td>\n    </tr>\n    <tr>\n      <th>4</th>\n      <td>$75</td>\n      <td>2</td>\n      <td>Fort Worth</td>\n      <td>2017-02</td>\n      <td>0</td>\n    </tr>\n    <tr>\n      <th>...</th>\n      <td>...</td>\n      <td>...</td>\n      <td>...</td>\n      <td>...</td>\n      <td>...</td>\n    </tr>\n    <tr>\n      <th>18254</th>\n      <td>$60</td>\n      <td>1</td>\n      <td>Dallas</td>\n      <td>2013-03</td>\n      <td>0</td>\n    </tr>\n    <tr>\n      <th>18255</th>\n      <td>$99</td>\n      <td>2</td>\n      <td>San Antonio</td>\n      <td>2015-06</td>\n      <td>0</td>\n    </tr>\n    <tr>\n      <th>18256</th>\n      <td>$13</td>\n      <td>1</td>\n      <td>Dallas</td>\n      <td>2016-12</td>\n      <td>0</td>\n    </tr>\n    <tr>\n      <th>18257</th>\n      <td>$65</td>\n      <td>2</td>\n      <td>San Antonio</td>\n      <td>2016-10</td>\n      <td>0</td>\n    </tr>\n    <tr>\n      <th>18258</th>\n      <td>$75</td>\n      <td>1</td>\n      <td>San Antonio</td>\n      <td>2015-07</td>\n      <td>0</td>\n    </tr>\n  </tbody>\n</table>\n<p>18259 rows × 5 columns</p>\n</div>"
     },
     "metadata": {},
     "execution_count": 342
    }
   ],
   "source": [
    "airbnb_df"
   ]
  },
  {
   "cell_type": "code",
   "execution_count": 347,
   "metadata": {},
   "outputs": [
    {
     "output_type": "execute_result",
     "data": {
      "text/plain": [
       "      average_rate_per_night  Bedrooms    RegionName     Date  \\\n",
       "0                        $27         3        Humble  2016-05   \n",
       "12164                    $98         3       Houston  2017-01   \n",
       "12165                   $402         3  Marble Falls  2017-03   \n",
       "12166                   $395         3  Marble Falls  2016-01   \n",
       "12167                   $375         3        Boerne  2015-09   \n",
       "...                      ...       ...           ...      ...   \n",
       "6083                    $300         3    Fort Worth  2013-01   \n",
       "6082                     $36         3   San Antonio  2017-03   \n",
       "6081                     $82         3        Frisco  2013-11   \n",
       "6087                     $27         3       Houston  2016-06   \n",
       "18258                    $75         3   San Antonio  2015-07   \n",
       "\n",
       "       Num_ABNB_Listings  \n",
       "0                      0  \n",
       "12164                  0  \n",
       "12165                  0  \n",
       "12166                  0  \n",
       "12167                  0  \n",
       "...                  ...  \n",
       "6083                   0  \n",
       "6082                   0  \n",
       "6081                   0  \n",
       "6087                   0  \n",
       "18258                  0  \n",
       "\n",
       "[18259 rows x 5 columns]"
      ],
      "text/html": "<div>\n<style scoped>\n    .dataframe tbody tr th:only-of-type {\n        vertical-align: middle;\n    }\n\n    .dataframe tbody tr th {\n        vertical-align: top;\n    }\n\n    .dataframe thead th {\n        text-align: right;\n    }\n</style>\n<table border=\"1\" class=\"dataframe\">\n  <thead>\n    <tr style=\"text-align: right;\">\n      <th></th>\n      <th>average_rate_per_night</th>\n      <th>Bedrooms</th>\n      <th>RegionName</th>\n      <th>Date</th>\n      <th>Num_ABNB_Listings</th>\n    </tr>\n  </thead>\n  <tbody>\n    <tr>\n      <th>0</th>\n      <td>$27</td>\n      <td>3</td>\n      <td>Humble</td>\n      <td>2016-05</td>\n      <td>0</td>\n    </tr>\n    <tr>\n      <th>12164</th>\n      <td>$98</td>\n      <td>3</td>\n      <td>Houston</td>\n      <td>2017-01</td>\n      <td>0</td>\n    </tr>\n    <tr>\n      <th>12165</th>\n      <td>$402</td>\n      <td>3</td>\n      <td>Marble Falls</td>\n      <td>2017-03</td>\n      <td>0</td>\n    </tr>\n    <tr>\n      <th>12166</th>\n      <td>$395</td>\n      <td>3</td>\n      <td>Marble Falls</td>\n      <td>2016-01</td>\n      <td>0</td>\n    </tr>\n    <tr>\n      <th>12167</th>\n      <td>$375</td>\n      <td>3</td>\n      <td>Boerne</td>\n      <td>2015-09</td>\n      <td>0</td>\n    </tr>\n    <tr>\n      <th>...</th>\n      <td>...</td>\n      <td>...</td>\n      <td>...</td>\n      <td>...</td>\n      <td>...</td>\n    </tr>\n    <tr>\n      <th>6083</th>\n      <td>$300</td>\n      <td>3</td>\n      <td>Fort Worth</td>\n      <td>2013-01</td>\n      <td>0</td>\n    </tr>\n    <tr>\n      <th>6082</th>\n      <td>$36</td>\n      <td>3</td>\n      <td>San Antonio</td>\n      <td>2017-03</td>\n      <td>0</td>\n    </tr>\n    <tr>\n      <th>6081</th>\n      <td>$82</td>\n      <td>3</td>\n      <td>Frisco</td>\n      <td>2013-11</td>\n      <td>0</td>\n    </tr>\n    <tr>\n      <th>6087</th>\n      <td>$27</td>\n      <td>3</td>\n      <td>Houston</td>\n      <td>2016-06</td>\n      <td>0</td>\n    </tr>\n    <tr>\n      <th>18258</th>\n      <td>$75</td>\n      <td>3</td>\n      <td>San Antonio</td>\n      <td>2015-07</td>\n      <td>0</td>\n    </tr>\n  </tbody>\n</table>\n<p>18259 rows × 5 columns</p>\n</div>"
     },
     "metadata": {},
     "execution_count": 347
    }
   ],
   "source": [
    "airbnb_df.rename(columns={'city':'RegionName'},inplace=True)\n",
    "airbnb_df.sort_values(\"RegionName\")\n",
    "for value in airbnb_df[\"Bedrooms\"]:\n",
    "    try:\n",
    "        airbnb_df[\"Bedrooms\"] = int(value)\n",
    "\n",
    "    except KeyError:\n",
    "        airbnb_df.drop(airbnb_df[value])\n",
    "    \n",
    "airbnb_df.sort_values(\"Bedrooms\")"
   ]
  },
  {
   "cell_type": "code",
   "execution_count": 404,
   "metadata": {},
   "outputs": [],
   "source": [
    "def multi_index_data(df):\n",
    "    arrays = [df[\"RegionName\"],\n",
    "            df[\"Bedrooms\"]]\n",
    "\n",
    "    tuples = list(zip(*arrays))\n",
    "    index = pd.MultiIndex.from_tuples(tuples, names=['RegionName', 'Bedrooms'])\n",
    "\n",
    "    df = df.set_index(index)\n",
    "    df = df.drop(columns=[\"RegionName\",\"Bedrooms\"])\n",
    "    df = df.sort_index()\n",
    "    return df"
   ]
  },
  {
   "cell_type": "code",
   "execution_count": 405,
   "metadata": {},
   "outputs": [
    {
     "output_type": "execute_result",
     "data": {
      "text/plain": [
       "                    average_rate_per_night     Date  Num_ABNB_Listings\n",
       "RegionName Bedrooms                                                   \n",
       "Abilene    3                          $500  2016-07                  0\n",
       "           3                           $85  2015-12                  0\n",
       "           3                           NaN  2015-03                  0\n",
       "           3                           $85  2013-07                  0\n",
       "           3                           $99  2017-03                  0\n",
       "...                                    ...      ...                ...\n",
       "keller     3                          $160  2015-01                  0\n",
       "诺斯莱克       3                           $58  2015-12                  0\n",
       "           3                           $58  2015-12                  0\n",
       "阿纳瓦克       3                           $29  2017-04                  0\n",
       "           3                           $29  2017-04                  0\n",
       "\n",
       "[18259 rows x 3 columns]"
      ],
      "text/html": "<div>\n<style scoped>\n    .dataframe tbody tr th:only-of-type {\n        vertical-align: middle;\n    }\n\n    .dataframe tbody tr th {\n        vertical-align: top;\n    }\n\n    .dataframe thead th {\n        text-align: right;\n    }\n</style>\n<table border=\"1\" class=\"dataframe\">\n  <thead>\n    <tr style=\"text-align: right;\">\n      <th></th>\n      <th></th>\n      <th>average_rate_per_night</th>\n      <th>Date</th>\n      <th>Num_ABNB_Listings</th>\n    </tr>\n    <tr>\n      <th>RegionName</th>\n      <th>Bedrooms</th>\n      <th></th>\n      <th></th>\n      <th></th>\n    </tr>\n  </thead>\n  <tbody>\n    <tr>\n      <th rowspan=\"5\" valign=\"top\">Abilene</th>\n      <th>3</th>\n      <td>$500</td>\n      <td>2016-07</td>\n      <td>0</td>\n    </tr>\n    <tr>\n      <th>3</th>\n      <td>$85</td>\n      <td>2015-12</td>\n      <td>0</td>\n    </tr>\n    <tr>\n      <th>3</th>\n      <td>NaN</td>\n      <td>2015-03</td>\n      <td>0</td>\n    </tr>\n    <tr>\n      <th>3</th>\n      <td>$85</td>\n      <td>2013-07</td>\n      <td>0</td>\n    </tr>\n    <tr>\n      <th>3</th>\n      <td>$99</td>\n      <td>2017-03</td>\n      <td>0</td>\n    </tr>\n    <tr>\n      <th>...</th>\n      <th>...</th>\n      <td>...</td>\n      <td>...</td>\n      <td>...</td>\n    </tr>\n    <tr>\n      <th>keller</th>\n      <th>3</th>\n      <td>$160</td>\n      <td>2015-01</td>\n      <td>0</td>\n    </tr>\n    <tr>\n      <th rowspan=\"2\" valign=\"top\">诺斯莱克</th>\n      <th>3</th>\n      <td>$58</td>\n      <td>2015-12</td>\n      <td>0</td>\n    </tr>\n    <tr>\n      <th>3</th>\n      <td>$58</td>\n      <td>2015-12</td>\n      <td>0</td>\n    </tr>\n    <tr>\n      <th rowspan=\"2\" valign=\"top\">阿纳瓦克</th>\n      <th>3</th>\n      <td>$29</td>\n      <td>2017-04</td>\n      <td>0</td>\n    </tr>\n    <tr>\n      <th>3</th>\n      <td>$29</td>\n      <td>2017-04</td>\n      <td>0</td>\n    </tr>\n  </tbody>\n</table>\n<p>18259 rows × 3 columns</p>\n</div>"
     },
     "metadata": {},
     "execution_count": 405
    }
   ],
   "source": [
    "airbnb_df_new = multi_index_data(airbnb_df)\n",
    "airbnb_df_new"
   ]
  },
  {
   "cell_type": "code",
   "execution_count": 407,
   "metadata": {
    "tags": []
   },
   "outputs": [
    {
     "output_type": "error",
     "ename": "KeyboardInterrupt",
     "evalue": "",
     "traceback": [
      "\u001b[1;31m---------------------------------------------------------------------------\u001b[0m",
      "\u001b[1;31mKeyboardInterrupt\u001b[0m                         Traceback (most recent call last)",
      "\u001b[1;32m<ipython-input-407-f11019c0bac3>\u001b[0m in \u001b[0;36m<module>\u001b[1;34m\u001b[0m\n\u001b[0;32m      5\u001b[0m     \u001b[0mregion_bed_df\u001b[0m\u001b[1;33m.\u001b[0m\u001b[0msort_values\u001b[0m\u001b[1;33m(\u001b[0m\u001b[1;34m\"Date\"\u001b[0m\u001b[1;33m)\u001b[0m\u001b[1;33m\u001b[0m\u001b[1;33m\u001b[0m\u001b[0m\n\u001b[0;32m      6\u001b[0m     \u001b[1;32mfor\u001b[0m \u001b[0mdate\u001b[0m \u001b[1;32min\u001b[0m \u001b[0mregion_bed_df\u001b[0m\u001b[1;33m.\u001b[0m\u001b[0mindex\u001b[0m\u001b[1;33m:\u001b[0m\u001b[1;33m\u001b[0m\u001b[1;33m\u001b[0m\u001b[0m\n\u001b[1;32m----> 7\u001b[1;33m         \u001b[0mregion_bed_df\u001b[0m\u001b[1;33m[\u001b[0m\u001b[1;34m\"Num_ABNB_Listings\"\u001b[0m\u001b[1;33m]\u001b[0m \u001b[1;33m=\u001b[0m \u001b[0mcounter\u001b[0m\u001b[1;33m\u001b[0m\u001b[1;33m\u001b[0m\u001b[0m\n\u001b[0m\u001b[0;32m      8\u001b[0m         \u001b[0mcounter\u001b[0m \u001b[1;33m+=\u001b[0m\u001b[1;36m1\u001b[0m\u001b[1;33m\u001b[0m\u001b[1;33m\u001b[0m\u001b[0m\n\u001b[0;32m      9\u001b[0m     \u001b[0mdf_list\u001b[0m\u001b[1;33m.\u001b[0m\u001b[0mappend\u001b[0m\u001b[1;33m(\u001b[0m\u001b[0mregion_bed_df\u001b[0m\u001b[1;33m)\u001b[0m\u001b[1;33m\u001b[0m\u001b[1;33m\u001b[0m\u001b[0m\n",
      "\u001b[1;32m~\\anaconda3\\lib\\site-packages\\pandas\\core\\frame.py\u001b[0m in \u001b[0;36m__setitem__\u001b[1;34m(self, key, value)\u001b[0m\n\u001b[0;32m   2936\u001b[0m         \u001b[1;32melse\u001b[0m\u001b[1;33m:\u001b[0m\u001b[1;33m\u001b[0m\u001b[1;33m\u001b[0m\u001b[0m\n\u001b[0;32m   2937\u001b[0m             \u001b[1;31m# set column\u001b[0m\u001b[1;33m\u001b[0m\u001b[1;33m\u001b[0m\u001b[1;33m\u001b[0m\u001b[0m\n\u001b[1;32m-> 2938\u001b[1;33m             \u001b[0mself\u001b[0m\u001b[1;33m.\u001b[0m\u001b[0m_set_item\u001b[0m\u001b[1;33m(\u001b[0m\u001b[0mkey\u001b[0m\u001b[1;33m,\u001b[0m \u001b[0mvalue\u001b[0m\u001b[1;33m)\u001b[0m\u001b[1;33m\u001b[0m\u001b[1;33m\u001b[0m\u001b[0m\n\u001b[0m\u001b[0;32m   2939\u001b[0m \u001b[1;33m\u001b[0m\u001b[0m\n\u001b[0;32m   2940\u001b[0m     \u001b[1;32mdef\u001b[0m \u001b[0m_setitem_slice\u001b[0m\u001b[1;33m(\u001b[0m\u001b[0mself\u001b[0m\u001b[1;33m,\u001b[0m \u001b[0mkey\u001b[0m\u001b[1;33m,\u001b[0m \u001b[0mvalue\u001b[0m\u001b[1;33m)\u001b[0m\u001b[1;33m:\u001b[0m\u001b[1;33m\u001b[0m\u001b[1;33m\u001b[0m\u001b[0m\n",
      "\u001b[1;32m~\\anaconda3\\lib\\site-packages\\pandas\\core\\frame.py\u001b[0m in \u001b[0;36m_set_item\u001b[1;34m(self, key, value)\u001b[0m\n\u001b[0;32m   2999\u001b[0m         \u001b[0mself\u001b[0m\u001b[1;33m.\u001b[0m\u001b[0m_ensure_valid_index\u001b[0m\u001b[1;33m(\u001b[0m\u001b[0mvalue\u001b[0m\u001b[1;33m)\u001b[0m\u001b[1;33m\u001b[0m\u001b[1;33m\u001b[0m\u001b[0m\n\u001b[0;32m   3000\u001b[0m         \u001b[0mvalue\u001b[0m \u001b[1;33m=\u001b[0m \u001b[0mself\u001b[0m\u001b[1;33m.\u001b[0m\u001b[0m_sanitize_column\u001b[0m\u001b[1;33m(\u001b[0m\u001b[0mkey\u001b[0m\u001b[1;33m,\u001b[0m \u001b[0mvalue\u001b[0m\u001b[1;33m)\u001b[0m\u001b[1;33m\u001b[0m\u001b[1;33m\u001b[0m\u001b[0m\n\u001b[1;32m-> 3001\u001b[1;33m         \u001b[0mNDFrame\u001b[0m\u001b[1;33m.\u001b[0m\u001b[0m_set_item\u001b[0m\u001b[1;33m(\u001b[0m\u001b[0mself\u001b[0m\u001b[1;33m,\u001b[0m \u001b[0mkey\u001b[0m\u001b[1;33m,\u001b[0m \u001b[0mvalue\u001b[0m\u001b[1;33m)\u001b[0m\u001b[1;33m\u001b[0m\u001b[1;33m\u001b[0m\u001b[0m\n\u001b[0m\u001b[0;32m   3002\u001b[0m \u001b[1;33m\u001b[0m\u001b[0m\n\u001b[0;32m   3003\u001b[0m         \u001b[1;31m# check if we are modifying a copy\u001b[0m\u001b[1;33m\u001b[0m\u001b[1;33m\u001b[0m\u001b[1;33m\u001b[0m\u001b[0m\n",
      "\u001b[1;32m~\\anaconda3\\lib\\site-packages\\pandas\\core\\generic.py\u001b[0m in \u001b[0;36m_set_item\u001b[1;34m(self, key, value)\u001b[0m\n\u001b[0;32m   3622\u001b[0m \u001b[1;33m\u001b[0m\u001b[0m\n\u001b[0;32m   3623\u001b[0m     \u001b[1;32mdef\u001b[0m \u001b[0m_set_item\u001b[0m\u001b[1;33m(\u001b[0m\u001b[0mself\u001b[0m\u001b[1;33m,\u001b[0m \u001b[0mkey\u001b[0m\u001b[1;33m,\u001b[0m \u001b[0mvalue\u001b[0m\u001b[1;33m)\u001b[0m \u001b[1;33m->\u001b[0m \u001b[1;32mNone\u001b[0m\u001b[1;33m:\u001b[0m\u001b[1;33m\u001b[0m\u001b[1;33m\u001b[0m\u001b[0m\n\u001b[1;32m-> 3624\u001b[1;33m         \u001b[0mself\u001b[0m\u001b[1;33m.\u001b[0m\u001b[0m_data\u001b[0m\u001b[1;33m.\u001b[0m\u001b[0mset\u001b[0m\u001b[1;33m(\u001b[0m\u001b[0mkey\u001b[0m\u001b[1;33m,\u001b[0m \u001b[0mvalue\u001b[0m\u001b[1;33m)\u001b[0m\u001b[1;33m\u001b[0m\u001b[1;33m\u001b[0m\u001b[0m\n\u001b[0m\u001b[0;32m   3625\u001b[0m         \u001b[0mself\u001b[0m\u001b[1;33m.\u001b[0m\u001b[0m_clear_item_cache\u001b[0m\u001b[1;33m(\u001b[0m\u001b[1;33m)\u001b[0m\u001b[1;33m\u001b[0m\u001b[1;33m\u001b[0m\u001b[0m\n\u001b[0;32m   3626\u001b[0m \u001b[1;33m\u001b[0m\u001b[0m\n",
      "\u001b[1;32m~\\anaconda3\\lib\\site-packages\\pandas\\core\\internals\\managers.py\u001b[0m in \u001b[0;36mset\u001b[1;34m(self, item, value)\u001b[0m\n\u001b[0;32m   1088\u001b[0m             \u001b[0mblk_locs\u001b[0m \u001b[1;33m=\u001b[0m \u001b[0mblklocs\u001b[0m\u001b[1;33m[\u001b[0m\u001b[0mval_locs\u001b[0m\u001b[1;33m.\u001b[0m\u001b[0mindexer\u001b[0m\u001b[1;33m]\u001b[0m\u001b[1;33m\u001b[0m\u001b[1;33m\u001b[0m\u001b[0m\n\u001b[0;32m   1089\u001b[0m             \u001b[1;32mif\u001b[0m \u001b[0mblk\u001b[0m\u001b[1;33m.\u001b[0m\u001b[0mshould_store\u001b[0m\u001b[1;33m(\u001b[0m\u001b[0mvalue\u001b[0m\u001b[1;33m)\u001b[0m\u001b[1;33m:\u001b[0m\u001b[1;33m\u001b[0m\u001b[1;33m\u001b[0m\u001b[0m\n\u001b[1;32m-> 1090\u001b[1;33m                 \u001b[0mblk\u001b[0m\u001b[1;33m.\u001b[0m\u001b[0mset\u001b[0m\u001b[1;33m(\u001b[0m\u001b[0mblk_locs\u001b[0m\u001b[1;33m,\u001b[0m \u001b[0mvalue_getitem\u001b[0m\u001b[1;33m(\u001b[0m\u001b[0mval_locs\u001b[0m\u001b[1;33m)\u001b[0m\u001b[1;33m)\u001b[0m\u001b[1;33m\u001b[0m\u001b[1;33m\u001b[0m\u001b[0m\n\u001b[0m\u001b[0;32m   1091\u001b[0m             \u001b[1;32melse\u001b[0m\u001b[1;33m:\u001b[0m\u001b[1;33m\u001b[0m\u001b[1;33m\u001b[0m\u001b[0m\n\u001b[0;32m   1092\u001b[0m                 \u001b[0munfit_mgr_locs\u001b[0m\u001b[1;33m.\u001b[0m\u001b[0mappend\u001b[0m\u001b[1;33m(\u001b[0m\u001b[0mblk\u001b[0m\u001b[1;33m.\u001b[0m\u001b[0mmgr_locs\u001b[0m\u001b[1;33m.\u001b[0m\u001b[0mas_array\u001b[0m\u001b[1;33m[\u001b[0m\u001b[0mblk_locs\u001b[0m\u001b[1;33m]\u001b[0m\u001b[1;33m)\u001b[0m\u001b[1;33m\u001b[0m\u001b[1;33m\u001b[0m\u001b[0m\n",
      "\u001b[1;32m~\\anaconda3\\lib\\site-packages\\pandas\\core\\internals\\blocks.py\u001b[0m in \u001b[0;36mset\u001b[1;34m(self, locs, values)\u001b[0m\n\u001b[0;32m    374\u001b[0m         \u001b[1;32mNone\u001b[0m\u001b[1;33m\u001b[0m\u001b[1;33m\u001b[0m\u001b[0m\n\u001b[0;32m    375\u001b[0m         \"\"\"\n\u001b[1;32m--> 376\u001b[1;33m         \u001b[0mself\u001b[0m\u001b[1;33m.\u001b[0m\u001b[0mvalues\u001b[0m\u001b[1;33m[\u001b[0m\u001b[0mlocs\u001b[0m\u001b[1;33m]\u001b[0m \u001b[1;33m=\u001b[0m \u001b[0mvalues\u001b[0m\u001b[1;33m\u001b[0m\u001b[1;33m\u001b[0m\u001b[0m\n\u001b[0m\u001b[0;32m    377\u001b[0m \u001b[1;33m\u001b[0m\u001b[0m\n\u001b[0;32m    378\u001b[0m     \u001b[1;32mdef\u001b[0m \u001b[0mdelete\u001b[0m\u001b[1;33m(\u001b[0m\u001b[0mself\u001b[0m\u001b[1;33m,\u001b[0m \u001b[0mloc\u001b[0m\u001b[1;33m)\u001b[0m\u001b[1;33m:\u001b[0m\u001b[1;33m\u001b[0m\u001b[1;33m\u001b[0m\u001b[0m\n",
      "\u001b[1;31mKeyboardInterrupt\u001b[0m: "
     ]
    }
   ],
   "source": [
    "df_list = []\n",
    "for region_beds in airbnb_df_new.index:\n",
    "    counter = 1 \n",
    "    region_bed_df = airbnb_df_new.loc[region_beds]\n",
    "    region_bed_df.sort_values(\"Date\")\n",
    "    for date in region_bed_df.index:\n",
    "        region_bed_df[\"Num_ABNB_Listings\"] = counter\n",
    "        counter +=1\n",
    "    df_list.append(region_bed_df)\n"
   ]
  },
  {
   "cell_type": "code",
   "execution_count": null,
   "metadata": {},
   "outputs": [],
   "source": [
    "airbnb_df_newer = pd.concat(df_list)"
   ]
  },
  {
   "cell_type": "code",
   "execution_count": 398,
   "metadata": {},
   "outputs": [
    {
     "output_type": "execute_result",
     "data": {
      "text/plain": [
       "        average_rate_per_night  \\\n",
       "Date                             \n",
       "2009-07                    $65   \n",
       "2009-07                    $65   \n",
       "2013-04                    $45   \n",
       "2013-04                    $45   \n",
       "2013-07                    $85   \n",
       "...                        ...   \n",
       "2015-12                    $58   \n",
       "2017-04                    $29   \n",
       "2017-04                    $29   \n",
       "2017-04                    $29   \n",
       "2017-04                    $29   \n",
       "\n",
       "                                         Num_ABNB_Listings  \n",
       "Date                                                        \n",
       "2009-07  <generator object <genexpr> at 0x000001978DE0D...  \n",
       "2009-07  <generator object <genexpr> at 0x000001978DE0D...  \n",
       "2013-04  <generator object <genexpr> at 0x000001978DE0D...  \n",
       "2013-04  <generator object <genexpr> at 0x000001978DE0D...  \n",
       "2013-07  <generator object <genexpr> at 0x000001978DE0D...  \n",
       "...                                                    ...  \n",
       "2015-12  <generator object <genexpr> at 0x000001978DE0D...  \n",
       "2017-04  <generator object <genexpr> at 0x000001978DE0D...  \n",
       "2017-04  <generator object <genexpr> at 0x000001978DE0D...  \n",
       "2017-04  <generator object <genexpr> at 0x000001978DE0D...  \n",
       "2017-04  <generator object <genexpr> at 0x000001978DE0D...  \n",
       "\n",
       "[10328181 rows x 2 columns]"
      ],
      "text/html": "<div>\n<style scoped>\n    .dataframe tbody tr th:only-of-type {\n        vertical-align: middle;\n    }\n\n    .dataframe tbody tr th {\n        vertical-align: top;\n    }\n\n    .dataframe thead th {\n        text-align: right;\n    }\n</style>\n<table border=\"1\" class=\"dataframe\">\n  <thead>\n    <tr style=\"text-align: right;\">\n      <th></th>\n      <th>average_rate_per_night</th>\n      <th>Num_ABNB_Listings</th>\n    </tr>\n    <tr>\n      <th>Date</th>\n      <th></th>\n      <th></th>\n    </tr>\n  </thead>\n  <tbody>\n    <tr>\n      <th>2009-07</th>\n      <td>$65</td>\n      <td>&lt;generator object &lt;genexpr&gt; at 0x000001978DE0D...</td>\n    </tr>\n    <tr>\n      <th>2009-07</th>\n      <td>$65</td>\n      <td>&lt;generator object &lt;genexpr&gt; at 0x000001978DE0D...</td>\n    </tr>\n    <tr>\n      <th>2013-04</th>\n      <td>$45</td>\n      <td>&lt;generator object &lt;genexpr&gt; at 0x000001978DE0D...</td>\n    </tr>\n    <tr>\n      <th>2013-04</th>\n      <td>$45</td>\n      <td>&lt;generator object &lt;genexpr&gt; at 0x000001978DE0D...</td>\n    </tr>\n    <tr>\n      <th>2013-07</th>\n      <td>$85</td>\n      <td>&lt;generator object &lt;genexpr&gt; at 0x000001978DE0D...</td>\n    </tr>\n    <tr>\n      <th>...</th>\n      <td>...</td>\n      <td>...</td>\n    </tr>\n    <tr>\n      <th>2015-12</th>\n      <td>$58</td>\n      <td>&lt;generator object &lt;genexpr&gt; at 0x000001978DE0D...</td>\n    </tr>\n    <tr>\n      <th>2017-04</th>\n      <td>$29</td>\n      <td>&lt;generator object &lt;genexpr&gt; at 0x000001978DE0D...</td>\n    </tr>\n    <tr>\n      <th>2017-04</th>\n      <td>$29</td>\n      <td>&lt;generator object &lt;genexpr&gt; at 0x000001978DE0D...</td>\n    </tr>\n    <tr>\n      <th>2017-04</th>\n      <td>$29</td>\n      <td>&lt;generator object &lt;genexpr&gt; at 0x000001978DE0D...</td>\n    </tr>\n    <tr>\n      <th>2017-04</th>\n      <td>$29</td>\n      <td>&lt;generator object &lt;genexpr&gt; at 0x000001978DE0D...</td>\n    </tr>\n  </tbody>\n</table>\n<p>10328181 rows × 2 columns</p>\n</div>"
     },
     "metadata": {},
     "execution_count": 398
    }
   ],
   "source": [
    "airbnb_df_newer"
   ]
  },
  {
   "cell_type": "code",
   "execution_count": 205,
   "metadata": {},
   "outputs": [],
   "source": [
    "TX_nbhoods_df = pd.concat(df_list,join='inner')\n",
    "counter = 0"
   ]
  },
  {
   "cell_type": "code",
   "execution_count": 206,
   "metadata": {},
   "outputs": [
    {
     "output_type": "execute_result",
     "data": {
      "text/plain": [
       "Empty DataFrame\n",
       "Columns: []\n",
       "Index: [(Abilene, 1, 2018-02), (Abilene, 1, 2018-03), (Abilene, 1, 2018-04), (Abilene, 1, 2018-05), (Abilene, 1, 2018-06), (Abilene, 1, 2018-07), (Abilene, 1, 2018-08), (Abilene, 1, 2018-09), (Abilene, 1, 2018-10), (Abilene, 1, 2018-11), (Abilene, 1, 2018-12), (Abilene, 1, 2019-01), (Abilene, 1, 2019-02), (Abilene, 1, 2019-03), (Abilene, 1, 2019-04), (Abilene, 1, 2019-05), (Abilene, 1, 2019-06), (Abilene, 1, 2019-07), (Abilene, 1, 2019-08), (Abilene, 1, 2019-09), (Abilene, 1, 2019-10), (Abilene, 1, 2019-11), (Abilene, 1, 2019-12), (Abilene, 2, 2017-02), (Abilene, 2, 2017-03), (Abilene, 2, 2017-04), (Abilene, 2, 2017-05), (Abilene, 2, 2017-06), (Abilene, 2, 2017-07), (Abilene, 2, 2017-08), (Abilene, 2, 2017-09), (Abilene, 2, 2017-10), (Abilene, 2, 2017-11), (Abilene, 2, 2017-12), (Abilene, 2, 2018-01), (Abilene, 2, 2018-02), (Abilene, 2, 2018-03), (Abilene, 2, 2018-04), (Abilene, 2, 2018-05), (Abilene, 2, 2018-06), (Abilene, 2, 2018-07), (Abilene, 2, 2018-08), (Abilene, 2, 2018-09), (Abilene, 2, 2018-10), (Abilene, 2, 2018-11), (Abilene, 2, 2018-12), (Abilene, 2, 2019-01), (Abilene, 2, 2019-02), (Abilene, 2, 2019-03), (Abilene, 2, 2019-04), (Abilene, 2, 2019-05), (Abilene, 2, 2019-06), (Abilene, 2, 2019-07), (Abilene, 2, 2019-08), (Abilene, 2, 2019-09), (Abilene, 2, 2019-10), (Abilene, 2, 2019-11), (Abilene, 2, 2019-12), (Abilene, 3, 2016-11), (Abilene, 3, 2016-12), (Abilene, 3, 2017-01), (Abilene, 3, 2017-02), (Abilene, 3, 2017-03), (Abilene, 3, 2017-04), (Abilene, 3, 2017-05), (Abilene, 3, 2017-06), (Abilene, 3, 2017-07), (Abilene, 3, 2017-08), (Abilene, 3, 2017-09), (Abilene, 3, 2017-10), (Abilene, 3, 2017-11), (Abilene, 3, 2017-12), (Abilene, 3, 2018-01), (Abilene, 3, 2018-02), (Abilene, 3, 2018-03), (Abilene, 3, 2018-04), (Abilene, 3, 2018-05), (Abilene, 3, 2018-06), (Abilene, 3, 2018-07), (Abilene, 3, 2018-08), (Abilene, 3, 2018-09), (Abilene, 3, 2018-10), (Abilene, 3, 2018-11), (Abilene, 3, 2018-12), (Abilene, 3, 2019-01), (Abilene, 3, 2019-02), (Abilene, 3, 2019-03), (Abilene, 3, 2019-04), (Abilene, 3, 2019-05), (Abilene, 3, 2019-06), (Abilene, 3, 2019-07), (Abilene, 3, 2019-08), (Abilene, 3, 2019-09), (Abilene, 3, 2019-10), (Abilene, 3, 2019-11), (Abilene, 3, 2019-12), (Abilene, 1, 2009-07), (Abilene, 1, 2009-07), (Abilene, 1, 2013-04), (Abilene, 1, 2013-04), ...]\n",
       "\n",
       "[32342 rows x 0 columns]"
      ],
      "text/html": "<div>\n<style scoped>\n    .dataframe tbody tr th:only-of-type {\n        vertical-align: middle;\n    }\n\n    .dataframe tbody tr th {\n        vertical-align: top;\n    }\n\n    .dataframe thead th {\n        text-align: right;\n    }\n</style>\n<table border=\"1\" class=\"dataframe\">\n  <thead>\n    <tr style=\"text-align: right;\">\n      <th></th>\n      <th></th>\n      <th></th>\n    </tr>\n    <tr>\n      <th>RegionName</th>\n      <th>Bedrooms</th>\n      <th>Date</th>\n    </tr>\n  </thead>\n  <tbody>\n    <tr>\n      <th rowspan=\"5\" valign=\"top\">Abilene</th>\n      <th rowspan=\"5\" valign=\"top\">1</th>\n      <th>2018-02</th>\n    </tr>\n    <tr>\n      <th>2018-03</th>\n    </tr>\n    <tr>\n      <th>2018-04</th>\n    </tr>\n    <tr>\n      <th>2018-05</th>\n    </tr>\n    <tr>\n      <th>2018-06</th>\n    </tr>\n    <tr>\n      <th>...</th>\n      <th>...</th>\n      <th>...</th>\n    </tr>\n    <tr>\n      <th>keller</th>\n      <th>2</th>\n      <th>2015-01</th>\n    </tr>\n    <tr>\n      <th rowspan=\"2\" valign=\"top\">诺斯莱克</th>\n      <th rowspan=\"2\" valign=\"top\">2</th>\n      <th>2015-12</th>\n    </tr>\n    <tr>\n      <th>2015-12</th>\n    </tr>\n    <tr>\n      <th rowspan=\"2\" valign=\"top\">阿纳瓦克</th>\n      <th rowspan=\"2\" valign=\"top\">1</th>\n      <th>2017-04</th>\n    </tr>\n    <tr>\n      <th>2017-04</th>\n    </tr>\n  </tbody>\n</table>\n<p>32342 rows × 0 columns</p>\n</div>"
     },
     "metadata": {},
     "execution_count": 206
    }
   ],
   "source": [
    "TX_df = multi_index_data(TX_nbhoods_df)\n",
    "TX_df"
   ]
  },
  {
   "cell_type": "code",
   "execution_count": 145,
   "metadata": {},
   "outputs": [
    {
     "output_type": "error",
     "ename": "KeyError",
     "evalue": "\"The following 'id_vars' are not present in the DataFrame: ['Region_ID']\"",
     "traceback": [
      "\u001b[1;31m---------------------------------------------------------------------------\u001b[0m",
      "\u001b[1;31mKeyError\u001b[0m                                  Traceback (most recent call last)",
      "\u001b[1;32m<ipython-input-145-a274042d8539>\u001b[0m in \u001b[0;36m<module>\u001b[1;34m\u001b[0m\n\u001b[0;32m      1\u001b[0m housing_df= housing_df.melt(id_vars=[\"Region_ID\", \"Bedrooms\"], \n\u001b[0;32m      2\u001b[0m         \u001b[0mvar_name\u001b[0m\u001b[1;33m=\u001b[0m\u001b[1;34m\"Date\"\u001b[0m\u001b[1;33m,\u001b[0m\u001b[1;33m\u001b[0m\u001b[1;33m\u001b[0m\u001b[0m\n\u001b[1;32m----> 3\u001b[1;33m         value_name=\"Median_Rent\")\n\u001b[0m\u001b[0;32m      4\u001b[0m \u001b[0mhousing_df\u001b[0m\u001b[1;33m.\u001b[0m\u001b[0mdropna\u001b[0m\u001b[1;33m(\u001b[0m\u001b[0minplace\u001b[0m\u001b[1;33m=\u001b[0m\u001b[1;32mTrue\u001b[0m\u001b[1;33m)\u001b[0m\u001b[1;33m\u001b[0m\u001b[1;33m\u001b[0m\u001b[0m\n\u001b[0;32m      5\u001b[0m \u001b[0mhousing_df\u001b[0m\u001b[1;33m\u001b[0m\u001b[1;33m\u001b[0m\u001b[0m\n",
      "\u001b[1;32m~\\anaconda3\\lib\\site-packages\\pandas\\core\\frame.py\u001b[0m in \u001b[0;36mmelt\u001b[1;34m(self, id_vars, value_vars, var_name, value_name, col_level)\u001b[0m\n\u001b[0;32m   6504\u001b[0m             \u001b[0mvar_name\u001b[0m\u001b[1;33m=\u001b[0m\u001b[0mvar_name\u001b[0m\u001b[1;33m,\u001b[0m\u001b[1;33m\u001b[0m\u001b[1;33m\u001b[0m\u001b[0m\n\u001b[0;32m   6505\u001b[0m             \u001b[0mvalue_name\u001b[0m\u001b[1;33m=\u001b[0m\u001b[0mvalue_name\u001b[0m\u001b[1;33m,\u001b[0m\u001b[1;33m\u001b[0m\u001b[1;33m\u001b[0m\u001b[0m\n\u001b[1;32m-> 6506\u001b[1;33m             \u001b[0mcol_level\u001b[0m\u001b[1;33m=\u001b[0m\u001b[0mcol_level\u001b[0m\u001b[1;33m,\u001b[0m\u001b[1;33m\u001b[0m\u001b[1;33m\u001b[0m\u001b[0m\n\u001b[0m\u001b[0;32m   6507\u001b[0m         )\n\u001b[0;32m   6508\u001b[0m \u001b[1;33m\u001b[0m\u001b[0m\n",
      "\u001b[1;32m~\\anaconda3\\lib\\site-packages\\pandas\\core\\reshape\\melt.py\u001b[0m in \u001b[0;36mmelt\u001b[1;34m(frame, id_vars, value_vars, var_name, value_name, col_level)\u001b[0m\n\u001b[0;32m     54\u001b[0m                     \u001b[1;34m\"The following 'id_vars' are not present \"\u001b[0m\u001b[1;33m\u001b[0m\u001b[1;33m\u001b[0m\u001b[0m\n\u001b[0;32m     55\u001b[0m                     \u001b[1;34m\"in the DataFrame: {missing}\"\u001b[0m\u001b[1;33m\u001b[0m\u001b[1;33m\u001b[0m\u001b[0m\n\u001b[1;32m---> 56\u001b[1;33m                     \u001b[1;34m\"\"\u001b[0m\u001b[1;33m.\u001b[0m\u001b[0mformat\u001b[0m\u001b[1;33m(\u001b[0m\u001b[0mmissing\u001b[0m\u001b[1;33m=\u001b[0m\u001b[0mlist\u001b[0m\u001b[1;33m(\u001b[0m\u001b[0mmissing\u001b[0m\u001b[1;33m)\u001b[0m\u001b[1;33m)\u001b[0m\u001b[1;33m\u001b[0m\u001b[1;33m\u001b[0m\u001b[0m\n\u001b[0m\u001b[0;32m     57\u001b[0m                 )\n\u001b[0;32m     58\u001b[0m     \u001b[1;32melse\u001b[0m\u001b[1;33m:\u001b[0m\u001b[1;33m\u001b[0m\u001b[1;33m\u001b[0m\u001b[0m\n",
      "\u001b[1;31mKeyError\u001b[0m: \"The following 'id_vars' are not present in the DataFrame: ['Region_ID']\""
     ]
    }
   ],
   "source": [
    "housing_df= housing_df.melt(id_vars=[\"Region_ID\", \"Bedrooms\"], \n",
    "        var_name=\"Date\", \n",
    "        value_name=\"Median_Rent\")\n",
    "housing_df.dropna(inplace=True)\n",
    "housing_df"
   ]
  },
  {
   "cell_type": "code",
   "execution_count": 97,
   "metadata": {},
   "outputs": [
    {
     "output_type": "execute_result",
     "data": {
      "text/plain": [
       "                            Median_Rent\n",
       "Region_ID Bedrooms Date                \n",
       "10        3        2010-03       1300.0\n",
       "                   2010-04       1297.5\n",
       "                   2010-05       1500.0\n",
       "                   2010-06       1500.0\n",
       "                   2010-07       1310.0\n",
       "...                                 ...\n",
       "288       4        2019-12       1950.0\n",
       "292       4        2019-12       1912.5\n",
       "294       4        2019-12       1800.0\n",
       "298       4        2019-12       1547.5\n",
       "309       4        2019-12       2275.0\n",
       "\n",
       "[14083 rows x 1 columns]"
      ],
      "text/html": "<div>\n<style scoped>\n    .dataframe tbody tr th:only-of-type {\n        vertical-align: middle;\n    }\n\n    .dataframe tbody tr th {\n        vertical-align: top;\n    }\n\n    .dataframe thead th {\n        text-align: right;\n    }\n</style>\n<table border=\"1\" class=\"dataframe\">\n  <thead>\n    <tr style=\"text-align: right;\">\n      <th></th>\n      <th></th>\n      <th></th>\n      <th>Median_Rent</th>\n    </tr>\n    <tr>\n      <th>Region_ID</th>\n      <th>Bedrooms</th>\n      <th>Date</th>\n      <th></th>\n    </tr>\n  </thead>\n  <tbody>\n    <tr>\n      <th rowspan=\"5\" valign=\"top\">10</th>\n      <th rowspan=\"5\" valign=\"top\">3</th>\n      <th>2010-03</th>\n      <td>1300.0</td>\n    </tr>\n    <tr>\n      <th>2010-04</th>\n      <td>1297.5</td>\n    </tr>\n    <tr>\n      <th>2010-05</th>\n      <td>1500.0</td>\n    </tr>\n    <tr>\n      <th>2010-06</th>\n      <td>1500.0</td>\n    </tr>\n    <tr>\n      <th>2010-07</th>\n      <td>1310.0</td>\n    </tr>\n    <tr>\n      <th>...</th>\n      <th>...</th>\n      <th>...</th>\n      <td>...</td>\n    </tr>\n    <tr>\n      <th>288</th>\n      <th>4</th>\n      <th>2019-12</th>\n      <td>1950.0</td>\n    </tr>\n    <tr>\n      <th>292</th>\n      <th>4</th>\n      <th>2019-12</th>\n      <td>1912.5</td>\n    </tr>\n    <tr>\n      <th>294</th>\n      <th>4</th>\n      <th>2019-12</th>\n      <td>1800.0</td>\n    </tr>\n    <tr>\n      <th>298</th>\n      <th>4</th>\n      <th>2019-12</th>\n      <td>1547.5</td>\n    </tr>\n    <tr>\n      <th>309</th>\n      <th>4</th>\n      <th>2019-12</th>\n      <td>2275.0</td>\n    </tr>\n  </tbody>\n</table>\n<p>14083 rows × 1 columns</p>\n</div>"
     },
     "metadata": {},
     "execution_count": 97
    }
   ],
   "source": [
    "housing_df"
   ]
  },
  {
   "cell_type": "code",
   "execution_count": 99,
   "metadata": {},
   "outputs": [],
   "source": [
    "housing_df.to_csv('../Data/median_rents_multi_indexed.csv')"
   ]
  },
  {
   "cell_type": "code",
   "execution_count": null,
   "metadata": {},
   "outputs": [],
   "source": []
  }
 ]
}