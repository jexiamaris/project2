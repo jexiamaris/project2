{
 "metadata": {
  "language_info": {
   "codemirror_mode": {
    "name": "ipython",
    "version": 3
   },
   "file_extension": ".py",
   "mimetype": "text/x-python",
   "name": "python",
   "nbconvert_exporter": "python",
   "pygments_lexer": "ipython3",
   "version": "3.7.6-final"
  },
  "orig_nbformat": 2,
  "kernelspec": {
   "name": "python3",
   "display_name": "Python 3",
   "language": "python"
  }
 },
 "nbformat": 4,
 "nbformat_minor": 2,
 "cells": [
  {
   "cell_type": "code",
   "execution_count": 90,
   "metadata": {},
   "outputs": [],
   "source": [
    "import random\n",
    "from random import choices\n",
    "import pandas as pd\n",
    "import numpy as np\n",
    "from pathlib import Path"
   ]
  },
  {
   "cell_type": "code",
   "execution_count": 91,
   "metadata": {},
   "outputs": [
    {
     "output_type": "execute_result",
     "data": {
      "text/plain": [
       "     Region_ID   RegionName State                             Metro  \\\n",
       "0            2      Houston    TX  Houston-The Woodlands-Sugar Land   \n",
       "1            4  San Antonio    TX         San Antonio-New Braunfels   \n",
       "2            9       Dallas    TX       Dallas-Fort Worth-Arlington   \n",
       "3           10       Austin    TX                 Austin-Round Rock   \n",
       "4           16   Fort Worth    TX       Dallas-Fort Worth-Arlington   \n",
       "..         ...          ...   ...                               ...   \n",
       "250          6       Austin    TX                 Austin-Round Rock   \n",
       "251         10   Fort Worth    TX       Dallas-Fort Worth-Arlington   \n",
       "252         25        Plano    TX       Dallas-Fort Worth-Arlington   \n",
       "253         32   Sugar Land    TX  Houston-The Woodlands-Sugar Land   \n",
       "254         34       Frisco    TX       Dallas-Fort Worth-Arlington   \n",
       "\n",
       "           CountyName  Bedrooms  2010-02  2010-03  2010-04  2010-05  ...  \\\n",
       "0       Harris County         1      NaN      NaN      NaN      NaN  ...   \n",
       "1        Bexar County         1      NaN      NaN      NaN      NaN  ...   \n",
       "2       Dallas County         1      NaN      NaN      NaN      NaN  ...   \n",
       "3       Travis County         1      NaN      NaN      NaN      NaN  ...   \n",
       "4      Tarrant County         1      NaN      NaN      NaN      NaN  ...   \n",
       "..                ...       ...      ...      ...      ...      ...  ...   \n",
       "250     Travis County         5      NaN      NaN      NaN      NaN  ...   \n",
       "251    Tarrant County         5      NaN      NaN      NaN      NaN  ...   \n",
       "252     Collin County         5      NaN      NaN      NaN      NaN  ...   \n",
       "253  Fort Bend County         5      NaN      NaN      NaN      NaN  ...   \n",
       "254     Collin County         5      NaN      NaN      NaN      NaN  ...   \n",
       "\n",
       "     2019-03  2019-04  2019-05  2019-06  2019-07  2019-08  2019-09  2019-10  \\\n",
       "0     1265.0   1270.0   1269.0   1286.0   1275.0   1275.0   1270.0   1264.0   \n",
       "1      985.0    981.0    985.0    999.0   1000.0   1000.0    991.0    985.0   \n",
       "2     1376.0   1375.0   1375.0   1360.0   1355.0   1330.0   1335.0   1340.0   \n",
       "3     1278.0   1319.0   1350.0   1350.0   1349.0   1350.0   1350.0   1345.0   \n",
       "4     1345.0   1350.0   1344.0   1300.0   1293.0   1280.0   1266.0   1250.0   \n",
       "..       ...      ...      ...      ...      ...      ...      ...      ...   \n",
       "250      NaN      NaN      NaN      NaN      NaN      NaN      NaN      NaN   \n",
       "251      NaN      NaN      NaN      NaN      NaN      NaN      NaN      NaN   \n",
       "252      NaN      NaN      NaN      NaN      NaN      NaN      NaN      NaN   \n",
       "253      NaN      NaN      NaN      NaN      NaN      NaN      NaN      NaN   \n",
       "254      NaN      NaN      NaN      NaN      NaN      NaN      NaN      NaN   \n",
       "\n",
       "     2019-11  2019-12  \n",
       "0     1245.0   1249.0  \n",
       "1      974.5    967.5  \n",
       "2     1330.0   1340.0  \n",
       "3     1345.0   1340.0  \n",
       "4     1250.0   1260.0  \n",
       "..       ...      ...  \n",
       "250      NaN      NaN  \n",
       "251      NaN      NaN  \n",
       "252      NaN      NaN  \n",
       "253      NaN      NaN  \n",
       "254      NaN      NaN  \n",
       "\n",
       "[255 rows x 125 columns]"
      ],
      "text/html": "<div>\n<style scoped>\n    .dataframe tbody tr th:only-of-type {\n        vertical-align: middle;\n    }\n\n    .dataframe tbody tr th {\n        vertical-align: top;\n    }\n\n    .dataframe thead th {\n        text-align: right;\n    }\n</style>\n<table border=\"1\" class=\"dataframe\">\n  <thead>\n    <tr style=\"text-align: right;\">\n      <th></th>\n      <th>Region_ID</th>\n      <th>RegionName</th>\n      <th>State</th>\n      <th>Metro</th>\n      <th>CountyName</th>\n      <th>Bedrooms</th>\n      <th>2010-02</th>\n      <th>2010-03</th>\n      <th>2010-04</th>\n      <th>2010-05</th>\n      <th>...</th>\n      <th>2019-03</th>\n      <th>2019-04</th>\n      <th>2019-05</th>\n      <th>2019-06</th>\n      <th>2019-07</th>\n      <th>2019-08</th>\n      <th>2019-09</th>\n      <th>2019-10</th>\n      <th>2019-11</th>\n      <th>2019-12</th>\n    </tr>\n  </thead>\n  <tbody>\n    <tr>\n      <th>0</th>\n      <td>2</td>\n      <td>Houston</td>\n      <td>TX</td>\n      <td>Houston-The Woodlands-Sugar Land</td>\n      <td>Harris County</td>\n      <td>1</td>\n      <td>NaN</td>\n      <td>NaN</td>\n      <td>NaN</td>\n      <td>NaN</td>\n      <td>...</td>\n      <td>1265.0</td>\n      <td>1270.0</td>\n      <td>1269.0</td>\n      <td>1286.0</td>\n      <td>1275.0</td>\n      <td>1275.0</td>\n      <td>1270.0</td>\n      <td>1264.0</td>\n      <td>1245.0</td>\n      <td>1249.0</td>\n    </tr>\n    <tr>\n      <th>1</th>\n      <td>4</td>\n      <td>San Antonio</td>\n      <td>TX</td>\n      <td>San Antonio-New Braunfels</td>\n      <td>Bexar County</td>\n      <td>1</td>\n      <td>NaN</td>\n      <td>NaN</td>\n      <td>NaN</td>\n      <td>NaN</td>\n      <td>...</td>\n      <td>985.0</td>\n      <td>981.0</td>\n      <td>985.0</td>\n      <td>999.0</td>\n      <td>1000.0</td>\n      <td>1000.0</td>\n      <td>991.0</td>\n      <td>985.0</td>\n      <td>974.5</td>\n      <td>967.5</td>\n    </tr>\n    <tr>\n      <th>2</th>\n      <td>9</td>\n      <td>Dallas</td>\n      <td>TX</td>\n      <td>Dallas-Fort Worth-Arlington</td>\n      <td>Dallas County</td>\n      <td>1</td>\n      <td>NaN</td>\n      <td>NaN</td>\n      <td>NaN</td>\n      <td>NaN</td>\n      <td>...</td>\n      <td>1376.0</td>\n      <td>1375.0</td>\n      <td>1375.0</td>\n      <td>1360.0</td>\n      <td>1355.0</td>\n      <td>1330.0</td>\n      <td>1335.0</td>\n      <td>1340.0</td>\n      <td>1330.0</td>\n      <td>1340.0</td>\n    </tr>\n    <tr>\n      <th>3</th>\n      <td>10</td>\n      <td>Austin</td>\n      <td>TX</td>\n      <td>Austin-Round Rock</td>\n      <td>Travis County</td>\n      <td>1</td>\n      <td>NaN</td>\n      <td>NaN</td>\n      <td>NaN</td>\n      <td>NaN</td>\n      <td>...</td>\n      <td>1278.0</td>\n      <td>1319.0</td>\n      <td>1350.0</td>\n      <td>1350.0</td>\n      <td>1349.0</td>\n      <td>1350.0</td>\n      <td>1350.0</td>\n      <td>1345.0</td>\n      <td>1345.0</td>\n      <td>1340.0</td>\n    </tr>\n    <tr>\n      <th>4</th>\n      <td>16</td>\n      <td>Fort Worth</td>\n      <td>TX</td>\n      <td>Dallas-Fort Worth-Arlington</td>\n      <td>Tarrant County</td>\n      <td>1</td>\n      <td>NaN</td>\n      <td>NaN</td>\n      <td>NaN</td>\n      <td>NaN</td>\n      <td>...</td>\n      <td>1345.0</td>\n      <td>1350.0</td>\n      <td>1344.0</td>\n      <td>1300.0</td>\n      <td>1293.0</td>\n      <td>1280.0</td>\n      <td>1266.0</td>\n      <td>1250.0</td>\n      <td>1250.0</td>\n      <td>1260.0</td>\n    </tr>\n    <tr>\n      <th>...</th>\n      <td>...</td>\n      <td>...</td>\n      <td>...</td>\n      <td>...</td>\n      <td>...</td>\n      <td>...</td>\n      <td>...</td>\n      <td>...</td>\n      <td>...</td>\n      <td>...</td>\n      <td>...</td>\n      <td>...</td>\n      <td>...</td>\n      <td>...</td>\n      <td>...</td>\n      <td>...</td>\n      <td>...</td>\n      <td>...</td>\n      <td>...</td>\n      <td>...</td>\n      <td>...</td>\n    </tr>\n    <tr>\n      <th>250</th>\n      <td>6</td>\n      <td>Austin</td>\n      <td>TX</td>\n      <td>Austin-Round Rock</td>\n      <td>Travis County</td>\n      <td>5</td>\n      <td>NaN</td>\n      <td>NaN</td>\n      <td>NaN</td>\n      <td>NaN</td>\n      <td>...</td>\n      <td>NaN</td>\n      <td>NaN</td>\n      <td>NaN</td>\n      <td>NaN</td>\n      <td>NaN</td>\n      <td>NaN</td>\n      <td>NaN</td>\n      <td>NaN</td>\n      <td>NaN</td>\n      <td>NaN</td>\n    </tr>\n    <tr>\n      <th>251</th>\n      <td>10</td>\n      <td>Fort Worth</td>\n      <td>TX</td>\n      <td>Dallas-Fort Worth-Arlington</td>\n      <td>Tarrant County</td>\n      <td>5</td>\n      <td>NaN</td>\n      <td>NaN</td>\n      <td>NaN</td>\n      <td>NaN</td>\n      <td>...</td>\n      <td>NaN</td>\n      <td>NaN</td>\n      <td>NaN</td>\n      <td>NaN</td>\n      <td>NaN</td>\n      <td>NaN</td>\n      <td>NaN</td>\n      <td>NaN</td>\n      <td>NaN</td>\n      <td>NaN</td>\n    </tr>\n    <tr>\n      <th>252</th>\n      <td>25</td>\n      <td>Plano</td>\n      <td>TX</td>\n      <td>Dallas-Fort Worth-Arlington</td>\n      <td>Collin County</td>\n      <td>5</td>\n      <td>NaN</td>\n      <td>NaN</td>\n      <td>NaN</td>\n      <td>NaN</td>\n      <td>...</td>\n      <td>NaN</td>\n      <td>NaN</td>\n      <td>NaN</td>\n      <td>NaN</td>\n      <td>NaN</td>\n      <td>NaN</td>\n      <td>NaN</td>\n      <td>NaN</td>\n      <td>NaN</td>\n      <td>NaN</td>\n    </tr>\n    <tr>\n      <th>253</th>\n      <td>32</td>\n      <td>Sugar Land</td>\n      <td>TX</td>\n      <td>Houston-The Woodlands-Sugar Land</td>\n      <td>Fort Bend County</td>\n      <td>5</td>\n      <td>NaN</td>\n      <td>NaN</td>\n      <td>NaN</td>\n      <td>NaN</td>\n      <td>...</td>\n      <td>NaN</td>\n      <td>NaN</td>\n      <td>NaN</td>\n      <td>NaN</td>\n      <td>NaN</td>\n      <td>NaN</td>\n      <td>NaN</td>\n      <td>NaN</td>\n      <td>NaN</td>\n      <td>NaN</td>\n    </tr>\n    <tr>\n      <th>254</th>\n      <td>34</td>\n      <td>Frisco</td>\n      <td>TX</td>\n      <td>Dallas-Fort Worth-Arlington</td>\n      <td>Collin County</td>\n      <td>5</td>\n      <td>NaN</td>\n      <td>NaN</td>\n      <td>NaN</td>\n      <td>NaN</td>\n      <td>...</td>\n      <td>NaN</td>\n      <td>NaN</td>\n      <td>NaN</td>\n      <td>NaN</td>\n      <td>NaN</td>\n      <td>NaN</td>\n      <td>NaN</td>\n      <td>NaN</td>\n      <td>NaN</td>\n      <td>NaN</td>\n    </tr>\n  </tbody>\n</table>\n<p>255 rows × 125 columns</p>\n</div>"
     },
     "metadata": {},
     "execution_count": 91
    }
   ],
   "source": [
    "# Load data\n",
    "housing_data = pd.read_csv(\"raw_data/rental_prices_bybedrooms_and_city.csv\")\n",
    "housing_df = pd.DataFrame(housing_data)\n",
    "housing_df = housing_df.rename(columns={'Unnamed: 0':\"Region_ID\",'Bedroom':'Bedrooms'})\n",
    "housing_df"
   ]
  },
  {
   "cell_type": "code",
   "execution_count": 92,
   "metadata": {},
   "outputs": [
    {
     "output_type": "execute_result",
     "data": {
      "text/plain": [
       "     Region_ID  Bedrooms  2010-02  2010-03  2010-04  2010-05  2010-06  \\\n",
       "0            2         1      NaN      NaN      NaN      NaN      NaN   \n",
       "1            4         1      NaN      NaN      NaN      NaN      NaN   \n",
       "2            9         1      NaN      NaN      NaN      NaN      NaN   \n",
       "3           10         1      NaN      NaN      NaN      NaN      NaN   \n",
       "4           16         1      NaN      NaN      NaN      NaN      NaN   \n",
       "..         ...       ...      ...      ...      ...      ...      ...   \n",
       "250          6         5      NaN      NaN      NaN      NaN      NaN   \n",
       "251         10         5      NaN      NaN      NaN      NaN      NaN   \n",
       "252         25         5      NaN      NaN      NaN      NaN      NaN   \n",
       "253         32         5      NaN      NaN      NaN      NaN      NaN   \n",
       "254         34         5      NaN      NaN      NaN      NaN      NaN   \n",
       "\n",
       "     2010-07  2010-08  2010-09  ...  2019-03  2019-04  2019-05  2019-06  \\\n",
       "0        NaN      NaN      NaN  ...   1265.0   1270.0   1269.0   1286.0   \n",
       "1        NaN      NaN      NaN  ...    985.0    981.0    985.0    999.0   \n",
       "2        NaN      NaN      NaN  ...   1376.0   1375.0   1375.0   1360.0   \n",
       "3        NaN      NaN      NaN  ...   1278.0   1319.0   1350.0   1350.0   \n",
       "4        NaN      NaN      NaN  ...   1345.0   1350.0   1344.0   1300.0   \n",
       "..       ...      ...      ...  ...      ...      ...      ...      ...   \n",
       "250      NaN      NaN      NaN  ...      NaN      NaN      NaN      NaN   \n",
       "251      NaN      NaN      NaN  ...      NaN      NaN      NaN      NaN   \n",
       "252      NaN      NaN      NaN  ...      NaN      NaN      NaN      NaN   \n",
       "253      NaN      NaN      NaN  ...      NaN      NaN      NaN      NaN   \n",
       "254      NaN      NaN      NaN  ...      NaN      NaN      NaN      NaN   \n",
       "\n",
       "     2019-07  2019-08  2019-09  2019-10  2019-11  2019-12  \n",
       "0     1275.0   1275.0   1270.0   1264.0   1245.0   1249.0  \n",
       "1     1000.0   1000.0    991.0    985.0    974.5    967.5  \n",
       "2     1355.0   1330.0   1335.0   1340.0   1330.0   1340.0  \n",
       "3     1349.0   1350.0   1350.0   1345.0   1345.0   1340.0  \n",
       "4     1293.0   1280.0   1266.0   1250.0   1250.0   1260.0  \n",
       "..       ...      ...      ...      ...      ...      ...  \n",
       "250      NaN      NaN      NaN      NaN      NaN      NaN  \n",
       "251      NaN      NaN      NaN      NaN      NaN      NaN  \n",
       "252      NaN      NaN      NaN      NaN      NaN      NaN  \n",
       "253      NaN      NaN      NaN      NaN      NaN      NaN  \n",
       "254      NaN      NaN      NaN      NaN      NaN      NaN  \n",
       "\n",
       "[255 rows x 121 columns]"
      ],
      "text/html": "<div>\n<style scoped>\n    .dataframe tbody tr th:only-of-type {\n        vertical-align: middle;\n    }\n\n    .dataframe tbody tr th {\n        vertical-align: top;\n    }\n\n    .dataframe thead th {\n        text-align: right;\n    }\n</style>\n<table border=\"1\" class=\"dataframe\">\n  <thead>\n    <tr style=\"text-align: right;\">\n      <th></th>\n      <th>Region_ID</th>\n      <th>Bedrooms</th>\n      <th>2010-02</th>\n      <th>2010-03</th>\n      <th>2010-04</th>\n      <th>2010-05</th>\n      <th>2010-06</th>\n      <th>2010-07</th>\n      <th>2010-08</th>\n      <th>2010-09</th>\n      <th>...</th>\n      <th>2019-03</th>\n      <th>2019-04</th>\n      <th>2019-05</th>\n      <th>2019-06</th>\n      <th>2019-07</th>\n      <th>2019-08</th>\n      <th>2019-09</th>\n      <th>2019-10</th>\n      <th>2019-11</th>\n      <th>2019-12</th>\n    </tr>\n  </thead>\n  <tbody>\n    <tr>\n      <th>0</th>\n      <td>2</td>\n      <td>1</td>\n      <td>NaN</td>\n      <td>NaN</td>\n      <td>NaN</td>\n      <td>NaN</td>\n      <td>NaN</td>\n      <td>NaN</td>\n      <td>NaN</td>\n      <td>NaN</td>\n      <td>...</td>\n      <td>1265.0</td>\n      <td>1270.0</td>\n      <td>1269.0</td>\n      <td>1286.0</td>\n      <td>1275.0</td>\n      <td>1275.0</td>\n      <td>1270.0</td>\n      <td>1264.0</td>\n      <td>1245.0</td>\n      <td>1249.0</td>\n    </tr>\n    <tr>\n      <th>1</th>\n      <td>4</td>\n      <td>1</td>\n      <td>NaN</td>\n      <td>NaN</td>\n      <td>NaN</td>\n      <td>NaN</td>\n      <td>NaN</td>\n      <td>NaN</td>\n      <td>NaN</td>\n      <td>NaN</td>\n      <td>...</td>\n      <td>985.0</td>\n      <td>981.0</td>\n      <td>985.0</td>\n      <td>999.0</td>\n      <td>1000.0</td>\n      <td>1000.0</td>\n      <td>991.0</td>\n      <td>985.0</td>\n      <td>974.5</td>\n      <td>967.5</td>\n    </tr>\n    <tr>\n      <th>2</th>\n      <td>9</td>\n      <td>1</td>\n      <td>NaN</td>\n      <td>NaN</td>\n      <td>NaN</td>\n      <td>NaN</td>\n      <td>NaN</td>\n      <td>NaN</td>\n      <td>NaN</td>\n      <td>NaN</td>\n      <td>...</td>\n      <td>1376.0</td>\n      <td>1375.0</td>\n      <td>1375.0</td>\n      <td>1360.0</td>\n      <td>1355.0</td>\n      <td>1330.0</td>\n      <td>1335.0</td>\n      <td>1340.0</td>\n      <td>1330.0</td>\n      <td>1340.0</td>\n    </tr>\n    <tr>\n      <th>3</th>\n      <td>10</td>\n      <td>1</td>\n      <td>NaN</td>\n      <td>NaN</td>\n      <td>NaN</td>\n      <td>NaN</td>\n      <td>NaN</td>\n      <td>NaN</td>\n      <td>NaN</td>\n      <td>NaN</td>\n      <td>...</td>\n      <td>1278.0</td>\n      <td>1319.0</td>\n      <td>1350.0</td>\n      <td>1350.0</td>\n      <td>1349.0</td>\n      <td>1350.0</td>\n      <td>1350.0</td>\n      <td>1345.0</td>\n      <td>1345.0</td>\n      <td>1340.0</td>\n    </tr>\n    <tr>\n      <th>4</th>\n      <td>16</td>\n      <td>1</td>\n      <td>NaN</td>\n      <td>NaN</td>\n      <td>NaN</td>\n      <td>NaN</td>\n      <td>NaN</td>\n      <td>NaN</td>\n      <td>NaN</td>\n      <td>NaN</td>\n      <td>...</td>\n      <td>1345.0</td>\n      <td>1350.0</td>\n      <td>1344.0</td>\n      <td>1300.0</td>\n      <td>1293.0</td>\n      <td>1280.0</td>\n      <td>1266.0</td>\n      <td>1250.0</td>\n      <td>1250.0</td>\n      <td>1260.0</td>\n    </tr>\n    <tr>\n      <th>...</th>\n      <td>...</td>\n      <td>...</td>\n      <td>...</td>\n      <td>...</td>\n      <td>...</td>\n      <td>...</td>\n      <td>...</td>\n      <td>...</td>\n      <td>...</td>\n      <td>...</td>\n      <td>...</td>\n      <td>...</td>\n      <td>...</td>\n      <td>...</td>\n      <td>...</td>\n      <td>...</td>\n      <td>...</td>\n      <td>...</td>\n      <td>...</td>\n      <td>...</td>\n      <td>...</td>\n    </tr>\n    <tr>\n      <th>250</th>\n      <td>6</td>\n      <td>5</td>\n      <td>NaN</td>\n      <td>NaN</td>\n      <td>NaN</td>\n      <td>NaN</td>\n      <td>NaN</td>\n      <td>NaN</td>\n      <td>NaN</td>\n      <td>NaN</td>\n      <td>...</td>\n      <td>NaN</td>\n      <td>NaN</td>\n      <td>NaN</td>\n      <td>NaN</td>\n      <td>NaN</td>\n      <td>NaN</td>\n      <td>NaN</td>\n      <td>NaN</td>\n      <td>NaN</td>\n      <td>NaN</td>\n    </tr>\n    <tr>\n      <th>251</th>\n      <td>10</td>\n      <td>5</td>\n      <td>NaN</td>\n      <td>NaN</td>\n      <td>NaN</td>\n      <td>NaN</td>\n      <td>NaN</td>\n      <td>NaN</td>\n      <td>NaN</td>\n      <td>NaN</td>\n      <td>...</td>\n      <td>NaN</td>\n      <td>NaN</td>\n      <td>NaN</td>\n      <td>NaN</td>\n      <td>NaN</td>\n      <td>NaN</td>\n      <td>NaN</td>\n      <td>NaN</td>\n      <td>NaN</td>\n      <td>NaN</td>\n    </tr>\n    <tr>\n      <th>252</th>\n      <td>25</td>\n      <td>5</td>\n      <td>NaN</td>\n      <td>NaN</td>\n      <td>NaN</td>\n      <td>NaN</td>\n      <td>NaN</td>\n      <td>NaN</td>\n      <td>NaN</td>\n      <td>NaN</td>\n      <td>...</td>\n      <td>NaN</td>\n      <td>NaN</td>\n      <td>NaN</td>\n      <td>NaN</td>\n      <td>NaN</td>\n      <td>NaN</td>\n      <td>NaN</td>\n      <td>NaN</td>\n      <td>NaN</td>\n      <td>NaN</td>\n    </tr>\n    <tr>\n      <th>253</th>\n      <td>32</td>\n      <td>5</td>\n      <td>NaN</td>\n      <td>NaN</td>\n      <td>NaN</td>\n      <td>NaN</td>\n      <td>NaN</td>\n      <td>NaN</td>\n      <td>NaN</td>\n      <td>NaN</td>\n      <td>...</td>\n      <td>NaN</td>\n      <td>NaN</td>\n      <td>NaN</td>\n      <td>NaN</td>\n      <td>NaN</td>\n      <td>NaN</td>\n      <td>NaN</td>\n      <td>NaN</td>\n      <td>NaN</td>\n      <td>NaN</td>\n    </tr>\n    <tr>\n      <th>254</th>\n      <td>34</td>\n      <td>5</td>\n      <td>NaN</td>\n      <td>NaN</td>\n      <td>NaN</td>\n      <td>NaN</td>\n      <td>NaN</td>\n      <td>NaN</td>\n      <td>NaN</td>\n      <td>NaN</td>\n      <td>...</td>\n      <td>NaN</td>\n      <td>NaN</td>\n      <td>NaN</td>\n      <td>NaN</td>\n      <td>NaN</td>\n      <td>NaN</td>\n      <td>NaN</td>\n      <td>NaN</td>\n      <td>NaN</td>\n      <td>NaN</td>\n    </tr>\n  </tbody>\n</table>\n<p>255 rows × 121 columns</p>\n</div>"
     },
     "metadata": {},
     "execution_count": 92
    }
   ],
   "source": [
    "housing_df= housing_df.drop(columns=[\"RegionName\", \"State\", \"Metro\", \"CountyName\"])\n",
    "housing_df"
   ]
  },
  {
   "cell_type": "code",
   "execution_count": 94,
   "metadata": {},
   "outputs": [
    {
     "output_type": "execute_result",
     "data": {
      "text/plain": [
       "       Region_ID  Bedrooms     Date  Median_Rent\n",
       "387           10         3  2010-03       1300.0\n",
       "642           10         3  2010-04       1297.5\n",
       "897           10         3  2010-05       1500.0\n",
       "1152          10         3  2010-06       1500.0\n",
       "1407          10         3  2010-07       1310.0\n",
       "...          ...       ...      ...          ...\n",
       "30333        288         4  2019-12       1950.0\n",
       "30334        292         4  2019-12       1912.5\n",
       "30335        294         4  2019-12       1800.0\n",
       "30336        298         4  2019-12       1547.5\n",
       "30337        309         4  2019-12       2275.0\n",
       "\n",
       "[14083 rows x 4 columns]"
      ],
      "text/html": "<div>\n<style scoped>\n    .dataframe tbody tr th:only-of-type {\n        vertical-align: middle;\n    }\n\n    .dataframe tbody tr th {\n        vertical-align: top;\n    }\n\n    .dataframe thead th {\n        text-align: right;\n    }\n</style>\n<table border=\"1\" class=\"dataframe\">\n  <thead>\n    <tr style=\"text-align: right;\">\n      <th></th>\n      <th>Region_ID</th>\n      <th>Bedrooms</th>\n      <th>Date</th>\n      <th>Median_Rent</th>\n    </tr>\n  </thead>\n  <tbody>\n    <tr>\n      <th>387</th>\n      <td>10</td>\n      <td>3</td>\n      <td>2010-03</td>\n      <td>1300.0</td>\n    </tr>\n    <tr>\n      <th>642</th>\n      <td>10</td>\n      <td>3</td>\n      <td>2010-04</td>\n      <td>1297.5</td>\n    </tr>\n    <tr>\n      <th>897</th>\n      <td>10</td>\n      <td>3</td>\n      <td>2010-05</td>\n      <td>1500.0</td>\n    </tr>\n    <tr>\n      <th>1152</th>\n      <td>10</td>\n      <td>3</td>\n      <td>2010-06</td>\n      <td>1500.0</td>\n    </tr>\n    <tr>\n      <th>1407</th>\n      <td>10</td>\n      <td>3</td>\n      <td>2010-07</td>\n      <td>1310.0</td>\n    </tr>\n    <tr>\n      <th>...</th>\n      <td>...</td>\n      <td>...</td>\n      <td>...</td>\n      <td>...</td>\n    </tr>\n    <tr>\n      <th>30333</th>\n      <td>288</td>\n      <td>4</td>\n      <td>2019-12</td>\n      <td>1950.0</td>\n    </tr>\n    <tr>\n      <th>30334</th>\n      <td>292</td>\n      <td>4</td>\n      <td>2019-12</td>\n      <td>1912.5</td>\n    </tr>\n    <tr>\n      <th>30335</th>\n      <td>294</td>\n      <td>4</td>\n      <td>2019-12</td>\n      <td>1800.0</td>\n    </tr>\n    <tr>\n      <th>30336</th>\n      <td>298</td>\n      <td>4</td>\n      <td>2019-12</td>\n      <td>1547.5</td>\n    </tr>\n    <tr>\n      <th>30337</th>\n      <td>309</td>\n      <td>4</td>\n      <td>2019-12</td>\n      <td>2275.0</td>\n    </tr>\n  </tbody>\n</table>\n<p>14083 rows × 4 columns</p>\n</div>"
     },
     "metadata": {},
     "execution_count": 94
    }
   ],
   "source": [
    "housing_df= housing_df.melt(id_vars=[\"Region_ID\", \"Bedrooms\"], \n",
    "        var_name=\"Date\", \n",
    "        value_name=\"Median_Rent\")\n",
    "housing_df.dropna(inplace=True)\n",
    "housing_df"
   ]
  },
  {
   "cell_type": "code",
   "execution_count": 96,
   "metadata": {},
   "outputs": [],
   "source": [
    "housing_df.reset_index(drop=True, inplace=True)\n",
    "arrays = [housing_df[\"Region_ID\"],\n",
    "            housing_df[\"Bedrooms\"],\n",
    "            housing_df[\"Date\"]]\n",
    "index = pd.MultiIndex.from_arrays(arrays,names =[\"Region_ID\",\"Bedrooms\",\"Date\"])\n",
    "housing_df = housing_df.set_index(index)\n",
    "housing_df.drop(columns=[\"Region_ID\",\"Bedrooms\",\"Date\"],inplace=True)"
   ]
  },
  {
   "cell_type": "code",
   "execution_count": 97,
   "metadata": {},
   "outputs": [
    {
     "output_type": "execute_result",
     "data": {
      "text/plain": [
       "                            Median_Rent\n",
       "Region_ID Bedrooms Date                \n",
       "10        3        2010-03       1300.0\n",
       "                   2010-04       1297.5\n",
       "                   2010-05       1500.0\n",
       "                   2010-06       1500.0\n",
       "                   2010-07       1310.0\n",
       "...                                 ...\n",
       "288       4        2019-12       1950.0\n",
       "292       4        2019-12       1912.5\n",
       "294       4        2019-12       1800.0\n",
       "298       4        2019-12       1547.5\n",
       "309       4        2019-12       2275.0\n",
       "\n",
       "[14083 rows x 1 columns]"
      ],
      "text/html": "<div>\n<style scoped>\n    .dataframe tbody tr th:only-of-type {\n        vertical-align: middle;\n    }\n\n    .dataframe tbody tr th {\n        vertical-align: top;\n    }\n\n    .dataframe thead th {\n        text-align: right;\n    }\n</style>\n<table border=\"1\" class=\"dataframe\">\n  <thead>\n    <tr style=\"text-align: right;\">\n      <th></th>\n      <th></th>\n      <th></th>\n      <th>Median_Rent</th>\n    </tr>\n    <tr>\n      <th>Region_ID</th>\n      <th>Bedrooms</th>\n      <th>Date</th>\n      <th></th>\n    </tr>\n  </thead>\n  <tbody>\n    <tr>\n      <th rowspan=\"5\" valign=\"top\">10</th>\n      <th rowspan=\"5\" valign=\"top\">3</th>\n      <th>2010-03</th>\n      <td>1300.0</td>\n    </tr>\n    <tr>\n      <th>2010-04</th>\n      <td>1297.5</td>\n    </tr>\n    <tr>\n      <th>2010-05</th>\n      <td>1500.0</td>\n    </tr>\n    <tr>\n      <th>2010-06</th>\n      <td>1500.0</td>\n    </tr>\n    <tr>\n      <th>2010-07</th>\n      <td>1310.0</td>\n    </tr>\n    <tr>\n      <th>...</th>\n      <th>...</th>\n      <th>...</th>\n      <td>...</td>\n    </tr>\n    <tr>\n      <th>288</th>\n      <th>4</th>\n      <th>2019-12</th>\n      <td>1950.0</td>\n    </tr>\n    <tr>\n      <th>292</th>\n      <th>4</th>\n      <th>2019-12</th>\n      <td>1912.5</td>\n    </tr>\n    <tr>\n      <th>294</th>\n      <th>4</th>\n      <th>2019-12</th>\n      <td>1800.0</td>\n    </tr>\n    <tr>\n      <th>298</th>\n      <th>4</th>\n      <th>2019-12</th>\n      <td>1547.5</td>\n    </tr>\n    <tr>\n      <th>309</th>\n      <th>4</th>\n      <th>2019-12</th>\n      <td>2275.0</td>\n    </tr>\n  </tbody>\n</table>\n<p>14083 rows × 1 columns</p>\n</div>"
     },
     "metadata": {},
     "execution_count": 97
    }
   ],
   "source": [
    "housing_df"
   ]
  },
  {
   "cell_type": "code",
   "execution_count": 99,
   "metadata": {},
   "outputs": [],
   "source": [
    "housing_df.to_csv('../Data/median_rents_multi_indexed.csv')"
   ]
  },
  {
   "cell_type": "code",
   "execution_count": null,
   "metadata": {},
   "outputs": [],
   "source": []
  }
 ]
}