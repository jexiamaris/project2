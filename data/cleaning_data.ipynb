{
 "metadata": {
  "language_info": {
   "codemirror_mode": {
    "name": "ipython",
    "version": 3
   },
   "file_extension": ".py",
   "mimetype": "text/x-python",
   "name": "python",
   "nbconvert_exporter": "python",
   "pygments_lexer": "ipython3",
   "version": "3.8.3-final"
  },
  "orig_nbformat": 2,
  "kernelspec": {
   "name": "python3",
   "display_name": "Python 3.8.3 64-bit (conda)",
   "metadata": {
    "interpreter": {
     "hash": "3b2d1872a97fb64bbb0bf089e5dc4a4b17c31375caf39a3144f71c656be998ab"
    }
   }
  }
 },
 "nbformat": 4,
 "nbformat_minor": 2,
 "cells": [
  {
   "cell_type": "code",
   "execution_count": 175,
   "metadata": {},
   "outputs": [],
   "source": [
    "import random\n",
    "from random import choices\n",
    "import pandas as pd\n",
    "import numpy as np\n",
    "from pathlib import Path"
   ]
  },
  {
   "cell_type": "code",
   "execution_count": 143,
   "metadata": {},
   "outputs": [
    {
     "output_type": "execute_result",
     "data": {
      "text/plain": [
       "     Identifier  RegionID  Bedroom      RegionName RegionType StateName State  \\\n",
       "0             2     39051        1         Houston       City        TX    TX   \n",
       "1           110      7204        1          Spring       City        TX    TX   \n",
       "2           187     41114        1      Sugar Land       City        TX    TX   \n",
       "3           209     38119        1         Cypress       City        TX    TX   \n",
       "4           218     44734        1          Conroe       City        TX    TX   \n",
       "..          ...       ...      ...             ...        ...       ...   ...   \n",
       "570       18435     23174        5   Morgans Point       City        TX    TX   \n",
       "571       18625     16080        5          Wallis       City        TX    TX   \n",
       "572       18722     52665        5   Jamaica Beach       City        TX    TX   \n",
       "573       18726     54635        5  Surfside Beach       City        TX    TX   \n",
       "574       18750     42375        5      Fairchilds       City        TX    TX   \n",
       "\n",
       "                                Metro         CountyName  1/31/2010  ...  \\\n",
       "0    Houston-The Woodlands-Sugar Land      Harris County    67653.0  ...   \n",
       "1    Houston-The Woodlands-Sugar Land      Harris County    54159.0  ...   \n",
       "2    Houston-The Woodlands-Sugar Land   Fort Bend County   212721.0  ...   \n",
       "3    Houston-The Woodlands-Sugar Land      Harris County    83279.0  ...   \n",
       "4    Houston-The Woodlands-Sugar Land  Montgomery County   142717.0  ...   \n",
       "..                                ...                ...        ...  ...   \n",
       "570  Houston-The Woodlands-Sugar Land      Harris County   378619.0  ...   \n",
       "571  Houston-The Woodlands-Sugar Land      Austin County        NaN  ...   \n",
       "572  Houston-The Woodlands-Sugar Land   Galveston County   550524.0  ...   \n",
       "573  Houston-The Woodlands-Sugar Land    Brazoria County   298089.0  ...   \n",
       "574  Houston-The Woodlands-Sugar Land   Fort Bend County        NaN  ...   \n",
       "\n",
       "     6/30/2019  7/31/2019  8/31/2019  9/30/2019  10/31/2019  11/30/2019  \\\n",
       "0       104937     105155     105502     105618      106083      106186   \n",
       "1        88793      89402      90151      90444       91064       91668   \n",
       "2       239912     239079     239124     239166      240193      242007   \n",
       "3       134336     135568     135976     136333      137155      137673   \n",
       "4       220807     221831     222446     223048      224432      224717   \n",
       "..         ...        ...        ...        ...         ...         ...   \n",
       "570     702473     704800     704480     707487      713194      721005   \n",
       "571     165336     165466     166338     166778      166780      166123   \n",
       "572     656209     656624     655992     656511      655356      656806   \n",
       "573     457049     456514     456555     458114      462450      466920   \n",
       "574     376055     377547     379961     382507      384938      386972   \n",
       "\n",
       "     12/31/2019  1/31/2020  2/29/2020  3/31/2020  \n",
       "0        106299     106161     106271     106635  \n",
       "1         92500      93108      93931      94948  \n",
       "2        241984     241888     242018     241986  \n",
       "3        138310     137995     137454     136950  \n",
       "4        224159     222976     222007     220157  \n",
       "..          ...        ...        ...        ...  \n",
       "570      726920     730948     732360     732224  \n",
       "571      165830     166579     166822     167583  \n",
       "572      655688     655114     652268     649370  \n",
       "573      472154     476587     480253     482405  \n",
       "574      389187     387800     386879     384703  \n",
       "\n",
       "[575 rows x 132 columns]"
      ],
      "text/html": "<div>\n<style scoped>\n    .dataframe tbody tr th:only-of-type {\n        vertical-align: middle;\n    }\n\n    .dataframe tbody tr th {\n        vertical-align: top;\n    }\n\n    .dataframe thead th {\n        text-align: right;\n    }\n</style>\n<table border=\"1\" class=\"dataframe\">\n  <thead>\n    <tr style=\"text-align: right;\">\n      <th></th>\n      <th>Identifier</th>\n      <th>RegionID</th>\n      <th>Bedroom</th>\n      <th>RegionName</th>\n      <th>RegionType</th>\n      <th>StateName</th>\n      <th>State</th>\n      <th>Metro</th>\n      <th>CountyName</th>\n      <th>1/31/2010</th>\n      <th>...</th>\n      <th>6/30/2019</th>\n      <th>7/31/2019</th>\n      <th>8/31/2019</th>\n      <th>9/30/2019</th>\n      <th>10/31/2019</th>\n      <th>11/30/2019</th>\n      <th>12/31/2019</th>\n      <th>1/31/2020</th>\n      <th>2/29/2020</th>\n      <th>3/31/2020</th>\n    </tr>\n  </thead>\n  <tbody>\n    <tr>\n      <th>0</th>\n      <td>2</td>\n      <td>39051</td>\n      <td>1</td>\n      <td>Houston</td>\n      <td>City</td>\n      <td>TX</td>\n      <td>TX</td>\n      <td>Houston-The Woodlands-Sugar Land</td>\n      <td>Harris County</td>\n      <td>67653.0</td>\n      <td>...</td>\n      <td>104937</td>\n      <td>105155</td>\n      <td>105502</td>\n      <td>105618</td>\n      <td>106083</td>\n      <td>106186</td>\n      <td>106299</td>\n      <td>106161</td>\n      <td>106271</td>\n      <td>106635</td>\n    </tr>\n    <tr>\n      <th>1</th>\n      <td>110</td>\n      <td>7204</td>\n      <td>1</td>\n      <td>Spring</td>\n      <td>City</td>\n      <td>TX</td>\n      <td>TX</td>\n      <td>Houston-The Woodlands-Sugar Land</td>\n      <td>Harris County</td>\n      <td>54159.0</td>\n      <td>...</td>\n      <td>88793</td>\n      <td>89402</td>\n      <td>90151</td>\n      <td>90444</td>\n      <td>91064</td>\n      <td>91668</td>\n      <td>92500</td>\n      <td>93108</td>\n      <td>93931</td>\n      <td>94948</td>\n    </tr>\n    <tr>\n      <th>2</th>\n      <td>187</td>\n      <td>41114</td>\n      <td>1</td>\n      <td>Sugar Land</td>\n      <td>City</td>\n      <td>TX</td>\n      <td>TX</td>\n      <td>Houston-The Woodlands-Sugar Land</td>\n      <td>Fort Bend County</td>\n      <td>212721.0</td>\n      <td>...</td>\n      <td>239912</td>\n      <td>239079</td>\n      <td>239124</td>\n      <td>239166</td>\n      <td>240193</td>\n      <td>242007</td>\n      <td>241984</td>\n      <td>241888</td>\n      <td>242018</td>\n      <td>241986</td>\n    </tr>\n    <tr>\n      <th>3</th>\n      <td>209</td>\n      <td>38119</td>\n      <td>1</td>\n      <td>Cypress</td>\n      <td>City</td>\n      <td>TX</td>\n      <td>TX</td>\n      <td>Houston-The Woodlands-Sugar Land</td>\n      <td>Harris County</td>\n      <td>83279.0</td>\n      <td>...</td>\n      <td>134336</td>\n      <td>135568</td>\n      <td>135976</td>\n      <td>136333</td>\n      <td>137155</td>\n      <td>137673</td>\n      <td>138310</td>\n      <td>137995</td>\n      <td>137454</td>\n      <td>136950</td>\n    </tr>\n    <tr>\n      <th>4</th>\n      <td>218</td>\n      <td>44734</td>\n      <td>1</td>\n      <td>Conroe</td>\n      <td>City</td>\n      <td>TX</td>\n      <td>TX</td>\n      <td>Houston-The Woodlands-Sugar Land</td>\n      <td>Montgomery County</td>\n      <td>142717.0</td>\n      <td>...</td>\n      <td>220807</td>\n      <td>221831</td>\n      <td>222446</td>\n      <td>223048</td>\n      <td>224432</td>\n      <td>224717</td>\n      <td>224159</td>\n      <td>222976</td>\n      <td>222007</td>\n      <td>220157</td>\n    </tr>\n    <tr>\n      <th>...</th>\n      <td>...</td>\n      <td>...</td>\n      <td>...</td>\n      <td>...</td>\n      <td>...</td>\n      <td>...</td>\n      <td>...</td>\n      <td>...</td>\n      <td>...</td>\n      <td>...</td>\n      <td>...</td>\n      <td>...</td>\n      <td>...</td>\n      <td>...</td>\n      <td>...</td>\n      <td>...</td>\n      <td>...</td>\n      <td>...</td>\n      <td>...</td>\n      <td>...</td>\n      <td>...</td>\n    </tr>\n    <tr>\n      <th>570</th>\n      <td>18435</td>\n      <td>23174</td>\n      <td>5</td>\n      <td>Morgans Point</td>\n      <td>City</td>\n      <td>TX</td>\n      <td>TX</td>\n      <td>Houston-The Woodlands-Sugar Land</td>\n      <td>Harris County</td>\n      <td>378619.0</td>\n      <td>...</td>\n      <td>702473</td>\n      <td>704800</td>\n      <td>704480</td>\n      <td>707487</td>\n      <td>713194</td>\n      <td>721005</td>\n      <td>726920</td>\n      <td>730948</td>\n      <td>732360</td>\n      <td>732224</td>\n    </tr>\n    <tr>\n      <th>571</th>\n      <td>18625</td>\n      <td>16080</td>\n      <td>5</td>\n      <td>Wallis</td>\n      <td>City</td>\n      <td>TX</td>\n      <td>TX</td>\n      <td>Houston-The Woodlands-Sugar Land</td>\n      <td>Austin County</td>\n      <td>NaN</td>\n      <td>...</td>\n      <td>165336</td>\n      <td>165466</td>\n      <td>166338</td>\n      <td>166778</td>\n      <td>166780</td>\n      <td>166123</td>\n      <td>165830</td>\n      <td>166579</td>\n      <td>166822</td>\n      <td>167583</td>\n    </tr>\n    <tr>\n      <th>572</th>\n      <td>18722</td>\n      <td>52665</td>\n      <td>5</td>\n      <td>Jamaica Beach</td>\n      <td>City</td>\n      <td>TX</td>\n      <td>TX</td>\n      <td>Houston-The Woodlands-Sugar Land</td>\n      <td>Galveston County</td>\n      <td>550524.0</td>\n      <td>...</td>\n      <td>656209</td>\n      <td>656624</td>\n      <td>655992</td>\n      <td>656511</td>\n      <td>655356</td>\n      <td>656806</td>\n      <td>655688</td>\n      <td>655114</td>\n      <td>652268</td>\n      <td>649370</td>\n    </tr>\n    <tr>\n      <th>573</th>\n      <td>18726</td>\n      <td>54635</td>\n      <td>5</td>\n      <td>Surfside Beach</td>\n      <td>City</td>\n      <td>TX</td>\n      <td>TX</td>\n      <td>Houston-The Woodlands-Sugar Land</td>\n      <td>Brazoria County</td>\n      <td>298089.0</td>\n      <td>...</td>\n      <td>457049</td>\n      <td>456514</td>\n      <td>456555</td>\n      <td>458114</td>\n      <td>462450</td>\n      <td>466920</td>\n      <td>472154</td>\n      <td>476587</td>\n      <td>480253</td>\n      <td>482405</td>\n    </tr>\n    <tr>\n      <th>574</th>\n      <td>18750</td>\n      <td>42375</td>\n      <td>5</td>\n      <td>Fairchilds</td>\n      <td>City</td>\n      <td>TX</td>\n      <td>TX</td>\n      <td>Houston-The Woodlands-Sugar Land</td>\n      <td>Fort Bend County</td>\n      <td>NaN</td>\n      <td>...</td>\n      <td>376055</td>\n      <td>377547</td>\n      <td>379961</td>\n      <td>382507</td>\n      <td>384938</td>\n      <td>386972</td>\n      <td>389187</td>\n      <td>387800</td>\n      <td>386879</td>\n      <td>384703</td>\n    </tr>\n  </tbody>\n</table>\n<p>575 rows × 132 columns</p>\n</div>"
     },
     "metadata": {},
     "execution_count": 143
    }
   ],
   "source": [
    "# Load data\n",
    "housing_data = pd.read_csv(\"Housing_values.csv\")\n",
    "housing_df = pd.DataFrame(housing_data)\n",
    "housing_df"
   ]
  },
  {
   "cell_type": "code",
   "execution_count": 144,
   "metadata": {},
   "outputs": [
    {
     "output_type": "execute_result",
     "data": {
      "text/plain": [
       "     Identifier  Bedroom      RegionName State  \\\n",
       "0             2        1         Houston    TX   \n",
       "1           110        1          Spring    TX   \n",
       "2           187        1      Sugar Land    TX   \n",
       "3           209        1         Cypress    TX   \n",
       "4           218        1          Conroe    TX   \n",
       "..          ...      ...             ...   ...   \n",
       "570       18435        5   Morgans Point    TX   \n",
       "571       18625        5          Wallis    TX   \n",
       "572       18722        5   Jamaica Beach    TX   \n",
       "573       18726        5  Surfside Beach    TX   \n",
       "574       18750        5      Fairchilds    TX   \n",
       "\n",
       "                                Metro         CountyName  1/31/2010  \\\n",
       "0    Houston-The Woodlands-Sugar Land      Harris County    67653.0   \n",
       "1    Houston-The Woodlands-Sugar Land      Harris County    54159.0   \n",
       "2    Houston-The Woodlands-Sugar Land   Fort Bend County   212721.0   \n",
       "3    Houston-The Woodlands-Sugar Land      Harris County    83279.0   \n",
       "4    Houston-The Woodlands-Sugar Land  Montgomery County   142717.0   \n",
       "..                                ...                ...        ...   \n",
       "570  Houston-The Woodlands-Sugar Land      Harris County   378619.0   \n",
       "571  Houston-The Woodlands-Sugar Land      Austin County        NaN   \n",
       "572  Houston-The Woodlands-Sugar Land   Galveston County   550524.0   \n",
       "573  Houston-The Woodlands-Sugar Land    Brazoria County   298089.0   \n",
       "574  Houston-The Woodlands-Sugar Land   Fort Bend County        NaN   \n",
       "\n",
       "     2/28/2010  3/31/2010  4/30/2010  ...  6/30/2019  7/31/2019  8/31/2019  \\\n",
       "0      67444.0    67260.0    67041.0  ...     104937     105155     105502   \n",
       "1      53215.0    52607.0    52807.0  ...      88793      89402      90151   \n",
       "2     214502.0   216879.0   218827.0  ...     239912     239079     239124   \n",
       "3      82383.0    82490.0    82944.0  ...     134336     135568     135976   \n",
       "4     142310.0   140592.0   139575.0  ...     220807     221831     222446   \n",
       "..         ...        ...        ...  ...        ...        ...        ...   \n",
       "570   381411.0   386253.0   388340.0  ...     702473     704800     704480   \n",
       "571        NaN        NaN        NaN  ...     165336     165466     166338   \n",
       "572   552243.0   548603.0   538650.0  ...     656209     656624     655992   \n",
       "573   294899.0   291515.0   286260.0  ...     457049     456514     456555   \n",
       "574        NaN        NaN        NaN  ...     376055     377547     379961   \n",
       "\n",
       "     9/30/2019  10/31/2019  11/30/2019  12/31/2019  1/31/2020  2/29/2020  \\\n",
       "0       105618      106083      106186      106299     106161     106271   \n",
       "1        90444       91064       91668       92500      93108      93931   \n",
       "2       239166      240193      242007      241984     241888     242018   \n",
       "3       136333      137155      137673      138310     137995     137454   \n",
       "4       223048      224432      224717      224159     222976     222007   \n",
       "..         ...         ...         ...         ...        ...        ...   \n",
       "570     707487      713194      721005      726920     730948     732360   \n",
       "571     166778      166780      166123      165830     166579     166822   \n",
       "572     656511      655356      656806      655688     655114     652268   \n",
       "573     458114      462450      466920      472154     476587     480253   \n",
       "574     382507      384938      386972      389187     387800     386879   \n",
       "\n",
       "     3/31/2020  \n",
       "0       106635  \n",
       "1        94948  \n",
       "2       241986  \n",
       "3       136950  \n",
       "4       220157  \n",
       "..         ...  \n",
       "570     732224  \n",
       "571     167583  \n",
       "572     649370  \n",
       "573     482405  \n",
       "574     384703  \n",
       "\n",
       "[575 rows x 129 columns]"
      ],
      "text/html": "<div>\n<style scoped>\n    .dataframe tbody tr th:only-of-type {\n        vertical-align: middle;\n    }\n\n    .dataframe tbody tr th {\n        vertical-align: top;\n    }\n\n    .dataframe thead th {\n        text-align: right;\n    }\n</style>\n<table border=\"1\" class=\"dataframe\">\n  <thead>\n    <tr style=\"text-align: right;\">\n      <th></th>\n      <th>Identifier</th>\n      <th>Bedroom</th>\n      <th>RegionName</th>\n      <th>State</th>\n      <th>Metro</th>\n      <th>CountyName</th>\n      <th>1/31/2010</th>\n      <th>2/28/2010</th>\n      <th>3/31/2010</th>\n      <th>4/30/2010</th>\n      <th>...</th>\n      <th>6/30/2019</th>\n      <th>7/31/2019</th>\n      <th>8/31/2019</th>\n      <th>9/30/2019</th>\n      <th>10/31/2019</th>\n      <th>11/30/2019</th>\n      <th>12/31/2019</th>\n      <th>1/31/2020</th>\n      <th>2/29/2020</th>\n      <th>3/31/2020</th>\n    </tr>\n  </thead>\n  <tbody>\n    <tr>\n      <th>0</th>\n      <td>2</td>\n      <td>1</td>\n      <td>Houston</td>\n      <td>TX</td>\n      <td>Houston-The Woodlands-Sugar Land</td>\n      <td>Harris County</td>\n      <td>67653.0</td>\n      <td>67444.0</td>\n      <td>67260.0</td>\n      <td>67041.0</td>\n      <td>...</td>\n      <td>104937</td>\n      <td>105155</td>\n      <td>105502</td>\n      <td>105618</td>\n      <td>106083</td>\n      <td>106186</td>\n      <td>106299</td>\n      <td>106161</td>\n      <td>106271</td>\n      <td>106635</td>\n    </tr>\n    <tr>\n      <th>1</th>\n      <td>110</td>\n      <td>1</td>\n      <td>Spring</td>\n      <td>TX</td>\n      <td>Houston-The Woodlands-Sugar Land</td>\n      <td>Harris County</td>\n      <td>54159.0</td>\n      <td>53215.0</td>\n      <td>52607.0</td>\n      <td>52807.0</td>\n      <td>...</td>\n      <td>88793</td>\n      <td>89402</td>\n      <td>90151</td>\n      <td>90444</td>\n      <td>91064</td>\n      <td>91668</td>\n      <td>92500</td>\n      <td>93108</td>\n      <td>93931</td>\n      <td>94948</td>\n    </tr>\n    <tr>\n      <th>2</th>\n      <td>187</td>\n      <td>1</td>\n      <td>Sugar Land</td>\n      <td>TX</td>\n      <td>Houston-The Woodlands-Sugar Land</td>\n      <td>Fort Bend County</td>\n      <td>212721.0</td>\n      <td>214502.0</td>\n      <td>216879.0</td>\n      <td>218827.0</td>\n      <td>...</td>\n      <td>239912</td>\n      <td>239079</td>\n      <td>239124</td>\n      <td>239166</td>\n      <td>240193</td>\n      <td>242007</td>\n      <td>241984</td>\n      <td>241888</td>\n      <td>242018</td>\n      <td>241986</td>\n    </tr>\n    <tr>\n      <th>3</th>\n      <td>209</td>\n      <td>1</td>\n      <td>Cypress</td>\n      <td>TX</td>\n      <td>Houston-The Woodlands-Sugar Land</td>\n      <td>Harris County</td>\n      <td>83279.0</td>\n      <td>82383.0</td>\n      <td>82490.0</td>\n      <td>82944.0</td>\n      <td>...</td>\n      <td>134336</td>\n      <td>135568</td>\n      <td>135976</td>\n      <td>136333</td>\n      <td>137155</td>\n      <td>137673</td>\n      <td>138310</td>\n      <td>137995</td>\n      <td>137454</td>\n      <td>136950</td>\n    </tr>\n    <tr>\n      <th>4</th>\n      <td>218</td>\n      <td>1</td>\n      <td>Conroe</td>\n      <td>TX</td>\n      <td>Houston-The Woodlands-Sugar Land</td>\n      <td>Montgomery County</td>\n      <td>142717.0</td>\n      <td>142310.0</td>\n      <td>140592.0</td>\n      <td>139575.0</td>\n      <td>...</td>\n      <td>220807</td>\n      <td>221831</td>\n      <td>222446</td>\n      <td>223048</td>\n      <td>224432</td>\n      <td>224717</td>\n      <td>224159</td>\n      <td>222976</td>\n      <td>222007</td>\n      <td>220157</td>\n    </tr>\n    <tr>\n      <th>...</th>\n      <td>...</td>\n      <td>...</td>\n      <td>...</td>\n      <td>...</td>\n      <td>...</td>\n      <td>...</td>\n      <td>...</td>\n      <td>...</td>\n      <td>...</td>\n      <td>...</td>\n      <td>...</td>\n      <td>...</td>\n      <td>...</td>\n      <td>...</td>\n      <td>...</td>\n      <td>...</td>\n      <td>...</td>\n      <td>...</td>\n      <td>...</td>\n      <td>...</td>\n      <td>...</td>\n    </tr>\n    <tr>\n      <th>570</th>\n      <td>18435</td>\n      <td>5</td>\n      <td>Morgans Point</td>\n      <td>TX</td>\n      <td>Houston-The Woodlands-Sugar Land</td>\n      <td>Harris County</td>\n      <td>378619.0</td>\n      <td>381411.0</td>\n      <td>386253.0</td>\n      <td>388340.0</td>\n      <td>...</td>\n      <td>702473</td>\n      <td>704800</td>\n      <td>704480</td>\n      <td>707487</td>\n      <td>713194</td>\n      <td>721005</td>\n      <td>726920</td>\n      <td>730948</td>\n      <td>732360</td>\n      <td>732224</td>\n    </tr>\n    <tr>\n      <th>571</th>\n      <td>18625</td>\n      <td>5</td>\n      <td>Wallis</td>\n      <td>TX</td>\n      <td>Houston-The Woodlands-Sugar Land</td>\n      <td>Austin County</td>\n      <td>NaN</td>\n      <td>NaN</td>\n      <td>NaN</td>\n      <td>NaN</td>\n      <td>...</td>\n      <td>165336</td>\n      <td>165466</td>\n      <td>166338</td>\n      <td>166778</td>\n      <td>166780</td>\n      <td>166123</td>\n      <td>165830</td>\n      <td>166579</td>\n      <td>166822</td>\n      <td>167583</td>\n    </tr>\n    <tr>\n      <th>572</th>\n      <td>18722</td>\n      <td>5</td>\n      <td>Jamaica Beach</td>\n      <td>TX</td>\n      <td>Houston-The Woodlands-Sugar Land</td>\n      <td>Galveston County</td>\n      <td>550524.0</td>\n      <td>552243.0</td>\n      <td>548603.0</td>\n      <td>538650.0</td>\n      <td>...</td>\n      <td>656209</td>\n      <td>656624</td>\n      <td>655992</td>\n      <td>656511</td>\n      <td>655356</td>\n      <td>656806</td>\n      <td>655688</td>\n      <td>655114</td>\n      <td>652268</td>\n      <td>649370</td>\n    </tr>\n    <tr>\n      <th>573</th>\n      <td>18726</td>\n      <td>5</td>\n      <td>Surfside Beach</td>\n      <td>TX</td>\n      <td>Houston-The Woodlands-Sugar Land</td>\n      <td>Brazoria County</td>\n      <td>298089.0</td>\n      <td>294899.0</td>\n      <td>291515.0</td>\n      <td>286260.0</td>\n      <td>...</td>\n      <td>457049</td>\n      <td>456514</td>\n      <td>456555</td>\n      <td>458114</td>\n      <td>462450</td>\n      <td>466920</td>\n      <td>472154</td>\n      <td>476587</td>\n      <td>480253</td>\n      <td>482405</td>\n    </tr>\n    <tr>\n      <th>574</th>\n      <td>18750</td>\n      <td>5</td>\n      <td>Fairchilds</td>\n      <td>TX</td>\n      <td>Houston-The Woodlands-Sugar Land</td>\n      <td>Fort Bend County</td>\n      <td>NaN</td>\n      <td>NaN</td>\n      <td>NaN</td>\n      <td>NaN</td>\n      <td>...</td>\n      <td>376055</td>\n      <td>377547</td>\n      <td>379961</td>\n      <td>382507</td>\n      <td>384938</td>\n      <td>386972</td>\n      <td>389187</td>\n      <td>387800</td>\n      <td>386879</td>\n      <td>384703</td>\n    </tr>\n  </tbody>\n</table>\n<p>575 rows × 129 columns</p>\n</div>"
     },
     "metadata": {},
     "execution_count": 144
    }
   ],
   "source": [
    "housing_df= housing_df.drop(columns=[\"RegionID\", \"RegionType\", \"StateName\"])\n",
    "housing_df"
   ]
  },
  {
   "cell_type": "code",
   "execution_count": 145,
   "metadata": {},
   "outputs": [
    {
     "output_type": "execute_result",
     "data": {
      "text/plain": [
       "   Identifier  Bedroom  RegionName State                             Metro  \\\n",
       "0           2        1     Houston    TX  Houston-The Woodlands-Sugar Land   \n",
       "1         110        1      Spring    TX  Houston-The Woodlands-Sugar Land   \n",
       "2         187        1  Sugar Land    TX  Houston-The Woodlands-Sugar Land   \n",
       "3         209        1     Cypress    TX  Houston-The Woodlands-Sugar Land   \n",
       "4         218        1      Conroe    TX  Houston-The Woodlands-Sugar Land   \n",
       "\n",
       "          CountyName       Date     Price  \n",
       "0      Harris County  1/31/2010   67653.0  \n",
       "1      Harris County  1/31/2010   54159.0  \n",
       "2   Fort Bend County  1/31/2010  212721.0  \n",
       "3      Harris County  1/31/2010   83279.0  \n",
       "4  Montgomery County  1/31/2010  142717.0  "
      ],
      "text/html": "<div>\n<style scoped>\n    .dataframe tbody tr th:only-of-type {\n        vertical-align: middle;\n    }\n\n    .dataframe tbody tr th {\n        vertical-align: top;\n    }\n\n    .dataframe thead th {\n        text-align: right;\n    }\n</style>\n<table border=\"1\" class=\"dataframe\">\n  <thead>\n    <tr style=\"text-align: right;\">\n      <th></th>\n      <th>Identifier</th>\n      <th>Bedroom</th>\n      <th>RegionName</th>\n      <th>State</th>\n      <th>Metro</th>\n      <th>CountyName</th>\n      <th>Date</th>\n      <th>Price</th>\n    </tr>\n  </thead>\n  <tbody>\n    <tr>\n      <th>0</th>\n      <td>2</td>\n      <td>1</td>\n      <td>Houston</td>\n      <td>TX</td>\n      <td>Houston-The Woodlands-Sugar Land</td>\n      <td>Harris County</td>\n      <td>1/31/2010</td>\n      <td>67653.0</td>\n    </tr>\n    <tr>\n      <th>1</th>\n      <td>110</td>\n      <td>1</td>\n      <td>Spring</td>\n      <td>TX</td>\n      <td>Houston-The Woodlands-Sugar Land</td>\n      <td>Harris County</td>\n      <td>1/31/2010</td>\n      <td>54159.0</td>\n    </tr>\n    <tr>\n      <th>2</th>\n      <td>187</td>\n      <td>1</td>\n      <td>Sugar Land</td>\n      <td>TX</td>\n      <td>Houston-The Woodlands-Sugar Land</td>\n      <td>Fort Bend County</td>\n      <td>1/31/2010</td>\n      <td>212721.0</td>\n    </tr>\n    <tr>\n      <th>3</th>\n      <td>209</td>\n      <td>1</td>\n      <td>Cypress</td>\n      <td>TX</td>\n      <td>Houston-The Woodlands-Sugar Land</td>\n      <td>Harris County</td>\n      <td>1/31/2010</td>\n      <td>83279.0</td>\n    </tr>\n    <tr>\n      <th>4</th>\n      <td>218</td>\n      <td>1</td>\n      <td>Conroe</td>\n      <td>TX</td>\n      <td>Houston-The Woodlands-Sugar Land</td>\n      <td>Montgomery County</td>\n      <td>1/31/2010</td>\n      <td>142717.0</td>\n    </tr>\n  </tbody>\n</table>\n</div>"
     },
     "metadata": {},
     "execution_count": 145
    }
   ],
   "source": [
    "housing_df= housing_df.melt(id_vars=[\"Identifier\", \"Bedroom\", \"RegionName\", \"State\", \"Metro\", \"CountyName\"], \n",
    "        var_name=\"Date\", \n",
    "        value_name=\"Price\")\n",
    "housing_df.head()"
   ]
  },
  {
   "cell_type": "code",
   "execution_count": 146,
   "metadata": {},
   "outputs": [
    {
     "output_type": "execute_result",
     "data": {
      "text/plain": [
       "           Identifier  Bedroom  RegionName State  \\\n",
       "Date                                               \n",
       "1/31/2010           2        1     Houston    TX   \n",
       "1/31/2010         110        1      Spring    TX   \n",
       "1/31/2010         187        1  Sugar Land    TX   \n",
       "1/31/2010         209        1     Cypress    TX   \n",
       "1/31/2010         218        1      Conroe    TX   \n",
       "\n",
       "                                      Metro         CountyName     Price  \n",
       "Date                                                                      \n",
       "1/31/2010  Houston-The Woodlands-Sugar Land      Harris County   67653.0  \n",
       "1/31/2010  Houston-The Woodlands-Sugar Land      Harris County   54159.0  \n",
       "1/31/2010  Houston-The Woodlands-Sugar Land   Fort Bend County  212721.0  \n",
       "1/31/2010  Houston-The Woodlands-Sugar Land      Harris County   83279.0  \n",
       "1/31/2010  Houston-The Woodlands-Sugar Land  Montgomery County  142717.0  "
      ],
      "text/html": "<div>\n<style scoped>\n    .dataframe tbody tr th:only-of-type {\n        vertical-align: middle;\n    }\n\n    .dataframe tbody tr th {\n        vertical-align: top;\n    }\n\n    .dataframe thead th {\n        text-align: right;\n    }\n</style>\n<table border=\"1\" class=\"dataframe\">\n  <thead>\n    <tr style=\"text-align: right;\">\n      <th></th>\n      <th>Identifier</th>\n      <th>Bedroom</th>\n      <th>RegionName</th>\n      <th>State</th>\n      <th>Metro</th>\n      <th>CountyName</th>\n      <th>Price</th>\n    </tr>\n    <tr>\n      <th>Date</th>\n      <th></th>\n      <th></th>\n      <th></th>\n      <th></th>\n      <th></th>\n      <th></th>\n      <th></th>\n    </tr>\n  </thead>\n  <tbody>\n    <tr>\n      <th>1/31/2010</th>\n      <td>2</td>\n      <td>1</td>\n      <td>Houston</td>\n      <td>TX</td>\n      <td>Houston-The Woodlands-Sugar Land</td>\n      <td>Harris County</td>\n      <td>67653.0</td>\n    </tr>\n    <tr>\n      <th>1/31/2010</th>\n      <td>110</td>\n      <td>1</td>\n      <td>Spring</td>\n      <td>TX</td>\n      <td>Houston-The Woodlands-Sugar Land</td>\n      <td>Harris County</td>\n      <td>54159.0</td>\n    </tr>\n    <tr>\n      <th>1/31/2010</th>\n      <td>187</td>\n      <td>1</td>\n      <td>Sugar Land</td>\n      <td>TX</td>\n      <td>Houston-The Woodlands-Sugar Land</td>\n      <td>Fort Bend County</td>\n      <td>212721.0</td>\n    </tr>\n    <tr>\n      <th>1/31/2010</th>\n      <td>209</td>\n      <td>1</td>\n      <td>Cypress</td>\n      <td>TX</td>\n      <td>Houston-The Woodlands-Sugar Land</td>\n      <td>Harris County</td>\n      <td>83279.0</td>\n    </tr>\n    <tr>\n      <th>1/31/2010</th>\n      <td>218</td>\n      <td>1</td>\n      <td>Conroe</td>\n      <td>TX</td>\n      <td>Houston-The Woodlands-Sugar Land</td>\n      <td>Montgomery County</td>\n      <td>142717.0</td>\n    </tr>\n  </tbody>\n</table>\n</div>"
     },
     "metadata": {},
     "execution_count": 146
    }
   ],
   "source": [
    "housing_df.reset_index(drop=True, inplace=True)\n",
    "housing_df.set_index('Date', inplace=True)\n",
    "housing_df.head()"
   ]
  },
  {
   "cell_type": "code",
   "execution_count": 147,
   "metadata": {},
   "outputs": [
    {
     "output_type": "execute_result",
     "data": {
      "text/plain": [
       "     Identifier  RegionID  Unnamed: 2   RegionName RegionType StateName  \\\n",
       "0             2     39051         NaN      Houston       City        TX   \n",
       "1             4      6915         NaN  San Antonio       City        TX   \n",
       "2             9     38128         NaN       Dallas       City        TX   \n",
       "3            10     10221         NaN       Austin       City        TX   \n",
       "4            15     18172         NaN   Fort Worth       City        TX   \n",
       "..          ...       ...         ...          ...        ...       ...   \n",
       "131        2512     28168         NaN       Celina       City        TX   \n",
       "132        2601     29386         NaN      Woodway       City        TX   \n",
       "133        2618     24253         NaN     Crandall       City        TX   \n",
       "134        2636     35401         NaN     Fulshear       City        TX   \n",
       "135        2676     12103         NaN      Jarrell       City        TX   \n",
       "\n",
       "     2010-01  2010-02  2010-03  2010-04  ...  2019-05  2019-06  2019-07  \\\n",
       "0      133.0    137.0    134.0    112.0  ...     71.0     70.0     67.0   \n",
       "1      101.0    110.0    121.0    110.0  ...     61.0     61.0     60.0   \n",
       "2      136.0    136.0    132.0    118.0  ...     65.0     65.0     68.0   \n",
       "3      111.0    111.5    108.0     86.0  ...     47.0     49.0     48.0   \n",
       "4      122.0    122.0    117.0    109.0  ...     55.0     54.0     53.0   \n",
       "..       ...      ...      ...      ...  ...      ...      ...      ...   \n",
       "131      NaN      NaN      NaN      NaN  ...    151.0     98.0    139.0   \n",
       "132      NaN      NaN      NaN      NaN  ...     59.0     50.0     65.0   \n",
       "133      NaN      NaN      NaN      NaN  ...     54.0     76.0     75.0   \n",
       "134      NaN      NaN      NaN      NaN  ...    183.0    143.5    110.0   \n",
       "135      NaN      NaN      NaN      NaN  ...     62.0     79.5     72.0   \n",
       "\n",
       "     2019-08  2019-09  2019-10  2019-11  2019-12  2020-01  2020-02  \n",
       "0       71.0     81.0     86.0     92.0     94.0    104.0     99.0  \n",
       "1       62.0     70.0     76.0     79.0     84.0     92.0     91.0  \n",
       "2       71.0     76.0     84.0     75.0     91.5     96.0     97.0  \n",
       "3       53.0     54.0     60.0     57.0     64.0     71.0     52.0  \n",
       "4       54.0     65.0     66.0     71.0     71.0     76.0     77.0  \n",
       "..       ...      ...      ...      ...      ...      ...      ...  \n",
       "131    120.5    142.0    176.0    164.0    165.5    111.0    119.5  \n",
       "132     75.0     93.0     59.0     54.0     73.5     93.5     91.5  \n",
       "133     67.0     92.0     84.0    103.0    121.0    118.0    157.0  \n",
       "134    132.0    132.0    133.0    154.0    124.0    150.5    166.0  \n",
       "135     83.5     83.0     98.0     64.5     80.0     80.0     98.0  \n",
       "\n",
       "[136 rows x 128 columns]"
      ],
      "text/html": "<div>\n<style scoped>\n    .dataframe tbody tr th:only-of-type {\n        vertical-align: middle;\n    }\n\n    .dataframe tbody tr th {\n        vertical-align: top;\n    }\n\n    .dataframe thead th {\n        text-align: right;\n    }\n</style>\n<table border=\"1\" class=\"dataframe\">\n  <thead>\n    <tr style=\"text-align: right;\">\n      <th></th>\n      <th>Identifier</th>\n      <th>RegionID</th>\n      <th>Unnamed: 2</th>\n      <th>RegionName</th>\n      <th>RegionType</th>\n      <th>StateName</th>\n      <th>2010-01</th>\n      <th>2010-02</th>\n      <th>2010-03</th>\n      <th>2010-04</th>\n      <th>...</th>\n      <th>2019-05</th>\n      <th>2019-06</th>\n      <th>2019-07</th>\n      <th>2019-08</th>\n      <th>2019-09</th>\n      <th>2019-10</th>\n      <th>2019-11</th>\n      <th>2019-12</th>\n      <th>2020-01</th>\n      <th>2020-02</th>\n    </tr>\n  </thead>\n  <tbody>\n    <tr>\n      <th>0</th>\n      <td>2</td>\n      <td>39051</td>\n      <td>NaN</td>\n      <td>Houston</td>\n      <td>City</td>\n      <td>TX</td>\n      <td>133.0</td>\n      <td>137.0</td>\n      <td>134.0</td>\n      <td>112.0</td>\n      <td>...</td>\n      <td>71.0</td>\n      <td>70.0</td>\n      <td>67.0</td>\n      <td>71.0</td>\n      <td>81.0</td>\n      <td>86.0</td>\n      <td>92.0</td>\n      <td>94.0</td>\n      <td>104.0</td>\n      <td>99.0</td>\n    </tr>\n    <tr>\n      <th>1</th>\n      <td>4</td>\n      <td>6915</td>\n      <td>NaN</td>\n      <td>San Antonio</td>\n      <td>City</td>\n      <td>TX</td>\n      <td>101.0</td>\n      <td>110.0</td>\n      <td>121.0</td>\n      <td>110.0</td>\n      <td>...</td>\n      <td>61.0</td>\n      <td>61.0</td>\n      <td>60.0</td>\n      <td>62.0</td>\n      <td>70.0</td>\n      <td>76.0</td>\n      <td>79.0</td>\n      <td>84.0</td>\n      <td>92.0</td>\n      <td>91.0</td>\n    </tr>\n    <tr>\n      <th>2</th>\n      <td>9</td>\n      <td>38128</td>\n      <td>NaN</td>\n      <td>Dallas</td>\n      <td>City</td>\n      <td>TX</td>\n      <td>136.0</td>\n      <td>136.0</td>\n      <td>132.0</td>\n      <td>118.0</td>\n      <td>...</td>\n      <td>65.0</td>\n      <td>65.0</td>\n      <td>68.0</td>\n      <td>71.0</td>\n      <td>76.0</td>\n      <td>84.0</td>\n      <td>75.0</td>\n      <td>91.5</td>\n      <td>96.0</td>\n      <td>97.0</td>\n    </tr>\n    <tr>\n      <th>3</th>\n      <td>10</td>\n      <td>10221</td>\n      <td>NaN</td>\n      <td>Austin</td>\n      <td>City</td>\n      <td>TX</td>\n      <td>111.0</td>\n      <td>111.5</td>\n      <td>108.0</td>\n      <td>86.0</td>\n      <td>...</td>\n      <td>47.0</td>\n      <td>49.0</td>\n      <td>48.0</td>\n      <td>53.0</td>\n      <td>54.0</td>\n      <td>60.0</td>\n      <td>57.0</td>\n      <td>64.0</td>\n      <td>71.0</td>\n      <td>52.0</td>\n    </tr>\n    <tr>\n      <th>4</th>\n      <td>15</td>\n      <td>18172</td>\n      <td>NaN</td>\n      <td>Fort Worth</td>\n      <td>City</td>\n      <td>TX</td>\n      <td>122.0</td>\n      <td>122.0</td>\n      <td>117.0</td>\n      <td>109.0</td>\n      <td>...</td>\n      <td>55.0</td>\n      <td>54.0</td>\n      <td>53.0</td>\n      <td>54.0</td>\n      <td>65.0</td>\n      <td>66.0</td>\n      <td>71.0</td>\n      <td>71.0</td>\n      <td>76.0</td>\n      <td>77.0</td>\n    </tr>\n    <tr>\n      <th>...</th>\n      <td>...</td>\n      <td>...</td>\n      <td>...</td>\n      <td>...</td>\n      <td>...</td>\n      <td>...</td>\n      <td>...</td>\n      <td>...</td>\n      <td>...</td>\n      <td>...</td>\n      <td>...</td>\n      <td>...</td>\n      <td>...</td>\n      <td>...</td>\n      <td>...</td>\n      <td>...</td>\n      <td>...</td>\n      <td>...</td>\n      <td>...</td>\n      <td>...</td>\n      <td>...</td>\n    </tr>\n    <tr>\n      <th>131</th>\n      <td>2512</td>\n      <td>28168</td>\n      <td>NaN</td>\n      <td>Celina</td>\n      <td>City</td>\n      <td>TX</td>\n      <td>NaN</td>\n      <td>NaN</td>\n      <td>NaN</td>\n      <td>NaN</td>\n      <td>...</td>\n      <td>151.0</td>\n      <td>98.0</td>\n      <td>139.0</td>\n      <td>120.5</td>\n      <td>142.0</td>\n      <td>176.0</td>\n      <td>164.0</td>\n      <td>165.5</td>\n      <td>111.0</td>\n      <td>119.5</td>\n    </tr>\n    <tr>\n      <th>132</th>\n      <td>2601</td>\n      <td>29386</td>\n      <td>NaN</td>\n      <td>Woodway</td>\n      <td>City</td>\n      <td>TX</td>\n      <td>NaN</td>\n      <td>NaN</td>\n      <td>NaN</td>\n      <td>NaN</td>\n      <td>...</td>\n      <td>59.0</td>\n      <td>50.0</td>\n      <td>65.0</td>\n      <td>75.0</td>\n      <td>93.0</td>\n      <td>59.0</td>\n      <td>54.0</td>\n      <td>73.5</td>\n      <td>93.5</td>\n      <td>91.5</td>\n    </tr>\n    <tr>\n      <th>133</th>\n      <td>2618</td>\n      <td>24253</td>\n      <td>NaN</td>\n      <td>Crandall</td>\n      <td>City</td>\n      <td>TX</td>\n      <td>NaN</td>\n      <td>NaN</td>\n      <td>NaN</td>\n      <td>NaN</td>\n      <td>...</td>\n      <td>54.0</td>\n      <td>76.0</td>\n      <td>75.0</td>\n      <td>67.0</td>\n      <td>92.0</td>\n      <td>84.0</td>\n      <td>103.0</td>\n      <td>121.0</td>\n      <td>118.0</td>\n      <td>157.0</td>\n    </tr>\n    <tr>\n      <th>134</th>\n      <td>2636</td>\n      <td>35401</td>\n      <td>NaN</td>\n      <td>Fulshear</td>\n      <td>City</td>\n      <td>TX</td>\n      <td>NaN</td>\n      <td>NaN</td>\n      <td>NaN</td>\n      <td>NaN</td>\n      <td>...</td>\n      <td>183.0</td>\n      <td>143.5</td>\n      <td>110.0</td>\n      <td>132.0</td>\n      <td>132.0</td>\n      <td>133.0</td>\n      <td>154.0</td>\n      <td>124.0</td>\n      <td>150.5</td>\n      <td>166.0</td>\n    </tr>\n    <tr>\n      <th>135</th>\n      <td>2676</td>\n      <td>12103</td>\n      <td>NaN</td>\n      <td>Jarrell</td>\n      <td>City</td>\n      <td>TX</td>\n      <td>NaN</td>\n      <td>NaN</td>\n      <td>NaN</td>\n      <td>NaN</td>\n      <td>...</td>\n      <td>62.0</td>\n      <td>79.5</td>\n      <td>72.0</td>\n      <td>83.5</td>\n      <td>83.0</td>\n      <td>98.0</td>\n      <td>64.5</td>\n      <td>80.0</td>\n      <td>80.0</td>\n      <td>98.0</td>\n    </tr>\n  </tbody>\n</table>\n<p>136 rows × 128 columns</p>\n</div>"
     },
     "metadata": {},
     "execution_count": 147
    }
   ],
   "source": [
    "# Load data\n",
    "avg_market_data = pd.read_csv(\"Avg_day_on_mkt.csv\")\n",
    "avg_market_df = pd.DataFrame(avg_market_data)\n",
    "avg_market_df"
   ]
  },
  {
   "cell_type": "code",
   "execution_count": 148,
   "metadata": {},
   "outputs": [
    {
     "output_type": "execute_result",
     "data": {
      "text/plain": [
       "     Identifier  2010-01  2010-02  2010-03  2010-04  2010-05  2010-06  \\\n",
       "0             2    133.0    137.0    134.0    112.0     92.5     98.0   \n",
       "1             4    101.0    110.0    121.0    110.0    104.0    104.0   \n",
       "2             9    136.0    136.0    132.0    118.0    104.0    102.0   \n",
       "3            10    111.0    111.5    108.0     86.0     81.0     91.0   \n",
       "4            15    122.0    122.0    117.0    109.0    107.0     95.0   \n",
       "..          ...      ...      ...      ...      ...      ...      ...   \n",
       "131        2512      NaN      NaN      NaN      NaN      NaN      NaN   \n",
       "132        2601      NaN      NaN      NaN      NaN      NaN      NaN   \n",
       "133        2618      NaN      NaN      NaN      NaN      NaN      NaN   \n",
       "134        2636      NaN      NaN      NaN      NaN      NaN      NaN   \n",
       "135        2676      NaN      NaN      NaN      NaN      NaN      NaN   \n",
       "\n",
       "     2010-07  2010-08  2010-09  ...  2019-05  2019-06  2019-07  2019-08  \\\n",
       "0       97.0     99.0    106.0  ...     71.0     70.0     67.0     71.0   \n",
       "1       99.0     99.0    104.0  ...     61.0     61.0     60.0     62.0   \n",
       "2      104.5    102.0    104.0  ...     65.0     65.0     68.0     71.0   \n",
       "3       88.0     99.0     98.0  ...     47.0     49.0     48.0     53.0   \n",
       "4      103.0     97.0    102.0  ...     55.0     54.0     53.0     54.0   \n",
       "..       ...      ...      ...  ...      ...      ...      ...      ...   \n",
       "131      NaN      NaN      NaN  ...    151.0     98.0    139.0    120.5   \n",
       "132      NaN      NaN      NaN  ...     59.0     50.0     65.0     75.0   \n",
       "133      NaN      NaN      NaN  ...     54.0     76.0     75.0     67.0   \n",
       "134      NaN      NaN      NaN  ...    183.0    143.5    110.0    132.0   \n",
       "135      NaN      NaN      NaN  ...     62.0     79.5     72.0     83.5   \n",
       "\n",
       "     2019-09  2019-10  2019-11  2019-12  2020-01  2020-02  \n",
       "0       81.0     86.0     92.0     94.0    104.0     99.0  \n",
       "1       70.0     76.0     79.0     84.0     92.0     91.0  \n",
       "2       76.0     84.0     75.0     91.5     96.0     97.0  \n",
       "3       54.0     60.0     57.0     64.0     71.0     52.0  \n",
       "4       65.0     66.0     71.0     71.0     76.0     77.0  \n",
       "..       ...      ...      ...      ...      ...      ...  \n",
       "131    142.0    176.0    164.0    165.5    111.0    119.5  \n",
       "132     93.0     59.0     54.0     73.5     93.5     91.5  \n",
       "133     92.0     84.0    103.0    121.0    118.0    157.0  \n",
       "134    132.0    133.0    154.0    124.0    150.5    166.0  \n",
       "135     83.0     98.0     64.5     80.0     80.0     98.0  \n",
       "\n",
       "[136 rows x 123 columns]"
      ],
      "text/html": "<div>\n<style scoped>\n    .dataframe tbody tr th:only-of-type {\n        vertical-align: middle;\n    }\n\n    .dataframe tbody tr th {\n        vertical-align: top;\n    }\n\n    .dataframe thead th {\n        text-align: right;\n    }\n</style>\n<table border=\"1\" class=\"dataframe\">\n  <thead>\n    <tr style=\"text-align: right;\">\n      <th></th>\n      <th>Identifier</th>\n      <th>2010-01</th>\n      <th>2010-02</th>\n      <th>2010-03</th>\n      <th>2010-04</th>\n      <th>2010-05</th>\n      <th>2010-06</th>\n      <th>2010-07</th>\n      <th>2010-08</th>\n      <th>2010-09</th>\n      <th>...</th>\n      <th>2019-05</th>\n      <th>2019-06</th>\n      <th>2019-07</th>\n      <th>2019-08</th>\n      <th>2019-09</th>\n      <th>2019-10</th>\n      <th>2019-11</th>\n      <th>2019-12</th>\n      <th>2020-01</th>\n      <th>2020-02</th>\n    </tr>\n  </thead>\n  <tbody>\n    <tr>\n      <th>0</th>\n      <td>2</td>\n      <td>133.0</td>\n      <td>137.0</td>\n      <td>134.0</td>\n      <td>112.0</td>\n      <td>92.5</td>\n      <td>98.0</td>\n      <td>97.0</td>\n      <td>99.0</td>\n      <td>106.0</td>\n      <td>...</td>\n      <td>71.0</td>\n      <td>70.0</td>\n      <td>67.0</td>\n      <td>71.0</td>\n      <td>81.0</td>\n      <td>86.0</td>\n      <td>92.0</td>\n      <td>94.0</td>\n      <td>104.0</td>\n      <td>99.0</td>\n    </tr>\n    <tr>\n      <th>1</th>\n      <td>4</td>\n      <td>101.0</td>\n      <td>110.0</td>\n      <td>121.0</td>\n      <td>110.0</td>\n      <td>104.0</td>\n      <td>104.0</td>\n      <td>99.0</td>\n      <td>99.0</td>\n      <td>104.0</td>\n      <td>...</td>\n      <td>61.0</td>\n      <td>61.0</td>\n      <td>60.0</td>\n      <td>62.0</td>\n      <td>70.0</td>\n      <td>76.0</td>\n      <td>79.0</td>\n      <td>84.0</td>\n      <td>92.0</td>\n      <td>91.0</td>\n    </tr>\n    <tr>\n      <th>2</th>\n      <td>9</td>\n      <td>136.0</td>\n      <td>136.0</td>\n      <td>132.0</td>\n      <td>118.0</td>\n      <td>104.0</td>\n      <td>102.0</td>\n      <td>104.5</td>\n      <td>102.0</td>\n      <td>104.0</td>\n      <td>...</td>\n      <td>65.0</td>\n      <td>65.0</td>\n      <td>68.0</td>\n      <td>71.0</td>\n      <td>76.0</td>\n      <td>84.0</td>\n      <td>75.0</td>\n      <td>91.5</td>\n      <td>96.0</td>\n      <td>97.0</td>\n    </tr>\n    <tr>\n      <th>3</th>\n      <td>10</td>\n      <td>111.0</td>\n      <td>111.5</td>\n      <td>108.0</td>\n      <td>86.0</td>\n      <td>81.0</td>\n      <td>91.0</td>\n      <td>88.0</td>\n      <td>99.0</td>\n      <td>98.0</td>\n      <td>...</td>\n      <td>47.0</td>\n      <td>49.0</td>\n      <td>48.0</td>\n      <td>53.0</td>\n      <td>54.0</td>\n      <td>60.0</td>\n      <td>57.0</td>\n      <td>64.0</td>\n      <td>71.0</td>\n      <td>52.0</td>\n    </tr>\n    <tr>\n      <th>4</th>\n      <td>15</td>\n      <td>122.0</td>\n      <td>122.0</td>\n      <td>117.0</td>\n      <td>109.0</td>\n      <td>107.0</td>\n      <td>95.0</td>\n      <td>103.0</td>\n      <td>97.0</td>\n      <td>102.0</td>\n      <td>...</td>\n      <td>55.0</td>\n      <td>54.0</td>\n      <td>53.0</td>\n      <td>54.0</td>\n      <td>65.0</td>\n      <td>66.0</td>\n      <td>71.0</td>\n      <td>71.0</td>\n      <td>76.0</td>\n      <td>77.0</td>\n    </tr>\n    <tr>\n      <th>...</th>\n      <td>...</td>\n      <td>...</td>\n      <td>...</td>\n      <td>...</td>\n      <td>...</td>\n      <td>...</td>\n      <td>...</td>\n      <td>...</td>\n      <td>...</td>\n      <td>...</td>\n      <td>...</td>\n      <td>...</td>\n      <td>...</td>\n      <td>...</td>\n      <td>...</td>\n      <td>...</td>\n      <td>...</td>\n      <td>...</td>\n      <td>...</td>\n      <td>...</td>\n      <td>...</td>\n    </tr>\n    <tr>\n      <th>131</th>\n      <td>2512</td>\n      <td>NaN</td>\n      <td>NaN</td>\n      <td>NaN</td>\n      <td>NaN</td>\n      <td>NaN</td>\n      <td>NaN</td>\n      <td>NaN</td>\n      <td>NaN</td>\n      <td>NaN</td>\n      <td>...</td>\n      <td>151.0</td>\n      <td>98.0</td>\n      <td>139.0</td>\n      <td>120.5</td>\n      <td>142.0</td>\n      <td>176.0</td>\n      <td>164.0</td>\n      <td>165.5</td>\n      <td>111.0</td>\n      <td>119.5</td>\n    </tr>\n    <tr>\n      <th>132</th>\n      <td>2601</td>\n      <td>NaN</td>\n      <td>NaN</td>\n      <td>NaN</td>\n      <td>NaN</td>\n      <td>NaN</td>\n      <td>NaN</td>\n      <td>NaN</td>\n      <td>NaN</td>\n      <td>NaN</td>\n      <td>...</td>\n      <td>59.0</td>\n      <td>50.0</td>\n      <td>65.0</td>\n      <td>75.0</td>\n      <td>93.0</td>\n      <td>59.0</td>\n      <td>54.0</td>\n      <td>73.5</td>\n      <td>93.5</td>\n      <td>91.5</td>\n    </tr>\n    <tr>\n      <th>133</th>\n      <td>2618</td>\n      <td>NaN</td>\n      <td>NaN</td>\n      <td>NaN</td>\n      <td>NaN</td>\n      <td>NaN</td>\n      <td>NaN</td>\n      <td>NaN</td>\n      <td>NaN</td>\n      <td>NaN</td>\n      <td>...</td>\n      <td>54.0</td>\n      <td>76.0</td>\n      <td>75.0</td>\n      <td>67.0</td>\n      <td>92.0</td>\n      <td>84.0</td>\n      <td>103.0</td>\n      <td>121.0</td>\n      <td>118.0</td>\n      <td>157.0</td>\n    </tr>\n    <tr>\n      <th>134</th>\n      <td>2636</td>\n      <td>NaN</td>\n      <td>NaN</td>\n      <td>NaN</td>\n      <td>NaN</td>\n      <td>NaN</td>\n      <td>NaN</td>\n      <td>NaN</td>\n      <td>NaN</td>\n      <td>NaN</td>\n      <td>...</td>\n      <td>183.0</td>\n      <td>143.5</td>\n      <td>110.0</td>\n      <td>132.0</td>\n      <td>132.0</td>\n      <td>133.0</td>\n      <td>154.0</td>\n      <td>124.0</td>\n      <td>150.5</td>\n      <td>166.0</td>\n    </tr>\n    <tr>\n      <th>135</th>\n      <td>2676</td>\n      <td>NaN</td>\n      <td>NaN</td>\n      <td>NaN</td>\n      <td>NaN</td>\n      <td>NaN</td>\n      <td>NaN</td>\n      <td>NaN</td>\n      <td>NaN</td>\n      <td>NaN</td>\n      <td>...</td>\n      <td>62.0</td>\n      <td>79.5</td>\n      <td>72.0</td>\n      <td>83.5</td>\n      <td>83.0</td>\n      <td>98.0</td>\n      <td>64.5</td>\n      <td>80.0</td>\n      <td>80.0</td>\n      <td>98.0</td>\n    </tr>\n  </tbody>\n</table>\n<p>136 rows × 123 columns</p>\n</div>"
     },
     "metadata": {},
     "execution_count": 148
    }
   ],
   "source": [
    "avg_market_df.drop(columns=['RegionID', 'Unnamed: 2', 'RegionName', 'RegionType', 'StateName'], inplace=True)\n",
    "avg_market_df"
   ]
  },
  {
   "cell_type": "code",
   "execution_count": 151,
   "metadata": {},
   "outputs": [
    {
     "output_type": "execute_result",
     "data": {
      "text/plain": [
       "   Identifier     Date  Average_Market_Days\n",
       "0           2  2010-01                133.0\n",
       "1           4  2010-01                101.0\n",
       "2           9  2010-01                136.0\n",
       "3          10  2010-01                111.0\n",
       "4          15  2010-01                122.0"
      ],
      "text/html": "<div>\n<style scoped>\n    .dataframe tbody tr th:only-of-type {\n        vertical-align: middle;\n    }\n\n    .dataframe tbody tr th {\n        vertical-align: top;\n    }\n\n    .dataframe thead th {\n        text-align: right;\n    }\n</style>\n<table border=\"1\" class=\"dataframe\">\n  <thead>\n    <tr style=\"text-align: right;\">\n      <th></th>\n      <th>Identifier</th>\n      <th>Date</th>\n      <th>Average_Market_Days</th>\n    </tr>\n  </thead>\n  <tbody>\n    <tr>\n      <th>0</th>\n      <td>2</td>\n      <td>2010-01</td>\n      <td>133.0</td>\n    </tr>\n    <tr>\n      <th>1</th>\n      <td>4</td>\n      <td>2010-01</td>\n      <td>101.0</td>\n    </tr>\n    <tr>\n      <th>2</th>\n      <td>9</td>\n      <td>2010-01</td>\n      <td>136.0</td>\n    </tr>\n    <tr>\n      <th>3</th>\n      <td>10</td>\n      <td>2010-01</td>\n      <td>111.0</td>\n    </tr>\n    <tr>\n      <th>4</th>\n      <td>15</td>\n      <td>2010-01</td>\n      <td>122.0</td>\n    </tr>\n  </tbody>\n</table>\n</div>"
     },
     "metadata": {},
     "execution_count": 151
    }
   ],
   "source": [
    "avg_market_df= avg_market_df.melt(id_vars=[\"Identifier\"], \n",
    "        var_name=\"Date\", \n",
    "        value_name=\"Average_Market_Days\")\n",
    "avg_market_df.head()"
   ]
  },
  {
   "cell_type": "code",
   "execution_count": 152,
   "metadata": {},
   "outputs": [],
   "source": [
    "avg_market_df.reset_index(drop=True, inplace=True)\n",
    "avg_market_df.set_index('Date', inplace=True)"
   ]
  },
  {
   "cell_type": "code",
   "execution_count": 153,
   "metadata": {},
   "outputs": [
    {
     "output_type": "execute_result",
     "data": {
      "text/plain": [
       "         Identifier  Average_Market_Days\n",
       "Date                                    \n",
       "2010-01           2                133.0\n",
       "2010-01           4                101.0\n",
       "2010-01           9                136.0\n",
       "2010-01          10                111.0\n",
       "2010-01          15                122.0\n",
       "...             ...                  ...\n",
       "2020-02        2512                119.5\n",
       "2020-02        2601                 91.5\n",
       "2020-02        2618                157.0\n",
       "2020-02        2636                166.0\n",
       "2020-02        2676                 98.0\n",
       "\n",
       "[16592 rows x 2 columns]"
      ],
      "text/html": "<div>\n<style scoped>\n    .dataframe tbody tr th:only-of-type {\n        vertical-align: middle;\n    }\n\n    .dataframe tbody tr th {\n        vertical-align: top;\n    }\n\n    .dataframe thead th {\n        text-align: right;\n    }\n</style>\n<table border=\"1\" class=\"dataframe\">\n  <thead>\n    <tr style=\"text-align: right;\">\n      <th></th>\n      <th>Identifier</th>\n      <th>Average_Market_Days</th>\n    </tr>\n    <tr>\n      <th>Date</th>\n      <th></th>\n      <th></th>\n    </tr>\n  </thead>\n  <tbody>\n    <tr>\n      <th>2010-01</th>\n      <td>2</td>\n      <td>133.0</td>\n    </tr>\n    <tr>\n      <th>2010-01</th>\n      <td>4</td>\n      <td>101.0</td>\n    </tr>\n    <tr>\n      <th>2010-01</th>\n      <td>9</td>\n      <td>136.0</td>\n    </tr>\n    <tr>\n      <th>2010-01</th>\n      <td>10</td>\n      <td>111.0</td>\n    </tr>\n    <tr>\n      <th>2010-01</th>\n      <td>15</td>\n      <td>122.0</td>\n    </tr>\n    <tr>\n      <th>...</th>\n      <td>...</td>\n      <td>...</td>\n    </tr>\n    <tr>\n      <th>2020-02</th>\n      <td>2512</td>\n      <td>119.5</td>\n    </tr>\n    <tr>\n      <th>2020-02</th>\n      <td>2601</td>\n      <td>91.5</td>\n    </tr>\n    <tr>\n      <th>2020-02</th>\n      <td>2618</td>\n      <td>157.0</td>\n    </tr>\n    <tr>\n      <th>2020-02</th>\n      <td>2636</td>\n      <td>166.0</td>\n    </tr>\n    <tr>\n      <th>2020-02</th>\n      <td>2676</td>\n      <td>98.0</td>\n    </tr>\n  </tbody>\n</table>\n<p>16592 rows × 2 columns</p>\n</div>"
     },
     "metadata": {},
     "execution_count": 153
    }
   ],
   "source": [
    "avg_market_df"
   ]
  },
  {
   "cell_type": "code",
   "execution_count": 162,
   "metadata": {},
   "outputs": [
    {
     "output_type": "execute_result",
     "data": {
      "text/plain": [
       "Empty DataFrame\n",
       "Columns: [Identifier, Bedroom, RegionName, State, Metro, CountyName, Price, Average_Market_Days]\n",
       "Index: []"
      ],
      "text/html": "<div>\n<style scoped>\n    .dataframe tbody tr th:only-of-type {\n        vertical-align: middle;\n    }\n\n    .dataframe tbody tr th {\n        vertical-align: top;\n    }\n\n    .dataframe thead th {\n        text-align: right;\n    }\n</style>\n<table border=\"1\" class=\"dataframe\">\n  <thead>\n    <tr style=\"text-align: right;\">\n      <th></th>\n      <th>Identifier</th>\n      <th>Bedroom</th>\n      <th>RegionName</th>\n      <th>State</th>\n      <th>Metro</th>\n      <th>CountyName</th>\n      <th>Price</th>\n      <th>Average_Market_Days</th>\n    </tr>\n    <tr>\n      <th>Date</th>\n      <th></th>\n      <th></th>\n      <th></th>\n      <th></th>\n      <th></th>\n      <th></th>\n      <th></th>\n      <th></th>\n    </tr>\n  </thead>\n  <tbody>\n  </tbody>\n</table>\n</div>"
     },
     "metadata": {},
     "execution_count": 162
    }
   ],
   "source": [
    "housing_data_df = housing_df.merge(avg_market_df, right_on=['Date', 'Identifier'], left_on=['Date', 'Identifier'], )\n",
    "housing_data_df"
   ]
  },
  {
   "cell_type": "code",
   "execution_count": 165,
   "metadata": {},
   "outputs": [
    {
     "output_type": "execute_result",
     "data": {
      "text/plain": [
       "dtype('O')"
      ]
     },
     "metadata": {},
     "execution_count": 165
    }
   ],
   "source": [
    "housing_df.index.dtype"
   ]
  },
  {
   "cell_type": "code",
   "execution_count": 164,
   "metadata": {},
   "outputs": [
    {
     "output_type": "stream",
     "name": "stdout",
     "text": [
      "<class 'pandas.core.frame.DataFrame'>\nIndex: 16592 entries, 2010-01 to 2020-02\nData columns (total 2 columns):\n #   Column               Non-Null Count  Dtype  \n---  ------               --------------  -----  \n 0   Identifier           16592 non-null  int64  \n 1   Average_Market_Days  9046 non-null   float64\ndtypes: float64(1), int64(1)\nmemory usage: 1.0+ MB\n"
     ]
    }
   ],
   "source": [
    "avg_market_df.info()"
   ]
  },
  {
   "cell_type": "code",
   "execution_count": 167,
   "metadata": {},
   "outputs": [
    {
     "output_type": "execute_result",
     "data": {
      "text/plain": [
       "            Identifier  Bedroom      RegionName State  \\\n",
       "Date                                                    \n",
       "2010-01-31           2        1         Houston    TX   \n",
       "2010-01-31         110        1          Spring    TX   \n",
       "2010-01-31         187        1      Sugar Land    TX   \n",
       "2010-01-31         209        1         Cypress    TX   \n",
       "2010-01-31         218        1          Conroe    TX   \n",
       "...                ...      ...             ...   ...   \n",
       "2020-03-31       18435        5   Morgans Point    TX   \n",
       "2020-03-31       18625        5          Wallis    TX   \n",
       "2020-03-31       18722        5   Jamaica Beach    TX   \n",
       "2020-03-31       18726        5  Surfside Beach    TX   \n",
       "2020-03-31       18750        5      Fairchilds    TX   \n",
       "\n",
       "                                       Metro         CountyName     Price  \n",
       "Date                                                                       \n",
       "2010-01-31  Houston-The Woodlands-Sugar Land      Harris County   67653.0  \n",
       "2010-01-31  Houston-The Woodlands-Sugar Land      Harris County   54159.0  \n",
       "2010-01-31  Houston-The Woodlands-Sugar Land   Fort Bend County  212721.0  \n",
       "2010-01-31  Houston-The Woodlands-Sugar Land      Harris County   83279.0  \n",
       "2010-01-31  Houston-The Woodlands-Sugar Land  Montgomery County  142717.0  \n",
       "...                                      ...                ...       ...  \n",
       "2020-03-31  Houston-The Woodlands-Sugar Land      Harris County  732224.0  \n",
       "2020-03-31  Houston-The Woodlands-Sugar Land      Austin County  167583.0  \n",
       "2020-03-31  Houston-The Woodlands-Sugar Land   Galveston County  649370.0  \n",
       "2020-03-31  Houston-The Woodlands-Sugar Land    Brazoria County  482405.0  \n",
       "2020-03-31  Houston-The Woodlands-Sugar Land   Fort Bend County  384703.0  \n",
       "\n",
       "[70725 rows x 7 columns]"
      ],
      "text/html": "<div>\n<style scoped>\n    .dataframe tbody tr th:only-of-type {\n        vertical-align: middle;\n    }\n\n    .dataframe tbody tr th {\n        vertical-align: top;\n    }\n\n    .dataframe thead th {\n        text-align: right;\n    }\n</style>\n<table border=\"1\" class=\"dataframe\">\n  <thead>\n    <tr style=\"text-align: right;\">\n      <th></th>\n      <th>Identifier</th>\n      <th>Bedroom</th>\n      <th>RegionName</th>\n      <th>State</th>\n      <th>Metro</th>\n      <th>CountyName</th>\n      <th>Price</th>\n    </tr>\n    <tr>\n      <th>Date</th>\n      <th></th>\n      <th></th>\n      <th></th>\n      <th></th>\n      <th></th>\n      <th></th>\n      <th></th>\n    </tr>\n  </thead>\n  <tbody>\n    <tr>\n      <th>2010-01-31</th>\n      <td>2</td>\n      <td>1</td>\n      <td>Houston</td>\n      <td>TX</td>\n      <td>Houston-The Woodlands-Sugar Land</td>\n      <td>Harris County</td>\n      <td>67653.0</td>\n    </tr>\n    <tr>\n      <th>2010-01-31</th>\n      <td>110</td>\n      <td>1</td>\n      <td>Spring</td>\n      <td>TX</td>\n      <td>Houston-The Woodlands-Sugar Land</td>\n      <td>Harris County</td>\n      <td>54159.0</td>\n    </tr>\n    <tr>\n      <th>2010-01-31</th>\n      <td>187</td>\n      <td>1</td>\n      <td>Sugar Land</td>\n      <td>TX</td>\n      <td>Houston-The Woodlands-Sugar Land</td>\n      <td>Fort Bend County</td>\n      <td>212721.0</td>\n    </tr>\n    <tr>\n      <th>2010-01-31</th>\n      <td>209</td>\n      <td>1</td>\n      <td>Cypress</td>\n      <td>TX</td>\n      <td>Houston-The Woodlands-Sugar Land</td>\n      <td>Harris County</td>\n      <td>83279.0</td>\n    </tr>\n    <tr>\n      <th>2010-01-31</th>\n      <td>218</td>\n      <td>1</td>\n      <td>Conroe</td>\n      <td>TX</td>\n      <td>Houston-The Woodlands-Sugar Land</td>\n      <td>Montgomery County</td>\n      <td>142717.0</td>\n    </tr>\n    <tr>\n      <th>...</th>\n      <td>...</td>\n      <td>...</td>\n      <td>...</td>\n      <td>...</td>\n      <td>...</td>\n      <td>...</td>\n      <td>...</td>\n    </tr>\n    <tr>\n      <th>2020-03-31</th>\n      <td>18435</td>\n      <td>5</td>\n      <td>Morgans Point</td>\n      <td>TX</td>\n      <td>Houston-The Woodlands-Sugar Land</td>\n      <td>Harris County</td>\n      <td>732224.0</td>\n    </tr>\n    <tr>\n      <th>2020-03-31</th>\n      <td>18625</td>\n      <td>5</td>\n      <td>Wallis</td>\n      <td>TX</td>\n      <td>Houston-The Woodlands-Sugar Land</td>\n      <td>Austin County</td>\n      <td>167583.0</td>\n    </tr>\n    <tr>\n      <th>2020-03-31</th>\n      <td>18722</td>\n      <td>5</td>\n      <td>Jamaica Beach</td>\n      <td>TX</td>\n      <td>Houston-The Woodlands-Sugar Land</td>\n      <td>Galveston County</td>\n      <td>649370.0</td>\n    </tr>\n    <tr>\n      <th>2020-03-31</th>\n      <td>18726</td>\n      <td>5</td>\n      <td>Surfside Beach</td>\n      <td>TX</td>\n      <td>Houston-The Woodlands-Sugar Land</td>\n      <td>Brazoria County</td>\n      <td>482405.0</td>\n    </tr>\n    <tr>\n      <th>2020-03-31</th>\n      <td>18750</td>\n      <td>5</td>\n      <td>Fairchilds</td>\n      <td>TX</td>\n      <td>Houston-The Woodlands-Sugar Land</td>\n      <td>Fort Bend County</td>\n      <td>384703.0</td>\n    </tr>\n  </tbody>\n</table>\n<p>70725 rows × 7 columns</p>\n</div>"
     },
     "metadata": {},
     "execution_count": 167
    }
   ],
   "source": [
    "housing_df.index = pd.to_datetime(housing_df.index)\n",
    "housing_df"
   ]
  },
  {
   "cell_type": "code",
   "execution_count": 170,
   "metadata": {},
   "outputs": [
    {
     "output_type": "execute_result",
     "data": {
      "text/plain": [
       "            Identifier  Average_Market_Days\n",
       "Date                                       \n",
       "2010-01-31           2                133.0\n",
       "2010-01-31           4                101.0\n",
       "2010-01-31           9                136.0\n",
       "2010-01-31          10                111.0\n",
       "2010-01-31          15                122.0\n",
       "...                ...                  ...\n",
       "2020-02-29        2512                119.5\n",
       "2020-02-29        2601                 91.5\n",
       "2020-02-29        2618                157.0\n",
       "2020-02-29        2636                166.0\n",
       "2020-02-29        2676                 98.0\n",
       "\n",
       "[16592 rows x 2 columns]"
      ],
      "text/html": "<div>\n<style scoped>\n    .dataframe tbody tr th:only-of-type {\n        vertical-align: middle;\n    }\n\n    .dataframe tbody tr th {\n        vertical-align: top;\n    }\n\n    .dataframe thead th {\n        text-align: right;\n    }\n</style>\n<table border=\"1\" class=\"dataframe\">\n  <thead>\n    <tr style=\"text-align: right;\">\n      <th></th>\n      <th>Identifier</th>\n      <th>Average_Market_Days</th>\n    </tr>\n    <tr>\n      <th>Date</th>\n      <th></th>\n      <th></th>\n    </tr>\n  </thead>\n  <tbody>\n    <tr>\n      <th>2010-01-31</th>\n      <td>2</td>\n      <td>133.0</td>\n    </tr>\n    <tr>\n      <th>2010-01-31</th>\n      <td>4</td>\n      <td>101.0</td>\n    </tr>\n    <tr>\n      <th>2010-01-31</th>\n      <td>9</td>\n      <td>136.0</td>\n    </tr>\n    <tr>\n      <th>2010-01-31</th>\n      <td>10</td>\n      <td>111.0</td>\n    </tr>\n    <tr>\n      <th>2010-01-31</th>\n      <td>15</td>\n      <td>122.0</td>\n    </tr>\n    <tr>\n      <th>...</th>\n      <td>...</td>\n      <td>...</td>\n    </tr>\n    <tr>\n      <th>2020-02-29</th>\n      <td>2512</td>\n      <td>119.5</td>\n    </tr>\n    <tr>\n      <th>2020-02-29</th>\n      <td>2601</td>\n      <td>91.5</td>\n    </tr>\n    <tr>\n      <th>2020-02-29</th>\n      <td>2618</td>\n      <td>157.0</td>\n    </tr>\n    <tr>\n      <th>2020-02-29</th>\n      <td>2636</td>\n      <td>166.0</td>\n    </tr>\n    <tr>\n      <th>2020-02-29</th>\n      <td>2676</td>\n      <td>98.0</td>\n    </tr>\n  </tbody>\n</table>\n<p>16592 rows × 2 columns</p>\n</div>"
     },
     "metadata": {},
     "execution_count": 170
    }
   ],
   "source": [
    "avg_market_df.index = pd.to_datetime(avg_market_df.index)\n",
    "avg_market_df.index = avg_market_df.index + pd.offsets.MonthEnd(0) \n",
    "avg_market_df"
   ]
  },
  {
   "cell_type": "code",
   "execution_count": 171,
   "metadata": {},
   "outputs": [
    {
     "output_type": "execute_result",
     "data": {
      "text/plain": [
       "            Identifier  Bedroom RegionName State  \\\n",
       "Date                                               \n",
       "2010-01-31           2        1    Houston    TX   \n",
       "2010-01-31           2        2    Houston    TX   \n",
       "2010-01-31           2        3    Houston    TX   \n",
       "2010-01-31           2        4    Houston    TX   \n",
       "2010-01-31           2        5    Houston    TX   \n",
       "...                ...      ...        ...   ...   \n",
       "2020-02-29         223        1   Pasadena    TX   \n",
       "2020-02-29         223        2   Pasadena    TX   \n",
       "2020-02-29         223        3   Pasadena    TX   \n",
       "2020-02-29        1811        2     Porter    TX   \n",
       "2020-02-29        2134        2     Crosby    TX   \n",
       "\n",
       "                                       Metro         CountyName     Price  \\\n",
       "Date                                                                        \n",
       "2010-01-31  Houston-The Woodlands-Sugar Land      Harris County   67653.0   \n",
       "2010-01-31  Houston-The Woodlands-Sugar Land      Harris County   89995.0   \n",
       "2010-01-31  Houston-The Woodlands-Sugar Land      Harris County  116641.0   \n",
       "2010-01-31  Houston-The Woodlands-Sugar Land      Harris County  167849.0   \n",
       "2010-01-31  Houston-The Woodlands-Sugar Land      Harris County  303323.0   \n",
       "...                                      ...                ...       ...   \n",
       "2020-02-29  Houston-The Woodlands-Sugar Land      Harris County   79380.0   \n",
       "2020-02-29  Houston-The Woodlands-Sugar Land      Harris County  121517.0   \n",
       "2020-02-29  Houston-The Woodlands-Sugar Land      Harris County  159204.0   \n",
       "2020-02-29  Houston-The Woodlands-Sugar Land  Montgomery County  157660.0   \n",
       "2020-02-29  Houston-The Woodlands-Sugar Land      Harris County  125585.0   \n",
       "\n",
       "            Average_Market_Days  \n",
       "Date                             \n",
       "2010-01-31                133.0  \n",
       "2010-01-31                133.0  \n",
       "2010-01-31                133.0  \n",
       "2010-01-31                133.0  \n",
       "2010-01-31                133.0  \n",
       "...                         ...  \n",
       "2020-02-29                100.0  \n",
       "2020-02-29                100.0  \n",
       "2020-02-29                100.0  \n",
       "2020-02-29                108.0  \n",
       "2020-02-29                156.0  \n",
       "\n",
       "[1220 rows x 8 columns]"
      ],
      "text/html": "<div>\n<style scoped>\n    .dataframe tbody tr th:only-of-type {\n        vertical-align: middle;\n    }\n\n    .dataframe tbody tr th {\n        vertical-align: top;\n    }\n\n    .dataframe thead th {\n        text-align: right;\n    }\n</style>\n<table border=\"1\" class=\"dataframe\">\n  <thead>\n    <tr style=\"text-align: right;\">\n      <th></th>\n      <th>Identifier</th>\n      <th>Bedroom</th>\n      <th>RegionName</th>\n      <th>State</th>\n      <th>Metro</th>\n      <th>CountyName</th>\n      <th>Price</th>\n      <th>Average_Market_Days</th>\n    </tr>\n    <tr>\n      <th>Date</th>\n      <th></th>\n      <th></th>\n      <th></th>\n      <th></th>\n      <th></th>\n      <th></th>\n      <th></th>\n      <th></th>\n    </tr>\n  </thead>\n  <tbody>\n    <tr>\n      <th>2010-01-31</th>\n      <td>2</td>\n      <td>1</td>\n      <td>Houston</td>\n      <td>TX</td>\n      <td>Houston-The Woodlands-Sugar Land</td>\n      <td>Harris County</td>\n      <td>67653.0</td>\n      <td>133.0</td>\n    </tr>\n    <tr>\n      <th>2010-01-31</th>\n      <td>2</td>\n      <td>2</td>\n      <td>Houston</td>\n      <td>TX</td>\n      <td>Houston-The Woodlands-Sugar Land</td>\n      <td>Harris County</td>\n      <td>89995.0</td>\n      <td>133.0</td>\n    </tr>\n    <tr>\n      <th>2010-01-31</th>\n      <td>2</td>\n      <td>3</td>\n      <td>Houston</td>\n      <td>TX</td>\n      <td>Houston-The Woodlands-Sugar Land</td>\n      <td>Harris County</td>\n      <td>116641.0</td>\n      <td>133.0</td>\n    </tr>\n    <tr>\n      <th>2010-01-31</th>\n      <td>2</td>\n      <td>4</td>\n      <td>Houston</td>\n      <td>TX</td>\n      <td>Houston-The Woodlands-Sugar Land</td>\n      <td>Harris County</td>\n      <td>167849.0</td>\n      <td>133.0</td>\n    </tr>\n    <tr>\n      <th>2010-01-31</th>\n      <td>2</td>\n      <td>5</td>\n      <td>Houston</td>\n      <td>TX</td>\n      <td>Houston-The Woodlands-Sugar Land</td>\n      <td>Harris County</td>\n      <td>303323.0</td>\n      <td>133.0</td>\n    </tr>\n    <tr>\n      <th>...</th>\n      <td>...</td>\n      <td>...</td>\n      <td>...</td>\n      <td>...</td>\n      <td>...</td>\n      <td>...</td>\n      <td>...</td>\n      <td>...</td>\n    </tr>\n    <tr>\n      <th>2020-02-29</th>\n      <td>223</td>\n      <td>1</td>\n      <td>Pasadena</td>\n      <td>TX</td>\n      <td>Houston-The Woodlands-Sugar Land</td>\n      <td>Harris County</td>\n      <td>79380.0</td>\n      <td>100.0</td>\n    </tr>\n    <tr>\n      <th>2020-02-29</th>\n      <td>223</td>\n      <td>2</td>\n      <td>Pasadena</td>\n      <td>TX</td>\n      <td>Houston-The Woodlands-Sugar Land</td>\n      <td>Harris County</td>\n      <td>121517.0</td>\n      <td>100.0</td>\n    </tr>\n    <tr>\n      <th>2020-02-29</th>\n      <td>223</td>\n      <td>3</td>\n      <td>Pasadena</td>\n      <td>TX</td>\n      <td>Houston-The Woodlands-Sugar Land</td>\n      <td>Harris County</td>\n      <td>159204.0</td>\n      <td>100.0</td>\n    </tr>\n    <tr>\n      <th>2020-02-29</th>\n      <td>1811</td>\n      <td>2</td>\n      <td>Porter</td>\n      <td>TX</td>\n      <td>Houston-The Woodlands-Sugar Land</td>\n      <td>Montgomery County</td>\n      <td>157660.0</td>\n      <td>108.0</td>\n    </tr>\n    <tr>\n      <th>2020-02-29</th>\n      <td>2134</td>\n      <td>2</td>\n      <td>Crosby</td>\n      <td>TX</td>\n      <td>Houston-The Woodlands-Sugar Land</td>\n      <td>Harris County</td>\n      <td>125585.0</td>\n      <td>156.0</td>\n    </tr>\n  </tbody>\n</table>\n<p>1220 rows × 8 columns</p>\n</div>"
     },
     "metadata": {},
     "execution_count": 171
    }
   ],
   "source": [
    "housing_data_df = housing_df.merge(avg_market_df, right_on=['Date', 'Identifier'], left_on=['Date', 'Identifier'], )\n",
    "housing_data_df"
   ]
  },
  {
   "cell_type": "code",
   "execution_count": 172,
   "metadata": {},
   "outputs": [
    {
     "output_type": "execute_result",
     "data": {
      "text/plain": [
       "            Identifier  Bedroom     Price  Average_Market_Days  \\\n",
       "Date                                                             \n",
       "2010-01-31           2        1   67653.0                133.0   \n",
       "2010-01-31           2        2   89995.0                133.0   \n",
       "2010-01-31           2        3  116641.0                133.0   \n",
       "2010-01-31           2        4  167849.0                133.0   \n",
       "2010-01-31           2        5  303323.0                133.0   \n",
       "...                ...      ...       ...                  ...   \n",
       "2020-02-29         223        1   79380.0                100.0   \n",
       "2020-02-29         223        2  121517.0                100.0   \n",
       "2020-02-29         223        3  159204.0                100.0   \n",
       "2020-02-29        1811        2  157660.0                108.0   \n",
       "2020-02-29        2134        2  125585.0                156.0   \n",
       "\n",
       "            RegionName_Crosby  RegionName_Houston  RegionName_Pasadena  \\\n",
       "Date                                                                     \n",
       "2010-01-31                  0                   1                    0   \n",
       "2010-01-31                  0                   1                    0   \n",
       "2010-01-31                  0                   1                    0   \n",
       "2010-01-31                  0                   1                    0   \n",
       "2010-01-31                  0                   1                    0   \n",
       "...                       ...                 ...                  ...   \n",
       "2020-02-29                  0                   0                    1   \n",
       "2020-02-29                  0                   0                    1   \n",
       "2020-02-29                  0                   0                    1   \n",
       "2020-02-29                  0                   0                    0   \n",
       "2020-02-29                  1                   0                    0   \n",
       "\n",
       "            RegionName_Porter  State_TX  \\\n",
       "Date                                      \n",
       "2010-01-31                  0         1   \n",
       "2010-01-31                  0         1   \n",
       "2010-01-31                  0         1   \n",
       "2010-01-31                  0         1   \n",
       "2010-01-31                  0         1   \n",
       "...                       ...       ...   \n",
       "2020-02-29                  0         1   \n",
       "2020-02-29                  0         1   \n",
       "2020-02-29                  0         1   \n",
       "2020-02-29                  1         1   \n",
       "2020-02-29                  0         1   \n",
       "\n",
       "            Metro_Houston-The Woodlands-Sugar Land  CountyName_Harris County  \\\n",
       "Date                                                                           \n",
       "2010-01-31                                       1                         1   \n",
       "2010-01-31                                       1                         1   \n",
       "2010-01-31                                       1                         1   \n",
       "2010-01-31                                       1                         1   \n",
       "2010-01-31                                       1                         1   \n",
       "...                                            ...                       ...   \n",
       "2020-02-29                                       1                         1   \n",
       "2020-02-29                                       1                         1   \n",
       "2020-02-29                                       1                         1   \n",
       "2020-02-29                                       1                         0   \n",
       "2020-02-29                                       1                         1   \n",
       "\n",
       "            CountyName_Montgomery County  \n",
       "Date                                      \n",
       "2010-01-31                             0  \n",
       "2010-01-31                             0  \n",
       "2010-01-31                             0  \n",
       "2010-01-31                             0  \n",
       "2010-01-31                             0  \n",
       "...                                  ...  \n",
       "2020-02-29                             0  \n",
       "2020-02-29                             0  \n",
       "2020-02-29                             0  \n",
       "2020-02-29                             1  \n",
       "2020-02-29                             0  \n",
       "\n",
       "[1220 rows x 12 columns]"
      ],
      "text/html": "<div>\n<style scoped>\n    .dataframe tbody tr th:only-of-type {\n        vertical-align: middle;\n    }\n\n    .dataframe tbody tr th {\n        vertical-align: top;\n    }\n\n    .dataframe thead th {\n        text-align: right;\n    }\n</style>\n<table border=\"1\" class=\"dataframe\">\n  <thead>\n    <tr style=\"text-align: right;\">\n      <th></th>\n      <th>Identifier</th>\n      <th>Bedroom</th>\n      <th>Price</th>\n      <th>Average_Market_Days</th>\n      <th>RegionName_Crosby</th>\n      <th>RegionName_Houston</th>\n      <th>RegionName_Pasadena</th>\n      <th>RegionName_Porter</th>\n      <th>State_TX</th>\n      <th>Metro_Houston-The Woodlands-Sugar Land</th>\n      <th>CountyName_Harris County</th>\n      <th>CountyName_Montgomery County</th>\n    </tr>\n    <tr>\n      <th>Date</th>\n      <th></th>\n      <th></th>\n      <th></th>\n      <th></th>\n      <th></th>\n      <th></th>\n      <th></th>\n      <th></th>\n      <th></th>\n      <th></th>\n      <th></th>\n      <th></th>\n    </tr>\n  </thead>\n  <tbody>\n    <tr>\n      <th>2010-01-31</th>\n      <td>2</td>\n      <td>1</td>\n      <td>67653.0</td>\n      <td>133.0</td>\n      <td>0</td>\n      <td>1</td>\n      <td>0</td>\n      <td>0</td>\n      <td>1</td>\n      <td>1</td>\n      <td>1</td>\n      <td>0</td>\n    </tr>\n    <tr>\n      <th>2010-01-31</th>\n      <td>2</td>\n      <td>2</td>\n      <td>89995.0</td>\n      <td>133.0</td>\n      <td>0</td>\n      <td>1</td>\n      <td>0</td>\n      <td>0</td>\n      <td>1</td>\n      <td>1</td>\n      <td>1</td>\n      <td>0</td>\n    </tr>\n    <tr>\n      <th>2010-01-31</th>\n      <td>2</td>\n      <td>3</td>\n      <td>116641.0</td>\n      <td>133.0</td>\n      <td>0</td>\n      <td>1</td>\n      <td>0</td>\n      <td>0</td>\n      <td>1</td>\n      <td>1</td>\n      <td>1</td>\n      <td>0</td>\n    </tr>\n    <tr>\n      <th>2010-01-31</th>\n      <td>2</td>\n      <td>4</td>\n      <td>167849.0</td>\n      <td>133.0</td>\n      <td>0</td>\n      <td>1</td>\n      <td>0</td>\n      <td>0</td>\n      <td>1</td>\n      <td>1</td>\n      <td>1</td>\n      <td>0</td>\n    </tr>\n    <tr>\n      <th>2010-01-31</th>\n      <td>2</td>\n      <td>5</td>\n      <td>303323.0</td>\n      <td>133.0</td>\n      <td>0</td>\n      <td>1</td>\n      <td>0</td>\n      <td>0</td>\n      <td>1</td>\n      <td>1</td>\n      <td>1</td>\n      <td>0</td>\n    </tr>\n    <tr>\n      <th>...</th>\n      <td>...</td>\n      <td>...</td>\n      <td>...</td>\n      <td>...</td>\n      <td>...</td>\n      <td>...</td>\n      <td>...</td>\n      <td>...</td>\n      <td>...</td>\n      <td>...</td>\n      <td>...</td>\n      <td>...</td>\n    </tr>\n    <tr>\n      <th>2020-02-29</th>\n      <td>223</td>\n      <td>1</td>\n      <td>79380.0</td>\n      <td>100.0</td>\n      <td>0</td>\n      <td>0</td>\n      <td>1</td>\n      <td>0</td>\n      <td>1</td>\n      <td>1</td>\n      <td>1</td>\n      <td>0</td>\n    </tr>\n    <tr>\n      <th>2020-02-29</th>\n      <td>223</td>\n      <td>2</td>\n      <td>121517.0</td>\n      <td>100.0</td>\n      <td>0</td>\n      <td>0</td>\n      <td>1</td>\n      <td>0</td>\n      <td>1</td>\n      <td>1</td>\n      <td>1</td>\n      <td>0</td>\n    </tr>\n    <tr>\n      <th>2020-02-29</th>\n      <td>223</td>\n      <td>3</td>\n      <td>159204.0</td>\n      <td>100.0</td>\n      <td>0</td>\n      <td>0</td>\n      <td>1</td>\n      <td>0</td>\n      <td>1</td>\n      <td>1</td>\n      <td>1</td>\n      <td>0</td>\n    </tr>\n    <tr>\n      <th>2020-02-29</th>\n      <td>1811</td>\n      <td>2</td>\n      <td>157660.0</td>\n      <td>108.0</td>\n      <td>0</td>\n      <td>0</td>\n      <td>0</td>\n      <td>1</td>\n      <td>1</td>\n      <td>1</td>\n      <td>0</td>\n      <td>1</td>\n    </tr>\n    <tr>\n      <th>2020-02-29</th>\n      <td>2134</td>\n      <td>2</td>\n      <td>125585.0</td>\n      <td>156.0</td>\n      <td>1</td>\n      <td>0</td>\n      <td>0</td>\n      <td>0</td>\n      <td>1</td>\n      <td>1</td>\n      <td>1</td>\n      <td>0</td>\n    </tr>\n  </tbody>\n</table>\n<p>1220 rows × 12 columns</p>\n</div>"
     },
     "metadata": {},
     "execution_count": 172
    }
   ],
   "source": [
    "housing_data_df = pd.get_dummies(housing_data_df, columns=['RegionName', 'State', 'Metro', 'CountyName'])\n",
    "housing_data_df"
   ]
  },
  {
   "cell_type": "code",
   "execution_count": 176,
   "metadata": {},
   "outputs": [],
   "source": [
    "# Saving the encoded dataset\n",
    "file_path = Path(\"../data/housing_data_encoded.csv\")\n",
    "housing_data_df.to_csv(file_path, index=False)\n"
   ]
  },
  {
   "cell_type": "code",
   "execution_count": null,
   "metadata": {},
   "outputs": [],
   "source": []
  }
 ]
}